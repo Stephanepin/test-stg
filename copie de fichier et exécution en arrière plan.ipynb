{
 "cells": [
  {
   "cell_type": "code",
   "execution_count": 8,
   "id": "3b100fc5",
   "metadata": {},
   "outputs": [],
   "source": [
    "import filecmp\n",
    "from filecmp import dircmp\n",
    "import os\n",
    "import shutil\n",
    "import distutils.dir_util\n",
    "#import time\n",
    "import threading\n",
    "import schedule\n",
    "import queue\n",
    "import os\n",
    "import pandas as pd\n",
    "import numpy as np\n",
    "from bs4 import BeautifulSoup\n",
    "import os.path, time\n",
    "from datetime import datetime, timedelta\n",
    "import datetime\n",
    "from time import strftime\n"
   ]
  },
  {
   "cell_type": "code",
   "execution_count": 9,
   "id": "d3494f05",
   "metadata": {},
   "outputs": [],
   "source": [
    "def copy():\n",
    "    src=\"U:\\stage\\BAL_Lyon\"\n",
    "    dst=\"U:\\stage1\"\n",
    "    for item in os.listdir(src):\n",
    "        s = os.path.join(src, item)\n",
    "        d = os.path.join(dst, item)\n",
    "        if not os.path.exists(d) and os.path.isdir(s):\n",
    "            shutil.copytree(s, d)\n",
    "        else:\n",
    "            if os.path.isfile(s):\n",
    "                shutil.copy2(s, d,follow_symlinks=True)\n",
    "                \n"
   ]
  },
  {
   "cell_type": "code",
   "execution_count": 13,
   "id": "1b5d366b",
   "metadata": {},
   "outputs": [],
   "source": [
    "copy()"
   ]
  },
  {
   "cell_type": "code",
   "execution_count": 7,
   "id": "4e5fc4f7",
   "metadata": {},
   "outputs": [],
   "source": [
    "def run_continuously(interval=1):\n",
    "    \n",
    "    cease_continuous_run = threading.Event()\n",
    "\n",
    "    class ScheduleThread(threading.Thread):\n",
    "        @classmethod\n",
    "        def run(cls):\n",
    "            while not cease_continuous_run.is_set():\n",
    "                schedule.run_pending()\n",
    "                time.sleep(interval)\n",
    "\n",
    "    continuous_thread = ScheduleThread()\n",
    "    continuous_thread.start()\n",
    "    return cease_continuous_run\n",
    "\n",
    "#schedule.every(10).seconds.do(copy)\n",
    "schedule.every(10).minutes.do(copy)\n",
    "\n",
    "# Start the background thread\n",
    "stop_run_continuously = run_continuously()\n",
    "\n",
    "# Do some other things...\n",
    "time.sleep(10)\n",
    "\n",
    "# Stop the background thread\n",
    "#stop_run_continuously.set()"
   ]
  },
  {
   "cell_type": "code",
   "execution_count": 8,
   "id": "bd5599d9",
   "metadata": {},
   "outputs": [
    {
     "data": {
      "text/plain": [
       "<threading.Event at 0x179750ea730>"
      ]
     },
     "execution_count": 8,
     "metadata": {},
     "output_type": "execute_result"
    },
    {
     "name": "stderr",
     "output_type": "stream",
     "text": [
      "Exception in thread Exception in thread Thread-7:\n",
      "Traceback (most recent call last):\n",
      "  File \"C:\\Users\\bertille.lekeufack\\.conda\\envs\\stage1\\lib\\threading.py\", line 932, in _bootstrap_inner\n",
      "Thread-8:\n",
      "Traceback (most recent call last):\n",
      "  File \"C:\\Users\\bertille.lekeufack\\.conda\\envs\\stage1\\lib\\threading.py\", line 932, in _bootstrap_inner\n",
      "    self.run()\n",
      "  File \"<ipython-input-7-9a2657ebe385>\", line 9, in run\n",
      "    self.run()\n",
      "  File \"<ipython-input-7-9a2657ebe385>\", line 9, in run\n",
      "  File \"C:\\Users\\bertille.lekeufack\\.conda\\envs\\stage1\\lib\\site-packages\\schedule\\__init__.py\", line 780, in run_pending\n",
      "  File \"C:\\Users\\bertille.lekeufack\\.conda\\envs\\stage1\\lib\\site-packages\\schedule\\__init__.py\", line 780, in run_pending\n",
      "        default_scheduler.run_pending()\n",
      "  File \"C:\\Users\\bertille.lekeufack\\.conda\\envs\\stage1\\lib\\site-packages\\schedule\\__init__.py\", line 100, in run_pending\n",
      "default_scheduler.run_pending()\n",
      "  File \"C:\\Users\\bertille.lekeufack\\.conda\\envs\\stage1\\lib\\site-packages\\schedule\\__init__.py\", line 100, in run_pending\n",
      "    self._run_job(job)\n",
      "  File \"C:\\Users\\bertille.lekeufack\\.conda\\envs\\stage1\\lib\\site-packages\\schedule\\__init__.py\", line 172, in _run_job\n",
      "    self._run_job(job)\n",
      "  File \"C:\\Users\\bertille.lekeufack\\.conda\\envs\\stage1\\lib\\site-packages\\schedule\\__init__.py\", line 172, in _run_job\n",
      "    ret = job.run()\n",
      "  File \"C:\\Users\\bertille.lekeufack\\.conda\\envs\\stage1\\lib\\site-packages\\schedule\\__init__.py\", line 661, in run\n",
      "    ret = job.run()\n",
      "  File \"C:\\Users\\bertille.lekeufack\\.conda\\envs\\stage1\\lib\\site-packages\\schedule\\__init__.py\", line 661, in run\n",
      "    ret = self.job_func()\n",
      "  File \"<ipython-input-4-a662bf6026a2>\", line 4, in copy\n",
      "    ret = self.job_func()\n",
      "  File \"<ipython-input-4-a662bf6026a2>\", line 4, in copy\n",
      "FileNotFoundError: [WinError 53] Le chemin réseau n’a pas été trouvé: 'U:\\\\stage\\\\BAL_Lyon'\n",
      "FileNotFoundError: [WinError 53] Le chemin réseau n’a pas été trouvé: 'U:\\\\stage\\\\BAL_Lyon'\n"
     ]
    }
   ],
   "source": [
    "run_continuously(interval=1)"
   ]
  },
  {
   "cell_type": "code",
   "execution_count": null,
   "id": "27f6bf46",
   "metadata": {},
   "outputs": [],
   "source": [
    "import pandas as pd\n",
    "import glob\n",
    "\n",
    "path = \"C:/Users/bertille.lekeufack/Stage/xlsx/\" # use your path\n",
    "all_files = glob.glob(path + \"*.xlsx\")\n",
    "\n",
    "list_total_file = []\n",
    "\n",
    "for filename in all_files:\n",
    "    df = pd.read_excel(filename, index_col=None, header=0, engine='openpyxl')\n",
    "    list_total_file.append(df)\n",
    "\n",
    "frame = pd.concat(list_total_file, axis=0, ignore_index=True)"
   ]
  },
  {
   "cell_type": "code",
   "execution_count": null,
   "id": "c34868db",
   "metadata": {},
   "outputs": [],
   "source": [
    "#recupérer le nom du fichier sans extention\n",
    "AwKN = ActiveWorkbook.Name\n",
    "SplitAwKN = Split(AwKN, \".\")\n",
    "NomFichier = SplitAwKN(0)\n"
   ]
  },
  {
   "cell_type": "code",
   "execution_count": null,
   "id": "1711ecab",
   "metadata": {},
   "outputs": [],
   "source": [
    "#extraire les données les nouveaux fichiers\n",
    "import pandas as pd\n",
    "import glob\n",
    "\n",
    "path = \"C:/Users/bertille.lekeufack/Stage/xlsx/\" # use your path\n",
    "all_files = glob.glob(path + \"*.xlsx\")\n",
    "\n",
    "list_total_file = []\n",
    "\n",
    "for filename in all_files:\n",
    "    Splitfilename = Split(filename, \".\")\n",
    "    Nomfilename = Splitfilename(0)\n",
    "    Nomfilename = Nomfilename.year\n",
    "    if Nomfilename == date_entree:\n",
    "        df = pd.read_excel(filename, index_col=None, header=0, engine='openpyxl')\n",
    "        list_total_file.append(df)\n",
    "\n",
    "frame = pd.concat(list_total_file, axis=0, ignore_index=True)"
   ]
  },
  {
   "cell_type": "code",
   "execution_count": null,
   "id": "903521e1",
   "metadata": {},
   "outputs": [],
   "source": [
    "def get_different_rows(source_df, new_df):\n",
    "    \"\"\"Returns just the rows from the new dataframe that differ from the source dataframe\"\"\"\n",
    "    merged_df = source_df.merge(new_df, indicator=True, how='outer')\n",
    "    changed_rows_df = merged_df[merged_df['_merge'] == 'right_only']\n",
    "    return changed_rows_df.drop('_merge', axis=1)"
   ]
  }
 ],
 "metadata": {
  "kernelspec": {
   "display_name": "Python 3",
   "language": "python",
   "name": "python3"
  },
  "language_info": {
   "codemirror_mode": {
    "name": "ipython",
    "version": 3
   },
   "file_extension": ".py",
   "mimetype": "text/x-python",
   "name": "python",
   "nbconvert_exporter": "python",
   "pygments_lexer": "ipython3",
   "version": "3.8.8"
  }
 },
 "nbformat": 4,
 "nbformat_minor": 5
}
