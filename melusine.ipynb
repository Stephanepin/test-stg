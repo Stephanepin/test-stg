{
 "cells": [
  {
   "cell_type": "code",
   "execution_count": 1,
   "metadata": {},
   "outputs": [],
   "source": [
    "import tensorflow"
   ]
  },
  {
   "cell_type": "code",
   "execution_count": 2,
   "metadata": {},
   "outputs": [],
   "source": [
    "import melusine\n",
    "import pandas as pd"
   ]
  },
  {
   "cell_type": "code",
   "execution_count": null,
   "metadata": {},
   "outputs": [],
   "source": [
    "df1 = pd.read_excel(\"final_210416.xlsx\",engine='openpyxl')"
   ]
  },
  {
   "cell_type": "code",
   "execution_count": null,
   "metadata": {},
   "outputs": [],
   "source": [
    "df1.rename(columns = {'Messages': 'body'})"
   ]
  },
  {
   "cell_type": "code",
   "execution_count": null,
   "metadata": {},
   "outputs": [],
   "source": [
    "df_email = df1.head(1900)"
   ]
  },
  {
   "cell_type": "code",
   "execution_count": 6,
   "metadata": {},
   "outputs": [],
   "source": [
    "from sklearn.pipeline import Pipeline\n",
    "from melusine.utils.transformer_scheduler import TransformerScheduler\n",
    "from melusine.prepare_email.manage_transfer_reply import check_mail_begin_by_transfer, update_info_for_transfer_mail, add_boolean_transfer, add_boolean_answer\n",
    "from melusine.prepare_email.build_historic import build_historic\n",
    "from melusine.prepare_email.mail_segmenting import structure_email\n",
    "from melusine.prepare_email.body_header_extraction import extract_last_body\n",
    "from melusine.prepare_email.cleaning import clean_body"
   ]
  },
  {
   "cell_type": "code",
   "execution_count": 7,
   "metadata": {},
   "outputs": [
    {
     "data": {
      "text/html": [
       "<div>\n",
       "<style scoped>\n",
       "    .dataframe tbody tr th:only-of-type {\n",
       "        vertical-align: middle;\n",
       "    }\n",
       "\n",
       "    .dataframe tbody tr th {\n",
       "        vertical-align: top;\n",
       "    }\n",
       "\n",
       "    .dataframe thead th {\n",
       "        text-align: right;\n",
       "    }\n",
       "</style>\n",
       "<table border=\"1\" class=\"dataframe\">\n",
       "  <thead>\n",
       "    <tr style=\"text-align: right;\">\n",
       "      <th></th>\n",
       "      <th>body</th>\n",
       "      <th>header</th>\n",
       "      <th>date</th>\n",
       "      <th>from</th>\n",
       "      <th>to</th>\n",
       "      <th>attachment</th>\n",
       "      <th>sexe</th>\n",
       "      <th>age</th>\n",
       "      <th>label</th>\n",
       "    </tr>\n",
       "  </thead>\n",
       "  <tbody>\n",
       "    <tr>\n",
       "      <th>0</th>\n",
       "      <td>\\n  \\n  \\n  \\n ----- Transféré par Conseiller...</td>\n",
       "      <td>Tr : Devis habitation</td>\n",
       "      <td>jeudi 24 mai 2018 11 h 49 CEST</td>\n",
       "      <td>conseiller1@societeimaginaire.fr</td>\n",
       "      <td>demandes@societeimaginaire.fr</td>\n",
       "      <td>[]</td>\n",
       "      <td>F</td>\n",
       "      <td>35</td>\n",
       "      <td>habitation</td>\n",
       "    </tr>\n",
       "    <tr>\n",
       "      <th>1</th>\n",
       "      <td>\\n  \\n  \\n  \\n ----- Transféré par Conseiller...</td>\n",
       "      <td>Tr : Immatriculation voiture</td>\n",
       "      <td>vendredi 25 mai 2018 06 h 21 CEST</td>\n",
       "      <td>conseiller1@societeimaginaire.fr</td>\n",
       "      <td>demandes@societeimaginaire.fr</td>\n",
       "      <td>[\"pj.pdf\"]</td>\n",
       "      <td>M</td>\n",
       "      <td>32</td>\n",
       "      <td>vehicule</td>\n",
       "    </tr>\n",
       "    <tr>\n",
       "      <th>2</th>\n",
       "      <td>\\n  \\n  \\n Bonjours, \\n  \\n Suite a notre con...</td>\n",
       "      <td>Re: Envoi d'un document de la Société Imaginaire</td>\n",
       "      <td>vendredi 25 mai 2018 06 h 45 CEST</td>\n",
       "      <td>Monsieur Dupont &lt;monsieurdupont@extensiona.com&gt;</td>\n",
       "      <td>demandes@societeimaginaire.fr</td>\n",
       "      <td>[]</td>\n",
       "      <td>M</td>\n",
       "      <td>66</td>\n",
       "      <td>compte</td>\n",
       "    </tr>\n",
       "    <tr>\n",
       "      <th>3</th>\n",
       "      <td>\\n  \\n  \\n  \\n  \\n Bonjour, \\n  \\n  \\n Je fai...</td>\n",
       "      <td>Re: Votre adhésion à la Société Imaginaire</td>\n",
       "      <td>vendredi 25 mai 2018 10 h 15 CEST</td>\n",
       "      <td>Monsieur Dupont &lt;monsieurdupont@extensiond.com&gt;</td>\n",
       "      <td>demandes@societeimaginaire.fr</td>\n",
       "      <td>[\"fichedepaie.png\"]</td>\n",
       "      <td>M</td>\n",
       "      <td>50</td>\n",
       "      <td>adhesion</td>\n",
       "    </tr>\n",
       "    <tr>\n",
       "      <th>4</th>\n",
       "      <td>\\n  \\n  \\n Bonjour, \\n Voici ci joint mon bul...</td>\n",
       "      <td>Bulletin de salaire</td>\n",
       "      <td>vendredi 25 mai 2018 17 h 30 CEST</td>\n",
       "      <td>Monsieur Dupont &lt;monsieurdupont@extensiona.com&gt;</td>\n",
       "      <td>demandes@societeimaginaire.fr</td>\n",
       "      <td>[\"pj.pdf\"]</td>\n",
       "      <td>M</td>\n",
       "      <td>15</td>\n",
       "      <td>adhesion</td>\n",
       "    </tr>\n",
       "  </tbody>\n",
       "</table>\n",
       "</div>"
      ],
      "text/plain": [
       "                                                body  \\\n",
       "0   \\n  \\n  \\n  \\n ----- Transféré par Conseiller...   \n",
       "1   \\n  \\n  \\n  \\n ----- Transféré par Conseiller...   \n",
       "2   \\n  \\n  \\n Bonjours, \\n  \\n Suite a notre con...   \n",
       "3   \\n  \\n  \\n  \\n  \\n Bonjour, \\n  \\n  \\n Je fai...   \n",
       "4   \\n  \\n  \\n Bonjour, \\n Voici ci joint mon bul...   \n",
       "\n",
       "                                             header  \\\n",
       "0                             Tr : Devis habitation   \n",
       "1                      Tr : Immatriculation voiture   \n",
       "2  Re: Envoi d'un document de la Société Imaginaire   \n",
       "3        Re: Votre adhésion à la Société Imaginaire   \n",
       "4                               Bulletin de salaire   \n",
       "\n",
       "                                date  \\\n",
       "0     jeudi 24 mai 2018 11 h 49 CEST   \n",
       "1  vendredi 25 mai 2018 06 h 21 CEST   \n",
       "2  vendredi 25 mai 2018 06 h 45 CEST   \n",
       "3  vendredi 25 mai 2018 10 h 15 CEST   \n",
       "4  vendredi 25 mai 2018 17 h 30 CEST   \n",
       "\n",
       "                                              from  \\\n",
       "0                 conseiller1@societeimaginaire.fr   \n",
       "1                 conseiller1@societeimaginaire.fr   \n",
       "2  Monsieur Dupont <monsieurdupont@extensiona.com>   \n",
       "3  Monsieur Dupont <monsieurdupont@extensiond.com>   \n",
       "4  Monsieur Dupont <monsieurdupont@extensiona.com>   \n",
       "\n",
       "                              to           attachment sexe  age       label  \n",
       "0  demandes@societeimaginaire.fr                   []    F   35  habitation  \n",
       "1  demandes@societeimaginaire.fr           [\"pj.pdf\"]    M   32    vehicule  \n",
       "2  demandes@societeimaginaire.fr                   []    M   66      compte  \n",
       "3  demandes@societeimaginaire.fr  [\"fichedepaie.png\"]    M   50    adhesion  \n",
       "4  demandes@societeimaginaire.fr           [\"pj.pdf\"]    M   15    adhesion  "
      ]
     },
     "execution_count": 7,
     "metadata": {},
     "output_type": "execute_result"
    }
   ],
   "source": [
    "from melusine.data.data_loader import load_email_data\n",
    "\n",
    "df_email = load_email_data()\n",
    "df_email.head()"
   ]
  },
  {
   "cell_type": "code",
   "execution_count": 8,
   "metadata": {},
   "outputs": [],
   "source": [
    "ManageTransferReply = TransformerScheduler(\n",
    "functions_scheduler=[\n",
    "    (check_mail_begin_by_transfer, None, ['is_begin_by_transfer']),\n",
    "    (update_info_for_transfer_mail, None, None),\n",
    "    (add_boolean_answer, None, ['is_answer']),\n",
    "    (add_boolean_transfer, None, ['is_transfer'])\n",
    "])\n",
    "\n",
    "EmailSegmenting = TransformerScheduler(\n",
    "functions_scheduler=[\n",
    "    (build_historic, None, ['structured_historic']),\n",
    "    (structure_email, None, ['structured_body'])\n",
    "])\n",
    "\n",
    "Cleaning = TransformerScheduler(\n",
    "functions_scheduler=[\n",
    "    (extract_last_body, None, ['last_body']),\n",
    "    (clean_body, None, ['clean_body'])\n",
    "])\n",
    "\n",
    "prepare_data_pipeline = Pipeline([\n",
    "  ('ManageTransferReply', ManageTransferReply),\n",
    "  ('EmailSegmenting', EmailSegmenting),\n",
    "  ('Cleaning', Cleaning),\n",
    "])\n",
    "\n",
    "df_email = prepare_data_pipeline.fit_transform(df_email)"
   ]
  },
  {
   "cell_type": "code",
   "execution_count": 9,
   "metadata": {},
   "outputs": [],
   "source": [
    "from melusine.nlp_tools.phraser import Phraser, phraser_on_body"
   ]
  },
  {
   "cell_type": "code",
   "execution_count": 10,
   "metadata": {},
   "outputs": [],
   "source": [
    "#import warnings\n",
    "#warnings.filterwarnings('ignore')\n",
    "\n",
    "from melusine.nlp_tools.tokenizer import Tokenizer\n"
   ]
  },
  {
   "cell_type": "code",
   "execution_count": 11,
   "metadata": {},
   "outputs": [
    {
     "ename": "TypeError",
     "evalue": "__init__() got an unexpected keyword argument 'common_terms'",
     "output_type": "error",
     "traceback": [
      "\u001b[1;31m---------------------------------------------------------------------------\u001b[0m",
      "\u001b[1;31mTypeError\u001b[0m                                 Traceback (most recent call last)",
      "\u001b[1;32m<ipython-input-11-df323704f9a8>\u001b[0m in \u001b[0;36m<module>\u001b[1;34m\u001b[0m\n\u001b[0;32m      1\u001b[0m \u001b[0mphraser\u001b[0m \u001b[1;33m=\u001b[0m \u001b[0mPhraser\u001b[0m\u001b[1;33m(\u001b[0m\u001b[0minput_column\u001b[0m\u001b[1;33m=\u001b[0m\u001b[1;34m'clean_body'\u001b[0m\u001b[1;33m)\u001b[0m\u001b[1;33m\u001b[0m\u001b[1;33m\u001b[0m\u001b[0m\n\u001b[1;32m----> 2\u001b[1;33m \u001b[0mphraser\u001b[0m\u001b[1;33m.\u001b[0m\u001b[0mtrain\u001b[0m\u001b[1;33m(\u001b[0m\u001b[0mdf_email\u001b[0m\u001b[1;33m)\u001b[0m\u001b[1;33m\u001b[0m\u001b[1;33m\u001b[0m\u001b[0m\n\u001b[0m\u001b[0;32m      3\u001b[0m \u001b[1;33m\u001b[0m\u001b[0m\n\u001b[0;32m      4\u001b[0m PhraserTransformer = TransformerScheduler(\n\u001b[0;32m      5\u001b[0m functions_scheduler=[\n",
      "\u001b[1;32m~\\AppData\\Roaming\\Python\\Python38\\site-packages\\melusine\\nlp_tools\\phraser.py\u001b[0m in \u001b[0;36mtrain\u001b[1;34m(self, X)\u001b[0m\n\u001b[0;32m    254\u001b[0m         \u001b[0mself\u001b[0m\u001b[1;33m.\u001b[0m\u001b[0mlogger\u001b[0m\u001b[1;33m.\u001b[0m\u001b[0minfo\u001b[0m\u001b[1;33m(\u001b[0m\u001b[1;34m\"Start training for colocation detector\"\u001b[0m\u001b[1;33m)\u001b[0m\u001b[1;33m\u001b[0m\u001b[1;33m\u001b[0m\u001b[0m\n\u001b[0;32m    255\u001b[0m         \u001b[0mself\u001b[0m\u001b[1;33m.\u001b[0m\u001b[0mstreamer\u001b[0m\u001b[1;33m.\u001b[0m\u001b[0mto_stream\u001b[0m\u001b[1;33m(\u001b[0m\u001b[0mX\u001b[0m\u001b[1;33m)\u001b[0m\u001b[1;33m\u001b[0m\u001b[1;33m\u001b[0m\u001b[0m\n\u001b[1;32m--> 256\u001b[1;33m         phrases = gensim.models.Phrases(\n\u001b[0m\u001b[0;32m    257\u001b[0m             \u001b[0mself\u001b[0m\u001b[1;33m.\u001b[0m\u001b[0mstreamer\u001b[0m\u001b[1;33m.\u001b[0m\u001b[0mstream\u001b[0m\u001b[1;33m,\u001b[0m\u001b[1;33m\u001b[0m\u001b[1;33m\u001b[0m\u001b[0m\n\u001b[0;32m    258\u001b[0m             \u001b[0mcommon_terms\u001b[0m\u001b[1;33m=\u001b[0m\u001b[0mself\u001b[0m\u001b[1;33m.\u001b[0m\u001b[0mcommon_terms\u001b[0m\u001b[1;33m,\u001b[0m\u001b[1;33m\u001b[0m\u001b[1;33m\u001b[0m\u001b[0m\n",
      "\u001b[1;31mTypeError\u001b[0m: __init__() got an unexpected keyword argument 'common_terms'"
     ]
    }
   ],
   "source": [
    "\n",
    "\n",
    "phraser = Phraser(input_column='clean_body')\n",
    "phraser.train(df_email)\n",
    "\n",
    "PhraserTransformer = TransformerScheduler(\n",
    "functions_scheduler=[\n",
    "    (phraser_on_body, (phraser,), ['clean_body'])\n",
    "])\n",
    "\n",
    "phraser_tokenizer_pipeline = Pipeline([\n",
    "  ('PhraserTransformer', PhraserTransformer),\n",
    "  ('Tokenizer', Tokenizer(input_column='clean_body'))\n",
    "])\n",
    "\n",
    "df_email = phraser_tokenizer_pipeline.fit_transform(df_email)"
   ]
  },
  {
   "cell_type": "code",
   "execution_count": null,
   "metadata": {},
   "outputs": [],
   "source": [
    "from melusine.nlp_tools.embedding import Embedding\n",
    "\n",
    "embedding = Embedding(input_column='clean_body', min_count=10)\n",
    "embedding.train(df_email)"
   ]
  },
  {
   "cell_type": "code",
   "execution_count": 5,
   "metadata": {},
   "outputs": [
    {
     "ename": "NameError",
     "evalue": "name 'df_email' is not defined",
     "output_type": "error",
     "traceback": [
      "\u001b[1;31m---------------------------------------------------------------------------\u001b[0m",
      "\u001b[1;31mNameError\u001b[0m                                 Traceback (most recent call last)",
      "\u001b[1;32m<ipython-input-5-49a2da0ea9aa>\u001b[0m in \u001b[0;36m<module>\u001b[1;34m\u001b[0m\n\u001b[0;32m      7\u001b[0m ])\n\u001b[0;32m      8\u001b[0m \u001b[1;33m\u001b[0m\u001b[0m\n\u001b[1;32m----> 9\u001b[1;33m \u001b[0mdf_meta\u001b[0m \u001b[1;33m=\u001b[0m \u001b[0mmetadata_pipeline\u001b[0m\u001b[1;33m.\u001b[0m\u001b[0mfit_transform\u001b[0m\u001b[1;33m(\u001b[0m\u001b[0mdf_email\u001b[0m\u001b[1;33m)\u001b[0m\u001b[1;33m\u001b[0m\u001b[1;33m\u001b[0m\u001b[0m\n\u001b[0m",
      "\u001b[1;31mNameError\u001b[0m: name 'df_email' is not defined"
     ]
    }
   ],
   "source": [
    "from melusine.prepare_email.metadata_engineering import MetaExtension, MetaDate, Dummifier\n",
    "\n",
    "metadata_pipeline = Pipeline([\n",
    "  ('MetaExtension', MetaExtension()),\n",
    "  ('MetaDate', MetaDate()),\n",
    "  ('Dummifier', Dummifier())\n",
    "])\n",
    "\n",
    "df_meta = metadata_pipeline.fit_transform(df_email)"
   ]
  },
  {
   "cell_type": "code",
   "execution_count": 4,
   "metadata": {},
   "outputs": [
    {
     "ename": "NameError",
     "evalue": "name 'df_email' is not defined",
     "output_type": "error",
     "traceback": [
      "\u001b[1;31m---------------------------------------------------------------------------\u001b[0m",
      "\u001b[1;31mNameError\u001b[0m                                 Traceback (most recent call last)",
      "\u001b[1;32m<ipython-input-4-5096dc77ac7c>\u001b[0m in \u001b[0;36m<module>\u001b[1;34m\u001b[0m\n\u001b[0;32m      2\u001b[0m \u001b[1;33m\u001b[0m\u001b[0m\n\u001b[0;32m      3\u001b[0m \u001b[0mkeywords_generator\u001b[0m \u001b[1;33m=\u001b[0m \u001b[0mKeywordsGenerator\u001b[0m\u001b[1;33m(\u001b[0m\u001b[1;33m)\u001b[0m\u001b[1;33m\u001b[0m\u001b[1;33m\u001b[0m\u001b[0m\n\u001b[1;32m----> 4\u001b[1;33m \u001b[0mdf_email\u001b[0m \u001b[1;33m=\u001b[0m \u001b[0mkeywords_generator\u001b[0m\u001b[1;33m.\u001b[0m\u001b[0mfit_transform\u001b[0m\u001b[1;33m(\u001b[0m\u001b[0mdf_email\u001b[0m\u001b[1;33m)\u001b[0m\u001b[1;33m\u001b[0m\u001b[1;33m\u001b[0m\u001b[0m\n\u001b[0m",
      "\u001b[1;31mNameError\u001b[0m: name 'df_email' is not defined"
     ]
    }
   ],
   "source": [
    "from melusine.summarizer.keywords_generator import KeywordsGenerator\n",
    "\n",
    "keywords_generator = KeywordsGenerator()\n",
    "df_email = keywords_generator.fit_transform(df_email)"
   ]
  },
  {
   "cell_type": "code",
   "execution_count": null,
   "metadata": {},
   "outputs": [],
   "source": [
    "from sklearn.preprocessing import LabelEncoder\n",
    "from melusine.nlp_tools.embedding import Embedding\n",
    "from melusine.models.neural_architectures import cnn_model\n",
    "from melusine.models.train import NeuralModel\n",
    "\n",
    "X = df_email.drop(['label'], axis=1)\n",
    "y = df_email.label\n",
    "\n",
    "le = LabelEncoder()\n",
    "y = le.fit_transform(y)\n",
    "\n",
    "pretrained_embedding = embedding\n",
    "\n",
    "nn_model = NeuralModel(architecture_function=cnn_model,\n",
    "                       pretrained_embedding=pretrained_embedding,\n",
    "                       text_input_column='clean_body')\n",
    "nn_model.fit(X, y, tensorboard_log_dir=\"./data\")\n",
    "y_res = nn_model.predict(X)"
   ]
  },
  {
   "cell_type": "code",
   "execution_count": null,
   "metadata": {},
   "outputs": [],
   "source": []
  }
 ],
 "metadata": {
  "kernelspec": {
   "display_name": "Python 3",
   "language": "python",
   "name": "python3"
  },
  "language_info": {
   "codemirror_mode": {
    "name": "ipython",
    "version": 3
   },
   "file_extension": ".py",
   "mimetype": "text/x-python",
   "name": "python",
   "nbconvert_exporter": "python",
   "pygments_lexer": "ipython3",
   "version": "3.8.8"
  }
 },
 "nbformat": 4,
 "nbformat_minor": 4
}
