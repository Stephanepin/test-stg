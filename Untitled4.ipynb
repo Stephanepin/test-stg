{
 "cells": [
  {
   "cell_type": "code",
   "execution_count": null,
   "id": "8837f0ab",
   "metadata": {},
   "outputs": [],
   "source": [
    "import os\n",
    "import pandas as pd\n",
    "import numpy as np\n",
    "from bs4 import BeautifulSoup\n",
    "import os.path, time\n",
    "from datetime import datetime\n",
    "\n",
    "def total():\n",
    "    tab1 = []\n",
    "    for root, dirs, files in os.walk(\"U:\\stage\\BAL_Lyon\", topdown = False):\n",
    "        for name in files:\n",
    "            fhand = open(os.path.join(root,name),'r',encoding='utf8')\n",
    "            date_crea = time.ctime(os.path.getctime(os.path.join(root,name)))\n",
    "            date_modif = time.ctime(os.path.getmtime(os.path.join(root,name)))\n",
    "            now = datetime.now()\n",
    "            d_file = pd.to_datetime(date_crea)\n",
    "            diff = now - d_file\n",
    "            if diff.seconds<18000:\n",
    "                contenu = fhand.read()\n",
    "                soup = BeautifulSoup(contenu, \"html.parser\")\n",
    "                message = soup.get_text(separator=' ')\n",
    "                d = {'Messages': message,'Nom du fichier':name, 'Date de création':date_crea, 'Date de modification':date_modif}\n",
    "                tab1.append(date)\n",
    "   \n",
    "    df = pd.DataFrame(tab1)\n",
    "    return tab1"
   ]
  },
  {
   "cell_type": "code",
   "execution_count": null,
   "id": "fa6e3a31",
   "metadata": {},
   "outputs": [],
   "source": [
    "total()"
   ]
  },
  {
   "cell_type": "code",
   "execution_count": null,
   "id": "07099c62",
   "metadata": {},
   "outputs": [],
   "source": [
    "import os.path, time\n",
    "#date=strftime(\"%Y-%m-%d %H:%M:%S\", datetime.now())\n",
    "#date = datetime.now().strftime('%Y-%m-%d %H:%M:%S')\n",
    "now=datetime.now()\n",
    "timestamp = datetime.timestamp(now)\n",
    "#print(\"timestamp =\", timestamp)\n",
    "print(now)\n",
    "    "
   ]
  },
  {
   "cell_type": "code",
   "execution_count": null,
   "id": "d5851891",
   "metadata": {},
   "outputs": [],
   "source": [
    "root = r\"U:\\stage\\BAL_Lyon\"\n",
    "name = \"Nouveau document texte.txt\"\n",
    "date_crea = time.ctime(os.path.getctime(os.path.join(root,name)))\n",
    "d=pd.to_datetime(date_crea)\n",
    "#dd=datetime.timestamp(d)\n",
    "print(d)"
   ]
  },
  {
   "cell_type": "code",
   "execution_count": null,
   "id": "836d5322",
   "metadata": {},
   "outputs": [],
   "source": [
    "diff = now - d\n",
    "print(diff.seconds)\n",
    "if diff.seconds<18000:\n",
    "    print('a')"
   ]
  },
  {
   "cell_type": "code",
   "execution_count": 1,
   "id": "d070769f",
   "metadata": {},
   "outputs": [],
   "source": [
    "import streamlit as st\n",
    "import pandas as pd\n",
    "from PIL import Image\n",
    "import pickle\n",
    "import plotly.express as px\n",
    "import os\n",
    "import pandas as pd\n",
    "import numpy as np\n",
    "import calendar\n",
    "from bs4 import BeautifulSoup\n",
    "import os.path, time\n",
    "from filecmp import dircmp\n",
    "import locale\n",
    "import shutil\n",
    "import schedule\n",
    "import threading\n",
    "import re"
   ]
  },
  {
   "cell_type": "code",
   "execution_count": 4,
   "id": "16f52ff6",
   "metadata": {},
   "outputs": [],
   "source": [
    "def extraction():\n",
    "    a=r\"U:\\stage\\BAL_Lyon\"\n",
    "    b=r\"U:\\stage1\"\n",
    "    diff = dircmp(a, b)\n",
    "    ta = []\n",
    "    for ldif_file in diff.left_only:\n",
    "        fhand = open(os.path.join(a, ldif_file), 'r', encoding='utf8')\n",
    "        contenu = fhand.read()\n",
    "        soup = BeautifulSoup(contenu, \"html.parser\")\n",
    "        message = soup.get_text(separator=' ')\n",
    "        date_crea = time.ctime(os.path.getctime(os.path.join(a, ldif_file)))\n",
    "        date_modif = time.ctime(os.path.getmtime(os.path.join(a, ldif_file)))\n",
    "        #######################Préparation de nouveau Messages #############################\n",
    "\n",
    "        ############################fin#####################################################\n",
    "        d = {'Messages': message,'Nom du fichier':ldif_file, 'Date de création':date_crea, 'Date de modification':date_modif}\n",
    "        ta.append(d)\n",
    "        shutil.copyfile(\n",
    "            os.path.join(a, ldif_file),\n",
    "            os.path.join(b, ldif_file)\n",
    "        )\n",
    "    return ta"
   ]
  },
  {
   "cell_type": "code",
   "execution_count": 5,
   "id": "568eb8d8",
   "metadata": {},
   "outputs": [
    {
     "data": {
      "text/plain": [
       "[{'Messages': 'je test le service mais il ne marche pas',\n",
       "  'Nom du fichier': 'Nouveau document texte.txt',\n",
       "  'Date de création': 'Wed Jun  9 14:23:59 2021',\n",
       "  'Date de modification': 'Wed Jun  9 14:25:23 2021'}]"
      ]
     },
     "execution_count": 5,
     "metadata": {},
     "output_type": "execute_result"
    }
   ],
   "source": [
    "extraction()"
   ]
  },
  {
   "cell_type": "code",
   "execution_count": null,
   "id": "ae57d5ce",
   "metadata": {},
   "outputs": [],
   "source": []
  }
 ],
 "metadata": {
  "kernelspec": {
   "display_name": "Python 3",
   "language": "python",
   "name": "python3"
  },
  "language_info": {
   "codemirror_mode": {
    "name": "ipython",
    "version": 3
   },
   "file_extension": ".py",
   "mimetype": "text/x-python",
   "name": "python",
   "nbconvert_exporter": "python",
   "pygments_lexer": "ipython3",
   "version": "3.8.8"
  }
 },
 "nbformat": 4,
 "nbformat_minor": 5
}
