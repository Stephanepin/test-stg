{
 "cells": [
  {
   "cell_type": "markdown",
   "metadata": {
    "colab_type": "text",
    "id": "M0_3Tqdrdy2l"
   },
   "source": [
    "# Accélérer les calculs & analyse d'une classification\n",
    "Objectifs : \n",
    "* 1 comment utiliser le cloud computing pour accélérer les calculs ?\n",
    "* 2 analyser les performances d'un modèle de classification"
   ]
  },
  {
   "cell_type": "markdown",
   "metadata": {
    "colab_type": "text",
    "id": "rwDmtVe8d_XP"
   },
   "source": [
    "## Objectif\n",
    "Nous allons voir comment se servir des services cloud (Google Colab) pour accélerer les calculs du Deep Learning.\n",
    "\n",
    "**Remarque importante :**  vous devez avoir un compte Google pour exécuter le code de cette session"
   ]
  },
  {
   "cell_type": "markdown",
   "metadata": {
    "colab_type": "text",
    "id": "5qJanqshi0DJ"
   },
   "source": [
    "## Partie 1 - Calcul sur Graphic Processing Unit (GPU)\n",
    "\n",
    "Nous allons maintenant changer les paramètres d'exécution de la plateforme *cloud*.  \n",
    "L'architecture **matérielle** standard de Google Colab utilise un CPU (unité centrale de traitement de calcul).\n",
    "\n",
    "Nous allons modifier cette architecture afin d'utiliser un **GPU**.   \n",
    "Un GPU est un accélérateur *matériel* qui nous permettra d'augmenter considérablement la vitesse d'exécution des calculs lors de l'apprentissage du modèle de Deep Learning.\n",
    "\n",
    "Pour réaliser cela, il faut suivre les instructions suivantes :\n",
    "\n",
    "### Paramètrage du Notebook\n",
    "Menu \"Runtime\"\n",
    "\n",
    "* cliquez : Change Runtime Type \n",
    "* Panel Notebook settings\n",
    "* changer \"\"Hardward accelerator\"\n",
    "* Passez de \"None\" à \"GPU\"\n",
    "* cliquez sur \"SAVE\"\n",
    "\n"
   ]
  },
  {
   "cell_type": "markdown",
   "metadata": {
    "colab_type": "text",
    "id": "j53FqPv87ydD"
   },
   "source": [
    "## Vérification du matériel\n",
    "\n",
    "Le code de la cellule suivante permet d'afficher les caractéristiques du matériel qui vous est alloué (mémoire, CPU et GPU)."
   ]
  },
  {
   "cell_type": "code",
   "execution_count": 0,
   "metadata": {
    "colab": {},
    "colab_type": "code",
    "id": "d01PJRLW3MB7"
   },
   "outputs": [],
   "source": [
    "from tensorflow.python.client import device_lib\n",
    "\n",
    "print (\"# number devices = \",len(device_lib.list_local_devices()))\n",
    "\n",
    "for item in device_lib.list_local_devices():\n",
    "  print (item)\n",
    "  print(\"===== * =====\")"
   ]
  },
  {
   "cell_type": "markdown",
   "metadata": {
    "colab_type": "text",
    "id": "5o_co5U6Dnw8"
   },
   "source": [
    "On constate que grâce aux instructions qui précèdent (runTime GPU), on dispose maintenant d'une architecture spécialisée qui va nous permettre de réaliser les calculs qui viennent beaucoup plus rapidement !\n",
    "\n",
    "Par exemple, au moment de rédaction de ce Notebook, la carte graphique (GPU) mise à disposition dans le *cloud* est une Tesla P100.\n",
    "\n",
    "Ce ne sera pas forcément le cas pour vous lorsque vous réaliserez cette exercice car, bien entendu, le matériel évolue constamment ;-)"
   ]
  },
  {
   "cell_type": "markdown",
   "metadata": {
    "colab_type": "text",
    "id": "Y5j9eGKtjrYf"
   },
   "source": [
    "## Chargement des données \n",
    " "
   ]
  },
  {
   "cell_type": "markdown",
   "metadata": {
    "colab_type": "text",
    "id": "D1uZKOcntXgY"
   },
   "source": [
    "### Étape 1 :\n",
    "Cliquez sur l'**onglet de la colonne de gauche** puis sur l'icône du **répertoire** (3ème icône en partant du haut) comme le montre cette copie d'écran :"
   ]
  },
  {
   "cell_type": "markdown",
   "metadata": {
    "colab_type": "text",
    "id": "A1UYw5GysLns"
   },
   "source": [
    "![onglet de la colonne de gauche](https://drive.google.com/uc?id=1d88MtBLFfzxeFzE6lKjiSsoLSiSAfzBv)"
   ]
  },
  {
   "cell_type": "markdown",
   "metadata": {
    "colab_type": "text",
    "id": "klKQG1NauWxl"
   },
   "source": [
    "### Etape 2\n",
    "* 1- Cliquer sur l'icône 'UPLOAD' comme le montre la copie d'écran suivante \n",
    "* 2- A l'aide du sélecteur de fichiers\n",
    "* 3- Sélectionner le fichier `classification-churn.csv`  \n",
    "* 4- Cliquer sur 'Open'\n"
   ]
  },
  {
   "cell_type": "markdown",
   "metadata": {
    "colab_type": "text",
    "id": "Wt1PsOMlvhkl"
   },
   "source": [
    "![alt text](https://drive.google.com/uc?id=10C_sjNOJxrxG8kc4EAJd9iduYC0Dkbm2)"
   ]
  },
  {
   "cell_type": "markdown",
   "metadata": {
    "colab_type": "text",
    "id": "IYYa8e__wOps"
   },
   "source": [
    "### Etape 3 : \n",
    "\n",
    "le fichier `classification-churn.csv` apparaît alors dans la liste des fichiers chargés dans l'espace *cloud* (machine distante) de Google Colab.\n",
    "\n",
    "Vous pouvez alors passer à la suite ...."
   ]
  },
  {
   "cell_type": "markdown",
   "metadata": {
    "colab_type": "text",
    "id": "JnYp9ISrzRIk"
   },
   "source": [
    "![alt text](https://drive.google.com/uc?id=1oFFz2QY5uYy5tP4xfDLYpBj1t5lViW2E)"
   ]
  },
  {
   "cell_type": "markdown",
   "metadata": {
    "colab_type": "text",
    "id": "tQO3sNGSkLmS"
   },
   "source": [
    "## Lecture des données"
   ]
  },
  {
   "cell_type": "code",
   "execution_count": 0,
   "metadata": {
    "colab": {},
    "colab_type": "code",
    "id": "YQBGzISgj2ue"
   },
   "outputs": [],
   "source": [
    "import pandas as pd\n",
    "data_set = pd.read_csv('classification-churn.csv' , sep = \";\")"
   ]
  },
  {
   "cell_type": "code",
   "execution_count": 0,
   "metadata": {
    "colab": {},
    "colab_type": "code",
    "id": "eTOBeOomNWE6"
   },
   "outputs": [],
   "source": [
    "# echantillon aleatoire de quelques lignes\n",
    "data_set.sample(3)"
   ]
  },
  {
   "cell_type": "code",
   "execution_count": 0,
   "metadata": {
    "colab": {},
    "colab_type": "code",
    "id": "Bni0_QGmkb5X"
   },
   "outputs": [],
   "source": [
    "# les colonnes du data set\n",
    "data_set.columns"
   ]
  },
  {
   "cell_type": "markdown",
   "metadata": {
    "colab_type": "text",
    "id": "m3DcrQ02xvKZ"
   },
   "source": [
    "## Description\n",
    "\n",
    "Il s'agit d'un data-set d'un opérateur **telecom**.\n",
    "Les données sont les consommations de service des clients de cet opérateur.\n",
    "\n",
    "Ce sont les données comportementales des clients. Il y a une ligne par client. \n",
    "\n",
    "Les colonnes :\n",
    "* nombre d'appel domestiques\n",
    "* nombre d'appel à l'international\n",
    "etc...\n",
    "\n",
    "La colonne que l'on va chercher à prédire ensemble est la colonne *target*. \n",
    "\n",
    "> * Cette colonne vaut **0** si le client conserve son contrat\n",
    "> * cette colonne vaut **1** si le client *change* d'opérateur et rompt le contrat.\n",
    "\n",
    "L'analyse de ce type de comportement (rupture de contrat) est nommé **churn analysis**. Le terme français est *attrition*.\n",
    "https://fr.wikipedia.org/wiki/Attrition_(taux)\n",
    "\n",
    "En marketing, les clients qui résilient un contrat en cours de durée de vie (avant l'échéance du contrat) sont nommés des *churneurs*.\n",
    "\n",
    "A l'aide du Machine Learning, on peut prédire ces ruptures avant qu'elles ne se produisent et envisager des **actions** afin de les éviter. \n",
    "\n",
    "Par exemple, baisse de tarifs, promotion, avantages, ...\n",
    "\n",
    "C'est une analyse très importante dans de nombreux domaines car la \"fuite\" des clients représentent des montants considérables. \n",
    "\n",
    "Par exemple, jusqu'à 30% des clients partent avant l'échéance de leur contrat d'assurance.\n"
   ]
  },
  {
   "cell_type": "markdown",
   "metadata": {
    "colab_type": "text",
    "id": "7XIyz4e9mGPk"
   },
   "source": [
    "## Préparer les données\n",
    "* enlever les colonnes inutiles\n",
    "* séparer input vs. output"
   ]
  },
  {
   "cell_type": "code",
   "execution_count": 0,
   "metadata": {
    "colab": {},
    "colab_type": "code",
    "id": "eaVVM_pmkqbL"
   },
   "outputs": [],
   "source": [
    "# enlever les colonnes inutiles :\n",
    "if 'Unnamed: 20' in data_set.columns:\n",
    "  data_set = data_set.drop('Unnamed: 20', axis=1)\n",
    "if 'Unnamed: 21' in data_set.columns:\n",
    "  data_set = data_set.drop('Unnamed: 21', axis=1)\n",
    "  data_set.columns"
   ]
  },
  {
   "cell_type": "code",
   "execution_count": 0,
   "metadata": {
    "colab": {},
    "colab_type": "code",
    "id": "kpxiSEuEmQsD"
   },
   "outputs": [],
   "source": [
    "# l'outputs (colonne 'target') -> y\n",
    "if 'target' in data_set.columns:\n",
    "  y = data_set.pop('target')\n",
    "  \n",
    "# le reste en inputs -> X\n",
    "X = data_set.copy()\n",
    "\n",
    "# le nb de colonne\n",
    "input_dim_col = X.shape[1]"
   ]
  },
  {
   "cell_type": "markdown",
   "metadata": {
    "colab_type": "text",
    "id": "La-pIYQnnHUX"
   },
   "source": [
    "### Préambule : import, seed"
   ]
  },
  {
   "cell_type": "code",
   "execution_count": 11,
   "metadata": {
    "colab": {
     "base_uri": "https://localhost:8080/",
     "height": 34
    },
    "colab_type": "code",
    "id": "PIm1oNYWmY2f",
    "outputId": "774d6ac3-2cf1-460a-b3bd-1575db33bc00"
   },
   "outputs": [
    {
     "name": "stderr",
     "output_type": "stream",
     "text": [
      "Using TensorFlow backend.\n"
     ]
    }
   ],
   "source": [
    "import pandas as pd\n",
    "import numpy as np\n",
    "\n",
    "import tensorflow as tf\n",
    "import tensorflow.keras as keras\n",
    "\n",
    "from keras.models import Sequential\n",
    "from keras.layers import Dense\n",
    "from keras.optimizers import SGD\n",
    "from sklearn.preprocessing import LabelEncoder\n",
    "from sklearn.model_selection import train_test_split\n",
    "\n",
    "seed = 31415926"
   ]
  },
  {
   "cell_type": "code",
   "execution_count": 0,
   "metadata": {
    "colab": {},
    "colab_type": "code",
    "id": "BYVzeADdnVck"
   },
   "outputs": [],
   "source": [
    "X_train, X_test, y_train, y_test = train_test_split(X, y , test_size = 0.33 , random_state = seed)"
   ]
  },
  {
   "cell_type": "code",
   "execution_count": 0,
   "metadata": {
    "colab": {},
    "colab_type": "code",
    "id": "GqJGI025HjUI"
   },
   "outputs": [],
   "source": [
    "def get_model():\n",
    "  return keras.Sequential([\n",
    "      keras.layers.Dense(32, input_dim= input_dim_col , activation= tf.nn.sigmoid   ),      \n",
    "      keras.layers.Dense(1 , activation= tf.nn.sigmoid)\n",
    "  ])"
   ]
  },
  {
   "cell_type": "code",
   "execution_count": 0,
   "metadata": {
    "colab": {},
    "colab_type": "code",
    "id": "tZOdS-vQnmDw"
   },
   "outputs": [],
   "source": [
    "model = get_model()\n",
    "\n",
    "epochs = 32 #100\n",
    "batch_size = 64 #32\n",
    "\n",
    "model.compile(loss= 'binary_crossentropy' , optimizer = 'adam', metrics=['accuracy'])"
   ]
  },
  {
   "cell_type": "markdown",
   "metadata": {
    "colab_type": "text",
    "id": "c6hqGj3doGoV"
   },
   "source": [
    "## Apprentissage du modèle de Deep Learning"
   ]
  },
  {
   "cell_type": "code",
   "execution_count": 0,
   "metadata": {
    "colab": {},
    "colab_type": "code",
    "id": "-0d1NHYnoBfV"
   },
   "outputs": [],
   "source": [
    "model.fit(X_train, \n",
    "          y_train, \n",
    "          validation_data=(X_test , y_test), \n",
    "          epochs = epochs, \n",
    "          batch_size = batch_size, \n",
    "          steps_per_epoch=50,\n",
    "          verbose = 1)"
   ]
  },
  {
   "cell_type": "markdown",
   "metadata": {
    "colab_type": "text",
    "id": "S8FrpgxN6-cm"
   },
   "source": [
    "## Conclusion\n",
    "Vous savez maintenant comment modifier l'**architecture matérielle** de la plateforme *cloud computing* pour accélérer les calculs du modèle de Deep Learning\n"
   ]
  },
  {
   "cell_type": "markdown",
   "metadata": {
    "colab_type": "text",
    "id": "C-2YfAQzX1zw"
   },
   "source": [
    "# Partie 2 - Analyse approfondie de la classification\n",
    "\n",
    "La deuxième partie de ce notebook est consacrée à l'analyse du modèle.\n",
    "* on calcule la précision du modèle (*accuracy*)\n",
    "* on montre comment calculer une matrice de confusion\n"
   ]
  },
  {
   "cell_type": "markdown",
   "metadata": {
    "colab_type": "text",
    "id": "70moVjyqoWj4"
   },
   "source": [
    "## Evaluation du modèle de Deep Learning\n",
    "On calcule l'*accuracy* : pourcentage de bonnes prédictions (détection des *churneurs*)."
   ]
  },
  {
   "cell_type": "code",
   "execution_count": 0,
   "metadata": {
    "colab": {},
    "colab_type": "code",
    "id": "T-4Vi4wKoVTz"
   },
   "outputs": [],
   "source": [
    "scores = model.evaluate(X_test , y_test)\n",
    "print (\"accuracy = {}\".format(scores[1]))"
   ]
  },
  {
   "cell_type": "markdown",
   "metadata": {
    "colab_type": "text",
    "id": "Gq6BYtMuK3lU"
   },
   "source": [
    "### Prédire la Classe d'appartenance\n",
    "On cherche à prédire si le client quitte ou pas l'opérateur.\n",
    "\n",
    "* pour calculer une **probabilité** d'appartenance à chaque classe, on utilise `model.predict(X_test)`\n",
    "* pour calculer une **classe** d'appartenance, on utilise `(model.predict(X_test) > 0.5).astype(\"int\")`\n",
    "\n",
    "Cela revient à appliquer un seuil (`0.5`) sur les probabilités. \n",
    "\n",
    "Voici les exemples en code dans les cellules suivantes :"
   ]
  },
  {
   "cell_type": "code",
   "execution_count": 0,
   "metadata": {
    "colab": {},
    "colab_type": "code",
    "id": "_5H3Eh5NJxHJ"
   },
   "outputs": [],
   "source": [
    "y_pred = model.predict(X_test)\n",
    "\n",
    "# affichage \n",
    "y_pred"
   ]
  },
  {
   "cell_type": "markdown",
   "metadata": {
    "colab_type": "text",
    "id": "Yr1x625ZLVuf"
   },
   "source": [
    "Calculons la **classe** (churneur ou pas) pour chaque instance (client)"
   ]
  },
  {
   "cell_type": "code",
   "execution_count": 0,
   "metadata": {
    "colab": {},
    "colab_type": "code",
    "id": "EyN714GRmPeB"
   },
   "outputs": [],
   "source": [
    "y_pred = (model.predict(X_test) > 0.5).astype(\"int\")\n",
    "# ajustement du format ...\n",
    "y_pred = y_pred.reshape(-1)"
   ]
  },
  {
   "cell_type": "markdown",
   "metadata": {
    "colab_type": "text",
    "id": "-B-Gq3yrMJ8G"
   },
   "source": [
    "### Vérification de l'accuracy"
   ]
  },
  {
   "cell_type": "code",
   "execution_count": 0,
   "metadata": {
    "colab": {},
    "colab_type": "code",
    "id": "uAxuZc0bLwit"
   },
   "outputs": [],
   "source": [
    "# Pour comparer chaque prédiction,client par client, avec la vraie valeur :\n",
    "print(y_pred == y_test)\n",
    "print(\"________ * ________\")\n",
    "# accuracy en pourcentage :\n",
    "print(\"accuracy = \" , np.sum(y_pred == y_test)/y_pred.shape[0])"
   ]
  },
  {
   "cell_type": "markdown",
   "metadata": {
    "colab_type": "text",
    "id": "453I8gR4NKzO"
   },
   "source": [
    "## Matrice de Confusion \n",
    "\n",
    "Nous utilisons une matrice de confusion pour interpréter les résultats.\n",
    "\n",
    "La matrice de confusion est un matrice *carrée* comportant autant de lignes qu'il y a de classes dans le problème.\n",
    "\n",
    "Ici, nous avons **deux** classes : churn vs non-churn. Il y aura donc **deux** lignes et **deux** colonnes. \n",
    "Dans notre cas, c'est une matrice 2 x 2\n",
    "\n",
    "En colonne, on reporte les valeurs **prédites** par l'algorithme. \n",
    "(\"*predicted*\" dans le tableau ci-dessous).\n",
    "\n",
    "En ligne, on reporte les valeurs **observées** dans la réalité.\n",
    "(\"*True*\" dans le tableau ci-dessous).\n",
    "\n",
    "On reporte dans le tableau les instances de la manière suivante :\n",
    "\n",
    "> - dans la diagonale principale du tableau le nombre d'instances correctement prédites (*churn* et *non-churn*).  \n",
    "Les vrais-négatifs (*true negative* : `TN`) et les vrais-positifs (*true positive* : `TP`).\n",
    "> - dans les cellules restantes, on reporte les erreurs de classification : les faux-positifs (`FP`) et les faux-négatifs (`FN`) \n",
    "\n",
    "Pour aller plus loin sur la matrice de confusion :\n",
    "https://fr.wikipedia.org/wiki/Matrice_de_confusion\n",
    "\n",
    "Affichage d'une matrice de confusion :"
   ]
  },
  {
   "cell_type": "code",
   "execution_count": 31,
   "metadata": {
    "colab": {
     "base_uri": "https://localhost:8080/",
     "height": 111
    },
    "colab_type": "code",
    "id": "9ZbmpRqgRor-",
    "outputId": "22526bca-24b3-49e5-90db-1989f7429c54"
   },
   "outputs": [
    {
     "data": {
      "text/html": [
       "<div>\n",
       "<style scoped>\n",
       "    .dataframe tbody tr th:only-of-type {\n",
       "        vertical-align: middle;\n",
       "    }\n",
       "\n",
       "    .dataframe tbody tr th {\n",
       "        vertical-align: top;\n",
       "    }\n",
       "\n",
       "    .dataframe thead th {\n",
       "        text-align: right;\n",
       "    }\n",
       "</style>\n",
       "<table border=\"1\" class=\"dataframe\">\n",
       "  <thead>\n",
       "    <tr style=\"text-align: right;\">\n",
       "      <th></th>\n",
       "      <th>predicted-non-churn (0)</th>\n",
       "      <th>predicted-churn (1)</th>\n",
       "    </tr>\n",
       "  </thead>\n",
       "  <tbody>\n",
       "    <tr>\n",
       "      <th>True-non-churn (0)</th>\n",
       "      <td>TN</td>\n",
       "      <td>FP</td>\n",
       "    </tr>\n",
       "    <tr>\n",
       "      <th>True-churn (1)</th>\n",
       "      <td>FN</td>\n",
       "      <td>TP</td>\n",
       "    </tr>\n",
       "  </tbody>\n",
       "</table>\n",
       "</div>"
      ],
      "text/plain": [
       "                   predicted-non-churn (0) predicted-churn (1)\n",
       "True-non-churn (0)                      TN                  FP\n",
       "True-churn (1)                          FN                  TP"
      ]
     },
     "execution_count": 31,
     "metadata": {
      "tags": []
     },
     "output_type": "execute_result"
    }
   ],
   "source": [
    "pd.DataFrame([[\"TN\",\"FP\"],[\"FN\",\"TP\"]],\n",
    "             columns=[\"predicted-non-churn (0)\",\"predicted-churn (1)\"] ,\n",
    "             index=[\"True-non-churn (0)\",\"True-churn (1)\"])"
   ]
  },
  {
   "cell_type": "code",
   "execution_count": 0,
   "metadata": {
    "colab": {},
    "colab_type": "code",
    "id": "8rT31iigNPgs"
   },
   "outputs": [],
   "source": [
    "from sklearn.metrics import confusion_matrix\n",
    "from sklearn.metrics import ConfusionMatrixDisplay\n",
    "\n",
    "conf_mat = confusion_matrix(y_test , y_pred ,labels = [0,1])\n",
    "tn, fp, fn, tp = conf_mat.ravel()"
   ]
  },
  {
   "cell_type": "markdown",
   "metadata": {
    "colab_type": "text",
    "id": "8QSrx6glajR6"
   },
   "source": [
    "Affichage (formatée) de la matrice de confusion"
   ]
  },
  {
   "cell_type": "code",
   "execution_count": 0,
   "metadata": {
    "colab": {},
    "colab_type": "code",
    "id": "JFAndwbzae7M"
   },
   "outputs": [],
   "source": [
    "cm_display = ConfusionMatrixDisplay(conf_mat,[0,1])\n",
    "cm_display.plot()"
   ]
  },
  {
   "cell_type": "code",
   "execution_count": 0,
   "metadata": {
    "colab": {},
    "colab_type": "code",
    "id": "2vJlRX5jZmt-"
   },
   "outputs": [],
   "source": [
    "# la même matrice ... non formatée\n",
    "conf_mat"
   ]
  },
  {
   "cell_type": "markdown",
   "metadata": {
    "colab_type": "text",
    "id": "_hA62UW1awwO"
   },
   "source": [
    "### Analyse des résultats\n",
    "\n",
    "Rappel : \n",
    "* non churneurs (ceux qui restent) ont étiquette `0`\n",
    "* churneurs (ceux qui partent) ont étiquette `1`"
   ]
  },
  {
   "cell_type": "code",
   "execution_count": 0,
   "metadata": {
    "colab": {},
    "colab_type": "code",
    "id": "UrWQRbPtOUm-"
   },
   "outputs": [],
   "source": [
    "print(\"non-churneurs (conservent leurs contrats) correctement detectés = \",tn) \n",
    "print(\"churneurs (résilient leurs contrats) correctement detectés = \" , tp)\n",
    "print(\"churneurs non détectés (résilient leurs contrats en vrai) \" , fn)\n",
    "print(\"faux churneurs (détectés partant mais restant en vrai) = \", fp)"
   ]
  },
  {
   "cell_type": "code",
   "execution_count": 0,
   "metadata": {
    "colab": {},
    "colab_type": "code",
    "id": "GuHaFUqzbu7D"
   },
   "outputs": [],
   "source": [
    "print(\"% de départ non prédits = \" , fn / (fn + tn) )"
   ]
  },
  {
   "cell_type": "code",
   "execution_count": 0,
   "metadata": {
    "colab": {},
    "colab_type": "code",
    "id": "ttn_Tf-IcW0Q"
   },
   "outputs": [],
   "source": [
    "from sklearn.metrics import classification_report\n",
    "\n",
    "print(classification_report(y_test , y_pred , labels=[0 , 1]))"
   ]
  }
 ],
 "metadata": {
  "accelerator": "GPU",
  "colab": {
   "collapsed_sections": [],
   "name": "2496_03_03_boost_computing-analyse-classification.ipynb",
   "provenance": []
  },
  "kernelspec": {
   "display_name": "Python 3",
   "name": "python3"
  }
 },
 "nbformat": 4,
 "nbformat_minor": 0
}
