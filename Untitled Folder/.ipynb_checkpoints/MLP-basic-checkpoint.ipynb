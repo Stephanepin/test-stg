{
 "cells": [
  {
   "cell_type": "markdown",
   "metadata": {
    "colab_type": "text",
    "id": "a0L273EHpqAZ"
   },
   "source": [
    "# Un premier exemple de réseau de neurones avec Keras"
   ]
  },
  {
   "cell_type": "markdown",
   "metadata": {
    "colab_type": "text",
    "id": "lfDUD9dYe-pH"
   },
   "source": [
    "## 0) Objectif\n",
    "\n",
    "Montrer qu'on peut créer, avec Keras, un réseau de neurones tout à fait opérationnel en quelques lignes de code"
   ]
  },
  {
   "cell_type": "markdown",
   "metadata": {
    "colab_type": "text",
    "id": "xkguzzjDp5Jp"
   },
   "source": [
    "### chargement des librairies"
   ]
  },
  {
   "cell_type": "code",
   "execution_count": 0,
   "metadata": {
    "colab": {},
    "colab_type": "code",
    "id": "CyXjqk-0nHm7"
   },
   "outputs": [],
   "source": [
    "# scikit learn : librairie de Machine Learning\n",
    "from sklearn import datasets\n",
    "from sklearn import model_selection\n",
    "\n",
    "# keras : librairie de Deep Learning\n",
    "from keras import models\n",
    "from keras import layers\n",
    "\n",
    "# numpy : utilitaire de calculs\n",
    "import numpy as np\n",
    "\n",
    "# matplotlib : librairie graphique\n",
    "import matplotlib.pyplot as plt"
   ]
  },
  {
   "cell_type": "markdown",
   "metadata": {
    "colab_type": "text",
    "id": "eL7zwM7WqU1V"
   },
   "source": [
    "### figer le générateur de nombres aléatoires"
   ]
  },
  {
   "cell_type": "code",
   "execution_count": 0,
   "metadata": {
    "colab": {},
    "colab_type": "code",
    "id": "ZK89Rz4RnisH"
   },
   "outputs": [],
   "source": [
    "# fix random seed \n",
    "seed = 12345\n",
    "np.random.seed(seed)"
   ]
  },
  {
   "cell_type": "markdown",
   "metadata": {
    "colab_type": "text",
    "id": "xUXAh-dTqah2"
   },
   "source": [
    "## 1) Les Datas\n",
    "Générer un data set : 2 lunes imbriquées l'une dans l'*autre*"
   ]
  },
  {
   "cell_type": "code",
   "execution_count": 0,
   "metadata": {
    "colab": {},
    "colab_type": "code",
    "id": "xtMINU2gnlc0"
   },
   "outputs": [],
   "source": [
    "X,y = datasets.make_moons(n_samples = 1500, shuffle = True, noise = 0.3, random_state = seed)"
   ]
  },
  {
   "cell_type": "markdown",
   "metadata": {
    "colab_type": "text",
    "id": "9tl-v4VAgTS1"
   },
   "source": [
    "###  Un data set synthétique\n",
    "\n",
    "On génère un data set synthétique grâce à la librairie [Scikit-Learn](https://scikit-learn.org/stable/). \n",
    "\n",
    "### Pourquoi un data set synthétique ?\n",
    "\n",
    "C'est très utile lorsqu'on débute ou lorsqu'on met au point un nouveau modèle de pouvoir contrôler la difficulté de la tâche qu'on demande au réseau.\n",
    "\n",
    "Paramètres : \n",
    "- \"noise\" est le niveau de bruit qu'on injecte dans les datas\n",
    "- n_samples : nb de points générés\n",
    "\n",
    "#### description du data set\n",
    "2 lunes imbriquées. \n",
    "\n",
    "Les données sont étiquettées \"0\" ou \"1\" selon qu'elles appartiennent à l'une ou l'autre des 2 lunes."
   ]
  },
  {
   "cell_type": "code",
   "execution_count": 0,
   "metadata": {
    "colab": {},
    "colab_type": "code",
    "id": "NeW1HoykgKXe"
   },
   "outputs": [],
   "source": [
    "#Affichage des étiquettes des premiers points du nuage\n",
    "print (y[0:5])"
   ]
  },
  {
   "cell_type": "markdown",
   "metadata": {
    "colab_type": "text",
    "id": "VfsDPQTyqwKV"
   },
   "source": [
    "## 2) Graphique \n",
    "Faire un graphique en nuage des 2 lunes imbriquées"
   ]
  },
  {
   "cell_type": "code",
   "execution_count": 0,
   "metadata": {
    "colab": {},
    "colab_type": "code",
    "id": "90yTllA2oifE"
   },
   "outputs": [],
   "source": [
    "plt.figure()\n",
    "plt.scatter(X[: , 0] , X[: , 1] , c=y)"
   ]
  },
  {
   "cell_type": "markdown",
   "metadata": {
    "colab_type": "text",
    "id": "PsP2vn4sn4AP"
   },
   "source": [
    "## 3) Créer le réseau de neurones\n",
    "\n",
    "### Marche à suivre générale :\n",
    "On utilise l'API sequential de Keras.\n",
    "\n",
    "Ensuite, on crée les couches (entrée - cachée - sortie)\n",
    "\n",
    "Et enfin, on compile le modèle.\n",
    "C'est la démarche qu'on suivra toujours\n",
    "\n",
    "### Mapping entrée - sortie\n",
    "Dans notre cas. On veut créer un réseau **minimal**\n",
    "qui va apprendre à réaliser le mapping entre les inputs (X) et les outputs (y).\n",
    "\n",
    "Les inputs sont les coordonnées des points représentant les 2 lunes imbriquées.\n",
    "\n",
    "Les outputs sont les classes, les labels (\"0\" ou \"1\") distinguant les 2 lunes\n",
    "\n",
    "En résumé :\n",
    "\n",
    "X -> (MLP) -> y\n",
    "\n",
    "MLP (Multi Layer Perceptron) étant le réseau de neurones chargé de faire le mapping\n",
    "\n",
    "### Keras \n",
    "\n",
    "On utilise l'API [sequentielle](https://keras.io/getting-started/sequential-model-guide/) de Keras"
   ]
  },
  {
   "cell_type": "code",
   "execution_count": 0,
   "metadata": {
    "colab": {},
    "colab_type": "code",
    "id": "Q_RZBI57nv5X"
   },
   "outputs": [],
   "source": [
    "model =  models.Sequential()"
   ]
  },
  {
   "cell_type": "markdown",
   "metadata": {
    "colab_type": "text",
    "id": "rTeXMskDU7EO"
   },
   "source": [
    "### Dimension du Réseau de Neurones\n",
    "1 couche d'entrée composée de **1** neurone\n",
    "\n",
    "1 couche de sortie composée de **1** neurone\n",
    "\n"
   ]
  },
  {
   "cell_type": "code",
   "execution_count": 0,
   "metadata": {
    "colab": {},
    "colab_type": "code",
    "id": "DiVpGL2STrM5"
   },
   "outputs": [],
   "source": [
    "# taille du réseau : 1 neurone en entrée et en sortie\n",
    "nb_neurone_input = 1\n",
    "nb_neurone_output = 1"
   ]
  },
  {
   "cell_type": "markdown",
   "metadata": {
    "colab_type": "text",
    "id": "h52acTOuYtdt"
   },
   "source": [
    "### Fabrication du Réseau de Neurones\n",
    "L'API sequentielle de Keras nécessite de créer les couches de manière successive\n",
    "\n",
    "#### a) Empilement successif de couches\n",
    "\n",
    "On les empile en quelque sorte.\n",
    "\n",
    "Pour cela, on ajoute chaque nouvelle couche au modèle (*\"model\"*) crée au préalable. \n",
    "\n",
    "Cette étape est réalisée par la méthode *add* de notre *\"model\"*\n",
    "\n",
    "#### b) Choix du type de couche\n",
    "Il faut indiquer à la méthode *add* quel est le type de couche que l'on souhaite ajjouter au réseau.\n",
    "\n",
    "Pour cela, on utililse un objet *layers* qui représente la couche.\n",
    "\n",
    "On indique ensuite à *layer* qu'on souhaite ajouter une couche **dense** (\"*Dense*\") \n",
    "#### c) Fonction d'activation\n",
    "La fonction d'activation de la 1ère couche est une fonction sigmoïde :\n"
   ]
  },
  {
   "cell_type": "code",
   "execution_count": 0,
   "metadata": {
    "colab": {},
    "colab_type": "code",
    "id": "fRb_I04VVKIV"
   },
   "outputs": [],
   "source": [
    "# input_dim = 2 (coordonnées des points X en 2D). Fonction activation : sigmoïde\n",
    "model.add(layers.Dense(nb_neurone_input , input_dim = 2,  activation='sigmoid'))\n"
   ]
  },
  {
   "cell_type": "markdown",
   "metadata": {
    "colab_type": "text",
    "id": "j6mdyn3sfnJ2"
   },
   "source": [
    "**Très important :** \n",
    "\n",
    "Pour faire de la classification, la **dernière** couche, celle de décision, doit avoir une fonction d'activation **sigmoïde**.  \n",
    "\n",
    "La forme de la courbe va réaliser la séparation, la classification binaire entre les \"0\" et les \"1\". "
   ]
  },
  {
   "cell_type": "code",
   "execution_count": 0,
   "metadata": {
    "colab": {},
    "colab_type": "code",
    "id": "h7L4vgGsfkqm"
   },
   "outputs": [],
   "source": [
    "model.add(layers.Dense(nb_neurone_output , activation = 'sigmoid'))"
   ]
  },
  {
   "cell_type": "markdown",
   "metadata": {
    "colab_type": "text",
    "id": "FDRYFQmMYYmU"
   },
   "source": [
    "### Optimisation du réseau de neurones\n",
    "#### Fonction d'erreur\n",
    "La fonction d'erreur est la fonction *[binary_crossentropy](https://keras.io/losses/)* \n",
    "\n",
    "Cette fonction d'erreur est calculée à chaque fois qu'on présente un exemple\n",
    "\n",
    "L'objectif est de rendre cette fonction d'erreur la plus petite possible. On la minimise.\n",
    "\n",
    "### Optimizer\n",
    "Pour rendre la fonction d'erreur la plus faible possible, on utilise un [optimizer](https://keras.io/optimizers/).\n",
    "\n",
    "Dans notre cas, on choisit un optimizer \"généraliste\" qui fonctionne correctement le plus souvent pour des data-sets variés "
   ]
  },
  {
   "cell_type": "code",
   "execution_count": 0,
   "metadata": {
    "colab": {},
    "colab_type": "code",
    "id": "0gyrz1AXZfWo"
   },
   "outputs": [],
   "source": [
    "model.compile(loss='binary_crossentropy', optimizer='adam', metrics=['accuracy'])"
   ]
  },
  {
   "cell_type": "markdown",
   "metadata": {
    "colab_type": "text",
    "id": "mqRmQWMWbaBH"
   },
   "source": [
    "### Affichage du réseau\n",
    "Le réseau est prêt. \n",
    "\n",
    "On demande affichage de la structure du réseau (*summary*)"
   ]
  },
  {
   "cell_type": "code",
   "execution_count": 0,
   "metadata": {
    "colab": {},
    "colab_type": "code",
    "id": "egDJgDL-bYcd"
   },
   "outputs": [],
   "source": [
    "model.summary()"
   ]
  },
  {
   "cell_type": "markdown",
   "metadata": {
    "colab_type": "text",
    "id": "VxuUbY7vdMCH"
   },
   "source": [
    "On voit sur cette sortie que Keras a bien empilé 2 couches (Layer) dense"
   ]
  },
  {
   "cell_type": "markdown",
   "metadata": {
    "colab_type": "text",
    "id": "lGmj87fwgDz4"
   },
   "source": [
    "## Résumé\n",
    "On a appris à créer un réseau de neurones en quelques lignes simples en utilisant l'API Keras.\n",
    "\n",
    "Nous possédons maintenant tous les éléments qui nous permettront de réaliser l'apprentissage de ce réseau.\n",
    "\n",
    "\n",
    "Ces éléments indispensables sont :\n",
    "\n",
    "* le Data Set (*X* et *y*)\n",
    "* un réseau de neurones (ou tout autre algorithme de Machine Learning)\n",
    "* une fonction d'erreur à minimiser (*\"binary_crossentropy\"*)\n",
    "* un algorithme (\"*adam*\") qui va modifier les poids des connections pour rendre la fonction d'erreur la plus petite possible\n",
    "\n",
    "\n",
    "\n",
    "\n",
    "\n",
    "\n",
    "\n"
   ]
  }
 ],
 "metadata": {
  "colab": {
   "collapsed_sections": [],
   "name": "2496_01_02-MLP-basic.ipynb",
   "provenance": [],
   "version": "0.3.2"
  },
  "kernelspec": {
   "display_name": "Python 2",
   "name": "python2"
  }
 },
 "nbformat": 4,
 "nbformat_minor": 0
}
