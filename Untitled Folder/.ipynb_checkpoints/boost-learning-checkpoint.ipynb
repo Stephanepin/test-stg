{
 "cells": [
  {
   "cell_type": "markdown",
   "metadata": {
    "colab_type": "text",
    "id": "zy5LV016o2x0"
   },
   "source": [
    "# Améliorer l'apprentissage d'un algorithme de Deep Learning avec Keras"
   ]
  },
  {
   "cell_type": "markdown",
   "metadata": {
    "colab_type": "text",
    "id": "_FKdYVyHpAIU"
   },
   "source": [
    "## Objectif\n",
    "Nous allons voir ensemble comment améliorer la phase d'apprentissage d'un algorithme.\n",
    "Nous commencerons par étudier le *learning rate*\n",
    "* qu'est ce que c'est ?\n",
    "* à quoi cela sert-il ?\n",
    "\n",
    "Puis nous passerons en revue  les méthodes dites de  *learning rate schedule*\n",
    "\n",
    "* Méthode *TIme Based learning rate schedule*\n",
    "* Méthode *Drop Based learning rate schedule*"
   ]
  },
  {
   "cell_type": "markdown",
   "metadata": {
    "colab_type": "text",
    "id": "bAQQTYVAqfMQ"
   },
   "source": [
    "## 1) Le* Learning Rate*"
   ]
  },
  {
   "cell_type": "markdown",
   "metadata": {
    "colab_type": "text",
    "id": "jnbDxpNzql7t"
   },
   "source": [
    "### Qu'est ce que le *Learning Rate* ?\n",
    "Le taux d'apprentissage (*learning rate*) est un **paramètre clé** d'un modèle de Deep Learning.\n",
    "Il est important de comprendre ce qu'il est ainsi que son utilisation.\n",
    "\n",
    "Le taux d'apprentissage est un coefficient, petit. En général, compris entre 0 et 1.\n",
    "Le learning rate permet à l'algorithme d'apprendre durant la phase d'apprentissage.\n",
    "\n",
    "En effet, durant l'apprentissage, l'algorithme modifie le poids des connections entre les neurones qui composent les couches. \n",
    "Les poids sont très fortement modifiés, à chaque itération, lorsque le taux d'apprentissage est élevé (proche de 1).\n",
    "\n",
    "### Comment les poids sont-ils modifiés ?\n",
    "*Cette explication plus détaillée peut être passée dans un premier temps.*\n",
    "\n",
    "Les données d'apprentissage sont regroupées en groupe dénommés \"*batch*\".\n",
    "L'algorithme collecte les erreurs de prédiction au sein d'un *batch* puis calcule la **direction**  qui permettra de réduire le plus l'erreur constatée.\n",
    "\n",
    "Ceci se nomme le calcul du **gradient**. Nous ne rentrerons pas dans les détails mathématiques de ce calcul.\n",
    "\n",
    "**Ce qu'il faut retenir** c'est que le gradient nous donne la direction d'amélioration la plus prometteuse. \n",
    "\n",
    "L'algorithme d'optimisation (*optimizer*) est chargé de modifier les poids afin de réduire au maximum l'erreur de prédiction.\n",
    "Pour cela, l'optimizer se sert de la **direction** donnée par le gradient. \n",
    "Chaque poids du réseau est modifié dans cette direction optimale.\n",
    "\n",
    "Le taux d'apprentissage pour sa part, va atténuer les fluctuations et éviter des changements de direction trop important. \n",
    "En effet, parfois cette direction n'est pas correcte.\n",
    "Le taux d'apprentissage diminue les oscillations autour de la bonne direction de recherche que l'on constate durant la phase d'apprentissage.\n",
    "\n",
    "Le learning rate fixe **l'amplitude** de la modification des poids.\n"
   ]
  },
  {
   "cell_type": "markdown",
   "metadata": {
    "colab_type": "text",
    "id": "Gm_OqNKlqmHW"
   },
   "source": [
    "### A quoi sert le *Learning Rate* ?\n",
    "Le taux d'apprentissage permet d'éviter les oscillations lorsque l'on cherche la valeur des poids des connections.\n",
    "Il y a un arbitrage à faire :\n",
    "* Plus le taux d'apprentissage est faible et plus l'algorithme d'optimisation des poids est lent.\n",
    "\n",
    "* Un taux d'apprentissage élevé permet à l'*optimizer* de progresser plus rapidement ... mais pas toujours dans la bonne direction."
   ]
  },
  {
   "cell_type": "markdown",
   "metadata": {
    "colab_type": "text",
    "id": "7rywIYwzqfZM"
   },
   "source": [
    "## 2) Les stratégies d'amélioration de l'apprentissage"
   ]
  },
  {
   "cell_type": "markdown",
   "metadata": {
    "colab_type": "text",
    "id": "VHK-UOtGqfpr"
   },
   "source": [
    "### Pourquoi ?\n",
    "\n",
    "Le taux d'apprentissage  aide à stimuler la **phase d'apprentissage**.\n",
    "\n",
    "Ceci permet \n",
    "* d'augmenter les performances \n",
    "* réduire le temps d'entraînement\n",
    "\n",
    "### Comment ?\n",
    "L'ensemble de ces méthodes repose sur une stratégie commune : **changer** le taux d'apprentissage utilisé par l'algorithme d'optimisation.\n",
    "\n",
    "### Stratégies\n",
    "Le taux d'apprentissage est fixé, tout d'abord, à une valeur élevée puis on le diminue graduellement.\n",
    "\n",
    "Il existe plusieurs méthodes permettant de réaliser la décroissance controlée du taux d'apprentissage.\n",
    "\n",
    "Nous allons voir les 2 méthodes principales mais il en existe d'autres (plus sophistiquées).\n",
    "### Motivation\n",
    "A chaque fois, il s'agit de découvrir rapidement les *bonnes* valeurs des connections puis ensuite de raffiner la solution initiale (*fine tuning*)."
   ]
  },
  {
   "cell_type": "markdown",
   "metadata": {
    "colab_type": "text",
    "id": "TUXXeQRpqg1Q"
   },
   "source": [
    "### Méthode *TIme Based learning rate schedule*\n",
    "Dans cette méthode on modifie le taux d'apprentissage par un montant fixé à l'avance.\n",
    "\n",
    "A chaque itération (*epochs*), on diminue le learning rate. Cette décroissance est graduelle.\n",
    "\n",
    "Un exemple graphique qui illustre la décroissance du learning rate :"
   ]
  },
  {
   "cell_type": "code",
   "execution_count": 0,
   "metadata": {
    "colab": {
     "base_uri": "https://localhost:8080/",
     "height": 375
    },
    "colab_type": "code",
    "executionInfo": {
     "elapsed": 875,
     "status": "ok",
     "timestamp": 1552144845822,
     "user": {
      "displayName": "bardol franck",
      "photoUrl": "https://lh4.googleusercontent.com/-JNlTS3TmFkQ/AAAAAAAAAAI/AAAAAAAAIEA/fJiA10muy2o/s64/photo.jpg",
      "userId": "04651379096066137536"
     },
     "user_tz": -60
    },
    "id": "ui6RamZzAik5",
    "outputId": "b967b05e-4e45-46ee-9e6d-0198f5dd966b"
   },
   "outputs": [
    {
     "data": {
      "image/png": "[encoded data removed]",
      "text/plain": [
       "<Figure size 576x396 with 1 Axes>"
      ]
     },
     "metadata": {
      "tags": []
     },
     "output_type": "display_data"
    }
   ],
   "source": [
    "import numpy as np\n",
    "import matplotlib.pyplot as plt\n",
    "\n",
    "# epochs : les iterations\n",
    "epochs = np.arange(1,10)\n",
    "learning_rate = 0.1\n",
    "\n",
    "# taux de decroissance du learning rate\n",
    "decay_rate = learning_rate / epochs\n",
    "\n",
    "# graphique\n",
    "plt.plot(epochs , decay_rate)\n",
    "plt.title('Time based schedule')\n",
    "plt.xlabel('epochs (# iterations)')\n",
    "plt.ylabel('learning rate')\n",
    "plt.show()\n"
   ]
  },
  {
   "cell_type": "markdown",
   "metadata": {
    "colab_type": "text",
    "id": "yhTiXw4dDIcH"
   },
   "source": [
    "#### Implémentation avec Keras"
   ]
  },
  {
   "cell_type": "code",
   "execution_count": 0,
   "metadata": {
    "colab": {},
    "colab_type": "code",
    "id": "jXV9hratC_p2"
   },
   "outputs": [],
   "source": [
    "from  keras.optimizers import  SGD\n",
    "\n",
    "# learning rate initial\n",
    "learning_rate = 0.1\n",
    "\n",
    "# taux de decroissance\n",
    "decay_rate = learning_rate / epochs\n",
    "\n",
    "# taux de decroissance -> optimizer\n",
    "sgd = SGD(lr = learning_rate, momentum = 0.8, decay = decay_rate, nesterov = False)\n",
    "\n",
    "if False:\n",
    "  # optimizer -> algorithme de Deep Learning\n",
    "  model.compile (loss= 'binary_crossentropy' , optimizer = sgd, metrics=['accuracy'])\n"
   ]
  },
  {
   "cell_type": "markdown",
   "metadata": {
    "colab_type": "text",
    "id": "jtB7WEQ2rdMH"
   },
   "source": [
    "### * Méthode *Drop Based learning rate schedule*"
   ]
  },
  {
   "cell_type": "markdown",
   "metadata": {
    "colab_type": "text",
    "id": "QrFyivDvEV-9"
   },
   "source": [
    "La méthode *Drop Based* poursuit des buts identiques à ceux évoqués.\n",
    "\n",
    "Avec cette méthode, le learning rate décroît par **plateau** (*drop*).\n",
    "\n",
    "Ici on doit fixer  à quel instant le taux d'apprentissage va être modifié. Ensuite on modifie le taux d'apprentissage à **ces instants précis**.\n"
   ]
  },
  {
   "cell_type": "code",
   "execution_count": 0,
   "metadata": {
    "colab": {},
    "colab_type": "code",
    "id": "a_BB76vN2Ycz"
   },
   "outputs": [],
   "source": [
    "import math\n",
    "\n",
    "# fonction de decroissance du taux d'apprentissage : en PLATEAU\n",
    "def step_decay(epoch):\n",
    "  initial_lrate = 0.1\n",
    "  # taux de decroissance\n",
    "  drop = 0.5\n",
    "  # instant de decroissance\n",
    "  epochs_drop = 5\n",
    "  # calcul du nouveau taux d'apprentissage\n",
    "  lrate = initial_lrate * math.pow (drop, math.floor((1+epoch)/epochs_drop))\n",
    "  return lrate"
   ]
  },
  {
   "cell_type": "code",
   "execution_count": 0,
   "metadata": {
    "colab": {},
    "colab_type": "code",
    "id": "guHt80VGGHK4"
   },
   "outputs": [],
   "source": [
    "# epochs : les iterations\n",
    "epochs = range(1,50)\n",
    "# liste vide\n",
    "learning_rate_drop = []\n",
    "\n",
    "for epoch in epochs:\n",
    "  learning_rate_drop.append( step_decay(epoch))"
   ]
  },
  {
   "cell_type": "code",
   "execution_count": 14,
   "metadata": {
    "colab": {
     "base_uri": "https://localhost:8080/",
     "height": 34
    },
    "colab_type": "code",
    "executionInfo": {
     "elapsed": 604,
     "status": "ok",
     "timestamp": 1552649516991,
     "user": {
      "displayName": "bardol franck",
      "photoUrl": "https://lh4.googleusercontent.com/-JNlTS3TmFkQ/AAAAAAAAAAI/AAAAAAAAIEA/fJiA10muy2o/s64/photo.jpg",
      "userId": "04651379096066137536"
     },
     "user_tz": -60
    },
    "id": "aIvLxLdjHdN7",
    "outputId": "e45f4c05-d642-476f-ea74-4ec148148ec2"
   },
   "outputs": [
    {
     "data": {
      "text/plain": [
       "49"
      ]
     },
     "execution_count": 14,
     "metadata": {
      "tags": []
     },
     "output_type": "execute_result"
    }
   ],
   "source": [
    "len(learning_rate_drop)"
   ]
  },
  {
   "cell_type": "code",
   "execution_count": 15,
   "metadata": {
    "colab": {
     "base_uri": "https://localhost:8080/",
     "height": 346
    },
    "colab_type": "code",
    "executionInfo": {
     "elapsed": 611,
     "status": "ok",
     "timestamp": 1552649568400,
     "user": {
      "displayName": "bardol franck",
      "photoUrl": "https://lh4.googleusercontent.com/-JNlTS3TmFkQ/AAAAAAAAAAI/AAAAAAAAIEA/fJiA10muy2o/s64/photo.jpg",
      "userId": "04651379096066137536"
     },
     "user_tz": -60
    },
    "id": "HwLBxVx3GXVL",
    "outputId": "e82dbc85-8510-488d-8a58-7a2153e5f5c2"
   },
   "outputs": [
    {
     "data": {
      "image/png": "[encoded data removed]",
      "text/plain": [
       "<Figure size 576x396 with 1 Axes>"
      ]
     },
     "metadata": {
      "tags": []
     },
     "output_type": "display_data"
    }
   ],
   "source": [
    "# graph\n",
    "import matplotlib.pyplot as plt\n",
    "plt.plot(epochs , learning_rate_drop , 'k')\n",
    "\n",
    "plt.show()"
   ]
  },
  {
   "cell_type": "code",
   "execution_count": 0,
   "metadata": {
    "colab": {},
    "colab_type": "code",
    "id": "MLnFJoACHNM1"
   },
   "outputs": [],
   "source": [
    ""
   ]
  },
  {
   "cell_type": "markdown",
   "metadata": {
    "colab_type": "text",
    "id": "pYlLUwygIIBt"
   },
   "source": [
    "#### Implémentation avec Keras\n"
   ]
  },
  {
   "cell_type": "code",
   "execution_count": 3,
   "metadata": {
    "colab": {
     "base_uri": "https://localhost:8080/",
     "height": 240
    },
    "colab_type": "code",
    "executionInfo": {
     "elapsed": 567,
     "status": "error",
     "timestamp": 1552649058868,
     "user": {
      "displayName": "bardol franck",
      "photoUrl": "https://lh4.googleusercontent.com/-JNlTS3TmFkQ/AAAAAAAAAAI/AAAAAAAAIEA/fJiA10muy2o/s64/photo.jpg",
      "userId": "04651379096066137536"
     },
     "user_tz": -60
    },
    "id": "dOuKAaK-IM0N",
    "outputId": "2610277a-7729-48e1-f5ae-b35b2f061b74"
   },
   "outputs": [
    {
     "ename": "NameError",
     "evalue": "ignored",
     "output_type": "error",
     "traceback": [
      "\u001b[0;31m\u001b[0m",
      "\u001b[0;31mNameError\u001b[0mTraceback (most recent call last)",
      "\u001b[0;32m<ipython-input-3-a06e5ed8337c>\u001b[0m in \u001b[0;36m<module>\u001b[0;34m()\u001b[0m\n\u001b[1;32m     10\u001b[0m \u001b[0;34m\u001b[0m\u001b[0m\n\u001b[1;32m     11\u001b[0m \u001b[0;31m# fonction de decroissance -> schedule callback\u001b[0m\u001b[0;34m\u001b[0m\u001b[0;34m\u001b[0m\u001b[0m\n\u001b[0;32m---> 12\u001b[0;31m \u001b[0mlrate\u001b[0m \u001b[0;34m=\u001b[0m \u001b[0mLearningRateScheduler\u001b[0m\u001b[0;34m(\u001b[0m\u001b[0mstep_decay\u001b[0m\u001b[0;34m)\u001b[0m\u001b[0;34m\u001b[0m\u001b[0m\n\u001b[0m\u001b[1;32m     13\u001b[0m \u001b[0mcallbacks_list\u001b[0m \u001b[0;34m=\u001b[0m \u001b[0;34m[\u001b[0m\u001b[0mlrate\u001b[0m\u001b[0;34m]\u001b[0m\u001b[0;34m\u001b[0m\u001b[0m\n\u001b[1;32m     14\u001b[0m \u001b[0;34m\u001b[0m\u001b[0m\n",
      "\u001b[0;31mNameError\u001b[0m: name 'step_decay' is not defined"
     ]
    }
   ],
   "source": [
    "# LearningRateScheduler : schedule callback pour envoi du taux d'apprentissage\n",
    "from  keras.callbacks import  LearningRateScheduler\n",
    "from  keras.optimizers import  SGD\n",
    "from keras import models\n",
    "\n",
    "# l'optimizer des poids\n",
    "sgd = SGD(lr = 0.0, momentum = 0.9, decay = 0.0, nesterov=False)\n",
    "if True:\n",
    "  model = models.Sequential()\n",
    "  model.compile (loss = 'binary_crossentropy'  , optimizer = sgd, metrics=['accuracy'])\n",
    "\n",
    "# fonction de decroissance -> schedule callback \n",
    "lrate = LearningRateScheduler(step_decay)\n",
    "callbacks_list = [lrate]\n",
    "\n",
    "if False:\n",
    "  #  schedule callback  -> FIT de algorithme\n",
    "  model.fit(optimizer = sgd, callbacks=callbacks_list)"
   ]
  },
  {
   "cell_type": "code",
   "execution_count": 0,
   "metadata": {
    "colab": {},
    "colab_type": "code",
    "id": "XmvkF0KvFr_O"
   },
   "outputs": [],
   "source": [
    ""
   ]
  }
 ],
 "metadata": {
  "colab": {
   "collapsed_sections": [],
   "name": "2496_03_01-boost-learning.ipynb",
   "provenance": [
    {
     "file_id": "1A2A4-1y7o3UGJsSfO_dy8HIQMTwXLal2",
     "timestamp": 1551973895976
    }
   ],
   "version": "0.3.2"
  },
  "kernelspec": {
   "display_name": "Python 2",
   "name": "python2"
  }
 },
 "nbformat": 4,
 "nbformat_minor": 0
}
