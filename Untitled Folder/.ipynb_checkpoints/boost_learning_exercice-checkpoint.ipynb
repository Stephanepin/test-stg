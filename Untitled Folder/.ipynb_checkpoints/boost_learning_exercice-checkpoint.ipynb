{
 "cells": [
  {
   "cell_type": "markdown",
   "metadata": {
    "colab_type": "text",
    "id": "SuYUyu-VOc4w"
   },
   "source": [
    "# Exercice:  Améliorer l'apprentissage d'un algorithme de Deep Learning avec Keras\n",
    "\n",
    "Nous allons voir à l'aide d'un exercice comment améliorer l'apprentissage d'un modèle de Deep Learning avec Keras\n",
    "## Chargement des données \n",
    "Executez la cellule et choisir le fichier *\"classification-ionosphere.csv\"* contenant les données"
   ]
  },
  {
   "cell_type": "code",
   "execution_count": 0,
   "metadata": {
    "colab": {},
    "colab_type": "code",
    "id": "NstR5TPuPiq1"
   },
   "outputs": [],
   "source": [
    "from google.colab import files\n",
    "dataset = files.upload()"
   ]
  },
  {
   "cell_type": "markdown",
   "metadata": {
    "colab_type": "text",
    "id": "DYXaEgGVQtU2"
   },
   "source": [
    "## 1) Chargement des données"
   ]
  },
  {
   "cell_type": "code",
   "execution_count": 0,
   "metadata": {
    "colab": {},
    "colab_type": "code",
    "id": "ucW-C0NoOYxr"
   },
   "outputs": [],
   "source": [
    "#           CLASSIFICATION\n",
    "#           IONOSPHERE DATA SET\n",
    "\n",
    "# This radar data was collected by a system in Goose Bay, Labrador. \n",
    "#This system consists of a phased array of 16 high-frequency antennas with a total transmitted power on the order of 6.4 kilowatts. \n",
    "#See the paper for more details. \n",
    "#The targets were free electrons in the ionosphere. \n",
    "\n",
    "#\"Good\" radar returns are those showing evidence of some type of structure in the ionosphere. \n",
    "#\"Bad\" returns are those that do not; their signals pass through the ionosphere.\n",
    "\n",
    "# https://archive.ics.uci.edu/ml/datasets/ionosphere    \n",
    "\n",
    "import pandas as pd\n",
    "import numpy as np\n",
    "from keras.models import Sequential\n",
    "from keras.layers import Dense\n",
    "from keras.optimizers import SGD\n",
    "from sklearn.preprocessing import LabelEncoder\n",
    "from sklearn.model_selection import train_test_split\n",
    "\n",
    "# reproducibility\n",
    "seed = 12345\n",
    "np.random.seed(seed)\n",
    "\n",
    "# load dataset\n",
    "dataframe = pd.read_csv(\"classification-ionosphere.csv\", header=None)\n",
    "dataset = dataframe.values\n",
    "# split input vs output\n",
    "X = dataset[:,:-1].astype(float)\n",
    "y = dataset[:,-1]"
   ]
  },
  {
   "cell_type": "markdown",
   "metadata": {
    "colab_type": "text",
    "id": "sdBr_AseZSkc"
   },
   "source": [
    "### Exercice :\n",
    "Afficher les 10 premières lignes de `y`\n"
   ]
  },
  {
   "cell_type": "code",
   "execution_count": 0,
   "metadata": {
    "cellView": "form",
    "colab": {},
    "colab_type": "code",
    "id": "oAGgl35CYsmD"
   },
   "outputs": [],
   "source": [
    "#@title\n",
    "# 10 premières lignes de 'y'\n",
    "y[:10]"
   ]
  },
  {
   "cell_type": "markdown",
   "metadata": {
    "colab_type": "text",
    "id": "-vJTHOTIReT8"
   },
   "source": [
    "## Preparation des données\n",
    "* transformation de la colonne ``` output y ```.\n",
    "\n",
    " 'g' : good et 'b' : bad en **chiffres**\n",
    "\n",
    "Notez qu'il y a une erreur si on ne fait pas cette transformation (l'algorithme n'accepte **pas** les lettres) \n",
    "\n",
    "**Aide :**\n",
    "\n",
    "utiliser un `LabelEncoder` de l'API `sklearn`\n",
    "\n",
    "[doc LabelEncoder](https://scikit-learn.org/stable/modules/generated/sklearn.preprocessing.LabelEncoder.html)"
   ]
  },
  {
   "cell_type": "code",
   "execution_count": 0,
   "metadata": {
    "cellView": "form",
    "colab": {},
    "colab_type": "code",
    "id": "r8nylx2aRajy"
   },
   "outputs": [],
   "source": [
    "#@title\n",
    "X_train, X_test, y_train, y_test = train_test_split(X, y , test_size = 0.33 , random_state = seed)\n",
    "\n",
    "# encode 'g', 'b' binary label into numeric\n",
    "encoder = LabelEncoder()\n",
    "\n",
    "encoder.fit(y)\n",
    "y = encoder.transform(y)"
   ]
  },
  {
   "cell_type": "markdown",
   "metadata": {
    "colab_type": "text",
    "id": "tIBh4PYKSZiI"
   },
   "source": [
    "## Définition du modèle de Deep Learning"
   ]
  },
  {
   "cell_type": "markdown",
   "metadata": {
    "colab_type": "text",
    "id": "5U2yePkqbR7R"
   },
   "source": [
    "### Exercice : compléter le modèle \n",
    "* `input_dim = a_completer_sinon_erreur`\n",
    "\n",
    "Fixer l'erreur en indiquant la dimension du dataset *input* (la matrice `X`) \n",
    "\n",
    "Pour connaître la dimension, appeler la fonction `shape`de l'API `numpy`. Appliquez cette fonction à `X`.\n",
    "\n",
    "La fonction `shape` renvoie un couple (`nb_ligne , nb_colonne`).\n",
    "\n",
    "Ici, on cherche le nombre de colonne. Il faut extraire ce nombre qui se trouve en 2ème position dans le couple (`nb_ligne , nb_colonne`).\n",
    "\n",
    "**Aide :**\n",
    "\n",
    "`shape[1]`\n",
    "\n",
    " "
   ]
  },
  {
   "cell_type": "code",
   "execution_count": 0,
   "metadata": {
    "colab": {},
    "colab_type": "code",
    "id": "1Zw1kB12bC2g"
   },
   "outputs": [],
   "source": [
    "model = Sequential()\n",
    "\n",
    "# completer le code avec la dimension attendue pour les inputs\n",
    "# (input_dim)\n",
    "model.add(Dense(64, input_dim = a_completer_sinon_erreur , activation= 'relu' ))\n",
    "\n",
    "model.add(Dense(1 , activation= 'sigmoid'))"
   ]
  },
  {
   "cell_type": "markdown",
   "metadata": {
    "colab_type": "text",
    "id": "djToislJdKLj"
   },
   "source": [
    "### Correction :"
   ]
  },
  {
   "cell_type": "code",
   "execution_count": 0,
   "metadata": {
    "cellView": "form",
    "colab": {},
    "colab_type": "code",
    "id": "H3p6YIEIdICi"
   },
   "outputs": [],
   "source": [
    "#@title\n",
    "model = Sequential()\n",
    "\n",
    "input_dim_X = X.shape[1]\n",
    "\n",
    "model.add(Dense(64, input_dim = input_dim_X , activation= 'relu' ))\n",
    "\n",
    "model.add(Dense(1 , activation= 'sigmoid'))"
   ]
  },
  {
   "cell_type": "code",
   "execution_count": 0,
   "metadata": {
    "colab": {},
    "colab_type": "code",
    "id": "xXTJazM0QkSr"
   },
   "outputs": [],
   "source": [
    "\n",
    "epochs = 64\n",
    "learning_rate = 0.01\n",
    "momentum = 0.1\n",
    "batch_size = 32\n",
    "\n",
    "sgd = SGD(lr = learning_rate, momentum = momentum, nesterov = False)\n",
    "model.compile(loss= 'binary_crossentropy' , optimizer = sgd, metrics=['accuracy'])"
   ]
  },
  {
   "cell_type": "markdown",
   "metadata": {
    "colab_type": "text",
    "id": "Y5VtGp-xSnH0"
   },
   "source": [
    "## Apprentissage du modèle de Deep Learning"
   ]
  },
  {
   "cell_type": "code",
   "execution_count": 0,
   "metadata": {
    "colab": {},
    "colab_type": "code",
    "id": "daY48b0wSndi"
   },
   "outputs": [],
   "source": [
    "model.fit(X, \n",
    "          y, \n",
    "          validation_split  =0.33, \n",
    "          epochs = epochs, \n",
    "          batch_size = batch_size, \n",
    "          verbose = 2)"
   ]
  },
  {
   "cell_type": "markdown",
   "metadata": {
    "colab_type": "text",
    "id": "BakdszNkRN1i"
   },
   "source": [
    "## Evaluation du modèle de Deep Learning\n",
    "Comme on peut le constater dans le reporting d'apprentissage ci-dessus, le pourcentage de bonnes prédictions sur l'ensemble de validation (données non-vues) est de l'ordre de 96%\n"
   ]
  },
  {
   "cell_type": "markdown",
   "metadata": {
    "colab_type": "text",
    "id": "LAOq3o4VS2uT"
   },
   "source": [
    "## Exercice : implémenter la méthode *time based decay*  "
   ]
  },
  {
   "cell_type": "markdown",
   "metadata": {
    "colab_type": "text",
    "id": "Ow6QKnzfTFqL"
   },
   "source": [
    "### Aide et instructions \n",
    "* fixer un taux d'apprentissage initial élevé (par exemple : 0.9)"
   ]
  },
  {
   "cell_type": "code",
   "execution_count": 0,
   "metadata": {
    "cellView": "both",
    "colab": {},
    "colab_type": "code",
    "id": "xipkczYUQN6q"
   },
   "outputs": [],
   "source": [
    "#@title\n",
    "# =================================== time based decay\n",
    "learning_rate = 0.9"
   ]
  },
  {
   "cell_type": "markdown",
   "metadata": {
    "colab_type": "text",
    "id": "B411CyIGTifX"
   },
   "source": [
    "\n",
    "### Aide et instructions\n",
    "Définir le *decay_rate*\n",
    "\n",
    "Exemple :\n",
    "\n",
    "decay_rate = learning_rate / epochs"
   ]
  },
  {
   "cell_type": "code",
   "execution_count": 0,
   "metadata": {
    "cellView": "form",
    "colab": {},
    "colab_type": "code",
    "id": "sNpjb3rGT-ZN"
   },
   "outputs": [],
   "source": [
    "#@title\n",
    "decay_rate = learning_rate / epochs"
   ]
  },
  {
   "cell_type": "markdown",
   "metadata": {
    "colab_type": "text",
    "id": "9BP4WmTnUKF_"
   },
   "source": [
    "### Aide et instructions\n",
    "Définir l'optimizer des poids afin qu'il utilise le *decay_rate* définit précédemment"
   ]
  },
  {
   "cell_type": "code",
   "execution_count": 0,
   "metadata": {
    "cellView": "form",
    "colab": {},
    "colab_type": "code",
    "id": "AEw0So4TUdEa"
   },
   "outputs": [],
   "source": [
    "#@title\n",
    "sgd = SGD(lr = learning_rate, momentum = momentum, decay = decay_rate, nesterov = False)"
   ]
  },
  {
   "cell_type": "markdown",
   "metadata": {
    "colab_type": "text",
    "id": "8rPknV9aUjOK"
   },
   "source": [
    "### Aide et instructions\n",
    "Compiler le modèle à l'aide de :\n",
    "\n",
    "\n",
    "```\n",
    "# model.compile()\n",
    "```\n",
    "\n"
   ]
  },
  {
   "cell_type": "code",
   "execution_count": 0,
   "metadata": {
    "cellView": "form",
    "colab": {},
    "colab_type": "code",
    "id": "-Yu_1EKHU4Bi"
   },
   "outputs": [],
   "source": [
    "#@title\n",
    "model.compile(loss= 'binary_crossentropy' , optimizer = sgd, metrics=[ 'accuracy' ])"
   ]
  },
  {
   "cell_type": "markdown",
   "metadata": {
    "colab_type": "text",
    "id": "PWXIR3QafNy-"
   },
   "source": [
    "### Apprentissage du modèle sur les données"
   ]
  },
  {
   "cell_type": "code",
   "execution_count": 0,
   "metadata": {
    "colab": {},
    "colab_type": "code",
    "id": "9dZ2O2q2O_yJ"
   },
   "outputs": [],
   "source": [
    "# Fit the model\n",
    "model.fit(X, \n",
    "          y, \n",
    "          validation_split =0.33,\n",
    "          epochs = epochs, \n",
    "          batch_size = batch_size, \n",
    "          verbose = 2)"
   ]
  },
  {
   "cell_type": "markdown",
   "metadata": {
    "colab_type": "text",
    "id": "TsHpW5uCVbly"
   },
   "source": [
    "### Conclusion ?"
   ]
  },
  {
   "cell_type": "markdown",
   "metadata": {
    "colab_type": "text",
    "id": "iggZswJM5Hyd"
   },
   "source": [
    "Normalement, vous pouvez constater une amélioration de la précision ('*val_accuracy*') de la prédiction sur l'ensemble de validation (les données *non-vue* durant l'apprentissage).\n",
    "\n",
    "Notez, que l'initialisation aléatoire des poids peut changer les résultats. Si c'est le cas, il faut re-calculer les cellules."
   ]
  }
 ],
 "metadata": {
  "colab": {
   "collapsed_sections": [],
   "name": "2496_03_02-boost-learning-exercice.ipynb",
   "provenance": [],
   "toc_visible": true
  },
  "kernelspec": {
   "display_name": "Python 2",
   "name": "python2"
  }
 },
 "nbformat": 4,
 "nbformat_minor": 0
}
