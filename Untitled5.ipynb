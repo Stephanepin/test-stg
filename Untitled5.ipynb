{
 "cells": [
  {
   "cell_type": "code",
   "execution_count": 30,
   "id": "992dc0a2",
   "metadata": {},
   "outputs": [],
   "source": [
    "import numpy as np\n",
    "import pandas as pd\n",
    "import nltk\n",
    "from nltk.corpus import stopwords\n",
    "import string\n",
    "from wordcloud import WordCloud\n",
    "import seaborn as sns\n",
    "import matplotlib.pyplot as plt\n",
    "from sklearn.model_selection import train_test_split\n",
    "from sklearn.feature_extraction.text import CountVectorizer, TfidfVectorizer\n",
    "from sklearn.metrics import accuracy_score, confusion_matrix , f1_score\n",
    "from sklearn.model_selection import cross_val_score\n",
    "from nltk.corpus import stopwords\n",
    "import re\n",
    "%matplotlib inline"
   ]
  },
  {
   "cell_type": "code",
   "execution_count": 31,
   "id": "0c10b76b",
   "metadata": {},
   "outputs": [
    {
     "data": {
      "text/html": [
       "<div>\n",
       "<style scoped>\n",
       "    .dataframe tbody tr th:only-of-type {\n",
       "        vertical-align: middle;\n",
       "    }\n",
       "\n",
       "    .dataframe tbody tr th {\n",
       "        vertical-align: top;\n",
       "    }\n",
       "\n",
       "    .dataframe thead th {\n",
       "        text-align: right;\n",
       "    }\n",
       "</style>\n",
       "<table border=\"1\" class=\"dataframe\">\n",
       "  <thead>\n",
       "    <tr style=\"text-align: right;\">\n",
       "      <th></th>\n",
       "      <th>Messages</th>\n",
       "      <th>catégorie</th>\n",
       "      <th>Cleaned_text</th>\n",
       "    </tr>\n",
       "  </thead>\n",
       "  <tbody>\n",
       "    <tr>\n",
       "      <th>0</th>\n",
       "      <td>Bonjour,Ci-joint le mandat sepa et le rib.Cord...</td>\n",
       "      <td>contrat</td>\n",
       "      <td></td>\n",
       "    </tr>\n",
       "    <tr>\n",
       "      <th>1</th>\n",
       "      <td>DANIEL   GUEGANSOCIETE DES TRANSPORTS GUEGANCl...</td>\n",
       "      <td>commande de badge</td>\n",
       "      <td></td>\n",
       "    </tr>\n",
       "    <tr>\n",
       "      <th>2</th>\n",
       "      <td>Bonjour, J’ai essayé de faire la modification...</td>\n",
       "      <td>badge</td>\n",
       "      <td></td>\n",
       "    </tr>\n",
       "    <tr>\n",
       "      <th>3</th>\n",
       "      <td>Bonjour, merci de me faire un badge avec la gé...</td>\n",
       "      <td>commande de badge</td>\n",
       "      <td></td>\n",
       "    </tr>\n",
       "    <tr>\n",
       "      <th>4</th>\n",
       "      <td>No Message</td>\n",
       "      <td>no message</td>\n",
       "      <td></td>\n",
       "    </tr>\n",
       "  </tbody>\n",
       "</table>\n",
       "</div>"
      ],
      "text/plain": [
       "                                            Messages          catégorie  \\\n",
       "0  Bonjour,Ci-joint le mandat sepa et le rib.Cord...            contrat   \n",
       "1  DANIEL   GUEGANSOCIETE DES TRANSPORTS GUEGANCl...  commande de badge   \n",
       "2   Bonjour, J’ai essayé de faire la modification...              badge   \n",
       "3  Bonjour, merci de me faire un badge avec la gé...  commande de badge   \n",
       "4                                         No Message         no message   \n",
       "\n",
       "  Cleaned_text  \n",
       "0               \n",
       "1               \n",
       "2               \n",
       "3               \n",
       "4               "
      ]
     },
     "execution_count": 31,
     "metadata": {},
     "output_type": "execute_result"
    }
   ],
   "source": [
    "df=pd.read_excel('final_210623_nouveaux labels.xlsx',engine='openpyxl')\n",
    "col=['Messages','catégorie']\n",
    "df=df[col]\n",
    "df['Cleaned_text'] = ''\n",
    "df=df.head(800)\n",
    "df.head()"
   ]
  },
  {
   "cell_type": "code",
   "execution_count": 32,
   "id": "b819c7db",
   "metadata": {},
   "outputs": [
    {
     "name": "stdout",
     "output_type": "stream",
     "text": [
      "Messages Categories\n",
      "no message                        252\n",
      "commande de badge                 181\n",
      "badge                             135\n",
      "contrat                            73\n",
      "renseignement facture              58\n",
      "demande de renseignement           40\n",
      "interne Axxès                      33\n",
      "impayé                             15\n",
      "réclamation qualité de service      9\n",
      "AFM                                 4\n",
      "Name: catégorie, dtype: int64\n"
     ]
    }
   ],
   "source": [
    "print (\"Messages Categories\")\n",
    "print (df['catégorie'].value_counts())"
   ]
  },
  {
   "cell_type": "code",
   "execution_count": 33,
   "id": "8b43761d",
   "metadata": {},
   "outputs": [],
   "source": [
    "df['Messages']=df['Messages'].astype(str)"
   ]
  },
  {
   "cell_type": "code",
   "execution_count": 34,
   "id": "d9fb8bcc",
   "metadata": {},
   "outputs": [
    {
     "data": {
      "text/plain": [
       "<AxesSubplot:xlabel='count', ylabel='catégorie'>"
      ]
     },
     "execution_count": 34,
     "metadata": {},
     "output_type": "execute_result"
    },
    {
     "data": {
      "image/png": "[encoded data removed]",
      "text/plain": [
       "<Figure size 1080x1080 with 1 Axes>"
      ]
     },
     "metadata": {
      "needs_background": "light"
     },
     "output_type": "display_data"
    }
   ],
   "source": [
    "plt.figure(figsize=(15,15))\n",
    "plt.xticks(rotation=90)\n",
    "sns.countplot(y=\"catégorie\", data=df)"
   ]
  },
  {
   "cell_type": "code",
   "execution_count": 35,
   "id": "5318714d",
   "metadata": {},
   "outputs": [
    {
     "data": {
      "text/plain": [
       "' Bonjour,\\xa0J’ai essayé de faire la modification du badge du EC 418 KS initialement en classe 4 que nous avons vendu et remplacé par une classe 3 immatriculé DW-641-BJ.\\xa0Le badge est VIA AXXES SAT MANAGER portant le n° 3156490029985000184.\\xa0\\xa0Vous trouverez ci-joint la carte grise du nouveau camionn pour lequel, nous vous demandons de bien vouloir soit effectuer le changement ou nous contacter afin que nous fassions cette opération en direct par téléphone svp\\xa0?Restant à votre disposition.\\xa0Cordialement\\xa0Patrice RIBEIRODirecteur Technique\\xa0\\xa0\\xa0\\xa0\\xa0 \\xa0Tél\\xa0\\xa0 : 03 81 57 74 89Port : 06 25 46 93 97 \\xa0\\xa0\\xa0\\xa0\\xa0\\xa0\\xa0\\xa0\\xa0\\xa0\\xa0\\xa0\\xa0\\xa0\\xa0\\xa0\\xa0\\xa0\\xa0\\xa0\\xa0\\xa0\\xa0\\xa0\\xa0\\xa0\\xa0\\xa0\\xa0\\xa0\\xa0\\xa0\\xa0\\xa0\\xa0\\xa0\\xa0\\xa0\\xa0\\xa0\\xa0\\xa0\\xa0\\xa0\\xa0\\xa0\\xa0\\xa0\\xa0\\xa0\\xa0 \\xa0\\xa0\\xa0\\xa0\\xa0www.transport-rte.eu \\xa0\\xa0\\xa0\\xa0\\xa0\\xa0\\xa0\\xa0\\xa0\\xa0\\xa0\\xa0\\xa0\\xa0\\xa0\\xa0\\xa0\\xa0\\xa0\\xa0\\xa0\\xa0\\xa0\\xa0\\xa0\\xa0\\xa0\\xa0\\xa0\\xa0\\xa0\\xa0\\xa0\\xa0\\xa0\\xa0\\xa0\\xa0\\xa0\\xa0\\xa0\\xa0\\xa0\\xa0\\xa0\\xa0\\xa0\\xa0\\xa0\\xa0\\xa0\\xa0\\xa0\\xa0 ZA Les Planches - 63 rue Lyautey – 25870 GENEUILLE \\xa0\\xa0\\xa0\\xa0\\xa0\\xa0\\xa0\\xa0\\xa0\\xa0'"
      ]
     },
     "execution_count": 35,
     "metadata": {},
     "output_type": "execute_result"
    }
   ],
   "source": [
    "df[\"Messages\"][2]"
   ]
  },
  {
   "cell_type": "code",
   "execution_count": 36,
   "id": "1e5fdc8a",
   "metadata": {},
   "outputs": [
    {
     "name": "stderr",
     "output_type": "stream",
     "text": [
      "<ipython-input-36-5edb1f950455>:4: SettingWithCopyWarning: \n",
      "A value is trying to be set on a copy of a slice from a DataFrame\n",
      "\n",
      "See the caveats in the documentation: https://pandas.pydata.org/pandas-docs/stable/user_guide/indexing.html#returning-a-view-versus-a-copy\n",
      "  df['occurence'][i]=ss.find(\"cordialement\")\n"
     ]
    }
   ],
   "source": [
    "df['occurence']=0\n",
    "for i in df.index:\n",
    "    ss=df['Messages'][i].lower()\n",
    "    df['occurence'][i]=ss.find(\"cordialement\")"
   ]
  },
  {
   "cell_type": "code",
   "execution_count": 37,
   "id": "51ec6b06",
   "metadata": {},
   "outputs": [
    {
     "name": "stderr",
     "output_type": "stream",
     "text": [
      "<ipython-input-37-30ce10a4774f>:3: SettingWithCopyWarning: \n",
      "A value is trying to be set on a copy of a slice from a DataFrame\n",
      "\n",
      "See the caveats in the documentation: https://pandas.pydata.org/pandas-docs/stable/user_guide/indexing.html#returning-a-view-versus-a-copy\n",
      "  df['Messages'][i]=df['Messages'][i][0:df['occurence'][i]]\n",
      "<ipython-input-37-30ce10a4774f>:5: SettingWithCopyWarning: \n",
      "A value is trying to be set on a copy of a slice from a DataFrame\n",
      "\n",
      "See the caveats in the documentation: https://pandas.pydata.org/pandas-docs/stable/user_guide/indexing.html#returning-a-view-versus-a-copy\n",
      "  df['Messages'][i]=df['Messages'][i]\n"
     ]
    }
   ],
   "source": [
    "\n",
    "for i in df.index:\n",
    "    if df['occurence'][i]>0:\n",
    "        df['Messages'][i]=df['Messages'][i][0:df['occurence'][i]]\n",
    "    else:\n",
    "        df['Messages'][i]=df['Messages'][i]"
   ]
  },
  {
   "cell_type": "code",
   "execution_count": 38,
   "id": "be5a3ac0",
   "metadata": {},
   "outputs": [],
   "source": [
    "\n",
    "def cleanResume(resumeText):\n",
    "    resumeText = resumeText.lower()\n",
    "    resumeText = re.sub('http\\S+\\s*', ' ', resumeText)  # remove URLs\n",
    "    resumeText = re.sub('RT|cc', ' ', resumeText)  # remove RT and cc\n",
    "    resumeText = re.sub('#\\S+', '', resumeText)  # remove hashtags\n",
    "    resumeText = re.sub('@\\S+', '  ', resumeText)  # remove mentions\n",
    "    resumeText = re.sub('[%s]' % re.escape(\"\"\"!\"#$%&'()*+,-./:;<=>?@[\\]^_`{|}~\"\"\"), ' ', resumeText)  # remove punctuations\n",
    "    resumeText = re.sub('([a-zA-Z0-9_.+-]+@[a-zA-Z0-9-]+\\.[a-zA-Z0-9-.]+)', 'XXXX',  resumeText)#email\n",
    "    #phone\n",
    "    resumeText = re.sub(r\"/\\d{10}|\\+33\\d{9}|\\+33\\s\\d{1}\\s\\d{2}\\s\\d{2}\\s\\d{2}\\s\\d{2}|\\d{2}\\s\\d{2}\\s\\d{2}\\s\\d{2}\\s\\d{2}/g\",' XXXX', resumeText)#phone francais\n",
    "    resumeText = re.sub(r'(^(\\+33 |0)[1-6]{1}(([0-9]{2}){4})|((\\s[0-9]{2}){4})|((-[0-9]{2}){4})$)','XXXX', resumeText)\n",
    "    resumeText = re.sub(\"((?:\\+\\d{2}[-\\.\\s]??|\\d{4}[-\\.\\s]??)?(?:\\d{3}[-\\.\\s]??\\d{3}[-\\.\\s]??\\d{4}|\\(\\d{3}\\)\\s*\\d{3}[-\\.\\s]??\\d{4}|\\d{3}[-\\.\\s]??\\d{4}))\",'XXXX',  resumeText)#phone\n",
    "    resumeText = re.sub('\\(?\\d{2}\\)?[-.\\s]?\\d{2}[-.\\s]?\\d{2}[-.\\s]?\\d{2}[-.\\s]?\\d{2}','XXXX', resumeText)\n",
    "    resumeText = re.sub('\\(?\\d{2}\\)?[-.\\s]?\\d{2}[-.\\s]?\\d{2}[-.\\s]?\\d{2}[-.\\s]','XXXX', resumeText)\n",
    "    resumeText = re.sub('\\(?\\d{1}\\)?[-.\\s]?\\d{2}[-.\\s]?\\d{2}[-.\\s]?\\d{2}[-.\\s]','XXXX', resumeText)\n",
    "    resumeText = re.sub('\\(?\\d{2}\\)?[-.\\s]?\\d{5}[-.\\s]?\\d{3}','XXXX', resumeText)\n",
    "    resumeText = re.sub('\\(?\\d{1}\\)?[-.\\s]?\\d{2}[-.\\s]?\\d{2}[-.\\s]?\\d{3}','XXXX', resumeText)\n",
    "    resumeText = re.sub('\\(?\\d{2}\\)?[-.\\s]?\\d{3}[-.\\s]?\\d{3}[-.\\s]?\\d{3}','XXXX', resumeText)\n",
    "    #Emoji\n",
    "    emoji= re.compile(u'['u'\\U0001F300-\\U0001F64F'u'\\U0001F680-\\U0001F6FF'u'\\u2600-\\u26FF\\u2700-\\u27BF]+', re.UNICODE)\n",
    "    resumeText = re.sub(emoji,' ', resumeText)\n",
    "    #text\n",
    "    resumeText =  resumeText.replace(\"Avant d\\'imprimer cet e-mail, réfléchissez à l\\'impact sur l\\'environnementBefore you print this mail, think about the impact on the environment\",'')\n",
    "    dele = [\"Mail:\",\"Email:\",\"e-mail\",\"Email : \",\"mail\",\"Tél : +\",\"Fax : +\",\"tél.: + ()\",\"port.: + () \",\"fax.: + ()\"]\n",
    "    #df['Text'][i]= df['Text'][i].replace(dele,'')\n",
    "    resumeText =  resumeText.replace(\"Mail:\",' ')\n",
    "    resumeText =  resumeText.replace(\"Email:\",' ')\n",
    "    resumeText =  resumeText.replace(\"E-mail\",' ')\n",
    "    resumeText =  resumeText.replace(\"Email : \",' ')\n",
    "    resumeText=  resumeText.replace(\"mail\",' ')\n",
    "    resumeText=re.sub(r'\\d{3}[-\\.\\s]??\\d{3}[-\\.\\s]??\\d{4}|\\(\\d{3}\\)\\s*\\d{3}[-\\.\\s]??\\d{4}|\\d{3}[-\\.\\s]??\\d{4}','XXXX', resumeText)\n",
    "    #df['Text'][i]=re.sub(r'\\d+','',str(df['Text'][i]))#Tél : +      Fax : +, tél.: + ()       fax.: + ()      port.: + () \n",
    "    resumeText = re.sub(\"http[s]?://(?:[a-zA-Z]|[0-9]|[$-_@.&+]|[!*\\(\\),]|(?:%[0-9a-fA-F][0-9a-fA-F]))+\",'XXXX', resumeText)#url\n",
    "    resumeText = re.sub('(https?:\\/\\/(?:www\\.|(?!www))[a-zA-Z0-9][a-zA-Z0-9-]+[a-zA-Z0-9]\\.[^\\s]{2,}|www\\.[a-zA-Z0-9][a-zA-Z0-9-]+[a-zA-Z0-9]\\.[^\\s]{2,}|https?:\\/\\/(?:www\\.|(?!www))[a-zA-Z0-9]+\\.[^\\s]{2,}|www\\.[a-zA-Z0-9]+\\.[^\\s]{2,})',' XXXX', resumeText)#url www\n",
    "    resumeText = re.sub('Ce message et toutes les Pieces jointes (ci apres : le message) sont etablis a l\\'intention exclusive de ses destinataires et sont confidentiels.Toute utilisation de ce message non conforme a sa destination, toute diffusion ou toute publication totale ou partielle est interdite sauf autorisation prealable.Si vous recevez ce message par erreur, merci de le detruire et d\\' avertir immediatement l\\'expediteur.Les communications sur Internet n\\'etant pas securisees, le Groupe APRR decline toute responsabilite quant au contenu de ce message.This message and all attached documents (hereafter \"the message\") are intended for the exclusive attention of its recipients and are confidential. Any use of this message, for which it was not intended, any distribution or any total or partial publication is prohibited unless previously approved.If you receive this message in error, please destroy it and immediately notify the sender thereof.Since communication by Internet is not secure, Group APRR cannot accept any responsibility regarding the contents of this message.','XXXX ', resumeText)\n",
    "    #df['Text'][i]= re.sub('SCAN <>Cet  a été envoyé par \"copieurRICOH\" (MP C3004ex).Date de numérisation: 07.08.2020 17:17:25 (+0200)Contacter si besoin :  ','',str(df['Text'][i]))\n",
    "    resumeText = re.sub('Ce message est généré automatiquement. Merci de ne pas y répondre.','XXXX', resumeText)\n",
    "    resumeText = re.sub('Ce message et toutes les Pieces jointes (ci apres : le message) sont etablis a l\\'intention exclusive de ses destinataires et sont confidentiels.Toute utilisation de ce message non conforme a sa destination, toute diffusion ou toute publication totale ou partielle est interdite sauf autorisation prealable.Si vous recevez ce message par erreur, merci de le detruire et d\\' avertir immediatement l\\'expediteur.Les communications sur Internet n\\'etant pas securisees, le Groupe APRR decline toute responsabilite quant au contenu de ce message.This message and all attached documents (hereafter \"the message\") are intended for the exclusive attention of its recipients and are confidential. Any use of this message, for which it was not intended, any distribution or any total or partial publication is prohibited unless previously approved.If you receive this message in error, please destroy it and immediately notify the sender thereof.Since communication by Internet is not secure, Group APRR cannot accept any responsibility regarding the contents of this message.','XXXX ', resumeText)\n",
    "    resumeText = re.sub('This message and any attachments are confidential and intended for the named addressee(s) only.If you have received this message in error, please notify immediately the sender, then deletethe message. Any unauthorized modification, edition, use or dissemination is prohibited.The sender shall not be liable for this message if it has been modified, altered, falsified, infectedby a virus or even edited or disseminated without authorization.','XXXX', resumeText)\n",
    "    resumeText = re.sub('This  transmission (message and any attached files) may contain information that is proprietary, privileged and/or confidential to Veolia Environnement and/or its affiliates and is intended exclusively for the person(s) to whom it is addressed. If you are not the intended recipient, please notify the sender by return  and delete all copies of this , including all attachments. Unless expressly authorized, any use, disclosure, publication, retransmission or dissemination of this  and/or of its attachments is strictly prohibited. Ce message electronique et ses fichiers attaches sont strictement confidentiels et peuvent contenir des elements dont Veolia Environnement et/ou l\\'une de ses entites affiliees sont proprietaires. Ils sont donc destines a l\\'usage de leurs seuls destinataires. Si vous avez recu ce message par erreur, merci de le retourner a son emetteur et de le detruire ainsi que toutes les pieces attachees. L\\'utilisation, la divulgation, la publication, la distribution, ou la reproduction non expressement autorisees de ce message et de ses pieces attachees sont interdites.','XXXX ', resumeText)\n",
    "    resumeText = re.sub('This  transmission (message and any attached files) may contain information that is proprietary, privileged and/or confidential to Veolia Environnement and/or its affiliates and is intended exclusively for the person(s) to whom it is addressed. If you are not the intended recipient, please notify the sender by return  and delete all copies of this , including all attachments. Unless expressly authorized, any use, disclosure, publication, retransmission or dissemination of this  and/or of its attachments is strictly prohibited.  Ce message electronique et ses fichiers attaches sont strictement confidentiels et peuvent contenir des elements dont Veolia Environnement et/ou l\\'une de ses entites affiliees sont proprietaires. Ils sont donc destines a l\\'usage de leurs seuls destinataires. Si vous avez recu ce message par erreur, merci de le retourner a son emetteur et de le detruire ainsi que toutes les pieces attachees. L\\'utilisation, la divulgation, la publication, la distribution, ou la reproduction non expressement autorisees de ce message et de ses pieces attachees sont interdites.','XXXX ', resumeText)\n",
    "    resumeText = re.sub('Le contenu de ce message est strictement réservé à l\\'usage exclusif de son destinataire et contient de l\\'information privilégiée et confidentielle. Toute lecture, divulgation, distribution ou copie non autorisée de cette communication est formellement interdite. Si vous avez reçu cette communication par erreur, veuillez la détruire immédiatement.','XXXX', resumeText)\n",
    "    resumeText = re.sub('Ce message et toutes les Pieces jointes (ci apres : le message) sont etablis a l\\'intention exclusive de ses destinataires et sont confidentiels.Toute utilisation de ce message non conforme a sa destination, toute diffusion ou toute publication totale ou partielle est interdite sauf autorisation prealable.Si vous recevez ce message par erreur, merci de le detruire et d\\' avertir immediatement l\\'expediteur.Les communications sur Internet n\\'etant pas securisees, le Groupe APRR decline toute responsabilite quant au contenu de ce message.This message and all attached documents (hereafter \"the message\") are intended for the exclusive attention of its recipients and are confidential. Any use of this message, for which it was not intended, any distribution or any total or partial publication is prohibited unless previously approved.If you receive this message in error, please destroy it and immediately notify the sender thereof.Since communication by Internet is not secure, Group APRR cannot accept any responsibility regarding the contents of this message.','XXXX ', resumeText)\n",
    "    resumeText = re.sub('Ce message et les pièces jointes sont confidentiels et établis à l\\'attention exclusive de ses destinataires. Toute utilisation ou diffusion, même partielle, non autorisée est interdite. Tout message électronique est susceptible d\\'altération. Brink\\'s décline toute responsabilité au titre de ce message s\\'il a été altéré, déformé ou falsifié. Si vous n\\'êtes pas le destinataire de ce message, merci de le détruire et d\\'avertir l\\'expéditeur. This message and any attachments are confidential and intended solely for the addressees. Any unauthorized use or disclosure, either whole or partial is prohibited. E-s are susceptible to alteration. Brink\\'s shall not be liable for the message if altered, changed or falsified. If you are not the intended recipient of this message, please delete it and notify the sender.','XXXX ', resumeText)\n",
    "    resumeText = re.sub('Ce message et toutes les Pieces jointes (ci apres : le message) sont etablis a l\\'intention exclusive de ses destinataires et sont confidentiels.Toute utilisation de ce message non conforme a sa destination, toute diffusion ou toute publication totale ou partielle est interdite sauf autorisation prealable.Si vous recevez ce message par erreur, merci de le detruire et d\\' avertir immediatement l\\'expediteur.Les communications sur Internet n\\'etant pas securisees, le Groupe APRR decline toute responsabilite quant au contenu de ce message.','XXXX', resumeText)\n",
    "    resumeText = resumeText.replace('\\n', ' ').replace('\\r', '')\n",
    "    resumeText = ' '.join(resumeText.split())\n",
    "    resumeText = re.sub(r\"[A-Za-z\\.]*[0-9]+[A-Za-z%°\\.]*\", \"\", resumeText)\n",
    "    resumeText = re.sub(r\"(\\s\\-\\s|-$)\", \"\", resumeText)\n",
    "    resumeText = re.sub(r\"[,\\!\\?\\%\\(\\)\\/\\\"]\", \"\", resumeText)\n",
    "    resumeText = re.sub(r\"\\&\\S*\\s\", \"\", resumeText)\n",
    "    resumeText = re.sub(r\"\\&\", \"\", resumeText)\n",
    "    resumeText = re.sub(r\"\\+\", \"\", resumeText)\n",
    "    resumeText = re.sub(r\"\\#\", \"\", resumeText)\n",
    "    resumeText = re.sub(r\"\\$\", \"\", resumeText)\n",
    "    resumeText = re.sub(r\"\\£\", \"\", resumeText)\n",
    "    resumeText = re.sub(r\"\\%\", \"\", resumeText)\n",
    "    resumeText = re.sub(r\"\\:\", \"\", resumeText)\n",
    "    resumeText = re.sub(r\"\\@\", \"\", resumeText)\n",
    "    resumeText = re.sub(r\"\\-\", \"\", resumeText)\n",
    "    #print(msg['Messages'][i])\n",
    "    #resumeText = re.sub(r'[^\\x00-\\x7f]',r' ', resumeText) \n",
    "    #resumeText = re.sub('\\s+', ' ', resumeText)  # remove extra whitespace\n",
    "    return resumeText\n",
    "    \n",
    "df['Cleaned_text'] = df.Messages.apply(lambda x: cleanResume(x))"
   ]
  },
  {
   "cell_type": "code",
   "execution_count": 39,
   "id": "85a1600f",
   "metadata": {},
   "outputs": [],
   "source": [
    "from langdetect import detect"
   ]
  },
  {
   "cell_type": "code",
   "execution_count": 40,
   "id": "9975bdf4",
   "metadata": {},
   "outputs": [
    {
     "name": "stdout",
     "output_type": "stream",
     "text": [
      "This row throws error: \n",
      "This row throws error: \n",
      "This row throws error: \n",
      "This row throws error: \n",
      "This row throws error: \n",
      "This row throws error: \n",
      "This row throws error: \n",
      "This row throws error: \n"
     ]
    }
   ],
   "source": [
    "texl70 = df['Cleaned_text']\n",
    "langdet = []\n",
    "    \n",
    "for i in range(len(df)):                                         \n",
    "    try:                                                          \n",
    "        lang=detect(texl70[i])                                      \n",
    "    except:                                                       \n",
    "        lang=''                                                  \n",
    "        print(\"This row throws error:\", texl70[i])                 \n",
    "    langdet.append(lang)     "
   ]
  },
  {
   "cell_type": "code",
   "execution_count": 41,
   "id": "9fcd2323",
   "metadata": {},
   "outputs": [
    {
     "data": {
      "text/html": [
       "<div>\n",
       "<style scoped>\n",
       "    .dataframe tbody tr th:only-of-type {\n",
       "        vertical-align: middle;\n",
       "    }\n",
       "\n",
       "    .dataframe tbody tr th {\n",
       "        vertical-align: top;\n",
       "    }\n",
       "\n",
       "    .dataframe thead th {\n",
       "        text-align: right;\n",
       "    }\n",
       "</style>\n",
       "<table border=\"1\" class=\"dataframe\">\n",
       "  <thead>\n",
       "    <tr style=\"text-align: right;\">\n",
       "      <th></th>\n",
       "      <th>Messages</th>\n",
       "      <th>catégorie</th>\n",
       "      <th>Cleaned_text</th>\n",
       "      <th>occurence</th>\n",
       "      <th>lang</th>\n",
       "    </tr>\n",
       "  </thead>\n",
       "  <tbody>\n",
       "    <tr>\n",
       "      <th>0</th>\n",
       "      <td>Bonjour,Ci-joint le mandat sepa et le rib.</td>\n",
       "      <td>contrat</td>\n",
       "      <td>bonjour ci joint le mandat sepa et le rib</td>\n",
       "      <td>42</td>\n",
       "      <td>fr</td>\n",
       "    </tr>\n",
       "    <tr>\n",
       "      <th>1</th>\n",
       "      <td>DANIEL   GUEGANSOCIETE DES TRANSPORTS GUEGANCl...</td>\n",
       "      <td>commande de badge</td>\n",
       "      <td>daniel guegansociete des transports gueganclie...</td>\n",
       "      <td>703</td>\n",
       "      <td>fr</td>\n",
       "    </tr>\n",
       "    <tr>\n",
       "      <th>2</th>\n",
       "      <td>Bonjour, J’ai essayé de faire la modification...</td>\n",
       "      <td>badge</td>\n",
       "      <td>bonjour j’ai essayé de faire la modification d...</td>\n",
       "      <td>489</td>\n",
       "      <td>fr</td>\n",
       "    </tr>\n",
       "    <tr>\n",
       "      <th>3</th>\n",
       "      <td>Bonjour, merci de me faire un badge avec la gé...</td>\n",
       "      <td>commande de badge</td>\n",
       "      <td>bonjour merci de me faire un badge avec la géo...</td>\n",
       "      <td>420</td>\n",
       "      <td>fr</td>\n",
       "    </tr>\n",
       "    <tr>\n",
       "      <th>4</th>\n",
       "      <td>No Message</td>\n",
       "      <td>no message</td>\n",
       "      <td>no message</td>\n",
       "      <td>-1</td>\n",
       "      <td>pt</td>\n",
       "    </tr>\n",
       "  </tbody>\n",
       "</table>\n",
       "</div>"
      ],
      "text/plain": [
       "                                            Messages          catégorie  \\\n",
       "0         Bonjour,Ci-joint le mandat sepa et le rib.            contrat   \n",
       "1  DANIEL   GUEGANSOCIETE DES TRANSPORTS GUEGANCl...  commande de badge   \n",
       "2   Bonjour, J’ai essayé de faire la modification...              badge   \n",
       "3  Bonjour, merci de me faire un badge avec la gé...  commande de badge   \n",
       "4                                         No Message         no message   \n",
       "\n",
       "                                        Cleaned_text  occurence lang  \n",
       "0          bonjour ci joint le mandat sepa et le rib         42   fr  \n",
       "1  daniel guegansociete des transports gueganclie...        703   fr  \n",
       "2  bonjour j’ai essayé de faire la modification d...        489   fr  \n",
       "3  bonjour merci de me faire un badge avec la géo...        420   fr  \n",
       "4                                         no message         -1   pt  "
      ]
     },
     "execution_count": 41,
     "metadata": {},
     "output_type": "execute_result"
    }
   ],
   "source": [
    "df['lang']=langdet\n",
    "df.head()"
   ]
  },
  {
   "cell_type": "code",
   "execution_count": 42,
   "id": "fb08e009",
   "metadata": {},
   "outputs": [],
   "source": [
    "df=df.loc[df['lang']=='fr']"
   ]
  },
  {
   "cell_type": "code",
   "execution_count": 43,
   "id": "17418b64",
   "metadata": {},
   "outputs": [
    {
     "data": {
      "text/html": [
       "<div>\n",
       "<style scoped>\n",
       "    .dataframe tbody tr th:only-of-type {\n",
       "        vertical-align: middle;\n",
       "    }\n",
       "\n",
       "    .dataframe tbody tr th {\n",
       "        vertical-align: top;\n",
       "    }\n",
       "\n",
       "    .dataframe thead th {\n",
       "        text-align: right;\n",
       "    }\n",
       "</style>\n",
       "<table border=\"1\" class=\"dataframe\">\n",
       "  <thead>\n",
       "    <tr style=\"text-align: right;\">\n",
       "      <th></th>\n",
       "      <th>Messages</th>\n",
       "      <th>catégorie</th>\n",
       "      <th>Cleaned_text</th>\n",
       "      <th>occurence</th>\n",
       "      <th>lang</th>\n",
       "    </tr>\n",
       "  </thead>\n",
       "  <tbody>\n",
       "    <tr>\n",
       "      <th>0</th>\n",
       "      <td>Bonjour,Ci-joint le mandat sepa et le rib.</td>\n",
       "      <td>contrat</td>\n",
       "      <td>bonjour ci joint le mandat sepa et le rib</td>\n",
       "      <td>42</td>\n",
       "      <td>fr</td>\n",
       "    </tr>\n",
       "    <tr>\n",
       "      <th>1</th>\n",
       "      <td>DANIEL   GUEGANSOCIETE DES TRANSPORTS GUEGANCl...</td>\n",
       "      <td>commande de badge</td>\n",
       "      <td>daniel guegansociete des transports gueganclie...</td>\n",
       "      <td>703</td>\n",
       "      <td>fr</td>\n",
       "    </tr>\n",
       "    <tr>\n",
       "      <th>2</th>\n",
       "      <td>Bonjour, J’ai essayé de faire la modification...</td>\n",
       "      <td>badge</td>\n",
       "      <td>bonjour j’ai essayé de faire la modification d...</td>\n",
       "      <td>489</td>\n",
       "      <td>fr</td>\n",
       "    </tr>\n",
       "    <tr>\n",
       "      <th>3</th>\n",
       "      <td>Bonjour, merci de me faire un badge avec la gé...</td>\n",
       "      <td>commande de badge</td>\n",
       "      <td>bonjour merci de me faire un badge avec la géo...</td>\n",
       "      <td>420</td>\n",
       "      <td>fr</td>\n",
       "    </tr>\n",
       "    <tr>\n",
       "      <th>5</th>\n",
       "      <td>Bonjour, L'appareil 3156490017550003485 a été ...</td>\n",
       "      <td>badge</td>\n",
       "      <td>bonjour l appareil  a été attribué au camion  ...</td>\n",
       "      <td>2462</td>\n",
       "      <td>fr</td>\n",
       "    </tr>\n",
       "  </tbody>\n",
       "</table>\n",
       "</div>"
      ],
      "text/plain": [
       "                                            Messages          catégorie  \\\n",
       "0         Bonjour,Ci-joint le mandat sepa et le rib.            contrat   \n",
       "1  DANIEL   GUEGANSOCIETE DES TRANSPORTS GUEGANCl...  commande de badge   \n",
       "2   Bonjour, J’ai essayé de faire la modification...              badge   \n",
       "3  Bonjour, merci de me faire un badge avec la gé...  commande de badge   \n",
       "5  Bonjour, L'appareil 3156490017550003485 a été ...              badge   \n",
       "\n",
       "                                        Cleaned_text  occurence lang  \n",
       "0          bonjour ci joint le mandat sepa et le rib         42   fr  \n",
       "1  daniel guegansociete des transports gueganclie...        703   fr  \n",
       "2  bonjour j’ai essayé de faire la modification d...        489   fr  \n",
       "3  bonjour merci de me faire un badge avec la géo...        420   fr  \n",
       "5  bonjour l appareil  a été attribué au camion  ...       2462   fr  "
      ]
     },
     "execution_count": 43,
     "metadata": {},
     "output_type": "execute_result"
    }
   ],
   "source": [
    "df.head()"
   ]
  },
  {
   "cell_type": "code",
   "execution_count": 44,
   "id": "6e1c35b3",
   "metadata": {},
   "outputs": [
    {
     "data": {
      "text/plain": [
       "'bonjour j’ai essayé de faire la modification du badge du ec  ks initialement en classe  que nous avons vendu et remplacé par une classe  immatriculé dw  bj le badge est via axxes sat manager portant le n°  vous trouverez ci joint la carte grise du nouveau camionn pour lequel nous vous demandons de bien vouloir soit effectuer le changement ou nous contacter afin que nous fassions cette opération en direct par téléphone svp restant à votre disposition'"
      ]
     },
     "execution_count": 44,
     "metadata": {},
     "output_type": "execute_result"
    }
   ],
   "source": [
    "df[\"Cleaned_text\"][2]"
   ]
  },
  {
   "cell_type": "code",
   "execution_count": 45,
   "id": "564f1f7e",
   "metadata": {},
   "outputs": [
    {
     "data": {
      "text/plain": [
       "471"
      ]
     },
     "execution_count": 45,
     "metadata": {},
     "output_type": "execute_result"
    }
   ],
   "source": [
    "len(df)"
   ]
  },
  {
   "cell_type": "code",
   "execution_count": 46,
   "id": "cbaec03f",
   "metadata": {},
   "outputs": [
    {
     "data": {
      "text/plain": [
       "[('0', 'bonjour'),\n",
       " ('bonjour', 'ci'),\n",
       " ('ci', 'joint'),\n",
       " ('joint', 'le'),\n",
       " ('le', 'mandat'),\n",
       " ('mandat', 'sepa'),\n",
       " ('sepa', 'et'),\n",
       " ('et', 'le'),\n",
       " ('le', 'rib'),\n",
       " ('rib', '1'),\n",
       " ('1', 'daniel'),\n",
       " ('daniel', 'guegansociete'),\n",
       " ('guegansociete', 'des'),\n",
       " ('des', 'transports'),\n",
       " ('transports', 'gueganclie'),\n",
       " ('gueganclie', '2'),\n",
       " ('2', 'bonjour'),\n",
       " ('bonjour', 'j'),\n",
       " ('j', 'ai'),\n",
       " ('ai', 'essayé'),\n",
       " ('essayé', 'de'),\n",
       " ('de', 'faire'),\n",
       " ('faire', 'la'),\n",
       " ('la', 'modification'),\n",
       " ('modification', 'd'),\n",
       " ('d', '3'),\n",
       " ('3', 'bonjour'),\n",
       " ('bonjour', 'merci'),\n",
       " ('merci', 'de'),\n",
       " ('de', 'me'),\n",
       " ('me', 'faire'),\n",
       " ('faire', 'un'),\n",
       " ('un', 'badge'),\n",
       " ('badge', 'avec'),\n",
       " ('avec', 'la'),\n",
       " ('la', 'géo'),\n",
       " ('géo', '5'),\n",
       " ('5', 'bonjour'),\n",
       " ('bonjour', 'l'),\n",
       " ('l', 'appareil'),\n",
       " ('appareil', 'a'),\n",
       " ('a', 'été'),\n",
       " ('été', 'attribué'),\n",
       " ('attribué', 'au'),\n",
       " ('au', 'camion'),\n",
       " ('camion', '795'),\n",
       " ('795', 'bonjour'),\n",
       " ('bonjour', 'vous'),\n",
       " ('vous', 'pouvez'),\n",
       " ('pouvez', 'procéder'),\n",
       " ('procéder', 'à'),\n",
       " ('à', 'l'),\n",
       " ('l', 'échange'),\n",
       " ('échange', 'du'),\n",
       " ('du', 'ba'),\n",
       " ('ba', '796'),\n",
       " ('796', 'forwarded'),\n",
       " ('forwarded', 'message'),\n",
       " ('message', 'de'),\n",
       " ('de', 'commerce'),\n",
       " ('commerce', 'bailly'),\n",
       " ('bailly', 'commerceb'),\n",
       " ('commerceb', '797'),\n",
       " ('797', 'rue'),\n",
       " ('rue', 'maurice'),\n",
       " ('maurice', 'delpouys'),\n",
       " ('delpouys', 'bp'),\n",
       " ('bp', 'montauban'),\n",
       " ('montauban', 'telepho'),\n",
       " ('telepho', '798'),\n",
       " ('798', 'bonjour'),\n",
       " ('bonjour', 'demande'),\n",
       " ('demande', 'nouveaux'),\n",
       " ('nouveaux', 'badges'),\n",
       " ('badges', 'vl'),\n",
       " ('vl', 'compte'),\n",
       " ('compte', 'XXXX'),\n",
       " ('XXXX', '799'),\n",
       " ('799', 'shagui'),\n",
       " ('shagui', 'antoinecomptable'),\n",
       " ('antoinecomptable', 'fournisseurs'),\n",
       " ('fournisseurs', 'supplier'),\n",
       " ('supplier', 'Name'),\n",
       " ('Name', 'Cleaned_text'),\n",
       " ('Cleaned_text', 'Length'),\n",
       " ('Length', '471'),\n",
       " ('471', 'dtype'),\n",
       " ('dtype', 'object')]"
      ]
     },
     "execution_count": 46,
     "metadata": {},
     "output_type": "execute_result"
    }
   ],
   "source": [
    "tokenizer = nltk.RegexpTokenizer(r'\\w+')\n",
    "tokens = tokenizer.tokenize(str(df[\"Cleaned_text\"]))\n",
    "list(nltk.bigrams(tokens))"
   ]
  },
  {
   "cell_type": "code",
   "execution_count": 47,
   "id": "73408f4e",
   "metadata": {},
   "outputs": [],
   "source": [
    "def clean_text(text):\n",
    "    text = \"\".join([word.lower() for word in text if word not in string.punctuation]) \n",
    "    tokens = re.split('\\W+', text)#separe les valeurs non alphanumérique \n",
    "    text = [wn.lemmatize(word) for word in tokens if word not in stopwords]\n",
    "    return text"
   ]
  },
  {
   "cell_type": "code",
   "execution_count": 48,
   "id": "2cc5944c",
   "metadata": {},
   "outputs": [],
   "source": [
    "stopwords = nltk.corpus.stopwords.words('french')\n",
    "ps = nltk.PorterStemmer()\n",
    "wn = nltk.WordNetLemmatizer()"
   ]
  },
  {
   "cell_type": "code",
   "execution_count": 49,
   "id": "ab3cde7b",
   "metadata": {},
   "outputs": [],
   "source": [
    "#df['Cleaned_text'] = df['Cleaned_text'].apply(lambda x: clean_text(x))"
   ]
  },
  {
   "cell_type": "code",
   "execution_count": 50,
   "id": "bbf73740",
   "metadata": {},
   "outputs": [],
   "source": [
    "X = df['Cleaned_text']\n",
    "y = df['catégorie']\n",
    "X_train, X_test, y_train, y_test = train_test_split(X, y, test_size=0.27, random_state = 22)"
   ]
  },
  {
   "cell_type": "code",
   "execution_count": 51,
   "id": "f195e815",
   "metadata": {},
   "outputs": [
    {
     "name": "stdout",
     "output_type": "stream",
     "text": [
      "accuracy 0.34375\n",
      "                   precision    recall  f1-score   support\n",
      "\n",
      "            badge       0.62      0.16      0.26        31\n",
      "commande de badge       0.31      0.95      0.46        38\n",
      "    interne Axxès       1.00      0.33      0.50         9\n",
      "\n",
      "        micro avg       0.34      0.56      0.43        78\n",
      "        macro avg       0.64      0.48      0.41        78\n",
      "     weighted avg       0.51      0.56      0.39        78\n",
      "\n"
     ]
    }
   ],
   "source": [
    "from sklearn.naive_bayes import MultinomialNB\n",
    "from sklearn.pipeline import Pipeline\n",
    "from sklearn.feature_extraction.text import TfidfTransformer\n",
    "#from nltk.tokenize import tokenize\n",
    "\n",
    "nb = Pipeline([('vect', CountVectorizer()),\n",
    "               ('tfidf', TfidfTransformer()),\n",
    "               ('clf', MultinomialNB()),\n",
    "              ])\n",
    "nb.fit(X_train, y_train)\n",
    "\n",
    "\n",
    "from sklearn.metrics import classification_report\n",
    "y_pred = nb.predict(X_test)\n",
    "\n",
    "print('accuracy %s' % accuracy_score(y_pred, y_test))\n",
    "print(classification_report(y_test, y_pred,labels=np.unique(y_pred)))"
   ]
  },
  {
   "cell_type": "code",
   "execution_count": 52,
   "id": "abcc1737",
   "metadata": {},
   "outputs": [
    {
     "name": "stdout",
     "output_type": "stream",
     "text": [
      "accuracy 0.640625\n",
      "                                precision    recall  f1-score   support\n",
      "\n",
      "                         badge       0.71      0.65      0.68        31\n",
      "             commande de badge       0.63      0.84      0.72        38\n",
      "                       contrat       0.71      0.43      0.54        23\n",
      "      demande de renseignement       1.00      0.12      0.22         8\n",
      "                 interne Axxès       0.70      0.78      0.74         9\n",
      "         renseignement facture       0.55      0.86      0.67        14\n",
      "réclamation qualité de service       0.00      0.00      0.00         0\n",
      "\n",
      "                     micro avg       0.64      0.67      0.65       123\n",
      "                     macro avg       0.61      0.53      0.51       123\n",
      "                  weighted avg       0.69      0.67      0.64       123\n",
      "\n"
     ]
    },
    {
     "name": "stderr",
     "output_type": "stream",
     "text": [
      "C:\\Users\\bertille.lekeufack\\.conda\\envs\\stage1\\lib\\site-packages\\sklearn\\metrics\\_classification.py:1248: UndefinedMetricWarning: Recall and F-score are ill-defined and being set to 0.0 in labels with no true samples. Use `zero_division` parameter to control this behavior.\n",
      "  _warn_prf(average, modifier, msg_start, len(result))\n",
      "C:\\Users\\bertille.lekeufack\\.conda\\envs\\stage1\\lib\\site-packages\\sklearn\\metrics\\_classification.py:1248: UndefinedMetricWarning: Recall and F-score are ill-defined and being set to 0.0 in labels with no true samples. Use `zero_division` parameter to control this behavior.\n",
      "  _warn_prf(average, modifier, msg_start, len(result))\n",
      "C:\\Users\\bertille.lekeufack\\.conda\\envs\\stage1\\lib\\site-packages\\sklearn\\metrics\\_classification.py:1248: UndefinedMetricWarning: Recall and F-score are ill-defined and being set to 0.0 in labels with no true samples. Use `zero_division` parameter to control this behavior.\n",
      "  _warn_prf(average, modifier, msg_start, len(result))\n"
     ]
    }
   ],
   "source": [
    "from sklearn.linear_model import SGDClassifier\n",
    "\n",
    "sdg_params = dict(alpha=1e-5, penalty='l2', loss='log')\n",
    "vectorizer_params = dict(ngram_range=(1, 2), min_df=5, max_df=0.8)\n",
    "\n",
    "sgd = Pipeline([('vect', CountVectorizer()),\n",
    "                ('tfidf', TfidfTransformer()),\n",
    "                ('clf', SGDClassifier(loss='hinge', penalty='l2',alpha=1e-3, random_state=42, max_iter=5, tol=None)),\n",
    "               ])\n",
    "sgd.fit(X_train, y_train)\n",
    "\n",
    "\n",
    "y_pred = sgd.predict(X_test)\n",
    "\n",
    "print('accuracy %s' % accuracy_score(y_pred, y_test))\n",
    "print(classification_report(y_test, y_pred,labels=np.unique(y_pred)))"
   ]
  },
  {
   "cell_type": "code",
   "execution_count": 53,
   "id": "65b65868",
   "metadata": {},
   "outputs": [
    {
     "name": "stdout",
     "output_type": "stream",
     "text": [
      "accuracy 0.5625\n",
      "0.3528212675432219\n",
      "0.5625\n",
      "0.5347904282767469\n",
      "                                precision    recall  f1-score   support\n",
      "\n",
      "                         badge       0.60      0.58      0.59        31\n",
      "             commande de badge       0.60      0.79      0.68        38\n",
      "                       contrat       0.43      0.26      0.32        23\n",
      "      demande de renseignement       0.50      0.12      0.20         8\n",
      "                 interne Axxès       0.88      0.78      0.82         9\n",
      "         renseignement facture       0.45      0.71      0.56        14\n",
      "réclamation qualité de service       0.00      0.00      0.00         0\n",
      "\n",
      "                     micro avg       0.56      0.59      0.57       123\n",
      "                     macro avg       0.49      0.46      0.45       123\n",
      "                  weighted avg       0.57      0.59      0.56       123\n",
      "\n"
     ]
    },
    {
     "name": "stderr",
     "output_type": "stream",
     "text": [
      "C:\\Users\\bertille.lekeufack\\.conda\\envs\\stage1\\lib\\site-packages\\sklearn\\linear_model\\_logistic.py:763: ConvergenceWarning: lbfgs failed to converge (status=1):\n",
      "STOP: TOTAL NO. of ITERATIONS REACHED LIMIT.\n",
      "\n",
      "Increase the number of iterations (max_iter) or scale the data as shown in:\n",
      "    https://scikit-learn.org/stable/modules/preprocessing.html\n",
      "Please also refer to the documentation for alternative solver options:\n",
      "    https://scikit-learn.org/stable/modules/linear_model.html#logistic-regression\n",
      "  n_iter_i = _check_optimize_result(\n",
      "C:\\Users\\bertille.lekeufack\\.conda\\envs\\stage1\\lib\\site-packages\\sklearn\\metrics\\_classification.py:1248: UndefinedMetricWarning: Recall and F-score are ill-defined and being set to 0.0 in labels with no true samples. Use `zero_division` parameter to control this behavior.\n",
      "  _warn_prf(average, modifier, msg_start, len(result))\n",
      "C:\\Users\\bertille.lekeufack\\.conda\\envs\\stage1\\lib\\site-packages\\sklearn\\metrics\\_classification.py:1248: UndefinedMetricWarning: Recall and F-score are ill-defined and being set to 0.0 in labels with no true samples. Use `zero_division` parameter to control this behavior.\n",
      "  _warn_prf(average, modifier, msg_start, len(result))\n",
      "C:\\Users\\bertille.lekeufack\\.conda\\envs\\stage1\\lib\\site-packages\\sklearn\\metrics\\_classification.py:1248: UndefinedMetricWarning: Recall and F-score are ill-defined and being set to 0.0 in labels with no true samples. Use `zero_division` parameter to control this behavior.\n",
      "  _warn_prf(average, modifier, msg_start, len(result))\n"
     ]
    }
   ],
   "source": [
    "from sklearn.linear_model import LogisticRegression\n",
    "\n",
    "logreg = Pipeline([('vect', CountVectorizer()),\n",
    "                ('tfidf', TfidfTransformer()),\n",
    "                ('clf', LogisticRegression(n_jobs=1, C=1e5)),\n",
    "               ])\n",
    "logreg.fit(X_train, y_train)\n",
    "\n",
    "\n",
    "y_pred = logreg.predict(X_test)\n",
    "\n",
    "print('accuracy %s' % accuracy_score(y_pred, y_test))\n",
    "print(f1_score(y_test, y_pred, average='macro'))\n",
    "print(f1_score(y_test, y_pred, average='micro'))\n",
    "print(f1_score(y_test, y_pred, average='weighted'))\n",
    "\n",
    "print(classification_report(y_test, y_pred,labels=np.unique(y_pred)))"
   ]
  },
  {
   "cell_type": "code",
   "execution_count": 54,
   "id": "2e8e280d",
   "metadata": {},
   "outputs": [],
   "source": [
    "from sklearn.model_selection import learning_curve"
   ]
  },
  {
   "cell_type": "code",
   "execution_count": 55,
   "id": "67cf09b0",
   "metadata": {
    "scrolled": false
   },
   "outputs": [
    {
     "name": "stderr",
     "output_type": "stream",
     "text": [
      "C:\\Users\\bertille.lekeufack\\.conda\\envs\\stage1\\lib\\site-packages\\sklearn\\model_selection\\_split.py:666: UserWarning: The least populated class in y has only 1 members, which is less than n_splits=4.\n",
      "  warnings.warn((\"The least populated class in y has only %d\"\n"
     ]
    }
   ],
   "source": [
    "N, train_score, val_score = learning_curve(sgd,X_train, y_train, cv=4, scoring='accuracy', train_sizes=np.linspace(0.1,1,10))\n"
   ]
  },
  {
   "cell_type": "code",
   "execution_count": 56,
   "id": "08d46154",
   "metadata": {},
   "outputs": [
    {
     "data": {
      "text/plain": [
       "(10, 4)"
      ]
     },
     "execution_count": 56,
     "metadata": {},
     "output_type": "execute_result"
    }
   ],
   "source": [
    "train_score.shape\n",
    "#val_score.shape\n",
    "#N.shape"
   ]
  },
  {
   "cell_type": "code",
   "execution_count": 57,
   "id": "908b083a",
   "metadata": {},
   "outputs": [
    {
     "data": {
      "text/plain": [
       "<matplotlib.legend.Legend at 0x10c833d6e80>"
      ]
     },
     "execution_count": 57,
     "metadata": {},
     "output_type": "execute_result"
    },
    {
     "data": {
      "image/png": "[encoded data removed]",
      "text/plain": [
       "<Figure size 864x576 with 1 Axes>"
      ]
     },
     "metadata": {
      "needs_background": "light"
     },
     "output_type": "display_data"
    }
   ],
   "source": [
    "plt.figure(figsize=(12,8))\n",
    "plt.plot(N,train_score.mean(axis=1),label='train score')\n",
    "plt.plot(N,val_score.mean(axis=1),label='validation score')\n",
    "plt.legend()"
   ]
  },
  {
   "cell_type": "code",
   "execution_count": 29,
   "id": "442e608c",
   "metadata": {},
   "outputs": [
    {
     "ename": "NameError",
     "evalue": "name 'lem_words' is not defined",
     "output_type": "error",
     "traceback": [
      "\u001b[1;31m---------------------------------------------------------------------------\u001b[0m",
      "\u001b[1;31mNameError\u001b[0m                                 Traceback (most recent call last)",
      "\u001b[1;32m<ipython-input-29-3f0efed5f015>\u001b[0m in \u001b[0;36m<module>\u001b[1;34m\u001b[0m\n\u001b[1;32m----> 1\u001b[1;33m \u001b[0mlen\u001b[0m\u001b[1;33m(\u001b[0m\u001b[0mlem_words\u001b[0m\u001b[1;33m)\u001b[0m\u001b[1;33m\u001b[0m\u001b[1;33m\u001b[0m\u001b[0m\n\u001b[0m",
      "\u001b[1;31mNameError\u001b[0m: name 'lem_words' is not defined"
     ]
    }
   ],
   "source": [
    "len(lem_words)"
   ]
  },
  {
   "cell_type": "code",
   "execution_count": null,
   "id": "3c9df9c4",
   "metadata": {},
   "outputs": [],
   "source": [
    "same=0\n",
    "diff=0\n",
    "\n",
    "for i in range(0,1832):\n",
    "    if(lem_words[i]==words_new[i]):\n",
    "        same=same+1\n",
    "    elif(lem_words[i]!=words_new[i]):\n",
    "        diff=diff+1\n",
    "        \n",
    "print('Number of words Lemmatized=', diff)\n",
    "print('Number of words not Lemmatized=', same)"
   ]
  },
  {
   "cell_type": "code",
   "execution_count": null,
   "id": "a77f15f1",
   "metadata": {},
   "outputs": [],
   "source": [
    "#The frequency distribution of the words\n",
    "freq_dist = nltk.FreqDist(lem_words)"
   ]
  },
  {
   "cell_type": "code",
   "execution_count": null,
   "id": "1470bef3",
   "metadata": {},
   "outputs": [],
   "source": [
    "#Frequency Distribution Plot\n",
    "plt.subplots(figsize=(20,12))\n",
    "freq_dist.plot(30)"
   ]
  },
  {
   "cell_type": "code",
   "execution_count": null,
   "id": "ff11bc85",
   "metadata": {},
   "outputs": [],
   "source": [
    "len(freq_dist)"
   ]
  },
  {
   "cell_type": "code",
   "execution_count": null,
   "id": "0ae21589",
   "metadata": {},
   "outputs": [],
   "source": [
    "mostcommon = freq_dist.most_common(50)"
   ]
  },
  {
   "cell_type": "code",
   "execution_count": null,
   "id": "c310102d",
   "metadata": {},
   "outputs": [],
   "source": [
    "mostcommon"
   ]
  },
  {
   "cell_type": "code",
   "execution_count": null,
   "id": "6cf3192a",
   "metadata": {},
   "outputs": [],
   "source": [
    "#converting into string\n",
    "\n",
    "res=' '.join([i for i in lem_words if not i.isdigit()])"
   ]
  },
  {
   "cell_type": "code",
   "execution_count": null,
   "id": "6ac50e65",
   "metadata": {},
   "outputs": [],
   "source": [
    "plt.subplots(figsize=(16,10))\n",
    "wordcloud = WordCloud(\n",
    "                          background_color='black',\n",
    "                          max_words=100,\n",
    "                          width=1400,\n",
    "                          height=1200\n",
    "                         ).generate(res)\n",
    "\n",
    "\n",
    "plt.imshow(wordcloud)\n",
    "plt.title('Resume Text WordCloud (100 Words)')\n",
    "plt.axis('off')\n",
    "plt.show()"
   ]
  },
  {
   "cell_type": "code",
   "execution_count": null,
   "id": "8584982f",
   "metadata": {},
   "outputs": [],
   "source": [
    "plt.subplots(figsize=(20,15))\n",
    "wordcloud = WordCloud(\n",
    "                          background_color='black',\n",
    "                          max_words=200,\n",
    "                          width=1400,\n",
    "                          height=1200\n",
    "                         ).generate(res)\n",
    "\n",
    "\n",
    "plt.imshow(wordcloud)\n",
    "plt.title('Resume Text WordCloud (200 Words)')\n",
    "plt.axis('off')\n",
    "plt.show()"
   ]
  },
  {
   "cell_type": "code",
   "execution_count": null,
   "id": "a10d1b04",
   "metadata": {},
   "outputs": [],
   "source": [
    "data_science= df[df[\"catégorie\"]==\"commande de badge\"]"
   ]
  },
  {
   "cell_type": "code",
   "execution_count": null,
   "id": "83c11b48",
   "metadata": {},
   "outputs": [],
   "source": [
    "data_science.head()"
   ]
  },
  {
   "cell_type": "code",
   "execution_count": null,
   "id": "a9899910",
   "metadata": {},
   "outputs": [],
   "source": [
    "len(data_science)"
   ]
  },
  {
   "cell_type": "code",
   "execution_count": null,
   "id": "481a2232",
   "metadata": {},
   "outputs": [],
   "source": [
    "#getting the entire resume text\n",
    "\n",
    "data_science_corpus = \" \"\n",
    "\n",
    "for i in range(0,40):\n",
    "    data_science_corpus = data_science_corpus + data_science[\"Cleaned_text\"][i]"
   ]
  },
  {
   "cell_type": "code",
   "execution_count": null,
   "id": "5d440cef",
   "metadata": {},
   "outputs": [],
   "source": [
    "data_science_corpus=data_science_corpus.lower()"
   ]
  },
  {
   "cell_type": "code",
   "execution_count": null,
   "id": "69d38b84",
   "metadata": {},
   "outputs": [],
   "source": [
    "words_data_science=data_science_corpus.split()"
   ]
  },
  {
   "cell_type": "code",
   "execution_count": null,
   "id": "75db6c29",
   "metadata": {},
   "outputs": [],
   "source": [
    "from sklearn import preprocessing\n",
    "from sklearn.preprocessing import LabelBinarizer"
   ]
  },
  {
   "cell_type": "code",
   "execution_count": null,
   "id": "efe71e47",
   "metadata": {},
   "outputs": [],
   "source": [
    "y= np.array(df['catégorie'])"
   ]
  },
  {
   "cell_type": "code",
   "execution_count": null,
   "id": "dfe2f1d8",
   "metadata": {},
   "outputs": [],
   "source": [
    "y_dense = LabelBinarizer().fit_transform(y)"
   ]
  },
  {
   "cell_type": "code",
   "execution_count": null,
   "id": "a8cdcf35",
   "metadata": {},
   "outputs": [],
   "source": [
    "print(y_dense)"
   ]
  },
  {
   "cell_type": "code",
   "execution_count": null,
   "id": "2b2daf83",
   "metadata": {},
   "outputs": [],
   "source": [
    "from scipy import sparse\n",
    "y_sparse = sparse.csr_matrix(y_dense)\n",
    "print(y_sparse)"
   ]
  },
  {
   "cell_type": "code",
   "execution_count": null,
   "id": "cd8ec8c9",
   "metadata": {},
   "outputs": [],
   "source": [
    "lower_boundary = 0\n",
    "upper_boundary = 1\n",
    "n = 5 # dimension\n",
    "sample_size = 10000\n",
    "\n",
    "np.random.seed(9001) # set the seed to yield reproducible results\n",
    "\n",
    "X = np.random.uniform( low=lower_boundary, high=upper_boundary, size=(sample_size, n) )\n",
    "Y = np.random.uniform( low=lower_boundary, high=upper_boundary, size=(sample_size, n) )\n",
    "\n",
    "print( 'X: ', X )\n",
    "print( 'Y: ', Y )"
   ]
  },
  {
   "cell_type": "code",
   "execution_count": null,
   "id": "19e37ba9",
   "metadata": {},
   "outputs": [],
   "source": []
  }
 ],
 "metadata": {
  "kernelspec": {
   "display_name": "Python 3",
   "language": "python",
   "name": "python3"
  },
  "language_info": {
   "codemirror_mode": {
    "name": "ipython",
    "version": 3
   },
   "file_extension": ".py",
   "mimetype": "text/x-python",
   "name": "python",
   "nbconvert_exporter": "python",
   "pygments_lexer": "ipython3",
   "version": "3.8.8"
  }
 },
 "nbformat": 4,
 "nbformat_minor": 5
}
