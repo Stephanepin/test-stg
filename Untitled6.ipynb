{
 "cells": [
  {
   "cell_type": "code",
   "execution_count": 1,
   "id": "0401c543",
   "metadata": {},
   "outputs": [],
   "source": [
    "import numpy as np\n",
    "from numpy import random\n",
    "import gensim\n",
    "import nltk\n",
    "import pandas as pd\n",
    "from sklearn.model_selection import train_test_split\n",
    "from sklearn.feature_extraction.text import CountVectorizer, TfidfVectorizer\n",
    "from sklearn.metrics import accuracy_score, confusion_matrix\n",
    "import matplotlib.pyplot as plt\n",
    "from sklearn.model_selection import cross_val_score\n",
    "from nltk.corpus import stopwords\n",
    "import re\n",
    "%matplotlib inline"
   ]
  },
  {
   "cell_type": "code",
   "execution_count": 2,
   "id": "0315c04b",
   "metadata": {},
   "outputs": [
    {
     "data": {
      "text/html": [
       "<div>\n",
       "<style scoped>\n",
       "    .dataframe tbody tr th:only-of-type {\n",
       "        vertical-align: middle;\n",
       "    }\n",
       "\n",
       "    .dataframe tbody tr th {\n",
       "        vertical-align: top;\n",
       "    }\n",
       "\n",
       "    .dataframe thead th {\n",
       "        text-align: right;\n",
       "    }\n",
       "</style>\n",
       "<table border=\"1\" class=\"dataframe\">\n",
       "  <thead>\n",
       "    <tr style=\"text-align: right;\">\n",
       "      <th></th>\n",
       "      <th>Messages</th>\n",
       "      <th>catégorie</th>\n",
       "    </tr>\n",
       "  </thead>\n",
       "  <tbody>\n",
       "    <tr>\n",
       "      <th>0</th>\n",
       "      <td>virginie-couturier@bourgognerecyclage.combadge...</td>\n",
       "      <td>a</td>\n",
       "    </tr>\n",
       "    <tr>\n",
       "      <th>1</th>\n",
       "      <td>mfb@dldevel.com RAPPEL -  Conférence Subventio...</td>\n",
       "      <td>a</td>\n",
       "    </tr>\n",
       "    <tr>\n",
       "      <th>2</th>\n",
       "      <td>secretariat@trdl.frRE: TRDL - Client n° 000005...</td>\n",
       "      <td>a</td>\n",
       "    </tr>\n",
       "    <tr>\n",
       "      <th>3</th>\n",
       "      <td>MicrosoftExchange329e71ec88ae4615bbc36ab6ce411...</td>\n",
       "      <td>a</td>\n",
       "    </tr>\n",
       "    <tr>\n",
       "      <th>4</th>\n",
       "      <td>Irina.NEDYALKOVA@gefco.netGefco TT: connexion ...</td>\n",
       "      <td>a</td>\n",
       "    </tr>\n",
       "    <tr>\n",
       "      <th>...</th>\n",
       "      <td>...</td>\n",
       "      <td>...</td>\n",
       "    </tr>\n",
       "    <tr>\n",
       "      <th>4543</th>\n",
       "      <td>RE: Commande urgente \\n Le probleme pour moi c...</td>\n",
       "      <td>a</td>\n",
       "    </tr>\n",
       "    <tr>\n",
       "      <th>4544</th>\n",
       "      <td>Changement badge client n 000107790Bonjour _x0...</td>\n",
       "      <td>a</td>\n",
       "    </tr>\n",
       "    <tr>\n",
       "      <th>4545</th>\n",
       "      <td>TR:  Confirmation commande n° 000613430 \\n    ...</td>\n",
       "      <td>a</td>\n",
       "    </tr>\n",
       "    <tr>\n",
       "      <th>4546</th>\n",
       "      <td>commande 3 badges \\n Bonjour marine   Pouvez v...</td>\n",
       "      <td>a</td>\n",
       "    </tr>\n",
       "    <tr>\n",
       "      <th>4547</th>\n",
       "      <td>COMMANDE \\n Bonjour marine   J'ai un pb a la ...</td>\n",
       "      <td>a</td>\n",
       "    </tr>\n",
       "  </tbody>\n",
       "</table>\n",
       "<p>4548 rows × 2 columns</p>\n",
       "</div>"
      ],
      "text/plain": [
       "                                               Messages catégorie\n",
       "0     virginie-couturier@bourgognerecyclage.combadge...         a\n",
       "1     mfb@dldevel.com RAPPEL -  Conférence Subventio...         a\n",
       "2     secretariat@trdl.frRE: TRDL - Client n° 000005...         a\n",
       "3     MicrosoftExchange329e71ec88ae4615bbc36ab6ce411...         a\n",
       "4     Irina.NEDYALKOVA@gefco.netGefco TT: connexion ...         a\n",
       "...                                                 ...       ...\n",
       "4543  RE: Commande urgente \\n Le probleme pour moi c...         a\n",
       "4544  Changement badge client n 000107790Bonjour _x0...         a\n",
       "4545  TR:  Confirmation commande n° 000613430 \\n    ...         a\n",
       "4546  commande 3 badges \\n Bonjour marine   Pouvez v...         a\n",
       "4547  COMMANDE \\n Bonjour marine   J'ai un pb a la ...         a\n",
       "\n",
       "[4548 rows x 2 columns]"
      ]
     },
     "execution_count": 2,
     "metadata": {},
     "output_type": "execute_result"
    }
   ],
   "source": [
    "dff =  pd.read_excel('juin1.xlsx',engine='openpyxl')\n",
    "col=['Messages','catégorie']\n",
    "dff=dff[col]\n",
    "dff"
   ]
  },
  {
   "cell_type": "code",
   "execution_count": 3,
   "id": "a81db24e",
   "metadata": {},
   "outputs": [],
   "source": [
    "dff = dff[pd.notna(dff['Messages'])].reset_index(drop=True)"
   ]
  },
  {
   "cell_type": "code",
   "execution_count": 4,
   "id": "ac024a80",
   "metadata": {},
   "outputs": [
    {
     "name": "stderr",
     "output_type": "stream",
     "text": [
      "<ipython-input-4-72a2990915b6>:4: SettingWithCopyWarning: \n",
      "A value is trying to be set on a copy of a slice from a DataFrame\n",
      "\n",
      "See the caveats in the documentation: https://pandas.pydata.org/pandas-docs/stable/user_guide/indexing.html#returning-a-view-versus-a-copy\n",
      "  dff['occurence'][i]=ss.find(\"cordialement\")\n"
     ]
    }
   ],
   "source": [
    "dff['occurence']=0\n",
    "for i in dff.index:\n",
    "    ss=dff['Messages'][i].lower()\n",
    "    dff['occurence'][i]=ss.find(\"cordialement\")"
   ]
  },
  {
   "cell_type": "code",
   "execution_count": 5,
   "id": "49db794f",
   "metadata": {},
   "outputs": [
    {
     "name": "stderr",
     "output_type": "stream",
     "text": [
      "<ipython-input-5-e83bcf97dcf2>:4: SettingWithCopyWarning: \n",
      "A value is trying to be set on a copy of a slice from a DataFrame\n",
      "\n",
      "See the caveats in the documentation: https://pandas.pydata.org/pandas-docs/stable/user_guide/indexing.html#returning-a-view-versus-a-copy\n",
      "  dff['text'][i]=dff['Messages'][i][0:dff['occurence'][i]]\n",
      "C:\\Users\\bertille.lekeufack\\AppData\\Roaming\\Python\\Python38\\site-packages\\pandas\\core\\indexing.py:1637: SettingWithCopyWarning: \n",
      "A value is trying to be set on a copy of a slice from a DataFrame\n",
      "\n",
      "See the caveats in the documentation: https://pandas.pydata.org/pandas-docs/stable/user_guide/indexing.html#returning-a-view-versus-a-copy\n",
      "  self._setitem_single_block(indexer, value, name)\n",
      "<ipython-input-5-e83bcf97dcf2>:6: SettingWithCopyWarning: \n",
      "A value is trying to be set on a copy of a slice from a DataFrame\n",
      "\n",
      "See the caveats in the documentation: https://pandas.pydata.org/pandas-docs/stable/user_guide/indexing.html#returning-a-view-versus-a-copy\n",
      "  dff['text'][i]=dff['Messages'][i]\n"
     ]
    }
   ],
   "source": [
    "dff['text']=0\n",
    "for i in dff.index:\n",
    "    if dff['occurence'][i]>0:\n",
    "        dff['text'][i]=dff['Messages'][i][0:dff['occurence'][i]]\n",
    "    else:\n",
    "        dff['text'][i]=dff['Messages'][i]"
   ]
  },
  {
   "cell_type": "code",
   "execution_count": 6,
   "id": "6ad53ad3",
   "metadata": {},
   "outputs": [],
   "source": [
    "afm=[\"invisible\",\"le véhicule est souvent invisible\",\"proof of payment\",\"service géolocalisation\",\"Axxès Fleet Manager\",\n",
    "    \"boitier geoloc\",\"géolocaliser\",\"géolocaliser les camions\",\"locations have not changed,service ADC\",'mapa',  'AFM', 'geoloc'\n",
    "    ,\"outil de geolocalisation\"]"
   ]
  },
  {
   "cell_type": "code",
   "execution_count": 7,
   "id": "f9e504ff",
   "metadata": {},
   "outputs": [
    {
     "data": {
      "text/plain": [
       "13"
      ]
     },
     "execution_count": 7,
     "metadata": {},
     "output_type": "execute_result"
    }
   ],
   "source": [
    "len(afm)"
   ]
  },
  {
   "cell_type": "code",
   "execution_count": 8,
   "id": "c184c633",
   "metadata": {},
   "outputs": [
    {
     "data": {
      "text/plain": [
       "a    4548\n",
       "Name: catégorie, dtype: int64"
      ]
     },
     "execution_count": 8,
     "metadata": {},
     "output_type": "execute_result"
    }
   ],
   "source": [
    "dff.catégorie.value_counts()"
   ]
  },
  {
   "cell_type": "code",
   "execution_count": 11,
   "id": "46ae9135",
   "metadata": {},
   "outputs": [
    {
     "name": "stderr",
     "output_type": "stream",
     "text": [
      "<ipython-input-11-893d21472ef6>:7: SettingWithCopyWarning: \n",
      "A value is trying to be set on a copy of a slice from a DataFrame\n",
      "\n",
      "See the caveats in the documentation: https://pandas.pydata.org/pandas-docs/stable/user_guide/indexing.html#returning-a-view-versus-a-copy\n",
      "  dff['catégorie'][i] = \"afm\"\n"
     ]
    }
   ],
   "source": [
    "af=dff.loc[dff['catégorie']=='a']\n",
    "for i in af.index:\n",
    "    ss=dff['text'][i].lower()\n",
    "    for j in afm:\n",
    "        t = ss.find(j)\n",
    "        if t>0:\n",
    "            dff['catégorie'][i] = \"afm\"\n",
    "            break\n",
    "        "
   ]
  },
  {
   "cell_type": "code",
   "execution_count": 12,
   "id": "c2240701",
   "metadata": {},
   "outputs": [
    {
     "data": {
      "text/plain": [
       "a      4526\n",
       "afm      22\n",
       "Name: catégorie, dtype: int64"
      ]
     },
     "execution_count": 12,
     "metadata": {},
     "output_type": "execute_result"
    }
   ],
   "source": [
    "dff.catégorie.value_counts()"
   ]
  },
  {
   "cell_type": "code",
   "execution_count": 13,
   "id": "e13e7f42",
   "metadata": {},
   "outputs": [
    {
     "data": {
      "text/html": [
       "<div>\n",
       "<style scoped>\n",
       "    .dataframe tbody tr th:only-of-type {\n",
       "        vertical-align: middle;\n",
       "    }\n",
       "\n",
       "    .dataframe tbody tr th {\n",
       "        vertical-align: top;\n",
       "    }\n",
       "\n",
       "    .dataframe thead th {\n",
       "        text-align: right;\n",
       "    }\n",
       "</style>\n",
       "<table border=\"1\" class=\"dataframe\">\n",
       "  <thead>\n",
       "    <tr style=\"text-align: right;\">\n",
       "      <th></th>\n",
       "      <th>Messages</th>\n",
       "      <th>catégorie</th>\n",
       "      <th>occurence</th>\n",
       "      <th>text</th>\n",
       "    </tr>\n",
       "  </thead>\n",
       "  <tbody>\n",
       "    <tr>\n",
       "      <th>0</th>\n",
       "      <td>virginie-couturier@bourgognerecyclage.combadge...</td>\n",
       "      <td>a</td>\n",
       "      <td>204</td>\n",
       "      <td>virginie-couturier@bourgognerecyclage.combadge...</td>\n",
       "    </tr>\n",
       "    <tr>\n",
       "      <th>1</th>\n",
       "      <td>mfb@dldevel.com RAPPEL -  Conférence Subventio...</td>\n",
       "      <td>a</td>\n",
       "      <td>1071</td>\n",
       "      <td>mfb@dldevel.com RAPPEL -  Conférence Subventio...</td>\n",
       "    </tr>\n",
       "    <tr>\n",
       "      <th>2</th>\n",
       "      <td>secretariat@trdl.frRE: TRDL - Client n° 000005...</td>\n",
       "      <td>a</td>\n",
       "      <td>125</td>\n",
       "      <td>secretariat@trdl.frRE: TRDL - Client n° 000005...</td>\n",
       "    </tr>\n",
       "    <tr>\n",
       "      <th>3</th>\n",
       "      <td>MicrosoftExchange329e71ec88ae4615bbc36ab6ce411...</td>\n",
       "      <td>a</td>\n",
       "      <td>-1</td>\n",
       "      <td>MicrosoftExchange329e71ec88ae4615bbc36ab6ce411...</td>\n",
       "    </tr>\n",
       "    <tr>\n",
       "      <th>4</th>\n",
       "      <td>Irina.NEDYALKOVA@gefco.netGefco TT: connexion ...</td>\n",
       "      <td>a</td>\n",
       "      <td>572</td>\n",
       "      <td>Irina.NEDYALKOVA@gefco.netGefco TT: connexion ...</td>\n",
       "    </tr>\n",
       "  </tbody>\n",
       "</table>\n",
       "</div>"
      ],
      "text/plain": [
       "                                            Messages catégorie  occurence  \\\n",
       "0  virginie-couturier@bourgognerecyclage.combadge...         a        204   \n",
       "1  mfb@dldevel.com RAPPEL -  Conférence Subventio...         a       1071   \n",
       "2  secretariat@trdl.frRE: TRDL - Client n° 000005...         a        125   \n",
       "3  MicrosoftExchange329e71ec88ae4615bbc36ab6ce411...         a         -1   \n",
       "4  Irina.NEDYALKOVA@gefco.netGefco TT: connexion ...         a        572   \n",
       "\n",
       "                                                text  \n",
       "0  virginie-couturier@bourgognerecyclage.combadge...  \n",
       "1  mfb@dldevel.com RAPPEL -  Conférence Subventio...  \n",
       "2  secretariat@trdl.frRE: TRDL - Client n° 000005...  \n",
       "3  MicrosoftExchange329e71ec88ae4615bbc36ab6ce411...  \n",
       "4  Irina.NEDYALKOVA@gefco.netGefco TT: connexion ...  "
      ]
     },
     "execution_count": 13,
     "metadata": {},
     "output_type": "execute_result"
    }
   ],
   "source": [
    "dff.head()"
   ]
  },
  {
   "cell_type": "code",
   "execution_count": 14,
   "id": "b868b2ad",
   "metadata": {},
   "outputs": [],
   "source": [
    "impayé=[\"justificatif de virement\",\"ci-joint virement\",\"preuve de mon paiement\",\"preuve de paiement\",\"virement de la facture\",\n",
    "       \"impayé\",\"justificatif de paiement\",\"incident de paiement\",\"incidencia impago\",\"virement complémentaire\",\"débloquer\",\n",
    "       \"virement validé\",\"somme réclammée\",\"attente de règlement\",\"avoir\",\"avoirs\",\"copie du virement\",\"virement effectué\",\n",
    "        \"régulariser\"\n",
    "       ]"
   ]
  },
  {
   "cell_type": "code",
   "execution_count": 15,
   "id": "412fb05f",
   "metadata": {},
   "outputs": [
    {
     "name": "stderr",
     "output_type": "stream",
     "text": [
      "<ipython-input-15-325a98a9472d>:7: SettingWithCopyWarning: \n",
      "A value is trying to be set on a copy of a slice from a DataFrame\n",
      "\n",
      "See the caveats in the documentation: https://pandas.pydata.org/pandas-docs/stable/user_guide/indexing.html#returning-a-view-versus-a-copy\n",
      "  dff['catégorie'][i] = \"impayé\"\n"
     ]
    }
   ],
   "source": [
    "imp=dff.loc[dff['catégorie']=='a']\n",
    "for i in imp.index:\n",
    "    ss=dff['text'][i].lower()\n",
    "    for j in impayé:\n",
    "        t = ss.find(j)\n",
    "        if t>0:\n",
    "            dff['catégorie'][i] = \"impayé\"\n",
    "            break"
   ]
  },
  {
   "cell_type": "code",
   "execution_count": 17,
   "id": "038d099a",
   "metadata": {},
   "outputs": [
    {
     "data": {
      "text/plain": [
       "a         4156\n",
       "impayé     370\n",
       "afm         22\n",
       "Name: catégorie, dtype: int64"
      ]
     },
     "execution_count": 17,
     "metadata": {},
     "output_type": "execute_result"
    }
   ],
   "source": [
    "dff.catégorie.value_counts()"
   ]
  },
  {
   "cell_type": "code",
   "execution_count": 18,
   "id": "b157e50c",
   "metadata": {},
   "outputs": [],
   "source": [
    "impay=dff.loc[dff['catégorie']=='impayé']\n",
    "impay.to_excel('impay.xlsx',engine='openpyxl')"
   ]
  },
  {
   "cell_type": "code",
   "execution_count": 19,
   "id": "a41ce152",
   "metadata": {},
   "outputs": [],
   "source": [
    "afm=dff.loc[dff['catégorie']=='afm']\n",
    "afm.to_excel('afm.xlsx',engine='openpyxl')"
   ]
  },
  {
   "cell_type": "code",
   "execution_count": null,
   "id": "772dbb3c",
   "metadata": {},
   "outputs": [],
   "source": []
  }
 ],
 "metadata": {
  "kernelspec": {
   "display_name": "Python 3",
   "language": "python",
   "name": "python3"
  },
  "language_info": {
   "codemirror_mode": {
    "name": "ipython",
    "version": 3
   },
   "file_extension": ".py",
   "mimetype": "text/x-python",
   "name": "python",
   "nbconvert_exporter": "python",
   "pygments_lexer": "ipython3",
   "version": "3.8.8"
  }
 },
 "nbformat": 4,
 "nbformat_minor": 5
}
