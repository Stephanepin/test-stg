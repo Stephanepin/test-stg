{
 "cells": [
  {
   "cell_type": "code",
   "execution_count": 1,
   "id": "1a16211f",
   "metadata": {},
   "outputs": [],
   "source": [
    "import pandas as pd\n",
    "from matplotlib import font_manager as fm, rcParams\n",
    "import matplotlib.pyplot as plt\n",
    "\n",
    "plt.rcParams['font.sans-serif']=['sans-serif'] #Show Chinese label\n",
    "plt.rcParams['axes.unicode_minus']=False \n",
    "df = pd.read_excel('final_210423.xlsx',engine='openpyxl')\n",
    "\n",
    "df =df.head(2500)"
   ]
  },
  {
   "cell_type": "code",
   "execution_count": 2,
   "id": "db34f0d2",
   "metadata": {},
   "outputs": [],
   "source": [
    "\n",
    "df = df.drop(['Date de création',  'Date de modification','Nom du fichier'], axis=1)"
   ]
  },
  {
   "cell_type": "code",
   "execution_count": 3,
   "id": "27fb0313",
   "metadata": {},
   "outputs": [],
   "source": [
    "df['Messages']=df['Messages'].astype(str)"
   ]
  },
  {
   "cell_type": "code",
   "execution_count": 4,
   "id": "b49d4822",
   "metadata": {},
   "outputs": [],
   "source": [
    "from langdetect import detect"
   ]
  },
  {
   "cell_type": "code",
   "execution_count": 5,
   "id": "b64756ec",
   "metadata": {},
   "outputs": [
    {
     "name": "stdout",
     "output_type": "stream",
     "text": [
      "This row throws error:  \n",
      "This row throws error: ‌\n",
      "This row throws error:    \n",
      "This row throws error:    \n",
      "This row throws error:    \n",
      "This row throws error:    \n",
      "This row throws error:    \n"
     ]
    }
   ],
   "source": [
    "texl70 = df['Messages']\n",
    "langdet = []\n",
    "    \n",
    "for i in range(len(df)):                                         \n",
    "    try:                                                          \n",
    "        lang=detect(texl70[i])                                      \n",
    "    except:                                                       \n",
    "        lang=''                                                  \n",
    "        print(\"This row throws error:\", texl70[i])                 \n",
    "    langdet.append(lang) "
   ]
  },
  {
   "cell_type": "code",
   "execution_count": 6,
   "id": "a8e0f809",
   "metadata": {},
   "outputs": [
    {
     "data": {
      "text/html": [
       "<div>\n",
       "<style scoped>\n",
       "    .dataframe tbody tr th:only-of-type {\n",
       "        vertical-align: middle;\n",
       "    }\n",
       "\n",
       "    .dataframe tbody tr th {\n",
       "        vertical-align: top;\n",
       "    }\n",
       "\n",
       "    .dataframe thead th {\n",
       "        text-align: right;\n",
       "    }\n",
       "</style>\n",
       "<table border=\"1\" class=\"dataframe\">\n",
       "  <thead>\n",
       "    <tr style=\"text-align: right;\">\n",
       "      <th></th>\n",
       "      <th>Messages</th>\n",
       "      <th>catégorie</th>\n",
       "      <th>lang</th>\n",
       "    </tr>\n",
       "  </thead>\n",
       "  <tbody>\n",
       "    <tr>\n",
       "      <th>0</th>\n",
       "      <td>Bonjour,Ci-joint le mandat sepa et le rib.Cord...</td>\n",
       "      <td>contrat</td>\n",
       "      <td>fr</td>\n",
       "    </tr>\n",
       "    <tr>\n",
       "      <th>1</th>\n",
       "      <td>DANIEL   GUEGANSOCIETE DES TRANSPORTS GUEGANCl...</td>\n",
       "      <td>commande de badge</td>\n",
       "      <td>fr</td>\n",
       "    </tr>\n",
       "    <tr>\n",
       "      <th>2</th>\n",
       "      <td>Bonjour, J’ai essayé de faire la modification...</td>\n",
       "      <td>contrat</td>\n",
       "      <td>fr</td>\n",
       "    </tr>\n",
       "    <tr>\n",
       "      <th>3</th>\n",
       "      <td>Bonjour, merci de me faire un badge avec la gé...</td>\n",
       "      <td>commande de badge</td>\n",
       "      <td>fr</td>\n",
       "    </tr>\n",
       "    <tr>\n",
       "      <th>4</th>\n",
       "      <td>No Message</td>\n",
       "      <td>no message</td>\n",
       "      <td>de</td>\n",
       "    </tr>\n",
       "  </tbody>\n",
       "</table>\n",
       "</div>"
      ],
      "text/plain": [
       "                                            Messages          catégorie lang\n",
       "0  Bonjour,Ci-joint le mandat sepa et le rib.Cord...            contrat   fr\n",
       "1  DANIEL   GUEGANSOCIETE DES TRANSPORTS GUEGANCl...  commande de badge   fr\n",
       "2   Bonjour, J’ai essayé de faire la modification...            contrat   fr\n",
       "3  Bonjour, merci de me faire un badge avec la gé...  commande de badge   fr\n",
       "4                                         No Message         no message   de"
      ]
     },
     "execution_count": 6,
     "metadata": {},
     "output_type": "execute_result"
    }
   ],
   "source": [
    "df['lang']=langdet\n",
    "df.head()"
   ]
  },
  {
   "cell_type": "code",
   "execution_count": 7,
   "id": "4f3113a1",
   "metadata": {},
   "outputs": [
    {
     "data": {
      "text/plain": [
       "(1741, 3)"
      ]
     },
     "execution_count": 7,
     "metadata": {},
     "output_type": "execute_result"
    }
   ],
   "source": [
    "df=df.loc[df['lang']=='fr']\n",
    "df.shape"
   ]
  },
  {
   "cell_type": "code",
   "execution_count": 8,
   "id": "309dc182",
   "metadata": {},
   "outputs": [],
   "source": [
    "df = df[pd.notnull(df['catégorie'])]"
   ]
  },
  {
   "cell_type": "code",
   "execution_count": 9,
   "id": "5f680daa",
   "metadata": {},
   "outputs": [
    {
     "name": "stdout",
     "output_type": "stream",
     "text": [
      "<class 'pandas.core.frame.DataFrame'>\n",
      "Int64Index: 1627 entries, 0 to 2332\n",
      "Data columns (total 3 columns):\n",
      " #   Column     Non-Null Count  Dtype \n",
      "---  ------     --------------  ----- \n",
      " 0   Messages   1627 non-null   object\n",
      " 1   catégorie  1627 non-null   object\n",
      " 2   lang       1627 non-null   object\n",
      "dtypes: object(3)\n",
      "memory usage: 50.8+ KB\n"
     ]
    }
   ],
   "source": [
    "df.info()"
   ]
  },
  {
   "cell_type": "code",
   "execution_count": 10,
   "id": "4d7848e5",
   "metadata": {},
   "outputs": [],
   "source": [
    "col = ['Messages', 'catégorie']\n",
    "df = df[col]"
   ]
  },
  {
   "cell_type": "code",
   "execution_count": 11,
   "id": "7c25fe5e",
   "metadata": {},
   "outputs": [
    {
     "data": {
      "text/plain": [
       "Index(['Messages', 'catégorie'], dtype='object')"
      ]
     },
     "execution_count": 11,
     "metadata": {},
     "output_type": "execute_result"
    }
   ],
   "source": [
    "df.columns"
   ]
  },
  {
   "cell_type": "code",
   "execution_count": 12,
   "id": "70976e93",
   "metadata": {},
   "outputs": [],
   "source": [
    "df.columns = ['Messages', 'catégorie']"
   ]
  },
  {
   "cell_type": "code",
   "execution_count": 13,
   "id": "c411bd92",
   "metadata": {},
   "outputs": [],
   "source": [
    "df['category_id'] = df['catégorie'].replace({ 'contrat' : 0,'demande de renseignement' : 1,'interne Axxès' : 2 ,'renseignement facture' : 3, 'commande de badge' : 4, 'réclamation qualité de service' : 5,'réclamation facture':6,'remplacement badge':7,'réclamation logistique':8,\n",
    "                                           'amende Belgique':9,'no message':10})\n"
   ]
  },
  {
   "cell_type": "code",
   "execution_count": 14,
   "id": "b62710c4",
   "metadata": {},
   "outputs": [],
   "source": [
    "from io import StringIO\n",
    "category_id_df = df[['catégorie', 'category_id']].drop_duplicates().sort_values('category_id')\n",
    "category_to_id = dict(category_id_df.values)\n",
    "id_to_category = dict(category_id_df[['category_id', 'catégorie']].values)"
   ]
  },
  {
   "cell_type": "code",
   "execution_count": 15,
   "id": "ab9838f8",
   "metadata": {},
   "outputs": [
    {
     "data": {
      "text/plain": [
       "{0: 'contrat',\n",
       " 1: 'demande de renseignement',\n",
       " 2: 'interne Axxès',\n",
       " 3: 'renseignement facture',\n",
       " 4: 'commande de badge',\n",
       " 5: 'réclamation qualité de service',\n",
       " 6: 'réclamation facture',\n",
       " 7: 'remplacement badge',\n",
       " 8: 'réclamation logistique',\n",
       " 9: 'amende Belgique',\n",
       " 10: 'no message'}"
      ]
     },
     "execution_count": 15,
     "metadata": {},
     "output_type": "execute_result"
    }
   ],
   "source": [
    "id_to_category"
   ]
  },
  {
   "cell_type": "code",
   "execution_count": 16,
   "id": "8316f0a5",
   "metadata": {},
   "outputs": [
    {
     "data": {
      "text/html": [
       "<div>\n",
       "<style scoped>\n",
       "    .dataframe tbody tr th:only-of-type {\n",
       "        vertical-align: middle;\n",
       "    }\n",
       "\n",
       "    .dataframe tbody tr th {\n",
       "        vertical-align: top;\n",
       "    }\n",
       "\n",
       "    .dataframe thead th {\n",
       "        text-align: right;\n",
       "    }\n",
       "</style>\n",
       "<table border=\"1\" class=\"dataframe\">\n",
       "  <thead>\n",
       "    <tr style=\"text-align: right;\">\n",
       "      <th></th>\n",
       "      <th>Messages</th>\n",
       "      <th>catégorie</th>\n",
       "      <th>category_id</th>\n",
       "    </tr>\n",
       "  </thead>\n",
       "  <tbody>\n",
       "    <tr>\n",
       "      <th>0</th>\n",
       "      <td>Bonjour,Ci-joint le mandat sepa et le rib.Cord...</td>\n",
       "      <td>contrat</td>\n",
       "      <td>0</td>\n",
       "    </tr>\n",
       "    <tr>\n",
       "      <th>1</th>\n",
       "      <td>DANIEL   GUEGANSOCIETE DES TRANSPORTS GUEGANCl...</td>\n",
       "      <td>commande de badge</td>\n",
       "      <td>4</td>\n",
       "    </tr>\n",
       "    <tr>\n",
       "      <th>2</th>\n",
       "      <td>Bonjour, J’ai essayé de faire la modification...</td>\n",
       "      <td>contrat</td>\n",
       "      <td>0</td>\n",
       "    </tr>\n",
       "    <tr>\n",
       "      <th>3</th>\n",
       "      <td>Bonjour, merci de me faire un badge avec la gé...</td>\n",
       "      <td>commande de badge</td>\n",
       "      <td>4</td>\n",
       "    </tr>\n",
       "    <tr>\n",
       "      <th>5</th>\n",
       "      <td>Bonjour, L'appareil 3156490017550003485 a été ...</td>\n",
       "      <td>réclamation qualité de service</td>\n",
       "      <td>5</td>\n",
       "    </tr>\n",
       "  </tbody>\n",
       "</table>\n",
       "</div>"
      ],
      "text/plain": [
       "                                            Messages  \\\n",
       "0  Bonjour,Ci-joint le mandat sepa et le rib.Cord...   \n",
       "1  DANIEL   GUEGANSOCIETE DES TRANSPORTS GUEGANCl...   \n",
       "2   Bonjour, J’ai essayé de faire la modification...   \n",
       "3  Bonjour, merci de me faire un badge avec la gé...   \n",
       "5  Bonjour, L'appareil 3156490017550003485 a été ...   \n",
       "\n",
       "                        catégorie  category_id  \n",
       "0                         contrat            0  \n",
       "1               commande de badge            4  \n",
       "2                         contrat            0  \n",
       "3               commande de badge            4  \n",
       "5  réclamation qualité de service            5  "
      ]
     },
     "execution_count": 16,
     "metadata": {},
     "output_type": "execute_result"
    }
   ],
   "source": [
    "df.head()"
   ]
  },
  {
   "cell_type": "code",
   "execution_count": 17,
   "id": "7eda5d42",
   "metadata": {},
   "outputs": [],
   "source": [
    "import warnings\n",
    "\n",
    "warnings.filterwarnings(\"ignore\", message=\"Glyph 146 missing from current font.\")"
   ]
  },
  {
   "cell_type": "code",
   "execution_count": 18,
   "id": "8b3654af",
   "metadata": {},
   "outputs": [
    {
     "name": "stderr",
     "output_type": "stream",
     "text": [
      "findfont: Font family ['sans-serif'] not found. Falling back to DejaVu Sans.\n",
      "findfont: Generic family 'sans-serif' not found because none of the following families were found: sans-serif\n"
     ]
    },
    {
     "data": {
      "image/png": "[encoded data removed]",
      "text/plain": [
       "<Figure size 864x288 with 1 Axes>"
      ]
     },
     "metadata": {
      "needs_background": "light"
     },
     "output_type": "display_data"
    }
   ],
   "source": [
    "my_tags = df['catégorie']\n",
    "plt.figure(figsize=(12,4))\n",
    "my_tags.value_counts().plot(kind='bar');"
   ]
  },
  {
   "cell_type": "code",
   "execution_count": 19,
   "id": "08d94388",
   "metadata": {},
   "outputs": [
    {
     "data": {
      "text/plain": [
       "(1627, 8499)"
      ]
     },
     "execution_count": 19,
     "metadata": {},
     "output_type": "execute_result"
    }
   ],
   "source": [
    "from sklearn.feature_extraction.text import TfidfVectorizer\n",
    "from nltk.corpus import stopwords\n",
    "\n",
    "final_stopwords_list = stopwords.words('english') + stopwords.words('french')\n",
    "tfidf = TfidfVectorizer(sublinear_tf=True, min_df=5, norm='l2', encoding='latin-1', ngram_range=(1, 2), stop_words = final_stopwords_list)\n",
    "\n",
    "features = tfidf.fit_transform(df.Messages).toarray()\n",
    "labels = df.category_id\n",
    "features.shape"
   ]
  },
  {
   "cell_type": "code",
   "execution_count": 20,
   "id": "e13ddd30",
   "metadata": {},
   "outputs": [
    {
     "name": "stdout",
     "output_type": "stream",
     "text": [
      "# '0                              contrat\n",
      "1                    commande de badge\n",
      "2                              contrat\n",
      "3                    commande de badge\n",
      "5       réclamation qualité de service\n",
      "                     ...              \n",
      "2324                 commande de badge\n",
      "2325                 commande de badge\n",
      "2328             renseignement facture\n",
      "2329                           contrat\n",
      "2332                           contrat\n",
      "Name: catégorie, Length: 1627, dtype: object':\n",
      "  . Most correlated unigrams:\n",
      "       . collecter\n",
      "       . 521\n",
      "  . Most correlated bigrams:\n",
      "       . être branché\n",
      "       . prendre charge\n",
      "# '0                              contrat\n",
      "1                    commande de badge\n",
      "2                              contrat\n",
      "3                    commande de badge\n",
      "5       réclamation qualité de service\n",
      "                     ...              \n",
      "2324                 commande de badge\n",
      "2325                 commande de badge\n",
      "2328             renseignement facture\n",
      "2329                           contrat\n",
      "2332                           contrat\n",
      "Name: catégorie, Length: 1627, dtype: object':\n",
      "  . Most correlated unigrams:\n",
      "       . commander\n",
      "       . commande\n",
      "  . Most correlated bigrams:\n",
      "       . carte grise\n",
      "       . commande badge\n",
      "# '0                              contrat\n",
      "1                    commande de badge\n",
      "2                              contrat\n",
      "3                    commande de badge\n",
      "5       réclamation qualité de service\n",
      "                     ...              \n",
      "2324                 commande de badge\n",
      "2325                 commande de badge\n",
      "2328             renseignement facture\n",
      "2329                           contrat\n",
      "2332                           contrat\n",
      "Name: catégorie, Length: 1627, dtype: object':\n",
      "  . Most correlated unigrams:\n",
      "       . arologle\n",
      "       . alma\n",
      "  . Most correlated bigrams:\n",
      "       . alma com\n",
      "       . sources alma\n",
      "# '0                              contrat\n",
      "1                    commande de badge\n",
      "2                              contrat\n",
      "3                    commande de badge\n",
      "5       réclamation qualité de service\n",
      "                     ...              \n",
      "2324                 commande de badge\n",
      "2325                 commande de badge\n",
      "2328             renseignement facture\n",
      "2329                           contrat\n",
      "2332                           contrat\n",
      "Name: catégorie, Length: 1627, dtype: object':\n",
      "  . Most correlated unigrams:\n",
      "       . mot\n",
      "       . connecter\n",
      "  . Most correlated bigrams:\n",
      "       . 26 octobre\n",
      "       . pouvez aider\n",
      "# '0                              contrat\n",
      "1                    commande de badge\n",
      "2                              contrat\n",
      "3                    commande de badge\n",
      "5       réclamation qualité de service\n",
      "                     ...              \n",
      "2324                 commande de badge\n",
      "2325                 commande de badge\n",
      "2328             renseignement facture\n",
      "2329                           contrat\n",
      "2332                           contrat\n",
      "Name: catégorie, Length: 1627, dtype: object':\n",
      "  . Most correlated unigrams:\n",
      "       . erreurs\n",
      "       . mails\n",
      "  . Most correlated bigrams:\n",
      "       . informations obu\n",
      "       . gestion informations\n",
      "# '0                              contrat\n",
      "1                    commande de badge\n",
      "2                              contrat\n",
      "3                    commande de badge\n",
      "5       réclamation qualité de service\n",
      "                     ...              \n",
      "2324                 commande de badge\n",
      "2325                 commande de badge\n",
      "2328             renseignement facture\n",
      "2329                           contrat\n",
      "2332                           contrat\n",
      "Name: catégorie, Length: 1627, dtype: object':\n",
      "  . Most correlated unigrams:\n",
      "       . sylvie\n",
      "       . détails\n",
      "  . Most correlated bigrams:\n",
      "       . ci joint\n",
      "       . envoyé partir\n",
      "# '0                              contrat\n",
      "1                    commande de badge\n",
      "2                              contrat\n",
      "3                    commande de badge\n",
      "5       réclamation qualité de service\n",
      "                     ...              \n",
      "2324                 commande de badge\n",
      "2325                 commande de badge\n",
      "2328             renseignement facture\n",
      "2329                           contrat\n",
      "2332                           contrat\n",
      "Name: catégorie, Length: 1627, dtype: object':\n",
      "  . Most correlated unigrams:\n",
      "       . défectueux\n",
      "       . remplacer\n",
      "  . Most correlated bigrams:\n",
      "       . remplacement badge\n",
      "       . remplacer badge\n",
      "# '0                              contrat\n",
      "1                    commande de badge\n",
      "2                              contrat\n",
      "3                    commande de badge\n",
      "5       réclamation qualité de service\n",
      "                     ...              \n",
      "2324                 commande de badge\n",
      "2325                 commande de badge\n",
      "2328             renseignement facture\n",
      "2329                           contrat\n",
      "2332                           contrat\n",
      "Name: catégorie, Length: 1627, dtype: object':\n",
      "  . Most correlated unigrams:\n",
      "       . duplicata\n",
      "       . nemer\n",
      "  . Most correlated bigrams:\n",
      "       . myriam nemer\n",
      "       . service facturation\n",
      "# '0                              contrat\n",
      "1                    commande de badge\n",
      "2                              contrat\n",
      "3                    commande de badge\n",
      "5       réclamation qualité de service\n",
      "                     ...              \n",
      "2324                 commande de badge\n",
      "2325                 commande de badge\n",
      "2328             renseignement facture\n",
      "2329                           contrat\n",
      "2332                           contrat\n",
      "Name: catégorie, Length: 1627, dtype: object':\n",
      "  . Most correlated unigrams:\n",
      "       . constate\n",
      "       . papier\n",
      "  . Most correlated bigrams:\n",
      "       . prochaine facture\n",
      "       . facture papier\n",
      "# '0                              contrat\n",
      "1                    commande de badge\n",
      "2                              contrat\n",
      "3                    commande de badge\n",
      "5       réclamation qualité de service\n",
      "                     ...              \n",
      "2324                 commande de badge\n",
      "2325                 commande de badge\n",
      "2328             renseignement facture\n",
      "2329                           contrat\n",
      "2332                           contrat\n",
      "Name: catégorie, Length: 1627, dtype: object':\n",
      "  . Most correlated unigrams:\n",
      "       . pourrions\n",
      "       . justice\n",
      "  . Most correlated bigrams:\n",
      "       . livraison cette\n",
      "       . justice fr\n",
      "# '0                              contrat\n",
      "1                    commande de badge\n",
      "2                              contrat\n",
      "3                    commande de badge\n",
      "5       réclamation qualité de service\n",
      "                     ...              \n",
      "2324                 commande de badge\n",
      "2325                 commande de badge\n",
      "2328             renseignement facture\n",
      "2329                           contrat\n",
      "2332                           contrat\n",
      "Name: catégorie, Length: 1627, dtype: object':\n",
      "  . Most correlated unigrams:\n",
      "       . rencontrons\n",
      "       . soucis\n",
      "  . Most correlated bigrams:\n",
      "       . bonjour depuis\n",
      "       . concernant badge\n"
     ]
    }
   ],
   "source": [
    "from sklearn.feature_selection import chi2\n",
    "import numpy as np\n",
    "\n",
    "N = 2\n",
    "for df.Messages, category_id in sorted(category_to_id.items()):\n",
    "    features_chi2 = chi2(features, labels == category_id)\n",
    "    indices = np.argsort(features_chi2[0])\n",
    "    feature_names = np.array(tfidf.get_feature_names())[indices]\n",
    "    unigrams = [v for v in feature_names if len(v.split(' ')) == 1]\n",
    "    bigrams = [v for v in feature_names if len(v.split(' ')) == 2]\n",
    "    print(\"# '{}':\".format(df.catégorie))\n",
    "    print(\"  . Most correlated unigrams:\\n       . {}\".format('\\n       . '.join(unigrams[-N:])))\n",
    "    print(\"  . Most correlated bigrams:\\n       . {}\".format('\\n       . '.join(bigrams[-N:])))"
   ]
  },
  {
   "cell_type": "code",
   "execution_count": 21,
   "id": "b47c3cad",
   "metadata": {},
   "outputs": [],
   "source": [
    "my_tag = ['contrat','commande de badge','no message','renseignement facture','réclamation facture','remplacement badge','interne Axxès',\n",
    "         'réclamation qualité de service','demande de renseignement','réclamation logistique','amende Belgique']"
   ]
  },
  {
   "cell_type": "code",
   "execution_count": 22,
   "id": "f194c199",
   "metadata": {},
   "outputs": [],
   "source": [
    "from sklearn.model_selection import train_test_split\n",
    "from sklearn.feature_extraction.text import CountVectorizer\n",
    "from sklearn.feature_extraction.text import TfidfTransformer\n",
    "from sklearn.naive_bayes import MultinomialNB\n",
    "from sklearn.metrics import accuracy_score, confusion_matrix\n",
    "from sklearn.metrics import classification_report\n",
    "\n",
    "X_train, X_test, y_train, y_test = train_test_split(df['Messages'], df['catégorie'], random_state = 42)\n",
    "count_vect = CountVectorizer()\n",
    "X_train_counts = count_vect.fit_transform(X_train)\n",
    "tfidf_transformer = TfidfTransformer()\n",
    "X_train_tfidf = tfidf_transformer.fit_transform(X_train_counts)\n",
    "\n",
    "clf = MultinomialNB().fit(X_train_tfidf, y_train)\n",
    "y_pred = clf.predict(count_vect.transform(X_test))\n"
   ]
  },
  {
   "cell_type": "code",
   "execution_count": 23,
   "id": "eef3e425",
   "metadata": {},
   "outputs": [
    {
     "name": "stdout",
     "output_type": "stream",
     "text": [
      "['contrat']\n"
     ]
    }
   ],
   "source": [
    "print(clf.predict(count_vect.transform([\"Bonjour,Ci-joint le mandat sepa et le rib.CordialementBLACKSTONEBertrand STRAZELTel\"])))"
   ]
  },
  {
   "cell_type": "code",
   "execution_count": 24,
   "id": "2cfc6657",
   "metadata": {},
   "outputs": [
    {
     "name": "stdout",
     "output_type": "stream",
     "text": [
      "['contrat']\n"
     ]
    }
   ],
   "source": [
    "print(clf.predict(count_vect.transform([\" Bonjour, J’ai essayé de faire la modification du badge du EC 418 KS initialement en classe 4 que nous avons vendu et remplacé par une classe 3 immatriculé\"])))"
   ]
  },
  {
   "cell_type": "code",
   "execution_count": 25,
   "id": "16e6813b",
   "metadata": {},
   "outputs": [
    {
     "name": "stdout",
     "output_type": "stream",
     "text": [
      "['contrat']\n"
     ]
    }
   ],
   "source": [
    "print(clf.predict(count_vect.transform([\"Bonjour, merci de me faire un badge avec la géolocalisation intégré pour ce véhiculeMon code client 00448200001 Bien à vousJulien JEZEQUEL-------- Message transféré -------- Sujet : Carte grise FG 956 WRDate : Wed, 19 Aug 2020 15:07:06 +0200De : Contact Déménagements Jézéquel <contact@demenagements-jezequel.com>Pour : Julien Jézéquel <>Julien,Ci-joint la carte grise du camion de Mike.Cordialement,Pascale\"])))"
   ]
  },
  {
   "cell_type": "code",
   "execution_count": 26,
   "id": "b69b7355",
   "metadata": {},
   "outputs": [
    {
     "data": {
      "text/html": [
       "<div>\n",
       "<style scoped>\n",
       "    .dataframe tbody tr th:only-of-type {\n",
       "        vertical-align: middle;\n",
       "    }\n",
       "\n",
       "    .dataframe tbody tr th {\n",
       "        vertical-align: top;\n",
       "    }\n",
       "\n",
       "    .dataframe thead th {\n",
       "        text-align: right;\n",
       "    }\n",
       "</style>\n",
       "<table border=\"1\" class=\"dataframe\">\n",
       "  <thead>\n",
       "    <tr style=\"text-align: right;\">\n",
       "      <th></th>\n",
       "      <th>Messages</th>\n",
       "      <th>catégorie</th>\n",
       "      <th>category_id</th>\n",
       "    </tr>\n",
       "  </thead>\n",
       "  <tbody>\n",
       "  </tbody>\n",
       "</table>\n",
       "</div>"
      ],
      "text/plain": [
       "Empty DataFrame\n",
       "Columns: [Messages, catégorie, category_id]\n",
       "Index: []"
      ]
     },
     "execution_count": 26,
     "metadata": {},
     "output_type": "execute_result"
    }
   ],
   "source": [
    "df[df['Messages'] == \"No Message\"]"
   ]
  },
  {
   "cell_type": "code",
   "execution_count": 27,
   "id": "0bb25674",
   "metadata": {},
   "outputs": [
    {
     "data": {
      "text/html": [
       "<div>\n",
       "<style scoped>\n",
       "    .dataframe tbody tr th:only-of-type {\n",
       "        vertical-align: middle;\n",
       "    }\n",
       "\n",
       "    .dataframe tbody tr th {\n",
       "        vertical-align: top;\n",
       "    }\n",
       "\n",
       "    .dataframe thead th {\n",
       "        text-align: right;\n",
       "    }\n",
       "</style>\n",
       "<table border=\"1\" class=\"dataframe\">\n",
       "  <thead>\n",
       "    <tr style=\"text-align: right;\">\n",
       "      <th></th>\n",
       "      <th>Messages</th>\n",
       "      <th>catégorie</th>\n",
       "      <th>category_id</th>\n",
       "    </tr>\n",
       "  </thead>\n",
       "  <tbody>\n",
       "  </tbody>\n",
       "</table>\n",
       "</div>"
      ],
      "text/plain": [
       "Empty DataFrame\n",
       "Columns: [Messages, catégorie, category_id]\n",
       "Index: []"
      ]
     },
     "execution_count": 27,
     "metadata": {},
     "output_type": "execute_result"
    }
   ],
   "source": [
    "df[df['Messages'] == \"commande de badge\"]"
   ]
  },
  {
   "cell_type": "code",
   "execution_count": 28,
   "id": "4cbc8b9f",
   "metadata": {},
   "outputs": [
    {
     "name": "stderr",
     "output_type": "stream",
     "text": [
      "C:\\Users\\bertille.lekeufack\\.conda\\envs\\stage1\\lib\\site-packages\\sklearn\\model_selection\\_split.py:666: UserWarning: The least populated class in y has only 2 members, which is less than n_splits=5.\n",
      "  warnings.warn((\"The least populated class in y has only %d\"\n",
      "C:\\Users\\bertille.lekeufack\\.conda\\envs\\stage1\\lib\\site-packages\\sklearn\\model_selection\\_split.py:666: UserWarning: The least populated class in y has only 2 members, which is less than n_splits=5.\n",
      "  warnings.warn((\"The least populated class in y has only %d\"\n",
      "C:\\Users\\bertille.lekeufack\\.conda\\envs\\stage1\\lib\\site-packages\\sklearn\\model_selection\\_split.py:666: UserWarning: The least populated class in y has only 2 members, which is less than n_splits=5.\n",
      "  warnings.warn((\"The least populated class in y has only %d\"\n",
      "C:\\Users\\bertille.lekeufack\\.conda\\envs\\stage1\\lib\\site-packages\\sklearn\\model_selection\\_split.py:666: UserWarning: The least populated class in y has only 2 members, which is less than n_splits=5.\n",
      "  warnings.warn((\"The least populated class in y has only %d\"\n"
     ]
    }
   ],
   "source": [
    "from sklearn.linear_model import LogisticRegression\n",
    "from sklearn.ensemble import RandomForestClassifier\n",
    "from sklearn.naive_bayes import MultinomialNB\n",
    "from sklearn.svm import LinearSVC\n",
    "\n",
    "from sklearn.model_selection import cross_val_score\n",
    "\n",
    "\n",
    "models = [\n",
    "    RandomForestClassifier(n_estimators=200, max_depth=3, random_state=0),\n",
    "    LinearSVC(),\n",
    "    MultinomialNB(),\n",
    "    LogisticRegression(random_state=0),\n",
    "]\n",
    "CV = 5\n",
    "cv_df = pd.DataFrame(index=range(CV * len(models)))\n",
    "entries = []\n",
    "for model in models:\n",
    "    model_name = model.__class__.__name__\n",
    "    accuracies = cross_val_score(model, features, labels, scoring='accuracy', cv=CV)\n",
    "    for fold_idx, accuracy in enumerate(accuracies):\n",
    "        entries.append((model_name, fold_idx, accuracy))\n",
    "cv_df = pd.DataFrame(entries, columns=['model_name', 'fold_idx', 'accuracy'])"
   ]
  },
  {
   "cell_type": "code",
   "execution_count": 29,
   "id": "e92448c7",
   "metadata": {},
   "outputs": [
    {
     "data": {
      "image/png": "[encoded data removed]",
      "text/plain": [
       "<Figure size 432x288 with 1 Axes>"
      ]
     },
     "metadata": {
      "needs_background": "light"
     },
     "output_type": "display_data"
    }
   ],
   "source": [
    "import seaborn as sns\n",
    "\n",
    "sns.boxplot(x='model_name', y='accuracy', data=cv_df)\n",
    "sns.stripplot(x='model_name', y='accuracy', data=cv_df, \n",
    "              size=8, jitter=True, edgecolor=\"gray\", linewidth=2)\n",
    "plt.show()"
   ]
  },
  {
   "cell_type": "code",
   "execution_count": 30,
   "id": "3930add4",
   "metadata": {},
   "outputs": [
    {
     "data": {
      "text/plain": [
       "model_name\n",
       "LinearSVC                 0.558684\n",
       "LogisticRegression        0.552549\n",
       "MultinomialNB             0.510762\n",
       "RandomForestClassifier    0.413016\n",
       "Name: accuracy, dtype: float64"
      ]
     },
     "execution_count": 30,
     "metadata": {},
     "output_type": "execute_result"
    }
   ],
   "source": [
    "cv_df.groupby('model_name').accuracy.mean()"
   ]
  },
  {
   "cell_type": "code",
   "execution_count": 31,
   "id": "2071618b",
   "metadata": {},
   "outputs": [],
   "source": [
    "from sklearn.model_selection import train_test_split\n",
    "\n",
    "model = LinearSVC()\n",
    "\n",
    "X_train, X_test, y_train, y_test, indices_train, indices_test = train_test_split(features, labels, df.index, test_size=0.33, random_state=0)\n",
    "model.fit(X_train, y_train)\n",
    "y_pred = model.predict(X_test)\n"
   ]
  },
  {
   "cell_type": "code",
   "execution_count": 32,
   "id": "c2ad8a68",
   "metadata": {},
   "outputs": [
    {
     "data": {
      "image/png": "[encoded data removed]",
      "text/plain": [
       "<Figure size 576x432 with 2 Axes>"
      ]
     },
     "metadata": {
      "needs_background": "light"
     },
     "output_type": "display_data"
    }
   ],
   "source": [
    "from sklearn.metrics import confusion_matrix\n",
    "import seaborn as sns\n",
    "\n",
    "conf_mat = confusion_matrix(y_test, y_pred)\n",
    "fig, ax = plt.subplots(figsize=(8,6))\n",
    "sns.heatmap(conf_mat, annot=True, fmt='d',\n",
    "            xticklabels=category_id_df.catégorie.values, yticklabels=category_id_df.catégorie.values)\n",
    "plt.ylabel('Actual')\n",
    "plt.xlabel('Predicted')\n",
    "plt.show()"
   ]
  },
  {
   "cell_type": "code",
   "execution_count": 56,
   "id": "c562ffe5",
   "metadata": {},
   "outputs": [
    {
     "name": "stdout",
     "output_type": "stream",
     "text": [
      "[[0. 0. 0. ... 0. 0. 0.]\n",
      " [0. 0. 0. ... 0. 0. 0.]\n",
      " [0. 0. 0. ... 0. 0. 0.]\n",
      " ...\n",
      " [0. 0. 0. ... 0. 0. 0.]\n",
      " [0. 0. 0. ... 0. 0. 0.]\n",
      " [0. 0. 0. ... 0. 0. 0.]]\n"
     ]
    }
   ],
   "source": [
    "print(X_train)"
   ]
  },
  {
   "cell_type": "code",
   "execution_count": 54,
   "id": "64fc9170",
   "metadata": {},
   "outputs": [
    {
     "ename": "AttributeError",
     "evalue": "'numpy.ndarray' object has no attribute 'index'",
     "output_type": "error",
     "traceback": [
      "\u001b[1;31m---------------------------------------------------------------------------\u001b[0m",
      "\u001b[1;31mAttributeError\u001b[0m                            Traceback (most recent call last)",
      "\u001b[1;32m<ipython-input-54-eb3cbaefd46a>\u001b[0m in \u001b[0;36m<module>\u001b[1;34m\u001b[0m\n\u001b[0;32m      5\u001b[0m         \u001b[1;32mif\u001b[0m \u001b[0mpredicted\u001b[0m \u001b[1;33m!=\u001b[0m \u001b[0mactual\u001b[0m\u001b[1;33m:\u001b[0m\u001b[1;33m\u001b[0m\u001b[1;33m\u001b[0m\u001b[0m\n\u001b[0;32m      6\u001b[0m             \u001b[1;31m#print(\"'{}' predicted as '{}' : {} examples.\".format(id_to_category[actual], id_to_category[predicted], conf_mat[actual, predicted]))\u001b[0m\u001b[1;33m\u001b[0m\u001b[1;33m\u001b[0m\u001b[1;33m\u001b[0m\u001b[0m\n\u001b[1;32m----> 7\u001b[1;33m             \u001b[0mm\u001b[0m\u001b[1;33m=\u001b[0m\u001b[0mdf\u001b[0m\u001b[1;33m.\u001b[0m\u001b[0mloc\u001b[0m\u001b[1;33m[\u001b[0m\u001b[0mX_test\u001b[0m\u001b[1;33m.\u001b[0m\u001b[0mindex\u001b[0m\u001b[1;33m==\u001b[0m\u001b[0mindices_test\u001b[0m\u001b[1;33m]\u001b[0m\u001b[1;33m\u001b[0m\u001b[1;33m\u001b[0m\u001b[0m\n\u001b[0m\u001b[0;32m      8\u001b[0m             pred = pd.DataFrame({\n\u001b[0;32m      9\u001b[0m                     \u001b[1;34m'index'\u001b[0m\u001b[1;33m:\u001b[0m\u001b[0mindices_test\u001b[0m\u001b[1;33m,\u001b[0m\u001b[1;33m\u001b[0m\u001b[1;33m\u001b[0m\u001b[0m\n",
      "\u001b[1;31mAttributeError\u001b[0m: 'numpy.ndarray' object has no attribute 'index'"
     ]
    }
   ],
   "source": [
    "from IPython.display import display\n",
    "\n",
    "for predicted in category_id_df.category_id:\n",
    "    for actual in category_id_df.category_id:\n",
    "        if predicted != actual:\n",
    "            #print(\"'{}' predicted as '{}' : {} examples.\".format(id_to_category[actual], id_to_category[predicted], conf_mat[actual, predicted]))\n",
    "            m=df.loc[X_test.index==indices_test]\n",
    "            pred = pd.DataFrame({\n",
    "                    'index':indices_test,\n",
    "                    'actual': y_test, \n",
    "                    'predicted':y_pred,\n",
    "                    'Messages': m.Messages\n",
    "                   })\n",
    "pred.head(30)\n",
    "           \n",
    "           "
   ]
  },
  {
   "cell_type": "code",
   "execution_count": 62,
   "id": "44a686be",
   "metadata": {},
   "outputs": [
    {
     "data": {
      "text/plain": [
       "{5, 8, 10}"
      ]
     },
     "execution_count": 62,
     "metadata": {},
     "output_type": "execute_result"
    }
   ],
   "source": [
    "a=set(y_test) - set(y_pred)\n",
    "a"
   ]
  },
  {
   "cell_type": "code",
   "execution_count": null,
   "id": "40f2a829",
   "metadata": {},
   "outputs": [],
   "source": [
    "print(category_id_df)"
   ]
  },
  {
   "cell_type": "code",
   "execution_count": null,
   "id": "470205c5",
   "metadata": {},
   "outputs": [],
   "source": []
  },
  {
   "cell_type": "code",
   "execution_count": null,
   "id": "2e0627c7",
   "metadata": {},
   "outputs": [],
   "source": [
    "from IPython.display import display\n",
    "\n",
    "for predicted in df.category_id:\n",
    "    for actual in df.category_id:\n",
    "        if predicted != actual and conf_mat[actual, predicted] >= 2:\n",
    "                print(\"'{}' predicted as '{}' : {} examples.\".format(id_to_category[actual], id_to_category[predicted], conf_mat[actual, predicted]))\n",
    "                display(df.loc[indices_test[(y_test == actual) & (y_pred == predicted)]][['catégorie', 'Messages']])\n",
    "                print('')"
   ]
  },
  {
   "cell_type": "code",
   "execution_count": null,
   "id": "1d3ee397",
   "metadata": {},
   "outputs": [],
   "source": [
    "from IPython.display import display\n",
    "\n",
    "for predicted in category_id_df.category_id:\n",
    "    for actual in category_id_df.category_id:\n",
    "        if predicted != actual and conf_mat[actual, predicted] >= 6:\n",
    "            print(\"'{}' predicted as '{}' : {} examples.\".format(df.catégorie[actual], df.catégorie[predicted], conf_mat[actual, predicted]))\n",
    "            display(df.loc[indices_test[(y_test == actual) & (y_pred == predicted)]][['catégorie', 'Messages']])\n",
    "            print('')"
   ]
  },
  {
   "cell_type": "code",
   "execution_count": null,
   "id": "d59ca2bb",
   "metadata": {},
   "outputs": [],
   "source": [
    "model.fit(features, labels)"
   ]
  },
  {
   "cell_type": "code",
   "execution_count": null,
   "id": "d4d15b0b",
   "metadata": {},
   "outputs": [],
   "source": [
    "from sklearn.feature_selection import chi2\n",
    "\n",
    "N = 2\n",
    "for Product, category_id in sorted(category_to_id.items()):\n",
    "    indices = np.argsort(model.coef_[category_id])\n",
    "    feature_names = np.array(tfidf.get_feature_names())[indices]\n",
    "    unigrams = [v for v in reversed(feature_names) if len(v.split(' ')) == 1][:N]\n",
    "    bigrams = [v for v in reversed(feature_names) if len(v.split(' ')) == 2][:N]\n",
    "    print(\"# '{}':\".format(Product))\n",
    "    print(\"  . Top unigrams:\\n       . {}\".format('\\n       . '.join(unigrams)))\n",
    "    print(\"  . Top bigrams:\\n       . {}\".format('\\n       . '.join(bigrams)))"
   ]
  },
  {
   "cell_type": "code",
   "execution_count": null,
   "id": "4506e39c",
   "metadata": {},
   "outputs": [],
   "source": [
    "texts = [\"I requested a home loan modification through Bank of America. Bank of America never got back to me.\",\n",
    "         \"It has been difficult for me to find my past due balance. I missed a regular monthly payment\",\n",
    "         \"I can't get the money out of the country.\",\n",
    "         \"I have no money to pay my tuition\",\n",
    "         \"Coinbase closed my account for no reason and furthermore refused to give me a reason despite dozens of request\"]\n",
    "text_features = tfidf.transform(texts)\n",
    "predictions = model.predict(text_features)\n",
    "for text, predicted in zip(texts, predictions):\n",
    "    print('\"{}\"'.format(text))\n",
    "    print(\"  - Predicted as: '{}'\".format(id_to_category[predicted]))\n",
    "    print(\"\")"
   ]
  },
  {
   "cell_type": "code",
   "execution_count": null,
   "id": "f94f0f38",
   "metadata": {},
   "outputs": [],
   "source": [
    "from sklearn import metrics\n",
    "print(metrics.classification_report(y_test, y_pred, \n",
    "                                    target_names=my_tag))"
   ]
  },
  {
   "cell_type": "code",
   "execution_count": null,
   "id": "36370f47",
   "metadata": {},
   "outputs": [],
   "source": []
  }
 ],
 "metadata": {
  "kernelspec": {
   "display_name": "Python 3",
   "language": "python",
   "name": "python3"
  },
  "language_info": {
   "codemirror_mode": {
    "name": "ipython",
    "version": 3
   },
   "file_extension": ".py",
   "mimetype": "text/x-python",
   "name": "python",
   "nbconvert_exporter": "python",
   "pygments_lexer": "ipython3",
   "version": "3.8.8"
  }
 },
 "nbformat": 4,
 "nbformat_minor": 5
}
