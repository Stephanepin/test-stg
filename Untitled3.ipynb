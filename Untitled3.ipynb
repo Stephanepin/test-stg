{
 "cells": [
  {
   "cell_type": "code",
   "execution_count": 1,
   "id": "92fdc296",
   "metadata": {},
   "outputs": [],
   "source": [
    "import os\n",
    "import time\n",
    "import re\n",
    "import numpy as np\n",
    "import pandas as pd\n",
    "import matplotlib.pyplot as plt\n",
    "from tqdm import tqdm\n",
    "\n",
    "from sklearn.feature_extraction.text import CountVectorizer, TfidfVectorizer\n",
    "from sklearn import preprocessing\n",
    "from sklearn.model_selection import train_test_split, StratifiedKFold, KFold\n",
    "\n",
    "from sklearn.naive_bayes import MultinomialNB\n",
    "from sklearn.linear_model import SGDClassifier\n",
    "from sklearn.linear_model import LogisticRegression\n",
    "from sklearn.svm import LinearSVC\n",
    "from sklearn.ensemble import RandomForestClassifier, GradientBoostingClassifier\n",
    "\n",
    "from sklearn.metrics import classification_report\n",
    "from sklearn.metrics import confusion_matrix\n",
    "from sklearn.metrics import plot_confusion_matrix\n",
    "from sklearn.metrics import precision_recall_fscore_support as score"
   ]
  },
  {
   "cell_type": "code",
   "execution_count": 2,
   "id": "ad9d3a6a",
   "metadata": {},
   "outputs": [],
   "source": [
    "df =  pd.read_excel('final_210504_tous labels_complet.xlsx',engine='openpyxl')\n",
    "col=['Messages','catégorie']\n",
    "df=df[col]\n",
    "df = df[pd.notna(df['Messages'])].reset_index(drop=True)"
   ]
  },
  {
   "cell_type": "code",
   "execution_count": 3,
   "id": "833a27ca",
   "metadata": {},
   "outputs": [],
   "source": [
    "df = df[pd.notnull(df['catégorie'])]"
   ]
  },
  {
   "cell_type": "code",
   "execution_count": 4,
   "id": "dcfda2a5",
   "metadata": {},
   "outputs": [],
   "source": [
    "df['Messages']=df['Messages'].astype(str)"
   ]
  },
  {
   "cell_type": "code",
   "execution_count": 5,
   "id": "5754e365",
   "metadata": {},
   "outputs": [
    {
     "name": "stderr",
     "output_type": "stream",
     "text": [
      "<ipython-input-5-5edb1f950455>:4: SettingWithCopyWarning: \n",
      "A value is trying to be set on a copy of a slice from a DataFrame\n",
      "\n",
      "See the caveats in the documentation: https://pandas.pydata.org/pandas-docs/stable/user_guide/indexing.html#returning-a-view-versus-a-copy\n",
      "  df['occurence'][i]=ss.find(\"cordialement\")\n"
     ]
    }
   ],
   "source": [
    "df['occurence']=0\n",
    "for i in df.index:\n",
    "    ss=df['Messages'][i].lower()\n",
    "    df['occurence'][i]=ss.find(\"cordialement\")"
   ]
  },
  {
   "cell_type": "code",
   "execution_count": 6,
   "id": "b7e1b558",
   "metadata": {},
   "outputs": [
    {
     "data": {
      "text/plain": [
       "a                                 5712\n",
       "contrat                            887\n",
       "commande de badge                  672\n",
       "no message                         492\n",
       "demande de renseignement           309\n",
       "renseignement facture              233\n",
       "réclamation qualité de service     113\n",
       "interne Axxès                       88\n",
       "Name: catégorie, dtype: int64"
      ]
     },
     "execution_count": 6,
     "metadata": {},
     "output_type": "execute_result"
    }
   ],
   "source": [
    "df.catégorie.value_counts()"
   ]
  },
  {
   "cell_type": "code",
   "execution_count": 7,
   "id": "f3e00e92",
   "metadata": {},
   "outputs": [
    {
     "name": "stderr",
     "output_type": "stream",
     "text": [
      "<ipython-input-7-20f45a58a9c7>:4: SettingWithCopyWarning: \n",
      "A value is trying to be set on a copy of a slice from a DataFrame\n",
      "\n",
      "See the caveats in the documentation: https://pandas.pydata.org/pandas-docs/stable/user_guide/indexing.html#returning-a-view-versus-a-copy\n",
      "  df['text'][i]=df['Messages'][i][0:df['occurence'][i]]\n",
      "C:\\Users\\bertille.lekeufack\\AppData\\Roaming\\Python\\Python38\\site-packages\\pandas\\core\\indexing.py:1637: SettingWithCopyWarning: \n",
      "A value is trying to be set on a copy of a slice from a DataFrame\n",
      "\n",
      "See the caveats in the documentation: https://pandas.pydata.org/pandas-docs/stable/user_guide/indexing.html#returning-a-view-versus-a-copy\n",
      "  self._setitem_single_block(indexer, value, name)\n",
      "<ipython-input-7-20f45a58a9c7>:6: SettingWithCopyWarning: \n",
      "A value is trying to be set on a copy of a slice from a DataFrame\n",
      "\n",
      "See the caveats in the documentation: https://pandas.pydata.org/pandas-docs/stable/user_guide/indexing.html#returning-a-view-versus-a-copy\n",
      "  df['text'][i]=df['Messages'][i]\n"
     ]
    }
   ],
   "source": [
    "df['text']=0\n",
    "for i in df.index:\n",
    "    if df['occurence'][i]>0:\n",
    "        df['text'][i]=df['Messages'][i][0:df['occurence'][i]]\n",
    "    else:\n",
    "        df['text'][i]=df['Messages'][i]"
   ]
  },
  {
   "cell_type": "code",
   "execution_count": 8,
   "id": "c2967318",
   "metadata": {},
   "outputs": [],
   "source": [
    "commande =['commande','badge','badges','équiper','remplacement','boitier',\n",
    "       'badge;commande','dispositivos','aparatos','commande; badges','badges','commander; obus','appareil ','commande; badge',\n",
    "       'commande; télépéage', 'commande ','commande;télébadge','cartes','télé péage','commander; télépéages','commander;télépéage',\n",
    "       'badge;télépéage','commande; remplacement; télébadge','commande','boitiers','commander;badge','boitier ','commander; badges',\n",
    "       'tags','remplacer ; badges','commande créée','nouveau badge','votre commande','nouvelle commande','badge supplémentaire',\n",
    "       'nouveaux badges','remplacement badge','Nuevos dispositivos','confirmation commande','commande badge','badges autoroute',\n",
    "       'demande badge','dispositivos nuevos','toll tags','commande de badge','commande de badges; fichier de commande',\n",
    "       'demande de remplacement','parvenir un badge','bon de commande','valider cette commande','envoyer un badge',\n",
    "       'badge supplémentaire','remplacement du badge',\"commande d'un badge\",'recevoir le badge','commande passée','demande de badge',\n",
    "       'demande de badges','envoyer le badge','commander un obus','appareil de localisation ','commande de télépéage',\n",
    "       'commander un badge','fichier de commande','commande de télébadge',\"badge d'autoroute\",'demander un badge','renvoyer un badge',\n",
    "       'commander 1 télépéage','badges de télépéage','valider la commande','équiper de boitiers','commander 1 badge','liste de badges',\n",
    "       'badges demandés','commander 2 badges',\"création d'un badge\",'AFM','commande prise en compte','faire un badge',\n",
    "       'demande de nouveau badge','valider au plus vite votre commande','valider ma commande de badge','suite à notre commande',\n",
    "       'commande du nouveau badge','remplacement de votre badge',\"équiper ce nouveau véhicule d'un badge\",'demande de badge supplémentaire',\n",
    "       'solicitamos 8 dispositivos','parvenir un badge supplémentaire','Solicitud de 6 aparatos','commande de 2 badges',\n",
    "       \"nous avons besoin d'un appareil de localisation\",'suite à ma commande',\"m'enregistrer et m'envoyer un nouveau badge\",\n",
    "       'traitement de la commande','nouvelle commande de badge','commande pour un badge','nous aimerions un badge','obtenir les cartes rapidement',\n",
    "       'commande XXXX badge du camion','commande de badge supplémentaire','parvenir un télé péage','solicitud de 2 nuevos dispositivos',\n",
    "       'commander 2 télépéages','carte grise pour la commande','il me faudrait 18 badges autoroute','commande de 9 nouveaux badges',\n",
    "       'valider ma commande','bon de commande d\\'un nouveau badge',\n",
    "       'votre commande concernant vos VL','merci de livrer ce boitier','commande pour un badge supplémentaire','nouveaux badges à envoyer','ces badges doivents être à priori remplacés par des badges',\n",
    "       \"nous avons besoin d'un badge supplémentaire\",'merci de bien vouloir nous adresser le boitier',\n",
    "       'enregistrement de votre commande','send me 2 toll tags','remplacer tous les badges','parvenir les badges','commande pour 2 nouveaux badges',\n",
    "       'carte grise correspondant à notre commande']"
   ]
  },
  {
   "cell_type": "code",
   "execution_count": 9,
   "id": "8b83df75",
   "metadata": {},
   "outputs": [
    {
     "name": "stderr",
     "output_type": "stream",
     "text": [
      "<ipython-input-9-eba06af90095>:7: SettingWithCopyWarning: \n",
      "A value is trying to be set on a copy of a slice from a DataFrame\n",
      "\n",
      "See the caveats in the documentation: https://pandas.pydata.org/pandas-docs/stable/user_guide/indexing.html#returning-a-view-versus-a-copy\n",
      "  df['catégorie'][i] = \"commande de badge\"\n"
     ]
    }
   ],
   "source": [
    "comm=df.loc[df['catégorie']=='a']\n",
    "for i in  comm.index:\n",
    "    ss=df['text'][i].lower()\n",
    "    for j in commande :\n",
    "        t = ss.find(j)\n",
    "        if t>0:\n",
    "            df['catégorie'][i] = \"commande de badge\"\n",
    "            break"
   ]
  },
  {
   "cell_type": "code",
   "execution_count": 10,
   "id": "aee448a6",
   "metadata": {},
   "outputs": [
    {
     "data": {
      "text/plain": [
       "a                                 3402\n",
       "commande de badge                 2982\n",
       "contrat                            887\n",
       "no message                         492\n",
       "demande de renseignement           309\n",
       "renseignement facture              233\n",
       "réclamation qualité de service     113\n",
       "interne Axxès                       88\n",
       "Name: catégorie, dtype: int64"
      ]
     },
     "execution_count": 10,
     "metadata": {},
     "output_type": "execute_result"
    }
   ],
   "source": [
    "df.catégorie.value_counts()"
   ]
  },
  {
   "cell_type": "code",
   "execution_count": 11,
   "id": "0205497b",
   "metadata": {},
   "outputs": [],
   "source": [
    "facture=[\"ci-joint la facture\",\"pouvez-vous éditer ce duplicata\",\"ci-joint les factures\",\"indemnité pour badge non restitué\",\n",
    "        \"justificatif de virement\",\"demande de duplicata\",\"frais de facturation\",\"duplicata de facture\",\"demande d'avoir\",\"mise en demeure\", \"payer\",\n",
    "        \"Facture\",\"facture; duplicata\",\"factures\", \"duplicatas\",\"facture\",\"duplicata\",\"factures; duplicatas\",\"duplicatas\",\n",
    "        \"facturé\",\"factura\",\"facturar\",\"facture; avoir\",\"pagamento; prelevement\",\"indemnité\",\"facturation\",\"frais; facturés\",\n",
    "        \"remboursement\",\"règlement\",\"virement\",\"montant\",\"facture payée\"]"
   ]
  },
  {
   "cell_type": "code",
   "execution_count": 12,
   "id": "3cbc09e8",
   "metadata": {},
   "outputs": [
    {
     "data": {
      "text/plain": [
       "a                                 3402\n",
       "commande de badge                 2982\n",
       "contrat                            887\n",
       "no message                         492\n",
       "demande de renseignement           309\n",
       "renseignement facture              233\n",
       "réclamation qualité de service     113\n",
       "interne Axxès                       88\n",
       "Name: catégorie, dtype: int64"
      ]
     },
     "execution_count": 12,
     "metadata": {},
     "output_type": "execute_result"
    }
   ],
   "source": [
    "df.catégorie.value_counts()"
   ]
  },
  {
   "cell_type": "code",
   "execution_count": 13,
   "id": "a5794348",
   "metadata": {},
   "outputs": [
    {
     "name": "stderr",
     "output_type": "stream",
     "text": [
      "<ipython-input-13-d46e1f1feb1a>:7: SettingWithCopyWarning: \n",
      "A value is trying to be set on a copy of a slice from a DataFrame\n",
      "\n",
      "See the caveats in the documentation: https://pandas.pydata.org/pandas-docs/stable/user_guide/indexing.html#returning-a-view-versus-a-copy\n",
      "  df['catégorie'][i] = \"renseignement facture\"\n"
     ]
    }
   ],
   "source": [
    "fact=df.loc[df['catégorie']=='a']\n",
    "for i in fact.index:\n",
    "    ss=df['text'][i].lower()\n",
    "    for j in facture :\n",
    "        t = ss.find(j)\n",
    "        if t>0:\n",
    "            df['catégorie'][i] = \"renseignement facture\"\n",
    "            break"
   ]
  },
  {
   "cell_type": "code",
   "execution_count": 14,
   "id": "0f1cbeef",
   "metadata": {},
   "outputs": [
    {
     "data": {
      "text/plain": [
       "commande de badge                 2982\n",
       "a                                 2252\n",
       "renseignement facture             1383\n",
       "contrat                            887\n",
       "no message                         492\n",
       "demande de renseignement           309\n",
       "réclamation qualité de service     113\n",
       "interne Axxès                       88\n",
       "Name: catégorie, dtype: int64"
      ]
     },
     "execution_count": 14,
     "metadata": {},
     "output_type": "execute_result"
    }
   ],
   "source": [
    "df.catégorie.value_counts()"
   ]
  },
  {
   "cell_type": "code",
   "execution_count": 15,
   "id": "ccf87f21",
   "metadata": {},
   "outputs": [],
   "source": [
    "contrat=[\"mandat\",\"sepa\",\"rib\",\"libelle\",\"document\",\"formulaire\",\"souscrire\", \"dossier\", \"abonnement\",\"contract\",\"résiliation\",\n",
    "        \"adresse\",\"libellé\",\"bilan comptable\",\"carte grise\",\"adresse mail\",\"compte bancaire\",\"nouvelle adresse\",\"coordonnées bancaires\",\n",
    "        \"dossier\", \"compte\",\"demande de mutation\",\"Deseja que o veículo esteja ligado ao veículo\",\"cambio de denominación\",\n",
    "        \"création du compte\",\"enregistrement du vehicule\",\"coordonnées bancaires\",\"ouverture de compte\",\n",
    "        \"merci de mettre en libelle\",\"la société\",\"a été vendue\",\"vérifier dans vos comptes\",\"justificatif\",\n",
    "        \"justificatif\",\"attestation\",\"dossier\", \"garantie\",\"documents renseignés\",\"changement d'adresse\",\"avenant\",\"coordonnées bancaires\",\n",
    "        \"bank\",\"bank detail\",\"raison sociale\",\"rectification de la raison sociale\",\"bank statement\",\"fiche technique\",\"permis de conduire\",\n",
    "        \"banque\",\"modifier les éléments\",\"documents modifiés\",\"dossier de souscription\",\"contrat\",\"mandat sepa\",\"documents demandés\",\n",
    "        \"demande abonnement\",\"modification de coordonnées\",\"modifier l'adresse\",\"KBIS\",\"extrait KBIS\",\"contractualiser\",\"depot de garantie\",\n",
    "        \"correspondant\",\"représentant legal\",\"activate\",\"caution\",\"numéro client\",\"numero de TVA\",\"supprimer le nom\",\"retirer des contacts\",\n",
    "        \"administratives\",\"decisions administratives\",\"mettre un terme à notre  contrat\",\"réinitialiser les identifiants\",\"ouverture de notre compte\",\n",
    "        \"dossier de souscription\",\"créer un accès\",\"documents complétés\"]"
   ]
  },
  {
   "cell_type": "code",
   "execution_count": 16,
   "id": "81fc46ba",
   "metadata": {},
   "outputs": [
    {
     "name": "stderr",
     "output_type": "stream",
     "text": [
      "<ipython-input-16-d0fa66495ea5>:7: SettingWithCopyWarning: \n",
      "A value is trying to be set on a copy of a slice from a DataFrame\n",
      "\n",
      "See the caveats in the documentation: https://pandas.pydata.org/pandas-docs/stable/user_guide/indexing.html#returning-a-view-versus-a-copy\n",
      "  df['catégorie'][i] = \"contrat\"\n"
     ]
    }
   ],
   "source": [
    "cont=df.loc[df['catégorie']=='a']\n",
    "for i in cont.index:\n",
    "    ss=df['text'][i].lower()\n",
    "    for j in contrat:\n",
    "        t = ss.find(j)\n",
    "        if t>0:\n",
    "            df['catégorie'][i] = \"contrat\"\n",
    "            break"
   ]
  },
  {
   "cell_type": "code",
   "execution_count": 17,
   "id": "89666a41",
   "metadata": {},
   "outputs": [
    {
     "data": {
      "text/plain": [
       "commande de badge                 2982\n",
       "contrat                           1729\n",
       "a                                 1410\n",
       "renseignement facture             1383\n",
       "no message                         492\n",
       "demande de renseignement           309\n",
       "réclamation qualité de service     113\n",
       "interne Axxès                       88\n",
       "Name: catégorie, dtype: int64"
      ]
     },
     "execution_count": 17,
     "metadata": {},
     "output_type": "execute_result"
    }
   ],
   "source": [
    "df.catégorie.value_counts()"
   ]
  },
  {
   "cell_type": "code",
   "execution_count": 18,
   "id": "6803d49a",
   "metadata": {},
   "outputs": [],
   "source": [
    "impayé=[\"justificatif de virement\",\"ci-joint virement\",\"preuve de mon paiement\",\"preuve de paiement\",\"virement de la facture\",\n",
    "       \"impayé\",\"justificatif de paiement\",\"incident de paiement\",\"incidencia impago\",\"virement complémentaire\",\"débloquer\",\n",
    "       \"virement validé\",\"somme réclammée\",\"attente de règlement\",\"avoir\",\"avoirs\",\"copie du virement\",\"virement effectué\",\n",
    "        \"régulariser\"\n",
    "       ]"
   ]
  },
  {
   "cell_type": "code",
   "execution_count": 19,
   "id": "f21df25e",
   "metadata": {},
   "outputs": [
    {
     "name": "stderr",
     "output_type": "stream",
     "text": [
      "<ipython-input-19-f8ba81a2e4dd>:7: SettingWithCopyWarning: \n",
      "A value is trying to be set on a copy of a slice from a DataFrame\n",
      "\n",
      "See the caveats in the documentation: https://pandas.pydata.org/pandas-docs/stable/user_guide/indexing.html#returning-a-view-versus-a-copy\n",
      "  df['catégorie'][i] = \"impayé\"\n"
     ]
    }
   ],
   "source": [
    "imp=df.loc[df['catégorie']=='a']\n",
    "for i in imp.index:\n",
    "    ss=df['text'][i].lower()\n",
    "    for j in impayé:\n",
    "        t = ss.find(j)\n",
    "        if t>0:\n",
    "            df['catégorie'][i] = \"impayé\"\n",
    "            break"
   ]
  },
  {
   "cell_type": "code",
   "execution_count": 20,
   "id": "20cc92b3",
   "metadata": {},
   "outputs": [
    {
     "data": {
      "text/plain": [
       "commande de badge                 2982\n",
       "contrat                           1729\n",
       "renseignement facture             1383\n",
       "a                                 1377\n",
       "no message                         492\n",
       "demande de renseignement           309\n",
       "réclamation qualité de service     113\n",
       "interne Axxès                       88\n",
       "impayé                              33\n",
       "Name: catégorie, dtype: int64"
      ]
     },
     "execution_count": 20,
     "metadata": {},
     "output_type": "execute_result"
    }
   ],
   "source": [
    "df.catégorie.value_counts()"
   ]
  },
  {
   "cell_type": "code",
   "execution_count": 21,
   "id": "0752afba",
   "metadata": {},
   "outputs": [],
   "source": [
    "afm=[\"invisible\",\"le véhicule est souvent invisible\",\"proof of payment\",\"service géolocalisation\",\"Axxès Fleet Manager\",\n",
    "    \"boitier geoloc\",\"géolocaliser\",\"géolocaliser les camions\",\"locations have not changed,service ADC\",'mapa',  'AFM', 'geoloc'\n",
    "    ,\"outil de geolocalisation\"]"
   ]
  },
  {
   "cell_type": "code",
   "execution_count": 22,
   "id": "e4ec6c7c",
   "metadata": {},
   "outputs": [
    {
     "name": "stderr",
     "output_type": "stream",
     "text": [
      "<ipython-input-22-12474cf6a9ab>:7: SettingWithCopyWarning: \n",
      "A value is trying to be set on a copy of a slice from a DataFrame\n",
      "\n",
      "See the caveats in the documentation: https://pandas.pydata.org/pandas-docs/stable/user_guide/indexing.html#returning-a-view-versus-a-copy\n",
      "  df['catégorie'][i] = \"afm\"\n"
     ]
    }
   ],
   "source": [
    "af=df.loc[df['catégorie']=='a']\n",
    "for i in af.index:\n",
    "    ss=df['text'][i].lower()\n",
    "    for j in afm:\n",
    "        t = ss.find(j)\n",
    "        if t>0:\n",
    "            df['catégorie'][i] = \"afm\"\n",
    "            break"
   ]
  },
  {
   "cell_type": "code",
   "execution_count": 23,
   "id": "9bde6200",
   "metadata": {},
   "outputs": [
    {
     "data": {
      "text/plain": [
       "commande de badge                 2982\n",
       "contrat                           1729\n",
       "renseignement facture             1383\n",
       "a                                 1367\n",
       "no message                         492\n",
       "demande de renseignement           309\n",
       "réclamation qualité de service     113\n",
       "interne Axxès                       88\n",
       "impayé                              33\n",
       "afm                                 10\n",
       "Name: catégorie, dtype: int64"
      ]
     },
     "execution_count": 23,
     "metadata": {},
     "output_type": "execute_result"
    }
   ],
   "source": [
    "df.catégorie.value_counts()"
   ]
  },
  {
   "cell_type": "code",
   "execution_count": 24,
   "id": "93bb7b1c",
   "metadata": {},
   "outputs": [
    {
     "data": {
      "text/html": [
       "<div>\n",
       "<style scoped>\n",
       "    .dataframe tbody tr th:only-of-type {\n",
       "        vertical-align: middle;\n",
       "    }\n",
       "\n",
       "    .dataframe tbody tr th {\n",
       "        vertical-align: top;\n",
       "    }\n",
       "\n",
       "    .dataframe thead th {\n",
       "        text-align: right;\n",
       "    }\n",
       "</style>\n",
       "<table border=\"1\" class=\"dataframe\">\n",
       "  <thead>\n",
       "    <tr style=\"text-align: right;\">\n",
       "      <th></th>\n",
       "      <th>Messages</th>\n",
       "      <th>catégorie</th>\n",
       "      <th>occurence</th>\n",
       "      <th>text</th>\n",
       "    </tr>\n",
       "  </thead>\n",
       "  <tbody>\n",
       "    <tr>\n",
       "      <th>8466</th>\n",
       "      <td>commande pour le SDIS 49 N° client\\4946196 \\n ...</td>\n",
       "      <td>commande de badge</td>\n",
       "      <td>286</td>\n",
       "      <td>commande pour le SDIS 49 N° client\\4946196 \\n ...</td>\n",
       "    </tr>\n",
       "    <tr>\n",
       "      <th>8467</th>\n",
       "      <td>AXXES Listing Badges Actifs VOYAGES RICHOU 357...</td>\n",
       "      <td>commande de badge</td>\n",
       "      <td>172</td>\n",
       "      <td>AXXES Listing Badges Actifs VOYAGES RICHOU 357...</td>\n",
       "    </tr>\n",
       "    <tr>\n",
       "      <th>8468</th>\n",
       "      <td>TR:  Confirmation commande n° 000612126 / Voya...</td>\n",
       "      <td>commande de badge</td>\n",
       "      <td>146</td>\n",
       "      <td>TR:  Confirmation commande n° 000612126 / Voya...</td>\n",
       "    </tr>\n",
       "    <tr>\n",
       "      <th>8469</th>\n",
       "      <td>Modif carte grise sur boitier AXXES - notre lo...</td>\n",
       "      <td>commande de badge</td>\n",
       "      <td>-1</td>\n",
       "      <td>Modif carte grise sur boitier AXXES - notre lo...</td>\n",
       "    </tr>\n",
       "    <tr>\n",
       "      <th>8470</th>\n",
       "      <td>Modif carte grise sur boitier AXXES - notre lo...</td>\n",
       "      <td>commande de badge</td>\n",
       "      <td>-1</td>\n",
       "      <td>Modif carte grise sur boitier AXXES - notre lo...</td>\n",
       "    </tr>\n",
       "    <tr>\n",
       "      <th>8471</th>\n",
       "      <td>Lu : Modif carte grise sur boitier AXXES - not...</td>\n",
       "      <td>commande de badge</td>\n",
       "      <td>-1</td>\n",
       "      <td>Lu : Modif carte grise sur boitier AXXES - not...</td>\n",
       "    </tr>\n",
       "    <tr>\n",
       "      <th>8472</th>\n",
       "      <td>Lu : Modif carte grise sur boitier AXXES - not...</td>\n",
       "      <td>commande de badge</td>\n",
       "      <td>-1</td>\n",
       "      <td>Lu : Modif carte grise sur boitier AXXES - not...</td>\n",
       "    </tr>\n",
       "    <tr>\n",
       "      <th>8473</th>\n",
       "      <td>RE: Modif carte grise sur boitier AXXES - notr...</td>\n",
       "      <td>commande de badge</td>\n",
       "      <td>2049</td>\n",
       "      <td>RE: Modif carte grise sur boitier AXXES - notr...</td>\n",
       "    </tr>\n",
       "    <tr>\n",
       "      <th>8474</th>\n",
       "      <td>Modif carte grise sur boitier AXXES - notre lo...</td>\n",
       "      <td>commande de badge</td>\n",
       "      <td>-1</td>\n",
       "      <td>Modif carte grise sur boitier AXXES - notre lo...</td>\n",
       "    </tr>\n",
       "    <tr>\n",
       "      <th>8475</th>\n",
       "      <td>Modif carte grise sur boitier AXXES - notre lo...</td>\n",
       "      <td>commande de badge</td>\n",
       "      <td>-1</td>\n",
       "      <td>Modif carte grise sur boitier AXXES - notre lo...</td>\n",
       "    </tr>\n",
       "    <tr>\n",
       "      <th>8476</th>\n",
       "      <td>Modif carte grise sur boitier AXXES - notre lo...</td>\n",
       "      <td>commande de badge</td>\n",
       "      <td>-1</td>\n",
       "      <td>Modif carte grise sur boitier AXXES - notre lo...</td>\n",
       "    </tr>\n",
       "    <tr>\n",
       "      <th>8477</th>\n",
       "      <td>Modif carte grise sur boitier AXXES - notre lo...</td>\n",
       "      <td>commande de badge</td>\n",
       "      <td>-1</td>\n",
       "      <td>Modif carte grise sur boitier AXXES - notre lo...</td>\n",
       "    </tr>\n",
       "    <tr>\n",
       "      <th>8478</th>\n",
       "      <td>Modif carte grise sur boitier AXXES - notre lo...</td>\n",
       "      <td>commande de badge</td>\n",
       "      <td>-1</td>\n",
       "      <td>Modif carte grise sur boitier AXXES - notre lo...</td>\n",
       "    </tr>\n",
       "    <tr>\n",
       "      <th>8479</th>\n",
       "      <td>Lu : Modif carte grise sur boitier AXXES - not...</td>\n",
       "      <td>commande de badge</td>\n",
       "      <td>-1</td>\n",
       "      <td>Lu : Modif carte grise sur boitier AXXES - not...</td>\n",
       "    </tr>\n",
       "    <tr>\n",
       "      <th>8480</th>\n",
       "      <td>Lu : Modif carte grise sur boitier AXXES - not...</td>\n",
       "      <td>commande de badge</td>\n",
       "      <td>-1</td>\n",
       "      <td>Lu : Modif carte grise sur boitier AXXES - not...</td>\n",
       "    </tr>\n",
       "    <tr>\n",
       "      <th>8481</th>\n",
       "      <td>Modif carte grise sur boitier AXXES - notre lo...</td>\n",
       "      <td>commande de badge</td>\n",
       "      <td>-1</td>\n",
       "      <td>Modif carte grise sur boitier AXXES - notre lo...</td>\n",
       "    </tr>\n",
       "    <tr>\n",
       "      <th>8482</th>\n",
       "      <td>Lu : Modif carte grise sur boitier AXXES - not...</td>\n",
       "      <td>commande de badge</td>\n",
       "      <td>-1</td>\n",
       "      <td>Lu : Modif carte grise sur boitier AXXES - not...</td>\n",
       "    </tr>\n",
       "    <tr>\n",
       "      <th>8483</th>\n",
       "      <td>Modif carte grise sur boitier AXXES - notre lo...</td>\n",
       "      <td>commande de badge</td>\n",
       "      <td>-1</td>\n",
       "      <td>Modif carte grise sur boitier AXXES - notre lo...</td>\n",
       "    </tr>\n",
       "    <tr>\n",
       "      <th>8484</th>\n",
       "      <td>Modif carte grise sur boitier AXXES - notre lo...</td>\n",
       "      <td>commande de badge</td>\n",
       "      <td>-1</td>\n",
       "      <td>Modif carte grise sur boitier AXXES - notre lo...</td>\n",
       "    </tr>\n",
       "    <tr>\n",
       "      <th>8485</th>\n",
       "      <td>Modif carte grise sur boitier AXXES - notre lo...</td>\n",
       "      <td>commande de badge</td>\n",
       "      <td>-1</td>\n",
       "      <td>Modif carte grise sur boitier AXXES - notre lo...</td>\n",
       "    </tr>\n",
       "    <tr>\n",
       "      <th>8486</th>\n",
       "      <td>Lu : Modif carte grise sur boitier AXXES - not...</td>\n",
       "      <td>commande de badge</td>\n",
       "      <td>-1</td>\n",
       "      <td>Lu : Modif carte grise sur boitier AXXES - not...</td>\n",
       "    </tr>\n",
       "    <tr>\n",
       "      <th>8487</th>\n",
       "      <td>Modif carte grise sur boitier AXXES - notre lo...</td>\n",
       "      <td>commande de badge</td>\n",
       "      <td>-1</td>\n",
       "      <td>Modif carte grise sur boitier AXXES - notre lo...</td>\n",
       "    </tr>\n",
       "    <tr>\n",
       "      <th>8488</th>\n",
       "      <td>Lu : Modif carte grise sur boitier AXXES - not...</td>\n",
       "      <td>commande de badge</td>\n",
       "      <td>-1</td>\n",
       "      <td>Lu : Modif carte grise sur boitier AXXES - not...</td>\n",
       "    </tr>\n",
       "    <tr>\n",
       "      <th>8489</th>\n",
       "      <td>Modif carte grise sur boitier AXXES - notre lo...</td>\n",
       "      <td>commande de badge</td>\n",
       "      <td>-1</td>\n",
       "      <td>Modif carte grise sur boitier AXXES - notre lo...</td>\n",
       "    </tr>\n",
       "    <tr>\n",
       "      <th>8490</th>\n",
       "      <td>Lu : Modif carte grise sur boitier AXXES - not...</td>\n",
       "      <td>commande de badge</td>\n",
       "      <td>-1</td>\n",
       "      <td>Lu : Modif carte grise sur boitier AXXES - not...</td>\n",
       "    </tr>\n",
       "    <tr>\n",
       "      <th>8491</th>\n",
       "      <td>Modif carte grise sur boitier AXXES - notre lo...</td>\n",
       "      <td>commande de badge</td>\n",
       "      <td>-1</td>\n",
       "      <td>Modif carte grise sur boitier AXXES - notre lo...</td>\n",
       "    </tr>\n",
       "    <tr>\n",
       "      <th>8492</th>\n",
       "      <td>AROLOG - Boitier AXXES Hors service 1889 \\n Bo...</td>\n",
       "      <td>commande de badge</td>\n",
       "      <td>-1</td>\n",
       "      <td>AROLOG - Boitier AXXES Hors service 1889 \\n Bo...</td>\n",
       "    </tr>\n",
       "    <tr>\n",
       "      <th>8493</th>\n",
       "      <td>Modif carte grise sur boitier AXXES - notre lo...</td>\n",
       "      <td>commande de badge</td>\n",
       "      <td>-1</td>\n",
       "      <td>Modif carte grise sur boitier AXXES - notre lo...</td>\n",
       "    </tr>\n",
       "    <tr>\n",
       "      <th>8494</th>\n",
       "      <td>Modif carte grise sur boitier AXXES - notre lo...</td>\n",
       "      <td>commande de badge</td>\n",
       "      <td>-1</td>\n",
       "      <td>Modif carte grise sur boitier AXXES - notre lo...</td>\n",
       "    </tr>\n",
       "    <tr>\n",
       "      <th>8495</th>\n",
       "      <td>Modif carte grise sur boitier AXXES - notre lo...</td>\n",
       "      <td>commande de badge</td>\n",
       "      <td>-1</td>\n",
       "      <td>Modif carte grise sur boitier AXXES - notre lo...</td>\n",
       "    </tr>\n",
       "    <tr>\n",
       "      <th>8496</th>\n",
       "      <td>Lu : Modif carte grise sur boitier AXXES - not...</td>\n",
       "      <td>commande de badge</td>\n",
       "      <td>-1</td>\n",
       "      <td>Lu : Modif carte grise sur boitier AXXES - not...</td>\n",
       "    </tr>\n",
       "    <tr>\n",
       "      <th>8497</th>\n",
       "      <td>KMX / Modification informations client \\n   Mo...</td>\n",
       "      <td>contrat</td>\n",
       "      <td>-1</td>\n",
       "      <td>KMX / Modification informations client \\n   Mo...</td>\n",
       "    </tr>\n",
       "    <tr>\n",
       "      <th>8498</th>\n",
       "      <td>KMX / Modification informations client \\n   Mo...</td>\n",
       "      <td>contrat</td>\n",
       "      <td>-1</td>\n",
       "      <td>KMX / Modification informations client \\n   Mo...</td>\n",
       "    </tr>\n",
       "    <tr>\n",
       "      <th>8499</th>\n",
       "      <td>Financement participatif  \\n     Bonjour,    J...</td>\n",
       "      <td>a</td>\n",
       "      <td>1385</td>\n",
       "      <td>Financement participatif  \\n     Bonjour,    J...</td>\n",
       "    </tr>\n",
       "    <tr>\n",
       "      <th>8500</th>\n",
       "      <td>FOURNISSEUR GO FLEET SOLUTIONS / ACHT N°724243...</td>\n",
       "      <td>renseignement facture</td>\n",
       "      <td>1162</td>\n",
       "      <td>FOURNISSEUR GO FLEET SOLUTIONS / ACHT N°724243...</td>\n",
       "    </tr>\n",
       "    <tr>\n",
       "      <th>8501</th>\n",
       "      <td>RE: SF SANS FRONTIERE - Client n° 000107790  \\...</td>\n",
       "      <td>commande de badge</td>\n",
       "      <td>1313</td>\n",
       "      <td>RE: SF SANS FRONTIERE - Client n° 000107790  \\...</td>\n",
       "    </tr>\n",
       "    <tr>\n",
       "      <th>8502</th>\n",
       "      <td>TR:  Confirmation commande n° 000610916 \\n Bon...</td>\n",
       "      <td>commande de badge</td>\n",
       "      <td>-1</td>\n",
       "      <td>TR:  Confirmation commande n° 000610916 \\n Bon...</td>\n",
       "    </tr>\n",
       "    <tr>\n",
       "      <th>8503</th>\n",
       "      <td>TR: CPI 110754 AIR LIQUIDE \\n Bonjour marine P...</td>\n",
       "      <td>commande de badge</td>\n",
       "      <td>86</td>\n",
       "      <td>TR: CPI 110754 AIR LIQUIDE \\n Bonjour marine P...</td>\n",
       "    </tr>\n",
       "    <tr>\n",
       "      <th>8504</th>\n",
       "      <td>TR: COMMANDE \\n Bonjour marine Avez-vous vu co...</td>\n",
       "      <td>commande de badge</td>\n",
       "      <td>121</td>\n",
       "      <td>TR: COMMANDE \\n Bonjour marine Avez-vous vu co...</td>\n",
       "    </tr>\n",
       "    <tr>\n",
       "      <th>8505</th>\n",
       "      <td>Re: Su factura Axxes \\n No tengo el usuario y ...</td>\n",
       "      <td>renseignement facture</td>\n",
       "      <td>-1</td>\n",
       "      <td>Re: Su factura Axxes \\n No tengo el usuario y ...</td>\n",
       "    </tr>\n",
       "  </tbody>\n",
       "</table>\n",
       "</div>"
      ],
      "text/plain": [
       "                                               Messages  \\\n",
       "8466  commande pour le SDIS 49 N° client\\4946196 \\n ...   \n",
       "8467  AXXES Listing Badges Actifs VOYAGES RICHOU 357...   \n",
       "8468  TR:  Confirmation commande n° 000612126 / Voya...   \n",
       "8469  Modif carte grise sur boitier AXXES - notre lo...   \n",
       "8470  Modif carte grise sur boitier AXXES - notre lo...   \n",
       "8471  Lu : Modif carte grise sur boitier AXXES - not...   \n",
       "8472  Lu : Modif carte grise sur boitier AXXES - not...   \n",
       "8473  RE: Modif carte grise sur boitier AXXES - notr...   \n",
       "8474  Modif carte grise sur boitier AXXES - notre lo...   \n",
       "8475  Modif carte grise sur boitier AXXES - notre lo...   \n",
       "8476  Modif carte grise sur boitier AXXES - notre lo...   \n",
       "8477  Modif carte grise sur boitier AXXES - notre lo...   \n",
       "8478  Modif carte grise sur boitier AXXES - notre lo...   \n",
       "8479  Lu : Modif carte grise sur boitier AXXES - not...   \n",
       "8480  Lu : Modif carte grise sur boitier AXXES - not...   \n",
       "8481  Modif carte grise sur boitier AXXES - notre lo...   \n",
       "8482  Lu : Modif carte grise sur boitier AXXES - not...   \n",
       "8483  Modif carte grise sur boitier AXXES - notre lo...   \n",
       "8484  Modif carte grise sur boitier AXXES - notre lo...   \n",
       "8485  Modif carte grise sur boitier AXXES - notre lo...   \n",
       "8486  Lu : Modif carte grise sur boitier AXXES - not...   \n",
       "8487  Modif carte grise sur boitier AXXES - notre lo...   \n",
       "8488  Lu : Modif carte grise sur boitier AXXES - not...   \n",
       "8489  Modif carte grise sur boitier AXXES - notre lo...   \n",
       "8490  Lu : Modif carte grise sur boitier AXXES - not...   \n",
       "8491  Modif carte grise sur boitier AXXES - notre lo...   \n",
       "8492  AROLOG - Boitier AXXES Hors service 1889 \\n Bo...   \n",
       "8493  Modif carte grise sur boitier AXXES - notre lo...   \n",
       "8494  Modif carte grise sur boitier AXXES - notre lo...   \n",
       "8495  Modif carte grise sur boitier AXXES - notre lo...   \n",
       "8496  Lu : Modif carte grise sur boitier AXXES - not...   \n",
       "8497  KMX / Modification informations client \\n   Mo...   \n",
       "8498  KMX / Modification informations client \\n   Mo...   \n",
       "8499  Financement participatif  \\n     Bonjour,    J...   \n",
       "8500  FOURNISSEUR GO FLEET SOLUTIONS / ACHT N°724243...   \n",
       "8501  RE: SF SANS FRONTIERE - Client n° 000107790  \\...   \n",
       "8502  TR:  Confirmation commande n° 000610916 \\n Bon...   \n",
       "8503  TR: CPI 110754 AIR LIQUIDE \\n Bonjour marine P...   \n",
       "8504  TR: COMMANDE \\n Bonjour marine Avez-vous vu co...   \n",
       "8505  Re: Su factura Axxes \\n No tengo el usuario y ...   \n",
       "\n",
       "                  catégorie  occurence  \\\n",
       "8466      commande de badge        286   \n",
       "8467      commande de badge        172   \n",
       "8468      commande de badge        146   \n",
       "8469      commande de badge         -1   \n",
       "8470      commande de badge         -1   \n",
       "8471      commande de badge         -1   \n",
       "8472      commande de badge         -1   \n",
       "8473      commande de badge       2049   \n",
       "8474      commande de badge         -1   \n",
       "8475      commande de badge         -1   \n",
       "8476      commande de badge         -1   \n",
       "8477      commande de badge         -1   \n",
       "8478      commande de badge         -1   \n",
       "8479      commande de badge         -1   \n",
       "8480      commande de badge         -1   \n",
       "8481      commande de badge         -1   \n",
       "8482      commande de badge         -1   \n",
       "8483      commande de badge         -1   \n",
       "8484      commande de badge         -1   \n",
       "8485      commande de badge         -1   \n",
       "8486      commande de badge         -1   \n",
       "8487      commande de badge         -1   \n",
       "8488      commande de badge         -1   \n",
       "8489      commande de badge         -1   \n",
       "8490      commande de badge         -1   \n",
       "8491      commande de badge         -1   \n",
       "8492      commande de badge         -1   \n",
       "8493      commande de badge         -1   \n",
       "8494      commande de badge         -1   \n",
       "8495      commande de badge         -1   \n",
       "8496      commande de badge         -1   \n",
       "8497                contrat         -1   \n",
       "8498                contrat         -1   \n",
       "8499                      a       1385   \n",
       "8500  renseignement facture       1162   \n",
       "8501      commande de badge       1313   \n",
       "8502      commande de badge         -1   \n",
       "8503      commande de badge         86   \n",
       "8504      commande de badge        121   \n",
       "8505  renseignement facture         -1   \n",
       "\n",
       "                                                   text  \n",
       "8466  commande pour le SDIS 49 N° client\\4946196 \\n ...  \n",
       "8467  AXXES Listing Badges Actifs VOYAGES RICHOU 357...  \n",
       "8468  TR:  Confirmation commande n° 000612126 / Voya...  \n",
       "8469  Modif carte grise sur boitier AXXES - notre lo...  \n",
       "8470  Modif carte grise sur boitier AXXES - notre lo...  \n",
       "8471  Lu : Modif carte grise sur boitier AXXES - not...  \n",
       "8472  Lu : Modif carte grise sur boitier AXXES - not...  \n",
       "8473  RE: Modif carte grise sur boitier AXXES - notr...  \n",
       "8474  Modif carte grise sur boitier AXXES - notre lo...  \n",
       "8475  Modif carte grise sur boitier AXXES - notre lo...  \n",
       "8476  Modif carte grise sur boitier AXXES - notre lo...  \n",
       "8477  Modif carte grise sur boitier AXXES - notre lo...  \n",
       "8478  Modif carte grise sur boitier AXXES - notre lo...  \n",
       "8479  Lu : Modif carte grise sur boitier AXXES - not...  \n",
       "8480  Lu : Modif carte grise sur boitier AXXES - not...  \n",
       "8481  Modif carte grise sur boitier AXXES - notre lo...  \n",
       "8482  Lu : Modif carte grise sur boitier AXXES - not...  \n",
       "8483  Modif carte grise sur boitier AXXES - notre lo...  \n",
       "8484  Modif carte grise sur boitier AXXES - notre lo...  \n",
       "8485  Modif carte grise sur boitier AXXES - notre lo...  \n",
       "8486  Lu : Modif carte grise sur boitier AXXES - not...  \n",
       "8487  Modif carte grise sur boitier AXXES - notre lo...  \n",
       "8488  Lu : Modif carte grise sur boitier AXXES - not...  \n",
       "8489  Modif carte grise sur boitier AXXES - notre lo...  \n",
       "8490  Lu : Modif carte grise sur boitier AXXES - not...  \n",
       "8491  Modif carte grise sur boitier AXXES - notre lo...  \n",
       "8492  AROLOG - Boitier AXXES Hors service 1889 \\n Bo...  \n",
       "8493  Modif carte grise sur boitier AXXES - notre lo...  \n",
       "8494  Modif carte grise sur boitier AXXES - notre lo...  \n",
       "8495  Modif carte grise sur boitier AXXES - notre lo...  \n",
       "8496  Lu : Modif carte grise sur boitier AXXES - not...  \n",
       "8497  KMX / Modification informations client \\n   Mo...  \n",
       "8498  KMX / Modification informations client \\n   Mo...  \n",
       "8499  Financement participatif  \\n     Bonjour,    J...  \n",
       "8500  FOURNISSEUR GO FLEET SOLUTIONS / ACHT N°724243...  \n",
       "8501  RE: SF SANS FRONTIERE - Client n° 000107790  \\...  \n",
       "8502  TR:  Confirmation commande n° 000610916 \\n Bon...  \n",
       "8503  TR: CPI 110754 AIR LIQUIDE \\n Bonjour marine P...  \n",
       "8504  TR: COMMANDE \\n Bonjour marine Avez-vous vu co...  \n",
       "8505  Re: Su factura Axxes \\n No tengo el usuario y ...  "
      ]
     },
     "execution_count": 24,
     "metadata": {},
     "output_type": "execute_result"
    }
   ],
   "source": [
    "df.tail(40)"
   ]
  },
  {
   "cell_type": "code",
   "execution_count": 25,
   "id": "18af0641",
   "metadata": {},
   "outputs": [],
   "source": [
    "df=df.loc[df['catégorie']!='no message'].reset_index(drop=True)"
   ]
  },
  {
   "cell_type": "code",
   "execution_count": 26,
   "id": "1828c513",
   "metadata": {},
   "outputs": [],
   "source": [
    "df.replace({'catégorie': \n",
    "             {#'no message': 'autre', \n",
    "            # 'contrat' : 'autre',                           \n",
    "             #'badge' :  'autre',                            \n",
    "             #'renseignement facture' : 'autre',             \n",
    "             'demande de renseignement' :  'demande de renseignement,interne Axxès,réclamation qualité de service,a',         \n",
    "             'interne Axxès'  :  'demande de renseignement,interne Axxès,réclamation qualité de service,a',                   \n",
    "             'impayé' :  'renseignement facture',\n",
    "             'afm': 'contrat',\n",
    "             'a':'demande de renseignement,interne Axxès,réclamation qualité de service,a',\n",
    "             'réclamation qualité de service' :'demande de renseignement,interne Axxès,réclamation qualité de service,a'\n",
    "            }}, \n",
    "            inplace= True)"
   ]
  },
  {
   "cell_type": "code",
   "execution_count": 27,
   "id": "40733d88",
   "metadata": {},
   "outputs": [
    {
     "data": {
      "text/plain": [
       "array([['contrat'],\n",
       "       ['commande de badge'],\n",
       "       ['demande de renseignement,interne Axxès,réclamation qualité de service,a'],\n",
       "       ['renseignement facture']], dtype=object)"
      ]
     },
     "execution_count": 27,
     "metadata": {},
     "output_type": "execute_result"
    }
   ],
   "source": [
    "pd.DataFrame(df.catégorie.unique()).values"
   ]
  },
  {
   "cell_type": "code",
   "execution_count": 28,
   "id": "6a18911f",
   "metadata": {},
   "outputs": [
    {
     "data": {
      "text/plain": [
       "(8014, 4)"
      ]
     },
     "execution_count": 28,
     "metadata": {},
     "output_type": "execute_result"
    }
   ],
   "source": [
    "df.shape"
   ]
  },
  {
   "cell_type": "code",
   "execution_count": 29,
   "id": "5a1cb97b",
   "metadata": {},
   "outputs": [],
   "source": [
    "msg=df"
   ]
  },
  {
   "cell_type": "code",
   "execution_count": 30,
   "id": "4328d715",
   "metadata": {},
   "outputs": [
    {
     "name": "stderr",
     "output_type": "stream",
     "text": [
      "<ipython-input-30-c1005549103c>:5: SettingWithCopyWarning: \n",
      "A value is trying to be set on a copy of a slice from a DataFrame\n",
      "\n",
      "See the caveats in the documentation: https://pandas.pydata.org/pandas-docs/stable/user_guide/indexing.html#returning-a-view-versus-a-copy\n",
      "  msg['text'][i]=re.sub('([a-zA-Z0-9_.+-]+@[a-zA-Z0-9-]+\\.[a-zA-Z0-9-.]+)', 'XXXX', str(msg['text'][i]))#email\n",
      "<ipython-input-30-c1005549103c>:7: SettingWithCopyWarning: \n",
      "A value is trying to be set on a copy of a slice from a DataFrame\n",
      "\n",
      "See the caveats in the documentation: https://pandas.pydata.org/pandas-docs/stable/user_guide/indexing.html#returning-a-view-versus-a-copy\n",
      "  msg['text'][i]=re.sub(r\"/\\d{10}|\\+33\\d{9}|\\+33\\s\\d{1}\\s\\d{2}\\s\\d{2}\\s\\d{2}\\s\\d{2}|\\d{2}\\s\\d{2}\\s\\d{2}\\s\\d{2}\\s\\d{2}/g\",' XXXX',str(msg['text'][i]))#phone francais\n",
      "<ipython-input-30-c1005549103c>:8: SettingWithCopyWarning: \n",
      "A value is trying to be set on a copy of a slice from a DataFrame\n",
      "\n",
      "See the caveats in the documentation: https://pandas.pydata.org/pandas-docs/stable/user_guide/indexing.html#returning-a-view-versus-a-copy\n",
      "  msg['text'][i]=re.sub(r'(^(\\+33 |0)[1-6]{1}(([0-9]{2}){4})|((\\s[0-9]{2}){4})|((-[0-9]{2}){4})$)','XXXX',str(msg['text'][i]))\n",
      "<ipython-input-30-c1005549103c>:9: SettingWithCopyWarning: \n",
      "A value is trying to be set on a copy of a slice from a DataFrame\n",
      "\n",
      "See the caveats in the documentation: https://pandas.pydata.org/pandas-docs/stable/user_guide/indexing.html#returning-a-view-versus-a-copy\n",
      "  msg['text'][i]=re.sub(\"((?:\\+\\d{2}[-\\.\\s]??|\\d{4}[-\\.\\s]??)?(?:\\d{3}[-\\.\\s]??\\d{3}[-\\.\\s]??\\d{4}|\\(\\d{3}\\)\\s*\\d{3}[-\\.\\s]??\\d{4}|\\d{3}[-\\.\\s]??\\d{4}))\",'XXXX', str(msg['text'][i]))#phone\n",
      "<ipython-input-30-c1005549103c>:10: SettingWithCopyWarning: \n",
      "A value is trying to be set on a copy of a slice from a DataFrame\n",
      "\n",
      "See the caveats in the documentation: https://pandas.pydata.org/pandas-docs/stable/user_guide/indexing.html#returning-a-view-versus-a-copy\n",
      "  msg['text'][i]=re.sub('\\(?\\d{2}\\)?[-.\\s]?\\d{2}[-.\\s]?\\d{2}[-.\\s]?\\d{2}[-.\\s]?\\d{2}','XXXX',str(msg['text'][i]))\n",
      "<ipython-input-30-c1005549103c>:11: SettingWithCopyWarning: \n",
      "A value is trying to be set on a copy of a slice from a DataFrame\n",
      "\n",
      "See the caveats in the documentation: https://pandas.pydata.org/pandas-docs/stable/user_guide/indexing.html#returning-a-view-versus-a-copy\n",
      "  msg['text'][i]=re.sub('\\(?\\d{2}\\)?[-.\\s]?\\d{2}[-.\\s]?\\d{2}[-.\\s]?\\d{2}[-.\\s]','XXXX',str(msg['text'][i]))\n",
      "<ipython-input-30-c1005549103c>:12: SettingWithCopyWarning: \n",
      "A value is trying to be set on a copy of a slice from a DataFrame\n",
      "\n",
      "See the caveats in the documentation: https://pandas.pydata.org/pandas-docs/stable/user_guide/indexing.html#returning-a-view-versus-a-copy\n",
      "  msg['text'][i]=re.sub('\\(?\\d{1}\\)?[-.\\s]?\\d{2}[-.\\s]?\\d{2}[-.\\s]?\\d{2}[-.\\s]','XXXX',str(msg['text'][i]))\n",
      "<ipython-input-30-c1005549103c>:13: SettingWithCopyWarning: \n",
      "A value is trying to be set on a copy of a slice from a DataFrame\n",
      "\n",
      "See the caveats in the documentation: https://pandas.pydata.org/pandas-docs/stable/user_guide/indexing.html#returning-a-view-versus-a-copy\n",
      "  msg['text'][i]=re.sub('\\(?\\d{2}\\)?[-.\\s]?\\d{5}[-.\\s]?\\d{3}','XXXX',str(msg['text'][i]))\n",
      "<ipython-input-30-c1005549103c>:14: SettingWithCopyWarning: \n",
      "A value is trying to be set on a copy of a slice from a DataFrame\n",
      "\n",
      "See the caveats in the documentation: https://pandas.pydata.org/pandas-docs/stable/user_guide/indexing.html#returning-a-view-versus-a-copy\n",
      "  msg['text'][i]=re.sub('\\(?\\d{1}\\)?[-.\\s]?\\d{2}[-.\\s]?\\d{2}[-.\\s]?\\d{3}','XXXX',str(msg['text'][i]))\n",
      "<ipython-input-30-c1005549103c>:15: SettingWithCopyWarning: \n",
      "A value is trying to be set on a copy of a slice from a DataFrame\n",
      "\n",
      "See the caveats in the documentation: https://pandas.pydata.org/pandas-docs/stable/user_guide/indexing.html#returning-a-view-versus-a-copy\n",
      "  msg['text'][i]=re.sub('\\(?\\d{2}\\)?[-.\\s]?\\d{3}[-.\\s]?\\d{3}[-.\\s]?\\d{3}','XXXX',str(msg['text'][i]))\n",
      "<ipython-input-30-c1005549103c>:18: SettingWithCopyWarning: \n",
      "A value is trying to be set on a copy of a slice from a DataFrame\n",
      "\n",
      "See the caveats in the documentation: https://pandas.pydata.org/pandas-docs/stable/user_guide/indexing.html#returning-a-view-versus-a-copy\n",
      "  msg['text'][i]=re.sub(emoji,' ',str(msg['text'][i]))\n",
      "<ipython-input-30-c1005549103c>:20: SettingWithCopyWarning: \n",
      "A value is trying to be set on a copy of a slice from a DataFrame\n",
      "\n",
      "See the caveats in the documentation: https://pandas.pydata.org/pandas-docs/stable/user_guide/indexing.html#returning-a-view-versus-a-copy\n",
      "  msg['text'][i]= msg['text'][i].replace(\"Avant d\\'imprimer cet e-mail, réfléchissez à l\\'impact sur l\\'environnementBefore you print this mail, think about the impact on the environment\",'')\n",
      "<ipython-input-30-c1005549103c>:23: SettingWithCopyWarning: \n",
      "A value is trying to be set on a copy of a slice from a DataFrame\n",
      "\n",
      "See the caveats in the documentation: https://pandas.pydata.org/pandas-docs/stable/user_guide/indexing.html#returning-a-view-versus-a-copy\n",
      "  msg['text'][i]= msg['text'][i].replace(\"Mail:\",'email')\n",
      "<ipython-input-30-c1005549103c>:24: SettingWithCopyWarning: \n",
      "A value is trying to be set on a copy of a slice from a DataFrame\n",
      "\n",
      "See the caveats in the documentation: https://pandas.pydata.org/pandas-docs/stable/user_guide/indexing.html#returning-a-view-versus-a-copy\n",
      "  msg['text'][i]= msg['text'][i].replace(\"Email:\",'email')\n",
      "<ipython-input-30-c1005549103c>:25: SettingWithCopyWarning: \n",
      "A value is trying to be set on a copy of a slice from a DataFrame\n",
      "\n",
      "See the caveats in the documentation: https://pandas.pydata.org/pandas-docs/stable/user_guide/indexing.html#returning-a-view-versus-a-copy\n",
      "  msg['text'][i]= msg['text'][i].replace(\"E-mail\",'email')\n",
      "<ipython-input-30-c1005549103c>:26: SettingWithCopyWarning: \n",
      "A value is trying to be set on a copy of a slice from a DataFrame\n",
      "\n",
      "See the caveats in the documentation: https://pandas.pydata.org/pandas-docs/stable/user_guide/indexing.html#returning-a-view-versus-a-copy\n",
      "  msg['text'][i]= msg['text'][i].replace(\"Email : \",'email')\n",
      "<ipython-input-30-c1005549103c>:27: SettingWithCopyWarning: \n",
      "A value is trying to be set on a copy of a slice from a DataFrame\n",
      "\n",
      "See the caveats in the documentation: https://pandas.pydata.org/pandas-docs/stable/user_guide/indexing.html#returning-a-view-versus-a-copy\n",
      "  msg['text'][i]= msg['text'][i].replace(\"mail\",'email')\n",
      "<ipython-input-30-c1005549103c>:28: SettingWithCopyWarning: \n",
      "A value is trying to be set on a copy of a slice from a DataFrame\n",
      "\n",
      "See the caveats in the documentation: https://pandas.pydata.org/pandas-docs/stable/user_guide/indexing.html#returning-a-view-versus-a-copy\n",
      "  msg['text'][i]= msg['text'][i].replace(\"Bonjour\",'')\n",
      "<ipython-input-30-c1005549103c>:29: SettingWithCopyWarning: \n",
      "A value is trying to be set on a copy of a slice from a DataFrame\n",
      "\n",
      "See the caveats in the documentation: https://pandas.pydata.org/pandas-docs/stable/user_guide/indexing.html#returning-a-view-versus-a-copy\n",
      "  msg['text'][i]= msg['text'][i].replace(\"-\",'')\n",
      "<ipython-input-30-c1005549103c>:30: SettingWithCopyWarning: \n",
      "A value is trying to be set on a copy of a slice from a DataFrame\n",
      "\n",
      "See the caveats in the documentation: https://pandas.pydata.org/pandas-docs/stable/user_guide/indexing.html#returning-a-view-versus-a-copy\n",
      "  msg['text'][i]=re.sub(r'\\d{3}[-\\.\\s]??\\d{3}[-\\.\\s]??\\d{4}|\\(\\d{3}\\)\\s*\\d{3}[-\\.\\s]??\\d{4}|\\d{3}[-\\.\\s]??\\d{4}','XXXX',str(msg['text'][i]))\n",
      "<ipython-input-30-c1005549103c>:32: SettingWithCopyWarning: \n",
      "A value is trying to be set on a copy of a slice from a DataFrame\n",
      "\n",
      "See the caveats in the documentation: https://pandas.pydata.org/pandas-docs/stable/user_guide/indexing.html#returning-a-view-versus-a-copy\n",
      "  msg['text'][i]= re.sub(\"http[s]?://(?:[a-zA-Z]|[0-9]|[$-_@.&+]|[!*\\(\\),]|(?:%[0-9a-fA-F][0-9a-fA-F]))+\",'XXXX',msg['text'][i])#url\n",
      "<ipython-input-30-c1005549103c>:33: SettingWithCopyWarning: \n",
      "A value is trying to be set on a copy of a slice from a DataFrame\n",
      "\n",
      "See the caveats in the documentation: https://pandas.pydata.org/pandas-docs/stable/user_guide/indexing.html#returning-a-view-versus-a-copy\n",
      "  msg['text'][i]= re.sub('(https?:\\/\\/(?:www\\.|(?!www))[a-zA-Z0-9][a-zA-Z0-9-]+[a-zA-Z0-9]\\.[^\\s]{2,}|www\\.[a-zA-Z0-9][a-zA-Z0-9-]+[a-zA-Z0-9]\\.[^\\s]{2,}|https?:\\/\\/(?:www\\.|(?!www))[a-zA-Z0-9]+\\.[^\\s]{2,}|www\\.[a-zA-Z0-9]+\\.[^\\s]{2,})',' XXXX',str(msg['text'][i]))#url www\n",
      "<ipython-input-30-c1005549103c>:34: SettingWithCopyWarning: \n",
      "A value is trying to be set on a copy of a slice from a DataFrame\n",
      "\n",
      "See the caveats in the documentation: https://pandas.pydata.org/pandas-docs/stable/user_guide/indexing.html#returning-a-view-versus-a-copy\n",
      "  msg['text'][i]= re.sub('Ce message et toutes les Pieces jointes (ci apres : le message) sont etablis a l\\'intention exclusive de ses destinataires et sont confidentiels.Toute utilisation de ce message non conforme a sa destination, toute diffusion ou toute publication totale ou partielle est interdite sauf autorisation prealable.Si vous recevez ce message par erreur, merci de le detruire et d\\' avertir immediatement l\\'expediteur.Les communications sur Internet n\\'etant pas securisees, le Groupe APRR decline toute responsabilite quant au contenu de ce message.This message and all attached documents (hereafter \"the message\") are intended for the exclusive attention of its recipients and are confidential. Any use of this message, for which it was not intended, any distribution or any total or partial publication is prohibited unless previously approved.If you receive this message in error, please destroy it and immediately notify the sender thereof.Since communication by Internet is not secure, Group APRR cannot accept any responsibility regarding the contents of this message.','XXXX ',str(msg['text'][i]))\n",
      "<ipython-input-30-c1005549103c>:36: SettingWithCopyWarning: \n",
      "A value is trying to be set on a copy of a slice from a DataFrame\n",
      "\n",
      "See the caveats in the documentation: https://pandas.pydata.org/pandas-docs/stable/user_guide/indexing.html#returning-a-view-versus-a-copy\n",
      "  msg['text'][i]= re.sub('Ce message est généré automatiquement. Merci de ne pas y répondre.','XXXX',str(msg['text'][i]))\n",
      "<ipython-input-30-c1005549103c>:37: SettingWithCopyWarning: \n",
      "A value is trying to be set on a copy of a slice from a DataFrame\n",
      "\n",
      "See the caveats in the documentation: https://pandas.pydata.org/pandas-docs/stable/user_guide/indexing.html#returning-a-view-versus-a-copy\n",
      "  msg['text'][i]= re.sub('Ce message et toutes les Pieces jointes (ci apres : le message) sont etablis a l\\'intention exclusive de ses destinataires et sont confidentiels.Toute utilisation de ce message non conforme a sa destination, toute diffusion ou toute publication totale ou partielle est interdite sauf autorisation prealable.Si vous recevez ce message par erreur, merci de le detruire et d\\' avertir immediatement l\\'expediteur.Les communications sur Internet n\\'etant pas securisees, le Groupe APRR decline toute responsabilite quant au contenu de ce message.This message and all attached documents (hereafter \"the message\") are intended for the exclusive attention of its recipients and are confidential. Any use of this message, for which it was not intended, any distribution or any total or partial publication is prohibited unless previously approved.If you receive this message in error, please destroy it and immediately notify the sender thereof.Since communication by Internet is not secure, Group APRR cannot accept any responsibility regarding the contents of this message.','XXXX ',str(msg['text'][i]))\n",
      "<ipython-input-30-c1005549103c>:38: SettingWithCopyWarning: \n",
      "A value is trying to be set on a copy of a slice from a DataFrame\n",
      "\n",
      "See the caveats in the documentation: https://pandas.pydata.org/pandas-docs/stable/user_guide/indexing.html#returning-a-view-versus-a-copy\n",
      "  msg['text'][i]= re.sub('This message and any attachments are confidential and intended for the named addressee(s) only.If you have received this message in error, please notify immediately the sender, then deletethe message. Any unauthorized modification, edition, use or dissemination is prohibited.The sender shall not be liable for this message if it has been modified, altered, falsified, infectedby a virus or even edited or disseminated without authorization.','XXXX',str(msg['text'][i]))\n",
      "<ipython-input-30-c1005549103c>:39: SettingWithCopyWarning: \n",
      "A value is trying to be set on a copy of a slice from a DataFrame\n",
      "\n",
      "See the caveats in the documentation: https://pandas.pydata.org/pandas-docs/stable/user_guide/indexing.html#returning-a-view-versus-a-copy\n",
      "  msg['text'][i]= re.sub('This  transmission (message and any attached files) may contain information that is proprietary, privileged and/or confidential to Veolia Environnement and/or its affiliates and is intended exclusively for the person(s) to whom it is addressed. If you are not the intended recipient, please notify the sender by return  and delete all copies of this , including all attachments. Unless expressly authorized, any use, disclosure, publication, retransmission or dissemination of this  and/or of its attachments is strictly prohibited. Ce message electronique et ses fichiers attaches sont strictement confidentiels et peuvent contenir des elements dont Veolia Environnement et/ou l\\'une de ses entites affiliees sont proprietaires. Ils sont donc destines a l\\'usage de leurs seuls destinataires. Si vous avez recu ce message par erreur, merci de le retourner a son emetteur et de le detruire ainsi que toutes les pieces attachees. L\\'utilisation, la divulgation, la publication, la distribution, ou la reproduction non expressement autorisees de ce message et de ses pieces attachees sont interdites.','XXXX ',str(msg['text'][i]))\n",
      "<ipython-input-30-c1005549103c>:40: SettingWithCopyWarning: \n",
      "A value is trying to be set on a copy of a slice from a DataFrame\n",
      "\n",
      "See the caveats in the documentation: https://pandas.pydata.org/pandas-docs/stable/user_guide/indexing.html#returning-a-view-versus-a-copy\n",
      "  msg['text'][i]= re.sub('This  transmission (message and any attached files) may contain information that is proprietary, privileged and/or confidential to Veolia Environnement and/or its affiliates and is intended exclusively for the person(s) to whom it is addressed. If you are not the intended recipient, please notify the sender by return  and delete all copies of this , including all attachments. Unless expressly authorized, any use, disclosure, publication, retransmission or dissemination of this  and/or of its attachments is strictly prohibited.  Ce message electronique et ses fichiers attaches sont strictement confidentiels et peuvent contenir des elements dont Veolia Environnement et/ou l\\'une de ses entites affiliees sont proprietaires. Ils sont donc destines a l\\'usage de leurs seuls destinataires. Si vous avez recu ce message par erreur, merci de le retourner a son emetteur et de le detruire ainsi que toutes les pieces attachees. L\\'utilisation, la divulgation, la publication, la distribution, ou la reproduction non expressement autorisees de ce message et de ses pieces attachees sont interdites.','XXXX ',str(msg['text'][i]))\n",
      "<ipython-input-30-c1005549103c>:41: SettingWithCopyWarning: \n",
      "A value is trying to be set on a copy of a slice from a DataFrame\n",
      "\n",
      "See the caveats in the documentation: https://pandas.pydata.org/pandas-docs/stable/user_guide/indexing.html#returning-a-view-versus-a-copy\n",
      "  msg['text'][i]= re.sub('Le contenu de ce message est strictement réservé à l\\'usage exclusif de son destinataire et contient de l\\'information privilégiée et confidentielle. Toute lecture, divulgation, distribution ou copie non autorisée de cette communication est formellement interdite. Si vous avez reçu cette communication par erreur, veuillez la détruire immédiatement.','XXXX',str(msg['text'][i]))\n",
      "<ipython-input-30-c1005549103c>:42: SettingWithCopyWarning: \n",
      "A value is trying to be set on a copy of a slice from a DataFrame\n",
      "\n",
      "See the caveats in the documentation: https://pandas.pydata.org/pandas-docs/stable/user_guide/indexing.html#returning-a-view-versus-a-copy\n",
      "  msg['text'][i]= re.sub('Ce message et toutes les Pieces jointes (ci apres : le message) sont etablis a l\\'intention exclusive de ses destinataires et sont confidentiels.Toute utilisation de ce message non conforme a sa destination, toute diffusion ou toute publication totale ou partielle est interdite sauf autorisation prealable.Si vous recevez ce message par erreur, merci de le detruire et d\\' avertir immediatement l\\'expediteur.Les communications sur Internet n\\'etant pas securisees, le Groupe APRR decline toute responsabilite quant au contenu de ce message.This message and all attached documents (hereafter \"the message\") are intended for the exclusive attention of its recipients and are confidential. Any use of this message, for which it was not intended, any distribution or any total or partial publication is prohibited unless previously approved.If you receive this message in error, please destroy it and immediately notify the sender thereof.Since communication by Internet is not secure, Group APRR cannot accept any responsibility regarding the contents of this message.','XXXX ',str(msg['text'][i]))\n",
      "<ipython-input-30-c1005549103c>:43: SettingWithCopyWarning: \n",
      "A value is trying to be set on a copy of a slice from a DataFrame\n",
      "\n",
      "See the caveats in the documentation: https://pandas.pydata.org/pandas-docs/stable/user_guide/indexing.html#returning-a-view-versus-a-copy\n",
      "  msg['text'][i]= re.sub('Ce message et les pièces jointes sont confidentiels et établis à l\\'attention exclusive de ses destinataires. Toute utilisation ou diffusion, même partielle, non autorisée est interdite. Tout message électronique est susceptible d\\'altération. Brink\\'s décline toute responsabilité au titre de ce message s\\'il a été altéré, déformé ou falsifié. Si vous n\\'êtes pas le destinataire de ce message, merci de le détruire et d\\'avertir l\\'expéditeur. This message and any attachments are confidential and intended solely for the addressees. Any unauthorized use or disclosure, either whole or partial is prohibited. E-s are susceptible to alteration. Brink\\'s shall not be liable for the message if altered, changed or falsified. If you are not the intended recipient of this message, please delete it and notify the sender.','XXXX ',str(msg['text'][i]))\n",
      "<ipython-input-30-c1005549103c>:44: SettingWithCopyWarning: \n",
      "A value is trying to be set on a copy of a slice from a DataFrame\n",
      "\n",
      "See the caveats in the documentation: https://pandas.pydata.org/pandas-docs/stable/user_guide/indexing.html#returning-a-view-versus-a-copy\n",
      "  msg['text'][i]= re.sub('Ce message et toutes les Pieces jointes (ci apres : le message) sont etablis a l\\'intention exclusive de ses destinataires et sont confidentiels.Toute utilisation de ce message non conforme a sa destination, toute diffusion ou toute publication totale ou partielle est interdite sauf autorisation prealable.Si vous recevez ce message par erreur, merci de le detruire et d\\' avertir immediatement l\\'expediteur.Les communications sur Internet n\\'etant pas securisees, le Groupe APRR decline toute responsabilite quant au contenu de ce message.','XXXX',str(msg['text'][i]))\n"
     ]
    }
   ],
   "source": [
    "tab=[]\n",
    "\n",
    "for i in msg.index:\n",
    "    \n",
    "    msg['text'][i]=re.sub('([a-zA-Z0-9_.+-]+@[a-zA-Z0-9-]+\\.[a-zA-Z0-9-.]+)', 'XXXX', str(msg['text'][i]))#email\n",
    "    #phone\n",
    "    msg['text'][i]=re.sub(r\"/\\d{10}|\\+33\\d{9}|\\+33\\s\\d{1}\\s\\d{2}\\s\\d{2}\\s\\d{2}\\s\\d{2}|\\d{2}\\s\\d{2}\\s\\d{2}\\s\\d{2}\\s\\d{2}/g\",' XXXX',str(msg['text'][i]))#phone francais\n",
    "    msg['text'][i]=re.sub(r'(^(\\+33 |0)[1-6]{1}(([0-9]{2}){4})|((\\s[0-9]{2}){4})|((-[0-9]{2}){4})$)','XXXX',str(msg['text'][i]))\n",
    "    msg['text'][i]=re.sub(\"((?:\\+\\d{2}[-\\.\\s]??|\\d{4}[-\\.\\s]??)?(?:\\d{3}[-\\.\\s]??\\d{3}[-\\.\\s]??\\d{4}|\\(\\d{3}\\)\\s*\\d{3}[-\\.\\s]??\\d{4}|\\d{3}[-\\.\\s]??\\d{4}))\",'XXXX', str(msg['text'][i]))#phone\n",
    "    msg['text'][i]=re.sub('\\(?\\d{2}\\)?[-.\\s]?\\d{2}[-.\\s]?\\d{2}[-.\\s]?\\d{2}[-.\\s]?\\d{2}','XXXX',str(msg['text'][i]))\n",
    "    msg['text'][i]=re.sub('\\(?\\d{2}\\)?[-.\\s]?\\d{2}[-.\\s]?\\d{2}[-.\\s]?\\d{2}[-.\\s]','XXXX',str(msg['text'][i]))\n",
    "    msg['text'][i]=re.sub('\\(?\\d{1}\\)?[-.\\s]?\\d{2}[-.\\s]?\\d{2}[-.\\s]?\\d{2}[-.\\s]','XXXX',str(msg['text'][i]))\n",
    "    msg['text'][i]=re.sub('\\(?\\d{2}\\)?[-.\\s]?\\d{5}[-.\\s]?\\d{3}','XXXX',str(msg['text'][i]))\n",
    "    msg['text'][i]=re.sub('\\(?\\d{1}\\)?[-.\\s]?\\d{2}[-.\\s]?\\d{2}[-.\\s]?\\d{3}','XXXX',str(msg['text'][i]))\n",
    "    msg['text'][i]=re.sub('\\(?\\d{2}\\)?[-.\\s]?\\d{3}[-.\\s]?\\d{3}[-.\\s]?\\d{3}','XXXX',str(msg['text'][i]))\n",
    "    #Emoji\n",
    "    emoji= re.compile(u'['u'\\U0001F300-\\U0001F64F'u'\\U0001F680-\\U0001F6FF'u'\\u2600-\\u26FF\\u2700-\\u27BF]+', re.UNICODE)\n",
    "    msg['text'][i]=re.sub(emoji,' ',str(msg['text'][i]))\n",
    "    #text\n",
    "    msg['text'][i]= msg['text'][i].replace(\"Avant d\\'imprimer cet e-mail, réfléchissez à l\\'impact sur l\\'environnementBefore you print this mail, think about the impact on the environment\",'')\n",
    "    dele = [\"Mail:\",\"Email:\",\"e-mail\",\"Email : \",\"mail\",\"Tél : +\",\"Fax : +\",\"tél.: + ()\",\"port.: + () \",\"fax.: + ()\"]\n",
    "    #df['Text'][i]= df['Text'][i].replace(dele,'')\n",
    "    msg['text'][i]= msg['text'][i].replace(\"Mail:\",'email')\n",
    "    msg['text'][i]= msg['text'][i].replace(\"Email:\",'email')\n",
    "    msg['text'][i]= msg['text'][i].replace(\"E-mail\",'email')\n",
    "    msg['text'][i]= msg['text'][i].replace(\"Email : \",'email')\n",
    "    msg['text'][i]= msg['text'][i].replace(\"mail\",'email')\n",
    "    msg['text'][i]= msg['text'][i].replace(\"Bonjour\",'')\n",
    "    msg['text'][i]= msg['text'][i].replace(\"-\",'')\n",
    "    msg['text'][i]=re.sub(r'\\d{3}[-\\.\\s]??\\d{3}[-\\.\\s]??\\d{4}|\\(\\d{3}\\)\\s*\\d{3}[-\\.\\s]??\\d{4}|\\d{3}[-\\.\\s]??\\d{4}','XXXX',str(msg['text'][i]))\n",
    "    #df['Text'][i]=re.sub(r'\\d+','',str(df['Text'][i]))#Tél : +      Fax : +, tél.: + ()       fax.: + ()      port.: + () \n",
    "    msg['text'][i]= re.sub(\"http[s]?://(?:[a-zA-Z]|[0-9]|[$-_@.&+]|[!*\\(\\),]|(?:%[0-9a-fA-F][0-9a-fA-F]))+\",'XXXX',msg['text'][i])#url\n",
    "    msg['text'][i]= re.sub('(https?:\\/\\/(?:www\\.|(?!www))[a-zA-Z0-9][a-zA-Z0-9-]+[a-zA-Z0-9]\\.[^\\s]{2,}|www\\.[a-zA-Z0-9][a-zA-Z0-9-]+[a-zA-Z0-9]\\.[^\\s]{2,}|https?:\\/\\/(?:www\\.|(?!www))[a-zA-Z0-9]+\\.[^\\s]{2,}|www\\.[a-zA-Z0-9]+\\.[^\\s]{2,})',' XXXX',str(msg['text'][i]))#url www\n",
    "    msg['text'][i]= re.sub('Ce message et toutes les Pieces jointes (ci apres : le message) sont etablis a l\\'intention exclusive de ses destinataires et sont confidentiels.Toute utilisation de ce message non conforme a sa destination, toute diffusion ou toute publication totale ou partielle est interdite sauf autorisation prealable.Si vous recevez ce message par erreur, merci de le detruire et d\\' avertir immediatement l\\'expediteur.Les communications sur Internet n\\'etant pas securisees, le Groupe APRR decline toute responsabilite quant au contenu de ce message.This message and all attached documents (hereafter \"the message\") are intended for the exclusive attention of its recipients and are confidential. Any use of this message, for which it was not intended, any distribution or any total or partial publication is prohibited unless previously approved.If you receive this message in error, please destroy it and immediately notify the sender thereof.Since communication by Internet is not secure, Group APRR cannot accept any responsibility regarding the contents of this message.','XXXX ',str(msg['text'][i]))\n",
    "    #df['Text'][i]= re.sub('SCAN <>Cet  a été envoyé par \"copieurRICOH\" (MP C3004ex).Date de numérisation: 07.08.2020 17:17:25 (+0200)Contacter si besoin :  ','',str(df['Text'][i]))\n",
    "    msg['text'][i]= re.sub('Ce message est généré automatiquement. Merci de ne pas y répondre.','XXXX',str(msg['text'][i]))\n",
    "    msg['text'][i]= re.sub('Ce message et toutes les Pieces jointes (ci apres : le message) sont etablis a l\\'intention exclusive de ses destinataires et sont confidentiels.Toute utilisation de ce message non conforme a sa destination, toute diffusion ou toute publication totale ou partielle est interdite sauf autorisation prealable.Si vous recevez ce message par erreur, merci de le detruire et d\\' avertir immediatement l\\'expediteur.Les communications sur Internet n\\'etant pas securisees, le Groupe APRR decline toute responsabilite quant au contenu de ce message.This message and all attached documents (hereafter \"the message\") are intended for the exclusive attention of its recipients and are confidential. Any use of this message, for which it was not intended, any distribution or any total or partial publication is prohibited unless previously approved.If you receive this message in error, please destroy it and immediately notify the sender thereof.Since communication by Internet is not secure, Group APRR cannot accept any responsibility regarding the contents of this message.','XXXX ',str(msg['text'][i]))\n",
    "    msg['text'][i]= re.sub('This message and any attachments are confidential and intended for the named addressee(s) only.If you have received this message in error, please notify immediately the sender, then deletethe message. Any unauthorized modification, edition, use or dissemination is prohibited.The sender shall not be liable for this message if it has been modified, altered, falsified, infectedby a virus or even edited or disseminated without authorization.','XXXX',str(msg['text'][i]))\n",
    "    msg['text'][i]= re.sub('This  transmission (message and any attached files) may contain information that is proprietary, privileged and/or confidential to Veolia Environnement and/or its affiliates and is intended exclusively for the person(s) to whom it is addressed. If you are not the intended recipient, please notify the sender by return  and delete all copies of this , including all attachments. Unless expressly authorized, any use, disclosure, publication, retransmission or dissemination of this  and/or of its attachments is strictly prohibited. Ce message electronique et ses fichiers attaches sont strictement confidentiels et peuvent contenir des elements dont Veolia Environnement et/ou l\\'une de ses entites affiliees sont proprietaires. Ils sont donc destines a l\\'usage de leurs seuls destinataires. Si vous avez recu ce message par erreur, merci de le retourner a son emetteur et de le detruire ainsi que toutes les pieces attachees. L\\'utilisation, la divulgation, la publication, la distribution, ou la reproduction non expressement autorisees de ce message et de ses pieces attachees sont interdites.','XXXX ',str(msg['text'][i]))\n",
    "    msg['text'][i]= re.sub('This  transmission (message and any attached files) may contain information that is proprietary, privileged and/or confidential to Veolia Environnement and/or its affiliates and is intended exclusively for the person(s) to whom it is addressed. If you are not the intended recipient, please notify the sender by return  and delete all copies of this , including all attachments. Unless expressly authorized, any use, disclosure, publication, retransmission or dissemination of this  and/or of its attachments is strictly prohibited.  Ce message electronique et ses fichiers attaches sont strictement confidentiels et peuvent contenir des elements dont Veolia Environnement et/ou l\\'une de ses entites affiliees sont proprietaires. Ils sont donc destines a l\\'usage de leurs seuls destinataires. Si vous avez recu ce message par erreur, merci de le retourner a son emetteur et de le detruire ainsi que toutes les pieces attachees. L\\'utilisation, la divulgation, la publication, la distribution, ou la reproduction non expressement autorisees de ce message et de ses pieces attachees sont interdites.','XXXX ',str(msg['text'][i]))\n",
    "    msg['text'][i]= re.sub('Le contenu de ce message est strictement réservé à l\\'usage exclusif de son destinataire et contient de l\\'information privilégiée et confidentielle. Toute lecture, divulgation, distribution ou copie non autorisée de cette communication est formellement interdite. Si vous avez reçu cette communication par erreur, veuillez la détruire immédiatement.','XXXX',str(msg['text'][i]))\n",
    "    msg['text'][i]= re.sub('Ce message et toutes les Pieces jointes (ci apres : le message) sont etablis a l\\'intention exclusive de ses destinataires et sont confidentiels.Toute utilisation de ce message non conforme a sa destination, toute diffusion ou toute publication totale ou partielle est interdite sauf autorisation prealable.Si vous recevez ce message par erreur, merci de le detruire et d\\' avertir immediatement l\\'expediteur.Les communications sur Internet n\\'etant pas securisees, le Groupe APRR decline toute responsabilite quant au contenu de ce message.This message and all attached documents (hereafter \"the message\") are intended for the exclusive attention of its recipients and are confidential. Any use of this message, for which it was not intended, any distribution or any total or partial publication is prohibited unless previously approved.If you receive this message in error, please destroy it and immediately notify the sender thereof.Since communication by Internet is not secure, Group APRR cannot accept any responsibility regarding the contents of this message.','XXXX ',str(msg['text'][i]))\n",
    "    msg['text'][i]= re.sub('Ce message et les pièces jointes sont confidentiels et établis à l\\'attention exclusive de ses destinataires. Toute utilisation ou diffusion, même partielle, non autorisée est interdite. Tout message électronique est susceptible d\\'altération. Brink\\'s décline toute responsabilité au titre de ce message s\\'il a été altéré, déformé ou falsifié. Si vous n\\'êtes pas le destinataire de ce message, merci de le détruire et d\\'avertir l\\'expéditeur. This message and any attachments are confidential and intended solely for the addressees. Any unauthorized use or disclosure, either whole or partial is prohibited. E-s are susceptible to alteration. Brink\\'s shall not be liable for the message if altered, changed or falsified. If you are not the intended recipient of this message, please delete it and notify the sender.','XXXX ',str(msg['text'][i]))\n",
    "    msg['text'][i]= re.sub('Ce message et toutes les Pieces jointes (ci apres : le message) sont etablis a l\\'intention exclusive de ses destinataires et sont confidentiels.Toute utilisation de ce message non conforme a sa destination, toute diffusion ou toute publication totale ou partielle est interdite sauf autorisation prealable.Si vous recevez ce message par erreur, merci de le detruire et d\\' avertir immediatement l\\'expediteur.Les communications sur Internet n\\'etant pas securisees, le Groupe APRR decline toute responsabilite quant au contenu de ce message.','XXXX',str(msg['text'][i]))\n",
    "    \n",
    "    #print(msg['Messages'][i])\n",
    "#msg.to_excel(\"message_traité1.xlsx\", index = False)"
   ]
  },
  {
   "cell_type": "code",
   "execution_count": 31,
   "id": "e722d164",
   "metadata": {},
   "outputs": [
    {
     "name": "stdout",
     "output_type": "stream",
     "text": [
      "Number of categories:  ['contrat' 'commande de badge'\n",
      " 'demande de renseignement,interne Axxès,réclamation qualité de service,a'\n",
      " 'renseignement facture']\n",
      "\n"
     ]
    },
    {
     "data": {
      "text/plain": [
       "<AxesSubplot:title={'center':'Categories vs Number of Documents'}>"
      ]
     },
     "execution_count": 31,
     "metadata": {},
     "output_type": "execute_result"
    },
    {
     "data": {
      "image/png": "[encoded data removed]",
      "text/plain": [
       "<Figure size 432x288 with 1 Axes>"
      ]
     },
     "metadata": {
      "needs_background": "light"
     },
     "output_type": "display_data"
    }
   ],
   "source": [
    "categories = msg.catégorie.unique()\n",
    "print('Number of categories: ', categories)\n",
    "print()\n",
    "msg.catégorie.value_counts().plot(kind='bar', title='Categories vs Number of Documents', cmap='plasma')"
   ]
  },
  {
   "cell_type": "code",
   "execution_count": 33,
   "id": "2957e70c",
   "metadata": {},
   "outputs": [
    {
     "data": {
      "image/png": "[encoded data removed]",
      "text/plain": [
       "<Figure size 576x360 with 1 Axes>"
      ]
     },
     "metadata": {
      "needs_background": "light"
     },
     "output_type": "display_data"
    },
    {
     "data": {
      "image/png": "[encoded data removed]",
      "text/plain": [
       "<Figure size 576x360 with 1 Axes>"
      ]
     },
     "metadata": {
      "needs_background": "light"
     },
     "output_type": "display_data"
    }
   ],
   "source": [
    "# Create a dataframe that contain number of words for each document \n",
    "dlength_df = pd.DataFrame({'doc_length': msg.Messages.apply(lambda x: len(x.split()))})\n",
    "\n",
    "# Group the documents based on their number of words (i.e. length)\n",
    "grouped = dlength_df.groupby('doc_length')\n",
    "\n",
    "indices = grouped.indices\n",
    "word_count = []\n",
    "doc_count = []\n",
    "counter = 0\n",
    "for w,d in indices.items():\n",
    "    word_count.append(w)\n",
    "    doc_count.append(len(d))\n",
    "\n",
    "# Plot the distribution of words vs documents in the corpus\n",
    "plt.figure(figsize=(8,5))\n",
    "plt.plot(word_count, doc_count)\n",
    "plt.xlabel('Word count in document')\n",
    "plt.ylabel('Number of Documents')\n",
    "plt.title('Word count vs Number of documents')\n",
    "\n",
    "# Plot the Cumulative distribution of documents length\n",
    "plt.figure(figsize=(8,5))\n",
    "plt.hist(word_count, 30, density=True, histtype='step', cumulative=True, label='Catégorie', color='red', linewidth=2)\n",
    "plt.xlabel('Word count in document')\n",
    "plt.ylabel('Fraction of Documents')\n",
    "plt.legend(loc='upper left')\n",
    "plt.title('Cumulative distribution of documents length')\n",
    "plt.show()"
   ]
  },
  {
   "cell_type": "code",
   "execution_count": 34,
   "id": "3c324704",
   "metadata": {},
   "outputs": [
    {
     "name": "stdout",
     "output_type": "stream",
     "text": [
      "Bonjour Mme. LOUHICHI Ci-joint correction dans fichier. Cordialement.   De : Lyon <lyon@axxes.fr> Envoyé : jeudi 30 juillet 2020 14:32À : IZABEL Olivier <olivier.izabel@eurovia.com>Objet : TR: passage boitier en badge Bonjour Mr IZABEL,  Vous avez affecté l’immatriculation FP126KJ a 2 véhicules, il s’agit surement d’une erreur, avez-vous omis d’enregistrer un autre de vos véhicules. Sachez que dans le cadre des remplacements des badges, ces numéros de pan ne seront plus effectifs, de plus vous avez remplacé certains pan avec une immatriculation existante, je procèderais au replacement de l’immatriculation existante et je créerais un nouveau badge pour la nouvelle immatriculation Dans l’attente de vos précisions, Cordialement, Monya LOUHICHIGestionnaire Clientèle / Sales assistant Immeuble le Silex, 15 rue des cuirassiers 69487 LYON Cedex 03 Tél : +33 4 26 29 75 20 Fax : +33 4 26 29 75 22lyon@axxes.fr De : olivier.izabel@eurovia.com <olivier.izabel@eurovia.com> Envoyé : mardi 28 juillet 2020 07:39À : Lyon <lyon@axxes.fr>Objet : TR: passage boitier en badge   Bonjour, Ci-joint la liste à mettre à jour pour le compte 00062411 , nous vous joignons les cartes grises. Cordialement.  De : IZABEL Olivier Envoyé : lundi 20 juillet 2020 14:56À : sav@axxes.frObjet : passage boitier en badge Bonjour, Comme convenu, nous vous joignons la liste de nos véhicules possédant des boitiers autoroute, pouvez vous les changer en badge et remettre à jour notre flotteen sachant que nous ne roulons que sur le territoire français. 2 compte client : 00062078 – 00062411. Cordialement \n",
      "\n",
      "Bonsoir, Merci  Cordialement, Best regards, Mit freundlichen Gruben, un Cordial Saludo Francisco AliagaDirecteur GénéralTel:  +33 (0)1.34.38.86.00Mobile: +33 (0)6.65.23.96.87Fax: +33 (0)1.34.38.86.01adresse e-mail: francisco.aliaga@stafex.frwww.stafex.infoFR 07 410 349 93027, rue des EcolesZAC Hautes95500 Le ThillayFrance   De : Lyon <lyon@axxes.fr> Envoyé : vendredi 23 octobre 2020 10:13À : francisco.aliaga@stafex.frObjet : RE: Client N° 000052300 Rebonjour ; Pas de souci le badge 1307, comme le badge 1075 sont souscrits depuis le 21.02.20.Cordialement    Nathalie LOUGEGestionnaire Clientèle / Sales assistant Immeuble le Silex, 15 rue des cuirassiers 69487 LYON Cedex 03 Tél : +33 4 26 29 75 20 Fax : +33 4 26 29 75 22lyon@axxes.fr  De : francisco.aliaga@stafex.fr <francisco.aliaga@stafex.fr> Envoyé : vendredi 23 octobre 2020 10:05À : Lyon <lyon@axxes.fr>Objet : RE: Client N° 000052300 Bonjour, Je vous remercie, cependant il manque à souscrire le badge suivant :3156490052300001307  De : Lyon <lyon@axxes.fr> Envoyé : vendredi 23 octobre 2020 09:40À : francisco.aliaga@stafex.frObjet : RE: Client N° 000052300 Bonjour, Je vous confirme qu’il reste 3 badges souscrits à l’option Fleetfence : 315649005230000107531564900523000006553156490052300001406 Restant à votre disposition,Cordialement   Nathalie LOUGEGestionnaire Clientèle / Sales assistant Immeuble le Silex, 15 rue des cuirassiers 69487 LYON Cedex 03 Tél : +33 4 26 29 75 20 Fax : +33 4 26 29 75 22lyon@axxes.fr  De : francisco.aliaga@stafex.fr <francisco.aliaga@stafex.fr> Envoyé : jeudi 22 octobre 2020 16:28À : Lyon <lyon@axxes.fr>Objet : RE: Client N° 000052300 Bonjour, Nous souhaitons annuler toutes les options indiquées sur votre liste ci-dessous sauf pour les badges suivants :31564900523000010753156490052300001307  Par ailleurs nous souhaitons rajouter les options Fleet Fence aux badges suivants :315649005230000107531564900523000006553156490052300001406 Dans l’attente de votre réponse.  Cordialement, Best regards, Mit freundlichen Gruben, un Cordial Saludo Francisco AliagaDirecteur GénéralTel: +33 (0)1.34.38.86.00Mobile: +33 (0)6.65.23.96.87Fax: +33 (0)1.34.38.86.01adresse e-mail: francisco.aliaga@stafex.frwww.stafex.infoFR 07 410 349 93027, rue des EcolesZAC Hautes95500 Le ThillayFrance        De : Lyon <lyon@axxes.fr> Envoyé : jeudi 15 octobre 2020 14:19À : francisco.aliaga@stafex.frObjet : RE: Client N° 000052300 Bonjour, Veuillez trouver ci-dessous la liste des badges souscrits au service Fleetfence. Ce service vous est facturé €4.00 /mois/badge.Restant à votre disposition,  Cordialement   Nathalie LOUGEGestionnaire Clientèle / Sales assistant Immeuble le Silex, 15 rue des cuirassiers 69487 LYON Cedex 03 Tél : +33 4 26 29 75 20 Fax : +33 4 26 29 75 22lyon@axxes.fr  De : francisco.aliaga@stafex.fr <francisco.aliaga@stafex.fr> Envoyé : jeudi 15 octobre 2020 11:30À : Lyon <lyon@axxes.fr>Objet : Client N° 000052300 Bonjour, Nous rencontrons des problèmes de connexion avec le service interconnexion Fleetfence.Pourriez vous me transmettre la liste des boitiers connectés au service interconnexion Fleetfence ?Ce service est-il gratuit et inclus dans le forfait ? Dans l’attente de vos réponses. Cordialement, Best regards, Mit freundlichen Gruben, un Cordial Saludo Francisco AliagaDirecteur GénéralTel: +33 (0)1.34.38.86.00Mobile: +33 (0)6.65.23.96.87Fax: +33 (0)1.34.38.86.01adresse e-mail: francisco.aliaga@stafex.frwww.stafex.infoFR 07 410 349 93027, rue des EcolesZAC Hautes95500 Le ThillayFrance \n",
      "\n",
      "Remis : Recontacter M. Barite \n",
      " Votre message a été remis aux destinataires suivants : Adrien MEUNIER (Adrien.MEUNIER@axxes.fr) Objet : Recontacter M. Barite\n",
      "\n"
     ]
    }
   ],
   "source": [
    "samples = [np.random.randint(len(msg)) for i in range(3)]\n",
    "for index in samples:\n",
    "    print(msg['Messages'][index])\n",
    "    print()"
   ]
  },
  {
   "cell_type": "code",
   "execution_count": 35,
   "id": "9ae1ff79",
   "metadata": {},
   "outputs": [],
   "source": [
    "def clean_text(text):\n",
    "    \"\"\" clean the text by removing special characters, punctuations, etc. \"\"\"\n",
    "    text = text.lower()\n",
    "    remove_xx_seq  = re.compile('xx+')\n",
    "    replace_by_space = re.compile('[/(){}\\[\\]\\|@,;]')\n",
    "    remove_special_characters = re.compile('[^0-9a-z +]')\n",
    "    remove_extra_space = re.compile('[^A-Za-z0-9]+')\n",
    "    remove_numbers = re.compile('[0-9]+')\n",
    "    text = re.sub(remove_xx_seq, ' ', text)\n",
    "    text = re.sub(replace_by_space, ' ', text)\n",
    "    text = re.sub(remove_special_characters, ' ', text)\n",
    "    text = re.sub(remove_numbers, ' ', text)\n",
    "    text = re.sub(remove_extra_space, ' ', text)\n",
    "    return text.strip()"
   ]
  },
  {
   "cell_type": "code",
   "execution_count": 36,
   "id": "c334d77b",
   "metadata": {},
   "outputs": [],
   "source": [
    "def preprocess_corpus(df, column='text'):\n",
    "    \"\"\" Preprocess the entire corpus including cleaning the text documents and return the updated dataframe. \"\"\"\n",
    "    df[column] = df[column].apply(clean_text)\n",
    "    return df"
   ]
  },
  {
   "cell_type": "code",
   "execution_count": 37,
   "id": "14b3a31a",
   "metadata": {},
   "outputs": [],
   "source": [
    "def encode_labels(labels):\n",
    "    \"\"\" Encode the class labels into a numbers. \"\"\"\n",
    "    label_encoder = preprocessing.LabelEncoder()\n",
    "    label_encoder.fit(labels)\n",
    "    return label_encoder"
   ]
  },
  {
   "cell_type": "code",
   "execution_count": 38,
   "id": "301fc6b8",
   "metadata": {},
   "outputs": [],
   "source": [
    "def compute_tfidf(corpus, stop_words='french', ngram_range=(1, 1), max_features=None):\n",
    "    \"\"\" Calculate the tfidf features for all the text documents and return a (documents, fatures) matrix. \"\"\"\n",
    "    vectorizer = TfidfVectorizer(input='content', stop_words=stop_words, ngram_range=ngram_range, min_df=3, max_df=0.9, max_features=max_features)\n",
    "    print('Computing tfidf features...', end='')\n",
    "    X = vectorizer.fit_transform(corpus)\n",
    "    print('done!')\n",
    "    return X, vectorizer"
   ]
  },
  {
   "cell_type": "code",
   "execution_count": 39,
   "id": "8173a765",
   "metadata": {},
   "outputs": [
    {
     "name": "stdout",
     "output_type": "stream",
     "text": [
      "Cleaning the text...done.\n"
     ]
    }
   ],
   "source": [
    "print('Cleaning the text...', end='')\n",
    "df = preprocess_corpus(df, column='Messages')\n",
    "print('done.')"
   ]
  },
  {
   "cell_type": "code",
   "execution_count": 40,
   "id": "3b64dda8",
   "metadata": {},
   "outputs": [],
   "source": [
    "from nltk.corpus import stopwords"
   ]
  },
  {
   "cell_type": "code",
   "execution_count": 41,
   "id": "4ccbbef0",
   "metadata": {},
   "outputs": [
    {
     "name": "stdout",
     "output_type": "stream",
     "text": [
      "Computing tfidf features...done!\n"
     ]
    }
   ],
   "source": [
    "#stop_words    = 'french'\n",
    "stop_words =  stopwords.words('french')+stopwords.words('english')+stopwords.words('spanish')+stopwords.words('german')+stopwords.words('italian')+stopwords.words('portuguese')+stopwords.words('dutch')\n",
    "ngram_range   = (1, 1)\n",
    "max_features  = None\n",
    "X, vectorizer = compute_tfidf(msg['Messages'], stop_words, ngram_range, max_features)\n",
    "\n",
    "# Encode the labels\n",
    "labels = msg.catégorie.unique()\n",
    "label_encoder = encode_labels(labels)\n",
    "y = label_encoder.transform(msg.catégorie)"
   ]
  },
  {
   "cell_type": "code",
   "execution_count": 42,
   "id": "39fc2733",
   "metadata": {},
   "outputs": [
    {
     "name": "stdout",
     "output_type": "stream",
     "text": [
      "Training set Shape: (6411, 15272)  | Test set Shape: (1603, 15272)\n"
     ]
    }
   ],
   "source": [
    "# Split the dataset\n",
    "X_train, X_test, y_train, y_test = train_test_split(X, y, test_size=0.2, stratify=y)\n",
    "print('Training set Shape: {}  | Test set Shape: {}'.format(X_train.shape, X_test.shape))"
   ]
  },
  {
   "cell_type": "code",
   "execution_count": 43,
   "id": "02e39420",
   "metadata": {},
   "outputs": [],
   "source": [
    "def train_test_model(model, X_train, X_test, y_train, y_test,labels):\n",
    "    \"\"\" Train and test the model using the training and test data sets. Return the predictions, accuracy and metric reports. \"\"\"\n",
    "    print('Start training...', end='')\n",
    "    model.fit(X_train, y_train)\n",
    "    print('done!')\n",
    "    print('Start testing...', end='')\n",
    "    predictions = model.predict(X_test)\n",
    "    accuracy = model.score(X_test, y_test)\n",
    "    metrics_report = classification_report(y_test, predictions, target_names=labels)\n",
    "    precision, recall, fscore, train_support = score(y_test, predictions, average='weighted')\n",
    "    print('done!')\n",
    "    return predictions, accuracy, metrics_report, (precision, recall, fscore)"
   ]
  },
  {
   "cell_type": "code",
   "execution_count": 44,
   "id": "8c9ddd2d",
   "metadata": {},
   "outputs": [],
   "source": [
    "label=['contrat', 'commande de badge', 'no message',\n",
    " 'réclamation qualité de service', 'interne Axxès', 'renseignement facture',\n",
    " 'demande de renseignement', 'réclamation facture' ,'remplacement badge',\n",
    " 'réclamation logistique' ,'no']"
   ]
  },
  {
   "cell_type": "code",
   "execution_count": 45,
   "id": "c8bc9723",
   "metadata": {},
   "outputs": [
    {
     "name": "stdout",
     "output_type": "stream",
     "text": [
      "Number of documents = 6411  |  Number of features = 15272\n",
      "Start training...done!\n",
      "Start testing...done!\n",
      "Total time: 0.02s\n",
      "accuracy: 0.5938864628820961\n",
      "====================================================================================================\n",
      "                                                                         precision    recall  f1-score   support\n",
      "\n",
      "                                                                contrat       0.53      0.89      0.67       597\n",
      "                                                      commande de badge       0.58      0.29      0.39       348\n",
      "demande de renseignement,interne Axxès,réclamation qualité de service,a       0.71      0.44      0.55       375\n",
      "                                                  renseignement facture       0.78      0.54      0.64       283\n",
      "\n",
      "                                                               accuracy                           0.59      1603\n",
      "                                                              macro avg       0.65      0.54      0.56      1603\n",
      "                                                           weighted avg       0.63      0.59      0.57      1603\n",
      "\n"
     ]
    },
    {
     "data": {
      "text/plain": [
       "<sklearn.metrics._plot.confusion_matrix.ConfusionMatrixDisplay at 0x1258da49e80>"
      ]
     },
     "execution_count": 45,
     "metadata": {},
     "output_type": "execute_result"
    },
    {
     "data": {
      "image/png": "[encoded data removed]",
      "text/plain": [
       "<Figure size 432x288 with 2 Axes>"
      ]
     },
     "metadata": {
      "needs_background": "light"
     },
     "output_type": "display_data"
    }
   ],
   "source": [
    "nb_model = MultinomialNB()\n",
    "print('Number of documents = {}  |  Number of features = {}'.format(X_train.shape[0], X_train.shape[1]))\n",
    "st_time = time.time()\n",
    "predictions, accuracy, metrics_report, nb_prf = train_test_model(nb_model, X_train, X_test, y_train, y_test, labels)\n",
    "en_time = time.time()\n",
    "print('Total time: {:.2f}s'.format(en_time-st_time))\n",
    "print('accuracy: {}'.format(accuracy))\n",
    "print('='*100)\n",
    "print(metrics_report)\n",
    "plot_confusion_matrix(nb_model, X_test, y_test, display_labels=labels, xticks_rotation='vertical', cmap=\"BuPu\")\n",
    "# plt.show()"
   ]
  },
  {
   "cell_type": "code",
   "execution_count": 46,
   "id": "e5277a04",
   "metadata": {},
   "outputs": [
    {
     "name": "stdout",
     "output_type": "stream",
     "text": [
      "Number of documents = 6411  |  Number of features = 15272\n",
      "Start training...done!\n",
      "Start testing...done!\n",
      "Total time: 1.90s\n",
      "accuracy: 0.7061759201497193\n",
      "====================================================================================================\n",
      "                                                                         precision    recall  f1-score   support\n",
      "\n",
      "                                                                contrat       0.72      0.86      0.79       597\n",
      "                                                      commande de badge       0.59      0.55      0.57       348\n",
      "demande de renseignement,interne Axxès,réclamation qualité de service,a       0.69      0.61      0.65       375\n",
      "                                                  renseignement facture       0.84      0.70      0.76       283\n",
      "\n",
      "                                                               accuracy                           0.71      1603\n",
      "                                                              macro avg       0.71      0.68      0.69      1603\n",
      "                                                           weighted avg       0.71      0.71      0.70      1603\n",
      "\n"
     ]
    },
    {
     "data": {
      "text/plain": [
       "<sklearn.metrics._plot.confusion_matrix.ConfusionMatrixDisplay at 0x125f5915280>"
      ]
     },
     "execution_count": 46,
     "metadata": {},
     "output_type": "execute_result"
    },
    {
     "data": {
      "image/png": "[encoded data removed]",
      "text/plain": [
       "<Figure size 432x288 with 2 Axes>"
      ]
     },
     "metadata": {
      "needs_background": "light"
     },
     "output_type": "display_data"
    }
   ],
   "source": [
    "log_model = LogisticRegression(penalty='l2', max_iter=500)\n",
    "print('Number of documents = {}  |  Number of features = {}'.format(X_train.shape[0], X_train.shape[1]))\n",
    "st_time = time.time()\n",
    "predictions, accuracy, metrics_report, log_prf = train_test_model(log_model, X_train, X_test, y_train, y_test, labels)\n",
    "en_time = time.time()\n",
    "print('Total time: {:.2f}s'.format(en_time-st_time))\n",
    "print('accuracy: {}'.format(accuracy))\n",
    "print('='*100)\n",
    "print(metrics_report)\n",
    "plot_confusion_matrix(log_model, X_test, y_test, display_labels=labels, xticks_rotation='vertical', cmap=\"BuPu\")"
   ]
  },
  {
   "cell_type": "code",
   "execution_count": 47,
   "id": "be970578",
   "metadata": {},
   "outputs": [
    {
     "name": "stdout",
     "output_type": "stream",
     "text": [
      "Number of documents = 6411  |  Number of features = 15272\n",
      "Start training...done!\n",
      "Start testing...done!\n",
      "Total time: 0.16s\n",
      "accuracy: 0.7111665626949469\n",
      "====================================================================================================\n",
      "                                                                         precision    recall  f1-score   support\n",
      "\n",
      "                                                                contrat       0.75      0.82      0.78       597\n",
      "                                                      commande de badge       0.57      0.57      0.57       348\n",
      "demande de renseignement,interne Axxès,réclamation qualité de service,a       0.70      0.63      0.66       375\n",
      "                                                  renseignement facture       0.81      0.77      0.79       283\n",
      "\n",
      "                                                               accuracy                           0.71      1603\n",
      "                                                              macro avg       0.71      0.70      0.70      1603\n",
      "                                                           weighted avg       0.71      0.71      0.71      1603\n",
      "\n"
     ]
    },
    {
     "data": {
      "text/plain": [
       "<sklearn.metrics._plot.confusion_matrix.ConfusionMatrixDisplay at 0x1258da49d90>"
      ]
     },
     "execution_count": 47,
     "metadata": {},
     "output_type": "execute_result"
    },
    {
     "data": {
      "image/png": "[encoded data removed]",
      "text/plain": [
       "<Figure size 432x288 with 2 Axes>"
      ]
     },
     "metadata": {
      "needs_background": "light"
     },
     "output_type": "display_data"
    }
   ],
   "source": [
    "svm = LinearSVC(class_weight='balanced', verbose=False, max_iter=10000, tol=1e-4, C=0.1)\n",
    "print('Number of documents = {}  |  Number of features = {}'.format(X_train.shape[0], X_train.shape[1]))\n",
    "st_time = time.time()\n",
    "predictions, accuracy, metrics_report, svm_prf = train_test_model(svm, X_train, X_test, y_train, y_test, labels)\n",
    "en_time = time.time()\n",
    "print('Total time: {:.2f}s'.format(en_time-st_time))\n",
    "print('accuracy: {}'.format(accuracy))\n",
    "print('='*100)\n",
    "print(metrics_report)\n",
    "plot_confusion_matrix(svm, X_test, y_test, display_labels=labels, xticks_rotation='vertical', cmap=\"BuPu\")"
   ]
  },
  {
   "cell_type": "code",
   "execution_count": 48,
   "id": "8ac1aeeb",
   "metadata": {},
   "outputs": [
    {
     "name": "stdout",
     "output_type": "stream",
     "text": [
      "Number of documents = 6411  |  Number of features = 15272\n",
      "Start training...done!\n",
      "Start testing...done!\n",
      "Total time: 2.31s\n",
      "accuracy: 0.7192763568309419\n",
      "====================================================================================================\n",
      "                                                                         precision    recall  f1-score   support\n",
      "\n",
      "                                                                contrat       0.69      0.92      0.79       597\n",
      "                                                      commande de badge       0.65      0.51      0.57       348\n",
      "demande de renseignement,interne Axxès,réclamation qualité de service,a       0.78      0.61      0.68       375\n",
      "                                                  renseignement facture       0.84      0.71      0.77       283\n",
      "\n",
      "                                                               accuracy                           0.72      1603\n",
      "                                                              macro avg       0.74      0.69      0.70      1603\n",
      "                                                           weighted avg       0.73      0.72      0.71      1603\n",
      "\n"
     ]
    },
    {
     "data": {
      "text/plain": [
       "<sklearn.metrics._plot.confusion_matrix.ConfusionMatrixDisplay at 0x1258f3ae7c0>"
      ]
     },
     "execution_count": 48,
     "metadata": {},
     "output_type": "execute_result"
    },
    {
     "data": {
      "image/png": "[encoded data removed]",
      "text/plain": [
       "<Figure size 432x288 with 2 Axes>"
      ]
     },
     "metadata": {
      "needs_background": "light"
     },
     "output_type": "display_data"
    }
   ],
   "source": [
    "rf_model = RandomForestClassifier(n_estimators=100, max_depth=100, min_samples_split=10, n_jobs=-1, verbose=0)\n",
    "print('Number of documents = {}  |  Number of features = {}'.format(X_train.shape[0], X_train.shape[1]))\n",
    "st_time = time.time()\n",
    "predictions, accuracy, metrics_report, rf_prf = train_test_model(rf_model, X_train, X_test, y_train, y_test, labels)\n",
    "en_time = time.time()\n",
    "print('Total time: {:.2f}s'.format(en_time-st_time))\n",
    "print('accuracy: {}'.format(accuracy))\n",
    "print('='*100)\n",
    "print(metrics_report)\n",
    "plot_confusion_matrix(rf_model, X_test, y_test, display_labels=labels, xticks_rotation='vertical', cmap=\"BuPu\")"
   ]
  },
  {
   "cell_type": "code",
   "execution_count": 49,
   "id": "89ef7a18",
   "metadata": {},
   "outputs": [
    {
     "name": "stdout",
     "output_type": "stream",
     "text": [
      "Start training...done!\n",
      "Start testing...done!\n",
      "accuracy: 0.7610729881472239\n",
      "                                                                         precision    recall  f1-score   support\n",
      "\n",
      "                                                                contrat       0.76      0.90      0.82       597\n",
      "                                                      commande de badge       0.68      0.60      0.64       348\n",
      "demande de renseignement,interne Axxès,réclamation qualité de service,a       0.75      0.66      0.71       375\n",
      "                                                  renseignement facture       0.86      0.80      0.83       283\n",
      "\n",
      "                                                               accuracy                           0.76      1603\n",
      "                                                              macro avg       0.76      0.74      0.75      1603\n",
      "                                                           weighted avg       0.76      0.76      0.76      1603\n",
      "\n"
     ]
    },
    {
     "data": {
      "text/plain": [
       "<sklearn.metrics._plot.confusion_matrix.ConfusionMatrixDisplay at 0x1258ef82fa0>"
      ]
     },
     "execution_count": 49,
     "metadata": {},
     "output_type": "execute_result"
    },
    {
     "data": {
      "image/png": "[encoded data removed]",
      "text/plain": [
       "<Figure size 432x288 with 2 Axes>"
      ]
     },
     "metadata": {
      "needs_background": "light"
     },
     "output_type": "display_data"
    }
   ],
   "source": [
    "gb_model = GradientBoostingClassifier(n_estimators=200, max_depth=20)\n",
    "predictions, accuracy, metrics_report, gb_prf = train_test_model(gb_model, X_train, X_test, y_train, y_test, labels)\n",
    "print('accuracy: {}'.format(accuracy))\n",
    "print(metrics_report)\n",
    "plot_confusion_matrix(gb_model, X_test, y_test, display_labels=labels, xticks_rotation='vertical', cmap=\"BuPu\")"
   ]
  },
  {
   "cell_type": "code",
   "execution_count": 52,
   "id": "c2bb5e86",
   "metadata": {},
   "outputs": [
    {
     "name": "stdout",
     "output_type": "stream",
     "text": [
      "Requirement already satisfied: xgboost in c:\\users\\bertille.lekeufack\\.conda\\envs\\stage1\\lib\\site-packages (1.4.1)\n",
      "Requirement already satisfied: numpy in c:\\users\\bertille.lekeufack\\.conda\\envs\\stage1\\lib\\site-packages (from xgboost) (1.18.5)\n",
      "Requirement already satisfied: scipy in c:\\users\\bertille.lekeufack\\appdata\\roaming\\python\\python38\\site-packages (from xgboost) (1.4.1)\n"
     ]
    }
   ],
   "source": [
    "!pip install xgboost"
   ]
  },
  {
   "cell_type": "code",
   "execution_count": 53,
   "id": "1fdb999f",
   "metadata": {},
   "outputs": [],
   "source": [
    "import xgboost as xgb\n",
    "xgb_train = xgb.DMatrix(X_train, label=y_train)\n",
    "xgb_test = xgb.DMatrix(X_test, label=y_test)\n",
    "# setup parameters for xgboost\n",
    "param = {}\n",
    "# use softmax multi-class classification\n",
    "param['objective'] = 'multi:softmax'\n",
    "param['eta'] = 0.05\n",
    "param['max_depth'] = 12\n",
    "param['nthread'] = 4\n",
    "param['num_class'] = 7\n",
    "param['gpu_id'] = 0"
   ]
  },
  {
   "cell_type": "code",
   "execution_count": 54,
   "id": "9f4768f9",
   "metadata": {},
   "outputs": [],
   "source": [
    "import xgboost as xgb\n",
    "from xgboost.sklearn import XGBClassifier\n",
    "from sklearn import metrics\n",
    "from sklearn.model_selection import GridSearchCV\n"
   ]
  },
  {
   "cell_type": "code",
   "execution_count": 55,
   "id": "de57e87f",
   "metadata": {},
   "outputs": [
    {
     "name": "stdout",
     "output_type": "stream",
     "text": [
      "[09:55:05] WARNING: C:/Users/Administrator/workspace/xgboost-win64_release_1.4.0/src/learner.cc:223: No visible GPU is found, setting `gpu_id` to -1\n",
      "[09:55:05] WARNING: C:/Users/Administrator/workspace/xgboost-win64_release_1.4.0/src/learner.cc:1095: Starting in XGBoost 1.3.0, the default evaluation metric used with the objective 'multi:softmax' was changed from 'merror' to 'mlogloss'. Explicitly set eval_metric if you'd like to restore the old behavior.\n",
      "[09:55:09] WARNING: C:/Users/Administrator/workspace/xgboost-win64_release_1.4.0/src/learner.cc:223: No visible GPU is found, setting `gpu_id` to -1\n",
      "[09:55:10] WARNING: C:/Users/Administrator/workspace/xgboost-win64_release_1.4.0/src/learner.cc:1095: Starting in XGBoost 1.3.0, the default evaluation metric used with the objective 'multi:softmax' was changed from 'merror' to 'mlogloss'. Explicitly set eval_metric if you'd like to restore the old behavior.\n",
      "[0]\ttrain-mlogloss:1.83927\ttest-mlogloss:1.85371\n",
      "[1]\ttrain-mlogloss:1.74447\ttest-mlogloss:1.77324\n",
      "[2]\ttrain-mlogloss:1.65949\ttest-mlogloss:1.70167\n",
      "[3]\ttrain-mlogloss:1.58306\ttest-mlogloss:1.63810\n",
      "[4]\ttrain-mlogloss:1.51348\ttest-mlogloss:1.58001\n",
      "Test error using softmax = 0.28509045539613226\n"
     ]
    }
   ],
   "source": [
    "watchlist = [(xgb_train, 'train'), (xgb_test, 'test')]\n",
    "num_round = 5\n",
    "bst = xgb.train(param, xgb_train, num_round)\n",
    "\n",
    "bst = xgb.train(param, xgb_train, num_round, watchlist)\n",
    "# get prediction\n",
    "pred = bst.predict(xgb_test)\n",
    "error_rate = np.sum(pred != y_test) / y_test.shape[0]\n",
    "print('Test error using softmax = {}'.format(error_rate))"
   ]
  },
  {
   "cell_type": "code",
   "execution_count": 56,
   "id": "653e79ff",
   "metadata": {},
   "outputs": [
    {
     "data": {
      "image/png": "[encoded data removed]",
      "text/plain": [
       "<Figure size 432x288 with 1 Axes>"
      ]
     },
     "metadata": {
      "needs_background": "light"
     },
     "output_type": "display_data"
    }
   ],
   "source": [
    "xx = np.array([1,2,3])\n",
    "width = 0.15\n",
    "gb_prf = np.array([0.83, 0.83, 0.83])\n",
    "ax = plt.subplot(111)\n",
    "ax.bar( xx - width, height=np.array(nb_prf), width=width, color='b', align='center', label='NB', tick_label=['Precision', 'Recall', 'f1'])\n",
    "ax.bar(xx ,height=np.array(log_prf), width=width, color='g', align='center', label='Log_Reg')\n",
    "ax.bar(xx + width, height=np.array(svm_prf), width=width, color='r', align='center', label='SVM')\n",
    "ax.bar(xx + 2*width, height=np.array(rf_prf), width=width, color='y', align='center', label='Random Forest')\n",
    "ax.bar(xx + 3*width, height=np.array(gb_prf), width=width, color='black', align='center', label='Gradient Boosting')\n",
    "\n",
    "\n",
    "plt.xlabel('Classification Metrics')\n",
    "plt.ylabel('Scores')\n",
    "plt.legend(loc='lower right')\n",
    "plt.show()"
   ]
  },
  {
   "cell_type": "markdown",
   "id": "1e96f5b1",
   "metadata": {},
   "source": [
    "#cross validation"
   ]
  },
  {
   "cell_type": "code",
   "execution_count": 57,
   "id": "3345d4b4",
   "metadata": {},
   "outputs": [
    {
     "name": "stdout",
     "output_type": "stream",
     "text": [
      "Start training...done!\n",
      "Start testing...done!\n",
      "Start training...done!\n",
      "Start testing...done!\n",
      "Start training...done!\n",
      "Start testing...done!\n",
      "Start training...done!\n",
      "Start testing...done!\n",
      "Start training...done!\n",
      "Start testing...done!\n",
      "Total time: 0.13s\n",
      "mean accuracy: 0.60\n"
     ]
    }
   ],
   "source": [
    "skfold = StratifiedKFold(n_splits=5, shuffle=True, random_state=123)\n",
    "nb_model = MultinomialNB()\n",
    "\n",
    "accs = []\n",
    "reports = []\n",
    "f1_scores = []\n",
    "st_time = time.time()\n",
    "for train_index, test_index in skfold.split(X,y):\n",
    "    X_train, X_test = X[train_index], X[test_index]\n",
    "    y_train, y_test = y[train_index], y[test_index]\n",
    "    predictions, accuracy, metrics_report, nb_prf = train_test_model(nb_model, X_train, X_test, y_train, y_test, labels)\n",
    "    accs.append(accuracy)\n",
    "    reports.append(metrics_report)\n",
    "    \n",
    "en_time = time.time()\n",
    "print('Total time: {:.2f}s'.format(en_time-st_time))   \n",
    "print('mean accuracy: {:.2f}'.format(np.mean(accs)))"
   ]
  },
  {
   "cell_type": "code",
   "execution_count": 58,
   "id": "e63cb1e6",
   "metadata": {},
   "outputs": [
    {
     "data": {
      "image/png": "[encoded data removed]",
      "text/plain": [
       "<Figure size 432x288 with 1 Axes>"
      ]
     },
     "metadata": {
      "needs_background": "light"
     },
     "output_type": "display_data"
    }
   ],
   "source": [
    "tr_times = [('NB', 0.28), ('Log_Reg', 111.02), ('SVM', 5.59), ('Random_Forest', 280.10)]\n",
    "x_vals = []\n",
    "h_vals = []\n",
    "for t in tr_times:\n",
    "    x_vals.append(t[0])\n",
    "    h_vals.append(t[1])\n",
    "    \n",
    "ax = plt.subplot(111)\n",
    "ax.bar(np.linspace(0,1,4) - width, height=np.array(h_vals), width=width, color='Green', tick_label=x_vals)\n",
    "plt.xlabel('Techniques')\n",
    "plt.ylabel('Training Time')\n",
    "plt.show()"
   ]
  },
  {
   "cell_type": "markdown",
   "id": "5e507e87",
   "metadata": {},
   "source": [
    "cross validation"
   ]
  },
  {
   "cell_type": "code",
   "execution_count": 59,
   "id": "b5872c0f",
   "metadata": {},
   "outputs": [
    {
     "name": "stdout",
     "output_type": "stream",
     "text": [
      "Start training...done!\n",
      "Start testing...done!\n",
      "Start training...done!\n",
      "Start testing...done!\n",
      "Start training...done!\n",
      "Start testing...done!\n",
      "Start training...done!\n",
      "Start testing...done!\n",
      "Start training...done!\n",
      "Start testing...done!\n",
      "Total time: 0.15s\n",
      "mean accuracy: 0.60\n"
     ]
    }
   ],
   "source": [
    "skfold = StratifiedKFold(n_splits=5, shuffle=True, random_state=123)\n",
    "nb_model = MultinomialNB()\n",
    "\n",
    "accs = []\n",
    "reports = []\n",
    "f1_scores = []\n",
    "st_time = time.time()\n",
    "for train_index, test_index in skfold.split(X,y):\n",
    "    X_train, X_test = X[train_index], X[test_index]\n",
    "    y_train, y_test = y[train_index], y[test_index]\n",
    "    predictions, accuracy, metrics_report, nb_prf = train_test_model(nb_model, X_train, X_test, y_train, y_test, labels)\n",
    "    accs.append(accuracy)\n",
    "    reports.append(metrics_report)\n",
    "    \n",
    "en_time = time.time()\n",
    "print('Total time: {:.2f}s'.format(en_time-st_time))   \n",
    "print('mean accuracy: {:.2f}'.format(np.mean(accs)))"
   ]
  },
  {
   "cell_type": "code",
   "execution_count": 60,
   "id": "7fbdd0f9",
   "metadata": {},
   "outputs": [
    {
     "name": "stdout",
     "output_type": "stream",
     "text": [
      "Start training...done!\n",
      "Start testing...done!\n",
      "Start training...done!\n",
      "Start testing...done!\n",
      "Start training...done!\n",
      "Start testing...done!\n",
      "Start training...done!\n",
      "Start testing...done!\n",
      "Start training...done!\n",
      "Start testing...done!\n",
      "Total time: 9.49s\n",
      "mean accuracy: 0.71\n"
     ]
    }
   ],
   "source": [
    "log_model = LogisticRegression(penalty='l2', max_iter=500)\n",
    "accs = []\n",
    "reports = []\n",
    "st_time = time.time()\n",
    "for train_index, test_index in skfold.split(X,y):\n",
    "    X_train, X_test = X[train_index], X[test_index]\n",
    "    y_train, y_test = y[train_index], y[test_index]\n",
    "    predictions, accuracy, metrics_report, log_prf = train_test_model(log_model, X_train, X_test, y_train, y_test, labels)\n",
    "    accs.append(accuracy)\n",
    "    reports.append(metrics_report)\n",
    "\n",
    "en_time = time.time()\n",
    "print('Total time: {:.2f}s'.format(en_time-st_time))   \n",
    "print('mean accuracy: {:.2f}'.format(np.mean(accs)))"
   ]
  },
  {
   "cell_type": "code",
   "execution_count": 61,
   "id": "dd11a41f",
   "metadata": {},
   "outputs": [
    {
     "name": "stdout",
     "output_type": "stream",
     "text": [
      "Start training...done!\n",
      "Start testing...done!\n",
      "Start training...done!\n",
      "Start testing...done!\n",
      "Start training...done!\n",
      "Start testing...done!\n",
      "Start training...done!\n",
      "Start testing...done!\n",
      "Start training...done!\n",
      "Start testing...done!\n",
      "Total time: 0.78s\n",
      "mean accuracy: 0.71\n"
     ]
    }
   ],
   "source": [
    "svm = LinearSVC(class_weight='balanced', verbose=False, max_iter=10000, tol=1e-4, C=0.1)\n",
    "accs = []\n",
    "reports = []\n",
    "st_time = time.time()\n",
    "for train_index, test_index in skfold.split(X,y):\n",
    "    X_train, X_test = X[train_index], X[test_index]\n",
    "    y_train, y_test = y[train_index], y[test_index]\n",
    "    predictions, accuracy, metrics_report, svm_prf = train_test_model(svm, X_train, X_test, y_train, y_test, labels)\n",
    "    accs.append(accuracy)\n",
    "    reports.append(metrics_report)\n",
    "\n",
    "en_time = time.time()\n",
    "print('Total time: {:.2f}s'.format(en_time-st_time)) \n",
    "print('mean accuracy: {:.2f}'.format(np.mean(accs)))"
   ]
  },
  {
   "cell_type": "code",
   "execution_count": 62,
   "id": "84c0b1e9",
   "metadata": {},
   "outputs": [
    {
     "name": "stdout",
     "output_type": "stream",
     "text": [
      "Start training...done!\n",
      "Start testing...done!\n",
      "Start training...done!\n",
      "Start testing...done!\n",
      "Start training...done!\n",
      "Start testing...done!\n",
      "Start training...done!\n",
      "Start testing...done!\n",
      "Start training...done!\n",
      "Start testing...done!\n",
      "Total time: 12.21s\n",
      "mean accuracy: 0.71\n"
     ]
    }
   ],
   "source": [
    "rf_model = RandomForestClassifier(n_estimators=100, max_depth=100, min_samples_split=10, n_jobs=-1, verbose=0)\n",
    "accs = []\n",
    "reports = []\n",
    "st_time = time.time()\n",
    "for train_index, test_index in skfold.split(X,y):\n",
    "    X_train, X_test = X[train_index], X[test_index]\n",
    "    y_train, y_test = y[train_index], y[test_index]\n",
    "    predictions, accuracy, metrics_report, rf_prf = train_test_model(rf_model, X_train, X_test, y_train, y_test, labels)\n",
    "    accs.append(accuracy)\n",
    "    reports.append(metrics_report)\n",
    "\n",
    "en_time = time.time()\n",
    "print('Total time: {:.2f}s'.format(en_time-st_time)) \n",
    "print('mean accuracy: {:.2f}'.format(np.mean(accs)))"
   ]
  },
  {
   "cell_type": "markdown",
   "id": "554cd611",
   "metadata": {},
   "source": [
    "bert"
   ]
  },
  {
   "cell_type": "code",
   "execution_count": 63,
   "id": "aa19d294",
   "metadata": {},
   "outputs": [],
   "source": [
    "X = df['Messages'].to_list()\n",
    "\n",
    "# Encode the labels\n",
    "labels = df.catégorie.unique()\n",
    "label_encoder = encode_labels(labels)\n",
    "y = label_encoder.transform(df.catégorie)\n",
    "\n",
    "# Split the dataset\n",
    "X_train, X_test, y_train, y_test = train_test_split(X, y, test_size=0.2, stratify=y)"
   ]
  },
  {
   "cell_type": "code",
   "execution_count": 64,
   "id": "e087ae05",
   "metadata": {},
   "outputs": [
    {
     "name": "stderr",
     "output_type": "stream",
     "text": [
      "100%|██████████| 6411/6411 [00:00<00:00, 355218.47it/s]\n",
      "100%|██████████| 1603/1603 [00:00<00:00, 266402.62it/s]\n",
      "C:\\Users\\bertille.lekeufack\\AppData\\Roaming\\Python\\Python38\\site-packages\\transformers\\data\\processors\\glue.py:67: FutureWarning: This function will be removed from the library soon, preprocessing should be handled with the 🤗 Datasets library. You can have a look at this example script for pointers: https://github.com/huggingface/transformers/blob/master/examples/text-classification/run_glue.py\n",
      "  warnings.warn(DEPRECATION_WARNING.format(\"function\"), FutureWarning)\n",
      "C:\\Users\\bertille.lekeufack\\AppData\\Roaming\\Python\\Python38\\site-packages\\transformers\\data\\processors\\glue.py:175: FutureWarning: This processor will be removed from the library soon, preprocessing should be handled with the 🤗 Datasets library. You can have a look at this example script for pointers: https://github.com/huggingface/transformers/blob/master/examples/text-classification/run_glue.py\n",
      "  warnings.warn(DEPRECATION_WARNING.format(\"processor\"), FutureWarning)\n"
     ]
    },
    {
     "ename": "MemoryError",
     "evalue": "Unable to allocate 9.00 MiB for an array with shape (768, 3072) and data type float32",
     "output_type": "error",
     "traceback": [
      "\u001b[1;31m---------------------------------------------------------------------------\u001b[0m",
      "\u001b[1;31mMemoryError\u001b[0m                               Traceback (most recent call last)",
      "\u001b[1;32m<ipython-input-64-c7b0688eecf3>\u001b[0m in \u001b[0;36m<module>\u001b[1;34m\u001b[0m\n\u001b[0;32m     48\u001b[0m \u001b[0mtrain_ds\u001b[0m \u001b[1;33m=\u001b[0m \u001b[0mtf\u001b[0m\u001b[1;33m.\u001b[0m\u001b[0mdata\u001b[0m\u001b[1;33m.\u001b[0m\u001b[0mDataset\u001b[0m\u001b[1;33m.\u001b[0m\u001b[0mfrom_tensor_slices\u001b[0m\u001b[1;33m(\u001b[0m\u001b[1;33m(\u001b[0m\u001b[0mx_train\u001b[0m\u001b[1;33m[\u001b[0m\u001b[1;36m0\u001b[0m\u001b[1;33m]\u001b[0m\u001b[1;33m,\u001b[0m \u001b[0mx_train\u001b[0m\u001b[1;33m[\u001b[0m\u001b[1;36m1\u001b[0m\u001b[1;33m]\u001b[0m\u001b[1;33m,\u001b[0m \u001b[0mx_train\u001b[0m\u001b[1;33m[\u001b[0m\u001b[1;36m2\u001b[0m\u001b[1;33m]\u001b[0m\u001b[1;33m,\u001b[0m \u001b[0my_train\u001b[0m\u001b[1;33m)\u001b[0m\u001b[1;33m)\u001b[0m\u001b[1;33m.\u001b[0m\u001b[0mmap\u001b[0m\u001b[1;33m(\u001b[0m\u001b[0mexample_to_features\u001b[0m\u001b[1;33m)\u001b[0m\u001b[1;33m.\u001b[0m\u001b[0mshuffle\u001b[0m\u001b[1;33m(\u001b[0m\u001b[1;36m100\u001b[0m\u001b[1;33m)\u001b[0m\u001b[1;33m.\u001b[0m\u001b[0mbatch\u001b[0m\u001b[1;33m(\u001b[0m\u001b[1;36m64\u001b[0m\u001b[1;33m)\u001b[0m\u001b[1;33m\u001b[0m\u001b[1;33m\u001b[0m\u001b[0m\n\u001b[0;32m     49\u001b[0m \u001b[0mval_ds\u001b[0m   \u001b[1;33m=\u001b[0m \u001b[0mtf\u001b[0m\u001b[1;33m.\u001b[0m\u001b[0mdata\u001b[0m\u001b[1;33m.\u001b[0m\u001b[0mDataset\u001b[0m\u001b[1;33m.\u001b[0m\u001b[0mfrom_tensor_slices\u001b[0m\u001b[1;33m(\u001b[0m\u001b[1;33m(\u001b[0m\u001b[0mx_val\u001b[0m\u001b[1;33m[\u001b[0m\u001b[1;36m0\u001b[0m\u001b[1;33m]\u001b[0m\u001b[1;33m,\u001b[0m \u001b[0mx_val\u001b[0m\u001b[1;33m[\u001b[0m\u001b[1;36m1\u001b[0m\u001b[1;33m]\u001b[0m\u001b[1;33m,\u001b[0m \u001b[0mx_val\u001b[0m\u001b[1;33m[\u001b[0m\u001b[1;36m2\u001b[0m\u001b[1;33m]\u001b[0m\u001b[1;33m,\u001b[0m \u001b[0my_val\u001b[0m\u001b[1;33m)\u001b[0m\u001b[1;33m)\u001b[0m\u001b[1;33m.\u001b[0m\u001b[0mmap\u001b[0m\u001b[1;33m(\u001b[0m\u001b[0mexample_to_features\u001b[0m\u001b[1;33m)\u001b[0m\u001b[1;33m.\u001b[0m\u001b[0mbatch\u001b[0m\u001b[1;33m(\u001b[0m\u001b[1;36m64\u001b[0m\u001b[1;33m)\u001b[0m\u001b[1;33m\u001b[0m\u001b[1;33m\u001b[0m\u001b[0m\n\u001b[1;32m---> 50\u001b[1;33m \u001b[0mmodel\u001b[0m \u001b[1;33m=\u001b[0m \u001b[0mTFBertForSequenceClassification\u001b[0m\u001b[1;33m.\u001b[0m\u001b[0mfrom_pretrained\u001b[0m\u001b[1;33m(\u001b[0m\u001b[1;34m'bert-base-uncased'\u001b[0m\u001b[1;33m)\u001b[0m\u001b[1;33m\u001b[0m\u001b[1;33m\u001b[0m\u001b[0m\n\u001b[0m\u001b[0;32m     51\u001b[0m \u001b[0moptimizer\u001b[0m \u001b[1;33m=\u001b[0m \u001b[0mtf\u001b[0m\u001b[1;33m.\u001b[0m\u001b[0mkeras\u001b[0m\u001b[1;33m.\u001b[0m\u001b[0moptimizers\u001b[0m\u001b[1;33m.\u001b[0m\u001b[0mAdam\u001b[0m\u001b[1;33m(\u001b[0m\u001b[0mlearning_rate\u001b[0m\u001b[1;33m=\u001b[0m\u001b[1;36m3e-5\u001b[0m\u001b[1;33m,\u001b[0m \u001b[0mepsilon\u001b[0m\u001b[1;33m=\u001b[0m\u001b[1;36m1e-08\u001b[0m\u001b[1;33m,\u001b[0m \u001b[0mclipnorm\u001b[0m\u001b[1;33m=\u001b[0m\u001b[1;36m1.0\u001b[0m\u001b[1;33m)\u001b[0m\u001b[1;33m\u001b[0m\u001b[1;33m\u001b[0m\u001b[0m\n\u001b[0;32m     52\u001b[0m \u001b[0mloss\u001b[0m \u001b[1;33m=\u001b[0m \u001b[0mtf\u001b[0m\u001b[1;33m.\u001b[0m\u001b[0mkeras\u001b[0m\u001b[1;33m.\u001b[0m\u001b[0mlosses\u001b[0m\u001b[1;33m.\u001b[0m\u001b[0mSparseCategoricalCrossentropy\u001b[0m\u001b[1;33m(\u001b[0m\u001b[0mfrom_logits\u001b[0m\u001b[1;33m=\u001b[0m\u001b[1;32mTrue\u001b[0m\u001b[1;33m)\u001b[0m\u001b[1;33m\u001b[0m\u001b[1;33m\u001b[0m\u001b[0m\n",
      "\u001b[1;32m~\\AppData\\Roaming\\Python\\Python38\\site-packages\\transformers\\modeling_tf_utils.py\u001b[0m in \u001b[0;36mfrom_pretrained\u001b[1;34m(cls, pretrained_model_name_or_path, *model_args, **kwargs)\u001b[0m\n\u001b[0;32m   1242\u001b[0m         \u001b[1;31m# see https://github.com/tensorflow/tensorflow/blob/00fad90125b18b80fe054de1055770cfb8fe4ba3/tensorflow/python/keras/engine/network.py#L1339-L1357\u001b[0m\u001b[1;33m\u001b[0m\u001b[1;33m\u001b[0m\u001b[1;33m\u001b[0m\u001b[0m\n\u001b[0;32m   1243\u001b[0m         \u001b[1;32mtry\u001b[0m\u001b[1;33m:\u001b[0m\u001b[1;33m\u001b[0m\u001b[1;33m\u001b[0m\u001b[0m\n\u001b[1;32m-> 1244\u001b[1;33m             \u001b[0mmissing_keys\u001b[0m\u001b[1;33m,\u001b[0m \u001b[0munexpected_keys\u001b[0m \u001b[1;33m=\u001b[0m \u001b[0mload_tf_weights\u001b[0m\u001b[1;33m(\u001b[0m\u001b[0mmodel\u001b[0m\u001b[1;33m,\u001b[0m \u001b[0mresolved_archive_file\u001b[0m\u001b[1;33m)\u001b[0m\u001b[1;33m\u001b[0m\u001b[1;33m\u001b[0m\u001b[0m\n\u001b[0m\u001b[0;32m   1245\u001b[0m         \u001b[1;32mexcept\u001b[0m \u001b[0mOSError\u001b[0m\u001b[1;33m:\u001b[0m\u001b[1;33m\u001b[0m\u001b[1;33m\u001b[0m\u001b[0m\n\u001b[0;32m   1246\u001b[0m             raise OSError(\n",
      "\u001b[1;32m~\\AppData\\Roaming\\Python\\Python38\\site-packages\\transformers\\modeling_tf_utils.py\u001b[0m in \u001b[0;36mload_tf_weights\u001b[1;34m(model, resolved_archive_file)\u001b[0m\n\u001b[0;32m    494\u001b[0m                     \u001b[1;31m# TF names always start with the model name so we ignore it\u001b[0m\u001b[1;33m\u001b[0m\u001b[1;33m\u001b[0m\u001b[1;33m\u001b[0m\u001b[0m\n\u001b[0;32m    495\u001b[0m                     \u001b[0mname\u001b[0m \u001b[1;33m=\u001b[0m \u001b[1;34m\"/\"\u001b[0m\u001b[1;33m.\u001b[0m\u001b[0mjoin\u001b[0m\u001b[1;33m(\u001b[0m\u001b[0mweight_name\u001b[0m\u001b[1;33m.\u001b[0m\u001b[0msplit\u001b[0m\u001b[1;33m(\u001b[0m\u001b[1;34m\"/\"\u001b[0m\u001b[1;33m)\u001b[0m\u001b[1;33m[\u001b[0m\u001b[1;36m1\u001b[0m\u001b[1;33m:\u001b[0m\u001b[1;33m]\u001b[0m\u001b[1;33m)\u001b[0m\u001b[1;33m\u001b[0m\u001b[1;33m\u001b[0m\u001b[0m\n\u001b[1;32m--> 496\u001b[1;33m                     \u001b[0msaved_weights\u001b[0m\u001b[1;33m[\u001b[0m\u001b[0mname\u001b[0m\u001b[1;33m]\u001b[0m \u001b[1;33m=\u001b[0m \u001b[0mnp\u001b[0m\u001b[1;33m.\u001b[0m\u001b[0masarray\u001b[0m\u001b[1;33m(\u001b[0m\u001b[0mh5_layer_object\u001b[0m\u001b[1;33m[\u001b[0m\u001b[0mweight_name\u001b[0m\u001b[1;33m]\u001b[0m\u001b[1;33m)\u001b[0m\u001b[1;33m\u001b[0m\u001b[1;33m\u001b[0m\u001b[0m\n\u001b[0m\u001b[0;32m    497\u001b[0m \u001b[1;33m\u001b[0m\u001b[0m\n\u001b[0;32m    498\u001b[0m                     \u001b[1;31m# Add the updated name to the final list for computing missing/unexpected values\u001b[0m\u001b[1;33m\u001b[0m\u001b[1;33m\u001b[0m\u001b[1;33m\u001b[0m\u001b[0m\n",
      "\u001b[1;32m~\\.conda\\envs\\stage1\\lib\\site-packages\\numpy\\core\\_asarray.py\u001b[0m in \u001b[0;36masarray\u001b[1;34m(a, dtype, order)\u001b[0m\n\u001b[0;32m     83\u001b[0m \u001b[1;33m\u001b[0m\u001b[0m\n\u001b[0;32m     84\u001b[0m     \"\"\"\n\u001b[1;32m---> 85\u001b[1;33m     \u001b[1;32mreturn\u001b[0m \u001b[0marray\u001b[0m\u001b[1;33m(\u001b[0m\u001b[0ma\u001b[0m\u001b[1;33m,\u001b[0m \u001b[0mdtype\u001b[0m\u001b[1;33m,\u001b[0m \u001b[0mcopy\u001b[0m\u001b[1;33m=\u001b[0m\u001b[1;32mFalse\u001b[0m\u001b[1;33m,\u001b[0m \u001b[0morder\u001b[0m\u001b[1;33m=\u001b[0m\u001b[0morder\u001b[0m\u001b[1;33m)\u001b[0m\u001b[1;33m\u001b[0m\u001b[1;33m\u001b[0m\u001b[0m\n\u001b[0m\u001b[0;32m     86\u001b[0m \u001b[1;33m\u001b[0m\u001b[0m\n\u001b[0;32m     87\u001b[0m \u001b[1;33m\u001b[0m\u001b[0m\n",
      "\u001b[1;32mh5py\\_objects.pyx\u001b[0m in \u001b[0;36mh5py._objects.with_phil.wrapper\u001b[1;34m()\u001b[0m\n",
      "\u001b[1;32mh5py\\_objects.pyx\u001b[0m in \u001b[0;36mh5py._objects.with_phil.wrapper\u001b[1;34m()\u001b[0m\n",
      "\u001b[1;32m~\\.conda\\envs\\stage1\\lib\\site-packages\\h5py\\_hl\\dataset.py\u001b[0m in \u001b[0;36m__array__\u001b[1;34m(self, dtype)\u001b[0m\n\u001b[0;32m    764\u001b[0m         \u001b[0myou\u001b[0m \u001b[0mhave\u001b[0m \u001b[0mto\u001b[0m \u001b[0mread\u001b[0m \u001b[0mthe\u001b[0m \u001b[0mwhole\u001b[0m \u001b[0mdataset\u001b[0m \u001b[0mevery\u001b[0m \u001b[0mtime\u001b[0m \u001b[0mthis\u001b[0m \u001b[0mmethod\u001b[0m \u001b[1;32mis\u001b[0m \u001b[0mcalled\u001b[0m\u001b[1;33m.\u001b[0m\u001b[1;33m\u001b[0m\u001b[1;33m\u001b[0m\u001b[0m\n\u001b[0;32m    765\u001b[0m         \"\"\"\n\u001b[1;32m--> 766\u001b[1;33m         \u001b[0marr\u001b[0m \u001b[1;33m=\u001b[0m \u001b[0mnumpy\u001b[0m\u001b[1;33m.\u001b[0m\u001b[0mempty\u001b[0m\u001b[1;33m(\u001b[0m\u001b[0mself\u001b[0m\u001b[1;33m.\u001b[0m\u001b[0mshape\u001b[0m\u001b[1;33m,\u001b[0m \u001b[0mdtype\u001b[0m\u001b[1;33m=\u001b[0m\u001b[0mself\u001b[0m\u001b[1;33m.\u001b[0m\u001b[0mdtype\u001b[0m \u001b[1;32mif\u001b[0m \u001b[0mdtype\u001b[0m \u001b[1;32mis\u001b[0m \u001b[1;32mNone\u001b[0m \u001b[1;32melse\u001b[0m \u001b[0mdtype\u001b[0m\u001b[1;33m)\u001b[0m\u001b[1;33m\u001b[0m\u001b[1;33m\u001b[0m\u001b[0m\n\u001b[0m\u001b[0;32m    767\u001b[0m \u001b[1;33m\u001b[0m\u001b[0m\n\u001b[0;32m    768\u001b[0m         \u001b[1;31m# Special case for (0,)*-shape datasets\u001b[0m\u001b[1;33m\u001b[0m\u001b[1;33m\u001b[0m\u001b[1;33m\u001b[0m\u001b[0m\n",
      "\u001b[1;31mMemoryError\u001b[0m: Unable to allocate 9.00 MiB for an array with shape (768, 3072) and data type float32"
     ]
    }
   ],
   "source": [
    "from transformers import BertTokenizer, RobertaTokenizer\n",
    "from transformers import TFBertModel, TFBertPreTrainedModel, TFBertForSequenceClassification\n",
    "from transformers import glue_convert_examples_to_features, InputExample\n",
    "import tensorflow as tf\n",
    "\n",
    "def convert_data_into_input_example(x, y):\n",
    "    input_examples = []\n",
    "    for i in tqdm(range(len(x))):\n",
    "        example = InputExample(\n",
    "            guid= None,\n",
    "            text_a= x[i],\n",
    "            text_b= None,\n",
    "            label= str(y[i])\n",
    "        )\n",
    "        input_examples.append(example)\n",
    "    return input_examples\n",
    "\n",
    "def bert_compatiable_format(bdset):  \n",
    "    input_ids, attention_mask, token_type_ids, labels = [], [], [], []\n",
    "    for in_ex in bdset:\n",
    "        input_ids.append(in_ex.input_ids)\n",
    "        attention_mask.append(in_ex.attention_mask)\n",
    "        token_type_ids.append(in_ex.token_type_ids)\n",
    "        labels.append(in_ex.label)\n",
    "\n",
    "    labels = np.vstack(labels)\n",
    "    return ([np.asarray(input_ids), np.asarray(attention_mask), np.asarray(token_type_ids)], labels)\n",
    "\n",
    "tokenizer = BertTokenizer.from_pretrained('bert-base-uncased', do_lower_case=False)\n",
    "train_input_examples = convert_data_into_input_example(X_train, y_train)\n",
    "val_input_examples = convert_data_into_input_example(X_test, y_test)\n",
    "\n",
    "\n",
    "label_list = label_encoder.transform(labels)\n",
    "label_list = [str(i) for i in label_list.tolist()]\n",
    "bert_train_dataset = glue_convert_examples_to_features(examples=train_input_examples, tokenizer=tokenizer, max_length=128, task='mrpc', label_list=label_list)\n",
    "bert_val_dataset = glue_convert_examples_to_features(examples=val_input_examples, tokenizer=tokenizer, max_length=128, task='mrpc', label_list=label_list)\n",
    "\n",
    "x_train, y_train = bert_compatiable_format(bert_train_dataset)\n",
    "x_val, y_val     = bert_compatiable_format(bert_val_dataset)\n",
    "\n",
    "def example_to_features(input_ids, attention_masks, token_type_ids, y):\n",
    "    return {\"input_ids\": input_ids,\n",
    "            \"attention_mask\": attention_masks,\n",
    "            \"token_type_ids\": token_type_ids},y\n",
    "\n",
    "\n",
    "train_ds = tf.data.Dataset.from_tensor_slices((x_train[0], x_train[1], x_train[2], y_train)).map(example_to_features).shuffle(100).batch(64)\n",
    "val_ds   = tf.data.Dataset.from_tensor_slices((x_val[0], x_val[1], x_val[2], y_val)).map(example_to_features).batch(64)\n",
    "model = TFBertForSequenceClassification.from_pretrained('bert-base-uncased')\n",
    "optimizer = tf.keras.optimizers.Adam(learning_rate=3e-5, epsilon=1e-08, clipnorm=1.0)\n",
    "loss = tf.keras.losses.SparseCategoricalCrossentropy(from_logits=True)\n",
    "metric = tf.keras.metrics.SparseCategoricalAccuracy('accuracy')\n",
    "model.compile(optimizer=optimizer, loss=loss, metrics=[metric])\n",
    "EPOCHS = 3\n",
    "\n",
    "# Train the model\n",
    "history = model.fit(train_ds, validation_data=val_ds, epochs=EPOCHS)"
   ]
  },
  {
   "cell_type": "code",
   "execution_count": null,
   "id": "01a3640d",
   "metadata": {},
   "outputs": [],
   "source": []
  },
  {
   "cell_type": "markdown",
   "id": "70213845",
   "metadata": {},
   "source": [
    "ktrain"
   ]
  },
  {
   "cell_type": "code",
   "execution_count": null,
   "id": "76521c74",
   "metadata": {},
   "outputs": [],
   "source": [
    "!pip install --user ktrain"
   ]
  },
  {
   "cell_type": "code",
   "execution_count": null,
   "id": "fd0847c7",
   "metadata": {},
   "outputs": [],
   "source": [
    "import ktrain\n",
    "from ktrain import text\n",
    "\n",
    "(x_train,  y_train), (x_test, y_test), preproc = text.texts_from_array(x_train=X_train, y_train=y_train,\n",
    "                                          x_test=X_test, y_test=y_test,\n",
    "                                          class_names=labels.tolist(),\n",
    "                                          preprocess_mode='bert',\n",
    "                                          maxlen=128)\n",
    "model = text.text_classifier('bert', train_data=(x_train, y_train), preproc=preproc)\n",
    "learner = ktrain.get_learner(model, train_data=(x_train, y_train), batch_size=6)"
   ]
  },
  {
   "cell_type": "code",
   "execution_count": null,
   "id": "df3148c1",
   "metadata": {},
   "outputs": [],
   "source": [
    "# find good learning rate\n",
    "learner.lr_find()             # briefly simulate training to find good learning rate\n",
    "learner.lr_plot()             # visually identify best learning rate\n",
    "learner.fit_onecycle(2e-5, 4)\n",
    "\n",
    "# Use a Predictor object capable of making predictions on new raw data.\n",
    "predictor = ktrain.get_predictor(learner.model, preproc)\n",
    "\n",
    "predictor.get_classes()\n",
    "\n",
    "# Predict a new document\n",
    "predictor.predict(X_test[0:1])\n",
    "\n",
    "# let's save the predictor for later use\n",
    "predictor.save('/tmp/my_predictor')\n",
    "\n",
    "# reload the predictor\n",
    "reloaded_predictor = ktrain.load_predictor('/tmp/my_predictor')\n",
    "\n",
    "# make a prediction on the same document to verify it still works\n",
    "reloaded_predictor.predict(x_test[0:1])"
   ]
  },
  {
   "cell_type": "code",
   "execution_count": null,
   "id": "8cefdb4c",
   "metadata": {},
   "outputs": [],
   "source": []
  }
 ],
 "metadata": {
  "kernelspec": {
   "display_name": "Python 3",
   "language": "python",
   "name": "python3"
  },
  "language_info": {
   "codemirror_mode": {
    "name": "ipython",
    "version": 3
   },
   "file_extension": ".py",
   "mimetype": "text/x-python",
   "name": "python",
   "nbconvert_exporter": "python",
   "pygments_lexer": "ipython3",
   "version": "3.8.8"
  }
 },
 "nbformat": 4,
 "nbformat_minor": 5
}
