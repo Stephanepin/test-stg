{
 "cells": [
  {
   "cell_type": "code",
   "execution_count": 25,
   "id": "f5da7491",
   "metadata": {},
   "outputs": [],
   "source": [
    "from sklearn.multiclass import OneVsRestClassifier\n",
    "from sklearn.svm import LinearSVC\n",
    "import numpy as np\n",
    "from numpy import random\n",
    "import gensim\n",
    "import nltk\n",
    "import pandas as pd\n",
    "import re\n",
    "\n"
   ]
  },
  {
   "cell_type": "code",
   "execution_count": 26,
   "id": "20149b69",
   "metadata": {},
   "outputs": [],
   "source": [
    "df=pd.read_excel('final_210429_tous labels.xlsx',engine='openpyxl')"
   ]
  },
  {
   "cell_type": "code",
   "execution_count": 27,
   "id": "1697016f",
   "metadata": {},
   "outputs": [],
   "source": [
    "df = df.drop(['Date de création',  'Date de modification','Nom du fichier'], axis=1)"
   ]
  },
  {
   "cell_type": "code",
   "execution_count": 28,
   "id": "e0f3cc37",
   "metadata": {},
   "outputs": [],
   "source": [
    "df['Messages']=df['Messages'].astype(str)"
   ]
  },
  {
   "cell_type": "code",
   "execution_count": 29,
   "id": "a903850e",
   "metadata": {},
   "outputs": [
    {
     "name": "stdout",
     "output_type": "stream",
     "text": [
      "943208\n"
     ]
    }
   ],
   "source": [
    "print(df['Messages'].apply(lambda x: len(x.split(' '))).sum())\n",
    "msg=df.head(2500)"
   ]
  },
  {
   "cell_type": "code",
   "execution_count": 30,
   "id": "05d7932e",
   "metadata": {},
   "outputs": [
    {
     "name": "stderr",
     "output_type": "stream",
     "text": [
      "C:\\Users\\bertille.lekeufack\\.conda\\envs\\stage1\\lib\\site-packages\\IPython\\core\\interactiveshell.py:3437: SettingWithCopyWarning: \n",
      "A value is trying to be set on a copy of a slice from a DataFrame\n",
      "\n",
      "See the caveats in the documentation: https://pandas.pydata.org/pandas-docs/stable/user_guide/indexing.html#returning-a-view-versus-a-copy\n",
      "  exec(code_obj, self.user_global_ns, self.user_ns)\n"
     ]
    }
   ],
   "source": [
    "tab=[]\n",
    "\n",
    "for i in msg.index:\n",
    "    \n",
    "    msg['Messages'][i]=re.sub('([a-zA-Z0-9_.+-]+@[a-zA-Z0-9-]+\\.[a-zA-Z0-9-.]+)', '', str(msg['Messages'][i]))#email\n",
    "    #phone\n",
    "    msg['Messages'][i]=re.sub(r\"/\\d{10}|\\+33\\d{9}|\\+33\\s\\d{1}\\s\\d{2}\\s\\d{2}\\s\\d{2}\\s\\d{2}|\\d{2}\\s\\d{2}\\s\\d{2}\\s\\d{2}\\s\\d{2}/g\",' ',str(msg['Messages'][i]))#phone francais\n",
    "    msg['Messages'][i]=re.sub(r'(^(\\+33 |0)[1-6]{1}(([0-9]{2}){4})|((\\s[0-9]{2}){4})|((-[0-9]{2}){4})$)','',str(msg['Messages'][i]))\n",
    "    msg['Messages'][i]=re.sub(\"((?:\\+\\d{2}[-\\.\\s]??|\\d{4}[-\\.\\s]??)?(?:\\d{3}[-\\.\\s]??\\d{3}[-\\.\\s]??\\d{4}|\\(\\d{3}\\)\\s*\\d{3}[-\\.\\s]??\\d{4}|\\d{3}[-\\.\\s]??\\d{4}))\",'', str(msg['Messages'][i]))#phone\n",
    "    msg['Messages'][i]=re.sub('\\(?\\d{2}\\)?[-.\\s]?\\d{2}[-.\\s]?\\d{2}[-.\\s]?\\d{2}[-.\\s]?\\d{2}','',str(msg['Messages'][i]))\n",
    "    msg['Messages'][i]=re.sub('\\(?\\d{2}\\)?[-.\\s]?\\d{2}[-.\\s]?\\d{2}[-.\\s]?\\d{2}[-.\\s]','',str(msg['Messages'][i]))\n",
    "    msg['Messages'][i]=re.sub('\\(?\\d{1}\\)?[-.\\s]?\\d{2}[-.\\s]?\\d{2}[-.\\s]?\\d{2}[-.\\s]','',str(msg['Messages'][i]))\n",
    "    msg['Messages'][i]=re.sub('\\(?\\d{2}\\)?[-.\\s]?\\d{5}[-.\\s]?\\d{3}','',str(msg['Messages'][i]))\n",
    "    msg['Messages'][i]=re.sub('\\(?\\d{1}\\)?[-.\\s]?\\d{2}[-.\\s]?\\d{2}[-.\\s]?\\d{3}','',str(msg['Messages'][i]))\n",
    "    msg['Messages'][i]=re.sub('\\(?\\d{2}\\)?[-.\\s]?\\d{3}[-.\\s]?\\d{3}[-.\\s]?\\d{3}','',str(msg['Messages'][i]))\n",
    "    #Emoji\n",
    "    emoji= re.compile(u'['u'\\U0001F300-\\U0001F64F'u'\\U0001F680-\\U0001F6FF'u'\\u2600-\\u26FF\\u2700-\\u27BF]+', re.UNICODE)\n",
    "    msg['Messages'][i]=re.sub(emoji,' ',str(msg['Messages'][i]))\n",
    "    #text\n",
    "    msg['Messages'][i]= msg['Messages'][i].replace(\"Avant d\\'imprimer cet e-mail, réfléchissez à l\\'impact sur l\\'environnementBefore you print this mail, think about the impact on the environment\",'')\n",
    "    dele = [\"Mail:\",\"Email:\",\"e-mail\",\"Email : \",\"mail\",\"Tél : +\",\"Fax : +\",\"tél.: + ()\",\"port.: + () \",\"fax.: + ()\"]\n",
    "    #df['Text'][i]= df['Text'][i].replace(dele,'')\n",
    "    msg['Messages'][i]= msg['Messages'][i].replace(\"Mail:\",'')\n",
    "    msg['Messages'][i]= msg['Messages'][i].replace(\"Email:\",'')\n",
    "    msg['Messages'][i]= msg['Messages'][i].replace(\"E-mail\",'')\n",
    "    msg['Messages'][i]= msg['Messages'][i].replace(\"Email : \",'')\n",
    "    msg['Messages'][i]= msg['Messages'][i].replace(\"mail\",'')\n",
    "    msg['Messages'][i]=re.sub(r'\\d{3}[-\\.\\s]??\\d{3}[-\\.\\s]??\\d{4}|\\(\\d{3}\\)\\s*\\d{3}[-\\.\\s]??\\d{4}|\\d{3}[-\\.\\s]??\\d{4}','',str(msg['Messages'][i]))\n",
    "    #df['Text'][i]=re.sub(r'\\d+','',str(df['Text'][i]))#Tél : +      Fax : +, tél.: + ()       fax.: + ()      port.: + () \n",
    "    msg['Messages'][i]= re.sub(\"http[s]?://(?:[a-zA-Z]|[0-9]|[$-_@.&+]|[!*\\(\\),]|(?:%[0-9a-fA-F][0-9a-fA-F]))+\",'',msg['Messages'][i])#url\n",
    "    msg['Messages'][i]= re.sub('(https?:\\/\\/(?:www\\.|(?!www))[a-zA-Z0-9][a-zA-Z0-9-]+[a-zA-Z0-9]\\.[^\\s]{2,}|www\\.[a-zA-Z0-9][a-zA-Z0-9-]+[a-zA-Z0-9]\\.[^\\s]{2,}|https?:\\/\\/(?:www\\.|(?!www))[a-zA-Z0-9]+\\.[^\\s]{2,}|www\\.[a-zA-Z0-9]+\\.[^\\s]{2,})',' ',str(msg['Messages'][i]))#url www\n",
    "    msg['Messages'][i]= re.sub('Ce message et toutes les Pieces jointes (ci apres : le message) sont etablis a l\\'intention exclusive de ses destinataires et sont confidentiels.Toute utilisation de ce message non conforme a sa destination, toute diffusion ou toute publication totale ou partielle est interdite sauf autorisation prealable.Si vous recevez ce message par erreur, merci de le detruire et d\\' avertir immediatement l\\'expediteur.Les communications sur Internet n\\'etant pas securisees, le Groupe APRR decline toute responsabilite quant au contenu de ce message.This message and all attached documents (hereafter \"the message\") are intended for the exclusive attention of its recipients and are confidential. Any use of this message, for which it was not intended, any distribution or any total or partial publication is prohibited unless previously approved.If you receive this message in error, please destroy it and immediately notify the sender thereof.Since communication by Internet is not secure, Group APRR cannot accept any responsibility regarding the contents of this message.',' ',str(msg['Messages'][i]))\n",
    "    #df['Text'][i]= re.sub('SCAN <>Cet  a été envoyé par \"copieurRICOH\" (MP C3004ex).Date de numérisation: 07.08.2020 17:17:25 (+0200)Contacter si besoin :  ','',str(df['Text'][i]))\n",
    "    msg['Messages'][i]= re.sub('Ce message est généré automatiquement. Merci de ne pas y répondre.',' ',str(msg['Messages'][i]))\n",
    "    msg['Messages'][i]= re.sub('Ce message et toutes les Pieces jointes (ci apres : le message) sont etablis a l\\'intention exclusive de ses destinataires et sont confidentiels.Toute utilisation de ce message non conforme a sa destination, toute diffusion ou toute publication totale ou partielle est interdite sauf autorisation prealable.Si vous recevez ce message par erreur, merci de le detruire et d\\' avertir immediatement l\\'expediteur.Les communications sur Internet n\\'etant pas securisees, le Groupe APRR decline toute responsabilite quant au contenu de ce message.This message and all attached documents (hereafter \"the message\") are intended for the exclusive attention of its recipients and are confidential. Any use of this message, for which it was not intended, any distribution or any total or partial publication is prohibited unless previously approved.If you receive this message in error, please destroy it and immediately notify the sender thereof.Since communication by Internet is not secure, Group APRR cannot accept any responsibility regarding the contents of this message.',' ',str(msg['Messages'][i]))\n",
    "    msg['Messages'][i]= re.sub('This message and any attachments are confidential and intended for the named addressee(s) only.If you have received this message in error, please notify immediately the sender, then deletethe message. Any unauthorized modification, edition, use or dissemination is prohibited.The sender shall not be liable for this message if it has been modified, altered, falsified, infectedby a virus or even edited or disseminated without authorization.',' ',str(msg['Messages'][i]))\n",
    "    msg['Messages'][i]= re.sub('This  transmission (message and any attached files) may contain information that is proprietary, privileged and/or confidential to Veolia Environnement and/or its affiliates and is intended exclusively for the person(s) to whom it is addressed. If you are not the intended recipient, please notify the sender by return  and delete all copies of this , including all attachments. Unless expressly authorized, any use, disclosure, publication, retransmission or dissemination of this  and/or of its attachments is strictly prohibited. Ce message electronique et ses fichiers attaches sont strictement confidentiels et peuvent contenir des elements dont Veolia Environnement et/ou l\\'une de ses entites affiliees sont proprietaires. Ils sont donc destines a l\\'usage de leurs seuls destinataires. Si vous avez recu ce message par erreur, merci de le retourner a son emetteur et de le detruire ainsi que toutes les pieces attachees. L\\'utilisation, la divulgation, la publication, la distribution, ou la reproduction non expressement autorisees de ce message et de ses pieces attachees sont interdites.',' ',str(msg['Messages'][i]))\n",
    "    msg['Messages'][i]= re.sub('This  transmission (message and any attached files) may contain information that is proprietary, privileged and/or confidential to Veolia Environnement and/or its affiliates and is intended exclusively for the person(s) to whom it is addressed. If you are not the intended recipient, please notify the sender by return  and delete all copies of this , including all attachments. Unless expressly authorized, any use, disclosure, publication, retransmission or dissemination of this  and/or of its attachments is strictly prohibited.  Ce message electronique et ses fichiers attaches sont strictement confidentiels et peuvent contenir des elements dont Veolia Environnement et/ou l\\'une de ses entites affiliees sont proprietaires. Ils sont donc destines a l\\'usage de leurs seuls destinataires. Si vous avez recu ce message par erreur, merci de le retourner a son emetteur et de le detruire ainsi que toutes les pieces attachees. L\\'utilisation, la divulgation, la publication, la distribution, ou la reproduction non expressement autorisees de ce message et de ses pieces attachees sont interdites.',' ',str(msg['Messages'][i]))\n",
    "    msg['Messages'][i]= re.sub('Le contenu de ce message est strictement réservé à l\\'usage exclusif de son destinataire et contient de l\\'information privilégiée et confidentielle. Toute lecture, divulgation, distribution ou copie non autorisée de cette communication est formellement interdite. Si vous avez reçu cette communication par erreur, veuillez la détruire immédiatement.','',str(msg['Messages'][i]))\n",
    "    msg['Messages'][i]= re.sub('Ce message et toutes les Pieces jointes (ci apres : le message) sont etablis a l\\'intention exclusive de ses destinataires et sont confidentiels.Toute utilisation de ce message non conforme a sa destination, toute diffusion ou toute publication totale ou partielle est interdite sauf autorisation prealable.Si vous recevez ce message par erreur, merci de le detruire et d\\' avertir immediatement l\\'expediteur.Les communications sur Internet n\\'etant pas securisees, le Groupe APRR decline toute responsabilite quant au contenu de ce message.This message and all attached documents (hereafter \"the message\") are intended for the exclusive attention of its recipients and are confidential. Any use of this message, for which it was not intended, any distribution or any total or partial publication is prohibited unless previously approved.If you receive this message in error, please destroy it and immediately notify the sender thereof.Since communication by Internet is not secure, Group APRR cannot accept any responsibility regarding the contents of this message.',' ',str(msg['Messages'][i]))\n",
    "    msg['Messages'][i]= re.sub('Ce message et les pièces jointes sont confidentiels et établis à l\\'attention exclusive de ses destinataires. Toute utilisation ou diffusion, même partielle, non autorisée est interdite. Tout message électronique est susceptible d\\'altération. Brink\\'s décline toute responsabilité au titre de ce message s\\'il a été altéré, déformé ou falsifié. Si vous n\\'êtes pas le destinataire de ce message, merci de le détruire et d\\'avertir l\\'expéditeur. This message and any attachments are confidential and intended solely for the addressees. Any unauthorized use or disclosure, either whole or partial is prohibited. E-s are susceptible to alteration. Brink\\'s shall not be liable for the message if altered, changed or falsified. If you are not the intended recipient of this message, please delete it and notify the sender.',' ',str(msg['Messages'][i]))\n",
    "    msg['Messages'][i]= re.sub('Ce message et toutes les Pieces jointes (ci apres : le message) sont etablis a l\\'intention exclusive de ses destinataires et sont confidentiels.Toute utilisation de ce message non conforme a sa destination, toute diffusion ou toute publication totale ou partielle est interdite sauf autorisation prealable.Si vous recevez ce message par erreur, merci de le detruire et d\\' avertir immediatement l\\'expediteur.Les communications sur Internet n\\'etant pas securisees, le Groupe APRR decline toute responsabilite quant au contenu de ce message.','',str(msg['Messages'][i]))\n",
    "  "
   ]
  },
  {
   "cell_type": "code",
   "execution_count": 31,
   "id": "55237dc1",
   "metadata": {},
   "outputs": [],
   "source": [
    "from langdetect import detect"
   ]
  },
  {
   "cell_type": "code",
   "execution_count": 32,
   "id": "c7bb4378",
   "metadata": {},
   "outputs": [
    {
     "name": "stdout",
     "output_type": "stream",
     "text": [
      "This row throws error:  \n",
      "This row throws error: ‌\n",
      "This row throws error:    \n",
      "This row throws error:    \n",
      "This row throws error:    \n",
      "This row throws error:    \n",
      "This row throws error:    \n"
     ]
    }
   ],
   "source": [
    "texl70 = msg['Messages']\n",
    "langdet = []\n",
    "    \n",
    "for i in range(len(msg)):                                         \n",
    "    try:                                                          \n",
    "        lang=detect(texl70[i])                                      \n",
    "    except:                                                       \n",
    "        lang=''                                                  \n",
    "        print(\"This row throws error:\", texl70[i])                 \n",
    "    langdet.append(lang)     "
   ]
  },
  {
   "cell_type": "code",
   "execution_count": 33,
   "id": "4681d679",
   "metadata": {},
   "outputs": [
    {
     "name": "stderr",
     "output_type": "stream",
     "text": [
      "<ipython-input-33-502140c9bd2f>:1: SettingWithCopyWarning: \n",
      "A value is trying to be set on a copy of a slice from a DataFrame.\n",
      "Try using .loc[row_indexer,col_indexer] = value instead\n",
      "\n",
      "See the caveats in the documentation: https://pandas.pydata.org/pandas-docs/stable/user_guide/indexing.html#returning-a-view-versus-a-copy\n",
      "  msg['lang']=langdet\n"
     ]
    },
    {
     "data": {
      "text/html": [
       "<div>\n",
       "<style scoped>\n",
       "    .dataframe tbody tr th:only-of-type {\n",
       "        vertical-align: middle;\n",
       "    }\n",
       "\n",
       "    .dataframe tbody tr th {\n",
       "        vertical-align: top;\n",
       "    }\n",
       "\n",
       "    .dataframe thead th {\n",
       "        text-align: right;\n",
       "    }\n",
       "</style>\n",
       "<table border=\"1\" class=\"dataframe\">\n",
       "  <thead>\n",
       "    <tr style=\"text-align: right;\">\n",
       "      <th></th>\n",
       "      <th>Messages</th>\n",
       "      <th>catégorie</th>\n",
       "      <th>lang</th>\n",
       "    </tr>\n",
       "  </thead>\n",
       "  <tbody>\n",
       "    <tr>\n",
       "      <th>0</th>\n",
       "      <td>Bonjour,Ci-joint le mandat sepa et le rib.Cord...</td>\n",
       "      <td>contrat</td>\n",
       "      <td>fr</td>\n",
       "    </tr>\n",
       "    <tr>\n",
       "      <th>1</th>\n",
       "      <td>DANIEL   GUEGANSOCIETE DES TRANSPORTS GUEGANCl...</td>\n",
       "      <td>commande de badge</td>\n",
       "      <td>fr</td>\n",
       "    </tr>\n",
       "    <tr>\n",
       "      <th>2</th>\n",
       "      <td>Bonjour, J’ai essayé de faire la modification...</td>\n",
       "      <td>contrat</td>\n",
       "      <td>fr</td>\n",
       "    </tr>\n",
       "    <tr>\n",
       "      <th>3</th>\n",
       "      <td>Bonjour, merci de me faire un badge avec la gé...</td>\n",
       "      <td>commande de badge</td>\n",
       "      <td>fr</td>\n",
       "    </tr>\n",
       "    <tr>\n",
       "      <th>4</th>\n",
       "      <td>No Message</td>\n",
       "      <td>no message</td>\n",
       "      <td>de</td>\n",
       "    </tr>\n",
       "  </tbody>\n",
       "</table>\n",
       "</div>"
      ],
      "text/plain": [
       "                                            Messages          catégorie lang\n",
       "0  Bonjour,Ci-joint le mandat sepa et le rib.Cord...            contrat   fr\n",
       "1  DANIEL   GUEGANSOCIETE DES TRANSPORTS GUEGANCl...  commande de badge   fr\n",
       "2   Bonjour, J’ai essayé de faire la modification...            contrat   fr\n",
       "3  Bonjour, merci de me faire un badge avec la gé...  commande de badge   fr\n",
       "4                                         No Message         no message   de"
      ]
     },
     "execution_count": 33,
     "metadata": {},
     "output_type": "execute_result"
    }
   ],
   "source": [
    "msg['lang']=langdet\n",
    "msg.head()"
   ]
  },
  {
   "cell_type": "code",
   "execution_count": 34,
   "id": "dfee04b7",
   "metadata": {},
   "outputs": [
    {
     "data": {
      "text/plain": [
       "(1735, 3)"
      ]
     },
     "execution_count": 34,
     "metadata": {},
     "output_type": "execute_result"
    }
   ],
   "source": [
    "msg=msg.loc[msg['lang']=='fr']\n",
    "msg.shape"
   ]
  },
  {
   "cell_type": "code",
   "execution_count": 35,
   "id": "e92e5769",
   "metadata": {},
   "outputs": [],
   "source": [
    "import seaborn as sns"
   ]
  },
  {
   "cell_type": "code",
   "execution_count": 36,
   "id": "143cfda5",
   "metadata": {},
   "outputs": [
    {
     "data": {
      "image/png": "[encoded data removed]",
      "text/plain": [
       "<Figure size 864x288 with 1 Axes>"
      ]
     },
     "metadata": {
      "needs_background": "light"
     },
     "output_type": "display_data"
    }
   ],
   "source": [
    "import matplotlib.pyplot as plt\n",
    "my_tags = msg['catégorie']\n",
    "plt.figure(figsize=(12,4))\n",
    "my_tags.value_counts().plot(kind='bar');"
   ]
  },
  {
   "cell_type": "code",
   "execution_count": 37,
   "id": "c80a520f",
   "metadata": {},
   "outputs": [],
   "source": [
    "from sklearn.model_selection import train_test_split\n",
    "\n",
    "X_train, X_test, y_train, y_test = train_test_split(msg['Messages'],\n",
    "                               msg['catégorie'],stratify=msg['catégorie'],test_size=0.20, random_state=42\n",
    ")"
   ]
  },
  {
   "cell_type": "code",
   "execution_count": 38,
   "id": "cdc7eb33",
   "metadata": {},
   "outputs": [],
   "source": [
    "from imblearn.pipeline import Pipeline, make_pipeline\n",
    "from sklearn.feature_extraction.text import CountVectorizer\n",
    "from sklearn.feature_extraction.text import TfidfTransformer\n",
    "from imblearn.under_sampling import RandomUnderSampler\n",
    "from imblearn.over_sampling import RandomOverSampler \n",
    "from collections import Counter\n",
    "from sklearn.metrics import accuracy_score, confusion_matrix\n",
    "from sklearn.preprocessing import MinMaxScaler\n",
    "from sklearn.preprocessing import StandardScaler\n",
    "from imblearn.under_sampling import NearMiss\n",
    "from sklearn.preprocessing import MaxAbsScaler\n",
    "from sklearn.naive_bayes import MultinomialNB\n",
    "from sklearn.metrics import classification_report\n",
    "from sklearn.linear_model import LogisticRegression\n",
    "from sklearn.multiclass import OneVsOneClassifier\n",
    "from sklearn.multiclass import OutputCodeClassifier"
   ]
  },
  {
   "cell_type": "code",
   "execution_count": 39,
   "id": "191c87f6",
   "metadata": {},
   "outputs": [],
   "source": [
    "from imblearn.over_sampling import SMOTE"
   ]
  },
  {
   "cell_type": "code",
   "execution_count": null,
   "id": "2f12528d",
   "metadata": {},
   "outputs": [],
   "source": []
  },
  {
   "cell_type": "code",
   "execution_count": 45,
   "id": "1521854a",
   "metadata": {},
   "outputs": [
    {
     "name": "stdout",
     "output_type": "stream",
     "text": [
      "accuracy 0.590778097982709\n",
      "                                precision    recall  f1-score   support\n",
      "\n",
      "             commande de badge       0.67      0.86      0.75        93\n",
      "                       contrat       0.60      0.70      0.65       130\n",
      "      demande de renseignement       0.29      0.24      0.26        42\n",
      "                 interne Axxès       0.77      0.59      0.67        17\n",
      "            remplacement badge       0.00      0.00      0.00        15\n",
      "         renseignement facture       0.65      0.48      0.55        23\n",
      "           réclamation facture       0.33      0.09      0.14        11\n",
      "        réclamation logistique       0.00      0.00      0.00         5\n",
      "réclamation qualité de service       0.67      0.18      0.29        11\n",
      "\n",
      "                      accuracy                           0.59       347\n",
      "                     macro avg       0.44      0.35      0.37       347\n",
      "                  weighted avg       0.55      0.59      0.56       347\n",
      "\n"
     ]
    }
   ],
   "source": [
    "\n",
    "k=2\n",
    "seed=6\n",
    "logreg = Pipeline([('vect', CountVectorizer()),\n",
    "                ('tfidf', TfidfTransformer()),\n",
    "                #('under', RandomOverSampler()),#sampling_strategy=ss\n",
    "                #('smote', SMOTE(random_state=seed,k_neighbors=k, sampling_strategy = 'minority')),\n",
    "                ('clf', OneVsRestClassifier(LinearSVC(random_state=0))),\n",
    "                \n",
    "               ])\n",
    "logreg.fit(X_train, y_train)\n",
    "\n",
    "\n",
    "y_pred = logreg.predict(X_test)\n",
    "\n",
    "print('accuracy %s' % accuracy_score(y_pred, y_test))\n",
    "print(classification_report(y_test, y_pred,labels=np.unique(y_pred)))"
   ]
  },
  {
   "cell_type": "code",
   "execution_count": 42,
   "id": "fd0a5386",
   "metadata": {},
   "outputs": [
    {
     "data": {
      "text/plain": [
       "(347,)"
      ]
     },
     "execution_count": 42,
     "metadata": {},
     "output_type": "execute_result"
    }
   ],
   "source": [
    "X_test.shape"
   ]
  },
  {
   "cell_type": "code",
   "execution_count": null,
   "id": "33f7b101",
   "metadata": {},
   "outputs": [],
   "source": [
    "logreg.predict('no message')"
   ]
  },
  {
   "cell_type": "code",
   "execution_count": 46,
   "id": "d2218eca",
   "metadata": {},
   "outputs": [
    {
     "data": {
      "text/plain": [
       "set()"
      ]
     },
     "execution_count": 46,
     "metadata": {},
     "output_type": "execute_result"
    }
   ],
   "source": [
    "set(y_test)-set(y_pred)"
   ]
  },
  {
   "cell_type": "code",
   "execution_count": null,
   "id": "6d48d4fc",
   "metadata": {},
   "outputs": [],
   "source": []
  },
  {
   "cell_type": "code",
   "execution_count": null,
   "id": "465f4738",
   "metadata": {},
   "outputs": [],
   "source": []
  }
 ],
 "metadata": {
  "kernelspec": {
   "display_name": "Python 3",
   "language": "python",
   "name": "python3"
  },
  "language_info": {
   "codemirror_mode": {
    "name": "ipython",
    "version": 3
   },
   "file_extension": ".py",
   "mimetype": "text/x-python",
   "name": "python",
   "nbconvert_exporter": "python",
   "pygments_lexer": "ipython3",
   "version": "3.8.8"
  }
 },
 "nbformat": 4,
 "nbformat_minor": 5
}
