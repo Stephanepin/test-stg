{
 "cells": [
  {
   "cell_type": "code",
   "execution_count": 1,
   "id": "9d527022",
   "metadata": {},
   "outputs": [
    {
     "data": {
      "text/html": [
       "        <script type=\"text/javascript\">\n",
       "        window.PlotlyConfig = {MathJaxConfig: 'local'};\n",
       "        if (window.MathJax) {MathJax.Hub.Config({SVG: {font: \"STIX-Web\"}});}\n",
       "        if (typeof require !== 'undefined') {\n",
       "        require.undef(\"plotly\");\n",
       "        requirejs.config({\n",
       "            paths: {\n",
       "                'plotly': ['https://cdn.plot.ly/plotly-latest.min']\n",
       "            }\n",
       "        });\n",
       "        require(['plotly'], function(Plotly) {\n",
       "            window._Plotly = Plotly;\n",
       "        });\n",
       "        }\n",
       "        </script>\n",
       "        "
      ]
     },
     "metadata": {},
     "output_type": "display_data"
    }
   ],
   "source": [
    "import seaborn as sns\n",
    "from keras.preprocessing.text import Tokenizer\n",
    "from keras.preprocessing.sequence import pad_sequences\n",
    "from keras.models import Sequential\n",
    "from keras.layers import Dense, Embedding, LSTM, SpatialDropout1D\n",
    "from tensorflow.keras.layers import Bidirectional, GlobalMaxPool1D\n",
    "from tensorflow.keras import initializers, regularizers, constraints, optimizers, layers\n",
    "from sklearn.model_selection import train_test_split\n",
    "from keras.utils.np_utils import to_categorical\n",
    "from keras.callbacks import EarlyStopping\n",
    "from keras.layers import Dropout\n",
    "import re\n",
    "from nltk.corpus import stopwords\n",
    "from nltk import word_tokenize\n",
    "#STOPWORDS = set(stopwords.words('french'))\n",
    "import plotly.graph_objs as go\n",
    "import matplotlib.pyplot as plt\n",
    "import cufflinks\n",
    "from IPython.core.interactiveshell import InteractiveShell\n",
    "import plotly.figure_factory as ff\n",
    "InteractiveShell.ast_node_interactivity = 'all'\n",
    "from plotly.offline import iplot\n",
    "cufflinks.go_offline()\n",
    "cufflinks.set_config_file(world_readable=True, theme='pearl')"
   ]
  },
  {
   "cell_type": "code",
   "execution_count": 3,
   "id": "a123a7ed",
   "metadata": {},
   "outputs": [],
   "source": [
    "import pandas as pd\n",
    "df=  pd.read_excel('final_210504_tous labels.xlsx',engine='openpyxl')\n",
    "df=df.head(2800)\n",
    "col=['Messages','catégorie']\n",
    "df=df[col]"
   ]
  },
  {
   "cell_type": "code",
   "execution_count": 4,
   "id": "44b3834b",
   "metadata": {},
   "outputs": [],
   "source": [
    "df = df[pd.notna(df['Messages'])].reset_index(drop=True)"
   ]
  },
  {
   "cell_type": "code",
   "execution_count": null,
   "id": "1ccc3d18",
   "metadata": {},
   "outputs": [],
   "source": [
    "df.replace({'catégorie': \n",
    "             {\n",
    "              'renseignement facture': 'demande de renseignement,réclamation qualité de service,impayé,renseignement facture',\n",
    "             'réclamation qualité de service': 'demande de renseignement,réclamation qualité de service,impayé,renseignement facture',\n",
    "             'contrat': 'no message,contrat,interne Axxès',\n",
    "              'demande de renseignement':'demande de renseignement,réclamation qualité de service,impayé,renseignement facture',\n",
    "              'no message':'no message,contrat,interne Axxès',\n",
    "              'interne Axxès':'no message,contrat,interne Axxès'\n",
    "             # 'impayé,renseignement facture':'demande de renseignement,réclamation qualité de service,impayé,renseignement facture'\n",
    "             }}, \n",
    "            inplace= True)"
   ]
  },
  {
   "cell_type": "code",
   "execution_count": 5,
   "id": "028ed6f5",
   "metadata": {},
   "outputs": [],
   "source": [
    "#df.replace({'catégorie': \n",
    "             {'commande de badge': 'badge', \n",
    "              'renseignement facture': 'demande de renseignement,réclamation qualité de service',\n",
    "             'réclamation qualité de service': 'demande de renseignement,réclamation qualité de service',\n",
    "             'AFM': 'AFM,contrat,interne Axxès',\n",
    "             'contrat': 'AFM,contrat,interne Axxès',\n",
    "              'impayé':'demande de renseignement,réclamation qualité de service',\n",
    "              'demande de renseignement':'demande de renseignement,réclamation qualité de service',\n",
    "              'no message':'AFM,contrat,interne Axxès',\n",
    "              'AFM,contrat':'AFM,contrat,interne Axxès',\n",
    "              'interne Axxès':'AFM,contrat,interne Axxès',\n",
    "              'impayé,renseignement facture':'demande de renseignement,réclamation qualité de service'}\n",
    "            # }}, \n",
    "           # inplace= True)"
   ]
  },
  {
   "cell_type": "code",
   "execution_count": 6,
   "id": "a5b61846",
   "metadata": {},
   "outputs": [],
   "source": [
    "from langdetect import detect"
   ]
  },
  {
   "cell_type": "code",
   "execution_count": 7,
   "id": "48bc3e19",
   "metadata": {},
   "outputs": [
    {
     "name": "stdout",
     "output_type": "stream",
     "text": [
      "This row throws error:  \n",
      "This row throws error: ‌\n",
      "This row throws error:    \n",
      "This row throws error:    \n",
      "This row throws error:    \n",
      "This row throws error:    \n",
      "This row throws error:    \n",
      "This row throws error: lyon@axxes.fr\n",
      "This row throws error: lyon@axxes.fr\n"
     ]
    }
   ],
   "source": [
    "texl70 = df['Messages']\n",
    "langdet = []\n",
    "    \n",
    "for i in range(len(df)):                                         \n",
    "    try:                                                          \n",
    "        lang=detect(texl70[i])                                      \n",
    "    except:                                                       \n",
    "        lang=''                                                  \n",
    "        print(\"This row throws error:\", texl70[i])                 \n",
    "    langdet.append(lang) "
   ]
  },
  {
   "cell_type": "code",
   "execution_count": 8,
   "id": "78f5fc37",
   "metadata": {},
   "outputs": [
    {
     "data": {
      "text/html": [
       "<div>\n",
       "<style scoped>\n",
       "    .dataframe tbody tr th:only-of-type {\n",
       "        vertical-align: middle;\n",
       "    }\n",
       "\n",
       "    .dataframe tbody tr th {\n",
       "        vertical-align: top;\n",
       "    }\n",
       "\n",
       "    .dataframe thead th {\n",
       "        text-align: right;\n",
       "    }\n",
       "</style>\n",
       "<table border=\"1\" class=\"dataframe\">\n",
       "  <thead>\n",
       "    <tr style=\"text-align: right;\">\n",
       "      <th></th>\n",
       "      <th>Messages</th>\n",
       "      <th>catégorie</th>\n",
       "      <th>lang</th>\n",
       "    </tr>\n",
       "  </thead>\n",
       "  <tbody>\n",
       "    <tr>\n",
       "      <th>0</th>\n",
       "      <td>Bonjour,Ci-joint le mandat sepa et le rib.Cord...</td>\n",
       "      <td>AFM,contrat,interne Axxès</td>\n",
       "      <td>fr</td>\n",
       "    </tr>\n",
       "    <tr>\n",
       "      <th>1</th>\n",
       "      <td>DANIEL   GUEGANSOCIETE DES TRANSPORTS GUEGANCl...</td>\n",
       "      <td>badge</td>\n",
       "      <td>fr</td>\n",
       "    </tr>\n",
       "    <tr>\n",
       "      <th>2</th>\n",
       "      <td>Bonjour, J’ai essayé de faire la modification...</td>\n",
       "      <td>AFM,contrat,interne Axxès</td>\n",
       "      <td>fr</td>\n",
       "    </tr>\n",
       "    <tr>\n",
       "      <th>3</th>\n",
       "      <td>Bonjour, merci de me faire un badge avec la gé...</td>\n",
       "      <td>badge</td>\n",
       "      <td>fr</td>\n",
       "    </tr>\n",
       "    <tr>\n",
       "      <th>4</th>\n",
       "      <td>No Message</td>\n",
       "      <td>AFM,contrat,interne Axxès</td>\n",
       "      <td>de</td>\n",
       "    </tr>\n",
       "  </tbody>\n",
       "</table>\n",
       "</div>"
      ],
      "text/plain": [
       "                                            Messages  \\\n",
       "0  Bonjour,Ci-joint le mandat sepa et le rib.Cord...   \n",
       "1  DANIEL   GUEGANSOCIETE DES TRANSPORTS GUEGANCl...   \n",
       "2   Bonjour, J’ai essayé de faire la modification...   \n",
       "3  Bonjour, merci de me faire un badge avec la gé...   \n",
       "4                                         No Message   \n",
       "\n",
       "                   catégorie lang  \n",
       "0  AFM,contrat,interne Axxès   fr  \n",
       "1                      badge   fr  \n",
       "2  AFM,contrat,interne Axxès   fr  \n",
       "3                      badge   fr  \n",
       "4  AFM,contrat,interne Axxès   de  "
      ]
     },
     "execution_count": 8,
     "metadata": {},
     "output_type": "execute_result"
    }
   ],
   "source": [
    "df['lang']=langdet\n",
    "df.head()"
   ]
  },
  {
   "cell_type": "code",
   "execution_count": 9,
   "id": "a7bbfbe2",
   "metadata": {},
   "outputs": [
    {
     "data": {
      "text/plain": [
       "(1979, 3)"
      ]
     },
     "execution_count": 9,
     "metadata": {},
     "output_type": "execute_result"
    }
   ],
   "source": [
    "df=df.loc[df['lang']=='fr']\n",
    "df.shape"
   ]
  },
  {
   "cell_type": "code",
   "execution_count": 10,
   "id": "c96c2262",
   "metadata": {},
   "outputs": [],
   "source": [
    "\n",
    "df = df.reset_index(drop=True)\n",
    "REPLACE_BY_SPACE_RE = re.compile('[/(){}\\[\\]\\|@,;]')\n",
    "BAD_SYMBOLS_RE = re.compile('[^0-9a-z #+_]')\n",
    "STOPWORDS = stopwords.words('french')\n",
    "\n",
    "def clean_text(text):\n",
    "    \"\"\"\n",
    "        text: a string\n",
    "        \n",
    "        return: modified initial string\n",
    "    \"\"\"\n",
    "    text = text.lower() # lowercase text\n",
    "    text = REPLACE_BY_SPACE_RE.sub(' ', text) # replace REPLACE_BY_SPACE_RE symbols by space in text. substitute the matched string in REPLACE_BY_SPACE_RE with space.\n",
    "    text = BAD_SYMBOLS_RE.sub('', text) # remove symbols which are in BAD_SYMBOLS_RE from text. substitute the matched string in BAD_SYMBOLS_RE with nothing. \n",
    "    text = text.replace('x', '')\n",
    "#    text = re.sub(r'\\W+', '', text)\n",
    "    text = ' '.join(word for word in text.split() if word not in STOPWORDS) # remove stopwors from text\n",
    "    return text\n",
    "df['Messages'] = df['Messages'].apply(clean_text)"
   ]
  },
  {
   "cell_type": "code",
   "execution_count": 11,
   "id": "64730ef0",
   "metadata": {},
   "outputs": [
    {
     "name": "stderr",
     "output_type": "stream",
     "text": [
      "<ipython-input-11-e4cee01fe284>:1: FutureWarning:\n",
      "\n",
      "The default value of regex will change from True to False in a future version.\n",
      "\n"
     ]
    }
   ],
   "source": [
    "df['Messages'] = df['Messages'].str.replace('\\d+', '')"
   ]
  },
  {
   "cell_type": "code",
   "execution_count": 12,
   "id": "2d1f628c",
   "metadata": {},
   "outputs": [
    {
     "name": "stdout",
     "output_type": "stream",
     "text": [
      "Found 26226 unique tokens.\n"
     ]
    }
   ],
   "source": [
    "MAX_NB_WORDS = 50000\n",
    "# Max number of words in each complaint.\n",
    "MAX_SEQUENCE_LENGTH = 250\n",
    "# This is fixed.\n",
    "EMBEDDING_DIM = 100\n",
    "\n",
    "tokenizer = Tokenizer(num_words=MAX_NB_WORDS, filters='!\"#$%&()*+,-./:;<=>?@[\\]^_`{|}~', lower=True)\n",
    "tokenizer.fit_on_texts(df['Messages'].values)\n",
    "word_index = tokenizer.word_index\n",
    "print('Found %s unique tokens.' % len(word_index))"
   ]
  },
  {
   "cell_type": "code",
   "execution_count": 13,
   "id": "bfc9cf6e",
   "metadata": {},
   "outputs": [
    {
     "name": "stdout",
     "output_type": "stream",
     "text": [
      "Shape of data tensor: (1979, 250)\n"
     ]
    }
   ],
   "source": [
    "X = tokenizer.texts_to_sequences(df['Messages'].values)\n",
    "X = pad_sequences(X, maxlen=MAX_SEQUENCE_LENGTH)\n",
    "print('Shape of data tensor:', X.shape)"
   ]
  },
  {
   "cell_type": "code",
   "execution_count": 14,
   "id": "e2a7c208",
   "metadata": {},
   "outputs": [
    {
     "name": "stdout",
     "output_type": "stream",
     "text": [
      "Shape of label tensor: (1979, 3)\n"
     ]
    }
   ],
   "source": [
    "Y = pd.get_dummies(df['catégorie']).values\n",
    "print('Shape of label tensor:', Y.shape)"
   ]
  },
  {
   "cell_type": "code",
   "execution_count": 15,
   "id": "bcf04fc2",
   "metadata": {},
   "outputs": [
    {
     "name": "stdout",
     "output_type": "stream",
     "text": [
      "(1583, 250) (1583, 3)\n",
      "(396, 250) (396, 3)\n"
     ]
    }
   ],
   "source": [
    "X_train, X_test, Y_train, Y_test = train_test_split(X,Y, test_size = 0.20, random_state = 42)\n",
    "print(X_train.shape,Y_train.shape)\n",
    "print(X_test.shape,Y_test.shape)\n"
   ]
  },
  {
   "cell_type": "code",
   "execution_count": 16,
   "id": "02ce7ac4",
   "metadata": {},
   "outputs": [],
   "source": [
    "import tensorflow as tf\n",
    "class Attention(tf.keras.Model):\n",
    "    def __init__(self, units):\n",
    "        super(Attention, self).__init__()\n",
    "        self.W1 = tf.keras.layers.Dense(units)\n",
    "        self.W2 = tf.keras.layers.Dense(units)\n",
    "        self.V = tf.keras.layers.Dense(1)\n",
    "\n",
    "    def call(self, features, hidden):\n",
    "        # hidden shape == (batch_size, hidden size)\n",
    "        # hidden_with_time_axis shape == (batch_size, 1, hidden size)\n",
    "        # we are doing this to perform addition to calculate the score\n",
    "        hidden_with_time_axis = tf.expand_dims(hidden, 1)\n",
    "          \n",
    "        # score shape == (batch_size, max_length, 1)\n",
    "        # we get 1 at the last axis because we are applying score to self.V\n",
    "        # the shape of the tensor before applying self.V is (batch_size, max_length, units)\n",
    "        score = tf.nn.tanh(\n",
    "            self.W1(features) + self.W2(hidden_with_time_axis))\n",
    "        # attention_weights shape == (batch_size, max_length, 1)\n",
    "        attention_weights = tf.nn.softmax(self.V(score), axis=1)\n",
    "          \n",
    "        # context_vector shape after sum == (batch_size, hidden_size)\n",
    "        context_vector = attention_weights * features\n",
    "        context_vector = tf.reduce_sum(context_vector, axis=1)\n",
    "        return context_vector, attention_weights"
   ]
  },
  {
   "cell_type": "code",
   "execution_count": 17,
   "id": "72a976e5",
   "metadata": {},
   "outputs": [],
   "source": [
    "from tensorflow.keras.layers import Concatenate, Dense, Input, LSTM, Embedding, Dropout, Activation, GRU, Flatten\n",
    "from tensorflow.keras.layers import Bidirectional, GlobalMaxPool1D\n",
    "MAX_LEN = 250\n",
    "MAX_FEATURES = 20000\n",
    "EMBED_SIZE = 128\n",
    "RNN_CELL_SIZE = 32\n",
    "sequence_input = Input(shape=(MAX_LEN,), dtype=\"int32\")\n",
    "embedded_sequences = Embedding(MAX_FEATURES, EMBED_SIZE)(sequence_input)"
   ]
  },
  {
   "cell_type": "code",
   "execution_count": 18,
   "id": "fa047611",
   "metadata": {},
   "outputs": [],
   "source": [
    "lstm = Bidirectional(LSTM(RNN_CELL_SIZE, return_sequences = True), name=\"bi_lstm_0\")(embedded_sequences)\n",
    "\n",
    "# Getting our LSTM outputs\n",
    "(lstm, forward_h, forward_c, backward_h, backward_c) = Bidirectional(LSTM(RNN_CELL_SIZE, return_sequences=True, return_state=True), name=\"bi_lstm_1\")(lstm)"
   ]
  },
  {
   "cell_type": "code",
   "execution_count": 52,
   "id": "a56e9939",
   "metadata": {},
   "outputs": [
    {
     "name": "stdout",
     "output_type": "stream",
     "text": [
      "Model: \"sequential_3\"\n",
      "_________________________________________________________________\n",
      "Layer (type)                 Output Shape              Param #   \n",
      "=================================================================\n",
      "embedding_4 (Embedding)      (None, 250, 100)          5000000   \n",
      "_________________________________________________________________\n",
      "bidirectional_3 (Bidirection (None, 250, 32)           14976     \n",
      "_________________________________________________________________\n",
      "spatial_dropout1d_3 (Spatial (None, 250, 32)           0         \n",
      "_________________________________________________________________\n",
      "flatten_3 (Flatten)          (None, 8000)              0         \n",
      "_________________________________________________________________\n",
      "dense_3 (Dense)              (None, 3)                 24003     \n",
      "=================================================================\n",
      "Total params: 5,038,979\n",
      "Trainable params: 5,038,979\n",
      "Non-trainable params: 0\n",
      "_________________________________________________________________\n",
      "None\n"
     ]
    }
   ],
   "source": [
    "from keras.layers import Conv2D,MaxPooling2D,Dense,Flatten,Dropout\n",
    "squared_size=250\n",
    "model = Sequential()\n",
    "model.add(Embedding(MAX_NB_WORDS, EMBEDDING_DIM, input_length=X.shape[1]))\n",
    "model.add(Bidirectional(LSTM(16, return_sequences=True))) # return_sequences=True\n",
    "#model.add(Attention()) # return_sequences=False\n",
    "model.add(SpatialDropout1D(0.2))\n",
    "model.add(Flatten())\n",
    "model.add(Dense(3, activation='softmax'))\n",
    "model.compile(loss=\"categorical_crossentropy\", optimizer='adam', metrics=['accuracy'])\n",
    "print(model.summary())"
   ]
  },
  {
   "cell_type": "code",
   "execution_count": 67,
   "id": "55b9d0cb",
   "metadata": {},
   "outputs": [
    {
     "name": "stdout",
     "output_type": "stream",
     "text": [
      "Epoch 1/3\n",
      "143/143 [==============================] - 20s 138ms/step - loss: 0.0599 - accuracy: 0.9768 - val_loss: 1.9057 - val_accuracy: 0.5094\n",
      "Epoch 2/3\n",
      "143/143 [==============================] - 20s 138ms/step - loss: 0.0762 - accuracy: 0.9754 - val_loss: 1.6780 - val_accuracy: 0.5409\n",
      "Epoch 3/3\n",
      "143/143 [==============================] - 22s 154ms/step - loss: 0.0598 - accuracy: 0.9775 - val_loss: 1.9740 - val_accuracy: 0.5472\n"
     ]
    }
   ],
   "source": [
    "epochs = 3\n",
    "batch_size = 10\n",
    "\n",
    "history = model.fit(X_train, Y_train, epochs=epochs, batch_size=batch_size,validation_split=0.1,callbacks=[EarlyStopping(monitor='val_loss', patience=3, min_delta=0.0001)])"
   ]
  },
  {
   "cell_type": "code",
   "execution_count": 68,
   "id": "5da8def3",
   "metadata": {},
   "outputs": [
    {
     "name": "stdout",
     "output_type": "stream",
     "text": [
      "Test set\n",
      "  Loss: 1.74\n",
      "  Accuracy: 0.59\n"
     ]
    }
   ],
   "source": [
    "accr = model.evaluate(X_test,Y_test, verbose=5)\n",
    "print('Test set\\n  Loss: {:0.2f}\\n  Accuracy: {:0.2f}'.format(accr[0],accr[1]))"
   ]
  },
  {
   "cell_type": "code",
   "execution_count": 69,
   "id": "2d908982",
   "metadata": {},
   "outputs": [
    {
     "data": {
      "image/png": "[encoded data removed]",
      "text/plain": [
       "<Figure size 432x288 with 1 Axes>"
      ]
     },
     "metadata": {
      "needs_background": "light"
     },
     "output_type": "display_data"
    }
   ],
   "source": [
    "plt.title('Loss')\n",
    "plt.plot(history.history['loss'], label='train')\n",
    "plt.plot(history.history['val_loss'], label='test')\n",
    "plt.legend()\n",
    "plt.show();"
   ]
  },
  {
   "cell_type": "code",
   "execution_count": 70,
   "id": "02fc7bd0",
   "metadata": {},
   "outputs": [
    {
     "data": {
      "image/png": "[encoded data removed]",
      "text/plain": [
       "<Figure size 432x288 with 1 Axes>"
      ]
     },
     "metadata": {
      "needs_background": "light"
     },
     "output_type": "display_data"
    }
   ],
   "source": [
    "plt.title('Accuracy')\n",
    "plt.plot(history.history['accuracy'], label='train')\n",
    "plt.plot(history.history['val_accuracy'], label='test')\n",
    "plt.legend()\n",
    "plt.show();"
   ]
  },
  {
   "cell_type": "code",
   "execution_count": 22,
   "id": "bfa7dfe6",
   "metadata": {},
   "outputs": [
    {
     "ename": "NameError",
     "evalue": "name 'np' is not defined",
     "output_type": "error",
     "traceback": [
      "\u001b[1;31m---------------------------------------------------------------------------\u001b[0m",
      "\u001b[1;31mNameError\u001b[0m                                 Traceback (most recent call last)",
      "\u001b[1;32m<ipython-input-22-a79a9091ef04>\u001b[0m in \u001b[0;36m<module>\u001b[1;34m\u001b[0m\n\u001b[0;32m      4\u001b[0m \u001b[0mpred\u001b[0m \u001b[1;33m=\u001b[0m \u001b[0mmodel\u001b[0m\u001b[1;33m.\u001b[0m\u001b[0mpredict\u001b[0m\u001b[1;33m(\u001b[0m\u001b[0mpadded\u001b[0m\u001b[1;33m)\u001b[0m\u001b[1;33m\u001b[0m\u001b[1;33m\u001b[0m\u001b[0m\n\u001b[0;32m      5\u001b[0m \u001b[0mlabels\u001b[0m \u001b[1;33m=\u001b[0m \u001b[1;33m[\u001b[0m\u001b[1;34m'Credit reporting, credit repair services, or other personal consumer reports'\u001b[0m\u001b[1;33m,\u001b[0m \u001b[1;34m'Debt collection'\u001b[0m\u001b[1;33m,\u001b[0m \u001b[1;34m'Mortgage'\u001b[0m\u001b[1;33m,\u001b[0m \u001b[1;34m'Credit card or prepaid card'\u001b[0m\u001b[1;33m,\u001b[0m \u001b[1;34m'Student loan'\u001b[0m\u001b[1;33m,\u001b[0m \u001b[1;34m'Bank account or service'\u001b[0m\u001b[1;33m,\u001b[0m \u001b[1;34m'Checking or savings account'\u001b[0m\u001b[1;33m,\u001b[0m \u001b[1;34m'Consumer Loan'\u001b[0m\u001b[1;33m,\u001b[0m \u001b[1;34m'Payday loan, title loan, or personal loan'\u001b[0m\u001b[1;33m,\u001b[0m \u001b[1;34m'Vehicle loan or lease'\u001b[0m\u001b[1;33m,\u001b[0m \u001b[1;34m'Money transfer, virtual currency, or money service'\u001b[0m\u001b[1;33m,\u001b[0m \u001b[1;34m'Money transfers'\u001b[0m\u001b[1;33m,\u001b[0m \u001b[1;34m'Prepaid card'\u001b[0m\u001b[1;33m]\u001b[0m\u001b[1;33m\u001b[0m\u001b[1;33m\u001b[0m\u001b[0m\n\u001b[1;32m----> 6\u001b[1;33m \u001b[0mprint\u001b[0m\u001b[1;33m(\u001b[0m\u001b[0mpred\u001b[0m\u001b[1;33m,\u001b[0m \u001b[0mlabels\u001b[0m\u001b[1;33m[\u001b[0m\u001b[0mnp\u001b[0m\u001b[1;33m.\u001b[0m\u001b[0margmax\u001b[0m\u001b[1;33m(\u001b[0m\u001b[0mpred\u001b[0m\u001b[1;33m)\u001b[0m\u001b[1;33m]\u001b[0m\u001b[1;33m)\u001b[0m\u001b[1;33m\u001b[0m\u001b[1;33m\u001b[0m\u001b[0m\n\u001b[0m",
      "\u001b[1;31mNameError\u001b[0m: name 'np' is not defined"
     ]
    }
   ],
   "source": [
    "new_complaint = ['I am a victim of identity theft and someone stole my identity and personal information to open up a Visa credit card account with Bank of America. The following Bank of America Visa credit card account do not belong to me : XXXX.']\n",
    "seq = tokenizer.texts_to_sequences(new_complaint)\n",
    "padded = pad_sequences(seq, maxlen=MAX_SEQUENCE_LENGTH)\n",
    "pred = model.predict(padded)\n",
    "labels = ['Credit reporting, credit repair services, or other personal consumer reports', 'Debt collection', 'Mortgage', 'Credit card or prepaid card', 'Student loan', 'Bank account or service', 'Checking or savings account', 'Consumer Loan', 'Payday loan, title loan, or personal loan', 'Vehicle loan or lease', 'Money transfer, virtual currency, or money service', 'Money transfers', 'Prepaid card']\n",
    "print(pred, labels[np.argmax(pred)])"
   ]
  },
  {
   "cell_type": "code",
   "execution_count": null,
   "id": "3c57bf4b",
   "metadata": {},
   "outputs": [],
   "source": []
  }
 ],
 "metadata": {
  "kernelspec": {
   "display_name": "Python 3",
   "language": "python",
   "name": "python3"
  },
  "language_info": {
   "codemirror_mode": {
    "name": "ipython",
    "version": 3
   },
   "file_extension": ".py",
   "mimetype": "text/x-python",
   "name": "python",
   "nbconvert_exporter": "python",
   "pygments_lexer": "ipython3",
   "version": "3.8.8"
  }
 },
 "nbformat": 4,
 "nbformat_minor": 5
}
