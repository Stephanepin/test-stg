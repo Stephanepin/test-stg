{
 "cells": [
  {
   "cell_type": "code",
   "execution_count": 1,
   "id": "00edd8bf",
   "metadata": {},
   "outputs": [
    {
     "data": {
      "text/html": [
       "<style>.container { width:100% !important; }</style>"
      ],
      "text/plain": [
       "<IPython.core.display.HTML object>"
      ]
     },
     "metadata": {},
     "output_type": "display_data"
    }
   ],
   "source": [
    "import keras \n",
    "import numpy as np\n",
    "from keras.preprocessing.text import Tokenizer\n",
    "import numpy as np\n",
    "import pandas as pd\n",
    "from keras.models import Sequential\n",
    "from keras.layers import Dense\n",
    "from keras.preprocessing.sequence import pad_sequences\n",
    "from keras.layers import Input, Dense, Dropout, Embedding, LSTM, Flatten,GlobalAveragePooling1D\n",
    "from keras.models import Model\n",
    "from keras.utils import to_categorical\n",
    "from keras.callbacks import ModelCheckpoint\n",
    "import seaborn as sns\n",
    "import matplotlib.pyplot as plt\n",
    "from sklearn.model_selection import train_test_split\n",
    "from sklearn.metrics import accuracy_score\n",
    "plt.style.use('ggplot')\n",
    "%matplotlib inline\n",
    "from IPython.core.display import display, HTML\n",
    "display(HTML(\"<style>.container { width:100% !important; }</style>\"))"
   ]
  },
  {
   "cell_type": "code",
   "execution_count": 2,
   "id": "fc8f111c",
   "metadata": {},
   "outputs": [],
   "source": [
    "data =  pd.read_excel('final_210623_nouveaux labels (1).xlsx',engine='openpyxl')\n",
    "col=['Messages','catégorie']\n",
    "data=data[col]\n",
    "#df=pd.read_csv(\"Consumer_Complaints.csv\")\n",
    "data=data.head(2800)"
   ]
  },
  {
   "cell_type": "code",
   "execution_count": 3,
   "id": "f65babcb",
   "metadata": {},
   "outputs": [
    {
     "data": {
      "text/plain": [
       "contrat                           734\n",
       "commande de badge                 675\n",
       "no message                        498\n",
       "demande de renseignement          281\n",
       "renseignement facture             227\n",
       "badge                             187\n",
       "interne Axxès                      88\n",
       "réclamation qualité de service     83\n",
       "impayé                             19\n",
       "AFM                                 8\n",
       "Name: catégorie, dtype: int64"
      ]
     },
     "execution_count": 3,
     "metadata": {},
     "output_type": "execute_result"
    }
   ],
   "source": [
    "data.catégorie.value_counts()"
   ]
  },
  {
   "cell_type": "code",
   "execution_count": 4,
   "id": "e85c3e57",
   "metadata": {},
   "outputs": [],
   "source": [
    "data.replace({'catégorie': \n",
    "             {'commande de badge': 'badge', \n",
    "              'renseignement facture': 'demande de renseignement,contrat,impayé,renseignement facture',\n",
    "             'réclamation qualité de service': 'AFM,réclamation qualité de service',\n",
    "             'AFM': 'AFM,réclamation qualité de service',\n",
    "             'contrat': 'demande de renseignement,contrat,impayé,renseignement facture',\n",
    "              'impayé':'demande de renseignement,contrat,impayé,renseignement facture',\n",
    "              'demande de renseignement':'demande de renseignement,contrat,impayé,renseignement facture',\n",
    "              'no message':'no message,interne Axxès',\n",
    "    \n",
    "              'interne Axxès':'no message,interne Axxès'\n",
    "             # 'impayé,renseignement facture':'demande de renseignement,réclamation qualité de service,impayé,renseignement facture'\n",
    "             }}, \n",
    "            inplace= True)"
   ]
  },
  {
   "cell_type": "code",
   "execution_count": 5,
   "id": "18c42c1c",
   "metadata": {},
   "outputs": [
    {
     "data": {
      "text/plain": [
       "demande de renseignement,contrat,impayé,renseignement facture    1261\n",
       "badge                                                             862\n",
       "no message,interne Axxès                                          586\n",
       "AFM,réclamation qualité de service                                 91\n",
       "Name: catégorie, dtype: int64"
      ]
     },
     "execution_count": 5,
     "metadata": {},
     "output_type": "execute_result"
    }
   ],
   "source": [
    "data.catégorie.value_counts()"
   ]
  },
  {
   "cell_type": "code",
   "execution_count": 6,
   "id": "9cc98700",
   "metadata": {},
   "outputs": [],
   "source": [
    "data['target'] = data.catégorie.astype('category').cat.codes"
   ]
  },
  {
   "cell_type": "code",
   "execution_count": 7,
   "id": "bd6490d7",
   "metadata": {},
   "outputs": [],
   "source": [
    "data['Messages'] = data['Messages'].astype(str)"
   ]
  },
  {
   "cell_type": "code",
   "execution_count": 8,
   "id": "2bb0bb62",
   "metadata": {},
   "outputs": [],
   "source": [
    "data['num_words'] = data.Messages.apply(lambda x : len(x.split()))"
   ]
  },
  {
   "cell_type": "code",
   "execution_count": 9,
   "id": "af43a639",
   "metadata": {},
   "outputs": [],
   "source": [
    "bins=[0,50,75, np.inf]\n",
    "data['bins']=pd.cut(data.num_words, bins=[0,100,300,500,800, np.inf], labels=['0-100', '100-300', '300-500','500-800' ,'>800'])"
   ]
  },
  {
   "cell_type": "code",
   "execution_count": 10,
   "id": "01cf01fb",
   "metadata": {},
   "outputs": [],
   "source": [
    "word_distribution = data.groupby('bins').size().reset_index().rename(columns={0:'counts'})"
   ]
  },
  {
   "cell_type": "code",
   "execution_count": 11,
   "id": "58b47764",
   "metadata": {},
   "outputs": [
    {
     "data": {
      "text/html": [
       "<div>\n",
       "<style scoped>\n",
       "    .dataframe tbody tr th:only-of-type {\n",
       "        vertical-align: middle;\n",
       "    }\n",
       "\n",
       "    .dataframe tbody tr th {\n",
       "        vertical-align: top;\n",
       "    }\n",
       "\n",
       "    .dataframe thead th {\n",
       "        text-align: right;\n",
       "    }\n",
       "</style>\n",
       "<table border=\"1\" class=\"dataframe\">\n",
       "  <thead>\n",
       "    <tr style=\"text-align: right;\">\n",
       "      <th></th>\n",
       "      <th>bins</th>\n",
       "      <th>counts</th>\n",
       "    </tr>\n",
       "  </thead>\n",
       "  <tbody>\n",
       "    <tr>\n",
       "      <th>0</th>\n",
       "      <td>0-100</td>\n",
       "      <td>1461</td>\n",
       "    </tr>\n",
       "    <tr>\n",
       "      <th>1</th>\n",
       "      <td>100-300</td>\n",
       "      <td>802</td>\n",
       "    </tr>\n",
       "    <tr>\n",
       "      <th>2</th>\n",
       "      <td>300-500</td>\n",
       "      <td>256</td>\n",
       "    </tr>\n",
       "    <tr>\n",
       "      <th>3</th>\n",
       "      <td>500-800</td>\n",
       "      <td>161</td>\n",
       "    </tr>\n",
       "    <tr>\n",
       "      <th>4</th>\n",
       "      <td>&gt;800</td>\n",
       "      <td>114</td>\n",
       "    </tr>\n",
       "  </tbody>\n",
       "</table>\n",
       "</div>"
      ],
      "text/plain": [
       "      bins  counts\n",
       "0    0-100    1461\n",
       "1  100-300     802\n",
       "2  300-500     256\n",
       "3  500-800     161\n",
       "4     >800     114"
      ]
     },
     "execution_count": 11,
     "metadata": {},
     "output_type": "execute_result"
    }
   ],
   "source": [
    "word_distribution.head()"
   ]
  },
  {
   "cell_type": "code",
   "execution_count": 12,
   "id": "04498c06",
   "metadata": {},
   "outputs": [
    {
     "data": {
      "text/plain": [
       "Text(0.5, 1.0, 'Word distribution per bin')"
      ]
     },
     "execution_count": 12,
     "metadata": {},
     "output_type": "execute_result"
    },
    {
     "data": {
      "image/png": "[encoded data removed]",
      "text/plain": [
       "<Figure size 432x288 with 1 Axes>"
      ]
     },
     "metadata": {
      "needs_background": "light"
     },
     "output_type": "display_data"
    }
   ],
   "source": [
    "sns.barplot(x='bins', y='counts', data=word_distribution).set_title(\"Word distribution per bin\")"
   ]
  },
  {
   "cell_type": "code",
   "execution_count": 13,
   "id": "c8303173",
   "metadata": {},
   "outputs": [
    {
     "data": {
      "text/html": [
       "<div>\n",
       "<style scoped>\n",
       "    .dataframe tbody tr th:only-of-type {\n",
       "        vertical-align: middle;\n",
       "    }\n",
       "\n",
       "    .dataframe tbody tr th {\n",
       "        vertical-align: top;\n",
       "    }\n",
       "\n",
       "    .dataframe thead th {\n",
       "        text-align: right;\n",
       "    }\n",
       "</style>\n",
       "<table border=\"1\" class=\"dataframe\">\n",
       "  <thead>\n",
       "    <tr style=\"text-align: right;\">\n",
       "      <th></th>\n",
       "      <th>Messages</th>\n",
       "      <th>catégorie</th>\n",
       "      <th>target</th>\n",
       "      <th>num_words</th>\n",
       "      <th>bins</th>\n",
       "    </tr>\n",
       "  </thead>\n",
       "  <tbody>\n",
       "    <tr>\n",
       "      <th>0</th>\n",
       "      <td>Bonjour,Ci-joint le mandat sepa et le rib.Cord...</td>\n",
       "      <td>demande de renseignement,contrat,impayé,rensei...</td>\n",
       "      <td>2</td>\n",
       "      <td>14</td>\n",
       "      <td>0-100</td>\n",
       "    </tr>\n",
       "    <tr>\n",
       "      <th>1</th>\n",
       "      <td>DANIEL   GUEGANSOCIETE DES TRANSPORTS GUEGANCl...</td>\n",
       "      <td>badge</td>\n",
       "      <td>1</td>\n",
       "      <td>110</td>\n",
       "      <td>100-300</td>\n",
       "    </tr>\n",
       "    <tr>\n",
       "      <th>2</th>\n",
       "      <td>Bonjour, J’ai essayé de faire la modification...</td>\n",
       "      <td>badge</td>\n",
       "      <td>1</td>\n",
       "      <td>107</td>\n",
       "      <td>100-300</td>\n",
       "    </tr>\n",
       "    <tr>\n",
       "      <th>3</th>\n",
       "      <td>Bonjour, merci de me faire un badge avec la gé...</td>\n",
       "      <td>badge</td>\n",
       "      <td>1</td>\n",
       "      <td>54</td>\n",
       "      <td>0-100</td>\n",
       "    </tr>\n",
       "    <tr>\n",
       "      <th>4</th>\n",
       "      <td>No Message</td>\n",
       "      <td>no message,interne Axxès</td>\n",
       "      <td>3</td>\n",
       "      <td>2</td>\n",
       "      <td>0-100</td>\n",
       "    </tr>\n",
       "  </tbody>\n",
       "</table>\n",
       "</div>"
      ],
      "text/plain": [
       "                                            Messages  \\\n",
       "0  Bonjour,Ci-joint le mandat sepa et le rib.Cord...   \n",
       "1  DANIEL   GUEGANSOCIETE DES TRANSPORTS GUEGANCl...   \n",
       "2   Bonjour, J’ai essayé de faire la modification...   \n",
       "3  Bonjour, merci de me faire un badge avec la gé...   \n",
       "4                                         No Message   \n",
       "\n",
       "                                           catégorie  target  num_words  \\\n",
       "0  demande de renseignement,contrat,impayé,rensei...       2         14   \n",
       "1                                              badge       1        110   \n",
       "2                                              badge       1        107   \n",
       "3                                              badge       1         54   \n",
       "4                           no message,interne Axxès       3          2   \n",
       "\n",
       "      bins  \n",
       "0    0-100  \n",
       "1  100-300  \n",
       "2  100-300  \n",
       "3    0-100  \n",
       "4    0-100  "
      ]
     },
     "execution_count": 13,
     "metadata": {},
     "output_type": "execute_result"
    }
   ],
   "source": [
    "data.head()"
   ]
  },
  {
   "cell_type": "code",
   "execution_count": 14,
   "id": "1d94e3bb",
   "metadata": {},
   "outputs": [],
   "source": [
    "msg=data"
   ]
  },
  {
   "cell_type": "code",
   "execution_count": 15,
   "id": "55602e01",
   "metadata": {},
   "outputs": [
    {
     "name": "stderr",
     "output_type": "stream",
     "text": [
      "<ipython-input-15-b919b850f721>:4: SettingWithCopyWarning: \n",
      "A value is trying to be set on a copy of a slice from a DataFrame\n",
      "\n",
      "See the caveats in the documentation: https://pandas.pydata.org/pandas-docs/stable/user_guide/indexing.html#returning-a-view-versus-a-copy\n",
      "  msg['occurence'][i]=ss.find(\"cordialement\")\n"
     ]
    }
   ],
   "source": [
    "msg['occurence']=0\n",
    "for i in msg.index:\n",
    "    ss=msg['Messages'][i].lower()\n",
    "    msg['occurence'][i]=ss.find(\"cordialement\")"
   ]
  },
  {
   "cell_type": "code",
   "execution_count": 16,
   "id": "999c8714",
   "metadata": {},
   "outputs": [
    {
     "name": "stderr",
     "output_type": "stream",
     "text": [
      "<ipython-input-16-52998f94e60f>:4: SettingWithCopyWarning: \n",
      "A value is trying to be set on a copy of a slice from a DataFrame\n",
      "\n",
      "See the caveats in the documentation: https://pandas.pydata.org/pandas-docs/stable/user_guide/indexing.html#returning-a-view-versus-a-copy\n",
      "  msg['text'][i]=msg['Messages'][i][0:msg['occurence'][i]]\n",
      "C:\\Users\\bertille.lekeufack\\AppData\\Roaming\\Python\\Python38\\site-packages\\pandas\\core\\indexing.py:1637: SettingWithCopyWarning: \n",
      "A value is trying to be set on a copy of a slice from a DataFrame\n",
      "\n",
      "See the caveats in the documentation: https://pandas.pydata.org/pandas-docs/stable/user_guide/indexing.html#returning-a-view-versus-a-copy\n",
      "  self._setitem_single_block(indexer, value, name)\n",
      "<ipython-input-16-52998f94e60f>:6: SettingWithCopyWarning: \n",
      "A value is trying to be set on a copy of a slice from a DataFrame\n",
      "\n",
      "See the caveats in the documentation: https://pandas.pydata.org/pandas-docs/stable/user_guide/indexing.html#returning-a-view-versus-a-copy\n",
      "  msg['text'][i]=msg['Messages'][i]\n"
     ]
    }
   ],
   "source": [
    "msg['text']=0\n",
    "for i in msg.index:\n",
    "    if msg['occurence'][i]>0:\n",
    "        msg['text'][i]=msg['Messages'][i][0:msg['occurence'][i]]\n",
    "    else:\n",
    "        msg['text'][i]=msg['Messages'][i]"
   ]
  },
  {
   "cell_type": "code",
   "execution_count": 17,
   "id": "fa8054c6",
   "metadata": {},
   "outputs": [
    {
     "name": "stderr",
     "output_type": "stream",
     "text": [
      "<ipython-input-17-b9fe03a401c7>:4: SettingWithCopyWarning: \n",
      "A value is trying to be set on a copy of a slice from a DataFrame\n",
      "\n",
      "See the caveats in the documentation: https://pandas.pydata.org/pandas-docs/stable/user_guide/indexing.html#returning-a-view-versus-a-copy\n",
      "  msg['text'][i]=re.sub('([a-zA-Z0-9_.+-]+@[a-zA-Z0-9-]+\\.[a-zA-Z0-9-.]+)', 'XXXX', str(msg['text'][i]))#email\n",
      "<ipython-input-17-b9fe03a401c7>:6: SettingWithCopyWarning: \n",
      "A value is trying to be set on a copy of a slice from a DataFrame\n",
      "\n",
      "See the caveats in the documentation: https://pandas.pydata.org/pandas-docs/stable/user_guide/indexing.html#returning-a-view-versus-a-copy\n",
      "  msg['text'][i]=re.sub(r\"/\\d{10}|\\+33\\d{9}|\\+33\\s\\d{1}\\s\\d{2}\\s\\d{2}\\s\\d{2}\\s\\d{2}|\\d{2}\\s\\d{2}\\s\\d{2}\\s\\d{2}\\s\\d{2}/g\",' XXXX',str(msg['text'][i]))#phone francais\n",
      "<ipython-input-17-b9fe03a401c7>:7: SettingWithCopyWarning: \n",
      "A value is trying to be set on a copy of a slice from a DataFrame\n",
      "\n",
      "See the caveats in the documentation: https://pandas.pydata.org/pandas-docs/stable/user_guide/indexing.html#returning-a-view-versus-a-copy\n",
      "  msg['text'][i]=re.sub(r'(^(\\+33 |0)[1-6]{1}(([0-9]{2}){4})|((\\s[0-9]{2}){4})|((-[0-9]{2}){4})$)','XXXX',str(msg['text'][i]))\n",
      "<ipython-input-17-b9fe03a401c7>:8: SettingWithCopyWarning: \n",
      "A value is trying to be set on a copy of a slice from a DataFrame\n",
      "\n",
      "See the caveats in the documentation: https://pandas.pydata.org/pandas-docs/stable/user_guide/indexing.html#returning-a-view-versus-a-copy\n",
      "  msg['text'][i]=re.sub(\"((?:\\+\\d{2}[-\\.\\s]??|\\d{4}[-\\.\\s]??)?(?:\\d{3}[-\\.\\s]??\\d{3}[-\\.\\s]??\\d{4}|\\(\\d{3}\\)\\s*\\d{3}[-\\.\\s]??\\d{4}|\\d{3}[-\\.\\s]??\\d{4}))\",'XXXX', str(msg['text'][i]))#phone\n",
      "<ipython-input-17-b9fe03a401c7>:9: SettingWithCopyWarning: \n",
      "A value is trying to be set on a copy of a slice from a DataFrame\n",
      "\n",
      "See the caveats in the documentation: https://pandas.pydata.org/pandas-docs/stable/user_guide/indexing.html#returning-a-view-versus-a-copy\n",
      "  msg['text'][i]=re.sub('\\(?\\d{2}\\)?[-.\\s]?\\d{2}[-.\\s]?\\d{2}[-.\\s]?\\d{2}[-.\\s]?\\d{2}','XXXX',str(msg['text'][i]))\n",
      "<ipython-input-17-b9fe03a401c7>:10: SettingWithCopyWarning: \n",
      "A value is trying to be set on a copy of a slice from a DataFrame\n",
      "\n",
      "See the caveats in the documentation: https://pandas.pydata.org/pandas-docs/stable/user_guide/indexing.html#returning-a-view-versus-a-copy\n",
      "  msg['text'][i]=re.sub('\\(?\\d{2}\\)?[-.\\s]?\\d{2}[-.\\s]?\\d{2}[-.\\s]?\\d{2}[-.\\s]','XXXX',str(msg['text'][i]))\n",
      "<ipython-input-17-b9fe03a401c7>:11: SettingWithCopyWarning: \n",
      "A value is trying to be set on a copy of a slice from a DataFrame\n",
      "\n",
      "See the caveats in the documentation: https://pandas.pydata.org/pandas-docs/stable/user_guide/indexing.html#returning-a-view-versus-a-copy\n",
      "  msg['text'][i]=re.sub('\\(?\\d{1}\\)?[-.\\s]?\\d{2}[-.\\s]?\\d{2}[-.\\s]?\\d{2}[-.\\s]','XXXX',str(msg['text'][i]))\n",
      "<ipython-input-17-b9fe03a401c7>:12: SettingWithCopyWarning: \n",
      "A value is trying to be set on a copy of a slice from a DataFrame\n",
      "\n",
      "See the caveats in the documentation: https://pandas.pydata.org/pandas-docs/stable/user_guide/indexing.html#returning-a-view-versus-a-copy\n",
      "  msg['text'][i]=re.sub('\\(?\\d{2}\\)?[-.\\s]?\\d{5}[-.\\s]?\\d{3}','XXXX',str(msg['text'][i]))\n",
      "<ipython-input-17-b9fe03a401c7>:13: SettingWithCopyWarning: \n",
      "A value is trying to be set on a copy of a slice from a DataFrame\n",
      "\n",
      "See the caveats in the documentation: https://pandas.pydata.org/pandas-docs/stable/user_guide/indexing.html#returning-a-view-versus-a-copy\n",
      "  msg['text'][i]=re.sub('\\(?\\d{1}\\)?[-.\\s]?\\d{2}[-.\\s]?\\d{2}[-.\\s]?\\d{3}','XXXX',str(msg['text'][i]))\n",
      "<ipython-input-17-b9fe03a401c7>:14: SettingWithCopyWarning: \n",
      "A value is trying to be set on a copy of a slice from a DataFrame\n",
      "\n",
      "See the caveats in the documentation: https://pandas.pydata.org/pandas-docs/stable/user_guide/indexing.html#returning-a-view-versus-a-copy\n",
      "  msg['text'][i]=re.sub('\\(?\\d{2}\\)?[-.\\s]?\\d{3}[-.\\s]?\\d{3}[-.\\s]?\\d{3}','XXXX',str(msg['text'][i]))\n",
      "<ipython-input-17-b9fe03a401c7>:17: SettingWithCopyWarning: \n",
      "A value is trying to be set on a copy of a slice from a DataFrame\n",
      "\n",
      "See the caveats in the documentation: https://pandas.pydata.org/pandas-docs/stable/user_guide/indexing.html#returning-a-view-versus-a-copy\n",
      "  msg['text'][i]=re.sub(emoji,' ',str(msg['text'][i]))\n",
      "<ipython-input-17-b9fe03a401c7>:19: SettingWithCopyWarning: \n",
      "A value is trying to be set on a copy of a slice from a DataFrame\n",
      "\n",
      "See the caveats in the documentation: https://pandas.pydata.org/pandas-docs/stable/user_guide/indexing.html#returning-a-view-versus-a-copy\n",
      "  msg['text'][i]= msg['text'][i].replace(\"Avant d\\'imprimer cet e-mail, réfléchissez à l\\'impact sur l\\'environnementBefore you print this mail, think about the impact on the environment\",'')\n",
      "<ipython-input-17-b9fe03a401c7>:22: SettingWithCopyWarning: \n",
      "A value is trying to be set on a copy of a slice from a DataFrame\n",
      "\n",
      "See the caveats in the documentation: https://pandas.pydata.org/pandas-docs/stable/user_guide/indexing.html#returning-a-view-versus-a-copy\n",
      "  msg['text'][i]= msg['text'][i].replace(\"Mail:\",'email')\n",
      "<ipython-input-17-b9fe03a401c7>:23: SettingWithCopyWarning: \n",
      "A value is trying to be set on a copy of a slice from a DataFrame\n",
      "\n",
      "See the caveats in the documentation: https://pandas.pydata.org/pandas-docs/stable/user_guide/indexing.html#returning-a-view-versus-a-copy\n",
      "  msg['text'][i]= msg['text'][i].replace(\"Email:\",'email')\n",
      "<ipython-input-17-b9fe03a401c7>:24: SettingWithCopyWarning: \n",
      "A value is trying to be set on a copy of a slice from a DataFrame\n",
      "\n",
      "See the caveats in the documentation: https://pandas.pydata.org/pandas-docs/stable/user_guide/indexing.html#returning-a-view-versus-a-copy\n",
      "  msg['text'][i]= msg['text'][i].replace(\"E-mail\",'email')\n",
      "<ipython-input-17-b9fe03a401c7>:25: SettingWithCopyWarning: \n",
      "A value is trying to be set on a copy of a slice from a DataFrame\n",
      "\n",
      "See the caveats in the documentation: https://pandas.pydata.org/pandas-docs/stable/user_guide/indexing.html#returning-a-view-versus-a-copy\n",
      "  msg['text'][i]= msg['text'][i].replace(\"Email : \",'email')\n",
      "<ipython-input-17-b9fe03a401c7>:26: SettingWithCopyWarning: \n",
      "A value is trying to be set on a copy of a slice from a DataFrame\n",
      "\n",
      "See the caveats in the documentation: https://pandas.pydata.org/pandas-docs/stable/user_guide/indexing.html#returning-a-view-versus-a-copy\n",
      "  msg['text'][i]= msg['text'][i].replace(\"mail\",'email')\n",
      "<ipython-input-17-b9fe03a401c7>:27: SettingWithCopyWarning: \n",
      "A value is trying to be set on a copy of a slice from a DataFrame\n",
      "\n",
      "See the caveats in the documentation: https://pandas.pydata.org/pandas-docs/stable/user_guide/indexing.html#returning-a-view-versus-a-copy\n",
      "  msg['text'][i]= msg['text'][i].replace(\"Bonjour\",'')\n",
      "<ipython-input-17-b9fe03a401c7>:28: SettingWithCopyWarning: \n",
      "A value is trying to be set on a copy of a slice from a DataFrame\n",
      "\n",
      "See the caveats in the documentation: https://pandas.pydata.org/pandas-docs/stable/user_guide/indexing.html#returning-a-view-versus-a-copy\n",
      "  msg['text'][i]= msg['text'][i].replace(\"-\",'')\n",
      "<ipython-input-17-b9fe03a401c7>:29: SettingWithCopyWarning: \n",
      "A value is trying to be set on a copy of a slice from a DataFrame\n",
      "\n",
      "See the caveats in the documentation: https://pandas.pydata.org/pandas-docs/stable/user_guide/indexing.html#returning-a-view-versus-a-copy\n",
      "  msg['text'][i]=re.sub(r'\\d{3}[-\\.\\s]??\\d{3}[-\\.\\s]??\\d{4}|\\(\\d{3}\\)\\s*\\d{3}[-\\.\\s]??\\d{4}|\\d{3}[-\\.\\s]??\\d{4}','XXXX',str(msg['text'][i]))\n",
      "<ipython-input-17-b9fe03a401c7>:31: SettingWithCopyWarning: \n",
      "A value is trying to be set on a copy of a slice from a DataFrame\n",
      "\n",
      "See the caveats in the documentation: https://pandas.pydata.org/pandas-docs/stable/user_guide/indexing.html#returning-a-view-versus-a-copy\n",
      "  msg['text'][i]= re.sub(\"http[s]?://(?:[a-zA-Z]|[0-9]|[$-_@.&+]|[!*\\(\\),]|(?:%[0-9a-fA-F][0-9a-fA-F]))+\",'XXXX',msg['text'][i])#url\n",
      "<ipython-input-17-b9fe03a401c7>:32: SettingWithCopyWarning: \n",
      "A value is trying to be set on a copy of a slice from a DataFrame\n",
      "\n",
      "See the caveats in the documentation: https://pandas.pydata.org/pandas-docs/stable/user_guide/indexing.html#returning-a-view-versus-a-copy\n",
      "  msg['text'][i]= re.sub('(https?:\\/\\/(?:www\\.|(?!www))[a-zA-Z0-9][a-zA-Z0-9-]+[a-zA-Z0-9]\\.[^\\s]{2,}|www\\.[a-zA-Z0-9][a-zA-Z0-9-]+[a-zA-Z0-9]\\.[^\\s]{2,}|https?:\\/\\/(?:www\\.|(?!www))[a-zA-Z0-9]+\\.[^\\s]{2,}|www\\.[a-zA-Z0-9]+\\.[^\\s]{2,})',' XXXX',str(msg['text'][i]))#url www\n",
      "<ipython-input-17-b9fe03a401c7>:33: SettingWithCopyWarning: \n",
      "A value is trying to be set on a copy of a slice from a DataFrame\n",
      "\n",
      "See the caveats in the documentation: https://pandas.pydata.org/pandas-docs/stable/user_guide/indexing.html#returning-a-view-versus-a-copy\n",
      "  msg['text'][i]= re.sub('Ce message et toutes les Pieces jointes (ci apres : le message) sont etablis a l\\'intention exclusive de ses destinataires et sont confidentiels.Toute utilisation de ce message non conforme a sa destination, toute diffusion ou toute publication totale ou partielle est interdite sauf autorisation prealable.Si vous recevez ce message par erreur, merci de le detruire et d\\' avertir immediatement l\\'expediteur.Les communications sur Internet n\\'etant pas securisees, le Groupe APRR decline toute responsabilite quant au contenu de ce message.This message and all attached documents (hereafter \"the message\") are intended for the exclusive attention of its recipients and are confidential. Any use of this message, for which it was not intended, any distribution or any total or partial publication is prohibited unless previously approved.If you receive this message in error, please destroy it and immediately notify the sender thereof.Since communication by Internet is not secure, Group APRR cannot accept any responsibility regarding the contents of this message.','XXXX ',str(msg['text'][i]))\n",
      "<ipython-input-17-b9fe03a401c7>:35: SettingWithCopyWarning: \n",
      "A value is trying to be set on a copy of a slice from a DataFrame\n",
      "\n",
      "See the caveats in the documentation: https://pandas.pydata.org/pandas-docs/stable/user_guide/indexing.html#returning-a-view-versus-a-copy\n",
      "  msg['text'][i]= re.sub('Ce message est généré automatiquement. Merci de ne pas y répondre.','XXXX',str(msg['text'][i]))\n",
      "<ipython-input-17-b9fe03a401c7>:36: SettingWithCopyWarning: \n",
      "A value is trying to be set on a copy of a slice from a DataFrame\n",
      "\n",
      "See the caveats in the documentation: https://pandas.pydata.org/pandas-docs/stable/user_guide/indexing.html#returning-a-view-versus-a-copy\n",
      "  msg['text'][i]= re.sub('Ce message et toutes les Pieces jointes (ci apres : le message) sont etablis a l\\'intention exclusive de ses destinataires et sont confidentiels.Toute utilisation de ce message non conforme a sa destination, toute diffusion ou toute publication totale ou partielle est interdite sauf autorisation prealable.Si vous recevez ce message par erreur, merci de le detruire et d\\' avertir immediatement l\\'expediteur.Les communications sur Internet n\\'etant pas securisees, le Groupe APRR decline toute responsabilite quant au contenu de ce message.This message and all attached documents (hereafter \"the message\") are intended for the exclusive attention of its recipients and are confidential. Any use of this message, for which it was not intended, any distribution or any total or partial publication is prohibited unless previously approved.If you receive this message in error, please destroy it and immediately notify the sender thereof.Since communication by Internet is not secure, Group APRR cannot accept any responsibility regarding the contents of this message.','XXXX ',str(msg['text'][i]))\n",
      "<ipython-input-17-b9fe03a401c7>:37: SettingWithCopyWarning: \n",
      "A value is trying to be set on a copy of a slice from a DataFrame\n",
      "\n",
      "See the caveats in the documentation: https://pandas.pydata.org/pandas-docs/stable/user_guide/indexing.html#returning-a-view-versus-a-copy\n",
      "  msg['text'][i]= re.sub('This message and any attachments are confidential and intended for the named addressee(s) only.If you have received this message in error, please notify immediately the sender, then deletethe message. Any unauthorized modification, edition, use or dissemination is prohibited.The sender shall not be liable for this message if it has been modified, altered, falsified, infectedby a virus or even edited or disseminated without authorization.','XXXX',str(msg['text'][i]))\n",
      "<ipython-input-17-b9fe03a401c7>:38: SettingWithCopyWarning: \n",
      "A value is trying to be set on a copy of a slice from a DataFrame\n",
      "\n",
      "See the caveats in the documentation: https://pandas.pydata.org/pandas-docs/stable/user_guide/indexing.html#returning-a-view-versus-a-copy\n",
      "  msg['text'][i]= re.sub('This  transmission (message and any attached files) may contain information that is proprietary, privileged and/or confidential to Veolia Environnement and/or its affiliates and is intended exclusively for the person(s) to whom it is addressed. If you are not the intended recipient, please notify the sender by return  and delete all copies of this , including all attachments. Unless expressly authorized, any use, disclosure, publication, retransmission or dissemination of this  and/or of its attachments is strictly prohibited. Ce message electronique et ses fichiers attaches sont strictement confidentiels et peuvent contenir des elements dont Veolia Environnement et/ou l\\'une de ses entites affiliees sont proprietaires. Ils sont donc destines a l\\'usage de leurs seuls destinataires. Si vous avez recu ce message par erreur, merci de le retourner a son emetteur et de le detruire ainsi que toutes les pieces attachees. L\\'utilisation, la divulgation, la publication, la distribution, ou la reproduction non expressement autorisees de ce message et de ses pieces attachees sont interdites.','XXXX ',str(msg['text'][i]))\n",
      "<ipython-input-17-b9fe03a401c7>:39: SettingWithCopyWarning: \n",
      "A value is trying to be set on a copy of a slice from a DataFrame\n",
      "\n",
      "See the caveats in the documentation: https://pandas.pydata.org/pandas-docs/stable/user_guide/indexing.html#returning-a-view-versus-a-copy\n",
      "  msg['text'][i]= re.sub('This  transmission (message and any attached files) may contain information that is proprietary, privileged and/or confidential to Veolia Environnement and/or its affiliates and is intended exclusively for the person(s) to whom it is addressed. If you are not the intended recipient, please notify the sender by return  and delete all copies of this , including all attachments. Unless expressly authorized, any use, disclosure, publication, retransmission or dissemination of this  and/or of its attachments is strictly prohibited.  Ce message electronique et ses fichiers attaches sont strictement confidentiels et peuvent contenir des elements dont Veolia Environnement et/ou l\\'une de ses entites affiliees sont proprietaires. Ils sont donc destines a l\\'usage de leurs seuls destinataires. Si vous avez recu ce message par erreur, merci de le retourner a son emetteur et de le detruire ainsi que toutes les pieces attachees. L\\'utilisation, la divulgation, la publication, la distribution, ou la reproduction non expressement autorisees de ce message et de ses pieces attachees sont interdites.','XXXX ',str(msg['text'][i]))\n",
      "<ipython-input-17-b9fe03a401c7>:40: SettingWithCopyWarning: \n",
      "A value is trying to be set on a copy of a slice from a DataFrame\n",
      "\n",
      "See the caveats in the documentation: https://pandas.pydata.org/pandas-docs/stable/user_guide/indexing.html#returning-a-view-versus-a-copy\n",
      "  msg['text'][i]= re.sub('Le contenu de ce message est strictement réservé à l\\'usage exclusif de son destinataire et contient de l\\'information privilégiée et confidentielle. Toute lecture, divulgation, distribution ou copie non autorisée de cette communication est formellement interdite. Si vous avez reçu cette communication par erreur, veuillez la détruire immédiatement.','XXXX',str(msg['text'][i]))\n",
      "<ipython-input-17-b9fe03a401c7>:41: SettingWithCopyWarning: \n",
      "A value is trying to be set on a copy of a slice from a DataFrame\n",
      "\n",
      "See the caveats in the documentation: https://pandas.pydata.org/pandas-docs/stable/user_guide/indexing.html#returning-a-view-versus-a-copy\n",
      "  msg['text'][i]= re.sub('Ce message et toutes les Pieces jointes (ci apres : le message) sont etablis a l\\'intention exclusive de ses destinataires et sont confidentiels.Toute utilisation de ce message non conforme a sa destination, toute diffusion ou toute publication totale ou partielle est interdite sauf autorisation prealable.Si vous recevez ce message par erreur, merci de le detruire et d\\' avertir immediatement l\\'expediteur.Les communications sur Internet n\\'etant pas securisees, le Groupe APRR decline toute responsabilite quant au contenu de ce message.This message and all attached documents (hereafter \"the message\") are intended for the exclusive attention of its recipients and are confidential. Any use of this message, for which it was not intended, any distribution or any total or partial publication is prohibited unless previously approved.If you receive this message in error, please destroy it and immediately notify the sender thereof.Since communication by Internet is not secure, Group APRR cannot accept any responsibility regarding the contents of this message.','XXXX ',str(msg['text'][i]))\n",
      "<ipython-input-17-b9fe03a401c7>:42: SettingWithCopyWarning: \n",
      "A value is trying to be set on a copy of a slice from a DataFrame\n",
      "\n",
      "See the caveats in the documentation: https://pandas.pydata.org/pandas-docs/stable/user_guide/indexing.html#returning-a-view-versus-a-copy\n",
      "  msg['text'][i]= re.sub('Ce message et les pièces jointes sont confidentiels et établis à l\\'attention exclusive de ses destinataires. Toute utilisation ou diffusion, même partielle, non autorisée est interdite. Tout message électronique est susceptible d\\'altération. Brink\\'s décline toute responsabilité au titre de ce message s\\'il a été altéré, déformé ou falsifié. Si vous n\\'êtes pas le destinataire de ce message, merci de le détruire et d\\'avertir l\\'expéditeur. This message and any attachments are confidential and intended solely for the addressees. Any unauthorized use or disclosure, either whole or partial is prohibited. E-s are susceptible to alteration. Brink\\'s shall not be liable for the message if altered, changed or falsified. If you are not the intended recipient of this message, please delete it and notify the sender.','XXXX ',str(msg['text'][i]))\n",
      "<ipython-input-17-b9fe03a401c7>:43: SettingWithCopyWarning: \n",
      "A value is trying to be set on a copy of a slice from a DataFrame\n",
      "\n",
      "See the caveats in the documentation: https://pandas.pydata.org/pandas-docs/stable/user_guide/indexing.html#returning-a-view-versus-a-copy\n",
      "  msg['text'][i]= re.sub('Ce message et toutes les Pieces jointes (ci apres : le message) sont etablis a l\\'intention exclusive de ses destinataires et sont confidentiels.Toute utilisation de ce message non conforme a sa destination, toute diffusion ou toute publication totale ou partielle est interdite sauf autorisation prealable.Si vous recevez ce message par erreur, merci de le detruire et d\\' avertir immediatement l\\'expediteur.Les communications sur Internet n\\'etant pas securisees, le Groupe APRR decline toute responsabilite quant au contenu de ce message.','XXXX',str(msg['text'][i]))\n"
     ]
    }
   ],
   "source": [
    "import re\n",
    "for i in msg.index:\n",
    "    \n",
    "    msg['text'][i]=re.sub('([a-zA-Z0-9_.+-]+@[a-zA-Z0-9-]+\\.[a-zA-Z0-9-.]+)', 'XXXX', str(msg['text'][i]))#email\n",
    "    #phone\n",
    "    msg['text'][i]=re.sub(r\"/\\d{10}|\\+33\\d{9}|\\+33\\s\\d{1}\\s\\d{2}\\s\\d{2}\\s\\d{2}\\s\\d{2}|\\d{2}\\s\\d{2}\\s\\d{2}\\s\\d{2}\\s\\d{2}/g\",' XXXX',str(msg['text'][i]))#phone francais\n",
    "    msg['text'][i]=re.sub(r'(^(\\+33 |0)[1-6]{1}(([0-9]{2}){4})|((\\s[0-9]{2}){4})|((-[0-9]{2}){4})$)','XXXX',str(msg['text'][i]))\n",
    "    msg['text'][i]=re.sub(\"((?:\\+\\d{2}[-\\.\\s]??|\\d{4}[-\\.\\s]??)?(?:\\d{3}[-\\.\\s]??\\d{3}[-\\.\\s]??\\d{4}|\\(\\d{3}\\)\\s*\\d{3}[-\\.\\s]??\\d{4}|\\d{3}[-\\.\\s]??\\d{4}))\",'XXXX', str(msg['text'][i]))#phone\n",
    "    msg['text'][i]=re.sub('\\(?\\d{2}\\)?[-.\\s]?\\d{2}[-.\\s]?\\d{2}[-.\\s]?\\d{2}[-.\\s]?\\d{2}','XXXX',str(msg['text'][i]))\n",
    "    msg['text'][i]=re.sub('\\(?\\d{2}\\)?[-.\\s]?\\d{2}[-.\\s]?\\d{2}[-.\\s]?\\d{2}[-.\\s]','XXXX',str(msg['text'][i]))\n",
    "    msg['text'][i]=re.sub('\\(?\\d{1}\\)?[-.\\s]?\\d{2}[-.\\s]?\\d{2}[-.\\s]?\\d{2}[-.\\s]','XXXX',str(msg['text'][i]))\n",
    "    msg['text'][i]=re.sub('\\(?\\d{2}\\)?[-.\\s]?\\d{5}[-.\\s]?\\d{3}','XXXX',str(msg['text'][i]))\n",
    "    msg['text'][i]=re.sub('\\(?\\d{1}\\)?[-.\\s]?\\d{2}[-.\\s]?\\d{2}[-.\\s]?\\d{3}','XXXX',str(msg['text'][i]))\n",
    "    msg['text'][i]=re.sub('\\(?\\d{2}\\)?[-.\\s]?\\d{3}[-.\\s]?\\d{3}[-.\\s]?\\d{3}','XXXX',str(msg['text'][i]))\n",
    "    #Emoji\n",
    "    emoji= re.compile(u'['u'\\U0001F300-\\U0001F64F'u'\\U0001F680-\\U0001F6FF'u'\\u2600-\\u26FF\\u2700-\\u27BF]+', re.UNICODE)\n",
    "    msg['text'][i]=re.sub(emoji,' ',str(msg['text'][i]))\n",
    "    #text\n",
    "    msg['text'][i]= msg['text'][i].replace(\"Avant d\\'imprimer cet e-mail, réfléchissez à l\\'impact sur l\\'environnementBefore you print this mail, think about the impact on the environment\",'')\n",
    "    dele = [\"Mail:\",\"Email:\",\"e-mail\",\"Email : \",\"mail\",\"Tél : +\",\"Fax : +\",\"tél.: + ()\",\"port.: + () \",\"fax.: + ()\"]\n",
    "    #df['Text'][i]= df['Text'][i].replace(dele,'')\n",
    "    msg['text'][i]= msg['text'][i].replace(\"Mail:\",'email')\n",
    "    msg['text'][i]= msg['text'][i].replace(\"Email:\",'email')\n",
    "    msg['text'][i]= msg['text'][i].replace(\"E-mail\",'email')\n",
    "    msg['text'][i]= msg['text'][i].replace(\"Email : \",'email')\n",
    "    msg['text'][i]= msg['text'][i].replace(\"mail\",'email')\n",
    "    msg['text'][i]= msg['text'][i].replace(\"Bonjour\",'')\n",
    "    msg['text'][i]= msg['text'][i].replace(\"-\",'')\n",
    "    msg['text'][i]=re.sub(r'\\d{3}[-\\.\\s]??\\d{3}[-\\.\\s]??\\d{4}|\\(\\d{3}\\)\\s*\\d{3}[-\\.\\s]??\\d{4}|\\d{3}[-\\.\\s]??\\d{4}','XXXX',str(msg['text'][i]))\n",
    "    #df['Text'][i]=re.sub(r'\\d+','',str(df['Text'][i]))#Tél : +      Fax : +, tél.: + ()       fax.: + ()      port.: + () \n",
    "    msg['text'][i]= re.sub(\"http[s]?://(?:[a-zA-Z]|[0-9]|[$-_@.&+]|[!*\\(\\),]|(?:%[0-9a-fA-F][0-9a-fA-F]))+\",'XXXX',msg['text'][i])#url\n",
    "    msg['text'][i]= re.sub('(https?:\\/\\/(?:www\\.|(?!www))[a-zA-Z0-9][a-zA-Z0-9-]+[a-zA-Z0-9]\\.[^\\s]{2,}|www\\.[a-zA-Z0-9][a-zA-Z0-9-]+[a-zA-Z0-9]\\.[^\\s]{2,}|https?:\\/\\/(?:www\\.|(?!www))[a-zA-Z0-9]+\\.[^\\s]{2,}|www\\.[a-zA-Z0-9]+\\.[^\\s]{2,})',' XXXX',str(msg['text'][i]))#url www\n",
    "    msg['text'][i]= re.sub('Ce message et toutes les Pieces jointes (ci apres : le message) sont etablis a l\\'intention exclusive de ses destinataires et sont confidentiels.Toute utilisation de ce message non conforme a sa destination, toute diffusion ou toute publication totale ou partielle est interdite sauf autorisation prealable.Si vous recevez ce message par erreur, merci de le detruire et d\\' avertir immediatement l\\'expediteur.Les communications sur Internet n\\'etant pas securisees, le Groupe APRR decline toute responsabilite quant au contenu de ce message.This message and all attached documents (hereafter \"the message\") are intended for the exclusive attention of its recipients and are confidential. Any use of this message, for which it was not intended, any distribution or any total or partial publication is prohibited unless previously approved.If you receive this message in error, please destroy it and immediately notify the sender thereof.Since communication by Internet is not secure, Group APRR cannot accept any responsibility regarding the contents of this message.','XXXX ',str(msg['text'][i]))\n",
    "    #df['Text'][i]= re.sub('SCAN <>Cet  a été envoyé par \"copieurRICOH\" (MP C3004ex).Date de numérisation: 07.08.2020 17:17:25 (+0200)Contacter si besoin :  ','',str(df['Text'][i]))\n",
    "    msg['text'][i]= re.sub('Ce message est généré automatiquement. Merci de ne pas y répondre.','XXXX',str(msg['text'][i]))\n",
    "    msg['text'][i]= re.sub('Ce message et toutes les Pieces jointes (ci apres : le message) sont etablis a l\\'intention exclusive de ses destinataires et sont confidentiels.Toute utilisation de ce message non conforme a sa destination, toute diffusion ou toute publication totale ou partielle est interdite sauf autorisation prealable.Si vous recevez ce message par erreur, merci de le detruire et d\\' avertir immediatement l\\'expediteur.Les communications sur Internet n\\'etant pas securisees, le Groupe APRR decline toute responsabilite quant au contenu de ce message.This message and all attached documents (hereafter \"the message\") are intended for the exclusive attention of its recipients and are confidential. Any use of this message, for which it was not intended, any distribution or any total or partial publication is prohibited unless previously approved.If you receive this message in error, please destroy it and immediately notify the sender thereof.Since communication by Internet is not secure, Group APRR cannot accept any responsibility regarding the contents of this message.','XXXX ',str(msg['text'][i]))\n",
    "    msg['text'][i]= re.sub('This message and any attachments are confidential and intended for the named addressee(s) only.If you have received this message in error, please notify immediately the sender, then deletethe message. Any unauthorized modification, edition, use or dissemination is prohibited.The sender shall not be liable for this message if it has been modified, altered, falsified, infectedby a virus or even edited or disseminated without authorization.','XXXX',str(msg['text'][i]))\n",
    "    msg['text'][i]= re.sub('This  transmission (message and any attached files) may contain information that is proprietary, privileged and/or confidential to Veolia Environnement and/or its affiliates and is intended exclusively for the person(s) to whom it is addressed. If you are not the intended recipient, please notify the sender by return  and delete all copies of this , including all attachments. Unless expressly authorized, any use, disclosure, publication, retransmission or dissemination of this  and/or of its attachments is strictly prohibited. Ce message electronique et ses fichiers attaches sont strictement confidentiels et peuvent contenir des elements dont Veolia Environnement et/ou l\\'une de ses entites affiliees sont proprietaires. Ils sont donc destines a l\\'usage de leurs seuls destinataires. Si vous avez recu ce message par erreur, merci de le retourner a son emetteur et de le detruire ainsi que toutes les pieces attachees. L\\'utilisation, la divulgation, la publication, la distribution, ou la reproduction non expressement autorisees de ce message et de ses pieces attachees sont interdites.','XXXX ',str(msg['text'][i]))\n",
    "    msg['text'][i]= re.sub('This  transmission (message and any attached files) may contain information that is proprietary, privileged and/or confidential to Veolia Environnement and/or its affiliates and is intended exclusively for the person(s) to whom it is addressed. If you are not the intended recipient, please notify the sender by return  and delete all copies of this , including all attachments. Unless expressly authorized, any use, disclosure, publication, retransmission or dissemination of this  and/or of its attachments is strictly prohibited.  Ce message electronique et ses fichiers attaches sont strictement confidentiels et peuvent contenir des elements dont Veolia Environnement et/ou l\\'une de ses entites affiliees sont proprietaires. Ils sont donc destines a l\\'usage de leurs seuls destinataires. Si vous avez recu ce message par erreur, merci de le retourner a son emetteur et de le detruire ainsi que toutes les pieces attachees. L\\'utilisation, la divulgation, la publication, la distribution, ou la reproduction non expressement autorisees de ce message et de ses pieces attachees sont interdites.','XXXX ',str(msg['text'][i]))\n",
    "    msg['text'][i]= re.sub('Le contenu de ce message est strictement réservé à l\\'usage exclusif de son destinataire et contient de l\\'information privilégiée et confidentielle. Toute lecture, divulgation, distribution ou copie non autorisée de cette communication est formellement interdite. Si vous avez reçu cette communication par erreur, veuillez la détruire immédiatement.','XXXX',str(msg['text'][i]))\n",
    "    msg['text'][i]= re.sub('Ce message et toutes les Pieces jointes (ci apres : le message) sont etablis a l\\'intention exclusive de ses destinataires et sont confidentiels.Toute utilisation de ce message non conforme a sa destination, toute diffusion ou toute publication totale ou partielle est interdite sauf autorisation prealable.Si vous recevez ce message par erreur, merci de le detruire et d\\' avertir immediatement l\\'expediteur.Les communications sur Internet n\\'etant pas securisees, le Groupe APRR decline toute responsabilite quant au contenu de ce message.This message and all attached documents (hereafter \"the message\") are intended for the exclusive attention of its recipients and are confidential. Any use of this message, for which it was not intended, any distribution or any total or partial publication is prohibited unless previously approved.If you receive this message in error, please destroy it and immediately notify the sender thereof.Since communication by Internet is not secure, Group APRR cannot accept any responsibility regarding the contents of this message.','XXXX ',str(msg['text'][i]))\n",
    "    msg['text'][i]= re.sub('Ce message et les pièces jointes sont confidentiels et établis à l\\'attention exclusive de ses destinataires. Toute utilisation ou diffusion, même partielle, non autorisée est interdite. Tout message électronique est susceptible d\\'altération. Brink\\'s décline toute responsabilité au titre de ce message s\\'il a été altéré, déformé ou falsifié. Si vous n\\'êtes pas le destinataire de ce message, merci de le détruire et d\\'avertir l\\'expéditeur. This message and any attachments are confidential and intended solely for the addressees. Any unauthorized use or disclosure, either whole or partial is prohibited. E-s are susceptible to alteration. Brink\\'s shall not be liable for the message if altered, changed or falsified. If you are not the intended recipient of this message, please delete it and notify the sender.','XXXX ',str(msg['text'][i]))\n",
    "    msg['text'][i]= re.sub('Ce message et toutes les Pieces jointes (ci apres : le message) sont etablis a l\\'intention exclusive de ses destinataires et sont confidentiels.Toute utilisation de ce message non conforme a sa destination, toute diffusion ou toute publication totale ou partielle est interdite sauf autorisation prealable.Si vous recevez ce message par erreur, merci de le detruire et d\\' avertir immediatement l\\'expediteur.Les communications sur Internet n\\'etant pas securisees, le Groupe APRR decline toute responsabilite quant au contenu de ce message.','XXXX',str(msg['text'][i]))\n",
    "    "
   ]
  },
  {
   "cell_type": "code",
   "execution_count": 18,
   "id": "29c45d6f",
   "metadata": {},
   "outputs": [],
   "source": [
    "from langdetect import detect"
   ]
  },
  {
   "cell_type": "code",
   "execution_count": 19,
   "id": "b2eca604",
   "metadata": {},
   "outputs": [
    {
     "name": "stdout",
     "output_type": "stream",
     "text": [
      "This row throws error:   \n",
      "This row throws error:    \n",
      "This row throws error:   \n",
      "This row throws error:   \n",
      "This row throws error:  \n",
      "This row throws error:     \n",
      "This row throws error:   \n",
      "This row throws error:   \n",
      "This row throws error:   \n",
      "This row throws error: ‌\n",
      "This row throws error:   \n",
      "This row throws error:   \n",
      "This row throws error:   \n",
      "This row throws error: ,\n",
      "This row throws error:   \n",
      "This row throws error:    \n",
      "This row throws error:    \n",
      "This row throws error:    \n",
      "This row throws error:    \n",
      "This row throws error:    \n",
      "This row throws error:    \n",
      "This row throws error:    \n"
     ]
    }
   ],
   "source": [
    "texl70 = msg['text']\n",
    "langdet = []\n",
    "    \n",
    "for i in range(len(msg)):                                         \n",
    "    try:                                                          \n",
    "        lang=detect(texl70[i])                                      \n",
    "    except:                                                       \n",
    "        lang=''                                                  \n",
    "        print(\"This row throws error:\", texl70[i])                 \n",
    "    langdet.append(lang)     "
   ]
  },
  {
   "cell_type": "code",
   "execution_count": 20,
   "id": "12b4ae35",
   "metadata": {},
   "outputs": [
    {
     "data": {
      "text/html": [
       "<div>\n",
       "<style scoped>\n",
       "    .dataframe tbody tr th:only-of-type {\n",
       "        vertical-align: middle;\n",
       "    }\n",
       "\n",
       "    .dataframe tbody tr th {\n",
       "        vertical-align: top;\n",
       "    }\n",
       "\n",
       "    .dataframe thead th {\n",
       "        text-align: right;\n",
       "    }\n",
       "</style>\n",
       "<table border=\"1\" class=\"dataframe\">\n",
       "  <thead>\n",
       "    <tr style=\"text-align: right;\">\n",
       "      <th></th>\n",
       "      <th>Messages</th>\n",
       "      <th>catégorie</th>\n",
       "      <th>target</th>\n",
       "      <th>num_words</th>\n",
       "      <th>bins</th>\n",
       "      <th>occurence</th>\n",
       "      <th>text</th>\n",
       "      <th>lang</th>\n",
       "    </tr>\n",
       "  </thead>\n",
       "  <tbody>\n",
       "    <tr>\n",
       "      <th>0</th>\n",
       "      <td>Bonjour,Ci-joint le mandat sepa et le rib.Cord...</td>\n",
       "      <td>demande de renseignement,contrat,impayé,rensei...</td>\n",
       "      <td>2</td>\n",
       "      <td>14</td>\n",
       "      <td>0-100</td>\n",
       "      <td>42</td>\n",
       "      <td>,Cijoint le mandat sepa et le rib.</td>\n",
       "      <td>fr</td>\n",
       "    </tr>\n",
       "    <tr>\n",
       "      <th>1</th>\n",
       "      <td>DANIEL   GUEGANSOCIETE DES TRANSPORTS GUEGANCl...</td>\n",
       "      <td>badge</td>\n",
       "      <td>1</td>\n",
       "      <td>110</td>\n",
       "      <td>100-300</td>\n",
       "      <td>703</td>\n",
       "      <td>DANIEL   GUEGANSOCIETE DES TRANSPORTS GUEGANCl...</td>\n",
       "      <td>fr</td>\n",
       "    </tr>\n",
       "    <tr>\n",
       "      <th>2</th>\n",
       "      <td>Bonjour, J’ai essayé de faire la modification...</td>\n",
       "      <td>badge</td>\n",
       "      <td>1</td>\n",
       "      <td>107</td>\n",
       "      <td>100-300</td>\n",
       "      <td>489</td>\n",
       "      <td>, J’ai essayé de faire la modification du bad...</td>\n",
       "      <td>fr</td>\n",
       "    </tr>\n",
       "    <tr>\n",
       "      <th>3</th>\n",
       "      <td>Bonjour, merci de me faire un badge avec la gé...</td>\n",
       "      <td>badge</td>\n",
       "      <td>1</td>\n",
       "      <td>54</td>\n",
       "      <td>0-100</td>\n",
       "      <td>420</td>\n",
       "      <td>, merci de me faire un badge avec la géolocali...</td>\n",
       "      <td>fr</td>\n",
       "    </tr>\n",
       "    <tr>\n",
       "      <th>4</th>\n",
       "      <td>No Message</td>\n",
       "      <td>no message,interne Axxès</td>\n",
       "      <td>3</td>\n",
       "      <td>2</td>\n",
       "      <td>0-100</td>\n",
       "      <td>-1</td>\n",
       "      <td>No Message</td>\n",
       "      <td>de</td>\n",
       "    </tr>\n",
       "  </tbody>\n",
       "</table>\n",
       "</div>"
      ],
      "text/plain": [
       "                                            Messages  \\\n",
       "0  Bonjour,Ci-joint le mandat sepa et le rib.Cord...   \n",
       "1  DANIEL   GUEGANSOCIETE DES TRANSPORTS GUEGANCl...   \n",
       "2   Bonjour, J’ai essayé de faire la modification...   \n",
       "3  Bonjour, merci de me faire un badge avec la gé...   \n",
       "4                                         No Message   \n",
       "\n",
       "                                           catégorie  target  num_words  \\\n",
       "0  demande de renseignement,contrat,impayé,rensei...       2         14   \n",
       "1                                              badge       1        110   \n",
       "2                                              badge       1        107   \n",
       "3                                              badge       1         54   \n",
       "4                           no message,interne Axxès       3          2   \n",
       "\n",
       "      bins  occurence                                               text lang  \n",
       "0    0-100         42                 ,Cijoint le mandat sepa et le rib.   fr  \n",
       "1  100-300        703  DANIEL   GUEGANSOCIETE DES TRANSPORTS GUEGANCl...   fr  \n",
       "2  100-300        489   , J’ai essayé de faire la modification du bad...   fr  \n",
       "3    0-100        420  , merci de me faire un badge avec la géolocali...   fr  \n",
       "4    0-100         -1                                         No Message   de  "
      ]
     },
     "execution_count": 20,
     "metadata": {},
     "output_type": "execute_result"
    }
   ],
   "source": [
    "msg['lang']=langdet\n",
    "msg.head()"
   ]
  },
  {
   "cell_type": "code",
   "execution_count": 21,
   "id": "c47a5997",
   "metadata": {},
   "outputs": [
    {
     "data": {
      "text/plain": [
       "(1973, 8)"
      ]
     },
     "execution_count": 21,
     "metadata": {},
     "output_type": "execute_result"
    }
   ],
   "source": [
    "msg=msg.loc[msg['lang']=='fr']\n",
    "msg.shape"
   ]
  },
  {
   "cell_type": "code",
   "execution_count": 22,
   "id": "0e6b184f",
   "metadata": {},
   "outputs": [],
   "source": [
    "num_class = len(np.unique(msg.catégorie.values))\n",
    "y = msg['target'].values"
   ]
  },
  {
   "cell_type": "code",
   "execution_count": 23,
   "id": "1076961d",
   "metadata": {},
   "outputs": [],
   "source": [
    "MAX_LENGTH = 500\n",
    "tokenizer = Tokenizer()\n",
    "tokenizer.fit_on_texts(msg.text.values)\n",
    "post_seq = tokenizer.texts_to_sequences(msg.text.values)\n",
    "post_seq_padded = pad_sequences(post_seq, maxlen=MAX_LENGTH)"
   ]
  },
  {
   "cell_type": "code",
   "execution_count": 24,
   "id": "4086b8d7",
   "metadata": {},
   "outputs": [
    {
     "name": "stdout",
     "output_type": "stream",
     "text": [
      "(1578, 500)\n",
      "(1578,)\n",
      "(395, 500)\n",
      "(395,)\n"
     ]
    }
   ],
   "source": [
    "X_train, X_test, y_train, y_test = train_test_split(post_seq_padded, y, test_size=0.2)\n",
    "print(X_train.shape)\n",
    "print(y_train.shape)\n",
    "print(X_test.shape)\n",
    "print(y_test.shape)"
   ]
  },
  {
   "cell_type": "code",
   "execution_count": 25,
   "id": "ebc6b01b",
   "metadata": {},
   "outputs": [],
   "source": [
    "from imblearn.over_sampling import RandomOverSampler\n",
    "from imblearn.under_sampling import RandomUnderSampler\n",
    "from imblearn.over_sampling import SMOTE"
   ]
  },
  {
   "cell_type": "code",
   "execution_count": 26,
   "id": "bf2cbf6c",
   "metadata": {},
   "outputs": [
    {
     "name": "stdout",
     "output_type": "stream",
     "text": [
      "(3436, 500)\n",
      "(3436,)\n"
     ]
    }
   ],
   "source": [
    "smo = SMOTE()\n",
    "X_sm, y_sm = smo.fit_resample(X_train, y_train)\n",
    "print(X_sm.shape)\n",
    "print(y_sm.shape)"
   ]
  },
  {
   "cell_type": "code",
   "execution_count": 27,
   "id": "26191aac",
   "metadata": {},
   "outputs": [],
   "source": [
    "vocab_size = len(tokenizer.word_index) + 1"
   ]
  },
  {
   "cell_type": "code",
   "execution_count": 28,
   "id": "e3efeb2a",
   "metadata": {},
   "outputs": [
    {
     "name": "stdout",
     "output_type": "stream",
     "text": [
      "Model: \"functional_1\"\n",
      "_________________________________________________________________\n",
      "Layer (type)                 Output Shape              Param #   \n",
      "=================================================================\n",
      "input_1 (InputLayer)         [(None, 500)]             0         \n",
      "_________________________________________________________________\n",
      "embedding (Embedding)        (None, 500, 128)          1944192   \n",
      "_________________________________________________________________\n",
      "flatten (Flatten)            (None, 64000)             0         \n",
      "_________________________________________________________________\n",
      "dense (Dense)                (None, 32)                2048032   \n",
      "_________________________________________________________________\n",
      "dense_1 (Dense)              (None, 4)                 132       \n",
      "=================================================================\n",
      "Total params: 3,992,356\n",
      "Trainable params: 3,992,356\n",
      "Non-trainable params: 0\n",
      "_________________________________________________________________\n",
      "Epoch 1/10\n",
      "43/43 [==============================] - ETA: 0s - loss: 1.3473 - acc: 0.3628\n",
      "Epoch 00001: val_acc improved from -inf to 0.00000, saving model to weights-simple.hdf5\n",
      "43/43 [==============================] - 3s 75ms/step - loss: 1.3473 - acc: 0.3628 - val_loss: 2.4198 - val_acc: 0.0000e+00\n",
      "Epoch 2/10\n",
      "43/43 [==============================] - ETA: 0s - loss: 1.0641 - acc: 0.5462\n",
      "Epoch 00002: val_acc improved from 0.00000 to 0.26163, saving model to weights-simple.hdf5\n",
      "43/43 [==============================] - 3s 80ms/step - loss: 1.0641 - acc: 0.5462 - val_loss: 1.8863 - val_acc: 0.2616\n",
      "Epoch 3/10\n",
      "43/43 [==============================] - ETA: 0s - loss: 0.7852 - acc: 0.7213\n",
      "Epoch 00003: val_acc improved from 0.26163 to 0.26453, saving model to weights-simple.hdf5\n",
      "43/43 [==============================] - 3s 80ms/step - loss: 0.7852 - acc: 0.7213 - val_loss: 1.7495 - val_acc: 0.2645\n",
      "Epoch 4/10\n",
      "43/43 [==============================] - ETA: 0s - loss: 0.5383 - acc: 0.8432\n",
      "Epoch 00004: val_acc improved from 0.26453 to 0.30087, saving model to weights-simple.hdf5\n",
      "43/43 [==============================] - 3s 75ms/step - loss: 0.5383 - acc: 0.8432 - val_loss: 1.4873 - val_acc: 0.3009\n",
      "Epoch 5/10\n",
      "43/43 [==============================] - ETA: 0s - loss: 0.3487 - acc: 0.9189\n",
      "Epoch 00005: val_acc improved from 0.30087 to 0.47965, saving model to weights-simple.hdf5\n",
      "43/43 [==============================] - 3s 74ms/step - loss: 0.3487 - acc: 0.9189 - val_loss: 1.1830 - val_acc: 0.4797\n",
      "Epoch 6/10\n",
      "43/43 [==============================] - ETA: 0s - loss: 0.2054 - acc: 0.9582\n",
      "Epoch 00006: val_acc did not improve from 0.47965\n",
      "43/43 [==============================] - 3s 72ms/step - loss: 0.2054 - acc: 0.9582 - val_loss: 1.1508 - val_acc: 0.4695\n",
      "Epoch 7/10\n",
      "43/43 [==============================] - ETA: 0s - loss: 0.1310 - acc: 0.9702\n",
      "Epoch 00007: val_acc did not improve from 0.47965\n",
      "43/43 [==============================] - 3s 74ms/step - loss: 0.1310 - acc: 0.9702 - val_loss: 1.3226 - val_acc: 0.4448\n",
      "Epoch 8/10\n",
      "43/43 [==============================] - ETA: 0s - loss: 0.0834 - acc: 0.9844\n",
      "Epoch 00008: val_acc did not improve from 0.47965\n",
      "43/43 [==============================] - 3s 72ms/step - loss: 0.0834 - acc: 0.9844 - val_loss: 1.5391 - val_acc: 0.4055\n",
      "Epoch 9/10\n",
      "43/43 [==============================] - ETA: 0s - loss: 0.0629 - acc: 0.9862\n",
      "Epoch 00009: val_acc improved from 0.47965 to 0.51890, saving model to weights-simple.hdf5\n",
      "43/43 [==============================] - 3s 78ms/step - loss: 0.0629 - acc: 0.9862 - val_loss: 1.1775 - val_acc: 0.5189\n",
      "Epoch 10/10\n",
      "43/43 [==============================] - ETA: 0s - loss: 0.0500 - acc: 0.9880\n",
      "Epoch 00010: val_acc improved from 0.51890 to 0.56831, saving model to weights-simple.hdf5\n",
      "43/43 [==============================] - 3s 73ms/step - loss: 0.0500 - acc: 0.9880 - val_loss: 1.0258 - val_acc: 0.5683\n"
     ]
    }
   ],
   "source": [
    "inputs = Input(shape=(MAX_LENGTH, ))\n",
    "embedding_layer = Embedding(vocab_size,\n",
    "                            128,\n",
    "                            input_length=MAX_LENGTH)(inputs)\n",
    "x = Flatten()(embedding_layer)\n",
    "x = Dense(32, activation='relu')(x)\n",
    "\n",
    "predictions = Dense(num_class, activation='softmax')(x)\n",
    "model = Model(inputs=[inputs], outputs=predictions)\n",
    "model.compile(optimizer='adam',\n",
    "              loss='categorical_crossentropy',\n",
    "              metrics=['acc'])\n",
    "\n",
    "model.summary()\n",
    "filepath=\"weights-simple.hdf5\"\n",
    "checkpointer = ModelCheckpoint(filepath, monitor='val_acc', verbose=1, save_best_only=True, mode='max')\n",
    "history = model.fit([X_sm], batch_size=64, y=to_categorical(y_sm), verbose=1, validation_split=0.2, \n",
    "          shuffle=True, epochs=10, callbacks=[checkpointer])"
   ]
  },
  {
   "cell_type": "code",
   "execution_count": 30,
   "id": "f5aa4fdf",
   "metadata": {},
   "outputs": [
    {
     "data": {
      "image/png": "[encoded data removed]",
      "text/plain": [
       "<Figure size 432x288 with 1 Axes>"
      ]
     },
     "metadata": {
      "needs_background": "light"
     },
     "output_type": "display_data"
    }
   ],
   "source": [
    "df = pd.DataFrame({'epochs':history.epoch, 'accuracy': history.history['acc'], 'validation_accuracy': history.history['val_acc']})\n",
    "g = sns.pointplot(x=\"epochs\", y=\"accuracy\", data=df, fit_reg=False)\n",
    "g = sns.pointplot(x=\"epochs\", y=\"validation_accuracy\", data=df, fit_reg=False, color='green')"
   ]
  },
  {
   "cell_type": "code",
   "execution_count": 31,
   "id": "ae80bad5",
   "metadata": {},
   "outputs": [
    {
     "data": {
      "text/plain": [
       "0.6303797468354431"
      ]
     },
     "execution_count": 31,
     "metadata": {},
     "output_type": "execute_result"
    }
   ],
   "source": [
    "predicted = model.predict(X_test)\n",
    "predicted = np.argmax(predicted, axis=1)\n",
    "accuracy_score(y_test, predicted)"
   ]
  },
  {
   "cell_type": "markdown",
   "id": "9e9586a1",
   "metadata": {},
   "source": [
    "rnn"
   ]
  },
  {
   "cell_type": "code",
   "execution_count": 49,
   "id": "af8937b0",
   "metadata": {},
   "outputs": [
    {
     "name": "stdout",
     "output_type": "stream",
     "text": [
      "Model: \"functional_9\"\n",
      "_________________________________________________________________\n",
      "Layer (type)                 Output Shape              Param #   \n",
      "=================================================================\n",
      "input_7 (InputLayer)         [(None, 500)]             0         \n",
      "_________________________________________________________________\n",
      "embedding_6 (Embedding)      (None, 500, 128)          1944192   \n",
      "_________________________________________________________________\n",
      "lstm_7 (LSTM)                (None, 64)                49408     \n",
      "_________________________________________________________________\n",
      "dropout_8 (Dropout)          (None, 64)                0         \n",
      "_________________________________________________________________\n",
      "dense_10 (Dense)             (None, 64)                4160      \n",
      "_________________________________________________________________\n",
      "dropout_9 (Dropout)          (None, 64)                0         \n",
      "_________________________________________________________________\n",
      "dense_11 (Dense)             (None, 32)                2080      \n",
      "_________________________________________________________________\n",
      "dense_12 (Dense)             (None, 4)                 132       \n",
      "=================================================================\n",
      "Total params: 1,999,972\n",
      "Trainable params: 1,999,972\n",
      "Non-trainable params: 0\n",
      "_________________________________________________________________\n"
     ]
    }
   ],
   "source": [
    "embed_dim = 32  # Embedding size for each token\n",
    "num_heads = 2  # Number of attention heads\n",
    "ff_dim = 32 \n",
    "inputs = Input(shape=(MAX_LENGTH, ))\n",
    "embedding_layer = Embedding(vocab_size,\n",
    "                            128,\n",
    "                            input_length=MAX_LENGTH)(inputs)\n",
    "\n",
    "x = LSTM(64)(embedding_layer)\n",
    "x = Dropout(0.1)(x)\n",
    "x = Dense(64, activation=\"relu\")(x)\n",
    "x = Dropout(0.1)(x)\n",
    "x = Dense(32, activation='relu')(x)\n",
    "predictions = Dense(num_class, activation='softmax')(x)\n",
    "model = Model(inputs=[inputs], outputs=predictions)\n",
    "model.compile(optimizer='adam',\n",
    "              loss='categorical_crossentropy',\n",
    "              metrics=['acc'])\n",
    "\n",
    "model.summary()"
   ]
  },
  {
   "cell_type": "code",
   "execution_count": 50,
   "id": "fda74028",
   "metadata": {},
   "outputs": [
    {
     "name": "stdout",
     "output_type": "stream",
     "text": [
      "Epoch 1/10\n",
      "19/19 [==============================] - ETA: 0s - loss: 1.2779 - acc: 0.5275\n",
      "Epoch 00001: val_acc improved from -inf to 0.52405, saving model to weights.hdf5\n",
      "19/19 [==============================] - 11s 569ms/step - loss: 1.2779 - acc: 0.5275 - val_loss: 1.0671 - val_acc: 0.5241\n",
      "Epoch 2/10\n",
      "19/19 [==============================] - ETA: 0s - loss: 0.9478 - acc: 0.5486\n",
      "Epoch 00002: val_acc did not improve from 0.52405\n",
      "19/19 [==============================] - 10s 530ms/step - loss: 0.9478 - acc: 0.5486 - val_loss: 0.9464 - val_acc: 0.5241\n",
      "Epoch 3/10\n",
      "19/19 [==============================] - ETA: 0s - loss: 0.8698 - acc: 0.5520\n",
      "Epoch 00003: val_acc improved from 0.52405 to 0.55696, saving model to weights.hdf5\n",
      "19/19 [==============================] - 10s 518ms/step - loss: 0.8698 - acc: 0.5520 - val_loss: 0.9120 - val_acc: 0.5570\n",
      "Epoch 4/10\n",
      "19/19 [==============================] - ETA: 0s - loss: 0.6953 - acc: 0.6965\n",
      "Epoch 00004: val_acc improved from 0.55696 to 0.65063, saving model to weights.hdf5\n",
      "19/19 [==============================] - 10s 506ms/step - loss: 0.6953 - acc: 0.6965 - val_loss: 0.8759 - val_acc: 0.6506\n",
      "Epoch 5/10\n",
      "19/19 [==============================] - ETA: 0s - loss: 0.4396 - acc: 0.8495\n",
      "Epoch 00005: val_acc improved from 0.65063 to 0.69114, saving model to weights.hdf5\n",
      "19/19 [==============================] - 10s 548ms/step - loss: 0.4396 - acc: 0.8495 - val_loss: 0.9271 - val_acc: 0.6911\n",
      "Epoch 6/10\n",
      "19/19 [==============================] - ETA: 0s - loss: 0.2878 - acc: 0.9028\n",
      "Epoch 00006: val_acc did not improve from 0.69114\n",
      "19/19 [==============================] - 10s 526ms/step - loss: 0.2878 - acc: 0.9028 - val_loss: 1.0454 - val_acc: 0.6861\n",
      "Epoch 7/10\n",
      "19/19 [==============================] - ETA: 0s - loss: 0.2059 - acc: 0.9214\n",
      "Epoch 00007: val_acc did not improve from 0.69114\n",
      "19/19 [==============================] - 10s 506ms/step - loss: 0.2059 - acc: 0.9214 - val_loss: 1.2035 - val_acc: 0.6582\n",
      "Epoch 8/10\n",
      "19/19 [==============================] - ETA: 0s - loss: 0.1824 - acc: 0.9358\n",
      "Epoch 00008: val_acc did not improve from 0.69114\n",
      "19/19 [==============================] - 9s 500ms/step - loss: 0.1824 - acc: 0.9358 - val_loss: 1.1100 - val_acc: 0.6405\n",
      "Epoch 9/10\n",
      "19/19 [==============================] - ETA: 0s - loss: 0.1246 - acc: 0.9577\n",
      "Epoch 00009: val_acc did not improve from 0.69114\n",
      "19/19 [==============================] - 9s 482ms/step - loss: 0.1246 - acc: 0.9577 - val_loss: 1.2521 - val_acc: 0.6861\n",
      "Epoch 10/10\n",
      "19/19 [==============================] - ETA: 0s - loss: 0.0986 - acc: 0.9662\n",
      "Epoch 00010: val_acc improved from 0.69114 to 0.69367, saving model to weights.hdf5\n",
      "19/19 [==============================] - 9s 499ms/step - loss: 0.0986 - acc: 0.9662 - val_loss: 1.3802 - val_acc: 0.6937\n"
     ]
    }
   ],
   "source": [
    "filepath=\"weights.hdf5\"\n",
    "checkpointer = ModelCheckpoint(filepath, monitor='val_acc', verbose=1, save_best_only=True, mode='max')\n",
    "history = model.fit([X_train], batch_size=64, y=to_categorical(y_train), verbose=1, validation_split=0.25, \n",
    "          shuffle=True, epochs=10, callbacks=[checkpointer])"
   ]
  },
  {
   "cell_type": "code",
   "execution_count": 51,
   "id": "d9779dda",
   "metadata": {},
   "outputs": [
    {
     "data": {
      "image/png": "[encoded data removed]",
      "text/plain": [
       "<Figure size 432x288 with 1 Axes>"
      ]
     },
     "metadata": {
      "needs_background": "light"
     },
     "output_type": "display_data"
    }
   ],
   "source": [
    "df = pd.DataFrame({'epochs':history.epoch, 'accuracy': history.history['acc'], 'validation_accuracy': history.history['val_acc']})\n",
    "g = sns.pointplot(x=\"epochs\", y=\"accuracy\", data=df, fit_reg=False)\n",
    "g = sns.pointplot(x=\"epochs\", y=\"validation_accuracy\", data=df, fit_reg=False, color='green')"
   ]
  },
  {
   "cell_type": "code",
   "execution_count": 52,
   "id": "5b50dd8f",
   "metadata": {},
   "outputs": [],
   "source": [
    "model.load_weights('weights.hdf5')\n",
    "predicted = model.predict(X_test)"
   ]
  },
  {
   "cell_type": "code",
   "execution_count": 53,
   "id": "c67e31d0",
   "metadata": {},
   "outputs": [
    {
     "data": {
      "text/plain": [
       "array([[6.6159968e-04, 9.9882621e-01, 5.1127042e-04, 9.6813312e-07],\n",
       "       [5.0515173e-06, 4.6450764e-04, 9.9952888e-01, 1.5231141e-06],\n",
       "       [2.6740896e-04, 7.8935735e-03, 9.9171937e-01, 1.1962326e-04],\n",
       "       ...,\n",
       "       [1.0659641e-03, 9.9799770e-01, 9.3355856e-04, 2.7046856e-06],\n",
       "       [4.6074367e-04, 2.9348714e-02, 9.7004747e-01, 1.4303472e-04],\n",
       "       [2.2186986e-03, 2.9112648e-02, 9.6740448e-01, 1.2641487e-03]],\n",
       "      dtype=float32)"
      ]
     },
     "execution_count": 53,
     "metadata": {},
     "output_type": "execute_result"
    }
   ],
   "source": [
    "predicted"
   ]
  },
  {
   "cell_type": "code",
   "execution_count": 54,
   "id": "811d1db8",
   "metadata": {},
   "outputs": [],
   "source": [
    "predicted = np.argmax(predicted, axis=1)"
   ]
  },
  {
   "cell_type": "code",
   "execution_count": 55,
   "id": "d1319075",
   "metadata": {},
   "outputs": [
    {
     "data": {
      "text/plain": [
       "0.7037974683544304"
      ]
     },
     "execution_count": 55,
     "metadata": {},
     "output_type": "execute_result"
    }
   ],
   "source": [
    "accuracy_score(y_test, predicted)"
   ]
  },
  {
   "cell_type": "code",
   "execution_count": null,
   "id": "f03b87c4",
   "metadata": {},
   "outputs": [],
   "source": []
  },
  {
   "cell_type": "code",
   "execution_count": null,
   "id": "877d1413",
   "metadata": {},
   "outputs": [],
   "source": []
  }
 ],
 "metadata": {
  "kernelspec": {
   "display_name": "Python 3",
   "language": "python",
   "name": "python3"
  },
  "language_info": {
   "codemirror_mode": {
    "name": "ipython",
    "version": 3
   },
   "file_extension": ".py",
   "mimetype": "text/x-python",
   "name": "python",
   "nbconvert_exporter": "python",
   "pygments_lexer": "ipython3",
   "version": "3.8.8"
  }
 },
 "nbformat": 4,
 "nbformat_minor": 5
}
