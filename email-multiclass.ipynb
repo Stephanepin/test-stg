{
 "cells": [
  {
   "cell_type": "code",
   "execution_count": 1,
   "id": "938b4bde",
   "metadata": {},
   "outputs": [],
   "source": [
    "import numpy as np\n",
    "from numpy import random\n",
    "import gensim\n",
    "import nltk\n",
    "import pandas as pd\n",
    "from sklearn.model_selection import train_test_split\n",
    "from sklearn.feature_extraction.text import CountVectorizer, TfidfVectorizer\n",
    "from sklearn.metrics import accuracy_score, confusion_matrix\n",
    "import matplotlib.pyplot as plt\n",
    "from sklearn.model_selection import cross_val_score\n",
    "from nltk.corpus import stopwords\n",
    "import re\n",
    "%matplotlib inline\n",
    "\n"
   ]
  },
  {
   "cell_type": "code",
   "execution_count": null,
   "id": "15fcc17c",
   "metadata": {},
   "outputs": [],
   "source": [
    "#df=pd.read_excel('final_210504_tous labels.xlsx',engine='openpyxl')\n",
    "df=  pd.read_excel('final_210623_nouveaux labels (1).xlsx',engine='openpyxl')\n",
    "col=['Messages','catégorie']\n",
    "df=df[col]\n",
    "#df=pd.read_csv(\"Consumer_Complaints.csv\")\n",
    "df=df.head(1000)\n",
    "#df = df[pd.notnull(df['catégorie'])]"
   ]
  },
  {
   "cell_type": "code",
   "execution_count": null,
   "id": "986e2dc1",
   "metadata": {},
   "outputs": [],
   "source": [
    "#df['Consumer complaint narrative']"
   ]
  },
  {
   "cell_type": "code",
   "execution_count": null,
   "id": "a5fb1895",
   "metadata": {},
   "outputs": [],
   "source": [
    "df = df[pd.notna(df['Messages'])].reset_index(drop=True)"
   ]
  },
  {
   "cell_type": "code",
   "execution_count": null,
   "id": "83b62038",
   "metadata": {},
   "outputs": [],
   "source": [
    "df.info()"
   ]
  },
  {
   "cell_type": "code",
   "execution_count": null,
   "id": "968047b5",
   "metadata": {},
   "outputs": [],
   "source": [
    "#col = ['Product', 'Consumer complaint narrative']\n",
    "#df = df[col]"
   ]
  },
  {
   "cell_type": "code",
   "execution_count": null,
   "id": "1d664d23",
   "metadata": {},
   "outputs": [],
   "source": [
    "#df.columns = ['Product', 'Consumer_complaint_narrative']"
   ]
  },
  {
   "cell_type": "code",
   "execution_count": null,
   "id": "acf1c309",
   "metadata": {},
   "outputs": [],
   "source": [
    "#df['category_id'] = df['Product'].factorize()[0]\n",
    "#from io import StringIO\n",
    "#category_id_df = df[['Product', 'category_id']].drop_duplicates().sort_values('category_id')\n",
    "#category_to_id = dict(category_id_df.values)\n",
    "#id_to_category = dict(category_id_df[['category_id', 'Product']].values)"
   ]
  },
  {
   "cell_type": "code",
   "execution_count": null,
   "id": "99b88d47",
   "metadata": {},
   "outputs": [],
   "source": [
    "#df=df.rename(columns={\"Product\": \"catégorie\", \"Consumer_complaint_narrative\": \"Messages\"})"
   ]
  },
  {
   "cell_type": "code",
   "execution_count": null,
   "id": "65df40d1",
   "metadata": {},
   "outputs": [],
   "source": [
    "#pd.DataFrame(df.catégorie.unique()).values"
   ]
  },
  {
   "cell_type": "markdown",
   "id": "a02b08be",
   "metadata": {},
   "source": [
    "debut"
   ]
  },
  {
   "cell_type": "code",
   "execution_count": 2,
   "id": "a578cc51",
   "metadata": {},
   "outputs": [],
   "source": [
    "df =  pd.read_excel('final_210504_tous labels_complet.xlsx',engine='openpyxl')\n",
    "col=['Messages','catégorie']\n",
    "df=df[col]\n",
    "df = df[pd.notna(df['Messages'])].reset_index(drop=True)\n",
    "#pd.DataFrame(df[\"n-gramm\"].unique()).values\n",
    "#df=df.head(2000)"
   ]
  },
  {
   "cell_type": "code",
   "execution_count": 3,
   "id": "e90ae368",
   "metadata": {},
   "outputs": [
    {
     "name": "stderr",
     "output_type": "stream",
     "text": [
      "<ipython-input-3-e64ebd80169b>:4: SettingWithCopyWarning: \n",
      "A value is trying to be set on a copy of a slice from a DataFrame\n",
      "\n",
      "See the caveats in the documentation: https://pandas.pydata.org/pandas-docs/stable/user_guide/indexing.html#returning-a-view-versus-a-copy\n",
      "  df['occurence'][i]=ss.find(\"cordialement\")\n"
     ]
    }
   ],
   "source": [
    "df['occurence']=0\n",
    "for i in df.index:\n",
    "    ss=df['Messages'][i].lower()\n",
    "    df['occurence'][i]=ss.find(\"cordialement\")\n",
    "    #if msg['occurence'][i]<0:\n",
    "       # msg['occurence'][i]=ss.find(\"Bien à vous\")\n",
    "        #print(msg['occurence'][i])\n",
    "    \n",
    "    #msg['occurence'][i][0:42]\n",
    "    "
   ]
  },
  {
   "cell_type": "code",
   "execution_count": 4,
   "id": "d650c164",
   "metadata": {},
   "outputs": [
    {
     "data": {
      "text/plain": [
       "a                                 5712\n",
       "contrat                            887\n",
       "commande de badge                  672\n",
       "no message                         492\n",
       "demande de renseignement           309\n",
       "renseignement facture              233\n",
       "réclamation qualité de service     113\n",
       "interne Axxès                       88\n",
       "Name: catégorie, dtype: int64"
      ]
     },
     "execution_count": 4,
     "metadata": {},
     "output_type": "execute_result"
    }
   ],
   "source": [
    "df.catégorie.value_counts()"
   ]
  },
  {
   "cell_type": "code",
   "execution_count": 5,
   "id": "a1e96c16",
   "metadata": {},
   "outputs": [
    {
     "name": "stderr",
     "output_type": "stream",
     "text": [
      "<ipython-input-5-215cf276cbd8>:4: SettingWithCopyWarning: \n",
      "A value is trying to be set on a copy of a slice from a DataFrame\n",
      "\n",
      "See the caveats in the documentation: https://pandas.pydata.org/pandas-docs/stable/user_guide/indexing.html#returning-a-view-versus-a-copy\n",
      "  df['text'][i]=df['Messages'][i][0:df['occurence'][i]]\n",
      "C:\\Users\\bertille.lekeufack\\AppData\\Roaming\\Python\\Python38\\site-packages\\pandas\\core\\indexing.py:1637: SettingWithCopyWarning: \n",
      "A value is trying to be set on a copy of a slice from a DataFrame\n",
      "\n",
      "See the caveats in the documentation: https://pandas.pydata.org/pandas-docs/stable/user_guide/indexing.html#returning-a-view-versus-a-copy\n",
      "  self._setitem_single_block(indexer, value, name)\n",
      "<ipython-input-5-215cf276cbd8>:6: SettingWithCopyWarning: \n",
      "A value is trying to be set on a copy of a slice from a DataFrame\n",
      "\n",
      "See the caveats in the documentation: https://pandas.pydata.org/pandas-docs/stable/user_guide/indexing.html#returning-a-view-versus-a-copy\n",
      "  df['text'][i]=df['Messages'][i]\n"
     ]
    }
   ],
   "source": [
    "df['text']=0\n",
    "for i in df.index:\n",
    "    if df['occurence'][i]>0:\n",
    "        df['text'][i]=df['Messages'][i][0:df['occurence'][i]]\n",
    "    else:\n",
    "        df['text'][i]=df['Messages'][i]\n",
    "         "
   ]
  },
  {
   "cell_type": "code",
   "execution_count": 6,
   "id": "0cd35c5a",
   "metadata": {},
   "outputs": [
    {
     "data": {
      "text/html": [
       "<div>\n",
       "<style scoped>\n",
       "    .dataframe tbody tr th:only-of-type {\n",
       "        vertical-align: middle;\n",
       "    }\n",
       "\n",
       "    .dataframe tbody tr th {\n",
       "        vertical-align: top;\n",
       "    }\n",
       "\n",
       "    .dataframe thead th {\n",
       "        text-align: right;\n",
       "    }\n",
       "</style>\n",
       "<table border=\"1\" class=\"dataframe\">\n",
       "  <thead>\n",
       "    <tr style=\"text-align: right;\">\n",
       "      <th></th>\n",
       "      <th>Messages</th>\n",
       "      <th>catégorie</th>\n",
       "      <th>occurence</th>\n",
       "      <th>text</th>\n",
       "    </tr>\n",
       "  </thead>\n",
       "  <tbody>\n",
       "    <tr>\n",
       "      <th>0</th>\n",
       "      <td>Bonjour,Ci-joint le mandat sepa et le rib.Cord...</td>\n",
       "      <td>contrat</td>\n",
       "      <td>42</td>\n",
       "      <td>Bonjour,Ci-joint le mandat sepa et le rib.</td>\n",
       "    </tr>\n",
       "    <tr>\n",
       "      <th>1</th>\n",
       "      <td>DANIEL   GUEGANSOCIETE DES TRANSPORTS GUEGANCl...</td>\n",
       "      <td>commande de badge</td>\n",
       "      <td>703</td>\n",
       "      <td>DANIEL   GUEGANSOCIETE DES TRANSPORTS GUEGANCl...</td>\n",
       "    </tr>\n",
       "    <tr>\n",
       "      <th>2</th>\n",
       "      <td>Bonjour, J’ai essayé de faire la modification...</td>\n",
       "      <td>contrat</td>\n",
       "      <td>489</td>\n",
       "      <td>Bonjour, J’ai essayé de faire la modification...</td>\n",
       "    </tr>\n",
       "    <tr>\n",
       "      <th>3</th>\n",
       "      <td>Bonjour, merci de me faire un badge avec la gé...</td>\n",
       "      <td>commande de badge</td>\n",
       "      <td>420</td>\n",
       "      <td>Bonjour, merci de me faire un badge avec la gé...</td>\n",
       "    </tr>\n",
       "    <tr>\n",
       "      <th>4</th>\n",
       "      <td>No Message</td>\n",
       "      <td>no message</td>\n",
       "      <td>-1</td>\n",
       "      <td>No Message</td>\n",
       "    </tr>\n",
       "    <tr>\n",
       "      <th>...</th>\n",
       "      <td>...</td>\n",
       "      <td>...</td>\n",
       "      <td>...</td>\n",
       "      <td>...</td>\n",
       "    </tr>\n",
       "    <tr>\n",
       "      <th>8501</th>\n",
       "      <td>RE: SF SANS FRONTIERE - Client n° 000107790  \\...</td>\n",
       "      <td>a</td>\n",
       "      <td>1313</td>\n",
       "      <td>RE: SF SANS FRONTIERE - Client n° 000107790  \\...</td>\n",
       "    </tr>\n",
       "    <tr>\n",
       "      <th>8502</th>\n",
       "      <td>TR:  Confirmation commande n° 000610916 \\n Bon...</td>\n",
       "      <td>a</td>\n",
       "      <td>-1</td>\n",
       "      <td>TR:  Confirmation commande n° 000610916 \\n Bon...</td>\n",
       "    </tr>\n",
       "    <tr>\n",
       "      <th>8503</th>\n",
       "      <td>TR: CPI 110754 AIR LIQUIDE \\n Bonjour marine P...</td>\n",
       "      <td>a</td>\n",
       "      <td>86</td>\n",
       "      <td>TR: CPI 110754 AIR LIQUIDE \\n Bonjour marine P...</td>\n",
       "    </tr>\n",
       "    <tr>\n",
       "      <th>8504</th>\n",
       "      <td>TR: COMMANDE \\n Bonjour marine Avez-vous vu co...</td>\n",
       "      <td>a</td>\n",
       "      <td>121</td>\n",
       "      <td>TR: COMMANDE \\n Bonjour marine Avez-vous vu co...</td>\n",
       "    </tr>\n",
       "    <tr>\n",
       "      <th>8505</th>\n",
       "      <td>Re: Su factura Axxes \\n No tengo el usuario y ...</td>\n",
       "      <td>a</td>\n",
       "      <td>-1</td>\n",
       "      <td>Re: Su factura Axxes \\n No tengo el usuario y ...</td>\n",
       "    </tr>\n",
       "  </tbody>\n",
       "</table>\n",
       "<p>8506 rows × 4 columns</p>\n",
       "</div>"
      ],
      "text/plain": [
       "                                               Messages          catégorie  \\\n",
       "0     Bonjour,Ci-joint le mandat sepa et le rib.Cord...            contrat   \n",
       "1     DANIEL   GUEGANSOCIETE DES TRANSPORTS GUEGANCl...  commande de badge   \n",
       "2      Bonjour, J’ai essayé de faire la modification...            contrat   \n",
       "3     Bonjour, merci de me faire un badge avec la gé...  commande de badge   \n",
       "4                                            No Message         no message   \n",
       "...                                                 ...                ...   \n",
       "8501  RE: SF SANS FRONTIERE - Client n° 000107790  \\...                  a   \n",
       "8502  TR:  Confirmation commande n° 000610916 \\n Bon...                  a   \n",
       "8503  TR: CPI 110754 AIR LIQUIDE \\n Bonjour marine P...                  a   \n",
       "8504  TR: COMMANDE \\n Bonjour marine Avez-vous vu co...                  a   \n",
       "8505  Re: Su factura Axxes \\n No tengo el usuario y ...                  a   \n",
       "\n",
       "      occurence                                               text  \n",
       "0            42         Bonjour,Ci-joint le mandat sepa et le rib.  \n",
       "1           703  DANIEL   GUEGANSOCIETE DES TRANSPORTS GUEGANCl...  \n",
       "2           489   Bonjour, J’ai essayé de faire la modification...  \n",
       "3           420  Bonjour, merci de me faire un badge avec la gé...  \n",
       "4            -1                                         No Message  \n",
       "...         ...                                                ...  \n",
       "8501       1313  RE: SF SANS FRONTIERE - Client n° 000107790  \\...  \n",
       "8502         -1  TR:  Confirmation commande n° 000610916 \\n Bon...  \n",
       "8503         86  TR: CPI 110754 AIR LIQUIDE \\n Bonjour marine P...  \n",
       "8504        121  TR: COMMANDE \\n Bonjour marine Avez-vous vu co...  \n",
       "8505         -1  Re: Su factura Axxes \\n No tengo el usuario y ...  \n",
       "\n",
       "[8506 rows x 4 columns]"
      ]
     },
     "execution_count": 6,
     "metadata": {},
     "output_type": "execute_result"
    }
   ],
   "source": [
    "df"
   ]
  },
  {
   "cell_type": "code",
   "execution_count": 7,
   "id": "66eafd63",
   "metadata": {},
   "outputs": [],
   "source": [
    "\n",
    "commande =['commande','badge','badges','équiper','remplacement','boitier',\n",
    "       'badge;commande','dispositivos','aparatos','commande; badges','badges','commander; obus','appareil ','commande; badge',\n",
    "       'commande; télépéage', 'commande ','commande;télébadge','cartes','télé péage','commander; télépéages','commander;télépéage',\n",
    "       'badge;télépéage','commande; remplacement; télébadge','commande','boitiers','commander;badge','boitier ','commander; badges',\n",
    "       'tags','remplacer ; badges','commande créée','nouveau badge','votre commande','nouvelle commande','badge supplémentaire',\n",
    "       'nouveaux badges','remplacement badge','Nuevos dispositivos','confirmation commande','commande badge','badges autoroute',\n",
    "       'demande badge','dispositivos nuevos','toll tags','commande de badge','commande de badges; fichier de commande',\n",
    "       'demande de remplacement','parvenir un badge','bon de commande','valider cette commande','envoyer un badge',\n",
    "       'badge supplémentaire','remplacement du badge',\"commande d'un badge\",'recevoir le badge','commande passée','demande de badge',\n",
    "       'demande de badges','envoyer le badge','commander un obus','appareil de localisation ','commande de télépéage',\n",
    "       'commander un badge','fichier de commande','commande de télébadge',\"badge d'autoroute\",'demander un badge','renvoyer un badge',\n",
    "       'commander 1 télépéage','badges de télépéage','valider la commande','équiper de boitiers','commander 1 badge','liste de badges',\n",
    "       'badges demandés','commander 2 badges',\"création d'un badge\",'AFM','commande prise en compte','faire un badge',\n",
    "       'demande de nouveau badge','valider au plus vite votre commande','valider ma commande de badge','suite à notre commande',\n",
    "       'commande du nouveau badge','remplacement de votre badge',\"équiper ce nouveau véhicule d'un badge\",'demande de badge supplémentaire',\n",
    "       'solicitamos 8 dispositivos','parvenir un badge supplémentaire','Solicitud de 6 aparatos','commande de 2 badges',\n",
    "       \"nous avons besoin d'un appareil de localisation\",'suite à ma commande',\"m'enregistrer et m'envoyer un nouveau badge\",\n",
    "       'traitement de la commande','nouvelle commande de badge','commande pour un badge','nous aimerions un badge','obtenir les cartes rapidement',\n",
    "       'commande XXXX badge du camion','commande de badge supplémentaire','parvenir un télé péage','solicitud de 2 nuevos dispositivos',\n",
    "       'commander 2 télépéages','carte grise pour la commande','il me faudrait 18 badges autoroute','commande de 9 nouveaux badges',\n",
    "       'valider ma commande','bon de commande d\\'un nouveau badge',\n",
    "       'votre commande concernant vos VL','merci de livrer ce boitier','commande pour un badge supplémentaire','nouveaux badges à envoyer','ces badges doivents être à priori remplacés par des badges',\n",
    "       \"nous avons besoin d'un badge supplémentaire\",'merci de bien vouloir nous adresser le boitier',\n",
    "       'enregistrement de votre commande','send me 2 toll tags','remplacer tous les badges','parvenir les badges','commande pour 2 nouveaux badges',\n",
    "       'carte grise correspondant à notre commande']"
   ]
  },
  {
   "cell_type": "code",
   "execution_count": null,
   "id": "bcc9448e",
   "metadata": {},
   "outputs": [],
   "source": [
    "from nltk.stem.snowball import FrenchStemmer\n",
    "stemmer = FrenchStemmer()\n",
    "stopwords = nltk.corpus.stopwords.words('french') + nltk.corpus.stopwords.words('english')\n",
    "m=[]\n",
    "for i in commande:  \n",
    "    y=re.sub(r'\\d+','',i)\n",
    "    y=re.split(r\"\\s+|;|,\",i.lower())\n",
    "    for j in y:\n",
    "        if j not in stopwords:\n",
    "            p=re.sub(\"\\d+\",\"\",j)\n",
    "            o=stemmer.stem(p)\n",
    "            m.append(o)\n"
   ]
  },
  {
   "cell_type": "code",
   "execution_count": null,
   "id": "56a4bbb3",
   "metadata": {},
   "outputs": [],
   "source": [
    "com=m+commande\n"
   ]
  },
  {
   "cell_type": "code",
   "execution_count": null,
   "id": "fa3f8f7c",
   "metadata": {},
   "outputs": [],
   "source": [
    "#commande\n",
    "#text= df['Messages'][i].split(' ')\n",
    "len(com)"
   ]
  },
  {
   "cell_type": "code",
   "execution_count": 8,
   "id": "4c13acba",
   "metadata": {},
   "outputs": [
    {
     "data": {
      "text/plain": [
       "a                                 5712\n",
       "contrat                            887\n",
       "commande de badge                  672\n",
       "no message                         492\n",
       "demande de renseignement           309\n",
       "renseignement facture              233\n",
       "réclamation qualité de service     113\n",
       "interne Axxès                       88\n",
       "Name: catégorie, dtype: int64"
      ]
     },
     "execution_count": 8,
     "metadata": {},
     "output_type": "execute_result"
    }
   ],
   "source": [
    "df.catégorie.value_counts()"
   ]
  },
  {
   "cell_type": "code",
   "execution_count": 9,
   "id": "ea5e3bf9",
   "metadata": {},
   "outputs": [
    {
     "name": "stderr",
     "output_type": "stream",
     "text": [
      "<ipython-input-9-1b46c8c5344f>:7: SettingWithCopyWarning: \n",
      "A value is trying to be set on a copy of a slice from a DataFrame\n",
      "\n",
      "See the caveats in the documentation: https://pandas.pydata.org/pandas-docs/stable/user_guide/indexing.html#returning-a-view-versus-a-copy\n",
      "  df['catégorie'][i] = \"commande de badge\"\n"
     ]
    }
   ],
   "source": [
    "comm=df.loc[df['catégorie']=='a']\n",
    "for i in  comm.index:\n",
    "    ss=df['text'][i].lower()\n",
    "    for j in commande :\n",
    "        t = ss.find(j)\n",
    "        if t>0:\n",
    "            df['catégorie'][i] = \"commande de badge\"\n",
    "            break\n",
    "            \n",
    "        \n",
    "        "
   ]
  },
  {
   "cell_type": "code",
   "execution_count": 10,
   "id": "9e7a0505",
   "metadata": {},
   "outputs": [
    {
     "data": {
      "text/html": [
       "<div>\n",
       "<style scoped>\n",
       "    .dataframe tbody tr th:only-of-type {\n",
       "        vertical-align: middle;\n",
       "    }\n",
       "\n",
       "    .dataframe tbody tr th {\n",
       "        vertical-align: top;\n",
       "    }\n",
       "\n",
       "    .dataframe thead th {\n",
       "        text-align: right;\n",
       "    }\n",
       "</style>\n",
       "<table border=\"1\" class=\"dataframe\">\n",
       "  <thead>\n",
       "    <tr style=\"text-align: right;\">\n",
       "      <th></th>\n",
       "      <th>Messages</th>\n",
       "      <th>catégorie</th>\n",
       "      <th>occurence</th>\n",
       "      <th>text</th>\n",
       "    </tr>\n",
       "  </thead>\n",
       "  <tbody>\n",
       "    <tr>\n",
       "      <th>8486</th>\n",
       "      <td>Lu : Modif carte grise sur boitier AXXES - not...</td>\n",
       "      <td>commande de badge</td>\n",
       "      <td>-1</td>\n",
       "      <td>Lu : Modif carte grise sur boitier AXXES - not...</td>\n",
       "    </tr>\n",
       "    <tr>\n",
       "      <th>8487</th>\n",
       "      <td>Modif carte grise sur boitier AXXES - notre lo...</td>\n",
       "      <td>commande de badge</td>\n",
       "      <td>-1</td>\n",
       "      <td>Modif carte grise sur boitier AXXES - notre lo...</td>\n",
       "    </tr>\n",
       "    <tr>\n",
       "      <th>8488</th>\n",
       "      <td>Lu : Modif carte grise sur boitier AXXES - not...</td>\n",
       "      <td>commande de badge</td>\n",
       "      <td>-1</td>\n",
       "      <td>Lu : Modif carte grise sur boitier AXXES - not...</td>\n",
       "    </tr>\n",
       "    <tr>\n",
       "      <th>8489</th>\n",
       "      <td>Modif carte grise sur boitier AXXES - notre lo...</td>\n",
       "      <td>commande de badge</td>\n",
       "      <td>-1</td>\n",
       "      <td>Modif carte grise sur boitier AXXES - notre lo...</td>\n",
       "    </tr>\n",
       "    <tr>\n",
       "      <th>8490</th>\n",
       "      <td>Lu : Modif carte grise sur boitier AXXES - not...</td>\n",
       "      <td>commande de badge</td>\n",
       "      <td>-1</td>\n",
       "      <td>Lu : Modif carte grise sur boitier AXXES - not...</td>\n",
       "    </tr>\n",
       "    <tr>\n",
       "      <th>8491</th>\n",
       "      <td>Modif carte grise sur boitier AXXES - notre lo...</td>\n",
       "      <td>commande de badge</td>\n",
       "      <td>-1</td>\n",
       "      <td>Modif carte grise sur boitier AXXES - notre lo...</td>\n",
       "    </tr>\n",
       "    <tr>\n",
       "      <th>8492</th>\n",
       "      <td>AROLOG - Boitier AXXES Hors service 1889 \\n Bo...</td>\n",
       "      <td>commande de badge</td>\n",
       "      <td>-1</td>\n",
       "      <td>AROLOG - Boitier AXXES Hors service 1889 \\n Bo...</td>\n",
       "    </tr>\n",
       "    <tr>\n",
       "      <th>8493</th>\n",
       "      <td>Modif carte grise sur boitier AXXES - notre lo...</td>\n",
       "      <td>commande de badge</td>\n",
       "      <td>-1</td>\n",
       "      <td>Modif carte grise sur boitier AXXES - notre lo...</td>\n",
       "    </tr>\n",
       "    <tr>\n",
       "      <th>8494</th>\n",
       "      <td>Modif carte grise sur boitier AXXES - notre lo...</td>\n",
       "      <td>commande de badge</td>\n",
       "      <td>-1</td>\n",
       "      <td>Modif carte grise sur boitier AXXES - notre lo...</td>\n",
       "    </tr>\n",
       "    <tr>\n",
       "      <th>8495</th>\n",
       "      <td>Modif carte grise sur boitier AXXES - notre lo...</td>\n",
       "      <td>commande de badge</td>\n",
       "      <td>-1</td>\n",
       "      <td>Modif carte grise sur boitier AXXES - notre lo...</td>\n",
       "    </tr>\n",
       "    <tr>\n",
       "      <th>8496</th>\n",
       "      <td>Lu : Modif carte grise sur boitier AXXES - not...</td>\n",
       "      <td>commande de badge</td>\n",
       "      <td>-1</td>\n",
       "      <td>Lu : Modif carte grise sur boitier AXXES - not...</td>\n",
       "    </tr>\n",
       "    <tr>\n",
       "      <th>8497</th>\n",
       "      <td>KMX / Modification informations client \\n   Mo...</td>\n",
       "      <td>a</td>\n",
       "      <td>-1</td>\n",
       "      <td>KMX / Modification informations client \\n   Mo...</td>\n",
       "    </tr>\n",
       "    <tr>\n",
       "      <th>8498</th>\n",
       "      <td>KMX / Modification informations client \\n   Mo...</td>\n",
       "      <td>a</td>\n",
       "      <td>-1</td>\n",
       "      <td>KMX / Modification informations client \\n   Mo...</td>\n",
       "    </tr>\n",
       "    <tr>\n",
       "      <th>8499</th>\n",
       "      <td>Financement participatif  \\n     Bonjour,    J...</td>\n",
       "      <td>a</td>\n",
       "      <td>1385</td>\n",
       "      <td>Financement participatif  \\n     Bonjour,    J...</td>\n",
       "    </tr>\n",
       "    <tr>\n",
       "      <th>8500</th>\n",
       "      <td>FOURNISSEUR GO FLEET SOLUTIONS / ACHT N°724243...</td>\n",
       "      <td>a</td>\n",
       "      <td>1162</td>\n",
       "      <td>FOURNISSEUR GO FLEET SOLUTIONS / ACHT N°724243...</td>\n",
       "    </tr>\n",
       "    <tr>\n",
       "      <th>8501</th>\n",
       "      <td>RE: SF SANS FRONTIERE - Client n° 000107790  \\...</td>\n",
       "      <td>commande de badge</td>\n",
       "      <td>1313</td>\n",
       "      <td>RE: SF SANS FRONTIERE - Client n° 000107790  \\...</td>\n",
       "    </tr>\n",
       "    <tr>\n",
       "      <th>8502</th>\n",
       "      <td>TR:  Confirmation commande n° 000610916 \\n Bon...</td>\n",
       "      <td>commande de badge</td>\n",
       "      <td>-1</td>\n",
       "      <td>TR:  Confirmation commande n° 000610916 \\n Bon...</td>\n",
       "    </tr>\n",
       "    <tr>\n",
       "      <th>8503</th>\n",
       "      <td>TR: CPI 110754 AIR LIQUIDE \\n Bonjour marine P...</td>\n",
       "      <td>commande de badge</td>\n",
       "      <td>86</td>\n",
       "      <td>TR: CPI 110754 AIR LIQUIDE \\n Bonjour marine P...</td>\n",
       "    </tr>\n",
       "    <tr>\n",
       "      <th>8504</th>\n",
       "      <td>TR: COMMANDE \\n Bonjour marine Avez-vous vu co...</td>\n",
       "      <td>commande de badge</td>\n",
       "      <td>121</td>\n",
       "      <td>TR: COMMANDE \\n Bonjour marine Avez-vous vu co...</td>\n",
       "    </tr>\n",
       "    <tr>\n",
       "      <th>8505</th>\n",
       "      <td>Re: Su factura Axxes \\n No tengo el usuario y ...</td>\n",
       "      <td>a</td>\n",
       "      <td>-1</td>\n",
       "      <td>Re: Su factura Axxes \\n No tengo el usuario y ...</td>\n",
       "    </tr>\n",
       "  </tbody>\n",
       "</table>\n",
       "</div>"
      ],
      "text/plain": [
       "                                               Messages          catégorie  \\\n",
       "8486  Lu : Modif carte grise sur boitier AXXES - not...  commande de badge   \n",
       "8487  Modif carte grise sur boitier AXXES - notre lo...  commande de badge   \n",
       "8488  Lu : Modif carte grise sur boitier AXXES - not...  commande de badge   \n",
       "8489  Modif carte grise sur boitier AXXES - notre lo...  commande de badge   \n",
       "8490  Lu : Modif carte grise sur boitier AXXES - not...  commande de badge   \n",
       "8491  Modif carte grise sur boitier AXXES - notre lo...  commande de badge   \n",
       "8492  AROLOG - Boitier AXXES Hors service 1889 \\n Bo...  commande de badge   \n",
       "8493  Modif carte grise sur boitier AXXES - notre lo...  commande de badge   \n",
       "8494  Modif carte grise sur boitier AXXES - notre lo...  commande de badge   \n",
       "8495  Modif carte grise sur boitier AXXES - notre lo...  commande de badge   \n",
       "8496  Lu : Modif carte grise sur boitier AXXES - not...  commande de badge   \n",
       "8497  KMX / Modification informations client \\n   Mo...                  a   \n",
       "8498  KMX / Modification informations client \\n   Mo...                  a   \n",
       "8499  Financement participatif  \\n     Bonjour,    J...                  a   \n",
       "8500  FOURNISSEUR GO FLEET SOLUTIONS / ACHT N°724243...                  a   \n",
       "8501  RE: SF SANS FRONTIERE - Client n° 000107790  \\...  commande de badge   \n",
       "8502  TR:  Confirmation commande n° 000610916 \\n Bon...  commande de badge   \n",
       "8503  TR: CPI 110754 AIR LIQUIDE \\n Bonjour marine P...  commande de badge   \n",
       "8504  TR: COMMANDE \\n Bonjour marine Avez-vous vu co...  commande de badge   \n",
       "8505  Re: Su factura Axxes \\n No tengo el usuario y ...                  a   \n",
       "\n",
       "      occurence                                               text  \n",
       "8486         -1  Lu : Modif carte grise sur boitier AXXES - not...  \n",
       "8487         -1  Modif carte grise sur boitier AXXES - notre lo...  \n",
       "8488         -1  Lu : Modif carte grise sur boitier AXXES - not...  \n",
       "8489         -1  Modif carte grise sur boitier AXXES - notre lo...  \n",
       "8490         -1  Lu : Modif carte grise sur boitier AXXES - not...  \n",
       "8491         -1  Modif carte grise sur boitier AXXES - notre lo...  \n",
       "8492         -1  AROLOG - Boitier AXXES Hors service 1889 \\n Bo...  \n",
       "8493         -1  Modif carte grise sur boitier AXXES - notre lo...  \n",
       "8494         -1  Modif carte grise sur boitier AXXES - notre lo...  \n",
       "8495         -1  Modif carte grise sur boitier AXXES - notre lo...  \n",
       "8496         -1  Lu : Modif carte grise sur boitier AXXES - not...  \n",
       "8497         -1  KMX / Modification informations client \\n   Mo...  \n",
       "8498         -1  KMX / Modification informations client \\n   Mo...  \n",
       "8499       1385  Financement participatif  \\n     Bonjour,    J...  \n",
       "8500       1162  FOURNISSEUR GO FLEET SOLUTIONS / ACHT N°724243...  \n",
       "8501       1313  RE: SF SANS FRONTIERE - Client n° 000107790  \\...  \n",
       "8502         -1  TR:  Confirmation commande n° 000610916 \\n Bon...  \n",
       "8503         86  TR: CPI 110754 AIR LIQUIDE \\n Bonjour marine P...  \n",
       "8504        121  TR: COMMANDE \\n Bonjour marine Avez-vous vu co...  \n",
       "8505         -1  Re: Su factura Axxes \\n No tengo el usuario y ...  "
      ]
     },
     "execution_count": 10,
     "metadata": {},
     "output_type": "execute_result"
    }
   ],
   "source": [
    "df.tail(20)"
   ]
  },
  {
   "cell_type": "code",
   "execution_count": 11,
   "id": "5c85b5d3",
   "metadata": {},
   "outputs": [
    {
     "data": {
      "text/plain": [
       "a                                 3402\n",
       "commande de badge                 2982\n",
       "contrat                            887\n",
       "no message                         492\n",
       "demande de renseignement           309\n",
       "renseignement facture              233\n",
       "réclamation qualité de service     113\n",
       "interne Axxès                       88\n",
       "Name: catégorie, dtype: int64"
      ]
     },
     "execution_count": 11,
     "metadata": {},
     "output_type": "execute_result"
    }
   ],
   "source": [
    "df.catégorie.value_counts()"
   ]
  },
  {
   "cell_type": "code",
   "execution_count": null,
   "id": "154ce79b",
   "metadata": {},
   "outputs": [],
   "source": [
    "df.replace({'catégorie': \n",
    "             {'no message': 'autre', \n",
    "             'contrat' : 'autre',                           \n",
    "             'badge' :  'autre',                            \n",
    "             'renseignement facture' : 'autre',             \n",
    "             'demande de renseignement' :  'autre',         \n",
    "             'interne Axxès'  :  'autre',                   \n",
    "             'impayé' :  'autre',\n",
    "             'AFM': 'autre',\n",
    "             'a':'autre',\n",
    "             'réclamation qualité de service' :'autre'\n",
    "              # 'renseignement facture': 'demande de renseignement,réclamation qualité de service,impayé,renseignement facture',\n",
    "              #'réclamation qualité de service': 'demande de renseignement,réclamation qualité de service,impayé,renseignement facture',\n",
    "              #'AFM': 'AFM,contrat,interne Axxès',\n",
    "              #'contrat': 'AFM,contrat,interne Axxès',\n",
    "              # 'impayé':'demande de renseignement,réclamation qualité de service,impayé,renseignement facture',\n",
    "              # 'demande de renseignement':'demande de renseignement,réclamation qualité de service,impayé,renseignement facture',\n",
    "               #'no message':'AFM,contrat,interne Axxès',\n",
    "    \n",
    "              #'interne Axxès':'AFM,contrat,interne Axxès'}\n",
    "             # 'impayé,renseignement facture':'demande de renseignement,réclamation qualité de service,impayé,renseignement facture'\n",
    "            }}, \n",
    "            inplace= True)"
   ]
  },
  {
   "cell_type": "code",
   "execution_count": null,
   "id": "53dae442",
   "metadata": {},
   "outputs": [],
   "source": [
    "df.catégorie.value_counts()"
   ]
  },
  {
   "cell_type": "markdown",
   "id": "f470e1c7",
   "metadata": {},
   "source": [
    "facture"
   ]
  },
  {
   "cell_type": "code",
   "execution_count": 12,
   "id": "6ae8303f",
   "metadata": {},
   "outputs": [],
   "source": [
    "facture=[\"ci-joint la facture\",\"pouvez-vous éditer ce duplicata\",\"ci-joint les factures\",\"indemnité pour badge non restitué\",\n",
    "        \"justificatif de virement\",\"demande de duplicata\",\"frais de facturation\",\"duplicata de facture\",\"demande d'avoir\",\"mise en demeure\", \"payer\",\n",
    "        \"Facture\",\"facture; duplicata\",\"factures\", \"duplicatas\",\"facture\",\"duplicata\",\"factures; duplicatas\",\"duplicatas\",\n",
    "        \"facturé\",\"factura\",\"facturar\",\"facture; avoir\",\"pagamento; prelevement\",\"indemnité\",\"facturation\",\"frais; facturés\",\n",
    "        \"remboursement\",\"règlement\",\"virement\",\"montant\",\"facture payée\"]"
   ]
  },
  {
   "cell_type": "code",
   "execution_count": null,
   "id": "fa6a8179",
   "metadata": {},
   "outputs": [],
   "source": [
    "len(facture)"
   ]
  },
  {
   "cell_type": "code",
   "execution_count": null,
   "id": "caeda268",
   "metadata": {},
   "outputs": [],
   "source": [
    "from nltk.stem.snowball import FrenchStemmer\n",
    "stemmer = FrenchStemmer()\n",
    "stopwords = nltk.corpus.stopwords.words('french') + nltk.corpus.stopwords.words('english')\n",
    "f=[]\n",
    "for i in facture:  \n",
    "    y=re.sub(r'\\d+','',i)\n",
    "    y=re.split(r\"\\s+|;|,\",i.lower())\n",
    "    for j in y:\n",
    "        if j not in stopwords:\n",
    "            p=re.sub(\"\\d+\",\"\",j)\n",
    "            o=stemmer.stem(p)\n",
    "            f.append(o)"
   ]
  },
  {
   "cell_type": "code",
   "execution_count": null,
   "id": "2cab6e73",
   "metadata": {},
   "outputs": [],
   "source": [
    "factt=f+facture"
   ]
  },
  {
   "cell_type": "code",
   "execution_count": null,
   "id": "cf6bd212",
   "metadata": {},
   "outputs": [],
   "source": [
    "len(factt)"
   ]
  },
  {
   "cell_type": "code",
   "execution_count": 13,
   "id": "8b1c9259",
   "metadata": {},
   "outputs": [
    {
     "data": {
      "text/plain": [
       "a                                 3402\n",
       "commande de badge                 2982\n",
       "contrat                            887\n",
       "no message                         492\n",
       "demande de renseignement           309\n",
       "renseignement facture              233\n",
       "réclamation qualité de service     113\n",
       "interne Axxès                       88\n",
       "Name: catégorie, dtype: int64"
      ]
     },
     "execution_count": 13,
     "metadata": {},
     "output_type": "execute_result"
    }
   ],
   "source": [
    "df.catégorie.value_counts()"
   ]
  },
  {
   "cell_type": "code",
   "execution_count": 14,
   "id": "4966a995",
   "metadata": {},
   "outputs": [
    {
     "name": "stderr",
     "output_type": "stream",
     "text": [
      "<ipython-input-14-48cf57c61250>:7: SettingWithCopyWarning: \n",
      "A value is trying to be set on a copy of a slice from a DataFrame\n",
      "\n",
      "See the caveats in the documentation: https://pandas.pydata.org/pandas-docs/stable/user_guide/indexing.html#returning-a-view-versus-a-copy\n",
      "  df['catégorie'][i] = \"renseignement facture\"\n"
     ]
    }
   ],
   "source": [
    "fact=df.loc[df['catégorie']=='a']\n",
    "for i in fact.index:\n",
    "    ss=df['text'][i].lower()\n",
    "    for j in facture :\n",
    "        t = ss.find(j)\n",
    "        if t>0:\n",
    "            df['catégorie'][i] = \"renseignement facture\"\n",
    "            break\n",
    "        "
   ]
  },
  {
   "cell_type": "code",
   "execution_count": 15,
   "id": "f9a5dd12",
   "metadata": {},
   "outputs": [
    {
     "data": {
      "text/html": [
       "<div>\n",
       "<style scoped>\n",
       "    .dataframe tbody tr th:only-of-type {\n",
       "        vertical-align: middle;\n",
       "    }\n",
       "\n",
       "    .dataframe tbody tr th {\n",
       "        vertical-align: top;\n",
       "    }\n",
       "\n",
       "    .dataframe thead th {\n",
       "        text-align: right;\n",
       "    }\n",
       "</style>\n",
       "<table border=\"1\" class=\"dataframe\">\n",
       "  <thead>\n",
       "    <tr style=\"text-align: right;\">\n",
       "      <th></th>\n",
       "      <th>Messages</th>\n",
       "      <th>catégorie</th>\n",
       "      <th>occurence</th>\n",
       "      <th>text</th>\n",
       "    </tr>\n",
       "  </thead>\n",
       "  <tbody>\n",
       "    <tr>\n",
       "      <th>0</th>\n",
       "      <td>Bonjour,Ci-joint le mandat sepa et le rib.Cord...</td>\n",
       "      <td>contrat</td>\n",
       "      <td>42</td>\n",
       "      <td>Bonjour,Ci-joint le mandat sepa et le rib.</td>\n",
       "    </tr>\n",
       "    <tr>\n",
       "      <th>1</th>\n",
       "      <td>DANIEL   GUEGANSOCIETE DES TRANSPORTS GUEGANCl...</td>\n",
       "      <td>commande de badge</td>\n",
       "      <td>703</td>\n",
       "      <td>DANIEL   GUEGANSOCIETE DES TRANSPORTS GUEGANCl...</td>\n",
       "    </tr>\n",
       "    <tr>\n",
       "      <th>2</th>\n",
       "      <td>Bonjour, J’ai essayé de faire la modification...</td>\n",
       "      <td>contrat</td>\n",
       "      <td>489</td>\n",
       "      <td>Bonjour, J’ai essayé de faire la modification...</td>\n",
       "    </tr>\n",
       "    <tr>\n",
       "      <th>3</th>\n",
       "      <td>Bonjour, merci de me faire un badge avec la gé...</td>\n",
       "      <td>commande de badge</td>\n",
       "      <td>420</td>\n",
       "      <td>Bonjour, merci de me faire un badge avec la gé...</td>\n",
       "    </tr>\n",
       "    <tr>\n",
       "      <th>4</th>\n",
       "      <td>No Message</td>\n",
       "      <td>no message</td>\n",
       "      <td>-1</td>\n",
       "      <td>No Message</td>\n",
       "    </tr>\n",
       "    <tr>\n",
       "      <th>5</th>\n",
       "      <td>Bonjour, L'appareil 3156490017550003485 a été ...</td>\n",
       "      <td>réclamation qualité de service</td>\n",
       "      <td>2462</td>\n",
       "      <td>Bonjour, L'appareil 3156490017550003485 a été ...</td>\n",
       "    </tr>\n",
       "    <tr>\n",
       "      <th>6</th>\n",
       "      <td>Bonjour, Je vous envoie ci-joint une demande d...</td>\n",
       "      <td>commande de badge</td>\n",
       "      <td>164</td>\n",
       "      <td>Bonjour, Je vous envoie ci-joint une demande d...</td>\n",
       "    </tr>\n",
       "    <tr>\n",
       "      <th>7</th>\n",
       "      <td>Avec les fichiers … Avec toutes mes excuses. B...</td>\n",
       "      <td>contrat</td>\n",
       "      <td>-1</td>\n",
       "      <td>Avec les fichiers … Avec toutes mes excuses. B...</td>\n",
       "    </tr>\n",
       "    <tr>\n",
       "      <th>8</th>\n",
       "      <td>Bonjour,Veuillez trouver ci-jointe la carte gr...</td>\n",
       "      <td>commande de badge</td>\n",
       "      <td>62</td>\n",
       "      <td>Bonjour,Veuillez trouver ci-jointe la carte gr...</td>\n",
       "    </tr>\n",
       "    <tr>\n",
       "      <th>9</th>\n",
       "      <td>No Message</td>\n",
       "      <td>no message</td>\n",
       "      <td>-1</td>\n",
       "      <td>No Message</td>\n",
       "    </tr>\n",
       "    <tr>\n",
       "      <th>10</th>\n",
       "      <td>No Message</td>\n",
       "      <td>no message</td>\n",
       "      <td>-1</td>\n",
       "      <td>No Message</td>\n",
       "    </tr>\n",
       "    <tr>\n",
       "      <th>11</th>\n",
       "      <td>No Message</td>\n",
       "      <td>no message</td>\n",
       "      <td>-1</td>\n",
       "      <td>No Message</td>\n",
       "    </tr>\n",
       "    <tr>\n",
       "      <th>12</th>\n",
       "      <td>No Message</td>\n",
       "      <td>no message</td>\n",
       "      <td>-1</td>\n",
       "      <td>No Message</td>\n",
       "    </tr>\n",
       "    <tr>\n",
       "      <th>13</th>\n",
       "      <td>No Message</td>\n",
       "      <td>no message</td>\n",
       "      <td>-1</td>\n",
       "      <td>No Message</td>\n",
       "    </tr>\n",
       "    <tr>\n",
       "      <th>14</th>\n",
       "      <td>Bonjour, Afin de valider ma commande de badge,...</td>\n",
       "      <td>commande de badge</td>\n",
       "      <td>330</td>\n",
       "      <td>Bonjour, Afin de valider ma commande de badge,...</td>\n",
       "    </tr>\n",
       "    <tr>\n",
       "      <th>15</th>\n",
       "      <td>Bonjour Nous vous remettons les justificatifs...</td>\n",
       "      <td>contrat</td>\n",
       "      <td>130</td>\n",
       "      <td>Bonjour Nous vous remettons les justificatifs...</td>\n",
       "    </tr>\n",
       "    <tr>\n",
       "      <th>16</th>\n",
       "      <td>Bonjour,  Suite à notre commande N° 000585944,...</td>\n",
       "      <td>commande de badge</td>\n",
       "      <td>118</td>\n",
       "      <td>Bonjour,  Suite à notre commande N° 000585944,...</td>\n",
       "    </tr>\n",
       "    <tr>\n",
       "      <th>17</th>\n",
       "      <td>No Message</td>\n",
       "      <td>no message</td>\n",
       "      <td>-1</td>\n",
       "      <td>No Message</td>\n",
       "    </tr>\n",
       "    <tr>\n",
       "      <th>18</th>\n",
       "      <td>No Message</td>\n",
       "      <td>no message</td>\n",
       "      <td>-1</td>\n",
       "      <td>No Message</td>\n",
       "    </tr>\n",
       "    <tr>\n",
       "      <th>19</th>\n",
       "      <td>Bonjour Madame ABANE Nous sommes toujours dans...</td>\n",
       "      <td>réclamation qualité de service</td>\n",
       "      <td>263</td>\n",
       "      <td>Bonjour Madame ABANE Nous sommes toujours dans...</td>\n",
       "    </tr>\n",
       "    <tr>\n",
       "      <th>20</th>\n",
       "      <td>No Message</td>\n",
       "      <td>no message</td>\n",
       "      <td>-1</td>\n",
       "      <td>No Message</td>\n",
       "    </tr>\n",
       "    <tr>\n",
       "      <th>21</th>\n",
       "      <td>De : Nathalie LOUGEEnvoyé : mercredi 5 août 2...</td>\n",
       "      <td>interne Axxès</td>\n",
       "      <td>-1</td>\n",
       "      <td>De : Nathalie LOUGEEnvoyé : mercredi 5 août 2...</td>\n",
       "    </tr>\n",
       "    <tr>\n",
       "      <th>22</th>\n",
       "      <td>No Message</td>\n",
       "      <td>no message</td>\n",
       "      <td>-1</td>\n",
       "      <td>No Message</td>\n",
       "    </tr>\n",
       "    <tr>\n",
       "      <th>23</th>\n",
       "      <td>Bonjour,CW-639-BN   MERCI DE METTRE EN LIBELLE...</td>\n",
       "      <td>contrat</td>\n",
       "      <td>745</td>\n",
       "      <td>Bonjour,CW-639-BN   MERCI DE METTRE EN LIBELLE...</td>\n",
       "    </tr>\n",
       "    <tr>\n",
       "      <th>24</th>\n",
       "      <td>No Message</td>\n",
       "      <td>no message</td>\n",
       "      <td>-1</td>\n",
       "      <td>No Message</td>\n",
       "    </tr>\n",
       "    <tr>\n",
       "      <th>25</th>\n",
       "      <td>No Message</td>\n",
       "      <td>no message</td>\n",
       "      <td>-1</td>\n",
       "      <td>No Message</td>\n",
       "    </tr>\n",
       "    <tr>\n",
       "      <th>26</th>\n",
       "      <td>Bonjour,Ci-joint la facture,Cordialment, Myria...</td>\n",
       "      <td>renseignement facture</td>\n",
       "      <td>1104</td>\n",
       "      <td>Bonjour,Ci-joint la facture,Cordialment, Myria...</td>\n",
       "    </tr>\n",
       "    <tr>\n",
       "      <th>27</th>\n",
       "      <td>Bonjour, En pièce jointe bilan comptable 2019....</td>\n",
       "      <td>contrat</td>\n",
       "      <td>47</td>\n",
       "      <td>Bonjour, En pièce jointe bilan comptable 2019.</td>\n",
       "    </tr>\n",
       "    <tr>\n",
       "      <th>28</th>\n",
       "      <td>Bonjour,Ci-joint les factures,Cordialement Myr...</td>\n",
       "      <td>renseignement facture</td>\n",
       "      <td>30</td>\n",
       "      <td>Bonjour,Ci-joint les factures,</td>\n",
       "    </tr>\n",
       "    <tr>\n",
       "      <th>29</th>\n",
       "      <td>Monsieur Rascol, Comme convenu, le tableau dem...</td>\n",
       "      <td>demande de renseignement</td>\n",
       "      <td>1007</td>\n",
       "      <td>Monsieur Rascol, Comme convenu, le tableau dem...</td>\n",
       "    </tr>\n",
       "    <tr>\n",
       "      <th>30</th>\n",
       "      <td>Bonjour, Je vous fais suivre le justificatif d...</td>\n",
       "      <td>renseignement facture</td>\n",
       "      <td>-1</td>\n",
       "      <td>Bonjour, Je vous fais suivre le justificatif d...</td>\n",
       "    </tr>\n",
       "    <tr>\n",
       "      <th>31</th>\n",
       "      <td>Bonjour,Ci-joint les factures,Cordialement, My...</td>\n",
       "      <td>renseignement facture</td>\n",
       "      <td>30</td>\n",
       "      <td>Bonjour,Ci-joint les factures,</td>\n",
       "    </tr>\n",
       "    <tr>\n",
       "      <th>32</th>\n",
       "      <td>Bonjour,Ci-joint la facture,Cordialement, Myri...</td>\n",
       "      <td>renseignement facture</td>\n",
       "      <td>28</td>\n",
       "      <td>Bonjour,Ci-joint la facture,</td>\n",
       "    </tr>\n",
       "  </tbody>\n",
       "</table>\n",
       "</div>"
      ],
      "text/plain": [
       "                                             Messages  \\\n",
       "0   Bonjour,Ci-joint le mandat sepa et le rib.Cord...   \n",
       "1   DANIEL   GUEGANSOCIETE DES TRANSPORTS GUEGANCl...   \n",
       "2    Bonjour, J’ai essayé de faire la modification...   \n",
       "3   Bonjour, merci de me faire un badge avec la gé...   \n",
       "4                                          No Message   \n",
       "5   Bonjour, L'appareil 3156490017550003485 a été ...   \n",
       "6   Bonjour, Je vous envoie ci-joint une demande d...   \n",
       "7   Avec les fichiers … Avec toutes mes excuses. B...   \n",
       "8   Bonjour,Veuillez trouver ci-jointe la carte gr...   \n",
       "9                                          No Message   \n",
       "10                                         No Message   \n",
       "11                                         No Message   \n",
       "12                                         No Message   \n",
       "13                                         No Message   \n",
       "14  Bonjour, Afin de valider ma commande de badge,...   \n",
       "15   Bonjour Nous vous remettons les justificatifs...   \n",
       "16  Bonjour,  Suite à notre commande N° 000585944,...   \n",
       "17                                         No Message   \n",
       "18                                         No Message   \n",
       "19  Bonjour Madame ABANE Nous sommes toujours dans...   \n",
       "20                                         No Message   \n",
       "21   De : Nathalie LOUGEEnvoyé : mercredi 5 août 2...   \n",
       "22                                         No Message   \n",
       "23  Bonjour,CW-639-BN   MERCI DE METTRE EN LIBELLE...   \n",
       "24                                         No Message   \n",
       "25                                         No Message   \n",
       "26  Bonjour,Ci-joint la facture,Cordialment, Myria...   \n",
       "27  Bonjour, En pièce jointe bilan comptable 2019....   \n",
       "28  Bonjour,Ci-joint les factures,Cordialement Myr...   \n",
       "29  Monsieur Rascol, Comme convenu, le tableau dem...   \n",
       "30  Bonjour, Je vous fais suivre le justificatif d...   \n",
       "31  Bonjour,Ci-joint les factures,Cordialement, My...   \n",
       "32  Bonjour,Ci-joint la facture,Cordialement, Myri...   \n",
       "\n",
       "                         catégorie  occurence  \\\n",
       "0                          contrat         42   \n",
       "1                commande de badge        703   \n",
       "2                          contrat        489   \n",
       "3                commande de badge        420   \n",
       "4                       no message         -1   \n",
       "5   réclamation qualité de service       2462   \n",
       "6                commande de badge        164   \n",
       "7                          contrat         -1   \n",
       "8                commande de badge         62   \n",
       "9                       no message         -1   \n",
       "10                      no message         -1   \n",
       "11                      no message         -1   \n",
       "12                      no message         -1   \n",
       "13                      no message         -1   \n",
       "14               commande de badge        330   \n",
       "15                         contrat        130   \n",
       "16               commande de badge        118   \n",
       "17                      no message         -1   \n",
       "18                      no message         -1   \n",
       "19  réclamation qualité de service        263   \n",
       "20                      no message         -1   \n",
       "21                   interne Axxès         -1   \n",
       "22                      no message         -1   \n",
       "23                         contrat        745   \n",
       "24                      no message         -1   \n",
       "25                      no message         -1   \n",
       "26           renseignement facture       1104   \n",
       "27                         contrat         47   \n",
       "28           renseignement facture         30   \n",
       "29        demande de renseignement       1007   \n",
       "30           renseignement facture         -1   \n",
       "31           renseignement facture         30   \n",
       "32           renseignement facture         28   \n",
       "\n",
       "                                                 text  \n",
       "0          Bonjour,Ci-joint le mandat sepa et le rib.  \n",
       "1   DANIEL   GUEGANSOCIETE DES TRANSPORTS GUEGANCl...  \n",
       "2    Bonjour, J’ai essayé de faire la modification...  \n",
       "3   Bonjour, merci de me faire un badge avec la gé...  \n",
       "4                                          No Message  \n",
       "5   Bonjour, L'appareil 3156490017550003485 a été ...  \n",
       "6   Bonjour, Je vous envoie ci-joint une demande d...  \n",
       "7   Avec les fichiers … Avec toutes mes excuses. B...  \n",
       "8   Bonjour,Veuillez trouver ci-jointe la carte gr...  \n",
       "9                                          No Message  \n",
       "10                                         No Message  \n",
       "11                                         No Message  \n",
       "12                                         No Message  \n",
       "13                                         No Message  \n",
       "14  Bonjour, Afin de valider ma commande de badge,...  \n",
       "15   Bonjour Nous vous remettons les justificatifs...  \n",
       "16  Bonjour,  Suite à notre commande N° 000585944,...  \n",
       "17                                         No Message  \n",
       "18                                         No Message  \n",
       "19  Bonjour Madame ABANE Nous sommes toujours dans...  \n",
       "20                                         No Message  \n",
       "21   De : Nathalie LOUGEEnvoyé : mercredi 5 août 2...  \n",
       "22                                         No Message  \n",
       "23  Bonjour,CW-639-BN   MERCI DE METTRE EN LIBELLE...  \n",
       "24                                         No Message  \n",
       "25                                         No Message  \n",
       "26  Bonjour,Ci-joint la facture,Cordialment, Myria...  \n",
       "27    Bonjour, En pièce jointe bilan comptable 2019.   \n",
       "28                     Bonjour,Ci-joint les factures,  \n",
       "29  Monsieur Rascol, Comme convenu, le tableau dem...  \n",
       "30  Bonjour, Je vous fais suivre le justificatif d...  \n",
       "31                     Bonjour,Ci-joint les factures,  \n",
       "32                       Bonjour,Ci-joint la facture,  "
      ]
     },
     "execution_count": 15,
     "metadata": {},
     "output_type": "execute_result"
    }
   ],
   "source": [
    "df.head(33)"
   ]
  },
  {
   "cell_type": "code",
   "execution_count": 16,
   "id": "33b925d1",
   "metadata": {},
   "outputs": [
    {
     "data": {
      "text/plain": [
       "commande de badge                 2982\n",
       "a                                 2252\n",
       "renseignement facture             1383\n",
       "contrat                            887\n",
       "no message                         492\n",
       "demande de renseignement           309\n",
       "réclamation qualité de service     113\n",
       "interne Axxès                       88\n",
       "Name: catégorie, dtype: int64"
      ]
     },
     "execution_count": 16,
     "metadata": {},
     "output_type": "execute_result"
    }
   ],
   "source": [
    "df.catégorie.value_counts()"
   ]
  },
  {
   "cell_type": "code",
   "execution_count": null,
   "id": "616cdaaf",
   "metadata": {},
   "outputs": [],
   "source": [
    "print(df['catégorie'])"
   ]
  },
  {
   "cell_type": "markdown",
   "id": "fe648e79",
   "metadata": {},
   "source": [
    "fin"
   ]
  },
  {
   "cell_type": "code",
   "execution_count": null,
   "id": "3e0073af",
   "metadata": {},
   "outputs": [],
   "source": [
    "df.replace({'catégorie': \n",
    "             {'no message': 'autre', \n",
    "             'contrat' : 'autre',                           \n",
    "             'badge' :  'autre',                            \n",
    "             #'renseignement facture' : 'autre',             \n",
    "             'demande de renseignement' :  'autre',         \n",
    "             'interne Axxès'  :  'autre',                   \n",
    "             'impayé' :  'autre',\n",
    "             'AFM': 'autre',\n",
    "             'a':'autre',\n",
    "             'réclamation qualité de service' :'autre'\n",
    "              # 'renseignement facture': 'demande de renseignement,réclamation qualité de service,impayé,renseignement facture',\n",
    "              #'réclamation qualité de service': 'demande de renseignement,réclamation qualité de service,impayé,renseignement facture',\n",
    "              #'AFM': 'AFM,contrat,interne Axxès',\n",
    "              #'contrat': 'AFM,contrat,interne Axxès',\n",
    "              # 'impayé':'demande de renseignement,réclamation qualité de service,impayé,renseignement facture',\n",
    "              # 'demande de renseignement':'demande de renseignement,réclamation qualité de service,impayé,renseignement facture',\n",
    "               #'no message':'AFM,contrat,interne Axxès',\n",
    "    \n",
    "              #'interne Axxès':'AFM,contrat,interne Axxès'}\n",
    "             # 'impayé,renseignement facture':'demande de renseignement,réclamation qualité de service,impayé,renseignement facture'\n",
    "            }}, \n",
    "            inplace= True)"
   ]
  },
  {
   "cell_type": "markdown",
   "id": "1a482a06",
   "metadata": {},
   "source": [
    "contrat debut"
   ]
  },
  {
   "cell_type": "code",
   "execution_count": 17,
   "id": "19a48a53",
   "metadata": {},
   "outputs": [],
   "source": [
    "contrat=[\"mandat\",\"sepa\",\"rib\",\"libelle\",\"document\",\"formulaire\",\"souscrire\", \"dossier\", \"abonnement\",\"contract\",\"résiliation\",\n",
    "        \"adresse\",\"libellé\",\"bilan comptable\",\"carte grise\",\"adresse mail\",\"compte bancaire\",\"nouvelle adresse\",\"coordonnées bancaires\",\n",
    "        \"dossier\", \"compte\",\"demande de mutation\",\"Deseja que o veículo esteja ligado ao veículo\",\"cambio de denominación\",\n",
    "        \"création du compte\",\"enregistrement du vehicule\",\"coordonnées bancaires\",\"ouverture de compte\",\n",
    "        \"merci de mettre en libelle\",\"la société\",\"a été vendue\",\"vérifier dans vos comptes\",\"justificatif\",\n",
    "        \"justificatif\",\"attestation\",\"dossier\", \"garantie\",\"documents renseignés\",\"changement d'adresse\",\"avenant\",\"coordonnées bancaires\",\n",
    "        \"bank\",\"bank detail\",\"raison sociale\",\"rectification de la raison sociale\",\"bank statement\",\"fiche technique\",\"permis de conduire\",\n",
    "        \"banque\",\"modifier les éléments\",\"documents modifiés\",\"dossier de souscription\",\"contrat\",\"mandat sepa\",\"documents demandés\",\n",
    "        \"demande abonnement\",\"modification de coordonnées\",\"modifier l'adresse\",\"KBIS\",\"extrait KBIS\",\"contractualiser\",\"depot de garantie\",\n",
    "        \"correspondant\",\"représentant legal\",\"activate\",\"caution\",\"numéro client\",\"numero de TVA\",\"supprimer le nom\",\"retirer des contacts\",\n",
    "        \"administratives\",\"decisions administratives\",\"mettre un terme à notre  contrat\",\"réinitialiser les identifiants\",\"ouverture de notre compte\",\n",
    "        \"dossier de souscription\",\"créer un accès\",\"documents complétés\"]\n",
    "#\"badge à connecter\",\"mise à jour fichier badges\""
   ]
  },
  {
   "cell_type": "code",
   "execution_count": null,
   "id": "66608f62",
   "metadata": {},
   "outputs": [],
   "source": [
    "from nltk.stem.snowball import FrenchStemmer\n",
    "stemmer = FrenchStemmer()\n",
    "stopwords = nltk.corpus.stopwords.words('french') + nltk.corpus.stopwords.words('english')\n",
    "c=[]\n",
    "for i in contrat:  \n",
    "    y=re.sub(r'\\d+','',i)\n",
    "    y=re.split(r\"\\s+|;|,\",i.lower())\n",
    "    for j in y:\n",
    "        if j not in stopwords:\n",
    "            p=re.sub(\"\\d+\",\"\",j)\n",
    "            o=stemmer.stem(p)\n",
    "            c.append(o)"
   ]
  },
  {
   "cell_type": "code",
   "execution_count": null,
   "id": "50b7f398",
   "metadata": {},
   "outputs": [],
   "source": [
    "con=c+contrat\n",
    "print(con)"
   ]
  },
  {
   "cell_type": "code",
   "execution_count": 18,
   "id": "eb409710",
   "metadata": {},
   "outputs": [
    {
     "name": "stderr",
     "output_type": "stream",
     "text": [
      "<ipython-input-18-c62c3a7a2c39>:7: SettingWithCopyWarning: \n",
      "A value is trying to be set on a copy of a slice from a DataFrame\n",
      "\n",
      "See the caveats in the documentation: https://pandas.pydata.org/pandas-docs/stable/user_guide/indexing.html#returning-a-view-versus-a-copy\n",
      "  df['catégorie'][i] = \"contrat\"\n"
     ]
    }
   ],
   "source": [
    "cont=df.loc[df['catégorie']=='a']\n",
    "for i in cont.index:\n",
    "    ss=df['text'][i].lower()\n",
    "    for j in contrat:\n",
    "        t = ss.find(j)\n",
    "        if t>0:\n",
    "            df['catégorie'][i] = \"contrat\"\n",
    "            break\n",
    "    "
   ]
  },
  {
   "cell_type": "code",
   "execution_count": 19,
   "id": "d56f9e17",
   "metadata": {},
   "outputs": [
    {
     "data": {
      "text/plain": [
       "commande de badge                 2982\n",
       "contrat                           1729\n",
       "a                                 1410\n",
       "renseignement facture             1383\n",
       "no message                         492\n",
       "demande de renseignement           309\n",
       "réclamation qualité de service     113\n",
       "interne Axxès                       88\n",
       "Name: catégorie, dtype: int64"
      ]
     },
     "execution_count": 19,
     "metadata": {},
     "output_type": "execute_result"
    }
   ],
   "source": [
    "df.catégorie.value_counts()"
   ]
  },
  {
   "cell_type": "code",
   "execution_count": null,
   "id": "9e800696",
   "metadata": {},
   "outputs": [],
   "source": [
    "impayé=[\"justificatif de virement\",\"ci-joint virement\",\"preuve de mon paiement\",\"preuve de paiement\",\"virement de la facture\",\n",
    "       \"impayé\",\"justificatif de paiement\",\"incident de paiement\",\"incidencia impago\",\"virement complémentaire\",\"débloquer\",\n",
    "       \"virement validé\",\"somme réclammée\",\"attente de règlement\",\"avoir\",\"avoirs\",\"copie du virement\",\"virement effectué\",\n",
    "        \"régulariser\"\n",
    "       ]"
   ]
  },
  {
   "cell_type": "code",
   "execution_count": null,
   "id": "f4944ef9",
   "metadata": {},
   "outputs": [],
   "source": [
    "imp=df.loc[df['catégorie']=='a']\n",
    "for i in imp.index:\n",
    "    ss=df['text'][i].lower()\n",
    "    for j in impayé:\n",
    "        t = ss.find(j)\n",
    "        if t>0:\n",
    "            df['catégorie'][i] = \"impayé\"\n",
    "            break"
   ]
  },
  {
   "cell_type": "code",
   "execution_count": null,
   "id": "0c949c79",
   "metadata": {},
   "outputs": [],
   "source": [
    "df.catégorie.value_counts()"
   ]
  },
  {
   "cell_type": "code",
   "execution_count": null,
   "id": "554bbc33",
   "metadata": {},
   "outputs": [],
   "source": [
    "afm=[\"invisible\",\"le véhicule est souvent invisible\",\"proof of payment\",\"service géolocalisation\",\"Axxès Fleet Manager\",\n",
    "    \"boitier geoloc\",\"géolocaliser\",\"géolocaliser les camions\",\"locations have not changed,service ADC\",'mapa',  'AFM', 'geoloc'\n",
    "    ,\"outil de geolocalisation\"]"
   ]
  },
  {
   "cell_type": "code",
   "execution_count": null,
   "id": "2020a06c",
   "metadata": {},
   "outputs": [],
   "source": [
    "af=df.loc[df['catégorie']=='a']\n",
    "for i in af.index:\n",
    "    ss=df['text'][i].lower()\n",
    "    for j in afm:\n",
    "        t = ss.find(j)\n",
    "        if t>0:\n",
    "            df['catégorie'][i] = \"afm\"\n",
    "            break"
   ]
  },
  {
   "cell_type": "code",
   "execution_count": null,
   "id": "42a8c2c9",
   "metadata": {},
   "outputs": [],
   "source": [
    "df.catégorie.value_counts()"
   ]
  },
  {
   "cell_type": "code",
   "execution_count": null,
   "id": "2010e141",
   "metadata": {},
   "outputs": [],
   "source": [
    "df.tail(40)"
   ]
  },
  {
   "cell_type": "code",
   "execution_count": 20,
   "id": "4e516425",
   "metadata": {},
   "outputs": [],
   "source": [
    "df=df.loc[df['catégorie']!='no message'].reset_index(drop=True)"
   ]
  },
  {
   "cell_type": "code",
   "execution_count": 21,
   "id": "dd61e881",
   "metadata": {},
   "outputs": [],
   "source": [
    "df.replace({'catégorie': \n",
    "             {#'no message': 'autre', \n",
    "            # 'contrat' : 'autre',                           \n",
    "             #'badge' :  'autre',                            \n",
    "             #'renseignement facture' : 'autre',             \n",
    "             'demande de renseignement' :  'demande de renseignement,interne Axxès,réclamation qualité de service,a',         \n",
    "             'interne Axxès'  :  'demande de renseignement,interne Axxès,réclamation qualité de service,a',                   \n",
    "             #'impayé' :  'renseignement facture',\n",
    "             #'afm': 'contrat',\n",
    "             'a':'demande de renseignement,interne Axxès,réclamation qualité de service,a',\n",
    "             'réclamation qualité de service' :'demande de renseignement,interne Axxès,réclamation qualité de service,a'\n",
    "            }}, \n",
    "            inplace= True)"
   ]
  },
  {
   "cell_type": "markdown",
   "id": "278ab8b7",
   "metadata": {},
   "source": [
    "fin contrat"
   ]
  },
  {
   "cell_type": "code",
   "execution_count": null,
   "id": "5fd17960",
   "metadata": {},
   "outputs": [],
   "source": [
    "df.replace({'catégorie': \n",
    "             {'commande de badge': 'badge', \n",
    "              'renseignement facture': 'demande de renseignement,contrat,impayé,renseignement facture',\n",
    "             'réclamation qualité de service': 'AFM,réclamation qualité de service',\n",
    "             'AFM': 'AFM,réclamation qualité de service',\n",
    "             'contrat': 'demande de renseignement,contrat,impayé,renseignement facture',\n",
    "              'impayé':'demande de renseignement,contrat,impayé,renseignement facture',\n",
    "              'demande de renseignement':'demande de renseignement,contrat,impayé,renseignement facture',\n",
    "              'no message':'no message,interne Axxès',\n",
    "    \n",
    "              'interne Axxès':'no message,interne Axxès'\n",
    "             # 'impayé,renseignement facture':'demande de renseignement,réclamation qualité de service,impayé,renseignement facture'\n",
    "             }}, \n",
    "            inplace= True)"
   ]
  },
  {
   "cell_type": "code",
   "execution_count": null,
   "id": "87c703f1",
   "metadata": {},
   "outputs": [],
   "source": []
  },
  {
   "cell_type": "code",
   "execution_count": 22,
   "id": "7b6a259c",
   "metadata": {},
   "outputs": [
    {
     "data": {
      "text/plain": [
       "array([['contrat'],\n",
       "       ['commande de badge'],\n",
       "       ['demande de renseignement,interne Axxès,réclamation qualité de service,a'],\n",
       "       ['renseignement facture']], dtype=object)"
      ]
     },
     "execution_count": 22,
     "metadata": {},
     "output_type": "execute_result"
    }
   ],
   "source": [
    "pd.DataFrame(df.catégorie.unique()).values"
   ]
  },
  {
   "cell_type": "code",
   "execution_count": 23,
   "id": "94a941d8",
   "metadata": {},
   "outputs": [
    {
     "data": {
      "text/html": [
       "<div>\n",
       "<style scoped>\n",
       "    .dataframe tbody tr th:only-of-type {\n",
       "        vertical-align: middle;\n",
       "    }\n",
       "\n",
       "    .dataframe tbody tr th {\n",
       "        vertical-align: top;\n",
       "    }\n",
       "\n",
       "    .dataframe thead th {\n",
       "        text-align: right;\n",
       "    }\n",
       "</style>\n",
       "<table border=\"1\" class=\"dataframe\">\n",
       "  <thead>\n",
       "    <tr style=\"text-align: right;\">\n",
       "      <th></th>\n",
       "      <th>Messages</th>\n",
       "      <th>catégorie</th>\n",
       "      <th>occurence</th>\n",
       "      <th>text</th>\n",
       "    </tr>\n",
       "  </thead>\n",
       "  <tbody>\n",
       "    <tr>\n",
       "      <th>0</th>\n",
       "      <td>Bonjour,Ci-joint le mandat sepa et le rib.Cord...</td>\n",
       "      <td>contrat</td>\n",
       "      <td>42</td>\n",
       "      <td>Bonjour,Ci-joint le mandat sepa et le rib.</td>\n",
       "    </tr>\n",
       "    <tr>\n",
       "      <th>1</th>\n",
       "      <td>DANIEL   GUEGANSOCIETE DES TRANSPORTS GUEGANCl...</td>\n",
       "      <td>commande de badge</td>\n",
       "      <td>703</td>\n",
       "      <td>DANIEL   GUEGANSOCIETE DES TRANSPORTS GUEGANCl...</td>\n",
       "    </tr>\n",
       "    <tr>\n",
       "      <th>2</th>\n",
       "      <td>Bonjour, J’ai essayé de faire la modification...</td>\n",
       "      <td>contrat</td>\n",
       "      <td>489</td>\n",
       "      <td>Bonjour, J’ai essayé de faire la modification...</td>\n",
       "    </tr>\n",
       "    <tr>\n",
       "      <th>3</th>\n",
       "      <td>Bonjour, merci de me faire un badge avec la gé...</td>\n",
       "      <td>commande de badge</td>\n",
       "      <td>420</td>\n",
       "      <td>Bonjour, merci de me faire un badge avec la gé...</td>\n",
       "    </tr>\n",
       "    <tr>\n",
       "      <th>4</th>\n",
       "      <td>Bonjour, L'appareil 3156490017550003485 a été ...</td>\n",
       "      <td>demande de renseignement,interne Axxès,réclama...</td>\n",
       "      <td>2462</td>\n",
       "      <td>Bonjour, L'appareil 3156490017550003485 a été ...</td>\n",
       "    </tr>\n",
       "  </tbody>\n",
       "</table>\n",
       "</div>"
      ],
      "text/plain": [
       "                                            Messages  \\\n",
       "0  Bonjour,Ci-joint le mandat sepa et le rib.Cord...   \n",
       "1  DANIEL   GUEGANSOCIETE DES TRANSPORTS GUEGANCl...   \n",
       "2   Bonjour, J’ai essayé de faire la modification...   \n",
       "3  Bonjour, merci de me faire un badge avec la gé...   \n",
       "4  Bonjour, L'appareil 3156490017550003485 a été ...   \n",
       "\n",
       "                                           catégorie  occurence  \\\n",
       "0                                            contrat         42   \n",
       "1                                  commande de badge        703   \n",
       "2                                            contrat        489   \n",
       "3                                  commande de badge        420   \n",
       "4  demande de renseignement,interne Axxès,réclama...       2462   \n",
       "\n",
       "                                                text  \n",
       "0         Bonjour,Ci-joint le mandat sepa et le rib.  \n",
       "1  DANIEL   GUEGANSOCIETE DES TRANSPORTS GUEGANCl...  \n",
       "2   Bonjour, J’ai essayé de faire la modification...  \n",
       "3  Bonjour, merci de me faire un badge avec la gé...  \n",
       "4  Bonjour, L'appareil 3156490017550003485 a été ...  "
      ]
     },
     "execution_count": 23,
     "metadata": {},
     "output_type": "execute_result"
    }
   ],
   "source": [
    "df.head()"
   ]
  },
  {
   "cell_type": "code",
   "execution_count": null,
   "id": "824699e1",
   "metadata": {},
   "outputs": [],
   "source": [
    "#df = df.drop(['Date de création',  'Date de modification','Nom du fichier'], axis=1)"
   ]
  },
  {
   "cell_type": "code",
   "execution_count": 24,
   "id": "f11d1287",
   "metadata": {},
   "outputs": [],
   "source": [
    "df['Messages']=df['Messages'].astype(str)"
   ]
  },
  {
   "cell_type": "code",
   "execution_count": null,
   "id": "567aeef1",
   "metadata": {},
   "outputs": [],
   "source": [
    "impay =  pd.read_excel('impay.xlsx',engine='openpyxl')"
   ]
  },
  {
   "cell_type": "code",
   "execution_count": null,
   "id": "ac657c91",
   "metadata": {},
   "outputs": [],
   "source": [
    "afmm =  pd.read_excel('afm.xlsx',engine='openpyxl')"
   ]
  },
  {
   "cell_type": "code",
   "execution_count": null,
   "id": "b3700fce",
   "metadata": {},
   "outputs": [],
   "source": [
    "df.shape"
   ]
  },
  {
   "cell_type": "code",
   "execution_count": 25,
   "id": "0dcbd846",
   "metadata": {
    "scrolled": true
   },
   "outputs": [],
   "source": [
    "#print(df.head(10))\n",
    "#print(df['Messages'].apply(lambda x: len(x.split(' '))).sum())\n",
    "#msg=pd.concat([df,impay]).reset_index(drop=True)\n",
    "msg=df"
   ]
  },
  {
   "cell_type": "code",
   "execution_count": 26,
   "id": "92112d68",
   "metadata": {},
   "outputs": [],
   "source": [
    "col=['Messages','catégorie','occurence','text']\n",
    "msg=msg[col]"
   ]
  },
  {
   "cell_type": "code",
   "execution_count": null,
   "id": "cab42104",
   "metadata": {},
   "outputs": [],
   "source": [
    "#msg['occurence']=0\n",
    "#for i in range(20):\n",
    "  #  ss=msg['Messages'][i].lower()\n",
    "   # msg['occurence'][i]=ss.match(\"Bien à vous\")\n",
    "   # print(msg['occurence'][i])"
   ]
  },
  {
   "cell_type": "code",
   "execution_count": 27,
   "id": "c205b88d",
   "metadata": {},
   "outputs": [
    {
     "data": {
      "text/html": [
       "<div>\n",
       "<style scoped>\n",
       "    .dataframe tbody tr th:only-of-type {\n",
       "        vertical-align: middle;\n",
       "    }\n",
       "\n",
       "    .dataframe tbody tr th {\n",
       "        vertical-align: top;\n",
       "    }\n",
       "\n",
       "    .dataframe thead th {\n",
       "        text-align: right;\n",
       "    }\n",
       "</style>\n",
       "<table border=\"1\" class=\"dataframe\">\n",
       "  <thead>\n",
       "    <tr style=\"text-align: right;\">\n",
       "      <th></th>\n",
       "      <th>Messages</th>\n",
       "      <th>catégorie</th>\n",
       "      <th>occurence</th>\n",
       "      <th>text</th>\n",
       "    </tr>\n",
       "  </thead>\n",
       "  <tbody>\n",
       "    <tr>\n",
       "      <th>0</th>\n",
       "      <td>Bonjour,Ci-joint le mandat sepa et le rib.Cord...</td>\n",
       "      <td>contrat</td>\n",
       "      <td>42</td>\n",
       "      <td>Bonjour,Ci-joint le mandat sepa et le rib.</td>\n",
       "    </tr>\n",
       "    <tr>\n",
       "      <th>1</th>\n",
       "      <td>DANIEL   GUEGANSOCIETE DES TRANSPORTS GUEGANCl...</td>\n",
       "      <td>commande de badge</td>\n",
       "      <td>703</td>\n",
       "      <td>DANIEL   GUEGANSOCIETE DES TRANSPORTS GUEGANCl...</td>\n",
       "    </tr>\n",
       "    <tr>\n",
       "      <th>2</th>\n",
       "      <td>Bonjour, J’ai essayé de faire la modification...</td>\n",
       "      <td>contrat</td>\n",
       "      <td>489</td>\n",
       "      <td>Bonjour, J’ai essayé de faire la modification...</td>\n",
       "    </tr>\n",
       "    <tr>\n",
       "      <th>3</th>\n",
       "      <td>Bonjour, merci de me faire un badge avec la gé...</td>\n",
       "      <td>commande de badge</td>\n",
       "      <td>420</td>\n",
       "      <td>Bonjour, merci de me faire un badge avec la gé...</td>\n",
       "    </tr>\n",
       "    <tr>\n",
       "      <th>4</th>\n",
       "      <td>Bonjour, L'appareil 3156490017550003485 a été ...</td>\n",
       "      <td>demande de renseignement,interne Axxès,réclama...</td>\n",
       "      <td>2462</td>\n",
       "      <td>Bonjour, L'appareil 3156490017550003485 a été ...</td>\n",
       "    </tr>\n",
       "    <tr>\n",
       "      <th>...</th>\n",
       "      <td>...</td>\n",
       "      <td>...</td>\n",
       "      <td>...</td>\n",
       "      <td>...</td>\n",
       "    </tr>\n",
       "    <tr>\n",
       "      <th>8009</th>\n",
       "      <td>RE: SF SANS FRONTIERE - Client n° 000107790  \\...</td>\n",
       "      <td>commande de badge</td>\n",
       "      <td>1313</td>\n",
       "      <td>RE: SF SANS FRONTIERE - Client n° 000107790  \\...</td>\n",
       "    </tr>\n",
       "    <tr>\n",
       "      <th>8010</th>\n",
       "      <td>TR:  Confirmation commande n° 000610916 \\n Bon...</td>\n",
       "      <td>commande de badge</td>\n",
       "      <td>-1</td>\n",
       "      <td>TR:  Confirmation commande n° 000610916 \\n Bon...</td>\n",
       "    </tr>\n",
       "    <tr>\n",
       "      <th>8011</th>\n",
       "      <td>TR: CPI 110754 AIR LIQUIDE \\n Bonjour marine P...</td>\n",
       "      <td>commande de badge</td>\n",
       "      <td>86</td>\n",
       "      <td>TR: CPI 110754 AIR LIQUIDE \\n Bonjour marine P...</td>\n",
       "    </tr>\n",
       "    <tr>\n",
       "      <th>8012</th>\n",
       "      <td>TR: COMMANDE \\n Bonjour marine Avez-vous vu co...</td>\n",
       "      <td>commande de badge</td>\n",
       "      <td>121</td>\n",
       "      <td>TR: COMMANDE \\n Bonjour marine Avez-vous vu co...</td>\n",
       "    </tr>\n",
       "    <tr>\n",
       "      <th>8013</th>\n",
       "      <td>Re: Su factura Axxes \\n No tengo el usuario y ...</td>\n",
       "      <td>renseignement facture</td>\n",
       "      <td>-1</td>\n",
       "      <td>Re: Su factura Axxes \\n No tengo el usuario y ...</td>\n",
       "    </tr>\n",
       "  </tbody>\n",
       "</table>\n",
       "<p>8014 rows × 4 columns</p>\n",
       "</div>"
      ],
      "text/plain": [
       "                                               Messages  \\\n",
       "0     Bonjour,Ci-joint le mandat sepa et le rib.Cord...   \n",
       "1     DANIEL   GUEGANSOCIETE DES TRANSPORTS GUEGANCl...   \n",
       "2      Bonjour, J’ai essayé de faire la modification...   \n",
       "3     Bonjour, merci de me faire un badge avec la gé...   \n",
       "4     Bonjour, L'appareil 3156490017550003485 a été ...   \n",
       "...                                                 ...   \n",
       "8009  RE: SF SANS FRONTIERE - Client n° 000107790  \\...   \n",
       "8010  TR:  Confirmation commande n° 000610916 \\n Bon...   \n",
       "8011  TR: CPI 110754 AIR LIQUIDE \\n Bonjour marine P...   \n",
       "8012  TR: COMMANDE \\n Bonjour marine Avez-vous vu co...   \n",
       "8013  Re: Su factura Axxes \\n No tengo el usuario y ...   \n",
       "\n",
       "                                              catégorie  occurence  \\\n",
       "0                                               contrat         42   \n",
       "1                                     commande de badge        703   \n",
       "2                                               contrat        489   \n",
       "3                                     commande de badge        420   \n",
       "4     demande de renseignement,interne Axxès,réclama...       2462   \n",
       "...                                                 ...        ...   \n",
       "8009                                  commande de badge       1313   \n",
       "8010                                  commande de badge         -1   \n",
       "8011                                  commande de badge         86   \n",
       "8012                                  commande de badge        121   \n",
       "8013                              renseignement facture         -1   \n",
       "\n",
       "                                                   text  \n",
       "0            Bonjour,Ci-joint le mandat sepa et le rib.  \n",
       "1     DANIEL   GUEGANSOCIETE DES TRANSPORTS GUEGANCl...  \n",
       "2      Bonjour, J’ai essayé de faire la modification...  \n",
       "3     Bonjour, merci de me faire un badge avec la gé...  \n",
       "4     Bonjour, L'appareil 3156490017550003485 a été ...  \n",
       "...                                                 ...  \n",
       "8009  RE: SF SANS FRONTIERE - Client n° 000107790  \\...  \n",
       "8010  TR:  Confirmation commande n° 000610916 \\n Bon...  \n",
       "8011  TR: CPI 110754 AIR LIQUIDE \\n Bonjour marine P...  \n",
       "8012  TR: COMMANDE \\n Bonjour marine Avez-vous vu co...  \n",
       "8013  Re: Su factura Axxes \\n No tengo el usuario y ...  \n",
       "\n",
       "[8014 rows x 4 columns]"
      ]
     },
     "execution_count": 27,
     "metadata": {},
     "output_type": "execute_result"
    }
   ],
   "source": [
    "msg\n"
   ]
  },
  {
   "cell_type": "code",
   "execution_count": 28,
   "id": "ce0b1def",
   "metadata": {},
   "outputs": [
    {
     "name": "stderr",
     "output_type": "stream",
     "text": [
      "<ipython-input-28-dd91ad735118>:5: SettingWithCopyWarning: \n",
      "A value is trying to be set on a copy of a slice from a DataFrame\n",
      "\n",
      "See the caveats in the documentation: https://pandas.pydata.org/pandas-docs/stable/user_guide/indexing.html#returning-a-view-versus-a-copy\n",
      "  msg['text'][i]=re.sub('([a-zA-Z0-9_.+-]+@[a-zA-Z0-9-]+\\.[a-zA-Z0-9-.]+)', 'XXXX', str(msg['text'][i]))#email\n",
      "<ipython-input-28-dd91ad735118>:7: SettingWithCopyWarning: \n",
      "A value is trying to be set on a copy of a slice from a DataFrame\n",
      "\n",
      "See the caveats in the documentation: https://pandas.pydata.org/pandas-docs/stable/user_guide/indexing.html#returning-a-view-versus-a-copy\n",
      "  msg['text'][i]=re.sub(r\"/\\d{10}|\\+33\\d{9}|\\+33\\s\\d{1}\\s\\d{2}\\s\\d{2}\\s\\d{2}\\s\\d{2}|\\d{2}\\s\\d{2}\\s\\d{2}\\s\\d{2}\\s\\d{2}/g\",' XXXX',str(msg['text'][i]))#phone francais\n",
      "<ipython-input-28-dd91ad735118>:8: SettingWithCopyWarning: \n",
      "A value is trying to be set on a copy of a slice from a DataFrame\n",
      "\n",
      "See the caveats in the documentation: https://pandas.pydata.org/pandas-docs/stable/user_guide/indexing.html#returning-a-view-versus-a-copy\n",
      "  msg['text'][i]=re.sub(r'(^(\\+33 |0)[1-6]{1}(([0-9]{2}){4})|((\\s[0-9]{2}){4})|((-[0-9]{2}){4})$)','XXXX',str(msg['text'][i]))\n",
      "<ipython-input-28-dd91ad735118>:9: SettingWithCopyWarning: \n",
      "A value is trying to be set on a copy of a slice from a DataFrame\n",
      "\n",
      "See the caveats in the documentation: https://pandas.pydata.org/pandas-docs/stable/user_guide/indexing.html#returning-a-view-versus-a-copy\n",
      "  msg['text'][i]=re.sub(\"((?:\\+\\d{2}[-\\.\\s]??|\\d{4}[-\\.\\s]??)?(?:\\d{3}[-\\.\\s]??\\d{3}[-\\.\\s]??\\d{4}|\\(\\d{3}\\)\\s*\\d{3}[-\\.\\s]??\\d{4}|\\d{3}[-\\.\\s]??\\d{4}))\",'XXXX', str(msg['text'][i]))#phone\n",
      "<ipython-input-28-dd91ad735118>:10: SettingWithCopyWarning: \n",
      "A value is trying to be set on a copy of a slice from a DataFrame\n",
      "\n",
      "See the caveats in the documentation: https://pandas.pydata.org/pandas-docs/stable/user_guide/indexing.html#returning-a-view-versus-a-copy\n",
      "  msg['text'][i]=re.sub('\\(?\\d{2}\\)?[-.\\s]?\\d{2}[-.\\s]?\\d{2}[-.\\s]?\\d{2}[-.\\s]?\\d{2}','XXXX',str(msg['text'][i]))\n",
      "<ipython-input-28-dd91ad735118>:11: SettingWithCopyWarning: \n",
      "A value is trying to be set on a copy of a slice from a DataFrame\n",
      "\n",
      "See the caveats in the documentation: https://pandas.pydata.org/pandas-docs/stable/user_guide/indexing.html#returning-a-view-versus-a-copy\n",
      "  msg['text'][i]=re.sub('\\(?\\d{2}\\)?[-.\\s]?\\d{2}[-.\\s]?\\d{2}[-.\\s]?\\d{2}[-.\\s]','XXXX',str(msg['text'][i]))\n",
      "<ipython-input-28-dd91ad735118>:12: SettingWithCopyWarning: \n",
      "A value is trying to be set on a copy of a slice from a DataFrame\n",
      "\n",
      "See the caveats in the documentation: https://pandas.pydata.org/pandas-docs/stable/user_guide/indexing.html#returning-a-view-versus-a-copy\n",
      "  msg['text'][i]=re.sub('\\(?\\d{1}\\)?[-.\\s]?\\d{2}[-.\\s]?\\d{2}[-.\\s]?\\d{2}[-.\\s]','XXXX',str(msg['text'][i]))\n",
      "<ipython-input-28-dd91ad735118>:13: SettingWithCopyWarning: \n",
      "A value is trying to be set on a copy of a slice from a DataFrame\n",
      "\n",
      "See the caveats in the documentation: https://pandas.pydata.org/pandas-docs/stable/user_guide/indexing.html#returning-a-view-versus-a-copy\n",
      "  msg['text'][i]=re.sub('\\(?\\d{2}\\)?[-.\\s]?\\d{5}[-.\\s]?\\d{3}','XXXX',str(msg['text'][i]))\n",
      "<ipython-input-28-dd91ad735118>:14: SettingWithCopyWarning: \n",
      "A value is trying to be set on a copy of a slice from a DataFrame\n",
      "\n",
      "See the caveats in the documentation: https://pandas.pydata.org/pandas-docs/stable/user_guide/indexing.html#returning-a-view-versus-a-copy\n",
      "  msg['text'][i]=re.sub('\\(?\\d{1}\\)?[-.\\s]?\\d{2}[-.\\s]?\\d{2}[-.\\s]?\\d{3}','XXXX',str(msg['text'][i]))\n",
      "<ipython-input-28-dd91ad735118>:15: SettingWithCopyWarning: \n",
      "A value is trying to be set on a copy of a slice from a DataFrame\n",
      "\n",
      "See the caveats in the documentation: https://pandas.pydata.org/pandas-docs/stable/user_guide/indexing.html#returning-a-view-versus-a-copy\n",
      "  msg['text'][i]=re.sub('\\(?\\d{2}\\)?[-.\\s]?\\d{3}[-.\\s]?\\d{3}[-.\\s]?\\d{3}','XXXX',str(msg['text'][i]))\n",
      "<ipython-input-28-dd91ad735118>:18: SettingWithCopyWarning: \n",
      "A value is trying to be set on a copy of a slice from a DataFrame\n",
      "\n",
      "See the caveats in the documentation: https://pandas.pydata.org/pandas-docs/stable/user_guide/indexing.html#returning-a-view-versus-a-copy\n",
      "  msg['text'][i]=re.sub(emoji,' ',str(msg['text'][i]))\n",
      "<ipython-input-28-dd91ad735118>:20: SettingWithCopyWarning: \n",
      "A value is trying to be set on a copy of a slice from a DataFrame\n",
      "\n",
      "See the caveats in the documentation: https://pandas.pydata.org/pandas-docs/stable/user_guide/indexing.html#returning-a-view-versus-a-copy\n",
      "  msg['text'][i]= msg['text'][i].replace(\"Avant d\\'imprimer cet e-mail, réfléchissez à l\\'impact sur l\\'environnementBefore you print this mail, think about the impact on the environment\",'')\n",
      "<ipython-input-28-dd91ad735118>:23: SettingWithCopyWarning: \n",
      "A value is trying to be set on a copy of a slice from a DataFrame\n",
      "\n",
      "See the caveats in the documentation: https://pandas.pydata.org/pandas-docs/stable/user_guide/indexing.html#returning-a-view-versus-a-copy\n",
      "  msg['text'][i]= msg['text'][i].replace(\"Mail:\",'email')\n",
      "<ipython-input-28-dd91ad735118>:24: SettingWithCopyWarning: \n",
      "A value is trying to be set on a copy of a slice from a DataFrame\n",
      "\n",
      "See the caveats in the documentation: https://pandas.pydata.org/pandas-docs/stable/user_guide/indexing.html#returning-a-view-versus-a-copy\n",
      "  msg['text'][i]= msg['text'][i].replace(\"Email:\",'email')\n",
      "<ipython-input-28-dd91ad735118>:25: SettingWithCopyWarning: \n",
      "A value is trying to be set on a copy of a slice from a DataFrame\n",
      "\n",
      "See the caveats in the documentation: https://pandas.pydata.org/pandas-docs/stable/user_guide/indexing.html#returning-a-view-versus-a-copy\n",
      "  msg['text'][i]= msg['text'][i].replace(\"E-mail\",'email')\n",
      "<ipython-input-28-dd91ad735118>:26: SettingWithCopyWarning: \n",
      "A value is trying to be set on a copy of a slice from a DataFrame\n",
      "\n",
      "See the caveats in the documentation: https://pandas.pydata.org/pandas-docs/stable/user_guide/indexing.html#returning-a-view-versus-a-copy\n",
      "  msg['text'][i]= msg['text'][i].replace(\"Email : \",'email')\n",
      "<ipython-input-28-dd91ad735118>:27: SettingWithCopyWarning: \n",
      "A value is trying to be set on a copy of a slice from a DataFrame\n",
      "\n",
      "See the caveats in the documentation: https://pandas.pydata.org/pandas-docs/stable/user_guide/indexing.html#returning-a-view-versus-a-copy\n",
      "  msg['text'][i]= msg['text'][i].replace(\"mail\",'email')\n",
      "<ipython-input-28-dd91ad735118>:29: SettingWithCopyWarning: \n",
      "A value is trying to be set on a copy of a slice from a DataFrame\n",
      "\n",
      "See the caveats in the documentation: https://pandas.pydata.org/pandas-docs/stable/user_guide/indexing.html#returning-a-view-versus-a-copy\n",
      "  msg['text'][i]= msg['text'][i].replace(\"-\",'')\n",
      "<ipython-input-28-dd91ad735118>:30: SettingWithCopyWarning: \n",
      "A value is trying to be set on a copy of a slice from a DataFrame\n",
      "\n",
      "See the caveats in the documentation: https://pandas.pydata.org/pandas-docs/stable/user_guide/indexing.html#returning-a-view-versus-a-copy\n",
      "  msg['text'][i]=re.sub(r'\\d{3}[-\\.\\s]??\\d{3}[-\\.\\s]??\\d{4}|\\(\\d{3}\\)\\s*\\d{3}[-\\.\\s]??\\d{4}|\\d{3}[-\\.\\s]??\\d{4}','XXXX',str(msg['text'][i]))\n",
      "<ipython-input-28-dd91ad735118>:32: SettingWithCopyWarning: \n",
      "A value is trying to be set on a copy of a slice from a DataFrame\n",
      "\n",
      "See the caveats in the documentation: https://pandas.pydata.org/pandas-docs/stable/user_guide/indexing.html#returning-a-view-versus-a-copy\n",
      "  msg['text'][i]= re.sub(\"http[s]?://(?:[a-zA-Z]|[0-9]|[$-_@.&+]|[!*\\(\\),]|(?:%[0-9a-fA-F][0-9a-fA-F]))+\",'XXXX',msg['text'][i])#url\n",
      "<ipython-input-28-dd91ad735118>:33: SettingWithCopyWarning: \n",
      "A value is trying to be set on a copy of a slice from a DataFrame\n",
      "\n",
      "See the caveats in the documentation: https://pandas.pydata.org/pandas-docs/stable/user_guide/indexing.html#returning-a-view-versus-a-copy\n",
      "  msg['text'][i]= re.sub('(https?:\\/\\/(?:www\\.|(?!www))[a-zA-Z0-9][a-zA-Z0-9-]+[a-zA-Z0-9]\\.[^\\s]{2,}|www\\.[a-zA-Z0-9][a-zA-Z0-9-]+[a-zA-Z0-9]\\.[^\\s]{2,}|https?:\\/\\/(?:www\\.|(?!www))[a-zA-Z0-9]+\\.[^\\s]{2,}|www\\.[a-zA-Z0-9]+\\.[^\\s]{2,})',' XXXX',str(msg['text'][i]))#url www\n",
      "<ipython-input-28-dd91ad735118>:34: SettingWithCopyWarning: \n",
      "A value is trying to be set on a copy of a slice from a DataFrame\n",
      "\n",
      "See the caveats in the documentation: https://pandas.pydata.org/pandas-docs/stable/user_guide/indexing.html#returning-a-view-versus-a-copy\n",
      "  msg['text'][i]= re.sub('Ce message et toutes les Pieces jointes (ci apres : le message) sont etablis a l\\'intention exclusive de ses destinataires et sont confidentiels.Toute utilisation de ce message non conforme a sa destination, toute diffusion ou toute publication totale ou partielle est interdite sauf autorisation prealable.Si vous recevez ce message par erreur, merci de le detruire et d\\' avertir immediatement l\\'expediteur.Les communications sur Internet n\\'etant pas securisees, le Groupe APRR decline toute responsabilite quant au contenu de ce message.This message and all attached documents (hereafter \"the message\") are intended for the exclusive attention of its recipients and are confidential. Any use of this message, for which it was not intended, any distribution or any total or partial publication is prohibited unless previously approved.If you receive this message in error, please destroy it and immediately notify the sender thereof.Since communication by Internet is not secure, Group APRR cannot accept any responsibility regarding the contents of this message.','XXXX ',str(msg['text'][i]))\n",
      "<ipython-input-28-dd91ad735118>:36: SettingWithCopyWarning: \n",
      "A value is trying to be set on a copy of a slice from a DataFrame\n",
      "\n",
      "See the caveats in the documentation: https://pandas.pydata.org/pandas-docs/stable/user_guide/indexing.html#returning-a-view-versus-a-copy\n",
      "  msg['text'][i]= re.sub('Ce message est généré automatiquement. Merci de ne pas y répondre.','XXXX',str(msg['text'][i]))\n",
      "<ipython-input-28-dd91ad735118>:37: SettingWithCopyWarning: \n",
      "A value is trying to be set on a copy of a slice from a DataFrame\n",
      "\n",
      "See the caveats in the documentation: https://pandas.pydata.org/pandas-docs/stable/user_guide/indexing.html#returning-a-view-versus-a-copy\n",
      "  msg['text'][i]= re.sub('Ce message et toutes les Pieces jointes (ci apres : le message) sont etablis a l\\'intention exclusive de ses destinataires et sont confidentiels.Toute utilisation de ce message non conforme a sa destination, toute diffusion ou toute publication totale ou partielle est interdite sauf autorisation prealable.Si vous recevez ce message par erreur, merci de le detruire et d\\' avertir immediatement l\\'expediteur.Les communications sur Internet n\\'etant pas securisees, le Groupe APRR decline toute responsabilite quant au contenu de ce message.This message and all attached documents (hereafter \"the message\") are intended for the exclusive attention of its recipients and are confidential. Any use of this message, for which it was not intended, any distribution or any total or partial publication is prohibited unless previously approved.If you receive this message in error, please destroy it and immediately notify the sender thereof.Since communication by Internet is not secure, Group APRR cannot accept any responsibility regarding the contents of this message.','XXXX ',str(msg['text'][i]))\n",
      "<ipython-input-28-dd91ad735118>:38: SettingWithCopyWarning: \n",
      "A value is trying to be set on a copy of a slice from a DataFrame\n",
      "\n",
      "See the caveats in the documentation: https://pandas.pydata.org/pandas-docs/stable/user_guide/indexing.html#returning-a-view-versus-a-copy\n",
      "  msg['text'][i]= re.sub('This message and any attachments are confidential and intended for the named addressee(s) only.If you have received this message in error, please notify immediately the sender, then deletethe message. Any unauthorized modification, edition, use or dissemination is prohibited.The sender shall not be liable for this message if it has been modified, altered, falsified, infectedby a virus or even edited or disseminated without authorization.','XXXX',str(msg['text'][i]))\n",
      "<ipython-input-28-dd91ad735118>:39: SettingWithCopyWarning: \n",
      "A value is trying to be set on a copy of a slice from a DataFrame\n",
      "\n",
      "See the caveats in the documentation: https://pandas.pydata.org/pandas-docs/stable/user_guide/indexing.html#returning-a-view-versus-a-copy\n",
      "  msg['text'][i]= re.sub('This  transmission (message and any attached files) may contain information that is proprietary, privileged and/or confidential to Veolia Environnement and/or its affiliates and is intended exclusively for the person(s) to whom it is addressed. If you are not the intended recipient, please notify the sender by return  and delete all copies of this , including all attachments. Unless expressly authorized, any use, disclosure, publication, retransmission or dissemination of this  and/or of its attachments is strictly prohibited. Ce message electronique et ses fichiers attaches sont strictement confidentiels et peuvent contenir des elements dont Veolia Environnement et/ou l\\'une de ses entites affiliees sont proprietaires. Ils sont donc destines a l\\'usage de leurs seuls destinataires. Si vous avez recu ce message par erreur, merci de le retourner a son emetteur et de le detruire ainsi que toutes les pieces attachees. L\\'utilisation, la divulgation, la publication, la distribution, ou la reproduction non expressement autorisees de ce message et de ses pieces attachees sont interdites.','XXXX ',str(msg['text'][i]))\n",
      "<ipython-input-28-dd91ad735118>:40: SettingWithCopyWarning: \n",
      "A value is trying to be set on a copy of a slice from a DataFrame\n",
      "\n",
      "See the caveats in the documentation: https://pandas.pydata.org/pandas-docs/stable/user_guide/indexing.html#returning-a-view-versus-a-copy\n",
      "  msg['text'][i]= re.sub('This  transmission (message and any attached files) may contain information that is proprietary, privileged and/or confidential to Veolia Environnement and/or its affiliates and is intended exclusively for the person(s) to whom it is addressed. If you are not the intended recipient, please notify the sender by return  and delete all copies of this , including all attachments. Unless expressly authorized, any use, disclosure, publication, retransmission or dissemination of this  and/or of its attachments is strictly prohibited.  Ce message electronique et ses fichiers attaches sont strictement confidentiels et peuvent contenir des elements dont Veolia Environnement et/ou l\\'une de ses entites affiliees sont proprietaires. Ils sont donc destines a l\\'usage de leurs seuls destinataires. Si vous avez recu ce message par erreur, merci de le retourner a son emetteur et de le detruire ainsi que toutes les pieces attachees. L\\'utilisation, la divulgation, la publication, la distribution, ou la reproduction non expressement autorisees de ce message et de ses pieces attachees sont interdites.','XXXX ',str(msg['text'][i]))\n",
      "<ipython-input-28-dd91ad735118>:41: SettingWithCopyWarning: \n",
      "A value is trying to be set on a copy of a slice from a DataFrame\n",
      "\n",
      "See the caveats in the documentation: https://pandas.pydata.org/pandas-docs/stable/user_guide/indexing.html#returning-a-view-versus-a-copy\n",
      "  msg['text'][i]= re.sub('Le contenu de ce message est strictement réservé à l\\'usage exclusif de son destinataire et contient de l\\'information privilégiée et confidentielle. Toute lecture, divulgation, distribution ou copie non autorisée de cette communication est formellement interdite. Si vous avez reçu cette communication par erreur, veuillez la détruire immédiatement.','XXXX',str(msg['text'][i]))\n",
      "<ipython-input-28-dd91ad735118>:42: SettingWithCopyWarning: \n",
      "A value is trying to be set on a copy of a slice from a DataFrame\n",
      "\n",
      "See the caveats in the documentation: https://pandas.pydata.org/pandas-docs/stable/user_guide/indexing.html#returning-a-view-versus-a-copy\n",
      "  msg['text'][i]= re.sub('Ce message et toutes les Pieces jointes (ci apres : le message) sont etablis a l\\'intention exclusive de ses destinataires et sont confidentiels.Toute utilisation de ce message non conforme a sa destination, toute diffusion ou toute publication totale ou partielle est interdite sauf autorisation prealable.Si vous recevez ce message par erreur, merci de le detruire et d\\' avertir immediatement l\\'expediteur.Les communications sur Internet n\\'etant pas securisees, le Groupe APRR decline toute responsabilite quant au contenu de ce message.This message and all attached documents (hereafter \"the message\") are intended for the exclusive attention of its recipients and are confidential. Any use of this message, for which it was not intended, any distribution or any total or partial publication is prohibited unless previously approved.If you receive this message in error, please destroy it and immediately notify the sender thereof.Since communication by Internet is not secure, Group APRR cannot accept any responsibility regarding the contents of this message.','XXXX ',str(msg['text'][i]))\n",
      "<ipython-input-28-dd91ad735118>:43: SettingWithCopyWarning: \n",
      "A value is trying to be set on a copy of a slice from a DataFrame\n",
      "\n",
      "See the caveats in the documentation: https://pandas.pydata.org/pandas-docs/stable/user_guide/indexing.html#returning-a-view-versus-a-copy\n",
      "  msg['text'][i]= re.sub('Ce message et les pièces jointes sont confidentiels et établis à l\\'attention exclusive de ses destinataires. Toute utilisation ou diffusion, même partielle, non autorisée est interdite. Tout message électronique est susceptible d\\'altération. Brink\\'s décline toute responsabilité au titre de ce message s\\'il a été altéré, déformé ou falsifié. Si vous n\\'êtes pas le destinataire de ce message, merci de le détruire et d\\'avertir l\\'expéditeur. This message and any attachments are confidential and intended solely for the addressees. Any unauthorized use or disclosure, either whole or partial is prohibited. E-s are susceptible to alteration. Brink\\'s shall not be liable for the message if altered, changed or falsified. If you are not the intended recipient of this message, please delete it and notify the sender.','XXXX ',str(msg['text'][i]))\n",
      "<ipython-input-28-dd91ad735118>:44: SettingWithCopyWarning: \n",
      "A value is trying to be set on a copy of a slice from a DataFrame\n",
      "\n",
      "See the caveats in the documentation: https://pandas.pydata.org/pandas-docs/stable/user_guide/indexing.html#returning-a-view-versus-a-copy\n",
      "  msg['text'][i]= re.sub('Ce message et toutes les Pieces jointes (ci apres : le message) sont etablis a l\\'intention exclusive de ses destinataires et sont confidentiels.Toute utilisation de ce message non conforme a sa destination, toute diffusion ou toute publication totale ou partielle est interdite sauf autorisation prealable.Si vous recevez ce message par erreur, merci de le detruire et d\\' avertir immediatement l\\'expediteur.Les communications sur Internet n\\'etant pas securisees, le Groupe APRR decline toute responsabilite quant au contenu de ce message.','XXXX',str(msg['text'][i]))\n"
     ]
    }
   ],
   "source": [
    "tab=[]\n",
    "\n",
    "for i in msg.index:\n",
    "    \n",
    "    msg['text'][i]=re.sub('([a-zA-Z0-9_.+-]+@[a-zA-Z0-9-]+\\.[a-zA-Z0-9-.]+)', 'XXXX', str(msg['text'][i]))#email\n",
    "    #phone\n",
    "    msg['text'][i]=re.sub(r\"/\\d{10}|\\+33\\d{9}|\\+33\\s\\d{1}\\s\\d{2}\\s\\d{2}\\s\\d{2}\\s\\d{2}|\\d{2}\\s\\d{2}\\s\\d{2}\\s\\d{2}\\s\\d{2}/g\",' XXXX',str(msg['text'][i]))#phone francais\n",
    "    msg['text'][i]=re.sub(r'(^(\\+33 |0)[1-6]{1}(([0-9]{2}){4})|((\\s[0-9]{2}){4})|((-[0-9]{2}){4})$)','XXXX',str(msg['text'][i]))\n",
    "    msg['text'][i]=re.sub(\"((?:\\+\\d{2}[-\\.\\s]??|\\d{4}[-\\.\\s]??)?(?:\\d{3}[-\\.\\s]??\\d{3}[-\\.\\s]??\\d{4}|\\(\\d{3}\\)\\s*\\d{3}[-\\.\\s]??\\d{4}|\\d{3}[-\\.\\s]??\\d{4}))\",'XXXX', str(msg['text'][i]))#phone\n",
    "    msg['text'][i]=re.sub('\\(?\\d{2}\\)?[-.\\s]?\\d{2}[-.\\s]?\\d{2}[-.\\s]?\\d{2}[-.\\s]?\\d{2}','XXXX',str(msg['text'][i]))\n",
    "    msg['text'][i]=re.sub('\\(?\\d{2}\\)?[-.\\s]?\\d{2}[-.\\s]?\\d{2}[-.\\s]?\\d{2}[-.\\s]','XXXX',str(msg['text'][i]))\n",
    "    msg['text'][i]=re.sub('\\(?\\d{1}\\)?[-.\\s]?\\d{2}[-.\\s]?\\d{2}[-.\\s]?\\d{2}[-.\\s]','XXXX',str(msg['text'][i]))\n",
    "    msg['text'][i]=re.sub('\\(?\\d{2}\\)?[-.\\s]?\\d{5}[-.\\s]?\\d{3}','XXXX',str(msg['text'][i]))\n",
    "    msg['text'][i]=re.sub('\\(?\\d{1}\\)?[-.\\s]?\\d{2}[-.\\s]?\\d{2}[-.\\s]?\\d{3}','XXXX',str(msg['text'][i]))\n",
    "    msg['text'][i]=re.sub('\\(?\\d{2}\\)?[-.\\s]?\\d{3}[-.\\s]?\\d{3}[-.\\s]?\\d{3}','XXXX',str(msg['text'][i]))\n",
    "    #Emoji\n",
    "    emoji= re.compile(u'['u'\\U0001F300-\\U0001F64F'u'\\U0001F680-\\U0001F6FF'u'\\u2600-\\u26FF\\u2700-\\u27BF]+', re.UNICODE)\n",
    "    msg['text'][i]=re.sub(emoji,' ',str(msg['text'][i]))\n",
    "    #text\n",
    "    msg['text'][i]= msg['text'][i].replace(\"Avant d\\'imprimer cet e-mail, réfléchissez à l\\'impact sur l\\'environnementBefore you print this mail, think about the impact on the environment\",'')\n",
    "    dele = [\"Mail:\",\"Email:\",\"e-mail\",\"Email : \",\"mail\",\"Tél : +\",\"Fax : +\",\"tél.: + ()\",\"port.: + () \",\"fax.: + ()\"]\n",
    "    #df['Text'][i]= df['Text'][i].replace(dele,'')\n",
    "    msg['text'][i]= msg['text'][i].replace(\"Mail:\",'email')\n",
    "    msg['text'][i]= msg['text'][i].replace(\"Email:\",'email')\n",
    "    msg['text'][i]= msg['text'][i].replace(\"E-mail\",'email')\n",
    "    msg['text'][i]= msg['text'][i].replace(\"Email : \",'email')\n",
    "    msg['text'][i]= msg['text'][i].replace(\"mail\",'email')\n",
    "    #msg['text'][i]= msg['text'][i].replace(\"Bonjour\",'')\n",
    "    msg['text'][i]= msg['text'][i].replace(\"-\",'')\n",
    "    msg['text'][i]=re.sub(r'\\d{3}[-\\.\\s]??\\d{3}[-\\.\\s]??\\d{4}|\\(\\d{3}\\)\\s*\\d{3}[-\\.\\s]??\\d{4}|\\d{3}[-\\.\\s]??\\d{4}','XXXX',str(msg['text'][i]))\n",
    "    #df['Text'][i]=re.sub(r'\\d+','',str(df['Text'][i]))#Tél : +      Fax : +, tél.: + ()       fax.: + ()      port.: + () \n",
    "    msg['text'][i]= re.sub(\"http[s]?://(?:[a-zA-Z]|[0-9]|[$-_@.&+]|[!*\\(\\),]|(?:%[0-9a-fA-F][0-9a-fA-F]))+\",'XXXX',msg['text'][i])#url\n",
    "    msg['text'][i]= re.sub('(https?:\\/\\/(?:www\\.|(?!www))[a-zA-Z0-9][a-zA-Z0-9-]+[a-zA-Z0-9]\\.[^\\s]{2,}|www\\.[a-zA-Z0-9][a-zA-Z0-9-]+[a-zA-Z0-9]\\.[^\\s]{2,}|https?:\\/\\/(?:www\\.|(?!www))[a-zA-Z0-9]+\\.[^\\s]{2,}|www\\.[a-zA-Z0-9]+\\.[^\\s]{2,})',' XXXX',str(msg['text'][i]))#url www\n",
    "    msg['text'][i]= re.sub('Ce message et toutes les Pieces jointes (ci apres : le message) sont etablis a l\\'intention exclusive de ses destinataires et sont confidentiels.Toute utilisation de ce message non conforme a sa destination, toute diffusion ou toute publication totale ou partielle est interdite sauf autorisation prealable.Si vous recevez ce message par erreur, merci de le detruire et d\\' avertir immediatement l\\'expediteur.Les communications sur Internet n\\'etant pas securisees, le Groupe APRR decline toute responsabilite quant au contenu de ce message.This message and all attached documents (hereafter \"the message\") are intended for the exclusive attention of its recipients and are confidential. Any use of this message, for which it was not intended, any distribution or any total or partial publication is prohibited unless previously approved.If you receive this message in error, please destroy it and immediately notify the sender thereof.Since communication by Internet is not secure, Group APRR cannot accept any responsibility regarding the contents of this message.','XXXX ',str(msg['text'][i]))\n",
    "    #df['Text'][i]= re.sub('SCAN <>Cet  a été envoyé par \"copieurRICOH\" (MP C3004ex).Date de numérisation: 07.08.2020 17:17:25 (+0200)Contacter si besoin :  ','',str(df['Text'][i]))\n",
    "    msg['text'][i]= re.sub('Ce message est généré automatiquement. Merci de ne pas y répondre.','XXXX',str(msg['text'][i]))\n",
    "    msg['text'][i]= re.sub('Ce message et toutes les Pieces jointes (ci apres : le message) sont etablis a l\\'intention exclusive de ses destinataires et sont confidentiels.Toute utilisation de ce message non conforme a sa destination, toute diffusion ou toute publication totale ou partielle est interdite sauf autorisation prealable.Si vous recevez ce message par erreur, merci de le detruire et d\\' avertir immediatement l\\'expediteur.Les communications sur Internet n\\'etant pas securisees, le Groupe APRR decline toute responsabilite quant au contenu de ce message.This message and all attached documents (hereafter \"the message\") are intended for the exclusive attention of its recipients and are confidential. Any use of this message, for which it was not intended, any distribution or any total or partial publication is prohibited unless previously approved.If you receive this message in error, please destroy it and immediately notify the sender thereof.Since communication by Internet is not secure, Group APRR cannot accept any responsibility regarding the contents of this message.','XXXX ',str(msg['text'][i]))\n",
    "    msg['text'][i]= re.sub('This message and any attachments are confidential and intended for the named addressee(s) only.If you have received this message in error, please notify immediately the sender, then deletethe message. Any unauthorized modification, edition, use or dissemination is prohibited.The sender shall not be liable for this message if it has been modified, altered, falsified, infectedby a virus or even edited or disseminated without authorization.','XXXX',str(msg['text'][i]))\n",
    "    msg['text'][i]= re.sub('This  transmission (message and any attached files) may contain information that is proprietary, privileged and/or confidential to Veolia Environnement and/or its affiliates and is intended exclusively for the person(s) to whom it is addressed. If you are not the intended recipient, please notify the sender by return  and delete all copies of this , including all attachments. Unless expressly authorized, any use, disclosure, publication, retransmission or dissemination of this  and/or of its attachments is strictly prohibited. Ce message electronique et ses fichiers attaches sont strictement confidentiels et peuvent contenir des elements dont Veolia Environnement et/ou l\\'une de ses entites affiliees sont proprietaires. Ils sont donc destines a l\\'usage de leurs seuls destinataires. Si vous avez recu ce message par erreur, merci de le retourner a son emetteur et de le detruire ainsi que toutes les pieces attachees. L\\'utilisation, la divulgation, la publication, la distribution, ou la reproduction non expressement autorisees de ce message et de ses pieces attachees sont interdites.','XXXX ',str(msg['text'][i]))\n",
    "    msg['text'][i]= re.sub('This  transmission (message and any attached files) may contain information that is proprietary, privileged and/or confidential to Veolia Environnement and/or its affiliates and is intended exclusively for the person(s) to whom it is addressed. If you are not the intended recipient, please notify the sender by return  and delete all copies of this , including all attachments. Unless expressly authorized, any use, disclosure, publication, retransmission or dissemination of this  and/or of its attachments is strictly prohibited.  Ce message electronique et ses fichiers attaches sont strictement confidentiels et peuvent contenir des elements dont Veolia Environnement et/ou l\\'une de ses entites affiliees sont proprietaires. Ils sont donc destines a l\\'usage de leurs seuls destinataires. Si vous avez recu ce message par erreur, merci de le retourner a son emetteur et de le detruire ainsi que toutes les pieces attachees. L\\'utilisation, la divulgation, la publication, la distribution, ou la reproduction non expressement autorisees de ce message et de ses pieces attachees sont interdites.','XXXX ',str(msg['text'][i]))\n",
    "    msg['text'][i]= re.sub('Le contenu de ce message est strictement réservé à l\\'usage exclusif de son destinataire et contient de l\\'information privilégiée et confidentielle. Toute lecture, divulgation, distribution ou copie non autorisée de cette communication est formellement interdite. Si vous avez reçu cette communication par erreur, veuillez la détruire immédiatement.','XXXX',str(msg['text'][i]))\n",
    "    msg['text'][i]= re.sub('Ce message et toutes les Pieces jointes (ci apres : le message) sont etablis a l\\'intention exclusive de ses destinataires et sont confidentiels.Toute utilisation de ce message non conforme a sa destination, toute diffusion ou toute publication totale ou partielle est interdite sauf autorisation prealable.Si vous recevez ce message par erreur, merci de le detruire et d\\' avertir immediatement l\\'expediteur.Les communications sur Internet n\\'etant pas securisees, le Groupe APRR decline toute responsabilite quant au contenu de ce message.This message and all attached documents (hereafter \"the message\") are intended for the exclusive attention of its recipients and are confidential. Any use of this message, for which it was not intended, any distribution or any total or partial publication is prohibited unless previously approved.If you receive this message in error, please destroy it and immediately notify the sender thereof.Since communication by Internet is not secure, Group APRR cannot accept any responsibility regarding the contents of this message.','XXXX ',str(msg['text'][i]))\n",
    "    msg['text'][i]= re.sub('Ce message et les pièces jointes sont confidentiels et établis à l\\'attention exclusive de ses destinataires. Toute utilisation ou diffusion, même partielle, non autorisée est interdite. Tout message électronique est susceptible d\\'altération. Brink\\'s décline toute responsabilité au titre de ce message s\\'il a été altéré, déformé ou falsifié. Si vous n\\'êtes pas le destinataire de ce message, merci de le détruire et d\\'avertir l\\'expéditeur. This message and any attachments are confidential and intended solely for the addressees. Any unauthorized use or disclosure, either whole or partial is prohibited. E-s are susceptible to alteration. Brink\\'s shall not be liable for the message if altered, changed or falsified. If you are not the intended recipient of this message, please delete it and notify the sender.','XXXX ',str(msg['text'][i]))\n",
    "    msg['text'][i]= re.sub('Ce message et toutes les Pieces jointes (ci apres : le message) sont etablis a l\\'intention exclusive de ses destinataires et sont confidentiels.Toute utilisation de ce message non conforme a sa destination, toute diffusion ou toute publication totale ou partielle est interdite sauf autorisation prealable.Si vous recevez ce message par erreur, merci de le detruire et d\\' avertir immediatement l\\'expediteur.Les communications sur Internet n\\'etant pas securisees, le Groupe APRR decline toute responsabilite quant au contenu de ce message.','XXXX',str(msg['text'][i]))\n",
    "    \n",
    "    #print(msg['Messages'][i])\n",
    "#msg.to_excel(\"message_traité1.xlsx\", index = False)"
   ]
  },
  {
   "cell_type": "code",
   "execution_count": null,
   "id": "11beede8",
   "metadata": {},
   "outputs": [],
   "source": [
    "from langdetect import detect"
   ]
  },
  {
   "cell_type": "code",
   "execution_count": null,
   "id": "d1c891c8",
   "metadata": {},
   "outputs": [],
   "source": [
    "texl70 = msg['text']\n",
    "langdet = []\n",
    "    \n",
    "for i in range(len(msg)):                                         \n",
    "    try:                                                          \n",
    "        lang=detect(texl70[i])                                      \n",
    "    except:                                                       \n",
    "        lang=''                                                  \n",
    "        print(\"This row throws error:\", texl70[i])                 \n",
    "    langdet.append(lang)     "
   ]
  },
  {
   "cell_type": "code",
   "execution_count": null,
   "id": "cdad379b",
   "metadata": {},
   "outputs": [],
   "source": [
    "msg['lang']=langdet\n",
    "msg.head()"
   ]
  },
  {
   "cell_type": "code",
   "execution_count": null,
   "id": "368d2a3b",
   "metadata": {},
   "outputs": [],
   "source": [
    "msg=msg.loc[msg['lang']=='fr']\n",
    "msg.shape"
   ]
  },
  {
   "cell_type": "code",
   "execution_count": 29,
   "id": "5f3bc92e",
   "metadata": {},
   "outputs": [
    {
     "data": {
      "text/plain": [
       "array([['contrat'],\n",
       "       ['commande de badge'],\n",
       "       ['demande de renseignement,interne Axxès,réclamation qualité de service,a'],\n",
       "       ['renseignement facture']], dtype=object)"
      ]
     },
     "execution_count": 29,
     "metadata": {},
     "output_type": "execute_result"
    }
   ],
   "source": [
    "#msg=msg.loc[msg['catégorie']!='demande de renseignement,interne Axxès,réclamation qualité de service,a']\n",
    "pd.DataFrame(msg.catégorie.unique()).values"
   ]
  },
  {
   "cell_type": "code",
   "execution_count": 30,
   "id": "9bd5d386",
   "metadata": {},
   "outputs": [
    {
     "data": {
      "text/html": [
       "<div>\n",
       "<style scoped>\n",
       "    .dataframe tbody tr th:only-of-type {\n",
       "        vertical-align: middle;\n",
       "    }\n",
       "\n",
       "    .dataframe tbody tr th {\n",
       "        vertical-align: top;\n",
       "    }\n",
       "\n",
       "    .dataframe thead th {\n",
       "        text-align: right;\n",
       "    }\n",
       "</style>\n",
       "<table border=\"1\" class=\"dataframe\">\n",
       "  <thead>\n",
       "    <tr style=\"text-align: right;\">\n",
       "      <th></th>\n",
       "      <th>Messages</th>\n",
       "      <th>catégorie</th>\n",
       "      <th>occurence</th>\n",
       "      <th>text</th>\n",
       "    </tr>\n",
       "  </thead>\n",
       "  <tbody>\n",
       "    <tr>\n",
       "      <th>0</th>\n",
       "      <td>Bonjour,Ci-joint le mandat sepa et le rib.Cord...</td>\n",
       "      <td>contrat</td>\n",
       "      <td>42</td>\n",
       "      <td>Bonjour,Cijoint le mandat sepa et le rib.</td>\n",
       "    </tr>\n",
       "    <tr>\n",
       "      <th>1</th>\n",
       "      <td>DANIEL   GUEGANSOCIETE DES TRANSPORTS GUEGANCl...</td>\n",
       "      <td>commande de badge</td>\n",
       "      <td>703</td>\n",
       "      <td>DANIEL   GUEGANSOCIETE DES TRANSPORTS GUEGANCl...</td>\n",
       "    </tr>\n",
       "    <tr>\n",
       "      <th>2</th>\n",
       "      <td>Bonjour, J’ai essayé de faire la modification...</td>\n",
       "      <td>contrat</td>\n",
       "      <td>489</td>\n",
       "      <td>Bonjour, J’ai essayé de faire la modification...</td>\n",
       "    </tr>\n",
       "    <tr>\n",
       "      <th>3</th>\n",
       "      <td>Bonjour, merci de me faire un badge avec la gé...</td>\n",
       "      <td>commande de badge</td>\n",
       "      <td>420</td>\n",
       "      <td>Bonjour, merci de me faire un badge avec la gé...</td>\n",
       "    </tr>\n",
       "    <tr>\n",
       "      <th>4</th>\n",
       "      <td>Bonjour, L'appareil 3156490017550003485 a été ...</td>\n",
       "      <td>demande de renseignement,interne Axxès,réclama...</td>\n",
       "      <td>2462</td>\n",
       "      <td>Bonjour, L'appareil XXXX03485 a été attribué a...</td>\n",
       "    </tr>\n",
       "  </tbody>\n",
       "</table>\n",
       "</div>"
      ],
      "text/plain": [
       "                                            Messages  \\\n",
       "0  Bonjour,Ci-joint le mandat sepa et le rib.Cord...   \n",
       "1  DANIEL   GUEGANSOCIETE DES TRANSPORTS GUEGANCl...   \n",
       "2   Bonjour, J’ai essayé de faire la modification...   \n",
       "3  Bonjour, merci de me faire un badge avec la gé...   \n",
       "4  Bonjour, L'appareil 3156490017550003485 a été ...   \n",
       "\n",
       "                                           catégorie  occurence  \\\n",
       "0                                            contrat         42   \n",
       "1                                  commande de badge        703   \n",
       "2                                            contrat        489   \n",
       "3                                  commande de badge        420   \n",
       "4  demande de renseignement,interne Axxès,réclama...       2462   \n",
       "\n",
       "                                                text  \n",
       "0          Bonjour,Cijoint le mandat sepa et le rib.  \n",
       "1  DANIEL   GUEGANSOCIETE DES TRANSPORTS GUEGANCl...  \n",
       "2   Bonjour, J’ai essayé de faire la modification...  \n",
       "3  Bonjour, merci de me faire un badge avec la gé...  \n",
       "4  Bonjour, L'appareil XXXX03485 a été attribué a...  "
      ]
     },
     "execution_count": 30,
     "metadata": {},
     "output_type": "execute_result"
    }
   ],
   "source": [
    "msg.head()"
   ]
  },
  {
   "cell_type": "code",
   "execution_count": 31,
   "id": "4a9043ac",
   "metadata": {},
   "outputs": [
    {
     "data": {
      "text/plain": [
       "(8014, 4)"
      ]
     },
     "execution_count": 31,
     "metadata": {},
     "output_type": "execute_result"
    }
   ],
   "source": [
    "msg.shape"
   ]
  },
  {
   "cell_type": "code",
   "execution_count": 32,
   "id": "c91a95f6",
   "metadata": {},
   "outputs": [],
   "source": [
    "import seaborn as sns"
   ]
  },
  {
   "cell_type": "code",
   "execution_count": 33,
   "id": "c0795cb9",
   "metadata": {},
   "outputs": [
    {
     "data": {
      "text/plain": [
       "commande de badge                                                          2982\n",
       "demande de renseignement,interne Axxès,réclamation qualité de service,a    1920\n",
       "contrat                                                                    1729\n",
       "renseignement facture                                                      1383\n",
       "Name: catégorie, dtype: int64"
      ]
     },
     "execution_count": 33,
     "metadata": {},
     "output_type": "execute_result"
    }
   ],
   "source": [
    "msg.catégorie.value_counts()"
   ]
  },
  {
   "cell_type": "code",
   "execution_count": 34,
   "id": "79cb7e63",
   "metadata": {},
   "outputs": [
    {
     "data": {
      "image/png": "[encoded data removed]",
      "text/plain": [
       "<Figure size 864x288 with 1 Axes>"
      ]
     },
     "metadata": {
      "needs_background": "light"
     },
     "output_type": "display_data"
    }
   ],
   "source": [
    "my_tags = msg['catégorie']\n",
    "plt.figure(figsize=(12,4))\n",
    "my_tags.value_counts().plot(kind='bar');"
   ]
  },
  {
   "cell_type": "code",
   "execution_count": 35,
   "id": "11b5075c",
   "metadata": {},
   "outputs": [],
   "source": [
    "my_tags=my_tags.unique()"
   ]
  },
  {
   "cell_type": "code",
   "execution_count": 36,
   "id": "a1b5dbff",
   "metadata": {},
   "outputs": [
    {
     "data": {
      "text/plain": [
       "(8014, 4)"
      ]
     },
     "execution_count": 36,
     "metadata": {},
     "output_type": "execute_result"
    }
   ],
   "source": [
    "#msg=msg.loc[msg['occurence']!=-1]\n",
    "msg.shape"
   ]
  },
  {
   "cell_type": "code",
   "execution_count": 37,
   "id": "9125f562",
   "metadata": {},
   "outputs": [],
   "source": [
    "msg.to_excel(\"fin1.xlsx\", index = False)"
   ]
  },
  {
   "cell_type": "code",
   "execution_count": 38,
   "id": "c0eb5702",
   "metadata": {},
   "outputs": [],
   "source": [
    "#msg=pd.read_excel('message_cord_1001.xlsx',engine='openpyxl')\n",
    "#msg=msg[1001:1640]\n",
    "#msg=msg.head(500)"
   ]
  },
  {
   "cell_type": "code",
   "execution_count": 39,
   "id": "bb88d380",
   "metadata": {},
   "outputs": [
    {
     "data": {
      "text/plain": [
       "736727"
      ]
     },
     "execution_count": 39,
     "metadata": {},
     "output_type": "execute_result"
    }
   ],
   "source": [
    "msg['text'].apply(lambda x: len(x.split(' '))).sum()"
   ]
  },
  {
   "cell_type": "code",
   "execution_count": 40,
   "id": "59f76156",
   "metadata": {},
   "outputs": [],
   "source": [
    "X = msg['text']\n",
    "y = msg['catégorie']\n",
    "X_train, X_test, y_train, y_test = train_test_split(X, y, test_size=0.15, random_state = 22)"
   ]
  },
  {
   "cell_type": "code",
   "execution_count": 41,
   "id": "c8e89794",
   "metadata": {},
   "outputs": [
    {
     "name": "stdout",
     "output_type": "stream",
     "text": [
      "(6811,)\n",
      "(1203,)\n",
      "(6811,)\n",
      "(1203,)\n"
     ]
    }
   ],
   "source": [
    "print(X_train.shape)\n",
    "print(X_test.shape)\n",
    "print(y_train.shape)\n",
    "print(y_test.shape)"
   ]
  },
  {
   "cell_type": "code",
   "execution_count": 42,
   "id": "1e436fef",
   "metadata": {},
   "outputs": [],
   "source": [
    "my_tags = ['contrat', 'commande de badge', 'réclamation qualité de service',\n",
    "       'interne Axxès', 'renseignement facture',\n",
    "       'demande de renseignement', 'remplacement badge',\n",
    "       'réclamation facture', 'réclamation logistique', 'amende Belgique',\n",
    "       'no message']"
   ]
  },
  {
   "cell_type": "code",
   "execution_count": 43,
   "id": "a12d0619",
   "metadata": {},
   "outputs": [
    {
     "name": "stdout",
     "output_type": "stream",
     "text": [
      "accuracy 0.5511221945137157\n",
      "                                                                         precision    recall  f1-score   support\n",
      "\n",
      "                                                      commande de badge       0.47      0.92      0.62       436\n",
      "                                                                contrat       0.62      0.23      0.34       262\n",
      "demande de renseignement,interne Axxès,réclamation qualité de service,a       0.82      0.37      0.51       284\n",
      "                                                  renseignement facture       0.80      0.44      0.57       221\n",
      "\n",
      "                                                               accuracy                           0.55      1203\n",
      "                                                              macro avg       0.68      0.49      0.51      1203\n",
      "                                                           weighted avg       0.64      0.55      0.52      1203\n",
      "\n"
     ]
    }
   ],
   "source": [
    "\n",
    "from sklearn.naive_bayes import MultinomialNB\n",
    "from sklearn.pipeline import Pipeline\n",
    "from sklearn.feature_extraction.text import TfidfTransformer\n",
    "\n",
    "\n",
    "nb = Pipeline([('vect', CountVectorizer()),\n",
    "               ('tfidf', TfidfTransformer()),\n",
    "               ('clf', MultinomialNB()),\n",
    "              ])\n",
    "nb.fit(X_train, y_train)\n",
    "\n",
    "\n",
    "from sklearn.metrics import classification_report\n",
    "y_pred = nb.predict(X_test)\n",
    "\n",
    "print('accuracy %s' % accuracy_score(y_pred, y_test))\n",
    "print(classification_report(y_test, y_pred,labels=np.unique(y_pred)))"
   ]
  },
  {
   "cell_type": "code",
   "execution_count": 44,
   "id": "90cbd126",
   "metadata": {},
   "outputs": [
    {
     "data": {
      "text/plain": [
       "<AxesSubplot:>"
      ]
     },
     "execution_count": 44,
     "metadata": {},
     "output_type": "execute_result"
    },
    {
     "data": {
      "image/png": "[encoded data removed]",
      "text/plain": [
       "<Figure size 432x288 with 2 Axes>"
      ]
     },
     "metadata": {
      "needs_background": "light"
     },
     "output_type": "display_data"
    }
   ],
   "source": [
    "sns.heatmap(confusion_matrix(y_test, y_pred), annot=True)"
   ]
  },
  {
   "cell_type": "code",
   "execution_count": 45,
   "id": "faa69200",
   "metadata": {},
   "outputs": [
    {
     "name": "stdout",
     "output_type": "stream",
     "text": [
      "[[401  20   7   8]\n",
      " [186  61   9   6]\n",
      " [158  12 104  10]\n",
      " [111   6   7  97]]\n"
     ]
    }
   ],
   "source": [
    "print(confusion_matrix(y_test, y_pred))"
   ]
  },
  {
   "cell_type": "code",
   "execution_count": 46,
   "id": "8629243b",
   "metadata": {},
   "outputs": [
    {
     "name": "stdout",
     "output_type": "stream",
     "text": [
      "accuracy 0.7506234413965087\n",
      "                                                                         precision    recall  f1-score   support\n",
      "\n",
      "                                                      commande de badge       0.75      0.86      0.80       436\n",
      "                                                                contrat       0.67      0.56      0.61       262\n",
      "demande de renseignement,interne Axxès,réclamation qualité de service,a       0.77      0.64      0.70       284\n",
      "                                                  renseignement facture       0.81      0.89      0.85       221\n",
      "\n",
      "                                                               accuracy                           0.75      1203\n",
      "                                                              macro avg       0.75      0.74      0.74      1203\n",
      "                                                           weighted avg       0.75      0.75      0.74      1203\n",
      "\n"
     ]
    }
   ],
   "source": [
    "from sklearn.linear_model import SGDClassifier\n",
    "from sklearn.feature_extraction.text import CountVectorizer\n",
    "\n",
    "sgd = Pipeline([('vect', CountVectorizer()),\n",
    "                ('tfidf', TfidfTransformer()),\n",
    "                ('clf', SGDClassifier(loss='hinge',class_weight=\"balanced\", penalty='l2',alpha=1e-3, random_state=42, max_iter=5, tol=None)),\n",
    "               ])\n",
    "sgd.fit(X_train, y_train)\n",
    "\n",
    "\n",
    "y_pred = sgd.predict(X_test)\n",
    "\n",
    "print('accuracy %s' % accuracy_score(y_pred, y_test))\n",
    "print(classification_report(y_test, y_pred,labels=np.unique(y_pred)))\n"
   ]
  },
  {
   "cell_type": "code",
   "execution_count": 47,
   "id": "d62aa803",
   "metadata": {},
   "outputs": [
    {
     "data": {
      "text/plain": [
       "<AxesSubplot:>"
      ]
     },
     "execution_count": 47,
     "metadata": {},
     "output_type": "execute_result"
    },
    {
     "data": {
      "image/png": "[encoded data removed]",
      "text/plain": [
       "<Figure size 432x288 with 2 Axes>"
      ]
     },
     "metadata": {
      "needs_background": "light"
     },
     "output_type": "display_data"
    }
   ],
   "source": [
    "sns.heatmap(confusion_matrix(y_test, y_pred), annot=True)"
   ]
  },
  {
   "cell_type": "code",
   "execution_count": 48,
   "id": "357fcbbd",
   "metadata": {},
   "outputs": [
    {
     "name": "stdout",
     "output_type": "stream",
     "text": [
      "[[377  32  19   8]\n",
      " [ 68 148  27  19]\n",
      " [ 50  34 181  19]\n",
      " [  9   8   7 197]]\n"
     ]
    }
   ],
   "source": [
    "print(confusion_matrix(y_test, y_pred))"
   ]
  },
  {
   "cell_type": "code",
   "execution_count": 49,
   "id": "4c82317e",
   "metadata": {},
   "outputs": [
    {
     "name": "stdout",
     "output_type": "stream",
     "text": [
      "accuracy 0.7281795511221946\n",
      "                                                                         precision    recall  f1-score   support\n",
      "\n",
      "                                                      commande de badge       0.75      0.80      0.77       436\n",
      "                                                                contrat       0.59      0.65      0.62       262\n",
      "demande de renseignement,interne Axxès,réclamation qualité de service,a       0.77      0.62      0.68       284\n",
      "                                                  renseignement facture       0.82      0.82      0.82       221\n",
      "\n",
      "                                                               accuracy                           0.73      1203\n",
      "                                                              macro avg       0.73      0.72      0.72      1203\n",
      "                                                           weighted avg       0.73      0.73      0.73      1203\n",
      "\n"
     ]
    }
   ],
   "source": [
    "from sklearn.linear_model import LogisticRegression\n",
    "#1e5\n",
    "logreg = Pipeline([('vect', CountVectorizer()),\n",
    "                ('tfidf', TfidfTransformer()),\n",
    "                ('clf', LogisticRegression(n_jobs=2, C=1e5,class_weight=\"balanced\")),\n",
    "               ])\n",
    "logreg.fit(X_train, y_train)\n",
    "\n",
    "\n",
    "y_pred = logreg.predict(X_test)\n",
    "\n",
    "print('accuracy %s' % accuracy_score(y_pred, y_test))\n",
    "print(classification_report(y_test, y_pred,labels=np.unique(y_pred)))"
   ]
  },
  {
   "cell_type": "code",
   "execution_count": 50,
   "id": "f65fa658",
   "metadata": {},
   "outputs": [
    {
     "data": {
      "text/plain": [
       "<AxesSubplot:>"
      ]
     },
     "execution_count": 50,
     "metadata": {},
     "output_type": "execute_result"
    },
    {
     "data": {
      "image/png": "[encoded data removed]",
      "text/plain": [
       "<Figure size 432x288 with 2 Axes>"
      ]
     },
     "metadata": {
      "needs_background": "light"
     },
     "output_type": "display_data"
    }
   ],
   "source": [
    "sns.heatmap(confusion_matrix(y_test, y_pred), annot=True)"
   ]
  },
  {
   "cell_type": "code",
   "execution_count": 51,
   "id": "b7dfd977",
   "metadata": {},
   "outputs": [
    {
     "data": {
      "text/plain": [
       "327"
      ]
     },
     "execution_count": 51,
     "metadata": {},
     "output_type": "execute_result"
    }
   ],
   "source": [
    "\n",
    "pred = pd.DataFrame({\n",
    "                    'Messages':X_test,\n",
    "                    'Prédiction':y_pred,\n",
    "                    'Réel': y_test\n",
    "                   })\n",
    "#pred.head(30)\n",
    "pred_diff=pred.loc[pred['Prédiction']!=pred['Réel']]\n",
    "len(pred_diff)"
   ]
  },
  {
   "cell_type": "code",
   "execution_count": 52,
   "id": "45778ba1",
   "metadata": {},
   "outputs": [],
   "source": [
    "pred_diff.to_excel('final_diff.xlsx',engine='openpyxl')"
   ]
  },
  {
   "cell_type": "code",
   "execution_count": null,
   "id": "072b6b75",
   "metadata": {},
   "outputs": [],
   "source": [
    "from sklearn.model_selection import learning_curve\n",
    "import matplotlib.pyplot as plt"
   ]
  },
  {
   "cell_type": "code",
   "execution_count": null,
   "id": "c10586cc",
   "metadata": {},
   "outputs": [],
   "source": [
    "from sklearn.ensemble import RandomForestClassifier\n",
    "Random = Pipeline([('vect', CountVectorizer()),\n",
    "                ('tfidf', TfidfTransformer()),\n",
    "                ('clf', RandomForestClassifier(n_estimators=1000,n_jobs=1,class_weight= \"balanced\")),#\n",
    "               ])\n",
    "Random.fit(X_train, y_train)\n",
    "\n",
    "\n",
    "y_pred = Random.predict(X_test)\n",
    "\n",
    "print('accuracy %s' % accuracy_score(y_pred, y_test))\n",
    "print(classification_report(y_test, y_pred,labels=np.unique(y_pred)))"
   ]
  },
  {
   "cell_type": "code",
   "execution_count": null,
   "id": "719cacb4",
   "metadata": {},
   "outputs": [],
   "source": [
    "sns.heatmap(confusion_matrix(y_test, y_pred), annot=True)"
   ]
  },
  {
   "cell_type": "code",
   "execution_count": null,
   "id": "cfd7beb0",
   "metadata": {},
   "outputs": [],
   "source": [
    "print(confusion_matrix(y_test, y_pred))"
   ]
  },
  {
   "cell_type": "code",
   "execution_count": null,
   "id": "5b9376e4",
   "metadata": {},
   "outputs": [],
   "source": [
    "from sklearn.multiclass import OneVsRestClassifier\n",
    "from sklearn.svm import LinearSVC, SVC\n",
    "from imblearn.over_sampling import SMOTE\n",
    "from imblearn.under_sampling import RandomUnderSampler\n",
    "from imblearn.over_sampling import RandomOverSampler \n",
    "k=2\n",
    "seed=6\n",
    "ONE = Pipeline([('vect', CountVectorizer()),\n",
    "                ('tfidf', TfidfTransformer()),\n",
    "                #('scaler' , MaxAbsScaler()),\n",
    "                #('under', RandomOverSampler()),#sampling_strategy=ss\n",
    "               # ('smote', SMOTE(random_state=seed,k_neighbors=k, sampling_strategy = 'minority')),\n",
    "               ('clf', OneVsRestClassifier(LinearSVC(random_state=0))),\n",
    "                #('clf', LogisticRegression(n_jobs=-1, C=1e5)),      \n",
    "               ])\n",
    "ONE.fit(X_train, y_train)\n",
    "\n",
    "\n",
    "y_pred = ONE.predict(X_test)\n",
    "\n",
    "print('accuracy %s' % accuracy_score(y_pred, y_test))\n",
    "print(classification_report(y_test, y_pred,labels=np.unique(y_pred)))"
   ]
  },
  {
   "cell_type": "code",
   "execution_count": null,
   "id": "d648adb7",
   "metadata": {},
   "outputs": [],
   "source": [
    "sns.heatmap(confusion_matrix(y_test, y_pred), annot=True)"
   ]
  },
  {
   "cell_type": "code",
   "execution_count": null,
   "id": "a084d8a4",
   "metadata": {},
   "outputs": [],
   "source": [
    "print(confusion_matrix(y_test, y_pred))"
   ]
  },
  {
   "cell_type": "code",
   "execution_count": null,
   "id": "b0c04364",
   "metadata": {},
   "outputs": [],
   "source": [
    "pred = pd.DataFrame({\n",
    "                    'Messages':X_test,\n",
    "                    'Prédiction':y_pred,\n",
    "                    'Réel': y_test\n",
    "                   })\n",
    "#pred.head(30)\n",
    "pred_diff=pred.loc[pred['Prédiction']!=pred['Réel']]\n",
    "len(pred_diff)"
   ]
  },
  {
   "cell_type": "code",
   "execution_count": null,
   "id": "9f05af3e",
   "metadata": {},
   "outputs": [],
   "source": [
    "#train_sizes=np.linspace(0.1,1,10)"
   ]
  },
  {
   "cell_type": "code",
   "execution_count": null,
   "id": "d5554155",
   "metadata": {},
   "outputs": [],
   "source": [
    "print(__doc__)\n",
    "\n",
    "import numpy as np\n",
    "import matplotlib.pyplot as plt\n",
    "from sklearn.model_selection import learning_curve\n",
    "from sklearn.model_selection import ShuffleSplit\n",
    "\n",
    "\n",
    "def plot_learning_curve(estimator, title, X, y, scoring='f1_micro',axes=None, ylim=None, cv=None,\n",
    "                        n_jobs=None, train_sizes=np.linspace(.1, 1.0, 5)):\n",
    "    \n",
    "    if axes is None:\n",
    "        _, axes = plt.subplots(1, 3, figsize=(20, 5))\n",
    "\n",
    "    axes[0].set_title(title)\n",
    "    if ylim is not None:\n",
    "        axes[0].set_ylim(*ylim)\n",
    "    axes[0].set_xlabel(\"Training examples\")\n",
    "    axes[0].set_ylabel(\"Score\")\n",
    "\n",
    "    train_sizes, train_scores, test_scores, fit_times, _ = \\\n",
    "        learning_curve(logreg,X_train, y_train, cv=cv, scoring=scoring,n_jobs=n_jobs,\n",
    "                       train_sizes=train_sizes,\n",
    "                       return_times=True)\n",
    "    train_scores_mean = np.mean(train_scores, axis=1)\n",
    "    train_scores_std = np.std(train_scores, axis=1)\n",
    "    test_scores_mean = np.mean(test_scores, axis=1)\n",
    "    test_scores_std = np.std(test_scores, axis=1)\n",
    "    fit_times_mean = np.mean(fit_times, axis=1)\n",
    "    fit_times_std = np.std(fit_times, axis=1)\n",
    "\n",
    "    # Plot learning curve\n",
    "    axes[0].grid()\n",
    "    axes[0].fill_between(train_sizes, train_scores_mean - train_scores_std,\n",
    "                         train_scores_mean + train_scores_std, alpha=0.1,\n",
    "                         color=\"r\")\n",
    "    axes[0].fill_between(train_sizes, test_scores_mean - test_scores_std,\n",
    "                         test_scores_mean + test_scores_std, alpha=0.1,\n",
    "                         color=\"g\")\n",
    "    axes[0].plot(train_sizes, train_scores_mean, 'o-', color=\"r\",\n",
    "                 label=\"Training score\")\n",
    "    axes[0].plot(train_sizes, test_scores_mean, 'o-', color=\"g\",\n",
    "                 label=\"Cross-validation score\")\n",
    "    axes[0].legend(loc=\"best\")\n",
    "\n",
    "    # Plot n_samples vs fit_times\n",
    "    axes[1].grid()\n",
    "    axes[1].plot(train_sizes, fit_times_mean, 'o-')\n",
    "    axes[1].fill_between(train_sizes, fit_times_mean - fit_times_std,\n",
    "                         fit_times_mean + fit_times_std, alpha=0.1)\n",
    "    axes[1].set_xlabel(\"Training examples\")\n",
    "    axes[1].set_ylabel(\"fit_times\")\n",
    "    axes[1].set_title(\"Scalability of the model\")\n",
    "\n",
    "    # Plot fit_time vs score\n",
    "    axes[2].grid()\n",
    "    axes[2].plot(fit_times_mean, test_scores_mean, 'o-')\n",
    "    axes[2].fill_between(fit_times_mean, test_scores_mean - test_scores_std,\n",
    "                         test_scores_mean + test_scores_std, alpha=0.1)\n",
    "    axes[2].set_xlabel(\"fit_times\")\n",
    "    axes[2].set_ylabel(\"Score\")\n",
    "    axes[2].set_title(\"Performance of the model\")\n",
    "\n",
    "    return plt\n",
    "\n",
    "\n",
    "fig, axes = plt.subplots(3, 2, figsize=(10, 15))\n",
    "\n",
    "#X, y = load_digits(return_X_y=True)\n",
    "\n",
    "title = \"Learning Curves (sgd)\"\n",
    "# Cross validation with 100 iterations to get smoother mean test and train\n",
    "# score curves, each time with 20% data randomly selected as a validation set.\n",
    "cv = ShuffleSplit(n_splits=100, test_size=0.2, random_state=0)\n",
    "\n",
    "#estimator = GaussianNB()\n",
    "plot_learning_curve(sgd, title, X_train, y_train, scoring='f1_micro',axes=axes[:, 0], ylim=(0.7, 1.01),\n",
    "                    cv=cv, n_jobs=4)\n",
    "\n",
    "title = r\"Learning Curves (logreg, RBF kernel, $\\gamma=0.001$)\"\n",
    "# SVC is more expensive so we do a lower number of CV iterations:\n",
    "cv = ShuffleSplit(n_splits=10, test_size=0.2, random_state=0)\n",
    "#estimator = SVC(gamma=0.001)\n",
    "plot_learning_curve(logreg, title, X_train, y_train,scoring='f1_micro', axes=axes[:, 1], ylim=(0.7, 1.01),\n",
    "                    cv=cv, n_jobs=4)\n",
    "\n",
    "plt.show()"
   ]
  },
  {
   "cell_type": "code",
   "execution_count": null,
   "id": "5b14afb3",
   "metadata": {},
   "outputs": [],
   "source": [
    "from sklearn.preprocessing import LabelBinarizer\n",
    "from sklearn.preprocessing import StandardScaler\n",
    "from sklearn.preprocessing import OneHotEncoder\n",
    "from sklearn import preprocessing\n",
    "from sklearn.model_selection import GridSearchCV\n",
    "#x_train = pd.get_dummies(X_train)\n",
    "\n",
    "c_space = np.logspace(-5,8,15)\n",
    "param_grid = {'C':c_space}\n",
    "logreg = LogisticRegression()\n",
    "logreg_cv =  GridSearchCV(logreg,param_grid,cv=5)\n",
    "logreg_cv.fit(x_train,y_train)\n",
    "print(logreg_cv.best_params_)\n",
    "print(logreg_cv.best_score_)\n",
    "print(logreg_cv.best_estimator_)\n"
   ]
  },
  {
   "cell_type": "code",
   "execution_count": null,
   "id": "3bb2548a",
   "metadata": {},
   "outputs": [],
   "source": []
  },
  {
   "cell_type": "code",
   "execution_count": null,
   "id": "aa268eb7",
   "metadata": {},
   "outputs": [],
   "source": []
  },
  {
   "cell_type": "code",
   "execution_count": null,
   "id": "1440b1d6",
   "metadata": {},
   "outputs": [],
   "source": [
    "#train_sizes, train_scores, valid_scores= learning_curve(logreg ,X_train, y_train, cv=5, scoring='f1_micro', train_sizes=np.linspace(0.1, 1.0, 5))"
   ]
  },
  {
   "cell_type": "code",
   "execution_count": null,
   "id": "14357f1d",
   "metadata": {},
   "outputs": [],
   "source": [
    "#train_scores"
   ]
  },
  {
   "cell_type": "code",
   "execution_count": null,
   "id": "e37145d2",
   "metadata": {},
   "outputs": [],
   "source": [
    "plt.figure(figsize=(5,1))\n",
    "plt.plot(train_sizes,train_scores.mean(axis=1),label='train score')\n",
    "plt.plot(train_sizes,valid_scores.mean(axis=1),label='validation score')\n",
    "plt.legend()"
   ]
  },
  {
   "cell_type": "code",
   "execution_count": null,
   "id": "ca07d2be",
   "metadata": {},
   "outputs": [],
   "source": [
    "import pickle"
   ]
  },
  {
   "cell_type": "code",
   "execution_count": null,
   "id": "e4289bc6",
   "metadata": {},
   "outputs": [],
   "source": []
  },
  {
   "cell_type": "code",
   "execution_count": null,
   "id": "0e439a47",
   "metadata": {},
   "outputs": [],
   "source": []
  },
  {
   "cell_type": "code",
   "execution_count": null,
   "id": "980ed6dc",
   "metadata": {},
   "outputs": [],
   "source": [
    "#pickle.dump(logreg, open('mail.pkl', 'wb'))"
   ]
  },
  {
   "cell_type": "code",
   "execution_count": null,
   "id": "b7289efe",
   "metadata": {},
   "outputs": [],
   "source": [
    "pred = pd.DataFrame(data=y_pred)\n",
    "(pred.head(60)).astype(str)"
   ]
  },
  {
   "cell_type": "code",
   "execution_count": null,
   "id": "554194e6",
   "metadata": {},
   "outputs": [],
   "source": [
    "from sklearn.metrics import classification_report\n",
    "from sklearn.linear_model import LogisticRegression\n",
    "from sklearn.multiclass import OneVsOneClassifier\n",
    "from sklearn.multiclass import OneVsOneClassifier\n",
    "from sklearn.multiclass import OneVsRestClassifier\n",
    "from sklearn.svm import LinearSVC, SVC\n",
    "from imblearn.over_sampling import SMOTE\n",
    "from imblearn.under_sampling import RandomUnderSampler\n",
    "from imblearn.over_sampling import RandomOverSampler \n",
    "from sklearn.preprocessing import MinMaxScaler\n",
    "from sklearn.preprocessing import StandardScaler,MaxAbsScaler\n",
    "from imblearn.pipeline import make_pipeline"
   ]
  },
  {
   "cell_type": "code",
   "execution_count": null,
   "id": "0befcf12",
   "metadata": {},
   "outputs": [],
   "source": [
    "from sklearn.cluster import KMeans\n",
    "\n",
    "from sklearn.ensemble import RandomForestClassifier\n",
    "kmeans = Pipeline([('vect', CountVectorizer()),\n",
    "                ('tfidf', TfidfTransformer()),\n",
    "                ('kmeans', KMeans(n_clusters=4)),\n",
    "               ])\n",
    "kmeans.fit(X_train)\n",
    "\n",
    "y_kmeans = kmeans.predict(X_train)\n",
    "plt.scatter(X[:, 0], X[:, 1], c=y_kmeans, s=50, cmap='viridis')\n",
    "\n",
    "centers = kmeans.cluster_centers_\n",
    "plt.scatter(centers[:, 0], centers[:, 1], c='black', s=200, alpha=0.5);"
   ]
  },
  {
   "cell_type": "code",
   "execution_count": null,
   "id": "f68fcca6",
   "metadata": {},
   "outputs": [],
   "source": [
    "from sklearn.metrics import roc_auc_score\n",
    "roc_auc_score(y_test,y_pred, multi_class=\"ovr\")"
   ]
  },
  {
   "cell_type": "code",
   "execution_count": null,
   "id": "df3337f1",
   "metadata": {},
   "outputs": [],
   "source": [
    "sns.heatmap(confusion_matrix(y_test, y_pred), annot=True)"
   ]
  },
  {
   "cell_type": "code",
   "execution_count": null,
   "id": "51f494ab",
   "metadata": {},
   "outputs": [],
   "source": [
    "test=['je veux un nouveau badge','j\\'ai fait un virement sepa','je veux un renseignement sur ma facture','j\\'envoie la carte grise de mon vehicule'\n",
    "     ,'j\\'ai des impayés car la facture n\\est pas arrivé','je veux savoir comment activer le badge']\n",
    "all_predictions = logreg.predict(test)\n",
    "pred = pd.DataFrame({\n",
    "                    'Messages':test,\n",
    "                    'Prédiction':all_predictions#,\n",
    "                    #'Réel': y_test\n",
    "                   })\n",
    "pred.head(30)"
   ]
  },
  {
   "cell_type": "code",
   "execution_count": null,
   "id": "401b6705",
   "metadata": {},
   "outputs": [],
   "source": [
    " #pred.to_excel(\"predict_reel_contrat.xlsx\", index = True)"
   ]
  },
  {
   "cell_type": "code",
   "execution_count": null,
   "id": "32155509",
   "metadata": {},
   "outputs": [],
   "source": []
  },
  {
   "cell_type": "code",
   "execution_count": null,
   "id": "5c5b2b0a",
   "metadata": {},
   "outputs": [],
   "source": []
  },
  {
   "cell_type": "code",
   "execution_count": null,
   "id": "8f7c1a14",
   "metadata": {},
   "outputs": [],
   "source": []
  }
 ],
 "metadata": {
  "kernelspec": {
   "display_name": "Python 3",
   "language": "python",
   "name": "python3"
  },
  "language_info": {
   "codemirror_mode": {
    "name": "ipython",
    "version": 3
   },
   "file_extension": ".py",
   "mimetype": "text/x-python",
   "name": "python",
   "nbconvert_exporter": "python",
   "pygments_lexer": "ipython3",
   "version": "3.8.8"
  }
 },
 "nbformat": 4,
 "nbformat_minor": 5
}
