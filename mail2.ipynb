{
 "cells": [
  {
   "cell_type": "code",
   "execution_count": null,
   "metadata": {},
   "outputs": [],
   "source": [
    "from langdetect import detect"
   ]
  },
  {
   "cell_type": "code",
   "execution_count": 1,
   "metadata": {},
   "outputs": [
    {
     "name": "stderr",
     "output_type": "stream",
     "text": [
      "[nltk_data] Downloading package stopwords to\n",
      "[nltk_data]     C:\\Users\\bertille.lekeufack\\AppData\\Roaming\\nltk_data.\n",
      "[nltk_data]     ..\n",
      "[nltk_data]   Package stopwords is already up-to-date!\n",
      "[nltk_data] Downloading package wordnet to\n",
      "[nltk_data]     C:\\Users\\bertille.lekeufack\\AppData\\Roaming\\nltk_data.\n",
      "[nltk_data]     ..\n",
      "[nltk_data]   Package wordnet is already up-to-date!\n"
     ]
    },
    {
     "data": {
      "text/plain": [
       "True"
      ]
     },
     "execution_count": 1,
     "metadata": {},
     "output_type": "execute_result"
    }
   ],
   "source": [
    "import pandas as pd\n",
    "import seaborn as sns\n",
    "import string \n",
    "import matplotlib.pyplot as plt\n",
    "import numpy as np\n",
    "import re\n",
    "import nltk\n",
    "from sklearn.model_selection import train_test_split\n",
    "from sklearn.feature_extraction.text import CountVectorizer, TfidfTransformer\n",
    "from sklearn.naive_bayes import MultinomialNB\n",
    "from sklearn.tree import DecisionTreeClassifier\n",
    "from sklearn.ensemble import RandomForestClassifier\n",
    "from sklearn.metrics import accuracy_score, confusion_matrix\n",
    "import warnings\n",
    "\n",
    "warnings.filterwarnings(\"ignore\")\n",
    "nltk.download('stopwords')\n",
    "nltk.download('wordnet')"
   ]
  },
  {
   "cell_type": "code",
   "execution_count": null,
   "metadata": {},
   "outputs": [],
   "source": [
    "#df=pd.read_excel('final_210416.xlsx',engine='openpyxl')\n",
    "df=pd.read_excel('message_cord1.xlsx',engine='openpyxl')\n",
    "#msg=msg.head(190)"
   ]
  },
  {
   "cell_type": "code",
   "execution_count": null,
   "metadata": {},
   "outputs": [],
   "source": [
    "df['Messages'] = df['Messages'].astype(str)"
   ]
  },
  {
   "cell_type": "code",
   "execution_count": null,
   "metadata": {},
   "outputs": [],
   "source": [
    "msg= df.head(190)\n",
    "msg"
   ]
  },
  {
   "cell_type": "code",
   "execution_count": null,
   "metadata": {},
   "outputs": [],
   "source": [
    "texl70 = msg['text']\n",
    "langdet = []\n",
    "    \n",
    "for i in range(len(msg)):                                         \n",
    "    try:                                                          \n",
    "        lang=detect(texl70[i])                                      \n",
    "    except:                                                       \n",
    "        lang=''                                                  \n",
    "        print(\"This row throws error:\", texl70[i])                 \n",
    "    langdet.append(lang)                "
   ]
  },
  {
   "cell_type": "code",
   "execution_count": null,
   "metadata": {},
   "outputs": [],
   "source": [
    "msg['lang']=langdet\n",
    "msg.head()"
   ]
  },
  {
   "cell_type": "code",
   "execution_count": null,
   "metadata": {},
   "outputs": [],
   "source": [
    "msg=msg.loc[msg['lang']=='fr']\n",
    "msg.shape"
   ]
  },
  {
   "cell_type": "code",
   "execution_count": null,
   "metadata": {},
   "outputs": [],
   "source": [
    "msg['catégorie'] = msg['catégorie'].replace({ 'contrat' : 0,'demande de renseignement' : 1,'interne Axxès' : 2 ,'facture' : 3, 'commande de badge' : 4, 'réclamation qualité de service' : 5,'réclamation facture':6,'remplacement badge':7,'réclamation logistique':8,\n",
    "                                            'amende Belgique':9,'stef':10,'no message':11})\n"
   ]
  },
  {
   "cell_type": "code",
   "execution_count": null,
   "metadata": {},
   "outputs": [],
   "source": [
    "msg.head(30)"
   ]
  },
  {
   "cell_type": "code",
   "execution_count": null,
   "metadata": {},
   "outputs": [],
   "source": [
    "msg = msg.drop(['Messages',  'occurence','lang'], axis=1)"
   ]
  },
  {
   "cell_type": "code",
   "execution_count": null,
   "metadata": {},
   "outputs": [],
   "source": [
    "sns.countplot(msg.catégorie)"
   ]
  },
  {
   "cell_type": "code",
   "execution_count": null,
   "metadata": {},
   "outputs": [],
   "source": [
    "msg.groupby('catégorie').describe()"
   ]
  },
  {
   "cell_type": "code",
   "execution_count": null,
   "metadata": {},
   "outputs": [],
   "source": [
    "msg=msg.drop_duplicates()\n",
    "msg.groupby('catégorie').describe()"
   ]
  },
  {
   "cell_type": "code",
   "execution_count": null,
   "metadata": {},
   "outputs": [],
   "source": [
    "msg['Messages']=msg['Messages'].astype(str)"
   ]
  },
  {
   "cell_type": "code",
   "execution_count": null,
   "metadata": {},
   "outputs": [],
   "source": [
    "msg.catégorie.value_counts()"
   ]
  },
  {
   "cell_type": "code",
   "execution_count": null,
   "metadata": {},
   "outputs": [],
   "source": [
    "msg['length']=msg['Messages'].apply(len)\n",
    "msg.head()"
   ]
  },
  {
   "cell_type": "code",
   "execution_count": null,
   "metadata": {},
   "outputs": [],
   "source": [
    "msg[msg.catégorie==0].describe()"
   ]
  },
  {
   "cell_type": "code",
   "execution_count": null,
   "metadata": {},
   "outputs": [],
   "source": [
    "sns.distplot(a=msg[msg['catégorie']==0].length,kde=False)"
   ]
  },
  {
   "cell_type": "code",
   "execution_count": null,
   "metadata": {},
   "outputs": [],
   "source": [
    "msg[msg.catégorie==1].describe()"
   ]
  },
  {
   "cell_type": "code",
   "execution_count": null,
   "metadata": {},
   "outputs": [],
   "source": [
    "sns.distplot(a=msg[msg['catégorie']==1].length,kde=False)#kernel density estimation"
   ]
  },
  {
   "cell_type": "code",
   "execution_count": null,
   "metadata": {},
   "outputs": [],
   "source": [
    "tab=[]\n",
    "\n",
    "for i in msg.index:\n",
    "    \n",
    "    msg['Messages'][i]=re.sub('([a-zA-Z0-9_.+-]+@[a-zA-Z0-9-]+\\.[a-zA-Z0-9-.]+)', '', str(msg['Messages'][i]))#email\n",
    "    #phone\n",
    "    msg['Messages'][i]=re.sub(r\"/\\d{10}|\\+33\\d{9}|\\+33\\s\\d{1}\\s\\d{2}\\s\\d{2}\\s\\d{2}\\s\\d{2}|\\d{2}\\s\\d{2}\\s\\d{2}\\s\\d{2}\\s\\d{2}/g\",' ',str(msg['Messages'][i]))#phone francais\n",
    "    msg['Messages'][i]=re.sub(r'(^(\\+33 |0)[1-6]{1}(([0-9]{2}){4})|((\\s[0-9]{2}){4})|((-[0-9]{2}){4})$)','',str(msg['Messages'][i]))\n",
    "    msg['Messages'][i]=re.sub(\"((?:\\+\\d{2}[-\\.\\s]??|\\d{4}[-\\.\\s]??)?(?:\\d{3}[-\\.\\s]??\\d{3}[-\\.\\s]??\\d{4}|\\(\\d{3}\\)\\s*\\d{3}[-\\.\\s]??\\d{4}|\\d{3}[-\\.\\s]??\\d{4}))\",'', str(msg['Messages'][i]))#phone\n",
    "    msg['Messages'][i]=re.sub('\\(?\\d{2}\\)?[-.\\s]?\\d{2}[-.\\s]?\\d{2}[-.\\s]?\\d{2}[-.\\s]?\\d{2}','',str(msg['Messages'][i]))\n",
    "    msg['Messages'][i]=re.sub('\\(?\\d{2}\\)?[-.\\s]?\\d{2}[-.\\s]?\\d{2}[-.\\s]?\\d{2}[-.\\s]','',str(msg['Messages'][i]))\n",
    "    msg['Messages'][i]=re.sub('\\(?\\d{1}\\)?[-.\\s]?\\d{2}[-.\\s]?\\d{2}[-.\\s]?\\d{2}[-.\\s]','',str(msg['Messages'][i]))\n",
    "    msg['Messages'][i]=re.sub('\\(?\\d{2}\\)?[-.\\s]?\\d{5}[-.\\s]?\\d{3}','',str(msg['Messages'][i]))\n",
    "    msg['Messages'][i]=re.sub('\\(?\\d{1}\\)?[-.\\s]?\\d{2}[-.\\s]?\\d{2}[-.\\s]?\\d{3}','',str(msg['Messages'][i]))\n",
    "    msg['Messages'][i]=re.sub('\\(?\\d{2}\\)?[-.\\s]?\\d{3}[-.\\s]?\\d{3}[-.\\s]?\\d{3}','',str(msg['Messages'][i]))\n",
    "    #Emoji\n",
    "    emoji= re.compile(u'['u'\\U0001F300-\\U0001F64F'u'\\U0001F680-\\U0001F6FF'u'\\u2600-\\u26FF\\u2700-\\u27BF]+', re.UNICODE)\n",
    "    msg['Messages'][i]=re.sub(emoji,' ',str(msg['Messages'][i]))\n",
    "    #text\n",
    "    msg['Messages'][i]= msg['Messages'][i].replace(\"Avant d\\'imprimer cet e-mail, réfléchissez à l\\'impact sur l\\'environnementBefore you print this mail, think about the impact on the environment\",'')\n",
    "    dele = [\"Mail:\",\"Email:\",\"e-mail\",\"Email : \",\"mail\",\"Tél : +\",\"Fax : +\",\"tél.: + ()\",\"port.: + () \",\"fax.: + ()\"]\n",
    "    #df['Text'][i]= df['Text'][i].replace(dele,'')\n",
    "    msg['Messages'][i]= msg['Messages'][i].replace(\"Mail:\",'')\n",
    "    msg['Messages'][i]= msg['Messages'][i].replace(\"Email:\",'')\n",
    "    msg['Messages'][i]= msg['Messages'][i].replace(\"E-mail\",'')\n",
    "    msg['Messages'][i]= msg['Messages'][i].replace(\"Email : \",'')\n",
    "    msg['Messages'][i]= msg['Messages'][i].replace(\"mail\",'')\n",
    "    msg['Messages'][i]=re.sub(r'\\d{3}[-\\.\\s]??\\d{3}[-\\.\\s]??\\d{4}|\\(\\d{3}\\)\\s*\\d{3}[-\\.\\s]??\\d{4}|\\d{3}[-\\.\\s]??\\d{4}','',str(msg['Messages'][i]))\n",
    "    #df['Text'][i]=re.sub(r'\\d+','',str(df['Text'][i]))#Tél : +      Fax : +, tél.: + ()       fax.: + ()      port.: + () \n",
    "    msg['Messages'][i]= re.sub(\"http[s]?://(?:[a-zA-Z]|[0-9]|[$-_@.&+]|[!*\\(\\),]|(?:%[0-9a-fA-F][0-9a-fA-F]))+\",'',msg['Messages'][i])#url\n",
    "    msg['Messages'][i]= re.sub('(https?:\\/\\/(?:www\\.|(?!www))[a-zA-Z0-9][a-zA-Z0-9-]+[a-zA-Z0-9]\\.[^\\s]{2,}|www\\.[a-zA-Z0-9][a-zA-Z0-9-]+[a-zA-Z0-9]\\.[^\\s]{2,}|https?:\\/\\/(?:www\\.|(?!www))[a-zA-Z0-9]+\\.[^\\s]{2,}|www\\.[a-zA-Z0-9]+\\.[^\\s]{2,})',' ',str(msg['Messages'][i]))#url www\n",
    "    msg['Messages'][i]= re.sub('Ce message et toutes les Pieces jointes (ci apres : le message) sont etablis a l\\'intention exclusive de ses destinataires et sont confidentiels.Toute utilisation de ce message non conforme a sa destination, toute diffusion ou toute publication totale ou partielle est interdite sauf autorisation prealable.Si vous recevez ce message par erreur, merci de le detruire et d\\' avertir immediatement l\\'expediteur.Les communications sur Internet n\\'etant pas securisees, le Groupe APRR decline toute responsabilite quant au contenu de ce message.This message and all attached documents (hereafter \"the message\") are intended for the exclusive attention of its recipients and are confidential. Any use of this message, for which it was not intended, any distribution or any total or partial publication is prohibited unless previously approved.If you receive this message in error, please destroy it and immediately notify the sender thereof.Since communication by Internet is not secure, Group APRR cannot accept any responsibility regarding the contents of this message.',' ',str(msg['Messages'][i]))\n",
    "    #df['Text'][i]= re.sub('SCAN <>Cet  a été envoyé par \"copieurRICOH\" (MP C3004ex).Date de numérisation: 07.08.2020 17:17:25 (+0200)Contacter si besoin :  ','',str(df['Text'][i]))\n",
    "    msg['Messages'][i]= re.sub('Ce message est généré automatiquement. Merci de ne pas y répondre.',' ',str(msg['Messages'][i]))\n",
    "    msg['Messages'][i]= re.sub('Ce message et toutes les Pieces jointes (ci apres : le message) sont etablis a l\\'intention exclusive de ses destinataires et sont confidentiels.Toute utilisation de ce message non conforme a sa destination, toute diffusion ou toute publication totale ou partielle est interdite sauf autorisation prealable.Si vous recevez ce message par erreur, merci de le detruire et d\\' avertir immediatement l\\'expediteur.Les communications sur Internet n\\'etant pas securisees, le Groupe APRR decline toute responsabilite quant au contenu de ce message.This message and all attached documents (hereafter \"the message\") are intended for the exclusive attention of its recipients and are confidential. Any use of this message, for which it was not intended, any distribution or any total or partial publication is prohibited unless previously approved.If you receive this message in error, please destroy it and immediately notify the sender thereof.Since communication by Internet is not secure, Group APRR cannot accept any responsibility regarding the contents of this message.',' ',str(msg['Messages'][i]))\n",
    "    msg['Messages'][i]= re.sub('This message and any attachments are confidential and intended for the named addressee(s) only.If you have received this message in error, please notify immediately the sender, then deletethe message. Any unauthorized modification, edition, use or dissemination is prohibited.The sender shall not be liable for this message if it has been modified, altered, falsified, infectedby a virus or even edited or disseminated without authorization.',' ',str(msg['Messages'][i]))\n",
    "    msg['Messages'][i]= re.sub('This  transmission (message and any attached files) may contain information that is proprietary, privileged and/or confidential to Veolia Environnement and/or its affiliates and is intended exclusively for the person(s) to whom it is addressed. If you are not the intended recipient, please notify the sender by return  and delete all copies of this , including all attachments. Unless expressly authorized, any use, disclosure, publication, retransmission or dissemination of this  and/or of its attachments is strictly prohibited. Ce message electronique et ses fichiers attaches sont strictement confidentiels et peuvent contenir des elements dont Veolia Environnement et/ou l\\'une de ses entites affiliees sont proprietaires. Ils sont donc destines a l\\'usage de leurs seuls destinataires. Si vous avez recu ce message par erreur, merci de le retourner a son emetteur et de le detruire ainsi que toutes les pieces attachees. L\\'utilisation, la divulgation, la publication, la distribution, ou la reproduction non expressement autorisees de ce message et de ses pieces attachees sont interdites.',' ',str(msg['Messages'][i]))\n",
    "    msg['Messages'][i]= re.sub('This  transmission (message and any attached files) may contain information that is proprietary, privileged and/or confidential to Veolia Environnement and/or its affiliates and is intended exclusively for the person(s) to whom it is addressed. If you are not the intended recipient, please notify the sender by return  and delete all copies of this , including all attachments. Unless expressly authorized, any use, disclosure, publication, retransmission or dissemination of this  and/or of its attachments is strictly prohibited.  Ce message electronique et ses fichiers attaches sont strictement confidentiels et peuvent contenir des elements dont Veolia Environnement et/ou l\\'une de ses entites affiliees sont proprietaires. Ils sont donc destines a l\\'usage de leurs seuls destinataires. Si vous avez recu ce message par erreur, merci de le retourner a son emetteur et de le detruire ainsi que toutes les pieces attachees. L\\'utilisation, la divulgation, la publication, la distribution, ou la reproduction non expressement autorisees de ce message et de ses pieces attachees sont interdites.',' ',str(msg['Messages'][i]))\n",
    "    msg['Messages'][i]= re.sub('Le contenu de ce message est strictement réservé à l\\'usage exclusif de son destinataire et contient de l\\'information privilégiée et confidentielle. Toute lecture, divulgation, distribution ou copie non autorisée de cette communication est formellement interdite. Si vous avez reçu cette communication par erreur, veuillez la détruire immédiatement.','',str(msg['Messages'][i]))\n",
    "    msg['Messages'][i]= re.sub('Ce message et toutes les Pieces jointes (ci apres : le message) sont etablis a l\\'intention exclusive de ses destinataires et sont confidentiels.Toute utilisation de ce message non conforme a sa destination, toute diffusion ou toute publication totale ou partielle est interdite sauf autorisation prealable.Si vous recevez ce message par erreur, merci de le detruire et d\\' avertir immediatement l\\'expediteur.Les communications sur Internet n\\'etant pas securisees, le Groupe APRR decline toute responsabilite quant au contenu de ce message.This message and all attached documents (hereafter \"the message\") are intended for the exclusive attention of its recipients and are confidential. Any use of this message, for which it was not intended, any distribution or any total or partial publication is prohibited unless previously approved.If you receive this message in error, please destroy it and immediately notify the sender thereof.Since communication by Internet is not secure, Group APRR cannot accept any responsibility regarding the contents of this message.',' ',str(msg['Messages'][i]))\n",
    "    msg['Messages'][i]= re.sub('Ce message et les pièces jointes sont confidentiels et établis à l\\'attention exclusive de ses destinataires. Toute utilisation ou diffusion, même partielle, non autorisée est interdite. Tout message électronique est susceptible d\\'altération. Brink\\'s décline toute responsabilité au titre de ce message s\\'il a été altéré, déformé ou falsifié. Si vous n\\'êtes pas le destinataire de ce message, merci de le détruire et d\\'avertir l\\'expéditeur. This message and any attachments are confidential and intended solely for the addressees. Any unauthorized use or disclosure, either whole or partial is prohibited. E-s are susceptible to alteration. Brink\\'s shall not be liable for the message if altered, changed or falsified. If you are not the intended recipient of this message, please delete it and notify the sender.',' ',str(msg['Messages'][i]))\n",
    "    msg['Messages'][i]= re.sub('Ce message et toutes les Pieces jointes (ci apres : le message) sont etablis a l\\'intention exclusive de ses destinataires et sont confidentiels.Toute utilisation de ce message non conforme a sa destination, toute diffusion ou toute publication totale ou partielle est interdite sauf autorisation prealable.Si vous recevez ce message par erreur, merci de le detruire et d\\' avertir immediatement l\\'expediteur.Les communications sur Internet n\\'etant pas securisees, le Groupe APRR decline toute responsabilite quant au contenu de ce message.','',str(msg['Messages'][i]))\n",
    "    \n",
    "    print(msg['Messages'][i])"
   ]
  },
  {
   "cell_type": "code",
   "execution_count": null,
   "metadata": {},
   "outputs": [],
   "source": [
    "t = []\n",
    "t = msg\n",
    "dfprint = pd.DataFrame(t)\n",
    "dfprint.to_excel(\"message_regex_messages.xlsx\", index = False)"
   ]
  },
  {
   "cell_type": "code",
   "execution_count": 24,
   "metadata": {},
   "outputs": [],
   "source": [
    "df=pd.read_excel('message_cord1.xlsx',engine='openpyxl')\n",
    "msg=df.head(250)"
   ]
  },
  {
   "cell_type": "code",
   "execution_count": 25,
   "metadata": {},
   "outputs": [],
   "source": [
    "msg = msg.drop(['Messages',  'occurence','lang'], axis=1)"
   ]
  },
  {
   "cell_type": "code",
   "execution_count": 26,
   "metadata": {},
   "outputs": [],
   "source": [
    "msg['catégorie'] = msg['catégorie'].replace({ 'contrat' : 0,'demande de renseignement' : 1,'interne Axxès' : 2 ,'facture' : 3, 'commande de badge' : 4, 'réclamation qualité de service' : 5,'réclamation facture':6,'remplacement badge':7,'réclamation logistique':8,\n",
    "                                            'amende Belgique':9,'stef':10,'no message':11})\n"
   ]
  },
  {
   "cell_type": "code",
   "execution_count": 27,
   "metadata": {},
   "outputs": [
    {
     "data": {
      "text/html": [
       "<div>\n",
       "<style scoped>\n",
       "    .dataframe tbody tr th:only-of-type {\n",
       "        vertical-align: middle;\n",
       "    }\n",
       "\n",
       "    .dataframe tbody tr th {\n",
       "        vertical-align: top;\n",
       "    }\n",
       "\n",
       "    .dataframe thead th {\n",
       "        text-align: right;\n",
       "    }\n",
       "</style>\n",
       "<table border=\"1\" class=\"dataframe\">\n",
       "  <thead>\n",
       "    <tr style=\"text-align: right;\">\n",
       "      <th></th>\n",
       "      <th>catégorie</th>\n",
       "      <th>cleaned_text</th>\n",
       "    </tr>\n",
       "  </thead>\n",
       "  <tbody>\n",
       "    <tr>\n",
       "      <th>0</th>\n",
       "      <td>3</td>\n",
       "      <td>BonjourCijoint le mandat sepa et le rib</td>\n",
       "    </tr>\n",
       "    <tr>\n",
       "      <th>1</th>\n",
       "      <td>4</td>\n",
       "      <td>DANIEL   GUEGANSOCIETE DES TRANSPORTS GUEGANCl...</td>\n",
       "    </tr>\n",
       "    <tr>\n",
       "      <th>2</th>\n",
       "      <td>4</td>\n",
       "      <td>Bonjour J’ai essayé de faire la modification ...</td>\n",
       "    </tr>\n",
       "    <tr>\n",
       "      <th>3</th>\n",
       "      <td>4</td>\n",
       "      <td>Bonjour merci de me faire un badge avec la géo...</td>\n",
       "    </tr>\n",
       "    <tr>\n",
       "      <th>4</th>\n",
       "      <td>5</td>\n",
       "      <td>Bonjour Lappareil XXXX a été attribué au camio...</td>\n",
       "    </tr>\n",
       "  </tbody>\n",
       "</table>\n",
       "</div>"
      ],
      "text/plain": [
       "   catégorie                                       cleaned_text\n",
       "0          3            BonjourCijoint le mandat sepa et le rib\n",
       "1          4  DANIEL   GUEGANSOCIETE DES TRANSPORTS GUEGANCl...\n",
       "2          4   Bonjour J’ai essayé de faire la modification ...\n",
       "3          4  Bonjour merci de me faire un badge avec la géo...\n",
       "4          5  Bonjour Lappareil XXXX a été attribué au camio..."
      ]
     },
     "execution_count": 27,
     "metadata": {},
     "output_type": "execute_result"
    }
   ],
   "source": [
    "msg['cleaned_text']=\"\"\n",
    "\n",
    "for i in msg.index:\n",
    "    \n",
    "    updated_list=[]\n",
    "    for j in range(len(msg['text'][i])):\n",
    "        if msg['text'][i][j] not in string.punctuation:\n",
    "            if msg['text'][i][j].isdigit()==False:\n",
    "                updated_list.append(msg['text'][i][j])\n",
    "    updated_string=\"\".join(updated_list)\n",
    "    msg['cleaned_text'][i]=updated_string\n",
    "\n",
    "msg.drop(['text'],axis=1,inplace=True)\n",
    "msg.head() "
   ]
  },
  {
   "cell_type": "code",
   "execution_count": 28,
   "metadata": {},
   "outputs": [
    {
     "data": {
      "text/html": [
       "<div>\n",
       "<style scoped>\n",
       "    .dataframe tbody tr th:only-of-type {\n",
       "        vertical-align: middle;\n",
       "    }\n",
       "\n",
       "    .dataframe tbody tr th {\n",
       "        vertical-align: top;\n",
       "    }\n",
       "\n",
       "    .dataframe thead th {\n",
       "        text-align: right;\n",
       "    }\n",
       "</style>\n",
       "<table border=\"1\" class=\"dataframe\">\n",
       "  <thead>\n",
       "    <tr style=\"text-align: right;\">\n",
       "      <th></th>\n",
       "      <th>catégorie</th>\n",
       "      <th>cleaned_text</th>\n",
       "      <th>token</th>\n",
       "    </tr>\n",
       "  </thead>\n",
       "  <tbody>\n",
       "    <tr>\n",
       "      <th>0</th>\n",
       "      <td>3</td>\n",
       "      <td>BonjourCijoint le mandat sepa et le rib</td>\n",
       "      <td>[bonjourcijoint, le, mandat, sepa, et, le, rib]</td>\n",
       "    </tr>\n",
       "    <tr>\n",
       "      <th>1</th>\n",
       "      <td>4</td>\n",
       "      <td>DANIEL   GUEGANSOCIETE DES TRANSPORTS GUEGANCl...</td>\n",
       "      <td>[daniel, guegansociete, des, transports, guega...</td>\n",
       "    </tr>\n",
       "    <tr>\n",
       "      <th>2</th>\n",
       "      <td>4</td>\n",
       "      <td>Bonjour J’ai essayé de faire la modification ...</td>\n",
       "      <td>[, bonjour, j, ai, essayé, de, faire, la, modi...</td>\n",
       "    </tr>\n",
       "    <tr>\n",
       "      <th>3</th>\n",
       "      <td>4</td>\n",
       "      <td>Bonjour merci de me faire un badge avec la géo...</td>\n",
       "      <td>[bonjour, merci, de, me, faire, un, badge, ave...</td>\n",
       "    </tr>\n",
       "    <tr>\n",
       "      <th>4</th>\n",
       "      <td>5</td>\n",
       "      <td>Bonjour Lappareil XXXX a été attribué au camio...</td>\n",
       "      <td>[bonjour, lappareil, xxxx, a, été, attribué, a...</td>\n",
       "    </tr>\n",
       "  </tbody>\n",
       "</table>\n",
       "</div>"
      ],
      "text/plain": [
       "   catégorie                                       cleaned_text  \\\n",
       "0          3            BonjourCijoint le mandat sepa et le rib   \n",
       "1          4  DANIEL   GUEGANSOCIETE DES TRANSPORTS GUEGANCl...   \n",
       "2          4   Bonjour J’ai essayé de faire la modification ...   \n",
       "3          4  Bonjour merci de me faire un badge avec la géo...   \n",
       "4          5  Bonjour Lappareil XXXX a été attribué au camio...   \n",
       "\n",
       "                                               token  \n",
       "0    [bonjourcijoint, le, mandat, sepa, et, le, rib]  \n",
       "1  [daniel, guegansociete, des, transports, guega...  \n",
       "2  [, bonjour, j, ai, essayé, de, faire, la, modi...  \n",
       "3  [bonjour, merci, de, me, faire, un, badge, ave...  \n",
       "4  [bonjour, lappareil, xxxx, a, été, attribué, a...  "
      ]
     },
     "execution_count": 28,
     "metadata": {},
     "output_type": "execute_result"
    }
   ],
   "source": [
    "msg['token']=\"\"\n",
    "\n",
    "for i in msg.index:\n",
    "    \n",
    "    msg['token'][i]=re.split(\"\\W+\",msg['cleaned_text'][i].lower())\n",
    "\n",
    "msg.head()"
   ]
  },
  {
   "cell_type": "code",
   "execution_count": 29,
   "metadata": {},
   "outputs": [
    {
     "data": {
      "text/html": [
       "<div>\n",
       "<style scoped>\n",
       "    .dataframe tbody tr th:only-of-type {\n",
       "        vertical-align: middle;\n",
       "    }\n",
       "\n",
       "    .dataframe tbody tr th {\n",
       "        vertical-align: top;\n",
       "    }\n",
       "\n",
       "    .dataframe thead th {\n",
       "        text-align: right;\n",
       "    }\n",
       "</style>\n",
       "<table border=\"1\" class=\"dataframe\">\n",
       "  <thead>\n",
       "    <tr style=\"text-align: right;\">\n",
       "      <th></th>\n",
       "      <th>catégorie</th>\n",
       "      <th>cleaned_text</th>\n",
       "      <th>updated_token</th>\n",
       "    </tr>\n",
       "  </thead>\n",
       "  <tbody>\n",
       "    <tr>\n",
       "      <th>0</th>\n",
       "      <td>3</td>\n",
       "      <td>BonjourCijoint le mandat sepa et le rib</td>\n",
       "      <td>[bonjourcijoint, mandat, sepa, rib]</td>\n",
       "    </tr>\n",
       "    <tr>\n",
       "      <th>1</th>\n",
       "      <td>4</td>\n",
       "      <td>DANIEL   GUEGANSOCIETE DES TRANSPORTS GUEGANCl...</td>\n",
       "      <td>[daniel, guegansociete, transports, gueganclie...</td>\n",
       "    </tr>\n",
       "    <tr>\n",
       "      <th>2</th>\n",
       "      <td>4</td>\n",
       "      <td>Bonjour J’ai essayé de faire la modification ...</td>\n",
       "      <td>[, bonjour, essayé, faire, modification, badge...</td>\n",
       "    </tr>\n",
       "    <tr>\n",
       "      <th>3</th>\n",
       "      <td>4</td>\n",
       "      <td>Bonjour merci de me faire un badge avec la géo...</td>\n",
       "      <td>[bonjour, merci, faire, badge, géolocalisation...</td>\n",
       "    </tr>\n",
       "    <tr>\n",
       "      <th>4</th>\n",
       "      <td>5</td>\n",
       "      <td>Bonjour Lappareil XXXX a été attribué au camio...</td>\n",
       "      <td>[bonjour, lappareil, xxxx, a, attribué, camion...</td>\n",
       "    </tr>\n",
       "  </tbody>\n",
       "</table>\n",
       "</div>"
      ],
      "text/plain": [
       "   catégorie                                       cleaned_text  \\\n",
       "0          3            BonjourCijoint le mandat sepa et le rib   \n",
       "1          4  DANIEL   GUEGANSOCIETE DES TRANSPORTS GUEGANCl...   \n",
       "2          4   Bonjour J’ai essayé de faire la modification ...   \n",
       "3          4  Bonjour merci de me faire un badge avec la géo...   \n",
       "4          5  Bonjour Lappareil XXXX a été attribué au camio...   \n",
       "\n",
       "                                       updated_token  \n",
       "0                [bonjourcijoint, mandat, sepa, rib]  \n",
       "1  [daniel, guegansociete, transports, gueganclie...  \n",
       "2  [, bonjour, essayé, faire, modification, badge...  \n",
       "3  [bonjour, merci, faire, badge, géolocalisation...  \n",
       "4  [bonjour, lappareil, xxxx, a, attribué, camion...  "
      ]
     },
     "execution_count": 29,
     "metadata": {},
     "output_type": "execute_result"
    }
   ],
   "source": [
    "msg['updated_token']=\"\"\n",
    "stopwords=nltk.corpus.stopwords.words('french')\n",
    "\n",
    "for i in msg.index:\n",
    "    updated_list=[]\n",
    "    for j in range(len(msg['token'][i])):\n",
    "        if msg['token'][i][j] not in stopwords:\n",
    "            updated_list.append(msg['token'][i][j])\n",
    "    msg['updated_token'][i]=updated_list\n",
    "\n",
    "msg.drop(['token'],axis=1,inplace=True)\n",
    "msg.head()"
   ]
  },
  {
   "cell_type": "code",
   "execution_count": 30,
   "metadata": {},
   "outputs": [
    {
     "data": {
      "text/html": [
       "<div>\n",
       "<style scoped>\n",
       "    .dataframe tbody tr th:only-of-type {\n",
       "        vertical-align: middle;\n",
       "    }\n",
       "\n",
       "    .dataframe tbody tr th {\n",
       "        vertical-align: top;\n",
       "    }\n",
       "\n",
       "    .dataframe thead th {\n",
       "        text-align: right;\n",
       "    }\n",
       "</style>\n",
       "<table border=\"1\" class=\"dataframe\">\n",
       "  <thead>\n",
       "    <tr style=\"text-align: right;\">\n",
       "      <th></th>\n",
       "      <th>catégorie</th>\n",
       "      <th>cleaned_text</th>\n",
       "      <th>lem_text</th>\n",
       "    </tr>\n",
       "  </thead>\n",
       "  <tbody>\n",
       "    <tr>\n",
       "      <th>0</th>\n",
       "      <td>3</td>\n",
       "      <td>BonjourCijoint le mandat sepa et le rib</td>\n",
       "      <td>[bonjourcijoint, mandat, sepa, rib]</td>\n",
       "    </tr>\n",
       "    <tr>\n",
       "      <th>1</th>\n",
       "      <td>4</td>\n",
       "      <td>DANIEL   GUEGANSOCIETE DES TRANSPORTS GUEGANCl...</td>\n",
       "      <td>[daniel, guegansociete, transport, gueganclien...</td>\n",
       "    </tr>\n",
       "    <tr>\n",
       "      <th>2</th>\n",
       "      <td>4</td>\n",
       "      <td>Bonjour J’ai essayé de faire la modification ...</td>\n",
       "      <td>[, bonjour, essayé, faire, modification, badge...</td>\n",
       "    </tr>\n",
       "    <tr>\n",
       "      <th>3</th>\n",
       "      <td>4</td>\n",
       "      <td>Bonjour merci de me faire un badge avec la géo...</td>\n",
       "      <td>[bonjour, merci, faire, badge, géolocalisation...</td>\n",
       "    </tr>\n",
       "    <tr>\n",
       "      <th>4</th>\n",
       "      <td>5</td>\n",
       "      <td>Bonjour Lappareil XXXX a été attribué au camio...</td>\n",
       "      <td>[bonjour, lappareil, xxxx, a, attribué, camion...</td>\n",
       "    </tr>\n",
       "  </tbody>\n",
       "</table>\n",
       "</div>"
      ],
      "text/plain": [
       "   catégorie                                       cleaned_text  \\\n",
       "0          3            BonjourCijoint le mandat sepa et le rib   \n",
       "1          4  DANIEL   GUEGANSOCIETE DES TRANSPORTS GUEGANCl...   \n",
       "2          4   Bonjour J’ai essayé de faire la modification ...   \n",
       "3          4  Bonjour merci de me faire un badge avec la géo...   \n",
       "4          5  Bonjour Lappareil XXXX a été attribué au camio...   \n",
       "\n",
       "                                            lem_text  \n",
       "0                [bonjourcijoint, mandat, sepa, rib]  \n",
       "1  [daniel, guegansociete, transport, gueganclien...  \n",
       "2  [, bonjour, essayé, faire, modification, badge...  \n",
       "3  [bonjour, merci, faire, badge, géolocalisation...  \n",
       "4  [bonjour, lappareil, xxxx, a, attribué, camion...  "
      ]
     },
     "execution_count": 30,
     "metadata": {},
     "output_type": "execute_result"
    }
   ],
   "source": [
    "msg['lem_text']=\"\"\n",
    "wordlem=nltk.WordNetLemmatizer()\n",
    "\n",
    "for i in msg.index:\n",
    "    updated_list=[]\n",
    "    for j in range(len(msg['updated_token'][i])):\n",
    "        updated_list.append(wordlem.lemmatize(msg['updated_token'][i][j]))\n",
    "    msg['lem_text'][i]=updated_list \n",
    "\n",
    "msg.drop(['updated_token'],axis=1,inplace=True)\n",
    "#msg.drop(['lang'],axis=1,inplace=True)\n",
    "msg.head()"
   ]
  },
  {
   "cell_type": "code",
   "execution_count": 31,
   "metadata": {},
   "outputs": [
    {
     "data": {
      "text/html": [
       "<div>\n",
       "<style scoped>\n",
       "    .dataframe tbody tr th:only-of-type {\n",
       "        vertical-align: middle;\n",
       "    }\n",
       "\n",
       "    .dataframe tbody tr th {\n",
       "        vertical-align: top;\n",
       "    }\n",
       "\n",
       "    .dataframe thead th {\n",
       "        text-align: right;\n",
       "    }\n",
       "</style>\n",
       "<table border=\"1\" class=\"dataframe\">\n",
       "  <thead>\n",
       "    <tr style=\"text-align: right;\">\n",
       "      <th></th>\n",
       "      <th>catégorie</th>\n",
       "      <th>final_text</th>\n",
       "    </tr>\n",
       "  </thead>\n",
       "  <tbody>\n",
       "    <tr>\n",
       "      <th>0</th>\n",
       "      <td>3</td>\n",
       "      <td>bonjourcijoint mandat sepa rib</td>\n",
       "    </tr>\n",
       "    <tr>\n",
       "      <th>1</th>\n",
       "      <td>4</td>\n",
       "      <td>daniel guegansociete transport gueganclient xx...</td>\n",
       "    </tr>\n",
       "    <tr>\n",
       "      <th>2</th>\n",
       "      <td>4</td>\n",
       "      <td>bonjour essayé faire modification badge ec k ...</td>\n",
       "    </tr>\n",
       "    <tr>\n",
       "      <th>3</th>\n",
       "      <td>4</td>\n",
       "      <td>bonjour merci faire badge géolocalisation inté...</td>\n",
       "    </tr>\n",
       "    <tr>\n",
       "      <th>4</th>\n",
       "      <td>5</td>\n",
       "      <td>bonjour lappareil xxxx a attribué camion za na...</td>\n",
       "    </tr>\n",
       "  </tbody>\n",
       "</table>\n",
       "</div>"
      ],
      "text/plain": [
       "   catégorie                                         final_text\n",
       "0          3                     bonjourcijoint mandat sepa rib\n",
       "1          4  daniel guegansociete transport gueganclient xx...\n",
       "2          4   bonjour essayé faire modification badge ec k ...\n",
       "3          4  bonjour merci faire badge géolocalisation inté...\n",
       "4          5  bonjour lappareil xxxx a attribué camion za na..."
      ]
     },
     "execution_count": 31,
     "metadata": {},
     "output_type": "execute_result"
    }
   ],
   "source": [
    "#data cleaning/preprocessing - merging token\n",
    "msg['final_text']=\"\"\n",
    "\n",
    "for i in msg.index:\n",
    "    updated_string=\" \".join(msg['lem_text'][i])\n",
    "    msg['final_text'][i]=updated_string\n",
    "\n",
    "msg.drop(['cleaned_text','lem_text'],axis=1,inplace=True)\n",
    "msg.head()"
   ]
  },
  {
   "cell_type": "code",
   "execution_count": 32,
   "metadata": {},
   "outputs": [],
   "source": [
    "y=pd.DataFrame(msg.catégorie)\n",
    "x=msg.drop(['catégorie'],axis=1)"
   ]
  },
  {
   "cell_type": "code",
   "execution_count": 33,
   "metadata": {},
   "outputs": [],
   "source": [
    "#splitting the data (80:20 ratio)\n",
    "x_train,x_val,y_train,y_val=train_test_split(x,y,train_size=0.8,test_size=0.2,random_state=0)"
   ]
  },
  {
   "cell_type": "code",
   "execution_count": 34,
   "metadata": {},
   "outputs": [],
   "source": [
    "#count vectorization \n",
    "cv=CountVectorizer(max_features=5000)\n",
    "temp_train=cv.fit_transform(x_train['final_text']).toarray()\n",
    "temp_val=cv.transform(x_val['final_text']).toarray()"
   ]
  },
  {
   "cell_type": "code",
   "execution_count": 35,
   "metadata": {},
   "outputs": [],
   "source": [
    "#tfidf\n",
    "tf=TfidfTransformer()\n",
    "temp_train=tf.fit_transform(temp_train)\n",
    "temp_val=tf.transform(temp_val)"
   ]
  },
  {
   "cell_type": "code",
   "execution_count": 36,
   "metadata": {},
   "outputs": [
    {
     "data": {
      "text/html": [
       "<div>\n",
       "<style scoped>\n",
       "    .dataframe tbody tr th:only-of-type {\n",
       "        vertical-align: middle;\n",
       "    }\n",
       "\n",
       "    .dataframe tbody tr th {\n",
       "        vertical-align: top;\n",
       "    }\n",
       "\n",
       "    .dataframe thead th {\n",
       "        text-align: right;\n",
       "    }\n",
       "</style>\n",
       "<table border=\"1\" class=\"dataframe\">\n",
       "  <thead>\n",
       "    <tr style=\"text-align: right;\">\n",
       "      <th></th>\n",
       "      <th>final_text</th>\n",
       "      <th>0</th>\n",
       "      <th>1</th>\n",
       "      <th>2</th>\n",
       "      <th>3</th>\n",
       "      <th>4</th>\n",
       "      <th>5</th>\n",
       "      <th>6</th>\n",
       "      <th>7</th>\n",
       "      <th>8</th>\n",
       "      <th>...</th>\n",
       "      <th>2082</th>\n",
       "      <th>2083</th>\n",
       "      <th>2084</th>\n",
       "      <th>2085</th>\n",
       "      <th>2086</th>\n",
       "      <th>2087</th>\n",
       "      <th>2088</th>\n",
       "      <th>2089</th>\n",
       "      <th>2090</th>\n",
       "      <th>2091</th>\n",
       "    </tr>\n",
       "  </thead>\n",
       "  <tbody>\n",
       "    <tr>\n",
       "      <th>71</th>\n",
       "      <td>bonjourveuillez trouver cijoint bon commande ...</td>\n",
       "      <td>0.0</td>\n",
       "      <td>0.0</td>\n",
       "      <td>0.0</td>\n",
       "      <td>0.0</td>\n",
       "      <td>0.0</td>\n",
       "      <td>0.0</td>\n",
       "      <td>0.0</td>\n",
       "      <td>0.0</td>\n",
       "      <td>0.0</td>\n",
       "      <td>...</td>\n",
       "      <td>0.0</td>\n",
       "      <td>0.0</td>\n",
       "      <td>0.0</td>\n",
       "      <td>0.000000</td>\n",
       "      <td>0.0</td>\n",
       "      <td>0.0</td>\n",
       "      <td>0.0</td>\n",
       "      <td>0.0</td>\n",
       "      <td>0.0</td>\n",
       "      <td>0.000000</td>\n",
       "    </tr>\n",
       "    <tr>\n",
       "      <th>160</th>\n",
       "      <td>bonjour reviens vers concernant livraison télé...</td>\n",
       "      <td>0.0</td>\n",
       "      <td>0.0</td>\n",
       "      <td>0.0</td>\n",
       "      <td>0.0</td>\n",
       "      <td>0.0</td>\n",
       "      <td>0.0</td>\n",
       "      <td>0.0</td>\n",
       "      <td>0.0</td>\n",
       "      <td>0.0</td>\n",
       "      <td>...</td>\n",
       "      <td>0.0</td>\n",
       "      <td>0.0</td>\n",
       "      <td>0.0</td>\n",
       "      <td>0.104982</td>\n",
       "      <td>0.0</td>\n",
       "      <td>0.0</td>\n",
       "      <td>0.0</td>\n",
       "      <td>0.0</td>\n",
       "      <td>0.0</td>\n",
       "      <td>0.000000</td>\n",
       "    </tr>\n",
       "    <tr>\n",
       "      <th>180</th>\n",
       "      <td>bonjour floriane suite discussion karima perme...</td>\n",
       "      <td>0.0</td>\n",
       "      <td>0.0</td>\n",
       "      <td>0.0</td>\n",
       "      <td>0.0</td>\n",
       "      <td>0.0</td>\n",
       "      <td>0.0</td>\n",
       "      <td>0.0</td>\n",
       "      <td>0.0</td>\n",
       "      <td>0.0</td>\n",
       "      <td>...</td>\n",
       "      <td>0.0</td>\n",
       "      <td>0.0</td>\n",
       "      <td>0.0</td>\n",
       "      <td>0.000000</td>\n",
       "      <td>0.0</td>\n",
       "      <td>0.0</td>\n",
       "      <td>0.0</td>\n",
       "      <td>0.0</td>\n",
       "      <td>0.0</td>\n",
       "      <td>0.155565</td>\n",
       "    </tr>\n",
       "    <tr>\n",
       "      <th>75</th>\n",
       "      <td>madame monsieur prie trouver cijoint confirmat...</td>\n",
       "      <td>0.0</td>\n",
       "      <td>0.0</td>\n",
       "      <td>0.0</td>\n",
       "      <td>0.0</td>\n",
       "      <td>0.0</td>\n",
       "      <td>0.0</td>\n",
       "      <td>0.0</td>\n",
       "      <td>0.0</td>\n",
       "      <td>0.0</td>\n",
       "      <td>...</td>\n",
       "      <td>0.0</td>\n",
       "      <td>0.0</td>\n",
       "      <td>0.0</td>\n",
       "      <td>0.000000</td>\n",
       "      <td>0.0</td>\n",
       "      <td>0.0</td>\n",
       "      <td>0.0</td>\n",
       "      <td>0.0</td>\n",
       "      <td>0.0</td>\n",
       "      <td>0.000000</td>\n",
       "    </tr>\n",
       "    <tr>\n",
       "      <th>59</th>\n",
       "      <td>bonjour entreprise a changé compte bancaire de...</td>\n",
       "      <td>0.0</td>\n",
       "      <td>0.0</td>\n",
       "      <td>0.0</td>\n",
       "      <td>0.0</td>\n",
       "      <td>0.0</td>\n",
       "      <td>0.0</td>\n",
       "      <td>0.0</td>\n",
       "      <td>0.0</td>\n",
       "      <td>0.0</td>\n",
       "      <td>...</td>\n",
       "      <td>0.0</td>\n",
       "      <td>0.0</td>\n",
       "      <td>0.0</td>\n",
       "      <td>0.000000</td>\n",
       "      <td>0.0</td>\n",
       "      <td>0.0</td>\n",
       "      <td>0.0</td>\n",
       "      <td>0.0</td>\n",
       "      <td>0.0</td>\n",
       "      <td>0.000000</td>\n",
       "    </tr>\n",
       "  </tbody>\n",
       "</table>\n",
       "<p>5 rows × 2093 columns</p>\n",
       "</div>"
      ],
      "text/plain": [
       "                                            final_text    0    1    2    3  \\\n",
       "71    bonjourveuillez trouver cijoint bon commande ...  0.0  0.0  0.0  0.0   \n",
       "160  bonjour reviens vers concernant livraison télé...  0.0  0.0  0.0  0.0   \n",
       "180  bonjour floriane suite discussion karima perme...  0.0  0.0  0.0  0.0   \n",
       "75   madame monsieur prie trouver cijoint confirmat...  0.0  0.0  0.0  0.0   \n",
       "59   bonjour entreprise a changé compte bancaire de...  0.0  0.0  0.0  0.0   \n",
       "\n",
       "       4    5    6    7    8  ...  2082  2083  2084      2085  2086  2087  \\\n",
       "71   0.0  0.0  0.0  0.0  0.0  ...   0.0   0.0   0.0  0.000000   0.0   0.0   \n",
       "160  0.0  0.0  0.0  0.0  0.0  ...   0.0   0.0   0.0  0.104982   0.0   0.0   \n",
       "180  0.0  0.0  0.0  0.0  0.0  ...   0.0   0.0   0.0  0.000000   0.0   0.0   \n",
       "75   0.0  0.0  0.0  0.0  0.0  ...   0.0   0.0   0.0  0.000000   0.0   0.0   \n",
       "59   0.0  0.0  0.0  0.0  0.0  ...   0.0   0.0   0.0  0.000000   0.0   0.0   \n",
       "\n",
       "     2088  2089  2090      2091  \n",
       "71    0.0   0.0   0.0  0.000000  \n",
       "160   0.0   0.0   0.0  0.000000  \n",
       "180   0.0   0.0   0.0  0.155565  \n",
       "75    0.0   0.0   0.0  0.000000  \n",
       "59    0.0   0.0   0.0  0.000000  \n",
       "\n",
       "[5 rows x 2093 columns]"
      ]
     },
     "execution_count": 36,
     "metadata": {},
     "output_type": "execute_result"
    }
   ],
   "source": [
    "#ajout des valeurs tampon au dataset\n",
    "temp_train=pd.DataFrame(temp_train.toarray(),index=x_train.index)\n",
    "temp_val=pd.DataFrame(temp_val.toarray(),index=x_val.index)\n",
    "x_train=pd.concat([x_train,temp_train],axis=1,sort=False)\n",
    "x_val=pd.concat([x_val,temp_val],axis=1,sort=False)\n",
    "\n",
    "x_train.head()"
   ]
  },
  {
   "cell_type": "code",
   "execution_count": 37,
   "metadata": {},
   "outputs": [
    {
     "data": {
      "text/html": [
       "<div>\n",
       "<style scoped>\n",
       "    .dataframe tbody tr th:only-of-type {\n",
       "        vertical-align: middle;\n",
       "    }\n",
       "\n",
       "    .dataframe tbody tr th {\n",
       "        vertical-align: top;\n",
       "    }\n",
       "\n",
       "    .dataframe thead th {\n",
       "        text-align: right;\n",
       "    }\n",
       "</style>\n",
       "<table border=\"1\" class=\"dataframe\">\n",
       "  <thead>\n",
       "    <tr style=\"text-align: right;\">\n",
       "      <th></th>\n",
       "      <th>0</th>\n",
       "      <th>1</th>\n",
       "      <th>2</th>\n",
       "      <th>3</th>\n",
       "      <th>4</th>\n",
       "      <th>5</th>\n",
       "      <th>6</th>\n",
       "      <th>7</th>\n",
       "      <th>8</th>\n",
       "      <th>9</th>\n",
       "      <th>...</th>\n",
       "      <th>2082</th>\n",
       "      <th>2083</th>\n",
       "      <th>2084</th>\n",
       "      <th>2085</th>\n",
       "      <th>2086</th>\n",
       "      <th>2087</th>\n",
       "      <th>2088</th>\n",
       "      <th>2089</th>\n",
       "      <th>2090</th>\n",
       "      <th>2091</th>\n",
       "    </tr>\n",
       "  </thead>\n",
       "  <tbody>\n",
       "    <tr>\n",
       "      <th>71</th>\n",
       "      <td>0.0</td>\n",
       "      <td>0.0</td>\n",
       "      <td>0.0</td>\n",
       "      <td>0.0</td>\n",
       "      <td>0.0</td>\n",
       "      <td>0.0</td>\n",
       "      <td>0.0</td>\n",
       "      <td>0.0</td>\n",
       "      <td>0.0</td>\n",
       "      <td>0.0</td>\n",
       "      <td>...</td>\n",
       "      <td>0.0</td>\n",
       "      <td>0.0</td>\n",
       "      <td>0.0</td>\n",
       "      <td>0.000000</td>\n",
       "      <td>0.0</td>\n",
       "      <td>0.0</td>\n",
       "      <td>0.0</td>\n",
       "      <td>0.0</td>\n",
       "      <td>0.0</td>\n",
       "      <td>0.000000</td>\n",
       "    </tr>\n",
       "    <tr>\n",
       "      <th>160</th>\n",
       "      <td>0.0</td>\n",
       "      <td>0.0</td>\n",
       "      <td>0.0</td>\n",
       "      <td>0.0</td>\n",
       "      <td>0.0</td>\n",
       "      <td>0.0</td>\n",
       "      <td>0.0</td>\n",
       "      <td>0.0</td>\n",
       "      <td>0.0</td>\n",
       "      <td>0.0</td>\n",
       "      <td>...</td>\n",
       "      <td>0.0</td>\n",
       "      <td>0.0</td>\n",
       "      <td>0.0</td>\n",
       "      <td>0.104982</td>\n",
       "      <td>0.0</td>\n",
       "      <td>0.0</td>\n",
       "      <td>0.0</td>\n",
       "      <td>0.0</td>\n",
       "      <td>0.0</td>\n",
       "      <td>0.000000</td>\n",
       "    </tr>\n",
       "    <tr>\n",
       "      <th>180</th>\n",
       "      <td>0.0</td>\n",
       "      <td>0.0</td>\n",
       "      <td>0.0</td>\n",
       "      <td>0.0</td>\n",
       "      <td>0.0</td>\n",
       "      <td>0.0</td>\n",
       "      <td>0.0</td>\n",
       "      <td>0.0</td>\n",
       "      <td>0.0</td>\n",
       "      <td>0.0</td>\n",
       "      <td>...</td>\n",
       "      <td>0.0</td>\n",
       "      <td>0.0</td>\n",
       "      <td>0.0</td>\n",
       "      <td>0.000000</td>\n",
       "      <td>0.0</td>\n",
       "      <td>0.0</td>\n",
       "      <td>0.0</td>\n",
       "      <td>0.0</td>\n",
       "      <td>0.0</td>\n",
       "      <td>0.155565</td>\n",
       "    </tr>\n",
       "    <tr>\n",
       "      <th>75</th>\n",
       "      <td>0.0</td>\n",
       "      <td>0.0</td>\n",
       "      <td>0.0</td>\n",
       "      <td>0.0</td>\n",
       "      <td>0.0</td>\n",
       "      <td>0.0</td>\n",
       "      <td>0.0</td>\n",
       "      <td>0.0</td>\n",
       "      <td>0.0</td>\n",
       "      <td>0.0</td>\n",
       "      <td>...</td>\n",
       "      <td>0.0</td>\n",
       "      <td>0.0</td>\n",
       "      <td>0.0</td>\n",
       "      <td>0.000000</td>\n",
       "      <td>0.0</td>\n",
       "      <td>0.0</td>\n",
       "      <td>0.0</td>\n",
       "      <td>0.0</td>\n",
       "      <td>0.0</td>\n",
       "      <td>0.000000</td>\n",
       "    </tr>\n",
       "    <tr>\n",
       "      <th>59</th>\n",
       "      <td>0.0</td>\n",
       "      <td>0.0</td>\n",
       "      <td>0.0</td>\n",
       "      <td>0.0</td>\n",
       "      <td>0.0</td>\n",
       "      <td>0.0</td>\n",
       "      <td>0.0</td>\n",
       "      <td>0.0</td>\n",
       "      <td>0.0</td>\n",
       "      <td>0.0</td>\n",
       "      <td>...</td>\n",
       "      <td>0.0</td>\n",
       "      <td>0.0</td>\n",
       "      <td>0.0</td>\n",
       "      <td>0.000000</td>\n",
       "      <td>0.0</td>\n",
       "      <td>0.0</td>\n",
       "      <td>0.0</td>\n",
       "      <td>0.0</td>\n",
       "      <td>0.0</td>\n",
       "      <td>0.000000</td>\n",
       "    </tr>\n",
       "  </tbody>\n",
       "</table>\n",
       "<p>5 rows × 2092 columns</p>\n",
       "</div>"
      ],
      "text/plain": [
       "     0     1     2     3     4     5     6     7     8     9     ...  2082  \\\n",
       "71    0.0   0.0   0.0   0.0   0.0   0.0   0.0   0.0   0.0   0.0  ...   0.0   \n",
       "160   0.0   0.0   0.0   0.0   0.0   0.0   0.0   0.0   0.0   0.0  ...   0.0   \n",
       "180   0.0   0.0   0.0   0.0   0.0   0.0   0.0   0.0   0.0   0.0  ...   0.0   \n",
       "75    0.0   0.0   0.0   0.0   0.0   0.0   0.0   0.0   0.0   0.0  ...   0.0   \n",
       "59    0.0   0.0   0.0   0.0   0.0   0.0   0.0   0.0   0.0   0.0  ...   0.0   \n",
       "\n",
       "     2083  2084      2085  2086  2087  2088  2089  2090      2091  \n",
       "71    0.0   0.0  0.000000   0.0   0.0   0.0   0.0   0.0  0.000000  \n",
       "160   0.0   0.0  0.104982   0.0   0.0   0.0   0.0   0.0  0.000000  \n",
       "180   0.0   0.0  0.000000   0.0   0.0   0.0   0.0   0.0  0.155565  \n",
       "75    0.0   0.0  0.000000   0.0   0.0   0.0   0.0   0.0  0.000000  \n",
       "59    0.0   0.0  0.000000   0.0   0.0   0.0   0.0   0.0  0.000000  \n",
       "\n",
       "[5 rows x 2092 columns]"
      ]
     },
     "execution_count": 37,
     "metadata": {},
     "output_type": "execute_result"
    }
   ],
   "source": [
    "#Suppression de la colonne final _text\n",
    "x_train.drop(['final_text'],axis=1,inplace=True)\n",
    "x_val.drop(['final_text'],axis=1,inplace=True)\n",
    "\n",
    "x_train.head()"
   ]
  },
  {
   "cell_type": "code",
   "execution_count": 38,
   "metadata": {},
   "outputs": [],
   "source": [
    "#msg['catégorie']=msg['catégorie'].astype(int)"
   ]
  },
  {
   "cell_type": "code",
   "execution_count": 39,
   "metadata": {},
   "outputs": [],
   "source": [
    "#convertion du label en entier\n",
    "y_train=y_train.astype(int)\n",
    "y_val=y_val.astype(int)"
   ]
  },
  {
   "cell_type": "code",
   "execution_count": 51,
   "metadata": {},
   "outputs": [
    {
     "name": "stdout",
     "output_type": "stream",
     "text": [
      "Multinomial Naive Bayes: 0.42\n"
     ]
    },
    {
     "data": {
      "text/plain": [
       "0.24845070422535212"
      ]
     },
     "execution_count": 51,
     "metadata": {},
     "output_type": "execute_result"
    }
   ],
   "source": [
    "#Multinomial Naive Bayes\n",
    "model=MultinomialNB()\n",
    "model.fit(x_train,y_train)\n",
    "y_preds=model.predict(x_val)\n",
    "print(\"Multinomial Naive Bayes:\",accuracy_score(y_val,y_preds))\n",
    "from sklearn.metrics import f1_score\n",
    "f1_score(y_val, y_preds, average='macro')\n",
    "\n",
    "f1_score(y_val, y_preds, average='micro')\n",
    "\n",
    "f1_score(y_val, y_preds, average='weighted')"
   ]
  },
  {
   "cell_type": "code",
   "execution_count": 41,
   "metadata": {},
   "outputs": [
    {
     "name": "stdout",
     "output_type": "stream",
     "text": [
      "SGD: 0.66\n"
     ]
    }
   ],
   "source": [
    "from sklearn.linear_model import SGDClassifier\n",
    "model=SGDClassifier(loss='hinge', penalty='l2',alpha=1e-3, random_state=42, max_iter=5, tol=None)\n",
    "model.fit(x_train,y_train)\n",
    "y_preds=model.predict(x_val)\n",
    "print(\"SGD:\",accuracy_score(y_val,y_preds))"
   ]
  },
  {
   "cell_type": "code",
   "execution_count": 42,
   "metadata": {},
   "outputs": [
    {
     "name": "stdout",
     "output_type": "stream",
     "text": [
      "Logistic regression: 0.68\n"
     ]
    }
   ],
   "source": [
    "from sklearn.linear_model import LogisticRegression\n",
    "model=LogisticRegression(n_jobs=1, C=1e5)\n",
    "model.fit(x_train,y_train)\n",
    "y_preds=model.predict(x_val)\n",
    "print(\"Logistic regression:\",accuracy_score(y_val,y_preds))\n"
   ]
  },
  {
   "cell_type": "code",
   "execution_count": 43,
   "metadata": {},
   "outputs": [
    {
     "name": "stdout",
     "output_type": "stream",
     "text": [
      "Decision Tree: 0.5\n"
     ]
    }
   ],
   "source": [
    "model=DecisionTreeClassifier(random_state=0)\n",
    "model.fit(x_train,y_train)\n",
    "y_preds=model.predict(x_val)\n",
    "print(\"Decision Tree:\",accuracy_score(y_val,y_preds))"
   ]
  },
  {
   "cell_type": "code",
   "execution_count": 22,
   "metadata": {},
   "outputs": [],
   "source": [
    "#from sklearn.preprocessing import StandardScaler\n",
    "#Scaler_X = StandardScaler()\n",
    "#x_train = Scaler_X.fit_transform(x_train)\n",
    "#x_val = Scaler_X.transform(x_val)"
   ]
  },
  {
   "cell_type": "code",
   "execution_count": 49,
   "metadata": {},
   "outputs": [
    {
     "ename": "ValueError",
     "evalue": "'sampling_strategy'='majority' cannot be used with over-sampler.",
     "output_type": "error",
     "traceback": [
      "\u001b[1;31m---------------------------------------------------------------------------\u001b[0m",
      "\u001b[1;31mValueError\u001b[0m                                Traceback (most recent call last)",
      "\u001b[1;32m<ipython-input-49-9db5f1afe341>\u001b[0m in \u001b[0;36m<module>\u001b[1;34m\u001b[0m\n\u001b[0;32m      3\u001b[0m \u001b[1;32mfrom\u001b[0m \u001b[0mcollections\u001b[0m \u001b[1;32mimport\u001b[0m \u001b[0mCounter\u001b[0m\u001b[1;33m\u001b[0m\u001b[1;33m\u001b[0m\u001b[0m\n\u001b[0;32m      4\u001b[0m \u001b[0msmt\u001b[0m\u001b[1;33m=\u001b[0m\u001b[0mSMOTE\u001b[0m\u001b[1;33m(\u001b[0m\u001b[0msampling_strategy\u001b[0m \u001b[1;33m=\u001b[0m \u001b[1;34m'majority'\u001b[0m\u001b[1;33m)\u001b[0m\u001b[1;33m\u001b[0m\u001b[1;33m\u001b[0m\u001b[0m\n\u001b[1;32m----> 5\u001b[1;33m \u001b[0mx_train_sm\u001b[0m\u001b[1;33m,\u001b[0m\u001b[0my_train_sm\u001b[0m\u001b[1;33m=\u001b[0m\u001b[0msmt\u001b[0m\u001b[1;33m.\u001b[0m\u001b[0mfit_resample\u001b[0m\u001b[1;33m(\u001b[0m\u001b[0mx_train\u001b[0m\u001b[1;33m,\u001b[0m\u001b[0my_train\u001b[0m\u001b[1;33m)\u001b[0m\u001b[1;33m\u001b[0m\u001b[1;33m\u001b[0m\u001b[0m\n\u001b[0m\u001b[0;32m      6\u001b[0m \u001b[1;33m\u001b[0m\u001b[0m\n\u001b[0;32m      7\u001b[0m \u001b[0mmodel\u001b[0m\u001b[1;33m=\u001b[0m\u001b[0mmodel\u001b[0m\u001b[1;33m.\u001b[0m\u001b[0mfit\u001b[0m\u001b[1;33m(\u001b[0m\u001b[0mx_train_sm\u001b[0m\u001b[1;33m,\u001b[0m\u001b[0my_train_sm\u001b[0m\u001b[1;33m)\u001b[0m\u001b[1;33m\u001b[0m\u001b[1;33m\u001b[0m\u001b[0m\n",
      "\u001b[1;32mC:\\ProgramData\\Anaconda3\\lib\\site-packages\\imblearn\\base.py\u001b[0m in \u001b[0;36mfit_resample\u001b[1;34m(self, X, y)\u001b[0m\n\u001b[0;32m     77\u001b[0m         \u001b[0mX\u001b[0m\u001b[1;33m,\u001b[0m \u001b[0my\u001b[0m\u001b[1;33m,\u001b[0m \u001b[0mbinarize_y\u001b[0m \u001b[1;33m=\u001b[0m \u001b[0mself\u001b[0m\u001b[1;33m.\u001b[0m\u001b[0m_check_X_y\u001b[0m\u001b[1;33m(\u001b[0m\u001b[0mX\u001b[0m\u001b[1;33m,\u001b[0m \u001b[0my\u001b[0m\u001b[1;33m)\u001b[0m\u001b[1;33m\u001b[0m\u001b[1;33m\u001b[0m\u001b[0m\n\u001b[0;32m     78\u001b[0m \u001b[1;33m\u001b[0m\u001b[0m\n\u001b[1;32m---> 79\u001b[1;33m         self.sampling_strategy_ = check_sampling_strategy(\n\u001b[0m\u001b[0;32m     80\u001b[0m             \u001b[0mself\u001b[0m\u001b[1;33m.\u001b[0m\u001b[0msampling_strategy\u001b[0m\u001b[1;33m,\u001b[0m \u001b[0my\u001b[0m\u001b[1;33m,\u001b[0m \u001b[0mself\u001b[0m\u001b[1;33m.\u001b[0m\u001b[0m_sampling_type\u001b[0m\u001b[1;33m\u001b[0m\u001b[1;33m\u001b[0m\u001b[0m\n\u001b[0;32m     81\u001b[0m         )\n",
      "\u001b[1;32mC:\\ProgramData\\Anaconda3\\lib\\site-packages\\imblearn\\utils\\_validation.py\u001b[0m in \u001b[0;36mcheck_sampling_strategy\u001b[1;34m(sampling_strategy, y, sampling_type, **kwargs)\u001b[0m\n\u001b[0;32m    515\u001b[0m             )\n\u001b[0;32m    516\u001b[0m         return OrderedDict(\n\u001b[1;32m--> 517\u001b[1;33m             \u001b[0msorted\u001b[0m\u001b[1;33m(\u001b[0m\u001b[0mSAMPLING_TARGET_KIND\u001b[0m\u001b[1;33m[\u001b[0m\u001b[0msampling_strategy\u001b[0m\u001b[1;33m]\u001b[0m\u001b[1;33m(\u001b[0m\u001b[0my\u001b[0m\u001b[1;33m,\u001b[0m \u001b[0msampling_type\u001b[0m\u001b[1;33m)\u001b[0m\u001b[1;33m.\u001b[0m\u001b[0mitems\u001b[0m\u001b[1;33m(\u001b[0m\u001b[1;33m)\u001b[0m\u001b[1;33m)\u001b[0m\u001b[1;33m\u001b[0m\u001b[1;33m\u001b[0m\u001b[0m\n\u001b[0m\u001b[0;32m    518\u001b[0m         )\n\u001b[0;32m    519\u001b[0m     \u001b[1;32melif\u001b[0m \u001b[0misinstance\u001b[0m\u001b[1;33m(\u001b[0m\u001b[0msampling_strategy\u001b[0m\u001b[1;33m,\u001b[0m \u001b[0mdict\u001b[0m\u001b[1;33m)\u001b[0m\u001b[1;33m:\u001b[0m\u001b[1;33m\u001b[0m\u001b[1;33m\u001b[0m\u001b[0m\n",
      "\u001b[1;32mC:\\ProgramData\\Anaconda3\\lib\\site-packages\\imblearn\\utils\\_validation.py\u001b[0m in \u001b[0;36m_sampling_strategy_majority\u001b[1;34m(y, sampling_type)\u001b[0m\n\u001b[0;32m    163\u001b[0m     \u001b[1;34m\"\"\"Returns sampling target by targeting the majority class only.\"\"\"\u001b[0m\u001b[1;33m\u001b[0m\u001b[1;33m\u001b[0m\u001b[0m\n\u001b[0;32m    164\u001b[0m     \u001b[1;32mif\u001b[0m \u001b[0msampling_type\u001b[0m \u001b[1;33m==\u001b[0m \u001b[1;34m\"over-sampling\"\u001b[0m\u001b[1;33m:\u001b[0m\u001b[1;33m\u001b[0m\u001b[1;33m\u001b[0m\u001b[0m\n\u001b[1;32m--> 165\u001b[1;33m         raise ValueError(\n\u001b[0m\u001b[0;32m    166\u001b[0m             \u001b[1;34m\"'sampling_strategy'='majority' cannot be used with over-sampler.\"\u001b[0m\u001b[1;33m\u001b[0m\u001b[1;33m\u001b[0m\u001b[0m\n\u001b[0;32m    167\u001b[0m         )\n",
      "\u001b[1;31mValueError\u001b[0m: 'sampling_strategy'='majority' cannot be used with over-sampler."
     ]
    }
   ],
   "source": [
    "from imblearn.pipeline import Pipeline\n",
    "from imblearn.over_sampling import SMOTE\n",
    "from collections import Counter\n",
    "smt=SMOTE(sampling_strategy = 'majority')\n",
    "x_train_sm,y_train_sm=smt.fit_resample(x_train,y_train)\n",
    "\n",
    "model=model.fit(x_train_sm,y_train_sm)\n",
    "y_preds=model.predict(x_val)\n",
    "print(\"Logistic regression:\",accuracy_score(y_val,y_preds))"
   ]
  },
  {
   "cell_type": "code",
   "execution_count": null,
   "metadata": {},
   "outputs": [],
   "source": [
    "#Random Forest\n",
    "model=RandomForestClassifier(n_estimators=10,random_state=0,n_jobs=-1)\n",
    "model.fit(x_train,y_train)\n",
    "y_preds=model.predict(x_val)\n",
    "print(\"Random Forest:\",accuracy_score(y_val,y_preds))\n"
   ]
  },
  {
   "cell_type": "code",
   "execution_count": null,
   "metadata": {},
   "outputs": [],
   "source": [
    "from sklearn.metrics import precision_recall_fscore_support as score"
   ]
  },
  {
   "cell_type": "code",
   "execution_count": null,
   "metadata": {},
   "outputs": [],
   "source": [
    "all_predictions = model.predict('je souhaite signer un contrat')\n"
   ]
  },
  {
   "cell_type": "code",
   "execution_count": null,
   "metadata": {},
   "outputs": [],
   "source": [
    "all_predictions = model.predict(x_val)\n",
    "pred = pd.DataFrame(data=all_predictions)\n",
    "\n",
    "pred.head(30)"
   ]
  },
  {
   "cell_type": "code",
   "execution_count": null,
   "metadata": {},
   "outputs": [],
   "source": [
    "sns.heatmap(confusion_matrix(y_val, y_preds), annot=True)"
   ]
  },
  {
   "cell_type": "code",
   "execution_count": null,
   "metadata": {},
   "outputs": [],
   "source": [
    "plt.ylabel(\"True classes\")\n",
    "plt.xlabel(\"Predicted classes\")\n",
    "plt.show()"
   ]
  },
  {
   "cell_type": "code",
   "execution_count": null,
   "metadata": {},
   "outputs": [],
   "source": [
    "print(confusion_matrix(y_val, y_preds))"
   ]
  },
  {
   "cell_type": "code",
   "execution_count": null,
   "metadata": {},
   "outputs": [],
   "source": []
  }
 ],
 "metadata": {
  "kernelspec": {
   "display_name": "Python 3",
   "language": "python",
   "name": "python3"
  },
  "language_info": {
   "codemirror_mode": {
    "name": "ipython",
    "version": 3
   },
   "file_extension": ".py",
   "mimetype": "text/x-python",
   "name": "python",
   "nbconvert_exporter": "python",
   "pygments_lexer": "ipython3",
   "version": "3.8.8"
  }
 },
 "nbformat": 4,
 "nbformat_minor": 4
}
