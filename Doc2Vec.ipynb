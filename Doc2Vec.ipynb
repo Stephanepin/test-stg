{
 "cells": [
  {
   "cell_type": "code",
   "execution_count": 1,
   "id": "b0083bee",
   "metadata": {},
   "outputs": [],
   "source": [
    "import pandas as pd\n",
    "import numpy as np\n",
    "import matplotlib.pyplot as plt\n",
    "%matplotlib inline\n",
    "\n",
    "import re\n",
    "from time import time\n",
    "import nltk\n",
    "from nltk.corpus import stopwords\n",
    "from nltk.stem.wordnet import WordNetLemmatizer\n",
    "from nltk.tokenize import sent_tokenize, word_tokenize\n",
    "\n",
    "from gensim.models.doc2vec import Doc2Vec, TaggedDocument\n",
    "from sklearn.model_selection import train_test_split\n",
    "\n",
    "from sklearn.linear_model import LogisticRegression\n",
    "from sklearn.svm import LinearSVC\n",
    "from sklearn.metrics import confusion_matrix, accuracy_score, classification_report, f1_score\n",
    "import nltk\n",
    "#nltk.download('punkt')"
   ]
  },
  {
   "cell_type": "code",
   "execution_count": null,
   "id": "14568561",
   "metadata": {},
   "outputs": [],
   "source": [
    "#df = pd.read_excel('final_210623_nouveaux labels.xlsx',engine='openpyxl')\n",
    "df = pd.read_excel('fin.xlsx',engine='openpyxl')\n",
    "#= data[data[\"Messages\"].notna()]\n",
    "col=['Messages','catégorie']\n",
    "df=df[col]\n",
    "df=df.head(2800)\n",
    "len(df)"
   ]
  },
  {
   "cell_type": "code",
   "execution_count": null,
   "id": "005df0c6",
   "metadata": {},
   "outputs": [],
   "source": [
    "df['Messages']=df['Messages'].astype(str)"
   ]
  },
  {
   "cell_type": "code",
   "execution_count": null,
   "id": "705f417e",
   "metadata": {},
   "outputs": [],
   "source": [
    "print(df['Messages'].apply(lambda x: len(x.split(' '))).sum())"
   ]
  },
  {
   "cell_type": "code",
   "execution_count": null,
   "id": "045c2eee",
   "metadata": {},
   "outputs": [],
   "source": [
    "df.isnull().sum()"
   ]
  },
  {
   "cell_type": "code",
   "execution_count": null,
   "id": "280d775b",
   "metadata": {},
   "outputs": [],
   "source": [
    "#df.loc[df['catégorie'].isin(['renseignement facture','demande de renseignement']),'catégorie'] = 'renseignement'"
   ]
  },
  {
   "cell_type": "code",
   "execution_count": null,
   "id": "9d708814",
   "metadata": {},
   "outputs": [],
   "source": [
    "df.catégorie.value_counts()"
   ]
  },
  {
   "cell_type": "code",
   "execution_count": null,
   "id": "7de1351a",
   "metadata": {},
   "outputs": [],
   "source": [
    "df.replace({'catégorie': \n",
    "             {\n",
    "              'renseignement facture': 'demande de renseignement,réclamation qualité de service,impayé,renseignement facture',\n",
    "             'réclamation qualité de service': 'demande de renseignement,réclamation qualité de service,impayé,renseignement facture',\n",
    "             'contrat': 'no message,contrat,interne Axxès',\n",
    "              'demande de renseignement':'demande de renseignement,réclamation qualité de service,impayé,renseignement facture',\n",
    "              'no message':'no message,contrat,interne Axxès',\n",
    "              'interne Axxès':'no message,contrat,interne Axxès'\n",
    "             # 'impayé,renseignement facture':'demande de renseignement,réclamation qualité de service,impayé,renseignement facture'\n",
    "             }}, \n",
    "            inplace= True)"
   ]
  },
  {
   "cell_type": "code",
   "execution_count": null,
   "id": "6f588348",
   "metadata": {},
   "outputs": [],
   "source": [
    "df.catégorie.value_counts()"
   ]
  },
  {
   "cell_type": "code",
   "execution_count": null,
   "id": "c3116bd1",
   "metadata": {},
   "outputs": [],
   "source": [
    "from langdetect import detect"
   ]
  },
  {
   "cell_type": "code",
   "execution_count": null,
   "id": "f5a3555c",
   "metadata": {},
   "outputs": [],
   "source": [
    "texl70 = df['Messages']\n",
    "langdet = []\n",
    "    \n",
    "for i in range(len(df)):                                         \n",
    "    try:                                                          \n",
    "        lang=detect(texl70[i])                                      \n",
    "    except:                                                       \n",
    "        lang=''                                                  \n",
    "        print(\"This row throws error:\", texl70[i])                 \n",
    "    langdet.append(lang)  "
   ]
  },
  {
   "cell_type": "code",
   "execution_count": null,
   "id": "33dbc298",
   "metadata": {},
   "outputs": [],
   "source": [
    "df['lang']=langdet"
   ]
  },
  {
   "cell_type": "code",
   "execution_count": null,
   "id": "75b7f55a",
   "metadata": {},
   "outputs": [],
   "source": [
    "df=df.loc[df['lang']=='fr']"
   ]
  },
  {
   "cell_type": "code",
   "execution_count": null,
   "id": "1c960464",
   "metadata": {},
   "outputs": [],
   "source": [
    "df"
   ]
  },
  {
   "cell_type": "code",
   "execution_count": null,
   "id": "285045bb",
   "metadata": {},
   "outputs": [],
   "source": [
    "df['occurence']=0\n",
    "mots = [\"cordialement\", \"best regards\",\"bien à vous\", \"Bien cordialement\",\"Cordialment\",\"Restant à votre disposition\",\n",
    "       \"Salutations\",\"Bonne réception\",\"Sincères salutations\",\"Cdt\",\"cdlt\",\n",
    "        \"Bonne fin de journée\",\"bonne réception\"]\n",
    "for mot in mots:\n",
    "    for i in df.index:\n",
    "        ss=df['Messages'][i].lower()\n",
    "        if mot in ss:\n",
    "            df['occurence'][i]=ss.find(mot.lower())"
   ]
  },
  {
   "cell_type": "code",
   "execution_count": null,
   "id": "57cb9f4f",
   "metadata": {},
   "outputs": [],
   "source": [
    "for i in df.index:\n",
    "    if df['occurence'][i]>0:\n",
    "        df['Messages'][i]=df['Messages'][i][0:df['occurence'][i]]\n",
    "    else:\n",
    "        df['Messages'][i]=df['Messages'][i]"
   ]
  },
  {
   "cell_type": "code",
   "execution_count": null,
   "id": "e6c0139b",
   "metadata": {},
   "outputs": [],
   "source": [
    "from nltk.stem import WordNetLemmatizer\n",
    "from unidecode import unidecode\n",
    "\n",
    "lem = WordNetLemmatizer()\n",
    "def cleanResume(resumeText):\n",
    "    resumeText = resumeText.lower()\n",
    "    resumeText = unidecode(resumeText)\n",
    "    resumeText = re.sub('http\\S+\\s*', ' ', resumeText)  # remove URLs\n",
    "    resumeText = re.sub('RT|cc', ' ', resumeText)  # remove RT and cc\n",
    "    resumeText = re.sub('#\\S+', '', resumeText)  # remove hashtags\n",
    "    resumeText = re.sub('@\\S+', '  ', resumeText)  # remove mentions\n",
    "    resumeText = re.sub('[%s]' % re.escape(\"\"\"!\"#$%&'()*+,-./:;<=>?@[\\]^_`{|}~\"\"\"), ' ', resumeText)  # remove punctuations\n",
    "    resumeText = re.sub('([a-zA-Z0-9_.+-]+@[a-zA-Z0-9-]+\\.[a-zA-Z0-9-.]+)', 'XXXX',  resumeText)#email\n",
    "    #phone\n",
    "    resumeText = re.sub(r\"/\\d{10}|\\+33\\d{9}|\\+33\\s\\d{1}\\s\\d{2}\\s\\d{2}\\s\\d{2}\\s\\d{2}|\\d{2}\\s\\d{2}\\s\\d{2}\\s\\d{2}\\s\\d{2}/g\",' XXXX', resumeText)#phone francais\n",
    "    resumeText = re.sub(r'(^(\\+33 |0)[1-6]{1}(([0-9]{2}){4})|((\\s[0-9]{2}){4})|((-[0-9]{2}){4})$)','XXXX', resumeText)\n",
    "    resumeText = re.sub(\"((?:\\+\\d{2}[-\\.\\s]??|\\d{4}[-\\.\\s]??)?(?:\\d{3}[-\\.\\s]??\\d{3}[-\\.\\s]??\\d{4}|\\(\\d{3}\\)\\s*\\d{3}[-\\.\\s]??\\d{4}|\\d{3}[-\\.\\s]??\\d{4}))\",'XXXX',  resumeText)#phone\n",
    "    resumeText = re.sub('\\(?\\d{2}\\)?[-.\\s]?\\d{2}[-.\\s]?\\d{2}[-.\\s]?\\d{2}[-.\\s]?\\d{2}','XXXX', resumeText)\n",
    "    resumeText = re.sub('\\(?\\d{2}\\)?[-.\\s]?\\d{2}[-.\\s]?\\d{2}[-.\\s]?\\d{2}[-.\\s]','XXXX', resumeText)\n",
    "    resumeText = re.sub('\\(?\\d{1}\\)?[-.\\s]?\\d{2}[-.\\s]?\\d{2}[-.\\s]?\\d{2}[-.\\s]','XXXX', resumeText)\n",
    "    resumeText = re.sub('\\(?\\d{2}\\)?[-.\\s]?\\d{5}[-.\\s]?\\d{3}','XXXX', resumeText)\n",
    "    resumeText = re.sub('\\(?\\d{1}\\)?[-.\\s]?\\d{2}[-.\\s]?\\d{2}[-.\\s]?\\d{3}','XXXX', resumeText)\n",
    "    resumeText = re.sub('\\(?\\d{2}\\)?[-.\\s]?\\d{3}[-.\\s]?\\d{3}[-.\\s]?\\d{3}','XXXX', resumeText)\n",
    "    #Emoji\n",
    "    emoji= re.compile(u'['u'\\U0001F300-\\U0001F64F'u'\\U0001F680-\\U0001F6FF'u'\\u2600-\\u26FF\\u2700-\\u27BF]+', re.UNICODE)\n",
    "    resumeText = re.sub(emoji,' ', resumeText)\n",
    "    #text\n",
    "    resumeText =  resumeText.replace(\"Avant d\\'imprimer cet e-mail, réfléchissez à l\\'impact sur l\\'environnementBefore you print this mail, think about the impact on the environment\",'')\n",
    "    dele = [\"Mail:\",\"Email:\",\"e-mail\",\"Email : \",\"mail\",\"Tél : +\",\"Fax : +\",\"tél.: + ()\",\"port.: + () \",\"fax.: + ()\"]\n",
    "    #df['Text'][i]= df['Text'][i].replace(dele,'')\n",
    "    resumeText =  resumeText.replace(\"Mail:\",' ')\n",
    "    resumeText =  resumeText.replace(\"Email:\",' ')\n",
    "    resumeText =  resumeText.replace(\"E-mail\",' ')\n",
    "    resumeText =  resumeText.replace(\"Email : \",' ')\n",
    "    resumeText=  resumeText.replace(\"mail\",' ')\n",
    "    resumeText=re.sub(r'\\d{3}[-\\.\\s]??\\d{3}[-\\.\\s]??\\d{4}|\\(\\d{3}\\)\\s*\\d{3}[-\\.\\s]??\\d{4}|\\d{3}[-\\.\\s]??\\d{4}','XXXX', resumeText)\n",
    "    #df['Text'][i]=re.sub(r'\\d+','',str(df['Text'][i]))#Tél : +      Fax : +, tél.: + ()       fax.: + ()      port.: + () \n",
    "    resumeText = re.sub(\"http[s]?://(?:[a-zA-Z]|[0-9]|[$-_@.&+]|[!*\\(\\),]|(?:%[0-9a-fA-F][0-9a-fA-F]))+\",'XXXX', resumeText)#url\n",
    "    resumeText = re.sub('(https?:\\/\\/(?:www\\.|(?!www))[a-zA-Z0-9][a-zA-Z0-9-]+[a-zA-Z0-9]\\.[^\\s]{2,}|www\\.[a-zA-Z0-9][a-zA-Z0-9-]+[a-zA-Z0-9]\\.[^\\s]{2,}|https?:\\/\\/(?:www\\.|(?!www))[a-zA-Z0-9]+\\.[^\\s]{2,}|www\\.[a-zA-Z0-9]+\\.[^\\s]{2,})',' XXXX', resumeText)#url www\n",
    "    resumeText = re.sub('Ce message et toutes les Pieces jointes (ci apres : le message) sont etablis a l\\'intention exclusive de ses destinataires et sont confidentiels.Toute utilisation de ce message non conforme a sa destination, toute diffusion ou toute publication totale ou partielle est interdite sauf autorisation prealable.Si vous recevez ce message par erreur, merci de le detruire et d\\' avertir immediatement l\\'expediteur.Les communications sur Internet n\\'etant pas securisees, le Groupe APRR decline toute responsabilite quant au contenu de ce message.This message and all attached documents (hereafter \"the message\") are intended for the exclusive attention of its recipients and are confidential. Any use of this message, for which it was not intended, any distribution or any total or partial publication is prohibited unless previously approved.If you receive this message in error, please destroy it and immediately notify the sender thereof.Since communication by Internet is not secure, Group APRR cannot accept any responsibility regarding the contents of this message.','XXXX ', resumeText)\n",
    "    #df['Text'][i]= re.sub('SCAN <>Cet  a été envoyé par \"copieurRICOH\" (MP C3004ex).Date de numérisation: 07.08.2020 17:17:25 (+0200)Contacter si besoin :  ','',str(df['Text'][i]))\n",
    "    resumeText = re.sub('Ce message est généré automatiquement. Merci de ne pas y répondre.','XXXX', resumeText)\n",
    "    resumeText = re.sub('Ce message et toutes les Pieces jointes (ci apres : le message) sont etablis a l\\'intention exclusive de ses destinataires et sont confidentiels.Toute utilisation de ce message non conforme a sa destination, toute diffusion ou toute publication totale ou partielle est interdite sauf autorisation prealable.Si vous recevez ce message par erreur, merci de le detruire et d\\' avertir immediatement l\\'expediteur.Les communications sur Internet n\\'etant pas securisees, le Groupe APRR decline toute responsabilite quant au contenu de ce message.This message and all attached documents (hereafter \"the message\") are intended for the exclusive attention of its recipients and are confidential. Any use of this message, for which it was not intended, any distribution or any total or partial publication is prohibited unless previously approved.If you receive this message in error, please destroy it and immediately notify the sender thereof.Since communication by Internet is not secure, Group APRR cannot accept any responsibility regarding the contents of this message.','XXXX ', resumeText)\n",
    "    resumeText = re.sub('This message and any attachments are confidential and intended for the named addressee(s) only.If you have received this message in error, please notify immediately the sender, then deletethe message. Any unauthorized modification, edition, use or dissemination is prohibited.The sender shall not be liable for this message if it has been modified, altered, falsified, infectedby a virus or even edited or disseminated without authorization.','XXXX', resumeText)\n",
    "    resumeText = re.sub('This  transmission (message and any attached files) may contain information that is proprietary, privileged and/or confidential to Veolia Environnement and/or its affiliates and is intended exclusively for the person(s) to whom it is addressed. If you are not the intended recipient, please notify the sender by return  and delete all copies of this , including all attachments. Unless expressly authorized, any use, disclosure, publication, retransmission or dissemination of this  and/or of its attachments is strictly prohibited. Ce message electronique et ses fichiers attaches sont strictement confidentiels et peuvent contenir des elements dont Veolia Environnement et/ou l\\'une de ses entites affiliees sont proprietaires. Ils sont donc destines a l\\'usage de leurs seuls destinataires. Si vous avez recu ce message par erreur, merci de le retourner a son emetteur et de le detruire ainsi que toutes les pieces attachees. L\\'utilisation, la divulgation, la publication, la distribution, ou la reproduction non expressement autorisees de ce message et de ses pieces attachees sont interdites.','XXXX ', resumeText)\n",
    "    resumeText = re.sub('This  transmission (message and any attached files) may contain information that is proprietary, privileged and/or confidential to Veolia Environnement and/or its affiliates and is intended exclusively for the person(s) to whom it is addressed. If you are not the intended recipient, please notify the sender by return  and delete all copies of this , including all attachments. Unless expressly authorized, any use, disclosure, publication, retransmission or dissemination of this  and/or of its attachments is strictly prohibited.  Ce message electronique et ses fichiers attaches sont strictement confidentiels et peuvent contenir des elements dont Veolia Environnement et/ou l\\'une de ses entites affiliees sont proprietaires. Ils sont donc destines a l\\'usage de leurs seuls destinataires. Si vous avez recu ce message par erreur, merci de le retourner a son emetteur et de le detruire ainsi que toutes les pieces attachees. L\\'utilisation, la divulgation, la publication, la distribution, ou la reproduction non expressement autorisees de ce message et de ses pieces attachees sont interdites.','XXXX ', resumeText)\n",
    "    resumeText = re.sub('Le contenu de ce message est strictement réservé à l\\'usage exclusif de son destinataire et contient de l\\'information privilégiée et confidentielle. Toute lecture, divulgation, distribution ou copie non autorisée de cette communication est formellement interdite. Si vous avez reçu cette communication par erreur, veuillez la détruire immédiatement.','XXXX', resumeText)\n",
    "    resumeText = re.sub('Ce message et toutes les Pieces jointes (ci apres : le message) sont etablis a l\\'intention exclusive de ses destinataires et sont confidentiels.Toute utilisation de ce message non conforme a sa destination, toute diffusion ou toute publication totale ou partielle est interdite sauf autorisation prealable.Si vous recevez ce message par erreur, merci de le detruire et d\\' avertir immediatement l\\'expediteur.Les communications sur Internet n\\'etant pas securisees, le Groupe APRR decline toute responsabilite quant au contenu de ce message.This message and all attached documents (hereafter \"the message\") are intended for the exclusive attention of its recipients and are confidential. Any use of this message, for which it was not intended, any distribution or any total or partial publication is prohibited unless previously approved.If you receive this message in error, please destroy it and immediately notify the sender thereof.Since communication by Internet is not secure, Group APRR cannot accept any responsibility regarding the contents of this message.','XXXX ', resumeText)\n",
    "    resumeText = re.sub('Ce message et les pièces jointes sont confidentiels et établis à l\\'attention exclusive de ses destinataires. Toute utilisation ou diffusion, même partielle, non autorisée est interdite. Tout message électronique est susceptible d\\'altération. Brink\\'s décline toute responsabilité au titre de ce message s\\'il a été altéré, déformé ou falsifié. Si vous n\\'êtes pas le destinataire de ce message, merci de le détruire et d\\'avertir l\\'expéditeur. This message and any attachments are confidential and intended solely for the addressees. Any unauthorized use or disclosure, either whole or partial is prohibited. E-s are susceptible to alteration. Brink\\'s shall not be liable for the message if altered, changed or falsified. If you are not the intended recipient of this message, please delete it and notify the sender.','XXXX ', resumeText)\n",
    "    resumeText = re.sub('Ce message et toutes les Pieces jointes (ci apres : le message) sont etablis a l\\'intention exclusive de ses destinataires et sont confidentiels.Toute utilisation de ce message non conforme a sa destination, toute diffusion ou toute publication totale ou partielle est interdite sauf autorisation prealable.Si vous recevez ce message par erreur, merci de le detruire et d\\' avertir immediatement l\\'expediteur.Les communications sur Internet n\\'etant pas securisees, le Groupe APRR decline toute responsabilite quant au contenu de ce message.','XXXX', resumeText)\n",
    "    resumeText = resumeText.replace('\\n', ' ').replace('\\r', '')\n",
    "    resumeText = ' '.join(resumeText.split())\n",
    "    resumeText = re.sub(r\"[A-Za-z\\.]*[0-9]+[A-Za-z%°\\.]*\", \"\", resumeText)\n",
    "    resumeText = re.sub(r\"(\\s\\-\\s|-$)\", \"\", resumeText)\n",
    "    resumeText = re.sub(r\"[,\\!\\?\\%\\(\\)\\/\\\"]\", \"\", resumeText)\n",
    "    resumeText = re.sub(r\"\\&\\S*\\s\", \"\", resumeText)\n",
    "    resumeText = re.sub(r\"\\&\", \"\", resumeText)\n",
    "    resumeText = re.sub(r\"\\+\", \"\", resumeText)\n",
    "    resumeText = re.sub(r\"\\#\", \"\", resumeText)\n",
    "    resumeText = re.sub(r\"\\$\", \"\", resumeText)\n",
    "    resumeText = re.sub(r\"\\£\", \"\", resumeText)\n",
    "    resumeText = re.sub(r\"\\%\", \"\", resumeText)\n",
    "    resumeText = re.sub(r\"\\:\", \"\", resumeText)\n",
    "    resumeText = re.sub(r\"\\@\", \"\", resumeText)\n",
    "    resumeText = re.sub(r\"\\-\", \"\", resumeText)\n",
    "    resumeText = resumeText.split()\n",
    "\n",
    "    resumeText = [lem.lemmatize(word) for word in resumeText]\n",
    "    resumeText = ' '.join(resumeText)\n",
    "    #print(msg['Messages'][i])\n",
    "    #resumeText = re.sub(r'[^\\x00-\\x7f]',r' ', resumeText) \n",
    "    #resumeText = re.sub('\\s+', ' ', resumeText)  # remove extra whitespace\n",
    "    return resumeText\n",
    "    \n",
    "df['Messages'] = df.Messages.apply(lambda x: cleanResume(x))"
   ]
  },
  {
   "cell_type": "code",
   "execution_count": 2,
   "id": "81c25931",
   "metadata": {},
   "outputs": [],
   "source": [
    "df = pd.read_excel('fin.xlsx',engine='openpyxl')"
   ]
  },
  {
   "cell_type": "code",
   "execution_count": 3,
   "id": "d7944d94",
   "metadata": {},
   "outputs": [],
   "source": [
    "stop = stopwords.words('french')\n",
    "\n",
    "def remove_stopwords(text):\n",
    "    \"\"\"The function to removing stopwords\"\"\"\n",
    "    text = [word.lower() for word in text.split() if word.lower() not in stop]\n",
    "    return \" \".join(text)\n",
    "\n",
    "df['Messages'] = df['Messages'].apply(remove_stopwords)"
   ]
  },
  {
   "cell_type": "code",
   "execution_count": 4,
   "id": "f22bd127",
   "metadata": {},
   "outputs": [
    {
     "data": {
      "text/html": [
       "<div>\n",
       "<style scoped>\n",
       "    .dataframe tbody tr th:only-of-type {\n",
       "        vertical-align: middle;\n",
       "    }\n",
       "\n",
       "    .dataframe tbody tr th {\n",
       "        vertical-align: top;\n",
       "    }\n",
       "\n",
       "    .dataframe thead th {\n",
       "        text-align: right;\n",
       "    }\n",
       "</style>\n",
       "<table border=\"1\" class=\"dataframe\">\n",
       "  <thead>\n",
       "    <tr style=\"text-align: right;\">\n",
       "      <th></th>\n",
       "      <th>Messages</th>\n",
       "      <th>catégorie</th>\n",
       "      <th>occurence</th>\n",
       "      <th>text</th>\n",
       "    </tr>\n",
       "  </thead>\n",
       "  <tbody>\n",
       "    <tr>\n",
       "      <th>0</th>\n",
       "      <td>bonjour,ci-joint mandat sepa rib.cordialementb...</td>\n",
       "      <td>contrat</td>\n",
       "      <td>42</td>\n",
       "      <td>,Cijoint le mandat sepa et le rib.</td>\n",
       "    </tr>\n",
       "    <tr>\n",
       "      <th>1</th>\n",
       "      <td>daniel guegansociete transports gueganclient n...</td>\n",
       "      <td>commande de badge</td>\n",
       "      <td>703</td>\n",
       "      <td>DANIEL   GUEGANSOCIETE DES TRANSPORTS GUEGANCl...</td>\n",
       "    </tr>\n",
       "    <tr>\n",
       "      <th>2</th>\n",
       "      <td>bonjour, j’ai essayé faire modification badge ...</td>\n",
       "      <td>contrat</td>\n",
       "      <td>489</td>\n",
       "      <td>, J’ai essayé de faire la modification du bad...</td>\n",
       "    </tr>\n",
       "    <tr>\n",
       "      <th>3</th>\n",
       "      <td>bonjour, merci faire badge géolocalisation int...</td>\n",
       "      <td>commande de badge</td>\n",
       "      <td>420</td>\n",
       "      <td>, merci de me faire un badge avec la géolocali...</td>\n",
       "    </tr>\n",
       "    <tr>\n",
       "      <th>4</th>\n",
       "      <td>bonjour, l'appareil 3156490017550003485 a attr...</td>\n",
       "      <td>demande de renseignement,interne Axxès,réclama...</td>\n",
       "      <td>2462</td>\n",
       "      <td>, L'appareil XXXX03485 a été attribué au camio...</td>\n",
       "    </tr>\n",
       "  </tbody>\n",
       "</table>\n",
       "</div>"
      ],
      "text/plain": [
       "                                            Messages  \\\n",
       "0  bonjour,ci-joint mandat sepa rib.cordialementb...   \n",
       "1  daniel guegansociete transports gueganclient n...   \n",
       "2  bonjour, j’ai essayé faire modification badge ...   \n",
       "3  bonjour, merci faire badge géolocalisation int...   \n",
       "4  bonjour, l'appareil 3156490017550003485 a attr...   \n",
       "\n",
       "                                           catégorie  occurence  \\\n",
       "0                                            contrat         42   \n",
       "1                                  commande de badge        703   \n",
       "2                                            contrat        489   \n",
       "3                                  commande de badge        420   \n",
       "4  demande de renseignement,interne Axxès,réclama...       2462   \n",
       "\n",
       "                                                text  \n",
       "0                 ,Cijoint le mandat sepa et le rib.  \n",
       "1  DANIEL   GUEGANSOCIETE DES TRANSPORTS GUEGANCl...  \n",
       "2   , J’ai essayé de faire la modification du bad...  \n",
       "3  , merci de me faire un badge avec la géolocali...  \n",
       "4  , L'appareil XXXX03485 a été attribué au camio...  "
      ]
     },
     "execution_count": 4,
     "metadata": {},
     "output_type": "execute_result"
    }
   ],
   "source": [
    "df.head()"
   ]
  },
  {
   "cell_type": "code",
   "execution_count": null,
   "id": "fba67b30",
   "metadata": {},
   "outputs": [],
   "source": [
    "#data = df.to_excel('data_clean.xlsx', engine='openpyxl')"
   ]
  },
  {
   "cell_type": "code",
   "execution_count": 5,
   "id": "9458f552",
   "metadata": {},
   "outputs": [],
   "source": [
    "train, test = train_test_split(df, test_size=0.2, random_state=42)"
   ]
  },
  {
   "cell_type": "code",
   "execution_count": 6,
   "id": "31d0f7a1",
   "metadata": {},
   "outputs": [],
   "source": [
    "train_tag = train.apply(lambda x: TaggedDocument(words=word_tokenize(x['Messages']), tags=[x.catégorie]), axis=1)\n",
    "\n",
    "test_tag = test.apply(lambda x: TaggedDocument(words=word_tokenize(x['Messages']), tags=[x.catégorie]), axis=1)"
   ]
  },
  {
   "cell_type": "code",
   "execution_count": 7,
   "id": "6b86dba6",
   "metadata": {},
   "outputs": [
    {
     "data": {
      "text/plain": [
       "TaggedDocument(words=['daniel', 'guegansociete', 'transports', 'gueganclient', 'n°', '000074614lieu', 'dit', 'fontainguy', '35290', 'st', 'onen', 'chapelle', 'francebonjour', ',', 'en', 'mettant', 'jour', 'badges', 'équiper', \"l'ensemble\", 'flotte', ',', 'constatons', \"qu'une\", 'commande', 'crée', '15.12.2019', \"n'est\", 'validée', '.', \"n'avons\", 'reçu', 'aucune', 'demande', 'part', 'depuis', 'mail', '15.12.2019', 'précisant', 'commande', 'bien', 'prise', 'compte.nous', 'passé', '2', 'commandes', '26.08.2020.vous', 'trouverez', ',', 'pièce', 'jointe', ',', 'détail', 'commandes', 'instance.pour', 'information', ',', \"l'ensemble\", 'cartes', 'grises', 'bien', 'fournies', 'lors', 'création', 'véhicules.nous', 'remercions', 'tenir', 'informés', 'suite', 'souhaitez', 'donner.bien', 'cordialement', ',', 'léone', 'guegansociété', 'transports', 'guegan'], tags=['commande de badge'])"
      ]
     },
     "execution_count": 7,
     "metadata": {},
     "output_type": "execute_result"
    }
   ],
   "source": [
    "\n",
    "train_tag[1]"
   ]
  },
  {
   "cell_type": "markdown",
   "id": "11e3e0aa",
   "metadata": {},
   "source": [
    "Getting the feature vector from doc2vec model"
   ]
  },
  {
   "cell_type": "code",
   "execution_count": 8,
   "id": "c390cabe",
   "metadata": {},
   "outputs": [],
   "source": [
    "doc_model = Doc2Vec(dm=0, vector_size=100, min_count=4, window=2, sample = 0)\n",
    "               \n",
    "doc_model.build_vocab(train_tag)"
   ]
  },
  {
   "cell_type": "code",
   "execution_count": 9,
   "id": "228943db",
   "metadata": {},
   "outputs": [
    {
     "data": {
      "text/plain": [
       "1591004"
      ]
     },
     "execution_count": 9,
     "metadata": {},
     "output_type": "execute_result"
    }
   ],
   "source": [
    "doc_model.corpus_total_words"
   ]
  },
  {
   "cell_type": "code",
   "execution_count": 10,
   "id": "e77fa19b",
   "metadata": {},
   "outputs": [
    {
     "name": "stdout",
     "output_type": "stream",
     "text": [
      "Wall time: 11 s\n"
     ]
    }
   ],
   "source": [
    "%time doc_model.train(train_tag, total_examples=doc_model.corpus_count, epochs=10)"
   ]
  },
  {
   "cell_type": "code",
   "execution_count": null,
   "id": "39d8d579",
   "metadata": {},
   "outputs": [],
   "source": [
    "\n",
    "#doc_model.dv.most_similar('interne Axxès')\n"
   ]
  },
  {
   "cell_type": "code",
   "execution_count": 11,
   "id": "1c42870b",
   "metadata": {},
   "outputs": [],
   "source": [
    "def vector_for_learning(model, input_docs):\n",
    "    sents = input_docs\n",
    "    targets, feature_vectors = zip(*[(doc.tags[0], model.infer_vector(doc.words, steps=20)) for doc in sents])\n",
    "    return targets, feature_vectors"
   ]
  },
  {
   "cell_type": "code",
   "execution_count": 12,
   "id": "95043045",
   "metadata": {},
   "outputs": [],
   "source": [
    "y_train, X_train = vector_for_learning(doc_model, train_tag)\n",
    "y_test, X_test = vector_for_learning(doc_model, test_tag)"
   ]
  },
  {
   "cell_type": "code",
   "execution_count": 13,
   "id": "69c4bb8e",
   "metadata": {},
   "outputs": [
    {
     "name": "stderr",
     "output_type": "stream",
     "text": [
      "C:\\Users\\bertille.lekeufack\\.conda\\envs\\stage1\\lib\\site-packages\\sklearn\\linear_model\\_logistic.py:763: ConvergenceWarning: lbfgs failed to converge (status=1):\n",
      "STOP: TOTAL NO. of ITERATIONS REACHED LIMIT.\n",
      "\n",
      "Increase the number of iterations (max_iter) or scale the data as shown in:\n",
      "    https://scikit-learn.org/stable/modules/preprocessing.html\n",
      "Please also refer to the documentation for alternative solver options:\n",
      "    https://scikit-learn.org/stable/modules/linear_model.html#logistic-regression\n",
      "  n_iter_i = _check_optimize_result(\n"
     ]
    }
   ],
   "source": [
    "log_reg1 = LogisticRegression(n_jobs=1, C=5)\n",
    "log_reg1.fit(X_train, y_train)\n",
    "y_pred = log_reg1.predict(X_test)"
   ]
  },
  {
   "cell_type": "code",
   "execution_count": 14,
   "id": "8785749f",
   "metadata": {},
   "outputs": [
    {
     "name": "stdout",
     "output_type": "stream",
     "text": [
      "Testing accuracy 0.6375545851528385\n",
      "Testing F1 score: 0.6328023632684135\n"
     ]
    }
   ],
   "source": [
    "\n",
    "print('Testing accuracy %s' % accuracy_score(y_pred, y_test))\n",
    "print('Testing F1 score: {}'.format(f1_score(y_test, y_pred, average='weighted')))"
   ]
  },
  {
   "cell_type": "code",
   "execution_count": 15,
   "id": "f7b44a42",
   "metadata": {},
   "outputs": [
    {
     "name": "stdout",
     "output_type": "stream",
     "text": [
      "                                                                         precision    recall  f1-score   support\n",
      "\n",
      "                                                      commande de badge       0.67      0.77      0.72       608\n",
      "                                                                contrat       0.53      0.44      0.48       333\n",
      "demande de renseignement,interne Axxès,réclamation qualité de service,a       0.60      0.58      0.59       389\n",
      "                                                  renseignement facture       0.71      0.66      0.68       273\n",
      "\n",
      "                                                               accuracy                           0.64      1603\n",
      "                                                              macro avg       0.63      0.61      0.62      1603\n",
      "                                                           weighted avg       0.63      0.64      0.63      1603\n",
      "\n"
     ]
    }
   ],
   "source": [
    "ytest = np.array(y_test)\n",
    "print(classification_report(ytest, y_pred))"
   ]
  },
  {
   "cell_type": "code",
   "execution_count": 16,
   "id": "9885ec34",
   "metadata": {},
   "outputs": [
    {
     "name": "stderr",
     "output_type": "stream",
     "text": [
      "C:\\Users\\bertille.lekeufack\\.conda\\envs\\stage1\\lib\\site-packages\\sklearn\\svm\\_base.py:985: ConvergenceWarning: Liblinear failed to converge, increase the number of iterations.\n",
      "  warnings.warn(\"Liblinear failed to converge, increase \"\n"
     ]
    },
    {
     "data": {
      "text/plain": [
       "LinearSVC()"
      ]
     },
     "execution_count": 16,
     "metadata": {},
     "output_type": "execute_result"
    }
   ],
   "source": [
    "svm = LinearSVC()\n",
    "svm.fit(X_train, y_train)"
   ]
  },
  {
   "cell_type": "code",
   "execution_count": 17,
   "id": "95f12808",
   "metadata": {},
   "outputs": [
    {
     "name": "stdout",
     "output_type": "stream",
     "text": [
      "Testing accuracy 0.6381784154709919\n",
      "Testing F1 score: 0.6287419490550712\n"
     ]
    }
   ],
   "source": [
    "preds = svm.predict(X_test)\n",
    "print('Testing accuracy %s' % accuracy_score(preds, y_test))\n",
    "print('Testing F1 score: {}'.format(f1_score(y_test, preds, average='weighted')))"
   ]
  },
  {
   "cell_type": "code",
   "execution_count": 18,
   "id": "eff5e2d5",
   "metadata": {},
   "outputs": [
    {
     "name": "stdout",
     "output_type": "stream",
     "text": [
      "                                                                         precision    recall  f1-score   support\n",
      "\n",
      "                                                      commande de badge       0.65      0.81      0.72       608\n",
      "                                                                contrat       0.57      0.39      0.46       333\n",
      "demande de renseignement,interne Axxès,réclamation qualité de service,a       0.62      0.58      0.60       389\n",
      "                                                  renseignement facture       0.68      0.64      0.66       273\n",
      "\n",
      "                                                               accuracy                           0.64      1603\n",
      "                                                              macro avg       0.63      0.61      0.61      1603\n",
      "                                                           weighted avg       0.63      0.64      0.63      1603\n",
      "\n"
     ]
    }
   ],
   "source": [
    "print(classification_report(ytest, preds))"
   ]
  },
  {
   "cell_type": "markdown",
   "id": "960e7a7c",
   "metadata": {},
   "source": [
    "Distributed Memory (DM)"
   ]
  },
  {
   "cell_type": "code",
   "execution_count": 19,
   "id": "ad20257f",
   "metadata": {},
   "outputs": [],
   "source": [
    "dm_model = Doc2Vec(dm=1, vector_size=100, min_count=2, window=2, sample = 0,negative=2,  alpha=0.025, min_alpha=0.0001)\n",
    "dm_model.build_vocab(train_tag)"
   ]
  },
  {
   "cell_type": "code",
   "execution_count": 20,
   "id": "0749e743",
   "metadata": {},
   "outputs": [
    {
     "data": {
      "text/plain": [
       "1591004"
      ]
     },
     "execution_count": 20,
     "metadata": {},
     "output_type": "execute_result"
    }
   ],
   "source": [
    "dm_model.corpus_total_words"
   ]
  },
  {
   "cell_type": "code",
   "execution_count": 21,
   "id": "f2766283",
   "metadata": {},
   "outputs": [
    {
     "name": "stdout",
     "output_type": "stream",
     "text": [
      "Wall time: 14 s\n"
     ]
    }
   ],
   "source": [
    "%time dm_model.train(train_tag, total_examples=dm_model.corpus_count, epochs=10)"
   ]
  },
  {
   "cell_type": "code",
   "execution_count": 22,
   "id": "b32f5919",
   "metadata": {},
   "outputs": [],
   "source": [
    "y_train_dm, X_train_dm = vector_for_learning(dm_model, train_tag)\n",
    "y_test_dm, X_test_dm = vector_for_learning(dm_model, test_tag)"
   ]
  },
  {
   "cell_type": "markdown",
   "id": "55172aba",
   "metadata": {},
   "source": [
    "Logistic Regression with DM"
   ]
  },
  {
   "cell_type": "code",
   "execution_count": 23,
   "id": "ffc3e6b9",
   "metadata": {},
   "outputs": [
    {
     "name": "stdout",
     "output_type": "stream",
     "text": [
      "Testing accuracy 0.5427323767935122\n",
      "Testing F1 score: 0.535877725297071\n"
     ]
    },
    {
     "name": "stderr",
     "output_type": "stream",
     "text": [
      "C:\\Users\\bertille.lekeufack\\.conda\\envs\\stage1\\lib\\site-packages\\sklearn\\linear_model\\_logistic.py:763: ConvergenceWarning: lbfgs failed to converge (status=1):\n",
      "STOP: TOTAL NO. of ITERATIONS REACHED LIMIT.\n",
      "\n",
      "Increase the number of iterations (max_iter) or scale the data as shown in:\n",
      "    https://scikit-learn.org/stable/modules/preprocessing.html\n",
      "Please also refer to the documentation for alternative solver options:\n",
      "    https://scikit-learn.org/stable/modules/linear_model.html#logistic-regression\n",
      "  n_iter_i = _check_optimize_result(\n"
     ]
    }
   ],
   "source": [
    "log_reg = LogisticRegression(n_jobs=1, C=5)\n",
    "log_reg.fit(X_train_dm, y_train_dm)\n",
    "pred = log_reg.predict(X_test_dm)\n",
    "\n",
    "print('Testing accuracy %s' % accuracy_score(y_test_dm, pred))\n",
    "print('Testing F1 score: {}'.format(f1_score(y_test_dm, pred, average='weighted')))"
   ]
  },
  {
   "cell_type": "code",
   "execution_count": 24,
   "id": "cb883a55",
   "metadata": {},
   "outputs": [
    {
     "name": "stdout",
     "output_type": "stream",
     "text": [
      "                                                                         precision    recall  f1-score   support\n",
      "\n",
      "                                                      commande de badge       0.59      0.66      0.62       608\n",
      "                                                                contrat       0.43      0.32      0.37       333\n",
      "demande de renseignement,interne Axxès,réclamation qualité de service,a       0.51      0.59      0.55       389\n",
      "                                                  renseignement facture       0.59      0.48      0.53       273\n",
      "\n",
      "                                                               accuracy                           0.54      1603\n",
      "                                                              macro avg       0.53      0.51      0.52      1603\n",
      "                                                           weighted avg       0.54      0.54      0.54      1603\n",
      "\n"
     ]
    }
   ],
   "source": [
    "ytest = np.array(y_test_dm)\n",
    "print(classification_report(ytest, pred))"
   ]
  },
  {
   "cell_type": "code",
   "execution_count": 25,
   "id": "b12b9252",
   "metadata": {},
   "outputs": [
    {
     "name": "stderr",
     "output_type": "stream",
     "text": [
      "C:\\Users\\bertille.lekeufack\\.conda\\envs\\stage1\\lib\\site-packages\\sklearn\\svm\\_base.py:985: ConvergenceWarning: Liblinear failed to converge, increase the number of iterations.\n",
      "  warnings.warn(\"Liblinear failed to converge, increase \"\n"
     ]
    }
   ],
   "source": [
    "svm = LinearSVC()\n",
    "svm.fit(X_train_dm, y_train_dm)\n",
    "pred_y = svm.predict(X_test_dm)"
   ]
  },
  {
   "cell_type": "code",
   "execution_count": 26,
   "id": "57a4d59c",
   "metadata": {},
   "outputs": [
    {
     "name": "stdout",
     "output_type": "stream",
     "text": [
      "Testing accuracy 0.5514660012476607\n",
      "Testing F1 score: 0.5399960593368309\n"
     ]
    }
   ],
   "source": [
    "print('Testing accuracy %s' % accuracy_score(pred_y, y_test_dm))\n",
    "print('Testing F1 score: {}'.format(f1_score(y_test_dm, pred_y, average='weighted')))"
   ]
  },
  {
   "cell_type": "code",
   "execution_count": 27,
   "id": "4dfb71dc",
   "metadata": {},
   "outputs": [
    {
     "name": "stdout",
     "output_type": "stream",
     "text": [
      "                                                                         precision    recall  f1-score   support\n",
      "\n",
      "                                                      commande de badge       0.59      0.71      0.64       608\n",
      "                                                                contrat       0.50      0.30      0.37       333\n",
      "demande de renseignement,interne Axxès,réclamation qualité de service,a       0.50      0.58      0.54       389\n",
      "                                                  renseignement facture       0.58      0.47      0.52       273\n",
      "\n",
      "                                                               accuracy                           0.55      1603\n",
      "                                                              macro avg       0.54      0.51      0.52      1603\n",
      "                                                           weighted avg       0.55      0.55      0.54      1603\n",
      "\n"
     ]
    }
   ],
   "source": [
    "print(classification_report(ytest, pred_y))"
   ]
  },
  {
   "cell_type": "code",
   "execution_count": 28,
   "id": "469fad17",
   "metadata": {},
   "outputs": [
    {
     "name": "stderr",
     "output_type": "stream",
     "text": [
      "C:\\Users\\bertille.lekeufack\\.conda\\envs\\stage1\\lib\\site-packages\\sklearn\\linear_model\\_logistic.py:763: ConvergenceWarning: lbfgs failed to converge (status=1):\n",
      "STOP: TOTAL NO. of ITERATIONS REACHED LIMIT.\n",
      "\n",
      "Increase the number of iterations (max_iter) or scale the data as shown in:\n",
      "    https://scikit-learn.org/stable/modules/preprocessing.html\n",
      "Please also refer to the documentation for alternative solver options:\n",
      "    https://scikit-learn.org/stable/modules/linear_model.html#logistic-regression\n",
      "  n_iter_i = _check_optimize_result(\n",
      "C:\\Users\\bertille.lekeufack\\.conda\\envs\\stage1\\lib\\site-packages\\sklearn\\linear_model\\_logistic.py:763: ConvergenceWarning: lbfgs failed to converge (status=1):\n",
      "STOP: TOTAL NO. of ITERATIONS REACHED LIMIT.\n",
      "\n",
      "Increase the number of iterations (max_iter) or scale the data as shown in:\n",
      "    https://scikit-learn.org/stable/modules/preprocessing.html\n",
      "Please also refer to the documentation for alternative solver options:\n",
      "    https://scikit-learn.org/stable/modules/linear_model.html#logistic-regression\n",
      "  n_iter_i = _check_optimize_result(\n",
      "C:\\Users\\bertille.lekeufack\\.conda\\envs\\stage1\\lib\\site-packages\\sklearn\\linear_model\\_logistic.py:763: ConvergenceWarning: lbfgs failed to converge (status=1):\n",
      "STOP: TOTAL NO. of ITERATIONS REACHED LIMIT.\n",
      "\n",
      "Increase the number of iterations (max_iter) or scale the data as shown in:\n",
      "    https://scikit-learn.org/stable/modules/preprocessing.html\n",
      "Please also refer to the documentation for alternative solver options:\n",
      "    https://scikit-learn.org/stable/modules/linear_model.html#logistic-regression\n",
      "  n_iter_i = _check_optimize_result(\n",
      "C:\\Users\\bertille.lekeufack\\.conda\\envs\\stage1\\lib\\site-packages\\sklearn\\linear_model\\_logistic.py:763: ConvergenceWarning: lbfgs failed to converge (status=1):\n",
      "STOP: TOTAL NO. of ITERATIONS REACHED LIMIT.\n",
      "\n",
      "Increase the number of iterations (max_iter) or scale the data as shown in:\n",
      "    https://scikit-learn.org/stable/modules/preprocessing.html\n",
      "Please also refer to the documentation for alternative solver options:\n",
      "    https://scikit-learn.org/stable/modules/linear_model.html#logistic-regression\n",
      "  n_iter_i = _check_optimize_result(\n",
      "C:\\Users\\bertille.lekeufack\\.conda\\envs\\stage1\\lib\\site-packages\\sklearn\\linear_model\\_logistic.py:763: ConvergenceWarning: lbfgs failed to converge (status=1):\n",
      "STOP: TOTAL NO. of ITERATIONS REACHED LIMIT.\n",
      "\n",
      "Increase the number of iterations (max_iter) or scale the data as shown in:\n",
      "    https://scikit-learn.org/stable/modules/preprocessing.html\n",
      "Please also refer to the documentation for alternative solver options:\n",
      "    https://scikit-learn.org/stable/modules/linear_model.html#logistic-regression\n",
      "  n_iter_i = _check_optimize_result(\n",
      "C:\\Users\\bertille.lekeufack\\.conda\\envs\\stage1\\lib\\site-packages\\sklearn\\linear_model\\_logistic.py:763: ConvergenceWarning: lbfgs failed to converge (status=1):\n",
      "STOP: TOTAL NO. of ITERATIONS REACHED LIMIT.\n",
      "\n",
      "Increase the number of iterations (max_iter) or scale the data as shown in:\n",
      "    https://scikit-learn.org/stable/modules/preprocessing.html\n",
      "Please also refer to the documentation for alternative solver options:\n",
      "    https://scikit-learn.org/stable/modules/linear_model.html#logistic-regression\n",
      "  n_iter_i = _check_optimize_result(\n",
      "C:\\Users\\bertille.lekeufack\\.conda\\envs\\stage1\\lib\\site-packages\\sklearn\\linear_model\\_logistic.py:763: ConvergenceWarning: lbfgs failed to converge (status=1):\n",
      "STOP: TOTAL NO. of ITERATIONS REACHED LIMIT.\n",
      "\n",
      "Increase the number of iterations (max_iter) or scale the data as shown in:\n",
      "    https://scikit-learn.org/stable/modules/preprocessing.html\n",
      "Please also refer to the documentation for alternative solver options:\n",
      "    https://scikit-learn.org/stable/modules/linear_model.html#logistic-regression\n",
      "  n_iter_i = _check_optimize_result(\n",
      "C:\\Users\\bertille.lekeufack\\.conda\\envs\\stage1\\lib\\site-packages\\sklearn\\linear_model\\_logistic.py:763: ConvergenceWarning: lbfgs failed to converge (status=1):\n",
      "STOP: TOTAL NO. of ITERATIONS REACHED LIMIT.\n",
      "\n",
      "Increase the number of iterations (max_iter) or scale the data as shown in:\n",
      "    https://scikit-learn.org/stable/modules/preprocessing.html\n",
      "Please also refer to the documentation for alternative solver options:\n",
      "    https://scikit-learn.org/stable/modules/linear_model.html#logistic-regression\n",
      "  n_iter_i = _check_optimize_result(\n",
      "C:\\Users\\bertille.lekeufack\\.conda\\envs\\stage1\\lib\\site-packages\\sklearn\\linear_model\\_logistic.py:763: ConvergenceWarning: lbfgs failed to converge (status=1):\n",
      "STOP: TOTAL NO. of ITERATIONS REACHED LIMIT.\n",
      "\n",
      "Increase the number of iterations (max_iter) or scale the data as shown in:\n",
      "    https://scikit-learn.org/stable/modules/preprocessing.html\n",
      "Please also refer to the documentation for alternative solver options:\n",
      "    https://scikit-learn.org/stable/modules/linear_model.html#logistic-regression\n",
      "  n_iter_i = _check_optimize_result(\n",
      "C:\\Users\\bertille.lekeufack\\.conda\\envs\\stage1\\lib\\site-packages\\sklearn\\linear_model\\_logistic.py:763: ConvergenceWarning: lbfgs failed to converge (status=1):\n",
      "STOP: TOTAL NO. of ITERATIONS REACHED LIMIT.\n",
      "\n",
      "Increase the number of iterations (max_iter) or scale the data as shown in:\n",
      "    https://scikit-learn.org/stable/modules/preprocessing.html\n",
      "Please also refer to the documentation for alternative solver options:\n",
      "    https://scikit-learn.org/stable/modules/linear_model.html#logistic-regression\n",
      "  n_iter_i = _check_optimize_result(\n",
      "C:\\Users\\bertille.lekeufack\\.conda\\envs\\stage1\\lib\\site-packages\\sklearn\\linear_model\\_logistic.py:763: ConvergenceWarning: lbfgs failed to converge (status=1):\n",
      "STOP: TOTAL NO. of ITERATIONS REACHED LIMIT.\n",
      "\n",
      "Increase the number of iterations (max_iter) or scale the data as shown in:\n",
      "    https://scikit-learn.org/stable/modules/preprocessing.html\n",
      "Please also refer to the documentation for alternative solver options:\n",
      "    https://scikit-learn.org/stable/modules/linear_model.html#logistic-regression\n",
      "  n_iter_i = _check_optimize_result(\n",
      "C:\\Users\\bertille.lekeufack\\.conda\\envs\\stage1\\lib\\site-packages\\sklearn\\linear_model\\_logistic.py:763: ConvergenceWarning: lbfgs failed to converge (status=1):\n",
      "STOP: TOTAL NO. of ITERATIONS REACHED LIMIT.\n",
      "\n",
      "Increase the number of iterations (max_iter) or scale the data as shown in:\n",
      "    https://scikit-learn.org/stable/modules/preprocessing.html\n",
      "Please also refer to the documentation for alternative solver options:\n",
      "    https://scikit-learn.org/stable/modules/linear_model.html#logistic-regression\n",
      "  n_iter_i = _check_optimize_result(\n",
      "C:\\Users\\bertille.lekeufack\\.conda\\envs\\stage1\\lib\\site-packages\\sklearn\\linear_model\\_logistic.py:763: ConvergenceWarning: lbfgs failed to converge (status=1):\n",
      "STOP: TOTAL NO. of ITERATIONS REACHED LIMIT.\n",
      "\n",
      "Increase the number of iterations (max_iter) or scale the data as shown in:\n",
      "    https://scikit-learn.org/stable/modules/preprocessing.html\n",
      "Please also refer to the documentation for alternative solver options:\n",
      "    https://scikit-learn.org/stable/modules/linear_model.html#logistic-regression\n",
      "  n_iter_i = _check_optimize_result(\n",
      "C:\\Users\\bertille.lekeufack\\.conda\\envs\\stage1\\lib\\site-packages\\sklearn\\linear_model\\_logistic.py:763: ConvergenceWarning: lbfgs failed to converge (status=1):\n",
      "STOP: TOTAL NO. of ITERATIONS REACHED LIMIT.\n",
      "\n",
      "Increase the number of iterations (max_iter) or scale the data as shown in:\n",
      "    https://scikit-learn.org/stable/modules/preprocessing.html\n",
      "Please also refer to the documentation for alternative solver options:\n",
      "    https://scikit-learn.org/stable/modules/linear_model.html#logistic-regression\n",
      "  n_iter_i = _check_optimize_result(\n",
      "C:\\Users\\bertille.lekeufack\\.conda\\envs\\stage1\\lib\\site-packages\\sklearn\\linear_model\\_logistic.py:763: ConvergenceWarning: lbfgs failed to converge (status=1):\n",
      "STOP: TOTAL NO. of ITERATIONS REACHED LIMIT.\n",
      "\n",
      "Increase the number of iterations (max_iter) or scale the data as shown in:\n",
      "    https://scikit-learn.org/stable/modules/preprocessing.html\n",
      "Please also refer to the documentation for alternative solver options:\n",
      "    https://scikit-learn.org/stable/modules/linear_model.html#logistic-regression\n",
      "  n_iter_i = _check_optimize_result(\n",
      "C:\\Users\\bertille.lekeufack\\.conda\\envs\\stage1\\lib\\site-packages\\sklearn\\linear_model\\_logistic.py:763: ConvergenceWarning: lbfgs failed to converge (status=1):\n",
      "STOP: TOTAL NO. of ITERATIONS REACHED LIMIT.\n",
      "\n",
      "Increase the number of iterations (max_iter) or scale the data as shown in:\n",
      "    https://scikit-learn.org/stable/modules/preprocessing.html\n",
      "Please also refer to the documentation for alternative solver options:\n",
      "    https://scikit-learn.org/stable/modules/linear_model.html#logistic-regression\n",
      "  n_iter_i = _check_optimize_result(\n"
     ]
    },
    {
     "name": "stderr",
     "output_type": "stream",
     "text": [
      "C:\\Users\\bertille.lekeufack\\.conda\\envs\\stage1\\lib\\site-packages\\sklearn\\linear_model\\_logistic.py:763: ConvergenceWarning: lbfgs failed to converge (status=1):\n",
      "STOP: TOTAL NO. of ITERATIONS REACHED LIMIT.\n",
      "\n",
      "Increase the number of iterations (max_iter) or scale the data as shown in:\n",
      "    https://scikit-learn.org/stable/modules/preprocessing.html\n",
      "Please also refer to the documentation for alternative solver options:\n",
      "    https://scikit-learn.org/stable/modules/linear_model.html#logistic-regression\n",
      "  n_iter_i = _check_optimize_result(\n",
      "C:\\Users\\bertille.lekeufack\\.conda\\envs\\stage1\\lib\\site-packages\\sklearn\\linear_model\\_logistic.py:763: ConvergenceWarning: lbfgs failed to converge (status=1):\n",
      "STOP: TOTAL NO. of ITERATIONS REACHED LIMIT.\n",
      "\n",
      "Increase the number of iterations (max_iter) or scale the data as shown in:\n",
      "    https://scikit-learn.org/stable/modules/preprocessing.html\n",
      "Please also refer to the documentation for alternative solver options:\n",
      "    https://scikit-learn.org/stable/modules/linear_model.html#logistic-regression\n",
      "  n_iter_i = _check_optimize_result(\n",
      "C:\\Users\\bertille.lekeufack\\.conda\\envs\\stage1\\lib\\site-packages\\sklearn\\linear_model\\_logistic.py:763: ConvergenceWarning: lbfgs failed to converge (status=1):\n",
      "STOP: TOTAL NO. of ITERATIONS REACHED LIMIT.\n",
      "\n",
      "Increase the number of iterations (max_iter) or scale the data as shown in:\n",
      "    https://scikit-learn.org/stable/modules/preprocessing.html\n",
      "Please also refer to the documentation for alternative solver options:\n",
      "    https://scikit-learn.org/stable/modules/linear_model.html#logistic-regression\n",
      "  n_iter_i = _check_optimize_result(\n",
      "C:\\Users\\bertille.lekeufack\\.conda\\envs\\stage1\\lib\\site-packages\\sklearn\\linear_model\\_logistic.py:763: ConvergenceWarning: lbfgs failed to converge (status=1):\n",
      "STOP: TOTAL NO. of ITERATIONS REACHED LIMIT.\n",
      "\n",
      "Increase the number of iterations (max_iter) or scale the data as shown in:\n",
      "    https://scikit-learn.org/stable/modules/preprocessing.html\n",
      "Please also refer to the documentation for alternative solver options:\n",
      "    https://scikit-learn.org/stable/modules/linear_model.html#logistic-regression\n",
      "  n_iter_i = _check_optimize_result(\n",
      "C:\\Users\\bertille.lekeufack\\.conda\\envs\\stage1\\lib\\site-packages\\sklearn\\linear_model\\_logistic.py:763: ConvergenceWarning: lbfgs failed to converge (status=1):\n",
      "STOP: TOTAL NO. of ITERATIONS REACHED LIMIT.\n",
      "\n",
      "Increase the number of iterations (max_iter) or scale the data as shown in:\n",
      "    https://scikit-learn.org/stable/modules/preprocessing.html\n",
      "Please also refer to the documentation for alternative solver options:\n",
      "    https://scikit-learn.org/stable/modules/linear_model.html#logistic-regression\n",
      "  n_iter_i = _check_optimize_result(\n",
      "C:\\Users\\bertille.lekeufack\\.conda\\envs\\stage1\\lib\\site-packages\\sklearn\\linear_model\\_logistic.py:763: ConvergenceWarning: lbfgs failed to converge (status=1):\n",
      "STOP: TOTAL NO. of ITERATIONS REACHED LIMIT.\n",
      "\n",
      "Increase the number of iterations (max_iter) or scale the data as shown in:\n",
      "    https://scikit-learn.org/stable/modules/preprocessing.html\n",
      "Please also refer to the documentation for alternative solver options:\n",
      "    https://scikit-learn.org/stable/modules/linear_model.html#logistic-regression\n",
      "  n_iter_i = _check_optimize_result(\n",
      "C:\\Users\\bertille.lekeufack\\.conda\\envs\\stage1\\lib\\site-packages\\sklearn\\linear_model\\_logistic.py:763: ConvergenceWarning: lbfgs failed to converge (status=1):\n",
      "STOP: TOTAL NO. of ITERATIONS REACHED LIMIT.\n",
      "\n",
      "Increase the number of iterations (max_iter) or scale the data as shown in:\n",
      "    https://scikit-learn.org/stable/modules/preprocessing.html\n",
      "Please also refer to the documentation for alternative solver options:\n",
      "    https://scikit-learn.org/stable/modules/linear_model.html#logistic-regression\n",
      "  n_iter_i = _check_optimize_result(\n",
      "C:\\Users\\bertille.lekeufack\\.conda\\envs\\stage1\\lib\\site-packages\\sklearn\\linear_model\\_logistic.py:763: ConvergenceWarning: lbfgs failed to converge (status=1):\n",
      "STOP: TOTAL NO. of ITERATIONS REACHED LIMIT.\n",
      "\n",
      "Increase the number of iterations (max_iter) or scale the data as shown in:\n",
      "    https://scikit-learn.org/stable/modules/preprocessing.html\n",
      "Please also refer to the documentation for alternative solver options:\n",
      "    https://scikit-learn.org/stable/modules/linear_model.html#logistic-regression\n",
      "  n_iter_i = _check_optimize_result(\n",
      "C:\\Users\\bertille.lekeufack\\.conda\\envs\\stage1\\lib\\site-packages\\sklearn\\linear_model\\_logistic.py:763: ConvergenceWarning: lbfgs failed to converge (status=1):\n",
      "STOP: TOTAL NO. of ITERATIONS REACHED LIMIT.\n",
      "\n",
      "Increase the number of iterations (max_iter) or scale the data as shown in:\n",
      "    https://scikit-learn.org/stable/modules/preprocessing.html\n",
      "Please also refer to the documentation for alternative solver options:\n",
      "    https://scikit-learn.org/stable/modules/linear_model.html#logistic-regression\n",
      "  n_iter_i = _check_optimize_result(\n",
      "C:\\Users\\bertille.lekeufack\\.conda\\envs\\stage1\\lib\\site-packages\\sklearn\\linear_model\\_logistic.py:763: ConvergenceWarning: lbfgs failed to converge (status=1):\n",
      "STOP: TOTAL NO. of ITERATIONS REACHED LIMIT.\n",
      "\n",
      "Increase the number of iterations (max_iter) or scale the data as shown in:\n",
      "    https://scikit-learn.org/stable/modules/preprocessing.html\n",
      "Please also refer to the documentation for alternative solver options:\n",
      "    https://scikit-learn.org/stable/modules/linear_model.html#logistic-regression\n",
      "  n_iter_i = _check_optimize_result(\n",
      "C:\\Users\\bertille.lekeufack\\.conda\\envs\\stage1\\lib\\site-packages\\sklearn\\linear_model\\_logistic.py:763: ConvergenceWarning: lbfgs failed to converge (status=1):\n",
      "STOP: TOTAL NO. of ITERATIONS REACHED LIMIT.\n",
      "\n",
      "Increase the number of iterations (max_iter) or scale the data as shown in:\n",
      "    https://scikit-learn.org/stable/modules/preprocessing.html\n",
      "Please also refer to the documentation for alternative solver options:\n",
      "    https://scikit-learn.org/stable/modules/linear_model.html#logistic-regression\n",
      "  n_iter_i = _check_optimize_result(\n"
     ]
    },
    {
     "data": {
      "text/plain": [
       "<matplotlib.legend.Legend at 0x1f561b2efa0>"
      ]
     },
     "execution_count": 28,
     "metadata": {},
     "output_type": "execute_result"
    },
    {
     "data": {
      "image/png": "[encoded data removed]",
      "text/plain": [
       "<Figure size 432x288 with 1 Axes>"
      ]
     },
     "metadata": {
      "needs_background": "light"
     },
     "output_type": "display_data"
    }
   ],
   "source": [
    "from sklearn.model_selection import validation_curve\n",
    "k = np.arange(1, 10)\n",
    "\n",
    "train_score, val_score = validation_curve(log_reg, X_train, y_train, cv=3,param_name='random_state', param_range=k)\n",
    "\n",
    "plt.plot(k, val_score.mean(axis=1), label='validation')\n",
    "plt.plot(k, train_score.mean(axis=1), label='train')\n",
    "\n",
    "plt.ylabel('score')\n",
    "plt.xlabel('n_neighbors')\n",
    "plt.legend()"
   ]
  },
  {
   "cell_type": "code",
   "execution_count": null,
   "id": "1d7eb324",
   "metadata": {},
   "outputs": [],
   "source": [
    "tokens = \"grise\".split()\n",
    "\n",
    "new_vector =dm_model.infer_vector(tokens)\n",
    "sims = dm_model.dv.most_similar([new_vector])"
   ]
  },
  {
   "cell_type": "code",
   "execution_count": null,
   "id": "48ec427c",
   "metadata": {},
   "outputs": [],
   "source": [
    "sims"
   ]
  },
  {
   "cell_type": "code",
   "execution_count": null,
   "id": "6c583107",
   "metadata": {},
   "outputs": [],
   "source": []
  },
  {
   "cell_type": "code",
   "execution_count": null,
   "id": "cffafad7",
   "metadata": {},
   "outputs": [],
   "source": []
  }
 ],
 "metadata": {
  "kernelspec": {
   "display_name": "Python 3",
   "language": "python",
   "name": "python3"
  },
  "language_info": {
   "codemirror_mode": {
    "name": "ipython",
    "version": 3
   },
   "file_extension": ".py",
   "mimetype": "text/x-python",
   "name": "python",
   "nbconvert_exporter": "python",
   "pygments_lexer": "ipython3",
   "version": "3.8.8"
  }
 },
 "nbformat": 4,
 "nbformat_minor": 5
}
