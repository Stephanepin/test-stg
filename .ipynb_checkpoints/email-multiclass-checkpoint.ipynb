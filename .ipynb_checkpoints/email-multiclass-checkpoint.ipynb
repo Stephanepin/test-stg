{
 "cells": [
  {
   "cell_type": "code",
   "execution_count": 1,
   "id": "33b82d41",
   "metadata": {},
   "outputs": [],
   "source": [
    "import numpy as np\n",
    "from numpy import random\n",
    "import gensim\n",
    "import nltk\n",
    "import pandas as pd\n",
    "from sklearn.model_selection import train_test_split\n",
    "from sklearn.feature_extraction.text import CountVectorizer, TfidfVectorizer\n",
    "from sklearn.metrics import accuracy_score, confusion_matrix\n",
    "import matplotlib.pyplot as plt\n",
    "from sklearn.model_selection import cross_val_score\n",
    "from nltk.corpus import stopwords\n",
    "import re\n",
    "%matplotlib inline\n",
    "\n"
   ]
  },
  {
   "cell_type": "code",
   "execution_count": 2,
   "id": "389b61ab",
   "metadata": {},
   "outputs": [],
   "source": [
    "#df=pd.read_excel('final_210504_tous labels.xlsx',engine='openpyxl')\n",
    "df=  pd.read_excel('final_210623_nouveaux labels (1).xlsx',engine='openpyxl')\n",
    "col=['Messages','catégorie']\n",
    "df=df[col]\n",
    "#df=pd.read_csv(\"Consumer_Complaints.csv\")\n",
    "df=df.head(1000)\n",
    "#df = df[pd.notnull(df['catégorie'])]"
   ]
  },
  {
   "cell_type": "code",
   "execution_count": 3,
   "id": "334637eb",
   "metadata": {},
   "outputs": [],
   "source": [
    "#df['Consumer complaint narrative']"
   ]
  },
  {
   "cell_type": "code",
   "execution_count": 4,
   "id": "53d3773f",
   "metadata": {},
   "outputs": [],
   "source": [
    "df = df[pd.notna(df['Messages'])].reset_index(drop=True)"
   ]
  },
  {
   "cell_type": "code",
   "execution_count": 5,
   "id": "7dde67f4",
   "metadata": {},
   "outputs": [
    {
     "name": "stdout",
     "output_type": "stream",
     "text": [
      "<class 'pandas.core.frame.DataFrame'>\n",
      "RangeIndex: 995 entries, 0 to 994\n",
      "Data columns (total 2 columns):\n",
      " #   Column     Non-Null Count  Dtype \n",
      "---  ------     --------------  ----- \n",
      " 0   Messages   995 non-null    object\n",
      " 1   catégorie  995 non-null    object\n",
      "dtypes: object(2)\n",
      "memory usage: 15.7+ KB\n"
     ]
    }
   ],
   "source": [
    "df.info()"
   ]
  },
  {
   "cell_type": "code",
   "execution_count": 6,
   "id": "77341db2",
   "metadata": {},
   "outputs": [],
   "source": [
    "#col = ['Product', 'Consumer complaint narrative']\n",
    "#df = df[col]"
   ]
  },
  {
   "cell_type": "code",
   "execution_count": 7,
   "id": "71902fa7",
   "metadata": {},
   "outputs": [],
   "source": [
    "#df.columns = ['Product', 'Consumer_complaint_narrative']"
   ]
  },
  {
   "cell_type": "code",
   "execution_count": 8,
   "id": "2acb1660",
   "metadata": {},
   "outputs": [],
   "source": [
    "#df['category_id'] = df['Product'].factorize()[0]\n",
    "#from io import StringIO\n",
    "#category_id_df = df[['Product', 'category_id']].drop_duplicates().sort_values('category_id')\n",
    "#category_to_id = dict(category_id_df.values)\n",
    "#id_to_category = dict(category_id_df[['category_id', 'Product']].values)"
   ]
  },
  {
   "cell_type": "code",
   "execution_count": 9,
   "id": "5081aa70",
   "metadata": {},
   "outputs": [],
   "source": [
    "#df=df.rename(columns={\"Product\": \"catégorie\", \"Consumer_complaint_narrative\": \"Messages\"})"
   ]
  },
  {
   "cell_type": "code",
   "execution_count": 10,
   "id": "832c719e",
   "metadata": {},
   "outputs": [
    {
     "data": {
      "text/plain": [
       "array([['contrat'],\n",
       "       ['commande de badge'],\n",
       "       ['badge'],\n",
       "       ['no message'],\n",
       "       ['impayé'],\n",
       "       ['interne Axxès'],\n",
       "       ['renseignement facture'],\n",
       "       ['demande de renseignement'],\n",
       "       ['réclamation qualité de service'],\n",
       "       ['AFM']], dtype=object)"
      ]
     },
     "execution_count": 10,
     "metadata": {},
     "output_type": "execute_result"
    }
   ],
   "source": [
    "pd.DataFrame(df.catégorie.unique()).values"
   ]
  },
  {
   "cell_type": "code",
   "execution_count": 14,
   "id": "07606aab",
   "metadata": {},
   "outputs": [],
   "source": [
    "#df.replace({'catégorie': \n",
    "            # {'commande de badge': 'badge', \n",
    "              # 'renseignement facture': 'demande de renseignement,réclamation qualité de service,impayé,renseignement facture',\n",
    "              #'réclamation qualité de service': 'demande de renseignement,réclamation qualité de service,impayé,renseignement facture',\n",
    "              #'AFM': 'AFM,contrat,interne Axxès',\n",
    "              #'contrat': 'AFM,contrat,interne Axxès',\n",
    "              # 'impayé':'demande de renseignement,réclamation qualité de service,impayé,renseignement facture',\n",
    "              # 'demande de renseignement':'demande de renseignement,réclamation qualité de service,impayé,renseignement facture',\n",
    "               #'no message':'AFM,contrat,interne Axxès',\n",
    "    \n",
    "              #'interne Axxès':'AFM,contrat,interne Axxès'}\n",
    "             # 'impayé,renseignement facture':'demande de renseignement,réclamation qualité de service,impayé,renseignement facture'\n",
    "           #  }}, \n",
    "            #inplace= True)"
   ]
  },
  {
   "cell_type": "code",
   "execution_count": 15,
   "id": "63765ab9",
   "metadata": {},
   "outputs": [],
   "source": [
    "df.replace({'catégorie': \n",
    "             {'commande de badge': 'badge', \n",
    "              'renseignement facture': 'demande de renseignement,contrat,impayé,renseignement facture',\n",
    "             'réclamation qualité de service': 'AFM,réclamation qualité de service',\n",
    "             'AFM': 'AFM,réclamation qualité de service',\n",
    "             'contrat': 'demande de renseignement,contrat,impayé,renseignement facture',\n",
    "              'impayé':'demande de renseignement,contrat,impayé,renseignement facture',\n",
    "              'demande de renseignement':'demande de renseignement,contrat,impayé,renseignement facture',\n",
    "              'no message':'no message,interne Axxès',\n",
    "    \n",
    "              'interne Axxès':'no message,interne Axxès'\n",
    "             # 'impayé,renseignement facture':'demande de renseignement,réclamation qualité de service,impayé,renseignement facture'\n",
    "             }}, \n",
    "            inplace= True)"
   ]
  },
  {
   "cell_type": "code",
   "execution_count": 16,
   "id": "3a8ce381",
   "metadata": {},
   "outputs": [
    {
     "data": {
      "text/plain": [
       "array([['demande de renseignement,contrat,impayé,renseignement facture'],\n",
       "       ['badge'],\n",
       "       ['no message,interne Axxès'],\n",
       "       ['AFM,réclamation qualité de service']], dtype=object)"
      ]
     },
     "execution_count": 16,
     "metadata": {},
     "output_type": "execute_result"
    }
   ],
   "source": [
    "pd.DataFrame(df.catégorie.unique()).values"
   ]
  },
  {
   "cell_type": "code",
   "execution_count": 17,
   "id": "c1c1b03d",
   "metadata": {},
   "outputs": [
    {
     "data": {
      "text/html": [
       "<div>\n",
       "<style scoped>\n",
       "    .dataframe tbody tr th:only-of-type {\n",
       "        vertical-align: middle;\n",
       "    }\n",
       "\n",
       "    .dataframe tbody tr th {\n",
       "        vertical-align: top;\n",
       "    }\n",
       "\n",
       "    .dataframe thead th {\n",
       "        text-align: right;\n",
       "    }\n",
       "</style>\n",
       "<table border=\"1\" class=\"dataframe\">\n",
       "  <thead>\n",
       "    <tr style=\"text-align: right;\">\n",
       "      <th></th>\n",
       "      <th>Messages</th>\n",
       "      <th>catégorie</th>\n",
       "    </tr>\n",
       "  </thead>\n",
       "  <tbody>\n",
       "    <tr>\n",
       "      <th>0</th>\n",
       "      <td>Bonjour,Ci-joint le mandat sepa et le rib.Cord...</td>\n",
       "      <td>demande de renseignement,contrat,impayé,rensei...</td>\n",
       "    </tr>\n",
       "    <tr>\n",
       "      <th>1</th>\n",
       "      <td>DANIEL   GUEGANSOCIETE DES TRANSPORTS GUEGANCl...</td>\n",
       "      <td>badge</td>\n",
       "    </tr>\n",
       "    <tr>\n",
       "      <th>2</th>\n",
       "      <td>Bonjour, J’ai essayé de faire la modification...</td>\n",
       "      <td>badge</td>\n",
       "    </tr>\n",
       "    <tr>\n",
       "      <th>3</th>\n",
       "      <td>Bonjour, merci de me faire un badge avec la gé...</td>\n",
       "      <td>badge</td>\n",
       "    </tr>\n",
       "    <tr>\n",
       "      <th>4</th>\n",
       "      <td>No Message</td>\n",
       "      <td>no message,interne Axxès</td>\n",
       "    </tr>\n",
       "  </tbody>\n",
       "</table>\n",
       "</div>"
      ],
      "text/plain": [
       "                                            Messages  \\\n",
       "0  Bonjour,Ci-joint le mandat sepa et le rib.Cord...   \n",
       "1  DANIEL   GUEGANSOCIETE DES TRANSPORTS GUEGANCl...   \n",
       "2   Bonjour, J’ai essayé de faire la modification...   \n",
       "3  Bonjour, merci de me faire un badge avec la gé...   \n",
       "4                                         No Message   \n",
       "\n",
       "                                           catégorie  \n",
       "0  demande de renseignement,contrat,impayé,rensei...  \n",
       "1                                              badge  \n",
       "2                                              badge  \n",
       "3                                              badge  \n",
       "4                           no message,interne Axxès  "
      ]
     },
     "execution_count": 17,
     "metadata": {},
     "output_type": "execute_result"
    }
   ],
   "source": [
    "df.head()"
   ]
  },
  {
   "cell_type": "code",
   "execution_count": 18,
   "id": "972c0570",
   "metadata": {},
   "outputs": [],
   "source": [
    "#df = df.drop(['Date de création',  'Date de modification','Nom du fichier'], axis=1)"
   ]
  },
  {
   "cell_type": "code",
   "execution_count": 19,
   "id": "b2326f08",
   "metadata": {},
   "outputs": [],
   "source": [
    "df['Messages']=df['Messages'].astype(str)"
   ]
  },
  {
   "cell_type": "code",
   "execution_count": 20,
   "id": "80e3d2b9",
   "metadata": {
    "scrolled": true
   },
   "outputs": [],
   "source": [
    "#print(df.head(10))\n",
    "#print(df['Messages'].apply(lambda x: len(x.split(' '))).sum())\n",
    "msg=df"
   ]
  },
  {
   "cell_type": "code",
   "execution_count": 21,
   "id": "37e78451",
   "metadata": {},
   "outputs": [],
   "source": [
    "#msg['occurence']=0\n",
    "#for i in range(20):\n",
    "  #  ss=msg['Messages'][i].lower()\n",
    "   # msg['occurence'][i]=ss.match(\"Bien à vous\")\n",
    "   # print(msg['occurence'][i])"
   ]
  },
  {
   "cell_type": "code",
   "execution_count": 22,
   "id": "1f261c37",
   "metadata": {},
   "outputs": [
    {
     "name": "stderr",
     "output_type": "stream",
     "text": [
      "<ipython-input-22-281ef9500e06>:4: SettingWithCopyWarning: \n",
      "A value is trying to be set on a copy of a slice from a DataFrame\n",
      "\n",
      "See the caveats in the documentation: https://pandas.pydata.org/pandas-docs/stable/user_guide/indexing.html#returning-a-view-versus-a-copy\n",
      "  msg['occurence'][i]=ss.find(\"cordialement\")\n"
     ]
    }
   ],
   "source": [
    "msg['occurence']=0\n",
    "for i in msg.index:\n",
    "    ss=msg['Messages'][i].lower()\n",
    "    msg['occurence'][i]=ss.find(\"cordialement\")\n",
    "    #if msg['occurence'][i]<0:\n",
    "       # msg['occurence'][i]=ss.find(\"Bien à vous\")\n",
    "        #print(msg['occurence'][i])\n",
    "    \n",
    "    #msg['occurence'][i][0:42]\n",
    "    "
   ]
  },
  {
   "cell_type": "code",
   "execution_count": 23,
   "id": "cb02e2e4",
   "metadata": {},
   "outputs": [
    {
     "data": {
      "text/html": [
       "<div>\n",
       "<style scoped>\n",
       "    .dataframe tbody tr th:only-of-type {\n",
       "        vertical-align: middle;\n",
       "    }\n",
       "\n",
       "    .dataframe tbody tr th {\n",
       "        vertical-align: top;\n",
       "    }\n",
       "\n",
       "    .dataframe thead th {\n",
       "        text-align: right;\n",
       "    }\n",
       "</style>\n",
       "<table border=\"1\" class=\"dataframe\">\n",
       "  <thead>\n",
       "    <tr style=\"text-align: right;\">\n",
       "      <th></th>\n",
       "      <th>Messages</th>\n",
       "      <th>catégorie</th>\n",
       "      <th>occurence</th>\n",
       "    </tr>\n",
       "  </thead>\n",
       "  <tbody>\n",
       "    <tr>\n",
       "      <th>0</th>\n",
       "      <td>Bonjour,Ci-joint le mandat sepa et le rib.Cord...</td>\n",
       "      <td>demande de renseignement,contrat,impayé,rensei...</td>\n",
       "      <td>42</td>\n",
       "    </tr>\n",
       "    <tr>\n",
       "      <th>1</th>\n",
       "      <td>DANIEL   GUEGANSOCIETE DES TRANSPORTS GUEGANCl...</td>\n",
       "      <td>badge</td>\n",
       "      <td>703</td>\n",
       "    </tr>\n",
       "    <tr>\n",
       "      <th>2</th>\n",
       "      <td>Bonjour, J’ai essayé de faire la modification...</td>\n",
       "      <td>badge</td>\n",
       "      <td>489</td>\n",
       "    </tr>\n",
       "    <tr>\n",
       "      <th>3</th>\n",
       "      <td>Bonjour, merci de me faire un badge avec la gé...</td>\n",
       "      <td>badge</td>\n",
       "      <td>420</td>\n",
       "    </tr>\n",
       "    <tr>\n",
       "      <th>4</th>\n",
       "      <td>No Message</td>\n",
       "      <td>no message,interne Axxès</td>\n",
       "      <td>-1</td>\n",
       "    </tr>\n",
       "    <tr>\n",
       "      <th>5</th>\n",
       "      <td>Bonjour, L'appareil 3156490017550003485 a été ...</td>\n",
       "      <td>badge</td>\n",
       "      <td>2462</td>\n",
       "    </tr>\n",
       "    <tr>\n",
       "      <th>6</th>\n",
       "      <td>Bonjour, Je vous envoie ci-joint une demande d...</td>\n",
       "      <td>badge</td>\n",
       "      <td>164</td>\n",
       "    </tr>\n",
       "    <tr>\n",
       "      <th>7</th>\n",
       "      <td>Avec les fichiers … Avec toutes mes excuses. B...</td>\n",
       "      <td>demande de renseignement,contrat,impayé,rensei...</td>\n",
       "      <td>-1</td>\n",
       "    </tr>\n",
       "    <tr>\n",
       "      <th>8</th>\n",
       "      <td>Bonjour,Veuillez trouver ci-jointe la carte gr...</td>\n",
       "      <td>badge</td>\n",
       "      <td>62</td>\n",
       "    </tr>\n",
       "    <tr>\n",
       "      <th>9</th>\n",
       "      <td>No Message</td>\n",
       "      <td>no message,interne Axxès</td>\n",
       "      <td>-1</td>\n",
       "    </tr>\n",
       "    <tr>\n",
       "      <th>10</th>\n",
       "      <td>No Message</td>\n",
       "      <td>no message,interne Axxès</td>\n",
       "      <td>-1</td>\n",
       "    </tr>\n",
       "    <tr>\n",
       "      <th>11</th>\n",
       "      <td>No Message</td>\n",
       "      <td>no message,interne Axxès</td>\n",
       "      <td>-1</td>\n",
       "    </tr>\n",
       "    <tr>\n",
       "      <th>12</th>\n",
       "      <td>No Message</td>\n",
       "      <td>no message,interne Axxès</td>\n",
       "      <td>-1</td>\n",
       "    </tr>\n",
       "    <tr>\n",
       "      <th>13</th>\n",
       "      <td>No Message</td>\n",
       "      <td>no message,interne Axxès</td>\n",
       "      <td>-1</td>\n",
       "    </tr>\n",
       "    <tr>\n",
       "      <th>14</th>\n",
       "      <td>Bonjour, Afin de valider ma commande de badge,...</td>\n",
       "      <td>badge</td>\n",
       "      <td>330</td>\n",
       "    </tr>\n",
       "    <tr>\n",
       "      <th>15</th>\n",
       "      <td>Bonjour Nous vous remettons les justificatifs...</td>\n",
       "      <td>demande de renseignement,contrat,impayé,rensei...</td>\n",
       "      <td>130</td>\n",
       "    </tr>\n",
       "    <tr>\n",
       "      <th>16</th>\n",
       "      <td>Bonjour,  Suite à notre commande N° 000585944,...</td>\n",
       "      <td>badge</td>\n",
       "      <td>118</td>\n",
       "    </tr>\n",
       "    <tr>\n",
       "      <th>17</th>\n",
       "      <td>No Message</td>\n",
       "      <td>no message,interne Axxès</td>\n",
       "      <td>-1</td>\n",
       "    </tr>\n",
       "    <tr>\n",
       "      <th>18</th>\n",
       "      <td>No Message</td>\n",
       "      <td>no message,interne Axxès</td>\n",
       "      <td>-1</td>\n",
       "    </tr>\n",
       "    <tr>\n",
       "      <th>19</th>\n",
       "      <td>Bonjour Madame ABANE Nous sommes toujours dans...</td>\n",
       "      <td>badge</td>\n",
       "      <td>263</td>\n",
       "    </tr>\n",
       "  </tbody>\n",
       "</table>\n",
       "</div>"
      ],
      "text/plain": [
       "                                             Messages  \\\n",
       "0   Bonjour,Ci-joint le mandat sepa et le rib.Cord...   \n",
       "1   DANIEL   GUEGANSOCIETE DES TRANSPORTS GUEGANCl...   \n",
       "2    Bonjour, J’ai essayé de faire la modification...   \n",
       "3   Bonjour, merci de me faire un badge avec la gé...   \n",
       "4                                          No Message   \n",
       "5   Bonjour, L'appareil 3156490017550003485 a été ...   \n",
       "6   Bonjour, Je vous envoie ci-joint une demande d...   \n",
       "7   Avec les fichiers … Avec toutes mes excuses. B...   \n",
       "8   Bonjour,Veuillez trouver ci-jointe la carte gr...   \n",
       "9                                          No Message   \n",
       "10                                         No Message   \n",
       "11                                         No Message   \n",
       "12                                         No Message   \n",
       "13                                         No Message   \n",
       "14  Bonjour, Afin de valider ma commande de badge,...   \n",
       "15   Bonjour Nous vous remettons les justificatifs...   \n",
       "16  Bonjour,  Suite à notre commande N° 000585944,...   \n",
       "17                                         No Message   \n",
       "18                                         No Message   \n",
       "19  Bonjour Madame ABANE Nous sommes toujours dans...   \n",
       "\n",
       "                                            catégorie  occurence  \n",
       "0   demande de renseignement,contrat,impayé,rensei...         42  \n",
       "1                                               badge        703  \n",
       "2                                               badge        489  \n",
       "3                                               badge        420  \n",
       "4                            no message,interne Axxès         -1  \n",
       "5                                               badge       2462  \n",
       "6                                               badge        164  \n",
       "7   demande de renseignement,contrat,impayé,rensei...         -1  \n",
       "8                                               badge         62  \n",
       "9                            no message,interne Axxès         -1  \n",
       "10                           no message,interne Axxès         -1  \n",
       "11                           no message,interne Axxès         -1  \n",
       "12                           no message,interne Axxès         -1  \n",
       "13                           no message,interne Axxès         -1  \n",
       "14                                              badge        330  \n",
       "15  demande de renseignement,contrat,impayé,rensei...        130  \n",
       "16                                              badge        118  \n",
       "17                           no message,interne Axxès         -1  \n",
       "18                           no message,interne Axxès         -1  \n",
       "19                                              badge        263  "
      ]
     },
     "execution_count": 23,
     "metadata": {},
     "output_type": "execute_result"
    }
   ],
   "source": [
    "msg.head(20)"
   ]
  },
  {
   "cell_type": "code",
   "execution_count": 24,
   "id": "721daa67",
   "metadata": {},
   "outputs": [
    {
     "name": "stderr",
     "output_type": "stream",
     "text": [
      "<ipython-input-24-3bb6fb143f04>:4: SettingWithCopyWarning: \n",
      "A value is trying to be set on a copy of a slice from a DataFrame\n",
      "\n",
      "See the caveats in the documentation: https://pandas.pydata.org/pandas-docs/stable/user_guide/indexing.html#returning-a-view-versus-a-copy\n",
      "  msg['text'][i]=msg['Messages'][i][0:msg['occurence'][i]]\n",
      "C:\\Users\\bertille.lekeufack\\AppData\\Roaming\\Python\\Python38\\site-packages\\pandas\\core\\indexing.py:1637: SettingWithCopyWarning: \n",
      "A value is trying to be set on a copy of a slice from a DataFrame\n",
      "\n",
      "See the caveats in the documentation: https://pandas.pydata.org/pandas-docs/stable/user_guide/indexing.html#returning-a-view-versus-a-copy\n",
      "  self._setitem_single_block(indexer, value, name)\n",
      "<ipython-input-24-3bb6fb143f04>:6: SettingWithCopyWarning: \n",
      "A value is trying to be set on a copy of a slice from a DataFrame\n",
      "\n",
      "See the caveats in the documentation: https://pandas.pydata.org/pandas-docs/stable/user_guide/indexing.html#returning-a-view-versus-a-copy\n",
      "  msg['text'][i]=msg['Messages'][i]\n"
     ]
    }
   ],
   "source": [
    "msg['text']=0\n",
    "for i in msg.index:\n",
    "    if msg['occurence'][i]>0:\n",
    "        msg['text'][i]=msg['Messages'][i][0:msg['occurence'][i]]\n",
    "    else:\n",
    "        msg['text'][i]=msg['Messages'][i]\n",
    "         "
   ]
  },
  {
   "cell_type": "code",
   "execution_count": 25,
   "id": "61631087",
   "metadata": {},
   "outputs": [
    {
     "data": {
      "text/html": [
       "<div>\n",
       "<style scoped>\n",
       "    .dataframe tbody tr th:only-of-type {\n",
       "        vertical-align: middle;\n",
       "    }\n",
       "\n",
       "    .dataframe tbody tr th {\n",
       "        vertical-align: top;\n",
       "    }\n",
       "\n",
       "    .dataframe thead th {\n",
       "        text-align: right;\n",
       "    }\n",
       "</style>\n",
       "<table border=\"1\" class=\"dataframe\">\n",
       "  <thead>\n",
       "    <tr style=\"text-align: right;\">\n",
       "      <th></th>\n",
       "      <th>Messages</th>\n",
       "      <th>catégorie</th>\n",
       "      <th>occurence</th>\n",
       "      <th>text</th>\n",
       "    </tr>\n",
       "  </thead>\n",
       "  <tbody>\n",
       "    <tr>\n",
       "      <th>955</th>\n",
       "      <td>No Message</td>\n",
       "      <td>no message,interne Axxès</td>\n",
       "      <td>-1</td>\n",
       "      <td>No Message</td>\n",
       "    </tr>\n",
       "    <tr>\n",
       "      <th>956</th>\n",
       "      <td>Bonjour,Je vous envoie la photo du verso du ba...</td>\n",
       "      <td>badge</td>\n",
       "      <td>98</td>\n",
       "      <td>Bonjour,Je vous envoie la photo du verso du ba...</td>\n",
       "    </tr>\n",
       "    <tr>\n",
       "      <th>957</th>\n",
       "      <td>Bonjour, Pouvez-vous changer le nom de notre e...</td>\n",
       "      <td>demande de renseignement,contrat,impayé,rensei...</td>\n",
       "      <td>256</td>\n",
       "      <td>Bonjour, Pouvez-vous changer le nom de notre e...</td>\n",
       "    </tr>\n",
       "    <tr>\n",
       "      <th>958</th>\n",
       "      <td>No Message</td>\n",
       "      <td>no message,interne Axxès</td>\n",
       "      <td>-1</td>\n",
       "      <td>No Message</td>\n",
       "    </tr>\n",
       "    <tr>\n",
       "      <th>959</th>\n",
       "      <td>Bonjour  Mail destiné au service grand compte....</td>\n",
       "      <td>badge</td>\n",
       "      <td>-1</td>\n",
       "      <td>Bonjour  Mail destiné au service grand compte....</td>\n",
       "    </tr>\n",
       "    <tr>\n",
       "      <th>960</th>\n",
       "      <td>Bonjour Marlene, Peux tu demander une photo du...</td>\n",
       "      <td>no message,interne Axxès</td>\n",
       "      <td>556</td>\n",
       "      <td>Bonjour Marlene, Peux tu demander une photo du...</td>\n",
       "    </tr>\n",
       "    <tr>\n",
       "      <th>961</th>\n",
       "      <td>Client 009911 bonjourVeuillez trouver ci join ...</td>\n",
       "      <td>badge</td>\n",
       "      <td>-1</td>\n",
       "      <td>Client 009911 bonjourVeuillez trouver ci join ...</td>\n",
       "    </tr>\n",
       "    <tr>\n",
       "      <th>962</th>\n",
       "      <td>Bien à vous, ZEGHIB LydiaDirectrice Générale...</td>\n",
       "      <td>badge</td>\n",
       "      <td>1288</td>\n",
       "      <td>Bien à vous, ZEGHIB LydiaDirectrice Générale...</td>\n",
       "    </tr>\n",
       "    <tr>\n",
       "      <th>963</th>\n",
       "      <td>Bonjour, Ci-joint en retour les documents dema...</td>\n",
       "      <td>badge</td>\n",
       "      <td>52</td>\n",
       "      <td>Bonjour, Ci-joint en retour les documents dema...</td>\n",
       "    </tr>\n",
       "    <tr>\n",
       "      <th>964</th>\n",
       "      <td>Bonjour, Oui merci de bien vouloir remplacer l...</td>\n",
       "      <td>badge</td>\n",
       "      <td>88</td>\n",
       "      <td>Bonjour, Oui merci de bien vouloir remplacer l...</td>\n",
       "    </tr>\n",
       "    <tr>\n",
       "      <th>965</th>\n",
       "      <td>Bonjour, J’ai essayé de vous joindre plusieurs...</td>\n",
       "      <td>badge</td>\n",
       "      <td>497</td>\n",
       "      <td>Bonjour, J’ai essayé de vous joindre plusieurs...</td>\n",
       "    </tr>\n",
       "    <tr>\n",
       "      <th>966</th>\n",
       "      <td>Bonjour, Non à mon adresse e-mail svp Bien Cor...</td>\n",
       "      <td>demande de renseignement,contrat,impayé,rensei...</td>\n",
       "      <td>43</td>\n",
       "      <td>Bonjour, Non à mon adresse e-mail svp Bien</td>\n",
       "    </tr>\n",
       "    <tr>\n",
       "      <th>967</th>\n",
       "      <td>Bonjour, Les coordonnés bancaires de notre age...</td>\n",
       "      <td>demande de renseignement,contrat,impayé,rensei...</td>\n",
       "      <td>359</td>\n",
       "      <td>Bonjour, Les coordonnés bancaires de notre age...</td>\n",
       "    </tr>\n",
       "    <tr>\n",
       "      <th>968</th>\n",
       "      <td>Bonjour, Merci de remplacer le badge, il est d...</td>\n",
       "      <td>badge</td>\n",
       "      <td>286</td>\n",
       "      <td>Bonjour, Merci de remplacer le badge, il est d...</td>\n",
       "    </tr>\n",
       "    <tr>\n",
       "      <th>969</th>\n",
       "      <td>No Message</td>\n",
       "      <td>no message,interne Axxès</td>\n",
       "      <td>-1</td>\n",
       "      <td>No Message</td>\n",
       "    </tr>\n",
       "    <tr>\n",
       "      <th>970</th>\n",
       "      <td>Bonjour, Je vous joint 8 CG de nouveaux véhicu...</td>\n",
       "      <td>badge</td>\n",
       "      <td>410</td>\n",
       "      <td>Bonjour, Je vous joint 8 CG de nouveaux véhicu...</td>\n",
       "    </tr>\n",
       "    <tr>\n",
       "      <th>971</th>\n",
       "      <td>GROUPE DUCREUXCLIENT : 000004046CONTRAT PL: 00...</td>\n",
       "      <td>badge</td>\n",
       "      <td>205</td>\n",
       "      <td>GROUPE DUCREUXCLIENT : 000004046CONTRAT PL: 00...</td>\n",
       "    </tr>\n",
       "    <tr>\n",
       "      <th>972</th>\n",
       "      <td>THEVENIN DUCROT DIST. R-ALPES Client n° 000001...</td>\n",
       "      <td>badge</td>\n",
       "      <td>233</td>\n",
       "      <td>THEVENIN DUCROT DIST. R-ALPES Client n° 000001...</td>\n",
       "    </tr>\n",
       "    <tr>\n",
       "      <th>973</th>\n",
       "      <td>Bonjour,  Je n’arrive pas à modifier notre adr...</td>\n",
       "      <td>demande de renseignement,contrat,impayé,rensei...</td>\n",
       "      <td>-1</td>\n",
       "      <td>Bonjour,  Je n’arrive pas à modifier notre adr...</td>\n",
       "    </tr>\n",
       "    <tr>\n",
       "      <th>974</th>\n",
       "      <td>Bonjour,Suite à un contact téléphonique avec u...</td>\n",
       "      <td>badge</td>\n",
       "      <td>472</td>\n",
       "      <td>Bonjour,Suite à un contact téléphonique avec u...</td>\n",
       "    </tr>\n",
       "    <tr>\n",
       "      <th>975</th>\n",
       "      <td>Bonjour, Pour la notification de mise à dispos...</td>\n",
       "      <td>demande de renseignement,contrat,impayé,rensei...</td>\n",
       "      <td>121</td>\n",
       "      <td>Bonjour, Pour la notification de mise à dispos...</td>\n",
       "    </tr>\n",
       "    <tr>\n",
       "      <th>976</th>\n",
       "      <td>Bonjour,Voici les documents remplis pour parti...</td>\n",
       "      <td>demande de renseignement,contrat,impayé,rensei...</td>\n",
       "      <td>76</td>\n",
       "      <td>Bonjour,Voici les documents remplis pour parti...</td>\n",
       "    </tr>\n",
       "    <tr>\n",
       "      <th>977</th>\n",
       "      <td>Bonjour,  Sauf erreur, nous n’avons pas reçues...</td>\n",
       "      <td>demande de renseignement,contrat,impayé,rensei...</td>\n",
       "      <td>-1</td>\n",
       "      <td>Bonjour,  Sauf erreur, nous n’avons pas reçues...</td>\n",
       "    </tr>\n",
       "    <tr>\n",
       "      <th>978</th>\n",
       "      <td>Boa tardeMuito obrigadoCumprimentosJorge Nogue...</td>\n",
       "      <td>badge</td>\n",
       "      <td>1543</td>\n",
       "      <td>Boa tardeMuito obrigadoCumprimentosJorge Nogue...</td>\n",
       "    </tr>\n",
       "    <tr>\n",
       "      <th>979</th>\n",
       "      <td>Bonjour! Je vous renvoie le @ envoyé mardi 15/...</td>\n",
       "      <td>demande de renseignement,contrat,impayé,rensei...</td>\n",
       "      <td>120</td>\n",
       "      <td>Bonjour! Je vous renvoie le @ envoyé mardi 15/...</td>\n",
       "    </tr>\n",
       "    <tr>\n",
       "      <th>980</th>\n",
       "      <td>Bonjour, Après vérification, nous avons trouvé...</td>\n",
       "      <td>demande de renseignement,contrat,impayé,rensei...</td>\n",
       "      <td>190</td>\n",
       "      <td>Bonjour, Après vérification, nous avons trouvé...</td>\n",
       "    </tr>\n",
       "    <tr>\n",
       "      <th>981</th>\n",
       "      <td>Bonjour, Je vous demande de résilier le badge ...</td>\n",
       "      <td>badge</td>\n",
       "      <td>166</td>\n",
       "      <td>Bonjour, Je vous demande de résilier le badge ...</td>\n",
       "    </tr>\n",
       "    <tr>\n",
       "      <th>982</th>\n",
       "      <td>Bonjour,  Ci-joint un bon de commande pour un...</td>\n",
       "      <td>badge</td>\n",
       "      <td>112</td>\n",
       "      <td>Bonjour,  Ci-joint un bon de commande pour un...</td>\n",
       "    </tr>\n",
       "    <tr>\n",
       "      <th>983</th>\n",
       "      <td>Bonjour Conformément à votre demande ci-dessou...</td>\n",
       "      <td>demande de renseignement,contrat,impayé,rensei...</td>\n",
       "      <td>127</td>\n",
       "      <td>Bonjour Conformément à votre demande ci-dessou...</td>\n",
       "    </tr>\n",
       "    <tr>\n",
       "      <th>984</th>\n",
       "      <td>Bonjour Oui c’est bien cela Cordialement MH Ri...</td>\n",
       "      <td>demande de renseignement,contrat,impayé,rensei...</td>\n",
       "      <td>28</td>\n",
       "      <td>Bonjour Oui c’est bien cela</td>\n",
       "    </tr>\n",
       "    <tr>\n",
       "      <th>985</th>\n",
       "      <td>Bonsoir M Rasse,OUP'S, désolée, notre numéro c...</td>\n",
       "      <td>demande de renseignement,contrat,impayé,rensei...</td>\n",
       "      <td>4016</td>\n",
       "      <td>Bonsoir M Rasse,OUP'S, désolée, notre numéro c...</td>\n",
       "    </tr>\n",
       "    <tr>\n",
       "      <th>986</th>\n",
       "      <td>Bonjour, Je viens de passer une commande pour ...</td>\n",
       "      <td>badge</td>\n",
       "      <td>209</td>\n",
       "      <td>Bonjour, Je viens de passer une commande pour ...</td>\n",
       "    </tr>\n",
       "    <tr>\n",
       "      <th>987</th>\n",
       "      <td>Bonjour, Suite à notre conversation téléphoniq...</td>\n",
       "      <td>badge</td>\n",
       "      <td>198</td>\n",
       "      <td>Bonjour, Suite à notre conversation téléphoniq...</td>\n",
       "    </tr>\n",
       "    <tr>\n",
       "      <th>988</th>\n",
       "      <td>Bonjour,Je vous remercie,Cordialement,Pour une...</td>\n",
       "      <td>demande de renseignement,contrat,impayé,rensei...</td>\n",
       "      <td>25</td>\n",
       "      <td>Bonjour,Je vous remercie,</td>\n",
       "    </tr>\n",
       "    <tr>\n",
       "      <th>989</th>\n",
       "      <td>TRANSPORTESMª CORTES AUÑON SLU   B...</td>\n",
       "      <td>demande de renseignement,contrat,impayé,rensei...</td>\n",
       "      <td>-1</td>\n",
       "      <td>TRANSPORTESMª CORTES AUÑON SLU   B...</td>\n",
       "    </tr>\n",
       "    <tr>\n",
       "      <th>990</th>\n",
       "      <td>Bonjour, Merci! Bon Any Nou!!  Granels i Volqu...</td>\n",
       "      <td>demande de renseignement,contrat,impayé,rensei...</td>\n",
       "      <td>504</td>\n",
       "      <td>Bonjour, Merci! Bon Any Nou!!  Granels i Volqu...</td>\n",
       "    </tr>\n",
       "    <tr>\n",
       "      <th>991</th>\n",
       "      <td>Bonjour,Veuillez trouver le document complété ...</td>\n",
       "      <td>demande de renseignement,contrat,impayé,rensei...</td>\n",
       "      <td>62</td>\n",
       "      <td>Bonjour,Veuillez trouver le document complété ...</td>\n",
       "    </tr>\n",
       "    <tr>\n",
       "      <th>992</th>\n",
       "      <td>Bonjour, Je reviens vers vous ce jour afin de ...</td>\n",
       "      <td>badge</td>\n",
       "      <td>439</td>\n",
       "      <td>Bonjour, Je reviens vers vous ce jour afin de ...</td>\n",
       "    </tr>\n",
       "    <tr>\n",
       "      <th>993</th>\n",
       "      <td>Bonsoir Madame, Je vous remercie pour votre ré...</td>\n",
       "      <td>demande de renseignement,contrat,impayé,rensei...</td>\n",
       "      <td>89</td>\n",
       "      <td>Bonsoir Madame, Je vous remercie pour votre ré...</td>\n",
       "    </tr>\n",
       "    <tr>\n",
       "      <th>994</th>\n",
       "      <td>Bonjour,En effet cette adresse est notre adres...</td>\n",
       "      <td>demande de renseignement,contrat,impayé,rensei...</td>\n",
       "      <td>235</td>\n",
       "      <td>Bonjour,En effet cette adresse est notre adres...</td>\n",
       "    </tr>\n",
       "  </tbody>\n",
       "</table>\n",
       "</div>"
      ],
      "text/plain": [
       "                                              Messages  \\\n",
       "955                                         No Message   \n",
       "956  Bonjour,Je vous envoie la photo du verso du ba...   \n",
       "957  Bonjour, Pouvez-vous changer le nom de notre e...   \n",
       "958                                         No Message   \n",
       "959  Bonjour  Mail destiné au service grand compte....   \n",
       "960  Bonjour Marlene, Peux tu demander une photo du...   \n",
       "961  Client 009911 bonjourVeuillez trouver ci join ...   \n",
       "962    Bien à vous, ZEGHIB LydiaDirectrice Générale...   \n",
       "963  Bonjour, Ci-joint en retour les documents dema...   \n",
       "964  Bonjour, Oui merci de bien vouloir remplacer l...   \n",
       "965  Bonjour, J’ai essayé de vous joindre plusieurs...   \n",
       "966  Bonjour, Non à mon adresse e-mail svp Bien Cor...   \n",
       "967  Bonjour, Les coordonnés bancaires de notre age...   \n",
       "968  Bonjour, Merci de remplacer le badge, il est d...   \n",
       "969                                         No Message   \n",
       "970  Bonjour, Je vous joint 8 CG de nouveaux véhicu...   \n",
       "971  GROUPE DUCREUXCLIENT : 000004046CONTRAT PL: 00...   \n",
       "972  THEVENIN DUCROT DIST. R-ALPES Client n° 000001...   \n",
       "973  Bonjour,  Je n’arrive pas à modifier notre adr...   \n",
       "974  Bonjour,Suite à un contact téléphonique avec u...   \n",
       "975  Bonjour, Pour la notification de mise à dispos...   \n",
       "976  Bonjour,Voici les documents remplis pour parti...   \n",
       "977  Bonjour,  Sauf erreur, nous n’avons pas reçues...   \n",
       "978  Boa tardeMuito obrigadoCumprimentosJorge Nogue...   \n",
       "979  Bonjour! Je vous renvoie le @ envoyé mardi 15/...   \n",
       "980  Bonjour, Après vérification, nous avons trouvé...   \n",
       "981  Bonjour, Je vous demande de résilier le badge ...   \n",
       "982   Bonjour,  Ci-joint un bon de commande pour un...   \n",
       "983  Bonjour Conformément à votre demande ci-dessou...   \n",
       "984  Bonjour Oui c’est bien cela Cordialement MH Ri...   \n",
       "985  Bonsoir M Rasse,OUP'S, désolée, notre numéro c...   \n",
       "986  Bonjour, Je viens de passer une commande pour ...   \n",
       "987  Bonjour, Suite à notre conversation téléphoniq...   \n",
       "988  Bonjour,Je vous remercie,Cordialement,Pour une...   \n",
       "989              TRANSPORTESMª CORTES AUÑON SLU   B...   \n",
       "990  Bonjour, Merci! Bon Any Nou!!  Granels i Volqu...   \n",
       "991  Bonjour,Veuillez trouver le document complété ...   \n",
       "992  Bonjour, Je reviens vers vous ce jour afin de ...   \n",
       "993  Bonsoir Madame, Je vous remercie pour votre ré...   \n",
       "994  Bonjour,En effet cette adresse est notre adres...   \n",
       "\n",
       "                                             catégorie  occurence  \\\n",
       "955                           no message,interne Axxès         -1   \n",
       "956                                              badge         98   \n",
       "957  demande de renseignement,contrat,impayé,rensei...        256   \n",
       "958                           no message,interne Axxès         -1   \n",
       "959                                              badge         -1   \n",
       "960                           no message,interne Axxès        556   \n",
       "961                                              badge         -1   \n",
       "962                                              badge       1288   \n",
       "963                                              badge         52   \n",
       "964                                              badge         88   \n",
       "965                                              badge        497   \n",
       "966  demande de renseignement,contrat,impayé,rensei...         43   \n",
       "967  demande de renseignement,contrat,impayé,rensei...        359   \n",
       "968                                              badge        286   \n",
       "969                           no message,interne Axxès         -1   \n",
       "970                                              badge        410   \n",
       "971                                              badge        205   \n",
       "972                                              badge        233   \n",
       "973  demande de renseignement,contrat,impayé,rensei...         -1   \n",
       "974                                              badge        472   \n",
       "975  demande de renseignement,contrat,impayé,rensei...        121   \n",
       "976  demande de renseignement,contrat,impayé,rensei...         76   \n",
       "977  demande de renseignement,contrat,impayé,rensei...         -1   \n",
       "978                                              badge       1543   \n",
       "979  demande de renseignement,contrat,impayé,rensei...        120   \n",
       "980  demande de renseignement,contrat,impayé,rensei...        190   \n",
       "981                                              badge        166   \n",
       "982                                              badge        112   \n",
       "983  demande de renseignement,contrat,impayé,rensei...        127   \n",
       "984  demande de renseignement,contrat,impayé,rensei...         28   \n",
       "985  demande de renseignement,contrat,impayé,rensei...       4016   \n",
       "986                                              badge        209   \n",
       "987                                              badge        198   \n",
       "988  demande de renseignement,contrat,impayé,rensei...         25   \n",
       "989  demande de renseignement,contrat,impayé,rensei...         -1   \n",
       "990  demande de renseignement,contrat,impayé,rensei...        504   \n",
       "991  demande de renseignement,contrat,impayé,rensei...         62   \n",
       "992                                              badge        439   \n",
       "993  demande de renseignement,contrat,impayé,rensei...         89   \n",
       "994  demande de renseignement,contrat,impayé,rensei...        235   \n",
       "\n",
       "                                                  text  \n",
       "955                                         No Message  \n",
       "956  Bonjour,Je vous envoie la photo du verso du ba...  \n",
       "957  Bonjour, Pouvez-vous changer le nom de notre e...  \n",
       "958                                         No Message  \n",
       "959  Bonjour  Mail destiné au service grand compte....  \n",
       "960  Bonjour Marlene, Peux tu demander une photo du...  \n",
       "961  Client 009911 bonjourVeuillez trouver ci join ...  \n",
       "962    Bien à vous, ZEGHIB LydiaDirectrice Générale...  \n",
       "963  Bonjour, Ci-joint en retour les documents dema...  \n",
       "964  Bonjour, Oui merci de bien vouloir remplacer l...  \n",
       "965  Bonjour, J’ai essayé de vous joindre plusieurs...  \n",
       "966        Bonjour, Non à mon adresse e-mail svp Bien   \n",
       "967  Bonjour, Les coordonnés bancaires de notre age...  \n",
       "968  Bonjour, Merci de remplacer le badge, il est d...  \n",
       "969                                         No Message  \n",
       "970  Bonjour, Je vous joint 8 CG de nouveaux véhicu...  \n",
       "971  GROUPE DUCREUXCLIENT : 000004046CONTRAT PL: 00...  \n",
       "972  THEVENIN DUCROT DIST. R-ALPES Client n° 000001...  \n",
       "973  Bonjour,  Je n’arrive pas à modifier notre adr...  \n",
       "974  Bonjour,Suite à un contact téléphonique avec u...  \n",
       "975  Bonjour, Pour la notification de mise à dispos...  \n",
       "976  Bonjour,Voici les documents remplis pour parti...  \n",
       "977  Bonjour,  Sauf erreur, nous n’avons pas reçues...  \n",
       "978  Boa tardeMuito obrigadoCumprimentosJorge Nogue...  \n",
       "979  Bonjour! Je vous renvoie le @ envoyé mardi 15/...  \n",
       "980  Bonjour, Après vérification, nous avons trouvé...  \n",
       "981  Bonjour, Je vous demande de résilier le badge ...  \n",
       "982   Bonjour,  Ci-joint un bon de commande pour un...  \n",
       "983  Bonjour Conformément à votre demande ci-dessou...  \n",
       "984                       Bonjour Oui c’est bien cela   \n",
       "985  Bonsoir M Rasse,OUP'S, désolée, notre numéro c...  \n",
       "986  Bonjour, Je viens de passer une commande pour ...  \n",
       "987  Bonjour, Suite à notre conversation téléphoniq...  \n",
       "988                          Bonjour,Je vous remercie,  \n",
       "989              TRANSPORTESMª CORTES AUÑON SLU   B...  \n",
       "990  Bonjour, Merci! Bon Any Nou!!  Granels i Volqu...  \n",
       "991  Bonjour,Veuillez trouver le document complété ...  \n",
       "992  Bonjour, Je reviens vers vous ce jour afin de ...  \n",
       "993  Bonsoir Madame, Je vous remercie pour votre ré...  \n",
       "994  Bonjour,En effet cette adresse est notre adres...  "
      ]
     },
     "execution_count": 25,
     "metadata": {},
     "output_type": "execute_result"
    }
   ],
   "source": [
    "msg.tail(40)"
   ]
  },
  {
   "cell_type": "code",
   "execution_count": 26,
   "id": "72b1ce9f",
   "metadata": {},
   "outputs": [],
   "source": [
    "#for i in range(20):\n",
    "   # print(msg['text'][i])\n"
   ]
  },
  {
   "cell_type": "code",
   "execution_count": 27,
   "id": "49369ef0",
   "metadata": {},
   "outputs": [
    {
     "name": "stderr",
     "output_type": "stream",
     "text": [
      "<ipython-input-27-c1005549103c>:5: SettingWithCopyWarning: \n",
      "A value is trying to be set on a copy of a slice from a DataFrame\n",
      "\n",
      "See the caveats in the documentation: https://pandas.pydata.org/pandas-docs/stable/user_guide/indexing.html#returning-a-view-versus-a-copy\n",
      "  msg['text'][i]=re.sub('([a-zA-Z0-9_.+-]+@[a-zA-Z0-9-]+\\.[a-zA-Z0-9-.]+)', 'XXXX', str(msg['text'][i]))#email\n",
      "<ipython-input-27-c1005549103c>:7: SettingWithCopyWarning: \n",
      "A value is trying to be set on a copy of a slice from a DataFrame\n",
      "\n",
      "See the caveats in the documentation: https://pandas.pydata.org/pandas-docs/stable/user_guide/indexing.html#returning-a-view-versus-a-copy\n",
      "  msg['text'][i]=re.sub(r\"/\\d{10}|\\+33\\d{9}|\\+33\\s\\d{1}\\s\\d{2}\\s\\d{2}\\s\\d{2}\\s\\d{2}|\\d{2}\\s\\d{2}\\s\\d{2}\\s\\d{2}\\s\\d{2}/g\",' XXXX',str(msg['text'][i]))#phone francais\n",
      "<ipython-input-27-c1005549103c>:8: SettingWithCopyWarning: \n",
      "A value is trying to be set on a copy of a slice from a DataFrame\n",
      "\n",
      "See the caveats in the documentation: https://pandas.pydata.org/pandas-docs/stable/user_guide/indexing.html#returning-a-view-versus-a-copy\n",
      "  msg['text'][i]=re.sub(r'(^(\\+33 |0)[1-6]{1}(([0-9]{2}){4})|((\\s[0-9]{2}){4})|((-[0-9]{2}){4})$)','XXXX',str(msg['text'][i]))\n",
      "<ipython-input-27-c1005549103c>:9: SettingWithCopyWarning: \n",
      "A value is trying to be set on a copy of a slice from a DataFrame\n",
      "\n",
      "See the caveats in the documentation: https://pandas.pydata.org/pandas-docs/stable/user_guide/indexing.html#returning-a-view-versus-a-copy\n",
      "  msg['text'][i]=re.sub(\"((?:\\+\\d{2}[-\\.\\s]??|\\d{4}[-\\.\\s]??)?(?:\\d{3}[-\\.\\s]??\\d{3}[-\\.\\s]??\\d{4}|\\(\\d{3}\\)\\s*\\d{3}[-\\.\\s]??\\d{4}|\\d{3}[-\\.\\s]??\\d{4}))\",'XXXX', str(msg['text'][i]))#phone\n",
      "<ipython-input-27-c1005549103c>:10: SettingWithCopyWarning: \n",
      "A value is trying to be set on a copy of a slice from a DataFrame\n",
      "\n",
      "See the caveats in the documentation: https://pandas.pydata.org/pandas-docs/stable/user_guide/indexing.html#returning-a-view-versus-a-copy\n",
      "  msg['text'][i]=re.sub('\\(?\\d{2}\\)?[-.\\s]?\\d{2}[-.\\s]?\\d{2}[-.\\s]?\\d{2}[-.\\s]?\\d{2}','XXXX',str(msg['text'][i]))\n",
      "<ipython-input-27-c1005549103c>:11: SettingWithCopyWarning: \n",
      "A value is trying to be set on a copy of a slice from a DataFrame\n",
      "\n",
      "See the caveats in the documentation: https://pandas.pydata.org/pandas-docs/stable/user_guide/indexing.html#returning-a-view-versus-a-copy\n",
      "  msg['text'][i]=re.sub('\\(?\\d{2}\\)?[-.\\s]?\\d{2}[-.\\s]?\\d{2}[-.\\s]?\\d{2}[-.\\s]','XXXX',str(msg['text'][i]))\n",
      "<ipython-input-27-c1005549103c>:12: SettingWithCopyWarning: \n",
      "A value is trying to be set on a copy of a slice from a DataFrame\n",
      "\n",
      "See the caveats in the documentation: https://pandas.pydata.org/pandas-docs/stable/user_guide/indexing.html#returning-a-view-versus-a-copy\n",
      "  msg['text'][i]=re.sub('\\(?\\d{1}\\)?[-.\\s]?\\d{2}[-.\\s]?\\d{2}[-.\\s]?\\d{2}[-.\\s]','XXXX',str(msg['text'][i]))\n",
      "<ipython-input-27-c1005549103c>:13: SettingWithCopyWarning: \n",
      "A value is trying to be set on a copy of a slice from a DataFrame\n",
      "\n",
      "See the caveats in the documentation: https://pandas.pydata.org/pandas-docs/stable/user_guide/indexing.html#returning-a-view-versus-a-copy\n",
      "  msg['text'][i]=re.sub('\\(?\\d{2}\\)?[-.\\s]?\\d{5}[-.\\s]?\\d{3}','XXXX',str(msg['text'][i]))\n",
      "<ipython-input-27-c1005549103c>:14: SettingWithCopyWarning: \n",
      "A value is trying to be set on a copy of a slice from a DataFrame\n",
      "\n",
      "See the caveats in the documentation: https://pandas.pydata.org/pandas-docs/stable/user_guide/indexing.html#returning-a-view-versus-a-copy\n",
      "  msg['text'][i]=re.sub('\\(?\\d{1}\\)?[-.\\s]?\\d{2}[-.\\s]?\\d{2}[-.\\s]?\\d{3}','XXXX',str(msg['text'][i]))\n",
      "<ipython-input-27-c1005549103c>:15: SettingWithCopyWarning: \n",
      "A value is trying to be set on a copy of a slice from a DataFrame\n",
      "\n",
      "See the caveats in the documentation: https://pandas.pydata.org/pandas-docs/stable/user_guide/indexing.html#returning-a-view-versus-a-copy\n",
      "  msg['text'][i]=re.sub('\\(?\\d{2}\\)?[-.\\s]?\\d{3}[-.\\s]?\\d{3}[-.\\s]?\\d{3}','XXXX',str(msg['text'][i]))\n",
      "<ipython-input-27-c1005549103c>:18: SettingWithCopyWarning: \n",
      "A value is trying to be set on a copy of a slice from a DataFrame\n",
      "\n",
      "See the caveats in the documentation: https://pandas.pydata.org/pandas-docs/stable/user_guide/indexing.html#returning-a-view-versus-a-copy\n",
      "  msg['text'][i]=re.sub(emoji,' ',str(msg['text'][i]))\n",
      "<ipython-input-27-c1005549103c>:20: SettingWithCopyWarning: \n",
      "A value is trying to be set on a copy of a slice from a DataFrame\n",
      "\n",
      "See the caveats in the documentation: https://pandas.pydata.org/pandas-docs/stable/user_guide/indexing.html#returning-a-view-versus-a-copy\n",
      "  msg['text'][i]= msg['text'][i].replace(\"Avant d\\'imprimer cet e-mail, réfléchissez à l\\'impact sur l\\'environnementBefore you print this mail, think about the impact on the environment\",'')\n",
      "<ipython-input-27-c1005549103c>:23: SettingWithCopyWarning: \n",
      "A value is trying to be set on a copy of a slice from a DataFrame\n",
      "\n",
      "See the caveats in the documentation: https://pandas.pydata.org/pandas-docs/stable/user_guide/indexing.html#returning-a-view-versus-a-copy\n",
      "  msg['text'][i]= msg['text'][i].replace(\"Mail:\",'email')\n",
      "<ipython-input-27-c1005549103c>:24: SettingWithCopyWarning: \n",
      "A value is trying to be set on a copy of a slice from a DataFrame\n",
      "\n",
      "See the caveats in the documentation: https://pandas.pydata.org/pandas-docs/stable/user_guide/indexing.html#returning-a-view-versus-a-copy\n",
      "  msg['text'][i]= msg['text'][i].replace(\"Email:\",'email')\n",
      "<ipython-input-27-c1005549103c>:25: SettingWithCopyWarning: \n",
      "A value is trying to be set on a copy of a slice from a DataFrame\n",
      "\n",
      "See the caveats in the documentation: https://pandas.pydata.org/pandas-docs/stable/user_guide/indexing.html#returning-a-view-versus-a-copy\n",
      "  msg['text'][i]= msg['text'][i].replace(\"E-mail\",'email')\n",
      "<ipython-input-27-c1005549103c>:26: SettingWithCopyWarning: \n",
      "A value is trying to be set on a copy of a slice from a DataFrame\n",
      "\n",
      "See the caveats in the documentation: https://pandas.pydata.org/pandas-docs/stable/user_guide/indexing.html#returning-a-view-versus-a-copy\n",
      "  msg['text'][i]= msg['text'][i].replace(\"Email : \",'email')\n",
      "<ipython-input-27-c1005549103c>:27: SettingWithCopyWarning: \n",
      "A value is trying to be set on a copy of a slice from a DataFrame\n",
      "\n",
      "See the caveats in the documentation: https://pandas.pydata.org/pandas-docs/stable/user_guide/indexing.html#returning-a-view-versus-a-copy\n",
      "  msg['text'][i]= msg['text'][i].replace(\"mail\",'email')\n",
      "<ipython-input-27-c1005549103c>:28: SettingWithCopyWarning: \n",
      "A value is trying to be set on a copy of a slice from a DataFrame\n",
      "\n",
      "See the caveats in the documentation: https://pandas.pydata.org/pandas-docs/stable/user_guide/indexing.html#returning-a-view-versus-a-copy\n",
      "  msg['text'][i]= msg['text'][i].replace(\"Bonjour\",'')\n",
      "<ipython-input-27-c1005549103c>:29: SettingWithCopyWarning: \n",
      "A value is trying to be set on a copy of a slice from a DataFrame\n",
      "\n",
      "See the caveats in the documentation: https://pandas.pydata.org/pandas-docs/stable/user_guide/indexing.html#returning-a-view-versus-a-copy\n",
      "  msg['text'][i]= msg['text'][i].replace(\"-\",'')\n",
      "<ipython-input-27-c1005549103c>:30: SettingWithCopyWarning: \n",
      "A value is trying to be set on a copy of a slice from a DataFrame\n",
      "\n",
      "See the caveats in the documentation: https://pandas.pydata.org/pandas-docs/stable/user_guide/indexing.html#returning-a-view-versus-a-copy\n",
      "  msg['text'][i]=re.sub(r'\\d{3}[-\\.\\s]??\\d{3}[-\\.\\s]??\\d{4}|\\(\\d{3}\\)\\s*\\d{3}[-\\.\\s]??\\d{4}|\\d{3}[-\\.\\s]??\\d{4}','XXXX',str(msg['text'][i]))\n",
      "<ipython-input-27-c1005549103c>:32: SettingWithCopyWarning: \n",
      "A value is trying to be set on a copy of a slice from a DataFrame\n",
      "\n",
      "See the caveats in the documentation: https://pandas.pydata.org/pandas-docs/stable/user_guide/indexing.html#returning-a-view-versus-a-copy\n",
      "  msg['text'][i]= re.sub(\"http[s]?://(?:[a-zA-Z]|[0-9]|[$-_@.&+]|[!*\\(\\),]|(?:%[0-9a-fA-F][0-9a-fA-F]))+\",'XXXX',msg['text'][i])#url\n",
      "<ipython-input-27-c1005549103c>:33: SettingWithCopyWarning: \n",
      "A value is trying to be set on a copy of a slice from a DataFrame\n",
      "\n",
      "See the caveats in the documentation: https://pandas.pydata.org/pandas-docs/stable/user_guide/indexing.html#returning-a-view-versus-a-copy\n",
      "  msg['text'][i]= re.sub('(https?:\\/\\/(?:www\\.|(?!www))[a-zA-Z0-9][a-zA-Z0-9-]+[a-zA-Z0-9]\\.[^\\s]{2,}|www\\.[a-zA-Z0-9][a-zA-Z0-9-]+[a-zA-Z0-9]\\.[^\\s]{2,}|https?:\\/\\/(?:www\\.|(?!www))[a-zA-Z0-9]+\\.[^\\s]{2,}|www\\.[a-zA-Z0-9]+\\.[^\\s]{2,})',' XXXX',str(msg['text'][i]))#url www\n",
      "<ipython-input-27-c1005549103c>:34: SettingWithCopyWarning: \n",
      "A value is trying to be set on a copy of a slice from a DataFrame\n",
      "\n",
      "See the caveats in the documentation: https://pandas.pydata.org/pandas-docs/stable/user_guide/indexing.html#returning-a-view-versus-a-copy\n",
      "  msg['text'][i]= re.sub('Ce message et toutes les Pieces jointes (ci apres : le message) sont etablis a l\\'intention exclusive de ses destinataires et sont confidentiels.Toute utilisation de ce message non conforme a sa destination, toute diffusion ou toute publication totale ou partielle est interdite sauf autorisation prealable.Si vous recevez ce message par erreur, merci de le detruire et d\\' avertir immediatement l\\'expediteur.Les communications sur Internet n\\'etant pas securisees, le Groupe APRR decline toute responsabilite quant au contenu de ce message.This message and all attached documents (hereafter \"the message\") are intended for the exclusive attention of its recipients and are confidential. Any use of this message, for which it was not intended, any distribution or any total or partial publication is prohibited unless previously approved.If you receive this message in error, please destroy it and immediately notify the sender thereof.Since communication by Internet is not secure, Group APRR cannot accept any responsibility regarding the contents of this message.','XXXX ',str(msg['text'][i]))\n",
      "<ipython-input-27-c1005549103c>:36: SettingWithCopyWarning: \n",
      "A value is trying to be set on a copy of a slice from a DataFrame\n",
      "\n",
      "See the caveats in the documentation: https://pandas.pydata.org/pandas-docs/stable/user_guide/indexing.html#returning-a-view-versus-a-copy\n",
      "  msg['text'][i]= re.sub('Ce message est généré automatiquement. Merci de ne pas y répondre.','XXXX',str(msg['text'][i]))\n",
      "<ipython-input-27-c1005549103c>:37: SettingWithCopyWarning: \n",
      "A value is trying to be set on a copy of a slice from a DataFrame\n",
      "\n",
      "See the caveats in the documentation: https://pandas.pydata.org/pandas-docs/stable/user_guide/indexing.html#returning-a-view-versus-a-copy\n",
      "  msg['text'][i]= re.sub('Ce message et toutes les Pieces jointes (ci apres : le message) sont etablis a l\\'intention exclusive de ses destinataires et sont confidentiels.Toute utilisation de ce message non conforme a sa destination, toute diffusion ou toute publication totale ou partielle est interdite sauf autorisation prealable.Si vous recevez ce message par erreur, merci de le detruire et d\\' avertir immediatement l\\'expediteur.Les communications sur Internet n\\'etant pas securisees, le Groupe APRR decline toute responsabilite quant au contenu de ce message.This message and all attached documents (hereafter \"the message\") are intended for the exclusive attention of its recipients and are confidential. Any use of this message, for which it was not intended, any distribution or any total or partial publication is prohibited unless previously approved.If you receive this message in error, please destroy it and immediately notify the sender thereof.Since communication by Internet is not secure, Group APRR cannot accept any responsibility regarding the contents of this message.','XXXX ',str(msg['text'][i]))\n",
      "<ipython-input-27-c1005549103c>:38: SettingWithCopyWarning: \n",
      "A value is trying to be set on a copy of a slice from a DataFrame\n",
      "\n",
      "See the caveats in the documentation: https://pandas.pydata.org/pandas-docs/stable/user_guide/indexing.html#returning-a-view-versus-a-copy\n",
      "  msg['text'][i]= re.sub('This message and any attachments are confidential and intended for the named addressee(s) only.If you have received this message in error, please notify immediately the sender, then deletethe message. Any unauthorized modification, edition, use or dissemination is prohibited.The sender shall not be liable for this message if it has been modified, altered, falsified, infectedby a virus or even edited or disseminated without authorization.','XXXX',str(msg['text'][i]))\n",
      "<ipython-input-27-c1005549103c>:39: SettingWithCopyWarning: \n",
      "A value is trying to be set on a copy of a slice from a DataFrame\n",
      "\n",
      "See the caveats in the documentation: https://pandas.pydata.org/pandas-docs/stable/user_guide/indexing.html#returning-a-view-versus-a-copy\n",
      "  msg['text'][i]= re.sub('This  transmission (message and any attached files) may contain information that is proprietary, privileged and/or confidential to Veolia Environnement and/or its affiliates and is intended exclusively for the person(s) to whom it is addressed. If you are not the intended recipient, please notify the sender by return  and delete all copies of this , including all attachments. Unless expressly authorized, any use, disclosure, publication, retransmission or dissemination of this  and/or of its attachments is strictly prohibited. Ce message electronique et ses fichiers attaches sont strictement confidentiels et peuvent contenir des elements dont Veolia Environnement et/ou l\\'une de ses entites affiliees sont proprietaires. Ils sont donc destines a l\\'usage de leurs seuls destinataires. Si vous avez recu ce message par erreur, merci de le retourner a son emetteur et de le detruire ainsi que toutes les pieces attachees. L\\'utilisation, la divulgation, la publication, la distribution, ou la reproduction non expressement autorisees de ce message et de ses pieces attachees sont interdites.','XXXX ',str(msg['text'][i]))\n",
      "<ipython-input-27-c1005549103c>:40: SettingWithCopyWarning: \n",
      "A value is trying to be set on a copy of a slice from a DataFrame\n",
      "\n",
      "See the caveats in the documentation: https://pandas.pydata.org/pandas-docs/stable/user_guide/indexing.html#returning-a-view-versus-a-copy\n",
      "  msg['text'][i]= re.sub('This  transmission (message and any attached files) may contain information that is proprietary, privileged and/or confidential to Veolia Environnement and/or its affiliates and is intended exclusively for the person(s) to whom it is addressed. If you are not the intended recipient, please notify the sender by return  and delete all copies of this , including all attachments. Unless expressly authorized, any use, disclosure, publication, retransmission or dissemination of this  and/or of its attachments is strictly prohibited.  Ce message electronique et ses fichiers attaches sont strictement confidentiels et peuvent contenir des elements dont Veolia Environnement et/ou l\\'une de ses entites affiliees sont proprietaires. Ils sont donc destines a l\\'usage de leurs seuls destinataires. Si vous avez recu ce message par erreur, merci de le retourner a son emetteur et de le detruire ainsi que toutes les pieces attachees. L\\'utilisation, la divulgation, la publication, la distribution, ou la reproduction non expressement autorisees de ce message et de ses pieces attachees sont interdites.','XXXX ',str(msg['text'][i]))\n",
      "<ipython-input-27-c1005549103c>:41: SettingWithCopyWarning: \n",
      "A value is trying to be set on a copy of a slice from a DataFrame\n",
      "\n",
      "See the caveats in the documentation: https://pandas.pydata.org/pandas-docs/stable/user_guide/indexing.html#returning-a-view-versus-a-copy\n",
      "  msg['text'][i]= re.sub('Le contenu de ce message est strictement réservé à l\\'usage exclusif de son destinataire et contient de l\\'information privilégiée et confidentielle. Toute lecture, divulgation, distribution ou copie non autorisée de cette communication est formellement interdite. Si vous avez reçu cette communication par erreur, veuillez la détruire immédiatement.','XXXX',str(msg['text'][i]))\n",
      "<ipython-input-27-c1005549103c>:42: SettingWithCopyWarning: \n",
      "A value is trying to be set on a copy of a slice from a DataFrame\n",
      "\n",
      "See the caveats in the documentation: https://pandas.pydata.org/pandas-docs/stable/user_guide/indexing.html#returning-a-view-versus-a-copy\n",
      "  msg['text'][i]= re.sub('Ce message et toutes les Pieces jointes (ci apres : le message) sont etablis a l\\'intention exclusive de ses destinataires et sont confidentiels.Toute utilisation de ce message non conforme a sa destination, toute diffusion ou toute publication totale ou partielle est interdite sauf autorisation prealable.Si vous recevez ce message par erreur, merci de le detruire et d\\' avertir immediatement l\\'expediteur.Les communications sur Internet n\\'etant pas securisees, le Groupe APRR decline toute responsabilite quant au contenu de ce message.This message and all attached documents (hereafter \"the message\") are intended for the exclusive attention of its recipients and are confidential. Any use of this message, for which it was not intended, any distribution or any total or partial publication is prohibited unless previously approved.If you receive this message in error, please destroy it and immediately notify the sender thereof.Since communication by Internet is not secure, Group APRR cannot accept any responsibility regarding the contents of this message.','XXXX ',str(msg['text'][i]))\n",
      "<ipython-input-27-c1005549103c>:43: SettingWithCopyWarning: \n",
      "A value is trying to be set on a copy of a slice from a DataFrame\n",
      "\n",
      "See the caveats in the documentation: https://pandas.pydata.org/pandas-docs/stable/user_guide/indexing.html#returning-a-view-versus-a-copy\n",
      "  msg['text'][i]= re.sub('Ce message et les pièces jointes sont confidentiels et établis à l\\'attention exclusive de ses destinataires. Toute utilisation ou diffusion, même partielle, non autorisée est interdite. Tout message électronique est susceptible d\\'altération. Brink\\'s décline toute responsabilité au titre de ce message s\\'il a été altéré, déformé ou falsifié. Si vous n\\'êtes pas le destinataire de ce message, merci de le détruire et d\\'avertir l\\'expéditeur. This message and any attachments are confidential and intended solely for the addressees. Any unauthorized use or disclosure, either whole or partial is prohibited. E-s are susceptible to alteration. Brink\\'s shall not be liable for the message if altered, changed or falsified. If you are not the intended recipient of this message, please delete it and notify the sender.','XXXX ',str(msg['text'][i]))\n",
      "<ipython-input-27-c1005549103c>:44: SettingWithCopyWarning: \n",
      "A value is trying to be set on a copy of a slice from a DataFrame\n",
      "\n",
      "See the caveats in the documentation: https://pandas.pydata.org/pandas-docs/stable/user_guide/indexing.html#returning-a-view-versus-a-copy\n",
      "  msg['text'][i]= re.sub('Ce message et toutes les Pieces jointes (ci apres : le message) sont etablis a l\\'intention exclusive de ses destinataires et sont confidentiels.Toute utilisation de ce message non conforme a sa destination, toute diffusion ou toute publication totale ou partielle est interdite sauf autorisation prealable.Si vous recevez ce message par erreur, merci de le detruire et d\\' avertir immediatement l\\'expediteur.Les communications sur Internet n\\'etant pas securisees, le Groupe APRR decline toute responsabilite quant au contenu de ce message.','XXXX',str(msg['text'][i]))\n"
     ]
    }
   ],
   "source": [
    "tab=[]\n",
    "\n",
    "for i in msg.index:\n",
    "    \n",
    "    msg['text'][i]=re.sub('([a-zA-Z0-9_.+-]+@[a-zA-Z0-9-]+\\.[a-zA-Z0-9-.]+)', 'XXXX', str(msg['text'][i]))#email\n",
    "    #phone\n",
    "    msg['text'][i]=re.sub(r\"/\\d{10}|\\+33\\d{9}|\\+33\\s\\d{1}\\s\\d{2}\\s\\d{2}\\s\\d{2}\\s\\d{2}|\\d{2}\\s\\d{2}\\s\\d{2}\\s\\d{2}\\s\\d{2}/g\",' XXXX',str(msg['text'][i]))#phone francais\n",
    "    msg['text'][i]=re.sub(r'(^(\\+33 |0)[1-6]{1}(([0-9]{2}){4})|((\\s[0-9]{2}){4})|((-[0-9]{2}){4})$)','XXXX',str(msg['text'][i]))\n",
    "    msg['text'][i]=re.sub(\"((?:\\+\\d{2}[-\\.\\s]??|\\d{4}[-\\.\\s]??)?(?:\\d{3}[-\\.\\s]??\\d{3}[-\\.\\s]??\\d{4}|\\(\\d{3}\\)\\s*\\d{3}[-\\.\\s]??\\d{4}|\\d{3}[-\\.\\s]??\\d{4}))\",'XXXX', str(msg['text'][i]))#phone\n",
    "    msg['text'][i]=re.sub('\\(?\\d{2}\\)?[-.\\s]?\\d{2}[-.\\s]?\\d{2}[-.\\s]?\\d{2}[-.\\s]?\\d{2}','XXXX',str(msg['text'][i]))\n",
    "    msg['text'][i]=re.sub('\\(?\\d{2}\\)?[-.\\s]?\\d{2}[-.\\s]?\\d{2}[-.\\s]?\\d{2}[-.\\s]','XXXX',str(msg['text'][i]))\n",
    "    msg['text'][i]=re.sub('\\(?\\d{1}\\)?[-.\\s]?\\d{2}[-.\\s]?\\d{2}[-.\\s]?\\d{2}[-.\\s]','XXXX',str(msg['text'][i]))\n",
    "    msg['text'][i]=re.sub('\\(?\\d{2}\\)?[-.\\s]?\\d{5}[-.\\s]?\\d{3}','XXXX',str(msg['text'][i]))\n",
    "    msg['text'][i]=re.sub('\\(?\\d{1}\\)?[-.\\s]?\\d{2}[-.\\s]?\\d{2}[-.\\s]?\\d{3}','XXXX',str(msg['text'][i]))\n",
    "    msg['text'][i]=re.sub('\\(?\\d{2}\\)?[-.\\s]?\\d{3}[-.\\s]?\\d{3}[-.\\s]?\\d{3}','XXXX',str(msg['text'][i]))\n",
    "    #Emoji\n",
    "    emoji= re.compile(u'['u'\\U0001F300-\\U0001F64F'u'\\U0001F680-\\U0001F6FF'u'\\u2600-\\u26FF\\u2700-\\u27BF]+', re.UNICODE)\n",
    "    msg['text'][i]=re.sub(emoji,' ',str(msg['text'][i]))\n",
    "    #text\n",
    "    msg['text'][i]= msg['text'][i].replace(\"Avant d\\'imprimer cet e-mail, réfléchissez à l\\'impact sur l\\'environnementBefore you print this mail, think about the impact on the environment\",'')\n",
    "    dele = [\"Mail:\",\"Email:\",\"e-mail\",\"Email : \",\"mail\",\"Tél : +\",\"Fax : +\",\"tél.: + ()\",\"port.: + () \",\"fax.: + ()\"]\n",
    "    #df['Text'][i]= df['Text'][i].replace(dele,'')\n",
    "    msg['text'][i]= msg['text'][i].replace(\"Mail:\",'email')\n",
    "    msg['text'][i]= msg['text'][i].replace(\"Email:\",'email')\n",
    "    msg['text'][i]= msg['text'][i].replace(\"E-mail\",'email')\n",
    "    msg['text'][i]= msg['text'][i].replace(\"Email : \",'email')\n",
    "    msg['text'][i]= msg['text'][i].replace(\"mail\",'email')\n",
    "    msg['text'][i]= msg['text'][i].replace(\"Bonjour\",'')\n",
    "    msg['text'][i]= msg['text'][i].replace(\"-\",'')\n",
    "    msg['text'][i]=re.sub(r'\\d{3}[-\\.\\s]??\\d{3}[-\\.\\s]??\\d{4}|\\(\\d{3}\\)\\s*\\d{3}[-\\.\\s]??\\d{4}|\\d{3}[-\\.\\s]??\\d{4}','XXXX',str(msg['text'][i]))\n",
    "    #df['Text'][i]=re.sub(r'\\d+','',str(df['Text'][i]))#Tél : +      Fax : +, tél.: + ()       fax.: + ()      port.: + () \n",
    "    msg['text'][i]= re.sub(\"http[s]?://(?:[a-zA-Z]|[0-9]|[$-_@.&+]|[!*\\(\\),]|(?:%[0-9a-fA-F][0-9a-fA-F]))+\",'XXXX',msg['text'][i])#url\n",
    "    msg['text'][i]= re.sub('(https?:\\/\\/(?:www\\.|(?!www))[a-zA-Z0-9][a-zA-Z0-9-]+[a-zA-Z0-9]\\.[^\\s]{2,}|www\\.[a-zA-Z0-9][a-zA-Z0-9-]+[a-zA-Z0-9]\\.[^\\s]{2,}|https?:\\/\\/(?:www\\.|(?!www))[a-zA-Z0-9]+\\.[^\\s]{2,}|www\\.[a-zA-Z0-9]+\\.[^\\s]{2,})',' XXXX',str(msg['text'][i]))#url www\n",
    "    msg['text'][i]= re.sub('Ce message et toutes les Pieces jointes (ci apres : le message) sont etablis a l\\'intention exclusive de ses destinataires et sont confidentiels.Toute utilisation de ce message non conforme a sa destination, toute diffusion ou toute publication totale ou partielle est interdite sauf autorisation prealable.Si vous recevez ce message par erreur, merci de le detruire et d\\' avertir immediatement l\\'expediteur.Les communications sur Internet n\\'etant pas securisees, le Groupe APRR decline toute responsabilite quant au contenu de ce message.This message and all attached documents (hereafter \"the message\") are intended for the exclusive attention of its recipients and are confidential. Any use of this message, for which it was not intended, any distribution or any total or partial publication is prohibited unless previously approved.If you receive this message in error, please destroy it and immediately notify the sender thereof.Since communication by Internet is not secure, Group APRR cannot accept any responsibility regarding the contents of this message.','XXXX ',str(msg['text'][i]))\n",
    "    #df['Text'][i]= re.sub('SCAN <>Cet  a été envoyé par \"copieurRICOH\" (MP C3004ex).Date de numérisation: 07.08.2020 17:17:25 (+0200)Contacter si besoin :  ','',str(df['Text'][i]))\n",
    "    msg['text'][i]= re.sub('Ce message est généré automatiquement. Merci de ne pas y répondre.','XXXX',str(msg['text'][i]))\n",
    "    msg['text'][i]= re.sub('Ce message et toutes les Pieces jointes (ci apres : le message) sont etablis a l\\'intention exclusive de ses destinataires et sont confidentiels.Toute utilisation de ce message non conforme a sa destination, toute diffusion ou toute publication totale ou partielle est interdite sauf autorisation prealable.Si vous recevez ce message par erreur, merci de le detruire et d\\' avertir immediatement l\\'expediteur.Les communications sur Internet n\\'etant pas securisees, le Groupe APRR decline toute responsabilite quant au contenu de ce message.This message and all attached documents (hereafter \"the message\") are intended for the exclusive attention of its recipients and are confidential. Any use of this message, for which it was not intended, any distribution or any total or partial publication is prohibited unless previously approved.If you receive this message in error, please destroy it and immediately notify the sender thereof.Since communication by Internet is not secure, Group APRR cannot accept any responsibility regarding the contents of this message.','XXXX ',str(msg['text'][i]))\n",
    "    msg['text'][i]= re.sub('This message and any attachments are confidential and intended for the named addressee(s) only.If you have received this message in error, please notify immediately the sender, then deletethe message. Any unauthorized modification, edition, use or dissemination is prohibited.The sender shall not be liable for this message if it has been modified, altered, falsified, infectedby a virus or even edited or disseminated without authorization.','XXXX',str(msg['text'][i]))\n",
    "    msg['text'][i]= re.sub('This  transmission (message and any attached files) may contain information that is proprietary, privileged and/or confidential to Veolia Environnement and/or its affiliates and is intended exclusively for the person(s) to whom it is addressed. If you are not the intended recipient, please notify the sender by return  and delete all copies of this , including all attachments. Unless expressly authorized, any use, disclosure, publication, retransmission or dissemination of this  and/or of its attachments is strictly prohibited. Ce message electronique et ses fichiers attaches sont strictement confidentiels et peuvent contenir des elements dont Veolia Environnement et/ou l\\'une de ses entites affiliees sont proprietaires. Ils sont donc destines a l\\'usage de leurs seuls destinataires. Si vous avez recu ce message par erreur, merci de le retourner a son emetteur et de le detruire ainsi que toutes les pieces attachees. L\\'utilisation, la divulgation, la publication, la distribution, ou la reproduction non expressement autorisees de ce message et de ses pieces attachees sont interdites.','XXXX ',str(msg['text'][i]))\n",
    "    msg['text'][i]= re.sub('This  transmission (message and any attached files) may contain information that is proprietary, privileged and/or confidential to Veolia Environnement and/or its affiliates and is intended exclusively for the person(s) to whom it is addressed. If you are not the intended recipient, please notify the sender by return  and delete all copies of this , including all attachments. Unless expressly authorized, any use, disclosure, publication, retransmission or dissemination of this  and/or of its attachments is strictly prohibited.  Ce message electronique et ses fichiers attaches sont strictement confidentiels et peuvent contenir des elements dont Veolia Environnement et/ou l\\'une de ses entites affiliees sont proprietaires. Ils sont donc destines a l\\'usage de leurs seuls destinataires. Si vous avez recu ce message par erreur, merci de le retourner a son emetteur et de le detruire ainsi que toutes les pieces attachees. L\\'utilisation, la divulgation, la publication, la distribution, ou la reproduction non expressement autorisees de ce message et de ses pieces attachees sont interdites.','XXXX ',str(msg['text'][i]))\n",
    "    msg['text'][i]= re.sub('Le contenu de ce message est strictement réservé à l\\'usage exclusif de son destinataire et contient de l\\'information privilégiée et confidentielle. Toute lecture, divulgation, distribution ou copie non autorisée de cette communication est formellement interdite. Si vous avez reçu cette communication par erreur, veuillez la détruire immédiatement.','XXXX',str(msg['text'][i]))\n",
    "    msg['text'][i]= re.sub('Ce message et toutes les Pieces jointes (ci apres : le message) sont etablis a l\\'intention exclusive de ses destinataires et sont confidentiels.Toute utilisation de ce message non conforme a sa destination, toute diffusion ou toute publication totale ou partielle est interdite sauf autorisation prealable.Si vous recevez ce message par erreur, merci de le detruire et d\\' avertir immediatement l\\'expediteur.Les communications sur Internet n\\'etant pas securisees, le Groupe APRR decline toute responsabilite quant au contenu de ce message.This message and all attached documents (hereafter \"the message\") are intended for the exclusive attention of its recipients and are confidential. Any use of this message, for which it was not intended, any distribution or any total or partial publication is prohibited unless previously approved.If you receive this message in error, please destroy it and immediately notify the sender thereof.Since communication by Internet is not secure, Group APRR cannot accept any responsibility regarding the contents of this message.','XXXX ',str(msg['text'][i]))\n",
    "    msg['text'][i]= re.sub('Ce message et les pièces jointes sont confidentiels et établis à l\\'attention exclusive de ses destinataires. Toute utilisation ou diffusion, même partielle, non autorisée est interdite. Tout message électronique est susceptible d\\'altération. Brink\\'s décline toute responsabilité au titre de ce message s\\'il a été altéré, déformé ou falsifié. Si vous n\\'êtes pas le destinataire de ce message, merci de le détruire et d\\'avertir l\\'expéditeur. This message and any attachments are confidential and intended solely for the addressees. Any unauthorized use or disclosure, either whole or partial is prohibited. E-s are susceptible to alteration. Brink\\'s shall not be liable for the message if altered, changed or falsified. If you are not the intended recipient of this message, please delete it and notify the sender.','XXXX ',str(msg['text'][i]))\n",
    "    msg['text'][i]= re.sub('Ce message et toutes les Pieces jointes (ci apres : le message) sont etablis a l\\'intention exclusive de ses destinataires et sont confidentiels.Toute utilisation de ce message non conforme a sa destination, toute diffusion ou toute publication totale ou partielle est interdite sauf autorisation prealable.Si vous recevez ce message par erreur, merci de le detruire et d\\' avertir immediatement l\\'expediteur.Les communications sur Internet n\\'etant pas securisees, le Groupe APRR decline toute responsabilite quant au contenu de ce message.','XXXX',str(msg['text'][i]))\n",
    "    \n",
    "    #print(msg['Messages'][i])\n",
    "#msg.to_excel(\"message_traité1.xlsx\", index = False)"
   ]
  },
  {
   "cell_type": "code",
   "execution_count": 28,
   "id": "faa03bc5",
   "metadata": {},
   "outputs": [],
   "source": [
    "from langdetect import detect"
   ]
  },
  {
   "cell_type": "code",
   "execution_count": 29,
   "id": "5062c807",
   "metadata": {},
   "outputs": [
    {
     "name": "stdout",
     "output_type": "stream",
     "text": [
      "This row throws error:   \n",
      "This row throws error:    \n",
      "This row throws error:   \n",
      "This row throws error:   \n",
      "This row throws error:  \n",
      "This row throws error:     \n",
      "This row throws error:   \n",
      "This row throws error:   \n",
      "This row throws error:   \n",
      "This row throws error: ‌\n"
     ]
    }
   ],
   "source": [
    "texl70 = msg['text']\n",
    "langdet = []\n",
    "    \n",
    "for i in range(len(msg)):                                         \n",
    "    try:                                                          \n",
    "        lang=detect(texl70[i])                                      \n",
    "    except:                                                       \n",
    "        lang=''                                                  \n",
    "        print(\"This row throws error:\", texl70[i])                 \n",
    "    langdet.append(lang)     "
   ]
  },
  {
   "cell_type": "code",
   "execution_count": 30,
   "id": "aefff6d8",
   "metadata": {},
   "outputs": [
    {
     "data": {
      "text/html": [
       "<div>\n",
       "<style scoped>\n",
       "    .dataframe tbody tr th:only-of-type {\n",
       "        vertical-align: middle;\n",
       "    }\n",
       "\n",
       "    .dataframe tbody tr th {\n",
       "        vertical-align: top;\n",
       "    }\n",
       "\n",
       "    .dataframe thead th {\n",
       "        text-align: right;\n",
       "    }\n",
       "</style>\n",
       "<table border=\"1\" class=\"dataframe\">\n",
       "  <thead>\n",
       "    <tr style=\"text-align: right;\">\n",
       "      <th></th>\n",
       "      <th>Messages</th>\n",
       "      <th>catégorie</th>\n",
       "      <th>occurence</th>\n",
       "      <th>text</th>\n",
       "      <th>lang</th>\n",
       "    </tr>\n",
       "  </thead>\n",
       "  <tbody>\n",
       "    <tr>\n",
       "      <th>0</th>\n",
       "      <td>Bonjour,Ci-joint le mandat sepa et le rib.Cord...</td>\n",
       "      <td>demande de renseignement,contrat,impayé,rensei...</td>\n",
       "      <td>42</td>\n",
       "      <td>,Cijoint le mandat sepa et le rib.</td>\n",
       "      <td>fr</td>\n",
       "    </tr>\n",
       "    <tr>\n",
       "      <th>1</th>\n",
       "      <td>DANIEL   GUEGANSOCIETE DES TRANSPORTS GUEGANCl...</td>\n",
       "      <td>badge</td>\n",
       "      <td>703</td>\n",
       "      <td>DANIEL   GUEGANSOCIETE DES TRANSPORTS GUEGANCl...</td>\n",
       "      <td>fr</td>\n",
       "    </tr>\n",
       "    <tr>\n",
       "      <th>2</th>\n",
       "      <td>Bonjour, J’ai essayé de faire la modification...</td>\n",
       "      <td>badge</td>\n",
       "      <td>489</td>\n",
       "      <td>, J’ai essayé de faire la modification du bad...</td>\n",
       "      <td>fr</td>\n",
       "    </tr>\n",
       "    <tr>\n",
       "      <th>3</th>\n",
       "      <td>Bonjour, merci de me faire un badge avec la gé...</td>\n",
       "      <td>badge</td>\n",
       "      <td>420</td>\n",
       "      <td>, merci de me faire un badge avec la géolocali...</td>\n",
       "      <td>fr</td>\n",
       "    </tr>\n",
       "    <tr>\n",
       "      <th>4</th>\n",
       "      <td>No Message</td>\n",
       "      <td>no message,interne Axxès</td>\n",
       "      <td>-1</td>\n",
       "      <td>No Message</td>\n",
       "      <td>de</td>\n",
       "    </tr>\n",
       "  </tbody>\n",
       "</table>\n",
       "</div>"
      ],
      "text/plain": [
       "                                            Messages  \\\n",
       "0  Bonjour,Ci-joint le mandat sepa et le rib.Cord...   \n",
       "1  DANIEL   GUEGANSOCIETE DES TRANSPORTS GUEGANCl...   \n",
       "2   Bonjour, J’ai essayé de faire la modification...   \n",
       "3  Bonjour, merci de me faire un badge avec la gé...   \n",
       "4                                         No Message   \n",
       "\n",
       "                                           catégorie  occurence  \\\n",
       "0  demande de renseignement,contrat,impayé,rensei...         42   \n",
       "1                                              badge        703   \n",
       "2                                              badge        489   \n",
       "3                                              badge        420   \n",
       "4                           no message,interne Axxès         -1   \n",
       "\n",
       "                                                text lang  \n",
       "0                 ,Cijoint le mandat sepa et le rib.   fr  \n",
       "1  DANIEL   GUEGANSOCIETE DES TRANSPORTS GUEGANCl...   fr  \n",
       "2   , J’ai essayé de faire la modification du bad...   fr  \n",
       "3  , merci de me faire un badge avec la géolocali...   fr  \n",
       "4                                         No Message   de  "
      ]
     },
     "execution_count": 30,
     "metadata": {},
     "output_type": "execute_result"
    }
   ],
   "source": [
    "msg['lang']=langdet\n",
    "msg.head()"
   ]
  },
  {
   "cell_type": "code",
   "execution_count": 31,
   "id": "e73792ad",
   "metadata": {},
   "outputs": [
    {
     "data": {
      "text/plain": [
       "(633, 5)"
      ]
     },
     "execution_count": 31,
     "metadata": {},
     "output_type": "execute_result"
    }
   ],
   "source": [
    "msg=msg.loc[msg['lang']=='fr']\n",
    "msg.shape"
   ]
  },
  {
   "cell_type": "code",
   "execution_count": 32,
   "id": "44fe5daa",
   "metadata": {},
   "outputs": [
    {
     "data": {
      "text/plain": [
       "array([['demande de renseignement,contrat,impayé,renseignement facture'],\n",
       "       ['badge'],\n",
       "       ['no message,interne Axxès'],\n",
       "       ['AFM,réclamation qualité de service']], dtype=object)"
      ]
     },
     "execution_count": 32,
     "metadata": {},
     "output_type": "execute_result"
    }
   ],
   "source": [
    "pd.DataFrame(msg.catégorie.unique()).values"
   ]
  },
  {
   "cell_type": "code",
   "execution_count": 33,
   "id": "58e8d175",
   "metadata": {},
   "outputs": [
    {
     "data": {
      "text/html": [
       "<div>\n",
       "<style scoped>\n",
       "    .dataframe tbody tr th:only-of-type {\n",
       "        vertical-align: middle;\n",
       "    }\n",
       "\n",
       "    .dataframe tbody tr th {\n",
       "        vertical-align: top;\n",
       "    }\n",
       "\n",
       "    .dataframe thead th {\n",
       "        text-align: right;\n",
       "    }\n",
       "</style>\n",
       "<table border=\"1\" class=\"dataframe\">\n",
       "  <thead>\n",
       "    <tr style=\"text-align: right;\">\n",
       "      <th></th>\n",
       "      <th>Messages</th>\n",
       "      <th>catégorie</th>\n",
       "      <th>occurence</th>\n",
       "      <th>text</th>\n",
       "      <th>lang</th>\n",
       "    </tr>\n",
       "  </thead>\n",
       "  <tbody>\n",
       "    <tr>\n",
       "      <th>0</th>\n",
       "      <td>Bonjour,Ci-joint le mandat sepa et le rib.Cord...</td>\n",
       "      <td>demande de renseignement,contrat,impayé,rensei...</td>\n",
       "      <td>42</td>\n",
       "      <td>,Cijoint le mandat sepa et le rib.</td>\n",
       "      <td>fr</td>\n",
       "    </tr>\n",
       "    <tr>\n",
       "      <th>1</th>\n",
       "      <td>DANIEL   GUEGANSOCIETE DES TRANSPORTS GUEGANCl...</td>\n",
       "      <td>badge</td>\n",
       "      <td>703</td>\n",
       "      <td>DANIEL   GUEGANSOCIETE DES TRANSPORTS GUEGANCl...</td>\n",
       "      <td>fr</td>\n",
       "    </tr>\n",
       "    <tr>\n",
       "      <th>2</th>\n",
       "      <td>Bonjour, J’ai essayé de faire la modification...</td>\n",
       "      <td>badge</td>\n",
       "      <td>489</td>\n",
       "      <td>, J’ai essayé de faire la modification du bad...</td>\n",
       "      <td>fr</td>\n",
       "    </tr>\n",
       "    <tr>\n",
       "      <th>3</th>\n",
       "      <td>Bonjour, merci de me faire un badge avec la gé...</td>\n",
       "      <td>badge</td>\n",
       "      <td>420</td>\n",
       "      <td>, merci de me faire un badge avec la géolocali...</td>\n",
       "      <td>fr</td>\n",
       "    </tr>\n",
       "    <tr>\n",
       "      <th>5</th>\n",
       "      <td>Bonjour, L'appareil 3156490017550003485 a été ...</td>\n",
       "      <td>badge</td>\n",
       "      <td>2462</td>\n",
       "      <td>, L'appareil XXXX03485 a été attribué au camio...</td>\n",
       "      <td>fr</td>\n",
       "    </tr>\n",
       "  </tbody>\n",
       "</table>\n",
       "</div>"
      ],
      "text/plain": [
       "                                            Messages  \\\n",
       "0  Bonjour,Ci-joint le mandat sepa et le rib.Cord...   \n",
       "1  DANIEL   GUEGANSOCIETE DES TRANSPORTS GUEGANCl...   \n",
       "2   Bonjour, J’ai essayé de faire la modification...   \n",
       "3  Bonjour, merci de me faire un badge avec la gé...   \n",
       "5  Bonjour, L'appareil 3156490017550003485 a été ...   \n",
       "\n",
       "                                           catégorie  occurence  \\\n",
       "0  demande de renseignement,contrat,impayé,rensei...         42   \n",
       "1                                              badge        703   \n",
       "2                                              badge        489   \n",
       "3                                              badge        420   \n",
       "5                                              badge       2462   \n",
       "\n",
       "                                                text lang  \n",
       "0                 ,Cijoint le mandat sepa et le rib.   fr  \n",
       "1  DANIEL   GUEGANSOCIETE DES TRANSPORTS GUEGANCl...   fr  \n",
       "2   , J’ai essayé de faire la modification du bad...   fr  \n",
       "3  , merci de me faire un badge avec la géolocali...   fr  \n",
       "5  , L'appareil XXXX03485 a été attribué au camio...   fr  "
      ]
     },
     "execution_count": 33,
     "metadata": {},
     "output_type": "execute_result"
    }
   ],
   "source": [
    "msg.head()"
   ]
  },
  {
   "cell_type": "code",
   "execution_count": 34,
   "id": "e941cf12",
   "metadata": {},
   "outputs": [
    {
     "data": {
      "text/plain": [
       "(633, 5)"
      ]
     },
     "execution_count": 34,
     "metadata": {},
     "output_type": "execute_result"
    }
   ],
   "source": [
    "msg.shape"
   ]
  },
  {
   "cell_type": "code",
   "execution_count": 35,
   "id": "67f067fc",
   "metadata": {},
   "outputs": [],
   "source": [
    "import seaborn as sns"
   ]
  },
  {
   "cell_type": "code",
   "execution_count": 36,
   "id": "c6c41316",
   "metadata": {},
   "outputs": [
    {
     "data": {
      "text/plain": [
       "badge                                                            355\n",
       "demande de renseignement,contrat,impayé,renseignement facture    225\n",
       "no message,interne Axxès                                          40\n",
       "AFM,réclamation qualité de service                                13\n",
       "Name: catégorie, dtype: int64"
      ]
     },
     "execution_count": 36,
     "metadata": {},
     "output_type": "execute_result"
    }
   ],
   "source": [
    "msg.catégorie.value_counts()"
   ]
  },
  {
   "cell_type": "code",
   "execution_count": 37,
   "id": "8e9066b6",
   "metadata": {},
   "outputs": [
    {
     "data": {
      "image/png": "[encoded data removed]",
      "text/plain": [
       "<Figure size 864x288 with 1 Axes>"
      ]
     },
     "metadata": {
      "needs_background": "light"
     },
     "output_type": "display_data"
    }
   ],
   "source": [
    "my_tags = msg['catégorie']\n",
    "plt.figure(figsize=(12,4))\n",
    "my_tags.value_counts().plot(kind='bar');"
   ]
  },
  {
   "cell_type": "code",
   "execution_count": 38,
   "id": "baccd050",
   "metadata": {},
   "outputs": [],
   "source": [
    "my_tags=my_tags.unique()"
   ]
  },
  {
   "cell_type": "code",
   "execution_count": 39,
   "id": "94357120",
   "metadata": {},
   "outputs": [
    {
     "data": {
      "text/plain": [
       "(633, 5)"
      ]
     },
     "execution_count": 39,
     "metadata": {},
     "output_type": "execute_result"
    }
   ],
   "source": [
    "#msg=msg.loc[msg['occurence']!=-1]\n",
    "msg.shape"
   ]
  },
  {
   "cell_type": "code",
   "execution_count": 40,
   "id": "328f2f44",
   "metadata": {},
   "outputs": [],
   "source": [
    "#msg.to_excel(\"message_cord.xlsx\", index = False)"
   ]
  },
  {
   "cell_type": "code",
   "execution_count": 41,
   "id": "d00cd83f",
   "metadata": {},
   "outputs": [],
   "source": [
    "#msg=pd.read_excel('message_cord_1001.xlsx',engine='openpyxl')\n",
    "#msg=msg[1001:1640]\n",
    "#msg=msg.head(500)"
   ]
  },
  {
   "cell_type": "code",
   "execution_count": 42,
   "id": "aaa0786f",
   "metadata": {},
   "outputs": [
    {
     "data": {
      "text/plain": [
       "37018"
      ]
     },
     "execution_count": 42,
     "metadata": {},
     "output_type": "execute_result"
    }
   ],
   "source": [
    "msg['text'].apply(lambda x: len(x.split(' '))).sum()"
   ]
  },
  {
   "cell_type": "code",
   "execution_count": 43,
   "id": "dc2dedd4",
   "metadata": {},
   "outputs": [
    {
     "data": {
      "image/png": "[encoded data removed]",
      "text/plain": [
       "<Figure size 864x288 with 1 Axes>"
      ]
     },
     "metadata": {
      "needs_background": "light"
     },
     "output_type": "display_data"
    }
   ],
   "source": [
    "my_tags = msg['catégorie']\n",
    "plt.figure(figsize=(12,4))\n",
    "my_tags.value_counts().plot(kind='bar');"
   ]
  },
  {
   "cell_type": "code",
   "execution_count": 44,
   "id": "7d11dd49",
   "metadata": {},
   "outputs": [],
   "source": [
    "X = msg['text']\n",
    "y = msg['catégorie']\n",
    "X_train, X_test, y_train, y_test = train_test_split(X, y, test_size=0.15, random_state = 22)"
   ]
  },
  {
   "cell_type": "code",
   "execution_count": 45,
   "id": "cd3bf91f",
   "metadata": {},
   "outputs": [
    {
     "name": "stdout",
     "output_type": "stream",
     "text": [
      "(538,)\n",
      "(95,)\n",
      "(538,)\n",
      "(95,)\n"
     ]
    }
   ],
   "source": [
    "print(X_train.shape)\n",
    "print(X_test.shape)\n",
    "print(y_train.shape)\n",
    "print(y_test.shape)"
   ]
  },
  {
   "cell_type": "code",
   "execution_count": 46,
   "id": "8fbc35bf",
   "metadata": {},
   "outputs": [],
   "source": [
    "my_tags = ['contrat', 'commande de badge', 'réclamation qualité de service',\n",
    "       'interne Axxès', 'renseignement facture',\n",
    "       'demande de renseignement', 'remplacement badge',\n",
    "       'réclamation facture', 'réclamation logistique', 'amende Belgique',\n",
    "       'no message']"
   ]
  },
  {
   "cell_type": "code",
   "execution_count": 47,
   "id": "733b722d",
   "metadata": {},
   "outputs": [
    {
     "name": "stdout",
     "output_type": "stream",
     "text": [
      "accuracy 0.6631578947368421\n",
      "                                                               precision    recall  f1-score   support\n",
      "\n",
      "                                                        badge       0.62      0.98      0.76        52\n",
      "demande de renseignement,contrat,impayé,renseignement facture       0.90      0.26      0.41        34\n",
      "                                     no message,interne Axxès       1.00      0.43      0.60         7\n",
      "\n",
      "                                                    micro avg       0.66      0.68      0.67        93\n",
      "                                                    macro avg       0.84      0.56      0.59        93\n",
      "                                                 weighted avg       0.75      0.68      0.62        93\n",
      "\n"
     ]
    }
   ],
   "source": [
    "\n",
    "from sklearn.naive_bayes import MultinomialNB\n",
    "from sklearn.pipeline import Pipeline\n",
    "from sklearn.feature_extraction.text import TfidfTransformer\n",
    "\n",
    "\n",
    "\n",
    "nb = Pipeline([('vect', CountVectorizer()),\n",
    "               ('tfidf', TfidfTransformer()),\n",
    "               ('clf', MultinomialNB()),\n",
    "              ])\n",
    "nb.fit(X_train, y_train)\n",
    "\n",
    "\n",
    "from sklearn.metrics import classification_report\n",
    "y_pred = nb.predict(X_test)\n",
    "\n",
    "print('accuracy %s' % accuracy_score(y_pred, y_test))\n",
    "print(classification_report(y_test, y_pred,labels=np.unique(y_pred)))"
   ]
  },
  {
   "cell_type": "code",
   "execution_count": 48,
   "id": "72e4dab1",
   "metadata": {},
   "outputs": [
    {
     "name": "stdout",
     "output_type": "stream",
     "text": [
      "accuracy 0.8526315789473684\n",
      "                                                               precision    recall  f1-score   support\n",
      "\n",
      "                                                        badge       0.90      0.87      0.88        52\n",
      "demande de renseignement,contrat,impayé,renseignement facture       0.78      0.91      0.84        34\n",
      "                                     no message,interne Axxès       1.00      0.71      0.83         7\n",
      "\n",
      "                                                    micro avg       0.85      0.87      0.86        93\n",
      "                                                    macro avg       0.89      0.83      0.85        93\n",
      "                                                 weighted avg       0.86      0.87      0.86        93\n",
      "\n"
     ]
    }
   ],
   "source": [
    "from sklearn.linear_model import SGDClassifier\n",
    "from sklearn.feature_extraction.text import CountVectorizer\n",
    "\n",
    "sgd = Pipeline([('vect', CountVectorizer()),\n",
    "                ('tfidf', TfidfTransformer()),\n",
    "                ('clf', SGDClassifier(loss='hinge', penalty='l2',alpha=1e-3, random_state=42, max_iter=5, tol=None)),\n",
    "               ])\n",
    "sgd.fit(X_train, y_train)\n",
    "\n",
    "\n",
    "y_pred = sgd.predict(X_test)\n",
    "\n",
    "print('accuracy %s' % accuracy_score(y_pred, y_test))\n",
    "print(classification_report(y_test, y_pred,labels=np.unique(y_pred)))\n"
   ]
  },
  {
   "cell_type": "code",
   "execution_count": 49,
   "id": "cad82ad9",
   "metadata": {},
   "outputs": [
    {
     "name": "stdout",
     "output_type": "stream",
     "text": [
      "accuracy 0.8421052631578947\n",
      "                                                               precision    recall  f1-score   support\n",
      "\n",
      "                                                        badge       0.85      0.88      0.87        52\n",
      "demande de renseignement,contrat,impayé,renseignement facture       0.80      0.82      0.81        34\n",
      "                                     no message,interne Axxès       1.00      0.86      0.92         7\n",
      "\n",
      "                                                    micro avg       0.84      0.86      0.85        93\n",
      "                                                    macro avg       0.88      0.86      0.87        93\n",
      "                                                 weighted avg       0.84      0.86      0.85        93\n",
      "\n"
     ]
    }
   ],
   "source": [
    "from sklearn.linear_model import LogisticRegression\n",
    "\n",
    "logreg = Pipeline([('vect', CountVectorizer()),\n",
    "                ('tfidf', TfidfTransformer()),\n",
    "                ('clf', LogisticRegression(n_jobs=1, C=1e5)),\n",
    "               ])\n",
    "logreg.fit(X_train, y_train)\n",
    "\n",
    "\n",
    "y_pred = logreg.predict(X_test)\n",
    "\n",
    "print('accuracy %s' % accuracy_score(y_pred, y_test))\n",
    "print(classification_report(y_test, y_pred,labels=np.unique(y_pred)))"
   ]
  },
  {
   "cell_type": "code",
   "execution_count": 50,
   "id": "976500fc",
   "metadata": {},
   "outputs": [],
   "source": [
    "from sklearn.model_selection import learning_curve\n",
    "import matplotlib.pyplot as plt"
   ]
  },
  {
   "cell_type": "code",
   "execution_count": 51,
   "id": "f989876e",
   "metadata": {},
   "outputs": [
    {
     "name": "stdout",
     "output_type": "stream",
     "text": [
      "accuracy 0.7684210526315789\n",
      "                                                               precision    recall  f1-score   support\n",
      "\n",
      "                                                        badge       0.84      0.81      0.82        52\n",
      "demande de renseignement,contrat,impayé,renseignement facture       0.66      0.79      0.72        34\n",
      "                                     no message,interne Axxès       1.00      0.57      0.73         7\n",
      "\n",
      "                                                    micro avg       0.77      0.78      0.78        93\n",
      "                                                    macro avg       0.83      0.72      0.76        93\n",
      "                                                 weighted avg       0.79      0.78      0.78        93\n",
      "\n"
     ]
    }
   ],
   "source": [
    "from sklearn.ensemble import RandomForestClassifier\n",
    "Random = Pipeline([('vect', CountVectorizer()),\n",
    "                ('tfidf', TfidfTransformer()),\n",
    "                ('clf', RandomForestClassifier(n_estimators=1000,n_jobs=1,class_weight= \"balanced\")),\n",
    "               ])\n",
    "Random.fit(X_train, y_train)\n",
    "\n",
    "\n",
    "y_pred = Random.predict(X_test)\n",
    "\n",
    "print('accuracy %s' % accuracy_score(y_pred, y_test))\n",
    "print(classification_report(y_test, y_pred,labels=np.unique(y_pred)))"
   ]
  },
  {
   "cell_type": "code",
   "execution_count": 52,
   "id": "73bcdcaa",
   "metadata": {},
   "outputs": [
    {
     "name": "stdout",
     "output_type": "stream",
     "text": [
      "accuracy 0.8736842105263158\n",
      "                                                               precision    recall  f1-score   support\n",
      "\n",
      "                                                        badge       0.90      0.88      0.89        52\n",
      "demande de renseignement,contrat,impayé,renseignement facture       0.82      0.91      0.86        34\n",
      "                                     no message,interne Axxès       1.00      0.86      0.92         7\n",
      "\n",
      "                                                    micro avg       0.87      0.89      0.88        93\n",
      "                                                    macro avg       0.91      0.88      0.89        93\n",
      "                                                 weighted avg       0.88      0.89      0.88        93\n",
      "\n"
     ]
    }
   ],
   "source": [
    "from sklearn.multiclass import OneVsRestClassifier\n",
    "from sklearn.svm import LinearSVC, SVC\n",
    "from imblearn.over_sampling import SMOTE\n",
    "from imblearn.under_sampling import RandomUnderSampler\n",
    "from imblearn.over_sampling import RandomOverSampler \n",
    "k=2\n",
    "seed=6\n",
    "ONE = Pipeline([('vect', CountVectorizer()),\n",
    "                ('tfidf', TfidfTransformer()),\n",
    "                #('scaler' , MaxAbsScaler()),\n",
    "                #('under', RandomOverSampler()),#sampling_strategy=ss\n",
    "               # ('smote', SMOTE(random_state=seed,k_neighbors=k, sampling_strategy = 'minority')),\n",
    "               ('clf', OneVsRestClassifier(LinearSVC(random_state=0))),\n",
    "                #('clf', LogisticRegression(n_jobs=-1, C=1e5)),\n",
    "                \n",
    "               ])\n",
    "ONE.fit(X_train, y_train)\n",
    "\n",
    "\n",
    "y_pred = ONE.predict(X_test)\n",
    "\n",
    "print('accuracy %s' % accuracy_score(y_pred, y_test))\n",
    "print(classification_report(y_test, y_pred,labels=np.unique(y_pred)))"
   ]
  },
  {
   "cell_type": "code",
   "execution_count": null,
   "id": "1e0b8294",
   "metadata": {},
   "outputs": [],
   "source": [
    "smote = SMOTE(k_neighbors = 1,random_state=0)\n",
    "X_train_smote, y_train_smote = smote.fit_resample(X_train,y_train)"
   ]
  },
  {
   "cell_type": "code",
   "execution_count": null,
   "id": "6955118f",
   "metadata": {},
   "outputs": [],
   "source": [
    "print(\"Before SMOTE :\" , Counter(y_train))\n",
    "print(\"After SMOTE :\" , Counter(y_train_smote))"
   ]
  },
  {
   "cell_type": "code",
   "execution_count": null,
   "id": "11b31d4c",
   "metadata": {},
   "outputs": [],
   "source": [
    "logreg.fit(X_train_smote,y_train_smote)\n",
    "y_predict = classifier_lr.predict(X_test)\n",
    "print(accuracy_score(y_test,y_predict))\n",
    "pd.crosstab(y_test,y_predict)"
   ]
  },
  {
   "cell_type": "code",
   "execution_count": null,
   "id": "06bc21a9",
   "metadata": {},
   "outputs": [],
   "source": [
    "#train_sizes=np.linspace(0.1,1,10)"
   ]
  },
  {
   "cell_type": "code",
   "execution_count": 54,
   "id": "0a011af1",
   "metadata": {},
   "outputs": [
    {
     "name": "stdout",
     "output_type": "stream",
     "text": [
      "Automatically created module for IPython interactive environment\n"
     ]
    },
    {
     "data": {
      "image/png": "[encoded data removed]",
      "text/plain": [
       "<Figure size 720x1080 with 6 Axes>"
      ]
     },
     "metadata": {
      "needs_background": "light"
     },
     "output_type": "display_data"
    }
   ],
   "source": [
    "print(__doc__)\n",
    "\n",
    "import numpy as np\n",
    "import matplotlib.pyplot as plt\n",
    "from sklearn.model_selection import learning_curve\n",
    "from sklearn.model_selection import ShuffleSplit\n",
    "\n",
    "\n",
    "def plot_learning_curve(estimator, title, X, y, scoring='f1_micro',axes=None, ylim=None, cv=None,\n",
    "                        n_jobs=None, train_sizes=np.linspace(.1, 1.0, 5)):\n",
    "    \n",
    "    if axes is None:\n",
    "        _, axes = plt.subplots(1, 3, figsize=(20, 5))\n",
    "\n",
    "    axes[0].set_title(title)\n",
    "    if ylim is not None:\n",
    "        axes[0].set_ylim(*ylim)\n",
    "    axes[0].set_xlabel(\"Training examples\")\n",
    "    axes[0].set_ylabel(\"Score\")\n",
    "\n",
    "    train_sizes, train_scores, test_scores, fit_times, _ = \\\n",
    "        learning_curve(logreg,X_train, y_train, cv=cv, scoring=scoring,n_jobs=n_jobs,\n",
    "                       train_sizes=train_sizes,\n",
    "                       return_times=True)\n",
    "    train_scores_mean = np.mean(train_scores, axis=1)\n",
    "    train_scores_std = np.std(train_scores, axis=1)\n",
    "    test_scores_mean = np.mean(test_scores, axis=1)\n",
    "    test_scores_std = np.std(test_scores, axis=1)\n",
    "    fit_times_mean = np.mean(fit_times, axis=1)\n",
    "    fit_times_std = np.std(fit_times, axis=1)\n",
    "\n",
    "    # Plot learning curve\n",
    "    axes[0].grid()\n",
    "    axes[0].fill_between(train_sizes, train_scores_mean - train_scores_std,\n",
    "                         train_scores_mean + train_scores_std, alpha=0.1,\n",
    "                         color=\"r\")\n",
    "    axes[0].fill_between(train_sizes, test_scores_mean - test_scores_std,\n",
    "                         test_scores_mean + test_scores_std, alpha=0.1,\n",
    "                         color=\"g\")\n",
    "    axes[0].plot(train_sizes, train_scores_mean, 'o-', color=\"r\",\n",
    "                 label=\"Training score\")\n",
    "    axes[0].plot(train_sizes, test_scores_mean, 'o-', color=\"g\",\n",
    "                 label=\"Cross-validation score\")\n",
    "    axes[0].legend(loc=\"best\")\n",
    "\n",
    "    # Plot n_samples vs fit_times\n",
    "    axes[1].grid()\n",
    "    axes[1].plot(train_sizes, fit_times_mean, 'o-')\n",
    "    axes[1].fill_between(train_sizes, fit_times_mean - fit_times_std,\n",
    "                         fit_times_mean + fit_times_std, alpha=0.1)\n",
    "    axes[1].set_xlabel(\"Training examples\")\n",
    "    axes[1].set_ylabel(\"fit_times\")\n",
    "    axes[1].set_title(\"Scalability of the model\")\n",
    "\n",
    "    # Plot fit_time vs score\n",
    "    axes[2].grid()\n",
    "    axes[2].plot(fit_times_mean, test_scores_mean, 'o-')\n",
    "    axes[2].fill_between(fit_times_mean, test_scores_mean - test_scores_std,\n",
    "                         test_scores_mean + test_scores_std, alpha=0.1)\n",
    "    axes[2].set_xlabel(\"fit_times\")\n",
    "    axes[2].set_ylabel(\"Score\")\n",
    "    axes[2].set_title(\"Performance of the model\")\n",
    "\n",
    "    return plt\n",
    "\n",
    "\n",
    "fig, axes = plt.subplots(3, 2, figsize=(10, 15))\n",
    "\n",
    "#X, y = load_digits(return_X_y=True)\n",
    "\n",
    "title = \"Learning Curves (sgd)\"\n",
    "# Cross validation with 100 iterations to get smoother mean test and train\n",
    "# score curves, each time with 20% data randomly selected as a validation set.\n",
    "cv = ShuffleSplit(n_splits=100, test_size=0.2, random_state=0)\n",
    "\n",
    "#estimator = GaussianNB()\n",
    "plot_learning_curve(sgd, title, X_train, y_train, scoring='f1_micro',axes=axes[:, 0], ylim=(0.7, 1.01),\n",
    "                    cv=cv, n_jobs=4)\n",
    "\n",
    "title = r\"Learning Curves (logreg, RBF kernel, $\\gamma=0.001$)\"\n",
    "# SVC is more expensive so we do a lower number of CV iterations:\n",
    "cv = ShuffleSplit(n_splits=10, test_size=0.2, random_state=0)\n",
    "#estimator = SVC(gamma=0.001)\n",
    "plot_learning_curve(logreg, title, X_train, y_train,scoring='f1_micro', axes=axes[:, 1], ylim=(0.7, 1.01),\n",
    "                    cv=cv, n_jobs=4)\n",
    "\n",
    "plt.show()"
   ]
  },
  {
   "cell_type": "code",
   "execution_count": null,
   "id": "e79c9b43",
   "metadata": {},
   "outputs": [],
   "source": [
    "import sklearn\n",
    "#sklearn.metrics.SCORERS.keys()"
   ]
  },
  {
   "cell_type": "code",
   "execution_count": null,
   "id": "c98d704c",
   "metadata": {},
   "outputs": [],
   "source": [
    "#train_sizes, train_scores, valid_scores= learning_curve(logreg ,X_train, y_train, cv=5, scoring='f1_micro', train_sizes=np.linspace(0.1, 1.0, 5))"
   ]
  },
  {
   "cell_type": "code",
   "execution_count": null,
   "id": "6a93d355",
   "metadata": {},
   "outputs": [],
   "source": [
    "#train_scores"
   ]
  },
  {
   "cell_type": "code",
   "execution_count": null,
   "id": "782c7c8a",
   "metadata": {},
   "outputs": [],
   "source": [
    "plt.figure(figsize=(5,1))\n",
    "plt.plot(train_sizes,train_scores.mean(axis=1),label='train score')\n",
    "plt.plot(train_sizes,valid_scores.mean(axis=1),label='validation score')\n",
    "plt.legend()"
   ]
  },
  {
   "cell_type": "code",
   "execution_count": null,
   "id": "95fd14b6",
   "metadata": {},
   "outputs": [],
   "source": [
    "import pickle"
   ]
  },
  {
   "cell_type": "code",
   "execution_count": null,
   "id": "f42916e9",
   "metadata": {},
   "outputs": [],
   "source": []
  },
  {
   "cell_type": "code",
   "execution_count": null,
   "id": "212f20de",
   "metadata": {},
   "outputs": [],
   "source": []
  },
  {
   "cell_type": "code",
   "execution_count": null,
   "id": "65097e3f",
   "metadata": {},
   "outputs": [],
   "source": [
    "#pickle.dump(logreg, open('mail.pkl', 'wb'))"
   ]
  },
  {
   "cell_type": "code",
   "execution_count": null,
   "id": "56bfd716",
   "metadata": {},
   "outputs": [],
   "source": [
    "pred = pd.DataFrame(data=y_pred)\n",
    "(pred.head(60)).astype(str)"
   ]
  },
  {
   "cell_type": "code",
   "execution_count": null,
   "id": "8bee6144",
   "metadata": {},
   "outputs": [],
   "source": [
    "from sklearn.metrics import classification_report\n",
    "from sklearn.linear_model import LogisticRegression\n",
    "from sklearn.multiclass import OneVsOneClassifier\n",
    "from sklearn.multiclass import OneVsOneClassifier\n",
    "from sklearn.multiclass import OneVsRestClassifier\n",
    "from sklearn.svm import LinearSVC, SVC\n",
    "from imblearn.over_sampling import SMOTE\n",
    "from imblearn.under_sampling import RandomUnderSampler\n",
    "from imblearn.over_sampling import RandomOverSampler \n",
    "from sklearn.preprocessing import MinMaxScaler\n",
    "from sklearn.preprocessing import StandardScaler,MaxAbsScaler\n",
    "from imblearn.pipeline import make_pipeline"
   ]
  },
  {
   "cell_type": "code",
   "execution_count": null,
   "id": "039fbf6e",
   "metadata": {},
   "outputs": [],
   "source": [
    "from sklearn.cluster import KMeans\n",
    "\n",
    "from sklearn.ensemble import RandomForestClassifier\n",
    "kmeans = Pipeline([('vect', CountVectorizer()),\n",
    "                ('tfidf', TfidfTransformer()),\n",
    "                ('kmeans', KMeans(n_clusters=4)),\n",
    "               ])\n",
    "kmeans.fit(X_train)\n",
    "\n",
    "y_kmeans = kmeans.predict(X_train)\n",
    "plt.scatter(X[:, 0], X[:, 1], c=y_kmeans, s=50, cmap='viridis')\n",
    "\n",
    "centers = kmeans.cluster_centers_\n",
    "plt.scatter(centers[:, 0], centers[:, 1], c='black', s=200, alpha=0.5);"
   ]
  },
  {
   "cell_type": "code",
   "execution_count": null,
   "id": "7eae6707",
   "metadata": {},
   "outputs": [],
   "source": [
    "from sklearn.metrics import roc_auc_score\n",
    "roc_auc_score(y_test,y_pred, multi_class=\"ovr\")"
   ]
  },
  {
   "cell_type": "code",
   "execution_count": null,
   "id": "e1e87e11",
   "metadata": {},
   "outputs": [],
   "source": [
    "sns.heatmap(confusion_matrix(y_test, y_pred), annot=True)"
   ]
  },
  {
   "cell_type": "code",
   "execution_count": null,
   "id": "1a9d308e",
   "metadata": {},
   "outputs": [],
   "source": [
    "test=['je veux un nouveau badge','j\\'ai fait un virement sepa','je veux un renseignement sur ma facture','j\\'envoie la carte grise de mon vehicule'\n",
    "     ,'j\\'ai des impayés car la facture n\\est pas arrivé','je veux savoir comment activer le badge']\n",
    "all_predictions = logreg.predict(test)\n",
    "pred = pd.DataFrame({\n",
    "                    'Messages':test,\n",
    "                    'Prédiction':all_predictions#,\n",
    "                    #'Réel': y_test\n",
    "                   })\n",
    "pred.head(30)"
   ]
  },
  {
   "cell_type": "code",
   "execution_count": null,
   "id": "552f013e",
   "metadata": {},
   "outputs": [],
   "source": [
    " #pred.to_excel(\"predict_reel_contrat.xlsx\", index = True)"
   ]
  },
  {
   "cell_type": "code",
   "execution_count": null,
   "id": "b32d81fe",
   "metadata": {},
   "outputs": [],
   "source": []
  },
  {
   "cell_type": "code",
   "execution_count": null,
   "id": "b297d5e3",
   "metadata": {},
   "outputs": [],
   "source": []
  },
  {
   "cell_type": "code",
   "execution_count": null,
   "id": "962b8b3d",
   "metadata": {},
   "outputs": [],
   "source": []
  }
 ],
 "metadata": {
  "kernelspec": {
   "display_name": "Python 3",
   "language": "python",
   "name": "python3"
  },
  "language_info": {
   "codemirror_mode": {
    "name": "ipython",
    "version": 3
   },
   "file_extension": ".py",
   "mimetype": "text/x-python",
   "name": "python",
   "nbconvert_exporter": "python",
   "pygments_lexer": "ipython3",
   "version": "3.8.8"
  }
 },
 "nbformat": 4,
 "nbformat_minor": 5
}
