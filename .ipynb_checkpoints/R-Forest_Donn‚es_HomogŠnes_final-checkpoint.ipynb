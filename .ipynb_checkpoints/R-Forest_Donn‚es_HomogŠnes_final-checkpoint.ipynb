{
 "cells": [
  {
   "cell_type": "code",
   "execution_count": null,
   "metadata": {},
   "outputs": [],
   "source": [
    "import nltk\n",
    "import pandas as pd\n",
    "import re\n",
    " \n",
    "from sklearn.feature_extraction.text import TfidfVectorizer\n",
    "import string\n",
    " \n",
    "\n",
    "data = pd.read_csv(\"../../Data/SMSSpamCollection.txt\", sep='\\t', header=None)\n",
    "data.columns = ['label', 'Content']\n",
    "\n",
    "en_stopwords = nltk.corpus.stopwords.words('english')\n",
    "ps = nltk.PorterStemmer()\n",
    "\n",
    "data['Content_len'] = data['Content'].apply(lambda x: len(x) - x.count(\" \"))\n",
    "\n",
    "def count_punctuation(text):\n",
    "    binary_array = [1 for ch in text if ch in string.punctuation] \n",
    "    nb_ponctuation = sum(binary_array)\n",
    "    total = len(text) - text.count(\" \")\n",
    "    return round(nb_ponctuation/(total), 4)*100\n",
    "\n",
    "data['punctuation_rate'] = data['Content'].apply(lambda x: count_punctuation(x))\n",
    "\n",
    "\n",
    "def clean_email(email):\n",
    "    result = \"\".join([word for word in email if word not in string.punctuation])\n",
    "    tokens = re.split('\\W+', result)\n",
    "    text = [ps.stem(word) for word in tokens if word not in en_stopwords]\n",
    "    return text\n",
    " "
   ]
  },
  {
   "cell_type": "code",
   "execution_count": null,
   "metadata": {},
   "outputs": [],
   "source": [
    "from sklearn.model_selection import train_test_split\n",
    "\n",
    "X_train, X_test, Y_train, Y_test = train_test_split(data[['Content', 'Content_len', 'punctuation_rate']], data['label'], test_size=0.2)"
   ]
  },
  {
   "cell_type": "code",
   "execution_count": null,
   "metadata": {
    "scrolled": true
   },
   "outputs": [],
   "source": [
    "vectorisation = TfidfVectorizer(analyzer=clean_email)\n",
    "vectorisation_model = vectorisation.fit(X_train['Content'])\n",
    "\n",
    "vect_train = vectorisation_model.transform(X_train['Content'])\n",
    "vect_test = vectorisation_model.transform(X_test['Content'])\n",
    "\n",
    "final_train_vect = pd.concat([pd.DataFrame(vect_train.toarray()), X_train[['Content_len', 'punctuation_rate']].reset_index(drop=True)], axis=1)\n",
    "final_test_vect = pd.concat([pd.DataFrame(vect_test.toarray()), X_test[['Content_len', 'punctuation_rate']].reset_index(drop=True)], axis=1)\n",
    "\n",
    "final_train_vect"
   ]
  },
  {
   "cell_type": "code",
   "execution_count": 16,
   "metadata": {},
   "outputs": [],
   "source": [
    "from sklearn.ensemble import RandomForestClassifier \n",
    "from sklearn.metrics import precision_recall_fscore_support as score\n",
    " "
   ]
  },
  {
   "cell_type": "code",
   "execution_count": 17,
   "metadata": {},
   "outputs": [],
   "source": [
    "alg_RandomForest = RandomForestClassifier(n_estimators=50, max_depth=20, n_jobs=-1)\n",
    "model = alg_RandomForest.fit(final_train_vect, Y_train)"
   ]
  },
  {
   "cell_type": "code",
   "execution_count": 18,
   "metadata": {},
   "outputs": [],
   "source": [
    "predictions = model.predict(final_test_vect)\n",
    "precision, recall, fscore, support = score(Y_test, predictions, pos_label='spam', average='binary')"
   ]
  },
  {
   "cell_type": "code",
   "execution_count": 19,
   "metadata": {},
   "outputs": [
    {
     "name": "stdout",
     "output_type": "stream",
     "text": [
      "Precision: 1.0 / Recall: 0.608 / Accuracy: 0.946\n"
     ]
    }
   ],
   "source": [
    "print('Precision: {} / Recall: {} / Accuracy: {}'.format(round(precision, 3),\n",
    "                                                        round(recall, 3),\n",
    "                                                        round((predictions==Y_test).sum() / len(predictions),3)))"
   ]
  },
  {
   "cell_type": "code",
   "execution_count": null,
   "metadata": {},
   "outputs": [],
   "source": []
  }
 ],
 "metadata": {
  "kernelspec": {
   "display_name": "Python 3",
   "language": "python",
   "name": "python3"
  },
  "language_info": {
   "codemirror_mode": {
    "name": "ipython",
    "version": 3
   },
   "file_extension": ".py",
   "mimetype": "text/x-python",
   "name": "python",
   "nbconvert_exporter": "python",
   "pygments_lexer": "ipython3",
   "version": "3.7.6"
  }
 },
 "nbformat": 4,
 "nbformat_minor": 4
}
