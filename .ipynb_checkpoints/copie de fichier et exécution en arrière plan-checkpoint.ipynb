{
 "cells": [
  {
   "cell_type": "code",
   "execution_count": 1,
   "id": "7b508993",
   "metadata": {},
   "outputs": [],
   "source": [
    "import filecmp\n",
    "from filecmp import dircmp\n",
    "import os\n",
    "import shutil\n",
    "import distutils.dir_util\n",
    "import time\n",
    "import threading\n",
    "import schedule\n",
    "import queue\n",
    "import os\n",
    "import pandas as pd\n",
    "import numpy as np\n",
    "from bs4 import BeautifulSoup\n",
    "import os.path, time\n",
    "from datetime import datetime\n",
    "import datetime\n",
    "from time import strftime"
   ]
  },
  {
   "cell_type": "code",
   "execution_count": 2,
   "id": "dd543241",
   "metadata": {},
   "outputs": [],
   "source": [
    "def total_dirs(d):\n",
    "    tab1 = []\n",
    "    for name in d:\n",
    "        fhand = open(d,'r',encoding='utf8')\n",
    "        contenu = fhand.read()\n",
    "        soup = BeautifulSoup(contenu, \"html.parser\")\n",
    "        message = soup.get_text(separator=' ')\n",
    "        date_crea = time.ctime(os.path.getctime(d))\n",
    "        date_modif = time.ctime(os.path.getmtime(d))\n",
    "        daf = {'Messages': message,'Nom du fichier':name, 'Date de création':date_crea, 'Date de modification':date_modif}\n",
    "        tab1.append(daf)\n",
    "               \n",
    "    df = pd.DataFrame(tab1)\n",
    "    now = datetime.datetime.now()\n",
    "    time2=now.strftime('%Y-%m-%d %H:%M:%S')\n",
    "    df.to_excel(\"final2.xlsx\", index = False)\n",
    "    return tab1"
   ]
  },
  {
   "cell_type": "code",
   "execution_count": 3,
   "id": "5ba3436c",
   "metadata": {},
   "outputs": [],
   "source": [
    "def total_files():\n",
    "    tab1 = []\n",
    "    fhand = open(s,'r',encoding='utf8')\n",
    "    contenu = fhand.read()\n",
    "    soup = BeautifulSoup(contenu, \"html.parser\")\n",
    "    message = soup.get_text(separator=' ')\n",
    "    date_crea = time.ctime(os.path.getctime(d))\n",
    "    date_modif = time.ctime(os.path.getmtime(d))\n",
    "    daf = {'Messages': message,'Nom du fichier':name, 'Date de création':date_crea, 'Date de modification':date_modif}\n",
    "    tab1=daf\n",
    "               \n",
    "    df = pd.DataFrame(tab1)\n",
    "    now = datetime.datetime.now()\n",
    "    time1=now.strftime('%Y-%m-%d %H:%M:%S')\n",
    "    df.to_excel(\"final1.xlsx\", index = False)\n",
    "    return tab1"
   ]
  },
  {
   "cell_type": "code",
   "execution_count": 6,
   "id": "69251e6e",
   "metadata": {},
   "outputs": [],
   "source": [
    "def copy():\n",
    "    src=\"U:\\stage\\BAL_Lyon\"\n",
    "    dst=\"U:\\stage1\"\n",
    "    if os.path.exists(dst):\n",
    "        dc = filecmp.dircmp(src, dst)\n",
    "        dc.left_only\n",
    "    for item in os.listdir(src):\n",
    "        s = os.path.join(src, item)\n",
    "        d = os.path.join(dst, item)\n",
    "        if not os.path.exists(dst) and os.path.isdir(s):\n",
    "            shutil.copytree(s, d)\n",
    "            #total_dirs(d)\n",
    "        else:\n",
    "            if not os.path.exists(d) or os.stat(s).st_mtime - os.stat(d).st_mtime > 1:\n",
    "                if os.path.isfile(s):\n",
    "                    shutil.copy2(s, d,follow_symlinks=True)\n",
    "                    #total_files()\n",
    "                else:\n",
    "                    distutils.dir_util.copy_tree(s, d)"
   ]
  },
  {
   "cell_type": "code",
   "execution_count": 7,
   "id": "9ef471c6",
   "metadata": {},
   "outputs": [],
   "source": [
    "copy()"
   ]
  },
  {
   "cell_type": "code",
   "execution_count": null,
   "id": "1e22dcb2",
   "metadata": {},
   "outputs": [],
   "source": [
    "def run_continuously(interval=1):\n",
    "    \n",
    "    cease_continuous_run = threading.Event()\n",
    "\n",
    "    class ScheduleThread(threading.Thread):\n",
    "        @classmethod\n",
    "        def run(cls):\n",
    "            while not cease_continuous_run.is_set():\n",
    "                schedule.run_pending()\n",
    "                time.sleep(interval)\n",
    "\n",
    "    continuous_thread = ScheduleThread()\n",
    "    continuous_thread.start()\n",
    "    return cease_continuous_run\n",
    "\n",
    "schedule.every(10).seconds.do(copy)\n",
    "#schedule.every(60).minutes.do(total)\n",
    "\n",
    "# Start the background thread\n",
    "stop_run_continuously = run_continuously()\n",
    "\n",
    "# Do some other things...\n",
    "#time.sleep(10)\n",
    "\n",
    "# Stop the background thread\n",
    "#stop_run_continuously.set()"
   ]
  },
  {
   "cell_type": "code",
   "execution_count": null,
   "id": "34e4153e",
   "metadata": {},
   "outputs": [],
   "source": [
    "run_continuously(interval=1)"
   ]
  },
  {
   "cell_type": "code",
   "execution_count": null,
   "id": "51444fdb",
   "metadata": {},
   "outputs": [],
   "source": [
    "def total():\n",
    "    tab1 = []\n",
    "    for root, dirs, files in os.walk(\"U:\\stage\\BAL_Lyon\", topdown = False):\n",
    "        for name in files:\n",
    "            #with open(os.path.join(root,name), 'r', encoding=\"utf8\") as f:\n",
    "            fhand = open(os.path.join(root,name),'r',encoding='utf8')\n",
    "            contenu = fhand.read()\n",
    "            soup = BeautifulSoup(contenu, \"html.parser\")\n",
    "            message = soup.get_text(separator=' ')\n",
    "            date_crea = time.ctime(os.path.getctime(os.path.join(root,name)))\n",
    "            date_modif = time.ctime(os.path.getmtime(os.path.join(root,name)))\n",
    "            d = {'Messages': message,'Nom du fichier':name, 'Date de création':date_crea, 'Date de modification':date_modif}\n",
    "            tab1.append(d)\n",
    "               \n",
    "    df = pd.DataFrame(tab1)\n",
    "    now = datetime.datetime.now()\n",
    "    tim= now.strftime('%Y-%m-%d %H:%M:%S')\n",
    "    df.to_excel(\"final\"+tim+\".xlsx\", index = False)\n",
    "    return tab1"
   ]
  },
  {
   "cell_type": "code",
   "execution_count": null,
   "id": "d85c17f2",
   "metadata": {},
   "outputs": [],
   "source": [
    "import schedule\n",
    "import time\n",
    "\n",
    "\n",
    "#schedule.every(10).seconds.do(job)\n",
    "schedule.every(10).minutes.do(copy)\n",
    "#schedule.every().hour.do(job)\n",
    "#schedule.every().day.at(\"10:30\").do(job)\n",
    "#schedule.every(5).to(10).minutes.do(job)\n",
    "#schedule.every().monday.do(job)\n",
    "#schedule.every().wednesday.at(\"13:15\").do(job)\n",
    "#schedule.every().minute.at(\":17\").do(job)\n",
    "\n",
    "while True:\n",
    "    schedule.run_pending()\n",
    "    time.sleep(1)"
   ]
  },
  {
   "cell_type": "code",
   "execution_count": null,
   "id": "5c2eeb62",
   "metadata": {},
   "outputs": [],
   "source": [
    "import pandas as pd\n",
    "import glob\n",
    "\n",
    "path = \"C:/Users/bertille.lekeufack/Stage/xlsx/\" # use your path\n",
    "all_files = glob.glob(path + \"*.xlsx\")\n",
    "\n",
    "list_total_file = []\n",
    "\n",
    "for filename in all_files:\n",
    "    df = pd.read_excel(filename, index_col=None, header=0, engine='openpyxl')\n",
    "    list_total_file.append(df)\n",
    "\n",
    "frame = pd.concat(list_total_file, axis=0, ignore_index=True)"
   ]
  },
  {
   "cell_type": "code",
   "execution_count": null,
   "id": "d214365f",
   "metadata": {},
   "outputs": [],
   "source": [
    "frame.shape"
   ]
  },
  {
   "cell_type": "code",
   "execution_count": null,
   "id": "26630d8b",
   "metadata": {},
   "outputs": [],
   "source": [
    "import glob\n",
    "\n",
    "df = pd.concat(map(pd.read_excel, glob.glob(\"C:/Users/bertille.lekeufack/Stage/*.xlsx\")))"
   ]
  },
  {
   "cell_type": "code",
   "execution_count": null,
   "id": "54327195",
   "metadata": {},
   "outputs": [],
   "source": []
  },
  {
   "cell_type": "code",
   "execution_count": null,
   "id": "c406183c",
   "metadata": {},
   "outputs": [],
   "source": []
  }
 ],
 "metadata": {
  "kernelspec": {
   "display_name": "Python 3",
   "language": "python",
   "name": "python3"
  },
  "language_info": {
   "codemirror_mode": {
    "name": "ipython",
    "version": 3
   },
   "file_extension": ".py",
   "mimetype": "text/x-python",
   "name": "python",
   "nbconvert_exporter": "python",
   "pygments_lexer": "ipython3",
   "version": "3.8.8"
  }
 },
 "nbformat": 4,
 "nbformat_minor": 5
}
