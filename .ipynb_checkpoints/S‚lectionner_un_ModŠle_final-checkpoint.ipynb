{
 "cells": [
  {
   "cell_type": "code",
   "execution_count": 1,
   "metadata": {
    "collapsed": true
   },
   "outputs": [],
   "source": [
    "import nltk\n",
    "import pandas as pd\n",
    "import re\n",
    " \n",
    "from sklearn.feature_extraction.text import TfidfVectorizer\n",
    "import string\n",
    " \n",
    "\n",
    "data = pd.read_csv(\"../../Data/SMSSpamCollection.txt\", sep='\\t', header=None)\n",
    "data.columns = ['label', 'Content']\n",
    "\n",
    "en_stopwords = nltk.corpus.stopwords.words('english')\n",
    "ps = nltk.PorterStemmer()\n",
    "\n",
    "data['Content_len'] = data['Content'].apply(lambda x: len(x) - x.count(\" \"))\n",
    "\n",
    "def count_punctuation(text):\n",
    "    binary_array = [1 for ch in text if ch in string.punctuation] \n",
    "    nb_ponctuation = sum(binary_array)\n",
    "    total = len(text) - text.count(\" \")\n",
    "    return round(nb_ponctuation/(total), 4)*100\n",
    "\n",
    "data['punctuation_rate'] = data['Content'].apply(lambda x: count_punctuation(x))\n",
    "\n",
    "\n",
    "def clean_email(email):\n",
    "    result = \"\".join([word for word in email if word not in string.punctuation])\n",
    "    tokens = re.split('\\W+', result)\n",
    "    text = [ps.stem(word) for word in tokens if word not in en_stopwords]\n",
    "    return text\n",
    "\n",
    " \n",
    "\n",
    "vectorisation_full = TfidfVectorizer(analyzer=clean_email)\n",
    "vect_final = vectorisation_full.fit_transform(data['Content'])\n",
    "\n",
    "\n",
    "all_data = pd.concat([pd.DataFrame(vect_final.toarray()), data['Content_len'], data['punctuation_rate']], axis=1)"
   ]
  },
  {
   "cell_type": "code",
   "execution_count": 4,
   "metadata": {
    "collapsed": true
   },
   "outputs": [],
   "source": [
    "from sklearn.ensemble import RandomForestClassifier\n",
    "from sklearn.metrics import precision_recall_fscore_support as score\n",
    "from sklearn.model_selection import train_test_split"
   ]
  },
  {
   "cell_type": "code",
   "execution_count": 5,
   "metadata": {
    "collapsed": true
   },
   "outputs": [],
   "source": [
    "X_train, X_test, Y_train, Y_test = train_test_split(all_data, data['label'], test_size=0.2)"
   ]
  },
  {
   "cell_type": "code",
   "execution_count": 6,
   "metadata": {
    "collapsed": true
   },
   "outputs": [],
   "source": [
    "def random_forest_hyper_params(n_decision_tree, depth):\n",
    "    alg_RandomForest = RandomForestClassifier(n_estimators=n_decision_tree, max_depth=depth, n_jobs=-1)\n",
    "    model = alg_RandomForest.fit(X_train, Y_train)\n",
    "    predictions = model.predict(X_test)\n",
    "    precision, recall, fscore, support = score(Y_test, predictions, pos_label='spam', average='binary')\n",
    "    print('nb decision tree: {} / Depth: {} | Precision: {} / Recall: {}'.format(\n",
    "        n_decision_tree, depth, round(precision, 3), round(recall, 3)))"
   ]
  },
  {
   "cell_type": "code",
   "execution_count": 7,
   "metadata": {},
   "outputs": [
    {
     "name": "stdout",
     "output_type": "stream",
     "text": [
      "nb decision tree: 100 / Depth: 30 | Precision: 1.0 / Recall: 0.716\n",
      "nb decision tree: 100 / Depth: 40 | Precision: 0.984 / Recall: 0.787\n",
      "nb decision tree: 100 / Depth: 50 | Precision: 0.984 / Recall: 0.813\n",
      "nb decision tree: 150 / Depth: 30 | Precision: 0.983 / Recall: 0.735\n",
      "nb decision tree: 150 / Depth: 40 | Precision: 0.984 / Recall: 0.794\n",
      "nb decision tree: 150 / Depth: 50 | Precision: 0.984 / Recall: 0.781\n",
      "nb decision tree: 200 / Depth: 30 | Precision: 1.0 / Recall: 0.742\n",
      "nb decision tree: 200 / Depth: 40 | Precision: 0.984 / Recall: 0.794\n",
      "nb decision tree: 200 / Depth: 50 | Precision: 0.984 / Recall: 0.806\n"
     ]
    }
   ],
   "source": [
    "for ith_decision_tree in [100, 150, 200]:\n",
    "    for depth in [30,40,50]:\n",
    "        random_forest_hyper_params(ith_decision_tree, depth)"
   ]
  },
  {
   "cell_type": "code",
   "execution_count": 8,
   "metadata": {},
   "outputs": [
    {
     "name": "stdout",
     "output_type": "stream",
     "text": [
      "nb decision tree: 100 / Depth: 50 | Precision: 0.984 / Recall: 0.806\n",
      "nb decision tree: 100 / Depth: 100 | Precision: 0.984 / Recall: 0.8\n",
      "nb decision tree: 200 / Depth: 50 | Precision: 0.984 / Recall: 0.813\n",
      "nb decision tree: 200 / Depth: 100 | Precision: 0.985 / Recall: 0.839\n"
     ]
    }
   ],
   "source": [
    "for ith_decision_tree in [100,200]:\n",
    "    for depth in [50,100]:\n",
    "        random_forest_hyper_params(ith_decision_tree, depth)"
   ]
  },
  {
   "cell_type": "code",
   "execution_count": 10,
   "metadata": {},
   "outputs": [
    {
     "name": "stdout",
     "output_type": "stream",
     "text": [
      "nb decision tree: 200 / Depth: 100 | Precision: 0.985 / Recall: 0.839\n",
      "nb decision tree: 200 / Depth: 200 | Precision: 0.984 / Recall: 0.813\n",
      "nb decision tree: 300 / Depth: 100 | Precision: 0.984 / Recall: 0.819\n",
      "nb decision tree: 300 / Depth: 200 | Precision: 0.985 / Recall: 0.832\n"
     ]
    }
   ],
   "source": [
    "for ith_decision_tree in [200,300]:\n",
    "    for depth in [100,200]:\n",
    "        random_forest_hyper_params(ith_decision_tree, depth)"
   ]
  },
  {
   "cell_type": "code",
   "execution_count": null,
   "metadata": {
    "collapsed": true
   },
   "outputs": [],
   "source": []
  }
 ],
 "metadata": {
  "kernelspec": {
   "display_name": "Python 3",
   "language": "python",
   "name": "python3"
  },
  "language_info": {
   "codemirror_mode": {
    "name": "ipython",
    "version": 3
   },
   "file_extension": ".py",
   "mimetype": "text/x-python",
   "name": "python",
   "nbconvert_exporter": "python",
   "pygments_lexer": "ipython3",
   "version": "3.7.6"
  }
 },
 "nbformat": 4,
 "nbformat_minor": 4
}
