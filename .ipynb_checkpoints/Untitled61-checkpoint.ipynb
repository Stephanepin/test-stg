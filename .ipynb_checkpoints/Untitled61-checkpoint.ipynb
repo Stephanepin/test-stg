{
 "cells": [
  {
   "cell_type": "code",
   "execution_count": 1,
   "id": "66f71456",
   "metadata": {},
   "outputs": [
    {
     "name": "stderr",
     "output_type": "stream",
     "text": [
      "[nltk_data] Downloading package stopwords to\n",
      "[nltk_data]     C:\\Users\\bertille.lekeufack\\AppData\\Roaming\\nltk_data.\n",
      "[nltk_data]     ..\n",
      "[nltk_data]   Package stopwords is already up-to-date!\n"
     ]
    }
   ],
   "source": [
    "import numpy as np\n",
    "import re\n",
    "import nltk\n",
    "import pandas as pd\n",
    "nltk.download('stopwords')\n",
    "import pickle\n",
    "import seaborn as sns\n",
    "from nltk.corpus import stopwords"
   ]
  },
  {
   "cell_type": "code",
   "execution_count": 2,
   "id": "1c5011fa",
   "metadata": {},
   "outputs": [
    {
     "data": {
      "text/plain": [
       "(8515, 2)"
      ]
     },
     "execution_count": 2,
     "metadata": {},
     "output_type": "execute_result"
    }
   ],
   "source": [
    "df = pd.read_excel('final_210504_tous labels.xlsx',engine='openpyxl')\n",
    "#df = pd.read_excel('message_cord1.xlsx',engine='openpyxl')\n",
    "\n",
    "col=['Messages','catégorie']\n",
    "df=df[col]\n",
    "df.shape"
   ]
  },
  {
   "cell_type": "code",
   "execution_count": 3,
   "id": "179177e6",
   "metadata": {},
   "outputs": [],
   "source": [
    "df['Messages']=df['Messages'].astype(str)"
   ]
  },
  {
   "cell_type": "code",
   "execution_count": 4,
   "id": "b066a3c4",
   "metadata": {},
   "outputs": [],
   "source": [
    "for i in range(2802, 8514):\n",
    "    text= df['Messages'][i].split(' ')\n",
    "    if 'carte' in text :\n",
    "        df['catégorie'][i] = \"contrat\"     \n",
    "    elif  'badge' in  text :\n",
    "        df['catégorie'][i] = \"commande de badge\"  \n",
    "    elif 'facture' in  text :\n",
    "        df['catégorie'][i] = \"renseignement facture\"      \n",
    "    elif 'accès' in text :\n",
    "        df['catégorie'][i] = \"demande de renseignement\"  \n",
    "    else :\n",
    "        df['catégorie'][i] = \"réclamation qualité de service\"\n",
    "        "
   ]
  },
  {
   "cell_type": "code",
   "execution_count": 48,
   "id": "03a3bf2d",
   "metadata": {},
   "outputs": [
    {
     "ename": "NameError",
     "evalue": "name 'sns' is not defined",
     "output_type": "error",
     "traceback": [
      "\u001b[1;31m---------------------------------------------------------------------------\u001b[0m",
      "\u001b[1;31mNameError\u001b[0m                                 Traceback (most recent call last)",
      "\u001b[1;32m<ipython-input-48-593ca7493c5e>\u001b[0m in \u001b[0;36m<module>\u001b[1;34m\u001b[0m\n\u001b[0;32m      1\u001b[0m \u001b[0mplt\u001b[0m\u001b[1;33m.\u001b[0m\u001b[0mfigure\u001b[0m\u001b[1;33m(\u001b[0m\u001b[0mfigsize\u001b[0m\u001b[1;33m=\u001b[0m\u001b[1;33m(\u001b[0m\u001b[1;36m15\u001b[0m\u001b[1;33m,\u001b[0m\u001b[1;36m15\u001b[0m\u001b[1;33m)\u001b[0m\u001b[1;33m)\u001b[0m\u001b[1;33m\u001b[0m\u001b[1;33m\u001b[0m\u001b[0m\n\u001b[0;32m      2\u001b[0m \u001b[0mplt\u001b[0m\u001b[1;33m.\u001b[0m\u001b[0mxticks\u001b[0m\u001b[1;33m(\u001b[0m\u001b[0mrotation\u001b[0m\u001b[1;33m=\u001b[0m\u001b[1;36m90\u001b[0m\u001b[1;33m)\u001b[0m\u001b[1;33m\u001b[0m\u001b[1;33m\u001b[0m\u001b[0m\n\u001b[1;32m----> 3\u001b[1;33m \u001b[0msns\u001b[0m\u001b[1;33m.\u001b[0m\u001b[0mcountplot\u001b[0m\u001b[1;33m(\u001b[0m\u001b[0my\u001b[0m\u001b[1;33m=\u001b[0m\u001b[1;34m\"catégorie\"\u001b[0m\u001b[1;33m,\u001b[0m \u001b[0mdata\u001b[0m\u001b[1;33m=\u001b[0m\u001b[0mdf\u001b[0m\u001b[1;33m)\u001b[0m\u001b[1;33m\u001b[0m\u001b[1;33m\u001b[0m\u001b[0m\n\u001b[0m",
      "\u001b[1;31mNameError\u001b[0m: name 'sns' is not defined"
     ]
    },
    {
     "data": {
      "image/png": "[encoded data removed]",
      "text/plain": [
       "<Figure size 1080x1080 with 1 Axes>"
      ]
     },
     "metadata": {
      "needs_background": "light"
     },
     "output_type": "display_data"
    }
   ],
   "source": [
    "plt.figure(figsize=(15,15))\n",
    "plt.xticks(rotation=90)\n",
    "sns.countplot(y=\"catégorie\", data=df)"
   ]
  },
  {
   "cell_type": "code",
   "execution_count": 5,
   "id": "858886c6",
   "metadata": {},
   "outputs": [
    {
     "name": "stderr",
     "output_type": "stream",
     "text": [
      "<ipython-input-5-dcca7ddc70a6>:8: SettingWithCopyWarning: \n",
      "A value is trying to be set on a copy of a slice from a DataFrame\n",
      "\n",
      "See the caveats in the documentation: https://pandas.pydata.org/pandas-docs/stable/user_guide/indexing.html#returning-a-view-versus-a-copy\n",
      "  df['occurence'][i]=ss.find(mot.lower())\n"
     ]
    }
   ],
   "source": [
    "df['occurence']=0\n",
    "mots = [\"cordialement\", \"best regards\",\"bien à vous\", \"Bien cordialement\",\"Cordialment\",\"Restant à votre disposition\",\n",
    "       \"Salutations\",\"Bonne réception\",\"Sincères salutations\",\"Cdt\",\"Bonne fin de journée\"]\n",
    "for mot in mots:\n",
    "    for i in df.index:\n",
    "        ss=df['Messages'][i].lower()\n",
    "        if mot in ss:\n",
    "            df['occurence'][i]=ss.find(mot.lower())\n",
    "    "
   ]
  },
  {
   "cell_type": "code",
   "execution_count": 6,
   "id": "95d268bd",
   "metadata": {},
   "outputs": [
    {
     "data": {
      "text/html": [
       "<div>\n",
       "<style scoped>\n",
       "    .dataframe tbody tr th:only-of-type {\n",
       "        vertical-align: middle;\n",
       "    }\n",
       "\n",
       "    .dataframe tbody tr th {\n",
       "        vertical-align: top;\n",
       "    }\n",
       "\n",
       "    .dataframe thead th {\n",
       "        text-align: right;\n",
       "    }\n",
       "</style>\n",
       "<table border=\"1\" class=\"dataframe\">\n",
       "  <thead>\n",
       "    <tr style=\"text-align: right;\">\n",
       "      <th></th>\n",
       "      <th>Messages</th>\n",
       "      <th>catégorie</th>\n",
       "      <th>occurence</th>\n",
       "    </tr>\n",
       "  </thead>\n",
       "  <tbody>\n",
       "    <tr>\n",
       "      <th>0</th>\n",
       "      <td>Bonjour,Ci-joint le mandat sepa et le rib.Cord...</td>\n",
       "      <td>contrat</td>\n",
       "      <td>42</td>\n",
       "    </tr>\n",
       "    <tr>\n",
       "      <th>1</th>\n",
       "      <td>DANIEL   GUEGANSOCIETE DES TRANSPORTS GUEGANCl...</td>\n",
       "      <td>commande de badge</td>\n",
       "      <td>703</td>\n",
       "    </tr>\n",
       "    <tr>\n",
       "      <th>2</th>\n",
       "      <td>Bonjour, J’ai essayé de faire la modification...</td>\n",
       "      <td>contrat</td>\n",
       "      <td>489</td>\n",
       "    </tr>\n",
       "    <tr>\n",
       "      <th>3</th>\n",
       "      <td>Bonjour, merci de me faire un badge avec la gé...</td>\n",
       "      <td>commande de badge</td>\n",
       "      <td>112</td>\n",
       "    </tr>\n",
       "    <tr>\n",
       "      <th>4</th>\n",
       "      <td>No Message</td>\n",
       "      <td>no message</td>\n",
       "      <td>0</td>\n",
       "    </tr>\n",
       "    <tr>\n",
       "      <th>...</th>\n",
       "      <td>...</td>\n",
       "      <td>...</td>\n",
       "      <td>...</td>\n",
       "    </tr>\n",
       "    <tr>\n",
       "      <th>8510</th>\n",
       "      <td>RE: SF SANS FRONTIERE - Client n° 000107790  \\...</td>\n",
       "      <td>commande de badge</td>\n",
       "      <td>1313</td>\n",
       "    </tr>\n",
       "    <tr>\n",
       "      <th>8511</th>\n",
       "      <td>TR:  Confirmation commande n° 000610916 \\n Bon...</td>\n",
       "      <td>contrat</td>\n",
       "      <td>0</td>\n",
       "    </tr>\n",
       "    <tr>\n",
       "      <th>8512</th>\n",
       "      <td>TR: CPI 110754 AIR LIQUIDE \\n Bonjour marine P...</td>\n",
       "      <td>commande de badge</td>\n",
       "      <td>86</td>\n",
       "    </tr>\n",
       "    <tr>\n",
       "      <th>8513</th>\n",
       "      <td>TR: COMMANDE \\n Bonjour marine Avez-vous vu co...</td>\n",
       "      <td>réclamation qualité de service</td>\n",
       "      <td>121</td>\n",
       "    </tr>\n",
       "    <tr>\n",
       "      <th>8514</th>\n",
       "      <td>Re: Su factura Axxes \\n No tengo el usuario y ...</td>\n",
       "      <td>NaN</td>\n",
       "      <td>0</td>\n",
       "    </tr>\n",
       "  </tbody>\n",
       "</table>\n",
       "<p>8515 rows × 3 columns</p>\n",
       "</div>"
      ],
      "text/plain": [
       "                                               Messages  \\\n",
       "0     Bonjour,Ci-joint le mandat sepa et le rib.Cord...   \n",
       "1     DANIEL   GUEGANSOCIETE DES TRANSPORTS GUEGANCl...   \n",
       "2      Bonjour, J’ai essayé de faire la modification...   \n",
       "3     Bonjour, merci de me faire un badge avec la gé...   \n",
       "4                                            No Message   \n",
       "...                                                 ...   \n",
       "8510  RE: SF SANS FRONTIERE - Client n° 000107790  \\...   \n",
       "8511  TR:  Confirmation commande n° 000610916 \\n Bon...   \n",
       "8512  TR: CPI 110754 AIR LIQUIDE \\n Bonjour marine P...   \n",
       "8513  TR: COMMANDE \\n Bonjour marine Avez-vous vu co...   \n",
       "8514  Re: Su factura Axxes \\n No tengo el usuario y ...   \n",
       "\n",
       "                           catégorie  occurence  \n",
       "0                            contrat         42  \n",
       "1                  commande de badge        703  \n",
       "2                            contrat        489  \n",
       "3                  commande de badge        112  \n",
       "4                         no message          0  \n",
       "...                              ...        ...  \n",
       "8510               commande de badge       1313  \n",
       "8511                         contrat          0  \n",
       "8512               commande de badge         86  \n",
       "8513  réclamation qualité de service        121  \n",
       "8514                             NaN          0  \n",
       "\n",
       "[8515 rows x 3 columns]"
      ]
     },
     "execution_count": 6,
     "metadata": {},
     "output_type": "execute_result"
    }
   ],
   "source": [
    "df"
   ]
  },
  {
   "cell_type": "code",
   "execution_count": 7,
   "id": "726a25f2",
   "metadata": {},
   "outputs": [
    {
     "name": "stderr",
     "output_type": "stream",
     "text": [
      "<ipython-input-7-637f19e1cef7>:3: SettingWithCopyWarning: \n",
      "A value is trying to be set on a copy of a slice from a DataFrame\n",
      "\n",
      "See the caveats in the documentation: https://pandas.pydata.org/pandas-docs/stable/user_guide/indexing.html#returning-a-view-versus-a-copy\n",
      "  df['Messages'][i]=df['Messages'][i][0:df['occurence'][i]]\n",
      "<ipython-input-7-637f19e1cef7>:5: SettingWithCopyWarning: \n",
      "A value is trying to be set on a copy of a slice from a DataFrame\n",
      "\n",
      "See the caveats in the documentation: https://pandas.pydata.org/pandas-docs/stable/user_guide/indexing.html#returning-a-view-versus-a-copy\n",
      "  df['Messages'][i]=df['Messages'][i][0:300]\n"
     ]
    }
   ],
   "source": [
    "for i in df.index:\n",
    "    if df['occurence'][i]>0:\n",
    "        df['Messages'][i]=df['Messages'][i][0:df['occurence'][i]]\n",
    "    else:\n",
    "        df['Messages'][i]=df['Messages'][i][0:300]"
   ]
  },
  {
   "cell_type": "code",
   "execution_count": 8,
   "id": "486ed648",
   "metadata": {},
   "outputs": [
    {
     "name": "stderr",
     "output_type": "stream",
     "text": [
      "<ipython-input-8-ba5dbbdd3705>:4: SettingWithCopyWarning: \n",
      "A value is trying to be set on a copy of a slice from a DataFrame\n",
      "\n",
      "See the caveats in the documentation: https://pandas.pydata.org/pandas-docs/stable/user_guide/indexing.html#returning-a-view-versus-a-copy\n",
      "  df['Messages'][i]=df['Messages'][i][0:300]\n"
     ]
    }
   ],
   "source": [
    "for i in df.index:\n",
    "    taille=len(df['Messages'][i])\n",
    "    if taille > 300:\n",
    "         df['Messages'][i]=df['Messages'][i][0:300]"
   ]
  },
  {
   "cell_type": "code",
   "execution_count": 9,
   "id": "60f39ad8",
   "metadata": {},
   "outputs": [],
   "source": [
    "#df.to_excel('clean.xlsx')"
   ]
  },
  {
   "cell_type": "code",
   "execution_count": 10,
   "id": "7de77e22",
   "metadata": {},
   "outputs": [],
   "source": [
    "from langdetect import detect"
   ]
  },
  {
   "cell_type": "code",
   "execution_count": 11,
   "id": "c8accaf6",
   "metadata": {},
   "outputs": [
    {
     "name": "stdout",
     "output_type": "stream",
     "text": [
      "This row throws error:   \n",
      "This row throws error:    \n",
      "This row throws error:   \n",
      "This row throws error:   \n",
      "This row throws error:  \n",
      "This row throws error:     \n",
      "This row throws error:   \n",
      "This row throws error:   \n",
      "This row throws error:   \n",
      "This row throws error: ‌\n",
      "This row throws error:   \n",
      "This row throws error:   \n",
      "This row throws error:   \n",
      "This row throws error:   \n",
      "This row throws error:   \n",
      "This row throws error:    \n",
      "This row throws error:    \n",
      "This row throws error:    \n",
      "This row throws error:    \n",
      "This row throws error:    \n",
      "This row throws error:   \n",
      "This row throws error:    \n",
      "This row throws error: lyon@axxes.fr\n",
      "This row throws error: lyon@axxes.fr\n",
      "This row throws error:    \n",
      "This row throws error: https://api.qonto.com/v3/transfers/41c0e042-8ca5-4e2b-8a2b-a28fff47169a/download_proof.pdfMerci,\n",
      "This row throws error:    \n",
      "This row throws error:   \n",
      "This row throws error:   \n",
      "This row throws error:   \n",
      "This row throws error:   \n",
      "This row throws error: ‍\n",
      "This row throws error:   \n",
      "This row throws error:    \n",
      "This row throws error: \n",
      "\n",
      "This row throws error: Nettoyage de vitres et sols \n",
      "  ‌ ‌ ‌ ‌ ‌ ‌ ‌ ‌ ‌ ‌ ‌ ‌ ‌ ‌ ‌ ‌ ‌ ‌ ‌ ‌ ‌ ‌ ‌ ‌ ‌ ‌ ‌ ‌ ‌ ‌ ‌ ‌ ‌ ‌ ‌ ‌ ‌ ‌ ‌ ‌ ‌ ‌ ‌ ‌ ‌ ‌ ‌ ‌ ‌ ‌ ‌ ‌ ‌ ‌ ‌ ‌ ‌ ‌ ‌ ‌ ‌ ‌ ‌ ‌ ‌ ‌ ‌ ‌ ‌ ‌ ‌ ‌ ‌ ‌ ‌ ‌ ‌ ‌ ‌ ‌ ‌ ‌ ‌ ‌ ‌ ‌ ‌ ‌ ‌ ‌ ‌ ‌ ‌ ‌ ‌ ‌ ‌ ‌ ‌ ‌ ‌ ‌ ‌ ‌ ‌ ‌ ‌ ‌ ‌ ‌ ‌ ‌ ‌ ‌ ‌ ‌ ‌ ‌ ‌ ‌ ‌ ‌ ‌ ‌ ‌ ‌ ‌ ‌ ‌ ‌ ‌ ‌ ‌ ‌ ‌\n"
     ]
    }
   ],
   "source": [
    "texl70 = df['Messages']\n",
    "langdet = []\n",
    "    \n",
    "for i in range(len(df)):                                         \n",
    "    try:                                                          \n",
    "        lang=detect(texl70[i])                                      \n",
    "    except:                                                       \n",
    "        lang=''                                                  \n",
    "        print(\"This row throws error:\", texl70[i])                 \n",
    "    langdet.append(lang)     "
   ]
  },
  {
   "cell_type": "code",
   "execution_count": 12,
   "id": "f2136157",
   "metadata": {},
   "outputs": [],
   "source": [
    "df['lang']=langdet"
   ]
  },
  {
   "cell_type": "code",
   "execution_count": 13,
   "id": "4a93ca0d",
   "metadata": {},
   "outputs": [],
   "source": [
    "df=df.loc[df['lang']=='fr']"
   ]
  },
  {
   "cell_type": "code",
   "execution_count": 14,
   "id": "d4fad02e",
   "metadata": {},
   "outputs": [
    {
     "data": {
      "text/html": [
       "<div>\n",
       "<style scoped>\n",
       "    .dataframe tbody tr th:only-of-type {\n",
       "        vertical-align: middle;\n",
       "    }\n",
       "\n",
       "    .dataframe tbody tr th {\n",
       "        vertical-align: top;\n",
       "    }\n",
       "\n",
       "    .dataframe thead th {\n",
       "        text-align: right;\n",
       "    }\n",
       "</style>\n",
       "<table border=\"1\" class=\"dataframe\">\n",
       "  <thead>\n",
       "    <tr style=\"text-align: right;\">\n",
       "      <th></th>\n",
       "      <th>Messages</th>\n",
       "      <th>catégorie</th>\n",
       "      <th>occurence</th>\n",
       "      <th>lang</th>\n",
       "    </tr>\n",
       "  </thead>\n",
       "  <tbody>\n",
       "    <tr>\n",
       "      <th>0</th>\n",
       "      <td>Bonjour,Ci-joint le mandat sepa et le rib.</td>\n",
       "      <td>contrat</td>\n",
       "      <td>42</td>\n",
       "      <td>fr</td>\n",
       "    </tr>\n",
       "    <tr>\n",
       "      <th>1</th>\n",
       "      <td>DANIEL   GUEGANSOCIETE DES TRANSPORTS GUEGANCl...</td>\n",
       "      <td>commande de badge</td>\n",
       "      <td>703</td>\n",
       "      <td>fr</td>\n",
       "    </tr>\n",
       "    <tr>\n",
       "      <th>2</th>\n",
       "      <td>Bonjour, J’ai essayé de faire la modification...</td>\n",
       "      <td>contrat</td>\n",
       "      <td>489</td>\n",
       "      <td>fr</td>\n",
       "    </tr>\n",
       "    <tr>\n",
       "      <th>3</th>\n",
       "      <td>Bonjour, merci de me faire un badge avec la gé...</td>\n",
       "      <td>commande de badge</td>\n",
       "      <td>112</td>\n",
       "      <td>fr</td>\n",
       "    </tr>\n",
       "    <tr>\n",
       "      <th>5</th>\n",
       "      <td>Bonjour, L'appareil 3156490017550003485 a été ...</td>\n",
       "      <td>réclamation qualité de service</td>\n",
       "      <td>2477</td>\n",
       "      <td>fr</td>\n",
       "    </tr>\n",
       "    <tr>\n",
       "      <th>...</th>\n",
       "      <td>...</td>\n",
       "      <td>...</td>\n",
       "      <td>...</td>\n",
       "      <td>...</td>\n",
       "    </tr>\n",
       "    <tr>\n",
       "      <th>8509</th>\n",
       "      <td>FOURNISSEUR GO FLEET SOLUTIONS / ACHT N°724243...</td>\n",
       "      <td>réclamation qualité de service</td>\n",
       "      <td>1162</td>\n",
       "      <td>fr</td>\n",
       "    </tr>\n",
       "    <tr>\n",
       "      <th>8510</th>\n",
       "      <td>RE: SF SANS FRONTIERE - Client n° 000107790  \\...</td>\n",
       "      <td>commande de badge</td>\n",
       "      <td>1313</td>\n",
       "      <td>fr</td>\n",
       "    </tr>\n",
       "    <tr>\n",
       "      <th>8511</th>\n",
       "      <td>TR:  Confirmation commande n° 000610916 \\n Bon...</td>\n",
       "      <td>contrat</td>\n",
       "      <td>0</td>\n",
       "      <td>fr</td>\n",
       "    </tr>\n",
       "    <tr>\n",
       "      <th>8512</th>\n",
       "      <td>TR: CPI 110754 AIR LIQUIDE \\n Bonjour marine P...</td>\n",
       "      <td>commande de badge</td>\n",
       "      <td>86</td>\n",
       "      <td>fr</td>\n",
       "    </tr>\n",
       "    <tr>\n",
       "      <th>8513</th>\n",
       "      <td>TR: COMMANDE \\n Bonjour marine Avez-vous vu co...</td>\n",
       "      <td>réclamation qualité de service</td>\n",
       "      <td>121</td>\n",
       "      <td>fr</td>\n",
       "    </tr>\n",
       "  </tbody>\n",
       "</table>\n",
       "<p>6429 rows × 4 columns</p>\n",
       "</div>"
      ],
      "text/plain": [
       "                                               Messages  \\\n",
       "0            Bonjour,Ci-joint le mandat sepa et le rib.   \n",
       "1     DANIEL   GUEGANSOCIETE DES TRANSPORTS GUEGANCl...   \n",
       "2      Bonjour, J’ai essayé de faire la modification...   \n",
       "3     Bonjour, merci de me faire un badge avec la gé...   \n",
       "5     Bonjour, L'appareil 3156490017550003485 a été ...   \n",
       "...                                                 ...   \n",
       "8509  FOURNISSEUR GO FLEET SOLUTIONS / ACHT N°724243...   \n",
       "8510  RE: SF SANS FRONTIERE - Client n° 000107790  \\...   \n",
       "8511  TR:  Confirmation commande n° 000610916 \\n Bon...   \n",
       "8512  TR: CPI 110754 AIR LIQUIDE \\n Bonjour marine P...   \n",
       "8513  TR: COMMANDE \\n Bonjour marine Avez-vous vu co...   \n",
       "\n",
       "                           catégorie  occurence lang  \n",
       "0                            contrat         42   fr  \n",
       "1                  commande de badge        703   fr  \n",
       "2                            contrat        489   fr  \n",
       "3                  commande de badge        112   fr  \n",
       "5     réclamation qualité de service       2477   fr  \n",
       "...                              ...        ...  ...  \n",
       "8509  réclamation qualité de service       1162   fr  \n",
       "8510               commande de badge       1313   fr  \n",
       "8511                         contrat          0   fr  \n",
       "8512               commande de badge         86   fr  \n",
       "8513  réclamation qualité de service        121   fr  \n",
       "\n",
       "[6429 rows x 4 columns]"
      ]
     },
     "execution_count": 14,
     "metadata": {},
     "output_type": "execute_result"
    }
   ],
   "source": [
    "df"
   ]
  },
  {
   "cell_type": "code",
   "execution_count": 15,
   "id": "ba25209d",
   "metadata": {},
   "outputs": [
    {
     "name": "stderr",
     "output_type": "stream",
     "text": [
      "<ipython-input-15-14c2c517c821>:73: SettingWithCopyWarning: \n",
      "A value is trying to be set on a copy of a slice from a DataFrame.\n",
      "Try using .loc[row_indexer,col_indexer] = value instead\n",
      "\n",
      "See the caveats in the documentation: https://pandas.pydata.org/pandas-docs/stable/user_guide/indexing.html#returning-a-view-versus-a-copy\n",
      "  df['Cleaned_text'] = df.Messages.apply(lambda x: cleanResume(x))\n"
     ]
    }
   ],
   "source": [
    "from nltk.stem import WordNetLemmatizer\n",
    "\n",
    "stemmer = WordNetLemmatizer()\n",
    "def cleanResume(resumeText):\n",
    "    resumeText = resumeText.lower()\n",
    "    resumeText = re.sub('http\\S+\\s*', ' ', resumeText)  # remove URLs\n",
    "    resumeText = re.sub('RT|cc', ' ', resumeText)  # remove RT and cc\n",
    "    resumeText = re.sub('#\\S+', '', resumeText)  # remove hashtags\n",
    "    resumeText = re.sub('@\\S+', '  ', resumeText)  # remove mentions\n",
    "    resumeText = re.sub('[%s]' % re.escape(\"\"\"!\"#$%&'()*+,-./:;<=>?@[\\]^_`{|}~\"\"\"), ' ', resumeText)  # remove punctuations\n",
    "    resumeText = re.sub('([a-zA-Z0-9_.+-]+@[a-zA-Z0-9-]+\\.[a-zA-Z0-9-.]+)', 'XXXX',  resumeText)#email\n",
    "    #phone\n",
    "    resumeText = re.sub(r\"/\\d{10}|\\+33\\d{9}|\\+33\\s\\d{1}\\s\\d{2}\\s\\d{2}\\s\\d{2}\\s\\d{2}|\\d{2}\\s\\d{2}\\s\\d{2}\\s\\d{2}\\s\\d{2}/g\",' XXXX', resumeText)#phone francais\n",
    "    resumeText = re.sub(r'(^(\\+33 |0)[1-6]{1}(([0-9]{2}){4})|((\\s[0-9]{2}){4})|((-[0-9]{2}){4})$)','XXXX', resumeText)\n",
    "    resumeText = re.sub(\"((?:\\+\\d{2}[-\\.\\s]??|\\d{4}[-\\.\\s]??)?(?:\\d{3}[-\\.\\s]??\\d{3}[-\\.\\s]??\\d{4}|\\(\\d{3}\\)\\s*\\d{3}[-\\.\\s]??\\d{4}|\\d{3}[-\\.\\s]??\\d{4}))\",'XXXX',  resumeText)#phone\n",
    "    resumeText = re.sub('\\(?\\d{2}\\)?[-.\\s]?\\d{2}[-.\\s]?\\d{2}[-.\\s]?\\d{2}[-.\\s]?\\d{2}','XXXX', resumeText)\n",
    "    resumeText = re.sub('\\(?\\d{2}\\)?[-.\\s]?\\d{2}[-.\\s]?\\d{2}[-.\\s]?\\d{2}[-.\\s]','XXXX', resumeText)\n",
    "    resumeText = re.sub('\\(?\\d{1}\\)?[-.\\s]?\\d{2}[-.\\s]?\\d{2}[-.\\s]?\\d{2}[-.\\s]','XXXX', resumeText)\n",
    "    resumeText = re.sub('\\(?\\d{2}\\)?[-.\\s]?\\d{5}[-.\\s]?\\d{3}','XXXX', resumeText)\n",
    "    resumeText = re.sub('\\(?\\d{1}\\)?[-.\\s]?\\d{2}[-.\\s]?\\d{2}[-.\\s]?\\d{3}','XXXX', resumeText)\n",
    "    resumeText = re.sub('\\(?\\d{2}\\)?[-.\\s]?\\d{3}[-.\\s]?\\d{3}[-.\\s]?\\d{3}','XXXX', resumeText)\n",
    "    #Emoji\n",
    "    emoji= re.compile(u'['u'\\U0001F300-\\U0001F64F'u'\\U0001F680-\\U0001F6FF'u'\\u2600-\\u26FF\\u2700-\\u27BF]+', re.UNICODE)\n",
    "    resumeText = re.sub(emoji,' ', resumeText)\n",
    "    #text\n",
    "    resumeText =  resumeText.replace(\"Avant d\\'imprimer cet e-mail, réfléchissez à l\\'impact sur l\\'environnementBefore you print this mail, think about the impact on the environment\",'')\n",
    "    dele = [\"Mail:\",\"Email:\",\"e-mail\",\"Email : \",\"mail\",\"Tél : +\",\"Fax : +\",\"tél.: + ()\",\"port.: + () \",\"fax.: + ()\"]\n",
    "    #df['Text'][i]= df['Text'][i].replace(dele,'')\n",
    "    resumeText =  resumeText.replace(\"Mail:\",' ')\n",
    "    resumeText =  resumeText.replace(\"Email:\",' ')\n",
    "    resumeText =  resumeText.replace(\"E-mail\",' ')\n",
    "    resumeText =  resumeText.replace(\"Email : \",' ')\n",
    "    resumeText=  resumeText.replace(\"mail\",' ')\n",
    "    resumeText=re.sub(r'\\d{3}[-\\.\\s]??\\d{3}[-\\.\\s]??\\d{4}|\\(\\d{3}\\)\\s*\\d{3}[-\\.\\s]??\\d{4}|\\d{3}[-\\.\\s]??\\d{4}','XXXX', resumeText)\n",
    "    #df['Text'][i]=re.sub(r'\\d+','',str(df['Text'][i]))#Tél : +      Fax : +, tél.: + ()       fax.: + ()      port.: + () \n",
    "    resumeText = re.sub(\"http[s]?://(?:[a-zA-Z]|[0-9]|[$-_@.&+]|[!*\\(\\),]|(?:%[0-9a-fA-F][0-9a-fA-F]))+\",'XXXX', resumeText)#url\n",
    "    resumeText = re.sub('(https?:\\/\\/(?:www\\.|(?!www))[a-zA-Z0-9][a-zA-Z0-9-]+[a-zA-Z0-9]\\.[^\\s]{2,}|www\\.[a-zA-Z0-9][a-zA-Z0-9-]+[a-zA-Z0-9]\\.[^\\s]{2,}|https?:\\/\\/(?:www\\.|(?!www))[a-zA-Z0-9]+\\.[^\\s]{2,}|www\\.[a-zA-Z0-9]+\\.[^\\s]{2,})',' XXXX', resumeText)#url www\n",
    "    resumeText = re.sub('Ce message et toutes les Pieces jointes (ci apres : le message) sont etablis a l\\'intention exclusive de ses destinataires et sont confidentiels.Toute utilisation de ce message non conforme a sa destination, toute diffusion ou toute publication totale ou partielle est interdite sauf autorisation prealable.Si vous recevez ce message par erreur, merci de le detruire et d\\' avertir immediatement l\\'expediteur.Les communications sur Internet n\\'etant pas securisees, le Groupe APRR decline toute responsabilite quant au contenu de ce message.This message and all attached documents (hereafter \"the message\") are intended for the exclusive attention of its recipients and are confidential. Any use of this message, for which it was not intended, any distribution or any total or partial publication is prohibited unless previously approved.If you receive this message in error, please destroy it and immediately notify the sender thereof.Since communication by Internet is not secure, Group APRR cannot accept any responsibility regarding the contents of this message.','XXXX ', resumeText)\n",
    "    #df['Text'][i]= re.sub('SCAN <>Cet  a été envoyé par \"copieurRICOH\" (MP C3004ex).Date de numérisation: 07.08.2020 17:17:25 (+0200)Contacter si besoin :  ','',str(df['Text'][i]))\n",
    "    resumeText = re.sub('Ce message est généré automatiquement. Merci de ne pas y répondre.','XXXX', resumeText)\n",
    "    resumeText = re.sub('Ce message et toutes les Pieces jointes (ci apres : le message) sont etablis a l\\'intention exclusive de ses destinataires et sont confidentiels.Toute utilisation de ce message non conforme a sa destination, toute diffusion ou toute publication totale ou partielle est interdite sauf autorisation prealable.Si vous recevez ce message par erreur, merci de le detruire et d\\' avertir immediatement l\\'expediteur.Les communications sur Internet n\\'etant pas securisees, le Groupe APRR decline toute responsabilite quant au contenu de ce message.This message and all attached documents (hereafter \"the message\") are intended for the exclusive attention of its recipients and are confidential. Any use of this message, for which it was not intended, any distribution or any total or partial publication is prohibited unless previously approved.If you receive this message in error, please destroy it and immediately notify the sender thereof.Since communication by Internet is not secure, Group APRR cannot accept any responsibility regarding the contents of this message.','XXXX ', resumeText)\n",
    "    resumeText = re.sub('This message and any attachments are confidential and intended for the named addressee(s) only.If you have received this message in error, please notify immediately the sender, then deletethe message. Any unauthorized modification, edition, use or dissemination is prohibited.The sender shall not be liable for this message if it has been modified, altered, falsified, infectedby a virus or even edited or disseminated without authorization.','XXXX', resumeText)\n",
    "    resumeText = re.sub('This  transmission (message and any attached files) may contain information that is proprietary, privileged and/or confidential to Veolia Environnement and/or its affiliates and is intended exclusively for the person(s) to whom it is addressed. If you are not the intended recipient, please notify the sender by return  and delete all copies of this , including all attachments. Unless expressly authorized, any use, disclosure, publication, retransmission or dissemination of this  and/or of its attachments is strictly prohibited. Ce message electronique et ses fichiers attaches sont strictement confidentiels et peuvent contenir des elements dont Veolia Environnement et/ou l\\'une de ses entites affiliees sont proprietaires. Ils sont donc destines a l\\'usage de leurs seuls destinataires. Si vous avez recu ce message par erreur, merci de le retourner a son emetteur et de le detruire ainsi que toutes les pieces attachees. L\\'utilisation, la divulgation, la publication, la distribution, ou la reproduction non expressement autorisees de ce message et de ses pieces attachees sont interdites.','XXXX ', resumeText)\n",
    "    resumeText = re.sub('This  transmission (message and any attached files) may contain information that is proprietary, privileged and/or confidential to Veolia Environnement and/or its affiliates and is intended exclusively for the person(s) to whom it is addressed. If you are not the intended recipient, please notify the sender by return  and delete all copies of this , including all attachments. Unless expressly authorized, any use, disclosure, publication, retransmission or dissemination of this  and/or of its attachments is strictly prohibited.  Ce message electronique et ses fichiers attaches sont strictement confidentiels et peuvent contenir des elements dont Veolia Environnement et/ou l\\'une de ses entites affiliees sont proprietaires. Ils sont donc destines a l\\'usage de leurs seuls destinataires. Si vous avez recu ce message par erreur, merci de le retourner a son emetteur et de le detruire ainsi que toutes les pieces attachees. L\\'utilisation, la divulgation, la publication, la distribution, ou la reproduction non expressement autorisees de ce message et de ses pieces attachees sont interdites.','XXXX ', resumeText)\n",
    "    resumeText = re.sub('Le contenu de ce message est strictement réservé à l\\'usage exclusif de son destinataire et contient de l\\'information privilégiée et confidentielle. Toute lecture, divulgation, distribution ou copie non autorisée de cette communication est formellement interdite. Si vous avez reçu cette communication par erreur, veuillez la détruire immédiatement.','XXXX', resumeText)\n",
    "    resumeText = re.sub('Ce message et toutes les Pieces jointes (ci apres : le message) sont etablis a l\\'intention exclusive de ses destinataires et sont confidentiels.Toute utilisation de ce message non conforme a sa destination, toute diffusion ou toute publication totale ou partielle est interdite sauf autorisation prealable.Si vous recevez ce message par erreur, merci de le detruire et d\\' avertir immediatement l\\'expediteur.Les communications sur Internet n\\'etant pas securisees, le Groupe APRR decline toute responsabilite quant au contenu de ce message.This message and all attached documents (hereafter \"the message\") are intended for the exclusive attention of its recipients and are confidential. Any use of this message, for which it was not intended, any distribution or any total or partial publication is prohibited unless previously approved.If you receive this message in error, please destroy it and immediately notify the sender thereof.Since communication by Internet is not secure, Group APRR cannot accept any responsibility regarding the contents of this message.','XXXX ', resumeText)\n",
    "    resumeText = re.sub('Ce message et les pièces jointes sont confidentiels et établis à l\\'attention exclusive de ses destinataires. Toute utilisation ou diffusion, même partielle, non autorisée est interdite. Tout message électronique est susceptible d\\'altération. Brink\\'s décline toute responsabilité au titre de ce message s\\'il a été altéré, déformé ou falsifié. Si vous n\\'êtes pas le destinataire de ce message, merci de le détruire et d\\'avertir l\\'expéditeur. This message and any attachments are confidential and intended solely for the addressees. Any unauthorized use or disclosure, either whole or partial is prohibited. E-s are susceptible to alteration. Brink\\'s shall not be liable for the message if altered, changed or falsified. If you are not the intended recipient of this message, please delete it and notify the sender.','XXXX ', resumeText)\n",
    "    resumeText = re.sub('Ce message et toutes les Pieces jointes (ci apres : le message) sont etablis a l\\'intention exclusive de ses destinataires et sont confidentiels.Toute utilisation de ce message non conforme a sa destination, toute diffusion ou toute publication totale ou partielle est interdite sauf autorisation prealable.Si vous recevez ce message par erreur, merci de le detruire et d\\' avertir immediatement l\\'expediteur.Les communications sur Internet n\\'etant pas securisees, le Groupe APRR decline toute responsabilite quant au contenu de ce message.','XXXX', resumeText)\n",
    "    resumeText = resumeText.replace('\\n', ' ').replace('\\r', '')\n",
    "    resumeText = ' '.join(resumeText.split())\n",
    "    resumeText = re.sub(r\"[A-Za-z\\.]*[0-9]+[A-Za-z%°\\.]*\", \"\", resumeText)\n",
    "    resumeText = re.sub(r\"(\\s\\-\\s|-$)\", \"\", resumeText)\n",
    "    resumeText = re.sub(r\"[,\\!\\?\\%\\(\\)\\/\\\"]\", \"\", resumeText)\n",
    "    resumeText = re.sub(r\"\\&\\S*\\s\", \"\", resumeText)\n",
    "    resumeText = re.sub(r\"\\&\", \"\", resumeText)\n",
    "    resumeText = re.sub(r\"\\+\", \"\", resumeText)\n",
    "    resumeText = re.sub(r\"\\#\", \"\", resumeText)\n",
    "    resumeText = re.sub(r\"\\$\", \"\", resumeText)\n",
    "    resumeText = re.sub(r\"\\£\", \"\", resumeText)\n",
    "    resumeText = re.sub(r\"\\%\", \"\", resumeText)\n",
    "    resumeText = re.sub(r\"\\:\", \"\", resumeText)\n",
    "    resumeText = re.sub(r\"\\@\", \"\", resumeText)\n",
    "    resumeText = re.sub(r\"\\-\", \"\", resumeText)\n",
    "    resumeText = resumeText.split()\n",
    "\n",
    "    resumeText = [stemmer.lemmatize(word) for word in resumeText]\n",
    "    resumeText = ' '.join(resumeText)\n",
    "    #print(msg['Messages'][i])\n",
    "    #resumeText = re.sub(r'[^\\x00-\\x7f]',r' ', resumeText) \n",
    "    #resumeText = re.sub('\\s+', ' ', resumeText)  # remove extra whitespace\n",
    "    return resumeText\n",
    "    \n",
    "df['Cleaned_text'] = df.Messages.apply(lambda x: cleanResume(x))"
   ]
  },
  {
   "cell_type": "code",
   "execution_count": 16,
   "id": "e13303a7",
   "metadata": {},
   "outputs": [],
   "source": [
    "from sklearn.preprocessing import MinMaxScaler, StandardScaler, RobustScaler"
   ]
  },
  {
   "cell_type": "code",
   "execution_count": 17,
   "id": "c8085930",
   "metadata": {},
   "outputs": [],
   "source": [
    "from sklearn.feature_extraction.text import CountVectorizer\n",
    "vectorizer = CountVectorizer(max_features=2500,min_df=5, max_df=0.7, stop_words=stopwords.words('french'))\n",
    "X = vectorizer.fit_transform(df['Cleaned_text']).toarray()"
   ]
  },
  {
   "cell_type": "code",
   "execution_count": 18,
   "id": "5bb43ea7",
   "metadata": {},
   "outputs": [],
   "source": [
    "from sklearn.feature_extraction.text import TfidfTransformer\n",
    "tfidfconverter = TfidfTransformer()\n",
    "X = tfidfconverter.fit_transform(X).toarray()"
   ]
  },
  {
   "cell_type": "code",
   "execution_count": 19,
   "id": "1c9b9f3a",
   "metadata": {},
   "outputs": [],
   "source": [
    "from sklearn.feature_extraction.text import TfidfVectorizer\n",
    "tfidfconverter = TfidfVectorizer(max_features=2500,min_df=5, max_df=0.7, stop_words=stopwords.words('french'))\n",
    "X = tfidfconverter.fit_transform(df['Cleaned_text']).toarray()"
   ]
  },
  {
   "cell_type": "code",
   "execution_count": 20,
   "id": "0a4ac0ee",
   "metadata": {},
   "outputs": [],
   "source": [
    "from sklearn.model_selection import train_test_split\n",
    "X_train, X_test, y_train, y_test = train_test_split(X, df['catégorie'], test_size=0.7, random_state=0)"
   ]
  },
  {
   "cell_type": "code",
   "execution_count": 21,
   "id": "3d78ba51",
   "metadata": {},
   "outputs": [],
   "source": [
    "from sklearn.ensemble import RandomForestClassifier"
   ]
  },
  {
   "cell_type": "code",
   "execution_count": 22,
   "id": "8f39e4ba",
   "metadata": {},
   "outputs": [
    {
     "data": {
      "text/plain": [
       "RandomForestClassifier()"
      ]
     },
     "execution_count": 22,
     "metadata": {},
     "output_type": "execute_result"
    }
   ],
   "source": [
    "classifier = RandomForestClassifier()\n",
    "classifier.fit(X_train, y_train) "
   ]
  },
  {
   "cell_type": "code",
   "execution_count": 23,
   "id": "41a443ae",
   "metadata": {},
   "outputs": [],
   "source": [
    "y_pred = classifier.predict(X_test)"
   ]
  },
  {
   "cell_type": "code",
   "execution_count": 24,
   "id": "84bd7f60",
   "metadata": {},
   "outputs": [
    {
     "name": "stdout",
     "output_type": "stream",
     "text": [
      "[[ 680  148    1    5    0   19  232]\n",
      " [ 210  417    2    1    0   19  325]\n",
      " [  49   10    1    0    0   16  141]\n",
      " [   4    2    0   20    0    0   25]\n",
      " [   0    0    0    0    0    0    1]\n",
      " [  28    5    0    0    0  308  112]\n",
      " [ 255   82    7    9    0   40 1327]]\n",
      "                                precision    recall  f1-score   support\n",
      "\n",
      "             commande de badge       0.55      0.63      0.59      1085\n",
      "                       contrat       0.63      0.43      0.51       974\n",
      "      demande de renseignement       0.09      0.00      0.01       217\n",
      "                 interne Axxès       0.57      0.39      0.47        51\n",
      "                    no message       0.00      0.00      0.00         1\n",
      "         renseignement facture       0.77      0.68      0.72       453\n",
      "réclamation qualité de service       0.61      0.77      0.68      1720\n",
      "\n",
      "                      accuracy                           0.61      4501\n",
      "                     macro avg       0.46      0.41      0.43      4501\n",
      "                  weighted avg       0.59      0.61      0.59      4501\n",
      "\n",
      "0.61164185736503\n"
     ]
    },
    {
     "name": "stderr",
     "output_type": "stream",
     "text": [
      "C:\\Users\\bertille.lekeufack\\.conda\\envs\\stage1\\lib\\site-packages\\sklearn\\metrics\\_classification.py:1248: UndefinedMetricWarning: Precision and F-score are ill-defined and being set to 0.0 in labels with no predicted samples. Use `zero_division` parameter to control this behavior.\n",
      "  _warn_prf(average, modifier, msg_start, len(result))\n",
      "C:\\Users\\bertille.lekeufack\\.conda\\envs\\stage1\\lib\\site-packages\\sklearn\\metrics\\_classification.py:1248: UndefinedMetricWarning: Precision and F-score are ill-defined and being set to 0.0 in labels with no predicted samples. Use `zero_division` parameter to control this behavior.\n",
      "  _warn_prf(average, modifier, msg_start, len(result))\n",
      "C:\\Users\\bertille.lekeufack\\.conda\\envs\\stage1\\lib\\site-packages\\sklearn\\metrics\\_classification.py:1248: UndefinedMetricWarning: Precision and F-score are ill-defined and being set to 0.0 in labels with no predicted samples. Use `zero_division` parameter to control this behavior.\n",
      "  _warn_prf(average, modifier, msg_start, len(result))\n"
     ]
    }
   ],
   "source": [
    "from sklearn.metrics import classification_report, confusion_matrix, accuracy_score\n",
    "\n",
    "print(confusion_matrix(y_test,y_pred))\n",
    "print(classification_report(y_test,y_pred))\n",
    "print(accuracy_score(y_test, y_pred))"
   ]
  },
  {
   "cell_type": "code",
   "execution_count": 25,
   "id": "f66bc8df",
   "metadata": {},
   "outputs": [],
   "source": [
    "from sklearn.linear_model import SGDClassifier"
   ]
  },
  {
   "cell_type": "code",
   "execution_count": 26,
   "id": "064f5310",
   "metadata": {},
   "outputs": [],
   "source": [
    "classifier_sgd = SGDClassifier()\n",
    "classifier_sgd.fit(X_train, y_train) \n",
    "y_pred = classifier_sgd.predict(X_test)"
   ]
  },
  {
   "cell_type": "code",
   "execution_count": 27,
   "id": "37f41aa0",
   "metadata": {},
   "outputs": [
    {
     "name": "stdout",
     "output_type": "stream",
     "text": [
      "[[660 182  22   1   0  31 189]\n",
      " [320 400  34   4   0  31 185]\n",
      " [ 67  31  17   0   0  25  77]\n",
      " [  5   2   2  22   0   1  19]\n",
      " [  1   0   0   0   0   0   0]\n",
      " [ 48  18  11   1   0 301  74]\n",
      " [408 181  43  17   0  77 994]]\n",
      "                                precision    recall  f1-score   support\n",
      "\n",
      "             commande de badge       0.44      0.61      0.51      1085\n",
      "                       contrat       0.49      0.41      0.45       974\n",
      "      demande de renseignement       0.13      0.08      0.10       217\n",
      "                 interne Axxès       0.49      0.43      0.46        51\n",
      "                    no message       0.00      0.00      0.00         1\n",
      "         renseignement facture       0.65      0.66      0.66       453\n",
      "réclamation qualité de service       0.65      0.58      0.61      1720\n",
      "\n",
      "                      accuracy                           0.53      4501\n",
      "                     macro avg       0.41      0.40      0.40      4501\n",
      "                  weighted avg       0.54      0.53      0.53      4501\n",
      "\n",
      "0.5318818040435459\n"
     ]
    },
    {
     "name": "stderr",
     "output_type": "stream",
     "text": [
      "C:\\Users\\bertille.lekeufack\\.conda\\envs\\stage1\\lib\\site-packages\\sklearn\\metrics\\_classification.py:1248: UndefinedMetricWarning: Precision and F-score are ill-defined and being set to 0.0 in labels with no predicted samples. Use `zero_division` parameter to control this behavior.\n",
      "  _warn_prf(average, modifier, msg_start, len(result))\n",
      "C:\\Users\\bertille.lekeufack\\.conda\\envs\\stage1\\lib\\site-packages\\sklearn\\metrics\\_classification.py:1248: UndefinedMetricWarning: Precision and F-score are ill-defined and being set to 0.0 in labels with no predicted samples. Use `zero_division` parameter to control this behavior.\n",
      "  _warn_prf(average, modifier, msg_start, len(result))\n",
      "C:\\Users\\bertille.lekeufack\\.conda\\envs\\stage1\\lib\\site-packages\\sklearn\\metrics\\_classification.py:1248: UndefinedMetricWarning: Precision and F-score are ill-defined and being set to 0.0 in labels with no predicted samples. Use `zero_division` parameter to control this behavior.\n",
      "  _warn_prf(average, modifier, msg_start, len(result))\n"
     ]
    }
   ],
   "source": [
    "from sklearn.metrics import classification_report, confusion_matrix, accuracy_score\n",
    "\n",
    "print(confusion_matrix(y_test,y_pred))\n",
    "print(classification_report(y_test,y_pred))\n",
    "print(accuracy_score(y_test, y_pred))"
   ]
  },
  {
   "cell_type": "code",
   "execution_count": 28,
   "id": "65586ffc",
   "metadata": {},
   "outputs": [
    {
     "name": "stderr",
     "output_type": "stream",
     "text": [
      "C:\\Users\\bertille.lekeufack\\.conda\\envs\\stage1\\lib\\site-packages\\sklearn\\linear_model\\_logistic.py:763: ConvergenceWarning: lbfgs failed to converge (status=1):\n",
      "STOP: TOTAL NO. of ITERATIONS REACHED LIMIT.\n",
      "\n",
      "Increase the number of iterations (max_iter) or scale the data as shown in:\n",
      "    https://scikit-learn.org/stable/modules/preprocessing.html\n",
      "Please also refer to the documentation for alternative solver options:\n",
      "    https://scikit-learn.org/stable/modules/linear_model.html#logistic-regression\n",
      "  n_iter_i = _check_optimize_result(\n"
     ]
    }
   ],
   "source": [
    "from sklearn.linear_model import LogisticRegression\n",
    "classifier_lr = LogisticRegression()\n",
    "classifier_lr.fit(X_train, y_train) \n",
    "y_pred = classifier_sgd.predict(X_test)"
   ]
  },
  {
   "cell_type": "code",
   "execution_count": 29,
   "id": "44228069",
   "metadata": {},
   "outputs": [
    {
     "name": "stderr",
     "output_type": "stream",
     "text": [
      "C:\\Users\\bertille.lekeufack\\.conda\\envs\\stage1\\lib\\site-packages\\sklearn\\metrics\\_classification.py:1248: UndefinedMetricWarning: Precision and F-score are ill-defined and being set to 0.0 in labels with no predicted samples. Use `zero_division` parameter to control this behavior.\n",
      "  _warn_prf(average, modifier, msg_start, len(result))\n",
      "C:\\Users\\bertille.lekeufack\\.conda\\envs\\stage1\\lib\\site-packages\\sklearn\\metrics\\_classification.py:1248: UndefinedMetricWarning: Precision and F-score are ill-defined and being set to 0.0 in labels with no predicted samples. Use `zero_division` parameter to control this behavior.\n",
      "  _warn_prf(average, modifier, msg_start, len(result))\n",
      "C:\\Users\\bertille.lekeufack\\.conda\\envs\\stage1\\lib\\site-packages\\sklearn\\metrics\\_classification.py:1248: UndefinedMetricWarning: Precision and F-score are ill-defined and being set to 0.0 in labels with no predicted samples. Use `zero_division` parameter to control this behavior.\n",
      "  _warn_prf(average, modifier, msg_start, len(result))\n"
     ]
    },
    {
     "name": "stdout",
     "output_type": "stream",
     "text": [
      "[[660 182  22   1   0  31 189]\n",
      " [320 400  34   4   0  31 185]\n",
      " [ 67  31  17   0   0  25  77]\n",
      " [  5   2   2  22   0   1  19]\n",
      " [  1   0   0   0   0   0   0]\n",
      " [ 48  18  11   1   0 301  74]\n",
      " [408 181  43  17   0  77 994]]\n",
      "                                precision    recall  f1-score   support\n",
      "\n",
      "             commande de badge       0.44      0.61      0.51      1085\n",
      "                       contrat       0.49      0.41      0.45       974\n",
      "      demande de renseignement       0.13      0.08      0.10       217\n",
      "                 interne Axxès       0.49      0.43      0.46        51\n",
      "                    no message       0.00      0.00      0.00         1\n",
      "         renseignement facture       0.65      0.66      0.66       453\n",
      "réclamation qualité de service       0.65      0.58      0.61      1720\n",
      "\n",
      "                      accuracy                           0.53      4501\n",
      "                     macro avg       0.41      0.40      0.40      4501\n",
      "                  weighted avg       0.54      0.53      0.53      4501\n",
      "\n",
      "0.5318818040435459\n"
     ]
    }
   ],
   "source": [
    "print(confusion_matrix(y_test,y_pred))\n",
    "print(classification_report(y_test,y_pred))\n",
    "print(accuracy_score(y_test, y_pred))"
   ]
  },
  {
   "cell_type": "code",
   "execution_count": 30,
   "id": "6938a899",
   "metadata": {},
   "outputs": [],
   "source": [
    "from sklearn.model_selection import learning_curve\n",
    "import matplotlib.pyplot as plt"
   ]
  },
  {
   "cell_type": "code",
   "execution_count": 31,
   "id": "b5f28319",
   "metadata": {},
   "outputs": [
    {
     "name": "stderr",
     "output_type": "stream",
     "text": [
      "C:\\Users\\bertille.lekeufack\\.conda\\envs\\stage1\\lib\\site-packages\\sklearn\\model_selection\\_split.py:666: UserWarning: The least populated class in y has only 1 members, which is less than n_splits=2.\n",
      "  warnings.warn((\"The least populated class in y has only %d\"\n"
     ]
    }
   ],
   "source": [
    "N, train_score, val_score = learning_curve(classifier_sgd,X_train, y_train, cv=2, scoring='accuracy', train_sizes=np.linspace(0.1,1,10))"
   ]
  },
  {
   "cell_type": "code",
   "execution_count": 32,
   "id": "e58ff448",
   "metadata": {},
   "outputs": [
    {
     "data": {
      "text/plain": [
       "<matplotlib.legend.Legend at 0x228a0e52b80>"
      ]
     },
     "execution_count": 32,
     "metadata": {},
     "output_type": "execute_result"
    },
    {
     "data": {
      "image/png": "[encoded data removed]",
      "text/plain": [
       "<Figure size 864x576 with 1 Axes>"
      ]
     },
     "metadata": {
      "needs_background": "light"
     },
     "output_type": "display_data"
    }
   ],
   "source": [
    "plt.figure(figsize=(12,8))\n",
    "plt.plot(N,train_score.mean(axis=1),label='train score')\n",
    "plt.plot(N,val_score.mean(axis=1),label='validation score')\n",
    "plt.legend()"
   ]
  },
  {
   "cell_type": "code",
   "execution_count": 33,
   "id": "a23161fa",
   "metadata": {},
   "outputs": [],
   "source": [
    "from sklearn.model_selection import cross_val_score"
   ]
  },
  {
   "cell_type": "code",
   "execution_count": 34,
   "id": "e5c77cba",
   "metadata": {},
   "outputs": [
    {
     "name": "stderr",
     "output_type": "stream",
     "text": [
      "C:\\Users\\bertille.lekeufack\\.conda\\envs\\stage1\\lib\\site-packages\\sklearn\\model_selection\\_split.py:666: UserWarning: The least populated class in y has only 1 members, which is less than n_splits=5.\n",
      "  warnings.warn((\"The least populated class in y has only %d\"\n"
     ]
    }
   ],
   "source": [
    "scores=cross_val_score(classifier_lr, X_train, y_train, cv=5, scoring=\"accuracy\").mean()"
   ]
  },
  {
   "cell_type": "code",
   "execution_count": 35,
   "id": "504a60b9",
   "metadata": {},
   "outputs": [
    {
     "name": "stdout",
     "output_type": "stream",
     "text": [
      "0.58 accuracy with a standard deviation of 0.00\n"
     ]
    }
   ],
   "source": [
    "print(\"%0.2f accuracy with a standard deviation of %0.2f\" % (scores.mean(), scores.std()))"
   ]
  },
  {
   "cell_type": "code",
   "execution_count": 36,
   "id": "bfe7d0f4",
   "metadata": {},
   "outputs": [],
   "source": [
    "#print(classifier_lr.get_params().keys())"
   ]
  },
  {
   "cell_type": "code",
   "execution_count": 37,
   "id": "5d2a96b8",
   "metadata": {},
   "outputs": [
    {
     "name": "stderr",
     "output_type": "stream",
     "text": [
      "C:\\Users\\bertille.lekeufack\\.conda\\envs\\stage1\\lib\\site-packages\\sklearn\\model_selection\\_split.py:666: UserWarning: The least populated class in y has only 1 members, which is less than n_splits=5.\n",
      "  warnings.warn((\"The least populated class in y has only %d\"\n"
     ]
    },
    {
     "data": {
      "text/plain": [
       "<matplotlib.legend.Legend at 0x228b6a6d3d0>"
      ]
     },
     "execution_count": 37,
     "metadata": {},
     "output_type": "execute_result"
    },
    {
     "data": {
      "image/png": "[encoded data removed]",
      "text/plain": [
       "<Figure size 432x288 with 1 Axes>"
      ]
     },
     "metadata": {
      "needs_background": "light"
     },
     "output_type": "display_data"
    }
   ],
   "source": [
    "from sklearn.model_selection import validation_curve\n",
    "k = np.arange(1, 50)\n",
    "\n",
    "train_score, val_score = validation_curve(classifier_lr, X_train, y_train, cv=5,param_name='random_state', param_range=k)\n",
    "\n",
    "plt.plot(k, val_score.mean(axis=1), label='validation')\n",
    "plt.plot(k, train_score.mean(axis=1), label='train')\n",
    "\n",
    "plt.ylabel('score')\n",
    "plt.xlabel('n_neighbors')\n",
    "plt.legend()"
   ]
  },
  {
   "cell_type": "code",
   "execution_count": 38,
   "id": "afc0153f",
   "metadata": {},
   "outputs": [],
   "source": [
    "from sklearn.model_selection import GridSearchCV"
   ]
  },
  {
   "cell_type": "code",
   "execution_count": 39,
   "id": "1b1cc15a",
   "metadata": {},
   "outputs": [
    {
     "name": "stdout",
     "output_type": "stream",
     "text": [
      "dict_keys(['alpha', 'average', 'class_weight', 'early_stopping', 'epsilon', 'eta0', 'fit_intercept', 'l1_ratio', 'learning_rate', 'loss', 'max_iter', 'n_iter_no_change', 'n_jobs', 'penalty', 'power_t', 'random_state', 'shuffle', 'tol', 'validation_fraction', 'verbose', 'warm_start'])\n"
     ]
    }
   ],
   "source": [
    "\n",
    "print(classifier_sgd.get_params().keys())"
   ]
  },
  {
   "cell_type": "code",
   "execution_count": 40,
   "id": "91b3a8ef",
   "metadata": {},
   "outputs": [
    {
     "name": "stderr",
     "output_type": "stream",
     "text": [
      "C:\\Users\\bertille.lekeufack\\.conda\\envs\\stage1\\lib\\site-packages\\sklearn\\model_selection\\_split.py:666: UserWarning: The least populated class in y has only 1 members, which is less than n_splits=7.\n",
      "  warnings.warn((\"The least populated class in y has only %d\"\n"
     ]
    },
    {
     "data": {
      "text/plain": [
       "GridSearchCV(cv=7, estimator=SGDClassifier(), param_grid={'alpha': [1, 100]})"
      ]
     },
     "execution_count": 40,
     "metadata": {},
     "output_type": "execute_result"
    }
   ],
   "source": [
    "params = {\n",
    "    #'polynomialfeatures__degree':[2, 3, 4],\n",
    "    'alpha' : [1,100]\n",
    "}\n",
    "grid = GridSearchCV(SGDClassifier(), param_grid=params, cv=7)\n",
    "\n",
    "grid.fit(X_train, y_train)"
   ]
  },
  {
   "cell_type": "code",
   "execution_count": 41,
   "id": "6640df71",
   "metadata": {},
   "outputs": [
    {
     "name": "stdout",
     "output_type": "stream",
     "text": [
      "0.5669226425748165\n",
      "{'alpha': 1}\n"
     ]
    }
   ],
   "source": [
    "print(grid.best_score_)\n",
    "print(grid.best_params_)"
   ]
  },
  {
   "cell_type": "code",
   "execution_count": 42,
   "id": "9eda9c98",
   "metadata": {},
   "outputs": [
    {
     "data": {
      "text/plain": [
       "0.5749833370362142"
      ]
     },
     "execution_count": 42,
     "metadata": {},
     "output_type": "execute_result"
    }
   ],
   "source": [
    "model = grid.best_estimator_\n",
    "model.score(X_test, y_test)"
   ]
  },
  {
   "cell_type": "code",
   "execution_count": 43,
   "id": "720dc3e9",
   "metadata": {},
   "outputs": [
    {
     "data": {
      "text/plain": [
       "0.5749833370362142"
      ]
     },
     "execution_count": 43,
     "metadata": {},
     "output_type": "execute_result"
    }
   ],
   "source": [
    "\n",
    "grid.score(X_test, y_test)"
   ]
  },
  {
   "cell_type": "code",
   "execution_count": 44,
   "id": "96ccd1eb",
   "metadata": {},
   "outputs": [],
   "source": [
    "from sklearn.model_selection import KFold"
   ]
  },
  {
   "cell_type": "code",
   "execution_count": 45,
   "id": "0339eb6e",
   "metadata": {},
   "outputs": [],
   "source": [
    "from sklearn.model_selection import KFold\n",
    "from sklearn.model_selection import cross_val_score\n",
    "cv = KFold(n_splits=10, random_state=1, shuffle=True)\n",
    "scores = cross_val_score(classifier_sgd, X, df['catégorie'], scoring='accuracy', cv=cv, n_jobs=-1)"
   ]
  },
  {
   "cell_type": "code",
   "execution_count": 46,
   "id": "5895438f",
   "metadata": {},
   "outputs": [
    {
     "name": "stdout",
     "output_type": "stream",
     "text": [
      "Accuracy: 0.588 (0.018)\n"
     ]
    }
   ],
   "source": [
    "from numpy import mean\n",
    "from numpy import std\n",
    "print('Accuracy: %.3f (%.3f)' % (mean(scores), std(scores)))"
   ]
  },
  {
   "cell_type": "code",
   "execution_count": 47,
   "id": "c63ad9e1",
   "metadata": {},
   "outputs": [],
   "source": [
    "from sklearn.ensemble import StackingClassifier"
   ]
  },
  {
   "cell_type": "code",
   "execution_count": null,
   "id": "bb3fb3e3",
   "metadata": {},
   "outputs": [],
   "source": []
  }
 ],
 "metadata": {
  "kernelspec": {
   "display_name": "Python 3",
   "language": "python",
   "name": "python3"
  },
  "language_info": {
   "codemirror_mode": {
    "name": "ipython",
    "version": 3
   },
   "file_extension": ".py",
   "mimetype": "text/x-python",
   "name": "python",
   "nbconvert_exporter": "python",
   "pygments_lexer": "ipython3",
   "version": "3.8.8"
  }
 },
 "nbformat": 4,
 "nbformat_minor": 5
}
