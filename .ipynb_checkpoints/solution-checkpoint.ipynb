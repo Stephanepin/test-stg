{
 "cells": [
  {
   "cell_type": "code",
   "execution_count": 1,
   "id": "11b3be82",
   "metadata": {},
   "outputs": [],
   "source": [
    "import os\n",
    "import pandas as pd\n",
    "import numpy as np\n",
    "import pandas as pd\n",
    "from bs4 import BeautifulSoup\n",
    "import os.path, time\n",
    "from filecmp import dircmp\n",
    "a=\"U:\\stage\\BAL_Lyon\"\n",
    "b=\"U:\\stage1\"\n",
    "diff = dircmp(a, b)\n",
    "ta=[]\n",
    "for ldif_file in diff.left_only:\n",
    "    print(os.path.join(a, ldif_file))\n",
    "    fhand = open(os.path.join(a, ldif_file),'r',encoding='utf8')\n",
    "    contenu = fhand.read()\n",
    "    soup = BeautifulSoup(contenu, \"html.parser\")\n",
    "    message = soup.get_text(separator=' ')\n",
    "    date_crea = time.ctime(os.path.getctime(os.path.join(a, ldif_file)))\n",
    "    date_modif = time.ctime(os.path.getmtime(os.path.join(a, ldif_file)))\n",
    "    d = {'Messages': message,'Nom du fichier':ldif_file, 'Date de création':date_crea, 'Date de modification':date_modif,\n",
    "        'catégorie':''}\n",
    "    ta.append(d)\n",
    "    \n",
    "   "
   ]
  },
  {
   "cell_type": "code",
   "execution_count": 2,
   "id": "ac814b62",
   "metadata": {},
   "outputs": [
    {
     "data": {
      "text/html": [
       "<div>\n",
       "<style scoped>\n",
       "    .dataframe tbody tr th:only-of-type {\n",
       "        vertical-align: middle;\n",
       "    }\n",
       "\n",
       "    .dataframe tbody tr th {\n",
       "        vertical-align: top;\n",
       "    }\n",
       "\n",
       "    .dataframe thead th {\n",
       "        text-align: right;\n",
       "    }\n",
       "</style>\n",
       "<table border=\"1\" class=\"dataframe\">\n",
       "  <thead>\n",
       "    <tr style=\"text-align: right;\">\n",
       "      <th></th>\n",
       "    </tr>\n",
       "  </thead>\n",
       "  <tbody>\n",
       "  </tbody>\n",
       "</table>\n",
       "</div>"
      ],
      "text/plain": [
       "Empty DataFrame\n",
       "Columns: []\n",
       "Index: []"
      ]
     },
     "execution_count": 2,
     "metadata": {},
     "output_type": "execute_result"
    }
   ],
   "source": [
    "t= pd.DataFrame(ta,index=None)\n",
    "t"
   ]
  },
  {
   "cell_type": "code",
   "execution_count": 34,
   "id": "97abc9d2",
   "metadata": {},
   "outputs": [
    {
     "data": {
      "text/html": [
       "<div>\n",
       "<style scoped>\n",
       "    .dataframe tbody tr th:only-of-type {\n",
       "        vertical-align: middle;\n",
       "    }\n",
       "\n",
       "    .dataframe tbody tr th {\n",
       "        vertical-align: top;\n",
       "    }\n",
       "\n",
       "    .dataframe thead th {\n",
       "        text-align: right;\n",
       "    }\n",
       "</style>\n",
       "<table border=\"1\" class=\"dataframe\">\n",
       "  <thead>\n",
       "    <tr style=\"text-align: right;\">\n",
       "      <th></th>\n",
       "      <th>Messages</th>\n",
       "      <th>Nom du fichier</th>\n",
       "      <th>Date de création</th>\n",
       "      <th>Date de modification</th>\n",
       "      <th>catégorie</th>\n",
       "    </tr>\n",
       "  </thead>\n",
       "  <tbody>\n",
       "    <tr>\n",
       "      <th>0</th>\n",
       "      <td>NaN</td>\n",
       "      <td>Nouveau document texte (5).txt</td>\n",
       "      <td>Fri Jun  4 16:32:08 2021</td>\n",
       "      <td>Fri Jun  4 16:32:08 2021</td>\n",
       "      <td>NaN</td>\n",
       "    </tr>\n",
       "    <tr>\n",
       "      <th>1</th>\n",
       "      <td>NaN</td>\n",
       "      <td>Nouveau document texte (5).txt</td>\n",
       "      <td>Fri Jun  4 16:32:08 2021</td>\n",
       "      <td>Fri Jun  4 16:32:08 2021</td>\n",
       "      <td>NaN</td>\n",
       "    </tr>\n",
       "    <tr>\n",
       "      <th>2</th>\n",
       "      <td>NaN</td>\n",
       "      <td>Nouveau document texte (5).txt</td>\n",
       "      <td>Fri Jun  4 16:32:08 2021</td>\n",
       "      <td>Fri Jun  4 16:32:08 2021</td>\n",
       "      <td>NaN</td>\n",
       "    </tr>\n",
       "    <tr>\n",
       "      <th>3</th>\n",
       "      <td>NaN</td>\n",
       "      <td>Nouveau document texte (5).txt</td>\n",
       "      <td>Fri Jun  4 16:32:08 2021</td>\n",
       "      <td>Fri Jun  4 16:32:08 2021</td>\n",
       "      <td>NaN</td>\n",
       "    </tr>\n",
       "    <tr>\n",
       "      <th>4</th>\n",
       "      <td>NaN</td>\n",
       "      <td>Nouveau document texte (6).txt</td>\n",
       "      <td>Fri Jun  4 19:39:05 2021</td>\n",
       "      <td>Fri Jun  4 19:39:05 2021</td>\n",
       "      <td>NaN</td>\n",
       "    </tr>\n",
       "    <tr>\n",
       "      <th>5</th>\n",
       "      <td>NaN</td>\n",
       "      <td>Nouveau document texte (7).txt</td>\n",
       "      <td>Fri Jun  4 19:39:09 2021</td>\n",
       "      <td>Fri Jun  4 19:39:09 2021</td>\n",
       "      <td>NaN</td>\n",
       "    </tr>\n",
       "  </tbody>\n",
       "</table>\n",
       "</div>"
      ],
      "text/plain": [
       "   Messages                  Nom du fichier          Date de création  \\\n",
       "0       NaN  Nouveau document texte (5).txt  Fri Jun  4 16:32:08 2021   \n",
       "1       NaN  Nouveau document texte (5).txt  Fri Jun  4 16:32:08 2021   \n",
       "2       NaN  Nouveau document texte (5).txt  Fri Jun  4 16:32:08 2021   \n",
       "3       NaN  Nouveau document texte (5).txt  Fri Jun  4 16:32:08 2021   \n",
       "4       NaN  Nouveau document texte (6).txt  Fri Jun  4 19:39:05 2021   \n",
       "5       NaN  Nouveau document texte (7).txt  Fri Jun  4 19:39:09 2021   \n",
       "\n",
       "       Date de modification  catégorie  \n",
       "0  Fri Jun  4 16:32:08 2021        NaN  \n",
       "1  Fri Jun  4 16:32:08 2021        NaN  \n",
       "2  Fri Jun  4 16:32:08 2021        NaN  \n",
       "3  Fri Jun  4 16:32:08 2021        NaN  \n",
       "4  Fri Jun  4 19:39:05 2021        NaN  \n",
       "5  Fri Jun  4 19:39:09 2021        NaN  "
      ]
     },
     "execution_count": 34,
     "metadata": {},
     "output_type": "execute_result"
    }
   ],
   "source": [
    "df=pd.read_excel('final_210416.xlsx',index_col=False,engine='openpyxl')\n",
    "df"
   ]
  },
  {
   "cell_type": "code",
   "execution_count": 3,
   "id": "dea9b801",
   "metadata": {},
   "outputs": [
    {
     "ename": "NameError",
     "evalue": "name 'df' is not defined",
     "output_type": "error",
     "traceback": [
      "\u001b[1;31m---------------------------------------------------------------------------\u001b[0m",
      "\u001b[1;31mNameError\u001b[0m                                 Traceback (most recent call last)",
      "\u001b[1;32m<ipython-input-3-488600635a01>\u001b[0m in \u001b[0;36m<module>\u001b[1;34m\u001b[0m\n\u001b[1;32m----> 1\u001b[1;33m \u001b[0mglobal_dataset\u001b[0m \u001b[1;33m=\u001b[0m \u001b[0mpd\u001b[0m\u001b[1;33m.\u001b[0m\u001b[0mconcat\u001b[0m\u001b[1;33m(\u001b[0m\u001b[1;33m[\u001b[0m\u001b[0mdf\u001b[0m\u001b[1;33m,\u001b[0m\u001b[0mt\u001b[0m \u001b[1;33m]\u001b[0m\u001b[1;33m,\u001b[0m \u001b[0mignore_index\u001b[0m\u001b[1;33m=\u001b[0m\u001b[1;32mTrue\u001b[0m\u001b[1;33m)\u001b[0m\u001b[1;33m\u001b[0m\u001b[1;33m\u001b[0m\u001b[0m\n\u001b[0m",
      "\u001b[1;31mNameError\u001b[0m: name 'df' is not defined"
     ]
    }
   ],
   "source": [
    "global_dataset = pd.concat([df,t ], ignore_index=True)"
   ]
  },
  {
   "cell_type": "code",
   "execution_count": 37,
   "id": "dd62e353",
   "metadata": {},
   "outputs": [],
   "source": [
    "global_dataset.to_excel(\"final_210416.xlsx\")"
   ]
  },
  {
   "cell_type": "code",
   "execution_count": null,
   "id": "fe10bcd2",
   "metadata": {},
   "outputs": [],
   "source": []
  }
 ],
 "metadata": {
  "kernelspec": {
   "display_name": "Python 3",
   "language": "python",
   "name": "python3"
  },
  "language_info": {
   "codemirror_mode": {
    "name": "ipython",
    "version": 3
   },
   "file_extension": ".py",
   "mimetype": "text/x-python",
   "name": "python",
   "nbconvert_exporter": "python",
   "pygments_lexer": "ipython3",
   "version": "3.8.8"
  }
 },
 "nbformat": 4,
 "nbformat_minor": 5
}
