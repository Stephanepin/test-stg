{
 "cells": [
  {
   "cell_type": "code",
   "execution_count": 56,
   "id": "88056ecc",
   "metadata": {},
   "outputs": [],
   "source": [
    "import numpy as np\n",
    "import pandas as pd\n",
    "import nltk\n",
    "from nltk.corpus import stopwords\n",
    "import string\n",
    "from wordcloud import WordCloud\n",
    "import seaborn as sns\n",
    "import matplotlib.pyplot as plt\n",
    "from sklearn.model_selection import train_test_split\n",
    "from sklearn.feature_extraction.text import CountVectorizer, TfidfVectorizer\n",
    "from sklearn.metrics import accuracy_score, confusion_matrix , f1_score\n",
    "from sklearn.model_selection import cross_val_score\n",
    "from nltk.corpus import stopwords\n",
    "import re\n",
    "%matplotlib inline"
   ]
  },
  {
   "cell_type": "code",
   "execution_count": 2,
   "id": "59a8ea5b",
   "metadata": {},
   "outputs": [
    {
     "data": {
      "text/html": [
       "<div>\n",
       "<style scoped>\n",
       "    .dataframe tbody tr th:only-of-type {\n",
       "        vertical-align: middle;\n",
       "    }\n",
       "\n",
       "    .dataframe tbody tr th {\n",
       "        vertical-align: top;\n",
       "    }\n",
       "\n",
       "    .dataframe thead th {\n",
       "        text-align: right;\n",
       "    }\n",
       "</style>\n",
       "<table border=\"1\" class=\"dataframe\">\n",
       "  <thead>\n",
       "    <tr style=\"text-align: right;\">\n",
       "      <th></th>\n",
       "      <th>Messages</th>\n",
       "      <th>catégorie</th>\n",
       "      <th>Cleaned_text</th>\n",
       "    </tr>\n",
       "  </thead>\n",
       "  <tbody>\n",
       "    <tr>\n",
       "      <th>0</th>\n",
       "      <td>Bonjour,Ci-joint le mandat sepa et le rib.Cord...</td>\n",
       "      <td>contrat</td>\n",
       "      <td></td>\n",
       "    </tr>\n",
       "    <tr>\n",
       "      <th>1</th>\n",
       "      <td>DANIEL   GUEGANSOCIETE DES TRANSPORTS GUEGANCl...</td>\n",
       "      <td>commande de badge</td>\n",
       "      <td></td>\n",
       "    </tr>\n",
       "    <tr>\n",
       "      <th>2</th>\n",
       "      <td>Bonjour, J’ai essayé de faire la modification...</td>\n",
       "      <td>contrat</td>\n",
       "      <td></td>\n",
       "    </tr>\n",
       "    <tr>\n",
       "      <th>3</th>\n",
       "      <td>Bonjour, merci de me faire un badge avec la gé...</td>\n",
       "      <td>commande de badge</td>\n",
       "      <td></td>\n",
       "    </tr>\n",
       "    <tr>\n",
       "      <th>4</th>\n",
       "      <td>No Message</td>\n",
       "      <td>no message</td>\n",
       "      <td></td>\n",
       "    </tr>\n",
       "  </tbody>\n",
       "</table>\n",
       "</div>"
      ],
      "text/plain": [
       "                                            Messages          catégorie  \\\n",
       "0  Bonjour,Ci-joint le mandat sepa et le rib.Cord...            contrat   \n",
       "1  DANIEL   GUEGANSOCIETE DES TRANSPORTS GUEGANCl...  commande de badge   \n",
       "2   Bonjour, J’ai essayé de faire la modification...            contrat   \n",
       "3  Bonjour, merci de me faire un badge avec la gé...  commande de badge   \n",
       "4                                         No Message         no message   \n",
       "\n",
       "  Cleaned_text  \n",
       "0               \n",
       "1               \n",
       "2               \n",
       "3               \n",
       "4               "
      ]
     },
     "execution_count": 2,
     "metadata": {},
     "output_type": "execute_result"
    }
   ],
   "source": [
    "df = pd.read_excel('final_210504_tous labels.xlsx',engine='openpyxl')\n",
    "col=['Messages','catégorie']\n",
    "df=df[col]\n",
    "df['Cleaned_text'] = ''\n",
    "df=df.head(2000)\n",
    "df.head()"
   ]
  },
  {
   "cell_type": "code",
   "execution_count": 3,
   "id": "e01bffc8",
   "metadata": {},
   "outputs": [
    {
     "name": "stdout",
     "output_type": "stream",
     "text": [
      "Messages Categories\n",
      "contrat                           605\n",
      "commande de badge                 429\n",
      "no message                        385\n",
      "demande de renseignement          241\n",
      "renseignement facture             181\n",
      "interne Axxès                      80\n",
      "réclamation qualité de service     79\n",
      "Name: catégorie, dtype: int64\n"
     ]
    }
   ],
   "source": [
    "print (\"Messages Categories\")\n",
    "print (df['catégorie'].value_counts())"
   ]
  },
  {
   "cell_type": "code",
   "execution_count": 4,
   "id": "2deaf88a",
   "metadata": {},
   "outputs": [],
   "source": [
    "df['Messages']=df['Messages'].astype(str)"
   ]
  },
  {
   "cell_type": "code",
   "execution_count": 5,
   "id": "7fa0412b",
   "metadata": {},
   "outputs": [
    {
     "data": {
      "text/plain": [
       "<AxesSubplot:xlabel='count', ylabel='catégorie'>"
      ]
     },
     "execution_count": 5,
     "metadata": {},
     "output_type": "execute_result"
    },
    {
     "data": {
      "image/png": "[encoded data removed]",
      "text/plain": [
       "<Figure size 1080x1080 with 1 Axes>"
      ]
     },
     "metadata": {
      "needs_background": "light"
     },
     "output_type": "display_data"
    }
   ],
   "source": [
    "plt.figure(figsize=(15,15))\n",
    "plt.xticks(rotation=90)\n",
    "sns.countplot(y=\"catégorie\", data=df)"
   ]
  },
  {
   "cell_type": "code",
   "execution_count": 6,
   "id": "4e4874ff",
   "metadata": {},
   "outputs": [
    {
     "data": {
      "text/plain": [
       "' Bonjour,\\xa0J’ai essayé de faire la modification du badge du EC 418 KS initialement en classe 4 que nous avons vendu et remplacé par une classe 3 immatriculé DW-641-BJ.\\xa0Le badge est VIA AXXES SAT MANAGER portant le n° 3156490029985000184.\\xa0\\xa0Vous trouverez ci-joint la carte grise du nouveau camionn pour lequel, nous vous demandons de bien vouloir soit effectuer le changement ou nous contacter afin que nous fassions cette opération en direct par téléphone svp\\xa0?Restant à votre disposition.\\xa0Cordialement\\xa0Patrice RIBEIRODirecteur Technique\\xa0\\xa0\\xa0\\xa0\\xa0 \\xa0Tél\\xa0\\xa0 : 03 81 57 74 89Port : 06 25 46 93 97 \\xa0\\xa0\\xa0\\xa0\\xa0\\xa0\\xa0\\xa0\\xa0\\xa0\\xa0\\xa0\\xa0\\xa0\\xa0\\xa0\\xa0\\xa0\\xa0\\xa0\\xa0\\xa0\\xa0\\xa0\\xa0\\xa0\\xa0\\xa0\\xa0\\xa0\\xa0\\xa0\\xa0\\xa0\\xa0\\xa0\\xa0\\xa0\\xa0\\xa0\\xa0\\xa0\\xa0\\xa0\\xa0\\xa0\\xa0\\xa0\\xa0\\xa0\\xa0 \\xa0\\xa0\\xa0\\xa0\\xa0www.transport-rte.eu \\xa0\\xa0\\xa0\\xa0\\xa0\\xa0\\xa0\\xa0\\xa0\\xa0\\xa0\\xa0\\xa0\\xa0\\xa0\\xa0\\xa0\\xa0\\xa0\\xa0\\xa0\\xa0\\xa0\\xa0\\xa0\\xa0\\xa0\\xa0\\xa0\\xa0\\xa0\\xa0\\xa0\\xa0\\xa0\\xa0\\xa0\\xa0\\xa0\\xa0\\xa0\\xa0\\xa0\\xa0\\xa0\\xa0\\xa0\\xa0\\xa0\\xa0\\xa0\\xa0\\xa0\\xa0 ZA Les Planches - 63 rue Lyautey – 25870 GENEUILLE \\xa0\\xa0\\xa0\\xa0\\xa0\\xa0\\xa0\\xa0\\xa0\\xa0'"
      ]
     },
     "execution_count": 6,
     "metadata": {},
     "output_type": "execute_result"
    }
   ],
   "source": [
    "df[\"Messages\"][2]"
   ]
  },
  {
   "cell_type": "code",
   "execution_count": 7,
   "id": "be8a37ce",
   "metadata": {},
   "outputs": [
    {
     "name": "stderr",
     "output_type": "stream",
     "text": [
      "<ipython-input-7-5edb1f950455>:4: SettingWithCopyWarning: \n",
      "A value is trying to be set on a copy of a slice from a DataFrame\n",
      "\n",
      "See the caveats in the documentation: https://pandas.pydata.org/pandas-docs/stable/user_guide/indexing.html#returning-a-view-versus-a-copy\n",
      "  df['occurence'][i]=ss.find(\"cordialement\")\n"
     ]
    }
   ],
   "source": [
    "df['occurence']=0\n",
    "for i in df.index:\n",
    "    ss=df['Messages'][i].lower()\n",
    "    df['occurence'][i]=ss.find(\"cordialement\")"
   ]
  },
  {
   "cell_type": "code",
   "execution_count": 8,
   "id": "95bdcc59",
   "metadata": {},
   "outputs": [
    {
     "name": "stderr",
     "output_type": "stream",
     "text": [
      "<ipython-input-8-30ce10a4774f>:3: SettingWithCopyWarning: \n",
      "A value is trying to be set on a copy of a slice from a DataFrame\n",
      "\n",
      "See the caveats in the documentation: https://pandas.pydata.org/pandas-docs/stable/user_guide/indexing.html#returning-a-view-versus-a-copy\n",
      "  df['Messages'][i]=df['Messages'][i][0:df['occurence'][i]]\n",
      "<ipython-input-8-30ce10a4774f>:5: SettingWithCopyWarning: \n",
      "A value is trying to be set on a copy of a slice from a DataFrame\n",
      "\n",
      "See the caveats in the documentation: https://pandas.pydata.org/pandas-docs/stable/user_guide/indexing.html#returning-a-view-versus-a-copy\n",
      "  df['Messages'][i]=df['Messages'][i]\n"
     ]
    }
   ],
   "source": [
    "\n",
    "for i in df.index:\n",
    "    if df['occurence'][i]>0:\n",
    "        df['Messages'][i]=df['Messages'][i][0:df['occurence'][i]]\n",
    "    else:\n",
    "        df['Messages'][i]=df['Messages'][i]"
   ]
  },
  {
   "cell_type": "code",
   "execution_count": 9,
   "id": "626a74b8",
   "metadata": {},
   "outputs": [],
   "source": [
    "\n",
    "def cleanResume(resumeText):\n",
    "    resumeText = resumeText.lower()\n",
    "    resumeText = re.sub('http\\S+\\s*', ' ', resumeText)  # remove URLs\n",
    "    resumeText = re.sub('RT|cc', ' ', resumeText)  # remove RT and cc\n",
    "    resumeText = re.sub('#\\S+', '', resumeText)  # remove hashtags\n",
    "    resumeText = re.sub('@\\S+', '  ', resumeText)  # remove mentions\n",
    "    resumeText = re.sub('[%s]' % re.escape(\"\"\"!\"#$%&'()*+,-./:;<=>?@[\\]^_`{|}~\"\"\"), ' ', resumeText)  # remove punctuations\n",
    "    resumeText = re.sub('([a-zA-Z0-9_.+-]+@[a-zA-Z0-9-]+\\.[a-zA-Z0-9-.]+)', 'XXXX',  resumeText)#email\n",
    "    #phone\n",
    "    resumeText = re.sub(r\"/\\d{10}|\\+33\\d{9}|\\+33\\s\\d{1}\\s\\d{2}\\s\\d{2}\\s\\d{2}\\s\\d{2}|\\d{2}\\s\\d{2}\\s\\d{2}\\s\\d{2}\\s\\d{2}/g\",' XXXX', resumeText)#phone francais\n",
    "    resumeText = re.sub(r'(^(\\+33 |0)[1-6]{1}(([0-9]{2}){4})|((\\s[0-9]{2}){4})|((-[0-9]{2}){4})$)','XXXX', resumeText)\n",
    "    resumeText = re.sub(\"((?:\\+\\d{2}[-\\.\\s]??|\\d{4}[-\\.\\s]??)?(?:\\d{3}[-\\.\\s]??\\d{3}[-\\.\\s]??\\d{4}|\\(\\d{3}\\)\\s*\\d{3}[-\\.\\s]??\\d{4}|\\d{3}[-\\.\\s]??\\d{4}))\",'XXXX',  resumeText)#phone\n",
    "    resumeText = re.sub('\\(?\\d{2}\\)?[-.\\s]?\\d{2}[-.\\s]?\\d{2}[-.\\s]?\\d{2}[-.\\s]?\\d{2}','XXXX', resumeText)\n",
    "    resumeText = re.sub('\\(?\\d{2}\\)?[-.\\s]?\\d{2}[-.\\s]?\\d{2}[-.\\s]?\\d{2}[-.\\s]','XXXX', resumeText)\n",
    "    resumeText = re.sub('\\(?\\d{1}\\)?[-.\\s]?\\d{2}[-.\\s]?\\d{2}[-.\\s]?\\d{2}[-.\\s]','XXXX', resumeText)\n",
    "    resumeText = re.sub('\\(?\\d{2}\\)?[-.\\s]?\\d{5}[-.\\s]?\\d{3}','XXXX', resumeText)\n",
    "    resumeText = re.sub('\\(?\\d{1}\\)?[-.\\s]?\\d{2}[-.\\s]?\\d{2}[-.\\s]?\\d{3}','XXXX', resumeText)\n",
    "    resumeText = re.sub('\\(?\\d{2}\\)?[-.\\s]?\\d{3}[-.\\s]?\\d{3}[-.\\s]?\\d{3}','XXXX', resumeText)\n",
    "    #Emoji\n",
    "    emoji= re.compile(u'['u'\\U0001F300-\\U0001F64F'u'\\U0001F680-\\U0001F6FF'u'\\u2600-\\u26FF\\u2700-\\u27BF]+', re.UNICODE)\n",
    "    resumeText = re.sub(emoji,' ', resumeText)\n",
    "    #text\n",
    "    resumeText =  resumeText.replace(\"Avant d\\'imprimer cet e-mail, réfléchissez à l\\'impact sur l\\'environnementBefore you print this mail, think about the impact on the environment\",'')\n",
    "    dele = [\"Mail:\",\"Email:\",\"e-mail\",\"Email : \",\"mail\",\"Tél : +\",\"Fax : +\",\"tél.: + ()\",\"port.: + () \",\"fax.: + ()\"]\n",
    "    #df['Text'][i]= df['Text'][i].replace(dele,'')\n",
    "    resumeText =  resumeText.replace(\"Mail:\",' ')\n",
    "    resumeText =  resumeText.replace(\"Email:\",' ')\n",
    "    resumeText =  resumeText.replace(\"E-mail\",' ')\n",
    "    resumeText =  resumeText.replace(\"Email : \",' ')\n",
    "    resumeText=  resumeText.replace(\"mail\",' ')\n",
    "    resumeText=re.sub(r'\\d{3}[-\\.\\s]??\\d{3}[-\\.\\s]??\\d{4}|\\(\\d{3}\\)\\s*\\d{3}[-\\.\\s]??\\d{4}|\\d{3}[-\\.\\s]??\\d{4}','XXXX', resumeText)\n",
    "    #df['Text'][i]=re.sub(r'\\d+','',str(df['Text'][i]))#Tél : +      Fax : +, tél.: + ()       fax.: + ()      port.: + () \n",
    "    resumeText = re.sub(\"http[s]?://(?:[a-zA-Z]|[0-9]|[$-_@.&+]|[!*\\(\\),]|(?:%[0-9a-fA-F][0-9a-fA-F]))+\",'XXXX', resumeText)#url\n",
    "    resumeText = re.sub('(https?:\\/\\/(?:www\\.|(?!www))[a-zA-Z0-9][a-zA-Z0-9-]+[a-zA-Z0-9]\\.[^\\s]{2,}|www\\.[a-zA-Z0-9][a-zA-Z0-9-]+[a-zA-Z0-9]\\.[^\\s]{2,}|https?:\\/\\/(?:www\\.|(?!www))[a-zA-Z0-9]+\\.[^\\s]{2,}|www\\.[a-zA-Z0-9]+\\.[^\\s]{2,})',' XXXX', resumeText)#url www\n",
    "    resumeText = re.sub('Ce message et toutes les Pieces jointes (ci apres : le message) sont etablis a l\\'intention exclusive de ses destinataires et sont confidentiels.Toute utilisation de ce message non conforme a sa destination, toute diffusion ou toute publication totale ou partielle est interdite sauf autorisation prealable.Si vous recevez ce message par erreur, merci de le detruire et d\\' avertir immediatement l\\'expediteur.Les communications sur Internet n\\'etant pas securisees, le Groupe APRR decline toute responsabilite quant au contenu de ce message.This message and all attached documents (hereafter \"the message\") are intended for the exclusive attention of its recipients and are confidential. Any use of this message, for which it was not intended, any distribution or any total or partial publication is prohibited unless previously approved.If you receive this message in error, please destroy it and immediately notify the sender thereof.Since communication by Internet is not secure, Group APRR cannot accept any responsibility regarding the contents of this message.','XXXX ', resumeText)\n",
    "    #df['Text'][i]= re.sub('SCAN <>Cet  a été envoyé par \"copieurRICOH\" (MP C3004ex).Date de numérisation: 07.08.2020 17:17:25 (+0200)Contacter si besoin :  ','',str(df['Text'][i]))\n",
    "    resumeText = re.sub('Ce message est généré automatiquement. Merci de ne pas y répondre.','XXXX', resumeText)\n",
    "    resumeText = re.sub('Ce message et toutes les Pieces jointes (ci apres : le message) sont etablis a l\\'intention exclusive de ses destinataires et sont confidentiels.Toute utilisation de ce message non conforme a sa destination, toute diffusion ou toute publication totale ou partielle est interdite sauf autorisation prealable.Si vous recevez ce message par erreur, merci de le detruire et d\\' avertir immediatement l\\'expediteur.Les communications sur Internet n\\'etant pas securisees, le Groupe APRR decline toute responsabilite quant au contenu de ce message.This message and all attached documents (hereafter \"the message\") are intended for the exclusive attention of its recipients and are confidential. Any use of this message, for which it was not intended, any distribution or any total or partial publication is prohibited unless previously approved.If you receive this message in error, please destroy it and immediately notify the sender thereof.Since communication by Internet is not secure, Group APRR cannot accept any responsibility regarding the contents of this message.','XXXX ', resumeText)\n",
    "    resumeText = re.sub('This message and any attachments are confidential and intended for the named addressee(s) only.If you have received this message in error, please notify immediately the sender, then deletethe message. Any unauthorized modification, edition, use or dissemination is prohibited.The sender shall not be liable for this message if it has been modified, altered, falsified, infectedby a virus or even edited or disseminated without authorization.','XXXX', resumeText)\n",
    "    resumeText = re.sub('This  transmission (message and any attached files) may contain information that is proprietary, privileged and/or confidential to Veolia Environnement and/or its affiliates and is intended exclusively for the person(s) to whom it is addressed. If you are not the intended recipient, please notify the sender by return  and delete all copies of this , including all attachments. Unless expressly authorized, any use, disclosure, publication, retransmission or dissemination of this  and/or of its attachments is strictly prohibited. Ce message electronique et ses fichiers attaches sont strictement confidentiels et peuvent contenir des elements dont Veolia Environnement et/ou l\\'une de ses entites affiliees sont proprietaires. Ils sont donc destines a l\\'usage de leurs seuls destinataires. Si vous avez recu ce message par erreur, merci de le retourner a son emetteur et de le detruire ainsi que toutes les pieces attachees. L\\'utilisation, la divulgation, la publication, la distribution, ou la reproduction non expressement autorisees de ce message et de ses pieces attachees sont interdites.','XXXX ', resumeText)\n",
    "    resumeText = re.sub('This  transmission (message and any attached files) may contain information that is proprietary, privileged and/or confidential to Veolia Environnement and/or its affiliates and is intended exclusively for the person(s) to whom it is addressed. If you are not the intended recipient, please notify the sender by return  and delete all copies of this , including all attachments. Unless expressly authorized, any use, disclosure, publication, retransmission or dissemination of this  and/or of its attachments is strictly prohibited.  Ce message electronique et ses fichiers attaches sont strictement confidentiels et peuvent contenir des elements dont Veolia Environnement et/ou l\\'une de ses entites affiliees sont proprietaires. Ils sont donc destines a l\\'usage de leurs seuls destinataires. Si vous avez recu ce message par erreur, merci de le retourner a son emetteur et de le detruire ainsi que toutes les pieces attachees. L\\'utilisation, la divulgation, la publication, la distribution, ou la reproduction non expressement autorisees de ce message et de ses pieces attachees sont interdites.','XXXX ', resumeText)\n",
    "    resumeText = re.sub('Le contenu de ce message est strictement réservé à l\\'usage exclusif de son destinataire et contient de l\\'information privilégiée et confidentielle. Toute lecture, divulgation, distribution ou copie non autorisée de cette communication est formellement interdite. Si vous avez reçu cette communication par erreur, veuillez la détruire immédiatement.','XXXX', resumeText)\n",
    "    resumeText = re.sub('Ce message et toutes les Pieces jointes (ci apres : le message) sont etablis a l\\'intention exclusive de ses destinataires et sont confidentiels.Toute utilisation de ce message non conforme a sa destination, toute diffusion ou toute publication totale ou partielle est interdite sauf autorisation prealable.Si vous recevez ce message par erreur, merci de le detruire et d\\' avertir immediatement l\\'expediteur.Les communications sur Internet n\\'etant pas securisees, le Groupe APRR decline toute responsabilite quant au contenu de ce message.This message and all attached documents (hereafter \"the message\") are intended for the exclusive attention of its recipients and are confidential. Any use of this message, for which it was not intended, any distribution or any total or partial publication is prohibited unless previously approved.If you receive this message in error, please destroy it and immediately notify the sender thereof.Since communication by Internet is not secure, Group APRR cannot accept any responsibility regarding the contents of this message.','XXXX ', resumeText)\n",
    "    resumeText = re.sub('Ce message et les pièces jointes sont confidentiels et établis à l\\'attention exclusive de ses destinataires. Toute utilisation ou diffusion, même partielle, non autorisée est interdite. Tout message électronique est susceptible d\\'altération. Brink\\'s décline toute responsabilité au titre de ce message s\\'il a été altéré, déformé ou falsifié. Si vous n\\'êtes pas le destinataire de ce message, merci de le détruire et d\\'avertir l\\'expéditeur. This message and any attachments are confidential and intended solely for the addressees. Any unauthorized use or disclosure, either whole or partial is prohibited. E-s are susceptible to alteration. Brink\\'s shall not be liable for the message if altered, changed or falsified. If you are not the intended recipient of this message, please delete it and notify the sender.','XXXX ', resumeText)\n",
    "    resumeText = re.sub('Ce message et toutes les Pieces jointes (ci apres : le message) sont etablis a l\\'intention exclusive de ses destinataires et sont confidentiels.Toute utilisation de ce message non conforme a sa destination, toute diffusion ou toute publication totale ou partielle est interdite sauf autorisation prealable.Si vous recevez ce message par erreur, merci de le detruire et d\\' avertir immediatement l\\'expediteur.Les communications sur Internet n\\'etant pas securisees, le Groupe APRR decline toute responsabilite quant au contenu de ce message.','XXXX', resumeText)\n",
    "    resumeText = resumeText.replace('\\n', ' ').replace('\\r', '')\n",
    "    resumeText = ' '.join(resumeText.split())\n",
    "    resumeText = re.sub(r\"[A-Za-z\\.]*[0-9]+[A-Za-z%°\\.]*\", \"\", resumeText)\n",
    "    resumeText = re.sub(r\"(\\s\\-\\s|-$)\", \"\", resumeText)\n",
    "    resumeText = re.sub(r\"[,\\!\\?\\%\\(\\)\\/\\\"]\", \"\", resumeText)\n",
    "    resumeText = re.sub(r\"\\&\\S*\\s\", \"\", resumeText)\n",
    "    resumeText = re.sub(r\"\\&\", \"\", resumeText)\n",
    "    resumeText = re.sub(r\"\\+\", \"\", resumeText)\n",
    "    resumeText = re.sub(r\"\\#\", \"\", resumeText)\n",
    "    resumeText = re.sub(r\"\\$\", \"\", resumeText)\n",
    "    resumeText = re.sub(r\"\\£\", \"\", resumeText)\n",
    "    resumeText = re.sub(r\"\\%\", \"\", resumeText)\n",
    "    resumeText = re.sub(r\"\\:\", \"\", resumeText)\n",
    "    resumeText = re.sub(r\"\\@\", \"\", resumeText)\n",
    "    resumeText = re.sub(r\"\\-\", \"\", resumeText)\n",
    "    #print(msg['Messages'][i])\n",
    "    #resumeText = re.sub(r'[^\\x00-\\x7f]',r' ', resumeText) \n",
    "    #resumeText = re.sub('\\s+', ' ', resumeText)  # remove extra whitespace\n",
    "    return resumeText\n",
    "    \n",
    "df['Cleaned_text'] = df.Messages.apply(lambda x: cleanResume(x))"
   ]
  },
  {
   "cell_type": "code",
   "execution_count": 10,
   "id": "86a6ee04",
   "metadata": {},
   "outputs": [
    {
     "data": {
      "text/html": [
       "<div>\n",
       "<style scoped>\n",
       "    .dataframe tbody tr th:only-of-type {\n",
       "        vertical-align: middle;\n",
       "    }\n",
       "\n",
       "    .dataframe tbody tr th {\n",
       "        vertical-align: top;\n",
       "    }\n",
       "\n",
       "    .dataframe thead th {\n",
       "        text-align: right;\n",
       "    }\n",
       "</style>\n",
       "<table border=\"1\" class=\"dataframe\">\n",
       "  <thead>\n",
       "    <tr style=\"text-align: right;\">\n",
       "      <th></th>\n",
       "      <th>Messages</th>\n",
       "      <th>catégorie</th>\n",
       "      <th>Cleaned_text</th>\n",
       "      <th>occurence</th>\n",
       "    </tr>\n",
       "  </thead>\n",
       "  <tbody>\n",
       "    <tr>\n",
       "      <th>0</th>\n",
       "      <td>Bonjour,Ci-joint le mandat sepa et le rib.</td>\n",
       "      <td>contrat</td>\n",
       "      <td>bonjour ci joint le mandat sepa et le rib</td>\n",
       "      <td>42</td>\n",
       "    </tr>\n",
       "    <tr>\n",
       "      <th>1</th>\n",
       "      <td>DANIEL   GUEGANSOCIETE DES TRANSPORTS GUEGANCl...</td>\n",
       "      <td>commande de badge</td>\n",
       "      <td>daniel guegansociete des transports gueganclie...</td>\n",
       "      <td>703</td>\n",
       "    </tr>\n",
       "    <tr>\n",
       "      <th>2</th>\n",
       "      <td>Bonjour, J’ai essayé de faire la modification...</td>\n",
       "      <td>contrat</td>\n",
       "      <td>bonjour j’ai essayé de faire la modification d...</td>\n",
       "      <td>489</td>\n",
       "    </tr>\n",
       "    <tr>\n",
       "      <th>3</th>\n",
       "      <td>Bonjour, merci de me faire un badge avec la gé...</td>\n",
       "      <td>commande de badge</td>\n",
       "      <td>bonjour merci de me faire un badge avec la géo...</td>\n",
       "      <td>420</td>\n",
       "    </tr>\n",
       "    <tr>\n",
       "      <th>4</th>\n",
       "      <td>No Message</td>\n",
       "      <td>no message</td>\n",
       "      <td>no message</td>\n",
       "      <td>-1</td>\n",
       "    </tr>\n",
       "  </tbody>\n",
       "</table>\n",
       "</div>"
      ],
      "text/plain": [
       "                                            Messages          catégorie  \\\n",
       "0         Bonjour,Ci-joint le mandat sepa et le rib.            contrat   \n",
       "1  DANIEL   GUEGANSOCIETE DES TRANSPORTS GUEGANCl...  commande de badge   \n",
       "2   Bonjour, J’ai essayé de faire la modification...            contrat   \n",
       "3  Bonjour, merci de me faire un badge avec la gé...  commande de badge   \n",
       "4                                         No Message         no message   \n",
       "\n",
       "                                        Cleaned_text  occurence  \n",
       "0          bonjour ci joint le mandat sepa et le rib         42  \n",
       "1  daniel guegansociete des transports gueganclie...        703  \n",
       "2  bonjour j’ai essayé de faire la modification d...        489  \n",
       "3  bonjour merci de me faire un badge avec la géo...        420  \n",
       "4                                         no message         -1  "
      ]
     },
     "execution_count": 10,
     "metadata": {},
     "output_type": "execute_result"
    }
   ],
   "source": [
    "df.head()"
   ]
  },
  {
   "cell_type": "code",
   "execution_count": 11,
   "id": "6d612a33",
   "metadata": {},
   "outputs": [
    {
     "data": {
      "text/plain": [
       "'bonjour j’ai essayé de faire la modification du badge du ec  ks initialement en classe  que nous avons vendu et remplacé par une classe  immatriculé dw  bj le badge est via axxes sat manager portant le n°  vous trouverez ci joint la carte grise du nouveau camionn pour lequel nous vous demandons de bien vouloir soit effectuer le changement ou nous contacter afin que nous fassions cette opération en direct par téléphone svp restant à votre disposition'"
      ]
     },
     "execution_count": 11,
     "metadata": {},
     "output_type": "execute_result"
    }
   ],
   "source": [
    "df[\"Cleaned_text\"][2]"
   ]
  },
  {
   "cell_type": "code",
   "execution_count": 15,
   "id": "202e021c",
   "metadata": {},
   "outputs": [
    {
     "data": {
      "text/plain": [
       "2000"
      ]
     },
     "execution_count": 15,
     "metadata": {},
     "output_type": "execute_result"
    }
   ],
   "source": [
    "len(df)"
   ]
  },
  {
   "cell_type": "code",
   "execution_count": 44,
   "id": "10c3182d",
   "metadata": {},
   "outputs": [],
   "source": [
    "def clean_text(text):\n",
    "    text = \"\".join([word.lower() for word in text if word not in string.punctuation]) \n",
    "    tokens = re.split('\\W+', text)#separe les valeurs non alphanumérique \n",
    "    text = [wn.lemmatize(word) for word in tokens if word not in stopwords]\n",
    "    return text"
   ]
  },
  {
   "cell_type": "code",
   "execution_count": 45,
   "id": "5738b83b",
   "metadata": {},
   "outputs": [],
   "source": [
    "stopwords = nltk.corpus.stopwords.words('french') + nltk.corpus.stopwords.words('english')\n",
    "ps = nltk.PorterStemmer()\n",
    "wn = nltk.WordNetLemmatizer()"
   ]
  },
  {
   "cell_type": "code",
   "execution_count": 46,
   "id": "34082e78",
   "metadata": {},
   "outputs": [],
   "source": [
    "#df['Cleaned_text1'] = df['Cleaned_text'].apply(lambda x: clean_text(x))"
   ]
  },
  {
   "cell_type": "code",
   "execution_count": 51,
   "id": "c0a382b2",
   "metadata": {},
   "outputs": [],
   "source": [
    "X = df['Cleaned_text']\n",
    "y = df['catégorie']\n",
    "X_train, X_test, y_train, y_test = train_test_split(X, y, test_size=0.15, random_state = 22)"
   ]
  },
  {
   "cell_type": "code",
   "execution_count": 52,
   "id": "548bcd5a",
   "metadata": {},
   "outputs": [
    {
     "name": "stdout",
     "output_type": "stream",
     "text": [
      "accuracy 0.61\n",
      "                          precision    recall  f1-score   support\n",
      "\n",
      "       commande de badge       0.73      0.62      0.67        90\n",
      "                 contrat       0.45      0.90      0.60       122\n",
      "demande de renseignement       0.67      0.05      0.10        39\n",
      "           interne Axxès       1.00      0.29      0.45        17\n",
      "              no message       1.00      0.97      0.99        72\n",
      "   renseignement facture       1.00      0.03      0.05        39\n",
      "\n",
      "               micro avg       0.61      0.64      0.63       379\n",
      "               macro avg       0.81      0.48      0.48       379\n",
      "            weighted avg       0.72      0.64      0.58       379\n",
      "\n"
     ]
    }
   ],
   "source": [
    "from sklearn.naive_bayes import MultinomialNB\n",
    "from sklearn.pipeline import Pipeline\n",
    "from sklearn.feature_extraction.text import TfidfTransformer\n",
    "#from nltk.tokenize import tokenize\n",
    "\n",
    "nb = Pipeline([('vect', CountVectorizer(analyzer=clean_text)),\n",
    "               ('tfidf', TfidfTransformer()),\n",
    "               ('clf', MultinomialNB()),\n",
    "              ])\n",
    "nb.fit(X_train, y_train)\n",
    "\n",
    "\n",
    "from sklearn.metrics import classification_report\n",
    "y_pred = nb.predict(X_test)\n",
    "\n",
    "print('accuracy %s' % accuracy_score(y_pred, y_test))\n",
    "print(classification_report(y_test, y_pred,labels=np.unique(y_pred)))"
   ]
  },
  {
   "cell_type": "code",
   "execution_count": 53,
   "id": "87065d20",
   "metadata": {},
   "outputs": [
    {
     "name": "stdout",
     "output_type": "stream",
     "text": [
      "accuracy 0.685\n",
      "                                precision    recall  f1-score   support\n",
      "\n",
      "             commande de badge       0.65      0.73      0.69        90\n",
      "                       contrat       0.64      0.74      0.69       122\n",
      "      demande de renseignement       0.42      0.33      0.37        39\n",
      "                 interne Axxès       0.90      0.53      0.67        17\n",
      "                    no message       1.00      0.97      0.99        72\n",
      "         renseignement facture       0.53      0.62      0.57        39\n",
      "réclamation qualité de service       0.67      0.10      0.17        21\n",
      "\n",
      "                      accuracy                           0.69       400\n",
      "                     macro avg       0.69      0.57      0.59       400\n",
      "                  weighted avg       0.69      0.69      0.67       400\n",
      "\n"
     ]
    }
   ],
   "source": [
    "from sklearn.linear_model import SGDClassifier\n",
    "\n",
    "sgd = Pipeline([('vect', CountVectorizer(analyzer=clean_text)),\n",
    "                ('tfidf', TfidfTransformer()),\n",
    "                ('clf', SGDClassifier(loss='hinge', penalty='l2',alpha=1e-3, random_state=42, max_iter=5, tol=None)),\n",
    "               ])\n",
    "sgd.fit(X_train, y_train)\n",
    "\n",
    "\n",
    "y_pred = sgd.predict(X_test)\n",
    "\n",
    "print('accuracy %s' % accuracy_score(y_pred, y_test))\n",
    "print(classification_report(y_test, y_pred,labels=np.unique(y_pred)))"
   ]
  },
  {
   "cell_type": "code",
   "execution_count": 63,
   "id": "b75dd100",
   "metadata": {},
   "outputs": [
    {
     "name": "stdout",
     "output_type": "stream",
     "text": [
      "accuracy 0.6825\n",
      "0.5931899639859977\n",
      "0.6825\n",
      "0.6747634327484907\n",
      "                                precision    recall  f1-score   support\n",
      "\n",
      "             commande de badge       0.68      0.76      0.72        90\n",
      "                       contrat       0.70      0.66      0.68       122\n",
      "      demande de renseignement       0.38      0.49      0.43        39\n",
      "                 interne Axxès       0.79      0.65      0.71        17\n",
      "                    no message       0.96      0.97      0.97        72\n",
      "         renseignement facture       0.57      0.59      0.58        39\n",
      "réclamation qualité de service       0.14      0.05      0.07        21\n",
      "\n",
      "                      accuracy                           0.68       400\n",
      "                     macro avg       0.60      0.59      0.59       400\n",
      "                  weighted avg       0.67      0.68      0.67       400\n",
      "\n"
     ]
    },
    {
     "name": "stderr",
     "output_type": "stream",
     "text": [
      "C:\\Users\\bertille.lekeufack\\.conda\\envs\\stage1\\lib\\site-packages\\sklearn\\linear_model\\_logistic.py:763: ConvergenceWarning: lbfgs failed to converge (status=1):\n",
      "STOP: TOTAL NO. of ITERATIONS REACHED LIMIT.\n",
      "\n",
      "Increase the number of iterations (max_iter) or scale the data as shown in:\n",
      "    https://scikit-learn.org/stable/modules/preprocessing.html\n",
      "Please also refer to the documentation for alternative solver options:\n",
      "    https://scikit-learn.org/stable/modules/linear_model.html#logistic-regression\n",
      "  n_iter_i = _check_optimize_result(\n"
     ]
    }
   ],
   "source": [
    "from sklearn.linear_model import LogisticRegression\n",
    "\n",
    "logreg = Pipeline([('vect', CountVectorizer()),\n",
    "                ('tfidf', TfidfTransformer()),\n",
    "                ('clf', LogisticRegression(n_jobs=1, C=1e5)),\n",
    "               ])\n",
    "logreg.fit(X_train, y_train)\n",
    "\n",
    "\n",
    "y_pred = logreg.predict(X_test)\n",
    "\n",
    "print('accuracy %s' % accuracy_score(y_pred, y_test))\n",
    "print(f1_score(y_test, y_pred, average='macro'))\n",
    "print(f1_score(y_test, y_pred, average='micro'))\n",
    "print(f1_score(y_test, y_pred, average='weighted'))\n",
    "\n",
    "print(classification_report(y_test, y_pred,labels=np.unique(y_pred)))"
   ]
  },
  {
   "cell_type": "code",
   "execution_count": null,
   "id": "4d72f61e",
   "metadata": {},
   "outputs": [],
   "source": [
    "len(lem_words)"
   ]
  },
  {
   "cell_type": "code",
   "execution_count": null,
   "id": "f28583e8",
   "metadata": {},
   "outputs": [],
   "source": [
    "same=0\n",
    "diff=0\n",
    "\n",
    "for i in range(0,1832):\n",
    "    if(lem_words[i]==words_new[i]):\n",
    "        same=same+1\n",
    "    elif(lem_words[i]!=words_new[i]):\n",
    "        diff=diff+1\n",
    "        \n",
    "print('Number of words Lemmatized=', diff)\n",
    "print('Number of words not Lemmatized=', same)"
   ]
  },
  {
   "cell_type": "code",
   "execution_count": null,
   "id": "fca98697",
   "metadata": {},
   "outputs": [],
   "source": [
    "#The frequency distribution of the words\n",
    "freq_dist = nltk.FreqDist(lem_words)"
   ]
  },
  {
   "cell_type": "code",
   "execution_count": null,
   "id": "80871b86",
   "metadata": {},
   "outputs": [],
   "source": [
    "#Frequency Distribution Plot\n",
    "plt.subplots(figsize=(20,12))\n",
    "freq_dist.plot(30)"
   ]
  },
  {
   "cell_type": "code",
   "execution_count": null,
   "id": "b41cf2ca",
   "metadata": {},
   "outputs": [],
   "source": [
    "len(freq_dist)"
   ]
  },
  {
   "cell_type": "code",
   "execution_count": null,
   "id": "2c8ffe55",
   "metadata": {},
   "outputs": [],
   "source": [
    "mostcommon = freq_dist.most_common(50)"
   ]
  },
  {
   "cell_type": "code",
   "execution_count": null,
   "id": "90e43d36",
   "metadata": {},
   "outputs": [],
   "source": [
    "mostcommon"
   ]
  },
  {
   "cell_type": "code",
   "execution_count": null,
   "id": "125ded07",
   "metadata": {},
   "outputs": [],
   "source": [
    "#converting into string\n",
    "\n",
    "res=' '.join([i for i in lem_words if not i.isdigit()])"
   ]
  },
  {
   "cell_type": "code",
   "execution_count": null,
   "id": "b1eed2c1",
   "metadata": {},
   "outputs": [],
   "source": [
    "plt.subplots(figsize=(16,10))\n",
    "wordcloud = WordCloud(\n",
    "                          background_color='black',\n",
    "                          max_words=100,\n",
    "                          width=1400,\n",
    "                          height=1200\n",
    "                         ).generate(res)\n",
    "\n",
    "\n",
    "plt.imshow(wordcloud)\n",
    "plt.title('Resume Text WordCloud (100 Words)')\n",
    "plt.axis('off')\n",
    "plt.show()"
   ]
  },
  {
   "cell_type": "code",
   "execution_count": null,
   "id": "09ce48a4",
   "metadata": {},
   "outputs": [],
   "source": [
    "plt.subplots(figsize=(20,15))\n",
    "wordcloud = WordCloud(\n",
    "                          background_color='black',\n",
    "                          max_words=200,\n",
    "                          width=1400,\n",
    "                          height=1200\n",
    "                         ).generate(res)\n",
    "\n",
    "\n",
    "plt.imshow(wordcloud)\n",
    "plt.title('Resume Text WordCloud (200 Words)')\n",
    "plt.axis('off')\n",
    "plt.show()"
   ]
  },
  {
   "cell_type": "code",
   "execution_count": null,
   "id": "e52cbd21",
   "metadata": {},
   "outputs": [],
   "source": [
    "data_science= df[df[\"catégorie\"]==\"commande de badge\"]"
   ]
  },
  {
   "cell_type": "code",
   "execution_count": null,
   "id": "1742d623",
   "metadata": {},
   "outputs": [],
   "source": [
    "data_science.head()"
   ]
  },
  {
   "cell_type": "code",
   "execution_count": null,
   "id": "0561bf75",
   "metadata": {},
   "outputs": [],
   "source": [
    "len(data_science)"
   ]
  },
  {
   "cell_type": "code",
   "execution_count": null,
   "id": "4ca8d340",
   "metadata": {},
   "outputs": [],
   "source": [
    "#getting the entire resume text\n",
    "\n",
    "data_science_corpus = \" \"\n",
    "\n",
    "for i in range(0,40):\n",
    "    data_science_corpus = data_science_corpus + data_science[\"Cleaned_text\"][i]"
   ]
  },
  {
   "cell_type": "code",
   "execution_count": null,
   "id": "c0bebdd9",
   "metadata": {},
   "outputs": [],
   "source": [
    "data_science_corpus=data_science_corpus.lower()"
   ]
  },
  {
   "cell_type": "code",
   "execution_count": null,
   "id": "148ebdae",
   "metadata": {},
   "outputs": [],
   "source": [
    "words_data_science=data_science_corpus.split()"
   ]
  },
  {
   "cell_type": "code",
   "execution_count": null,
   "id": "dd6d683e",
   "metadata": {},
   "outputs": [],
   "source": []
  }
 ],
 "metadata": {
  "kernelspec": {
   "display_name": "Python 3",
   "language": "python",
   "name": "python3"
  },
  "language_info": {
   "codemirror_mode": {
    "name": "ipython",
    "version": 3
   },
   "file_extension": ".py",
   "mimetype": "text/x-python",
   "name": "python",
   "nbconvert_exporter": "python",
   "pygments_lexer": "ipython3",
   "version": "3.8.8"
  }
 },
 "nbformat": 4,
 "nbformat_minor": 5
}
