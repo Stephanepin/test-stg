{
 "cells": [
  {
   "cell_type": "code",
   "execution_count": null,
   "metadata": {},
   "outputs": [],
   "source": [
    "import os\n",
    "import pandas as pd\n",
    "import numpy as np\n",
    "from bs4 import BeautifulSoup\n",
    "import os.path, time\n",
    "\n",
    "def total():\n",
    "    tab1 = []\n",
    "    for root, dirs, files in os.walk(\"U:\\stage\\BAL_Lyon\", topdown = False):\n",
    "        for name in files:\n",
    "            #with open(os.path.join(root,name), 'r', encoding=\"utf8\") as f:\n",
    "            fhand = open(os.path.join(root,name),'r',encoding='utf8')\n",
    "            contenu = fhand.read()\n",
    "            soup = BeautifulSoup(contenu, \"html.parser\")\n",
    "            message = soup.get_text(separator=' ')\n",
    "            date_crea = time.ctime(os.path.getctime(os.path.join(root,name)))\n",
    "            date_modif = time.ctime(os.path.getmtime(os.path.join(root,name)))\n",
    "            d = {'Messages': message,'Nom du fichier':name, 'Date de création':date_crea, 'Date de modification':date_modif}\n",
    "            tab1.append(d)\n",
    "   \n",
    "                #soup = BeautifulSoup(f.read(),'html.parser')\n",
    "                #var = soup.get_text()\n",
    "                #message = var.get_text(separator=' ') #if var else  'no message'\n",
    "                #date_crea = time.ctime(os.path.getctime(os.path.join(root,name)))\n",
    "                #date_modif = time.ctime(os.path.getmtime(os.path.join(root,name)))\n",
    "                #d = {'Messages': message,'Nom du fichier':name, 'Date de création':date_crea, 'Date de modification':date_modif}\n",
    "                #tab1.append(d)\n",
    "               \n",
    "    df = pd.DataFrame(tab1)\n",
    "    df.to_excel(\"final22.xlsx\", index = False)\n",
    "    return tab1"
   ]
  },
  {
   "cell_type": "code",
   "execution_count": null,
   "metadata": {},
   "outputs": [],
   "source": [
    "total()"
   ]
  },
  {
   "cell_type": "code",
   "execution_count": null,
   "metadata": {
    "scrolled": true
   },
   "outputs": [],
   "source": [
    "df = pd.read_excel(\"final22.xlsx\",engine='openpyxl')\n",
    "df.head(20)"
   ]
  },
  {
   "cell_type": "code",
   "execution_count": null,
   "metadata": {},
   "outputs": [],
   "source": [
    "import os\n",
    "import pandas as pd\n",
    "import numpy as np\n",
    "import os.path, time\n",
    "\n",
    "def extraction_annee():\n",
    "    tab_annee = []\n",
    "    for root, dirs, files in os.walk(\"U:\\stage\\BAL_Lyon\", topdown = False):\n",
    "        for name in files:\n",
    "            fhand = open(os.path.join(root,name),'r',encoding='utf8')\n",
    "            #contenu = fhand.read()\n",
    "            date_crea = time.ctime(os.path.getctime(os.path.join(root,name)))\n",
    "            all_annee = pd.to_datetime(date_crea).year\n",
    "            mois =  pd.to_datetime(date_crea).month\n",
    "            d = {'annee': all_annee}\n",
    "            tab_annee.append(d)\n",
    "    df = pd.DataFrame(tab_annee)\n",
    "    df.to_excel(\"liste_annee.xlsx\", index = False)\n",
    "    return tab_annee\n",
    "  "
   ]
  },
  {
   "cell_type": "code",
   "execution_count": null,
   "metadata": {},
   "outputs": [],
   "source": [
    "extraction_annee()"
   ]
  },
  {
   "cell_type": "code",
   "execution_count": null,
   "metadata": {},
   "outputs": [],
   "source": [
    "import os\n",
    "import pandas as pd\n",
    "import numpy as np\n",
    "import os.path, time\n",
    "\n",
    "def extraction_nouveau_fichier():\n",
    "    tab_annee = []\n",
    "    for root, dirs, files in os.walk(\"U:\\stage\\BAL_Lyon\", topdown = False):\n",
    "        for name in files:\n",
    "            fhand = open(os.path.join(root,name),'r',encoding='utf8')\n",
    "            \n",
    "            #contenu = fhand.read()\n",
    "            date_crea = time.ctime(os.path.getctime(os.path.join(root,name)))\n",
    "            all_annee = pd.to_datetime(date_crea).hour\n",
    "            mois =  pd.to_datetime(date_crea).month\n",
    "            d = {'annee': all_annee}\n",
    "            tab_annee.append(d)\n",
    "    df = pd.DataFrame(tab_annee)\n",
    "    df.to_excel(\"liste_annee.xlsx\", index = False)\n",
    "    return tab_annee\n",
    "  "
   ]
  },
  {
   "cell_type": "code",
   "execution_count": null,
   "metadata": {},
   "outputs": [],
   "source": [
    "import os\n",
    "import pandas as pd\n",
    "import numpy as np\n",
    "from bs4 import BeautifulSoup\n",
    "import os.path, time\n",
    "from filecmp import dircmp\n",
    "def total():\n",
    "    tab1 = []\n",
    "    for root, dirs, files in os.walk(\"U:\\stage\\BAL_Lyon\", topdown = False):\n",
    "        for name in files:\n",
    "            #with open(os.path.join(root,name), 'r', encoding=\"utf8\") as f:\n",
    "            fhand = open(os.path.join(root,name),'r',encoding='utf8')\n",
    "            contenu = fhand.read()\n",
    "            soup = BeautifulSoup(contenu, \"html.parser\")\n",
    "            message = soup.get_text(separator=' ')\n",
    "            date_crea = time.ctime(os.path.getctime(os.path.join(root,name)))\n",
    "            date_modif = time.ctime(os.path.getmtime(os.path.join(root,name)))\n",
    "            d = {'Messages': message,'Nom du fichier':name, 'Date de création':date_crea, 'Date de modification':date_modif}\n",
    "            tab1.append(d)\n",
    "    df = pd.DataFrame(tab1)\n",
    "    data = pd.read_excel('final_210504_tous labels.xlsx',engine='openpyxl')\n",
    "    merged_df = data.merge(df, indicator=True, how='outer')\n",
    "    changed_rows_df = merged_df[merged_df['_merge'] == 'right_only']\n",
    "    return changed_rows_df.drop('_merge', axis=1)\n",
    "    #df.to_excel(\"final22.xlsx\", index = False)\n",
    "    #return tab1"
   ]
  },
  {
   "cell_type": "code",
   "execution_count": null,
   "metadata": {},
   "outputs": [],
   "source": [
    "total()"
   ]
  },
  {
   "cell_type": "code",
   "execution_count": null,
   "metadata": {},
   "outputs": [],
   "source": [
    "def get_different_rows(source_df, new_df):\n",
    "    \"\"\"Returns just the rows from the new dataframe that differ from the source dataframe\"\"\"\n",
    "    merged_df = source_df.merge(new_df, indicator=True, how='outer')\n",
    "    changed_rows_df = merged_df[merged_df['_merge'] == 'right_only']\n",
    "    return changed_rows_df.drop('_merge', axis=1)"
   ]
  },
  {
   "cell_type": "code",
   "execution_count": null,
   "metadata": {},
   "outputs": [],
   "source": [
    "a=\"U:\\stage\\BAL_Lyon\"\n",
    "b=\"U:\\stage1\"\n",
    "\n",
    "from filecmp import dircmp\n",
    "def print_diff_files(dcmp):\n",
    "    for name in dcmp.diff_files:\n",
    "        print(\"diff_file %s found in %s and %s\" % (name, dcmp.left,\n",
    "           dcmp.right))\n",
    "\n",
    "dcmp = dircmp(a, b) \n",
    "print_diff_files(dcmp) \n",
    "#print_diff_files(dircmp(a, b))"
   ]
  },
  {
   "cell_type": "code",
   "execution_count": null,
   "metadata": {},
   "outputs": [],
   "source": [
    "ae=dcmp.left_only\n"
   ]
  },
  {
   "cell_type": "code",
   "execution_count": null,
   "metadata": {},
   "outputs": [],
   "source": [
    "#copie de nouveau  fichier qui marche très bien\n",
    "import shutil\n",
    "def copy():\n",
    "    a=\"U:\\stage\\BAL_Lyon\"\n",
    "    b=\"U:\\stage1\"\n",
    "    diff = dircmp(a, b)\n",
    "    for ldif_file in diff.left_only:\n",
    "        shutil.copyfile(\n",
    "                os.path.join(a, ldif_file),\n",
    "                os.path.join(b, ldif_file)\n",
    "        ) "
   ]
  },
  {
   "cell_type": "code",
   "execution_count": null,
   "metadata": {},
   "outputs": [],
   "source": [
    "ta"
   ]
  },
  {
   "cell_type": "code",
   "execution_count": null,
   "metadata": {},
   "outputs": [],
   "source": [
    "from openpyxl import load_workbook"
   ]
  },
  {
   "cell_type": "code",
   "execution_count": null,
   "metadata": {},
   "outputs": [],
   "source": [
    "#writer = pd.ExcelWriter('atest.xlsx', engine='openpyxl', mode='w')\n",
    "#d1.to_excel(writer,sheet_name='d1')\n",
    "#writer.save()\n",
    "#writer.close()\n",
    "\n",
    "writer = pd.ExcelWriter('final_210504_tous labels.xlsx', engine='openpyxl', mode='w')\n",
    "writer.book = load_workbook('final_210504_tous labels.xlsx')\n",
    "t= pd.DataFrame(ta)\n",
    "t.to_excel(writer,sheet_name='Sheet1')\n",
    "writer.save()\n",
    "writer.close()"
   ]
  },
  {
   "cell_type": "code",
   "execution_count": null,
   "metadata": {},
   "outputs": [],
   "source": [
    "wb = load_workbook ('final_210504_tous labels.xlsx')\n",
    "sheet = wb.active"
   ]
  },
  {
   "cell_type": "code",
   "execution_count": null,
   "metadata": {},
   "outputs": [],
   "source": [
    "filename0='U:/final_210504_tous labels.xlsx'\n",
    "filename1 = open(filename0, 'r', encoding=\"utf8\")  \n",
    "filename2 = filename1.read()  "
   ]
  },
  {
   "cell_type": "code",
   "execution_count": null,
   "metadata": {},
   "outputs": [],
   "source": [
    "append_df_to_excel(filename2, ta)"
   ]
  },
  {
   "cell_type": "code",
   "execution_count": null,
   "metadata": {},
   "outputs": [],
   "source": [
    "df = pd.read_csv('final_210504_tous labels_encsv.csv', index_col=0)\n"
   ]
  },
  {
   "cell_type": "code",
   "execution_count": null,
   "metadata": {},
   "outputs": [],
   "source": []
  },
  {
   "cell_type": "code",
   "execution_count": 16,
   "metadata": {},
   "outputs": [
    {
     "name": "stdout",
     "output_type": "stream",
     "text": [
      "U:\\stage\\BAL_Lyon\\2021 Avr\n"
     ]
    },
    {
     "ename": "PermissionError",
     "evalue": "[Errno 13] Permission denied: 'U:\\\\stage\\\\BAL_Lyon\\\\2021 Avr'",
     "output_type": "error",
     "traceback": [
      "\u001b[1;31m---------------------------------------------------------------------------\u001b[0m",
      "\u001b[1;31mPermissionError\u001b[0m                           Traceback (most recent call last)",
      "\u001b[1;32m<ipython-input-16-5786dfd166b2>\u001b[0m in \u001b[0;36m<module>\u001b[1;34m\u001b[0m\n\u001b[0;32m     14\u001b[0m    \u001b[1;32mfor\u001b[0m \u001b[0mroot\u001b[0m\u001b[1;33m,\u001b[0m \u001b[0mdirs\u001b[0m\u001b[1;33m,\u001b[0m \u001b[0mfiles\u001b[0m \u001b[1;32min\u001b[0m \u001b[0mos\u001b[0m\u001b[1;33m.\u001b[0m\u001b[0mwalk\u001b[0m\u001b[1;33m(\u001b[0m\u001b[0mos\u001b[0m\u001b[1;33m.\u001b[0m\u001b[0mpath\u001b[0m\u001b[1;33m.\u001b[0m\u001b[0mjoin\u001b[0m\u001b[1;33m(\u001b[0m\u001b[0ma\u001b[0m\u001b[1;33m,\u001b[0m \u001b[0mldif_file\u001b[0m\u001b[1;33m)\u001b[0m\u001b[1;33m,\u001b[0m \u001b[0mtopdown\u001b[0m \u001b[1;33m=\u001b[0m \u001b[1;32mFalse\u001b[0m\u001b[1;33m)\u001b[0m\u001b[1;33m:\u001b[0m\u001b[1;33m\u001b[0m\u001b[1;33m\u001b[0m\u001b[0m\n\u001b[0;32m     15\u001b[0m        \u001b[0mprint\u001b[0m\u001b[1;33m(\u001b[0m\u001b[0mos\u001b[0m\u001b[1;33m.\u001b[0m\u001b[0mpath\u001b[0m\u001b[1;33m.\u001b[0m\u001b[0mjoin\u001b[0m\u001b[1;33m(\u001b[0m\u001b[0mroot\u001b[0m\u001b[1;33m)\u001b[0m\u001b[1;33m)\u001b[0m\u001b[1;33m\u001b[0m\u001b[1;33m\u001b[0m\u001b[0m\n\u001b[1;32m---> 16\u001b[1;33m        \u001b[1;32mwith\u001b[0m \u001b[0mopen\u001b[0m\u001b[1;33m(\u001b[0m\u001b[0mos\u001b[0m\u001b[1;33m.\u001b[0m\u001b[0mpath\u001b[0m\u001b[1;33m.\u001b[0m\u001b[0mjoin\u001b[0m\u001b[1;33m(\u001b[0m\u001b[0mroot\u001b[0m\u001b[1;33m)\u001b[0m\u001b[1;33m,\u001b[0m\u001b[1;34m'r'\u001b[0m\u001b[1;33m,\u001b[0m\u001b[0mencoding\u001b[0m\u001b[1;33m=\u001b[0m\u001b[1;34m'utf8'\u001b[0m\u001b[1;33m)\u001b[0m \u001b[1;32mas\u001b[0m \u001b[0mfhand\u001b[0m\u001b[1;33m:\u001b[0m\u001b[1;33m\u001b[0m\u001b[1;33m\u001b[0m\u001b[0m\n\u001b[0m\u001b[0;32m     17\u001b[0m            \u001b[0mcontenu\u001b[0m \u001b[1;33m=\u001b[0m \u001b[0mfhand\u001b[0m\u001b[1;33m.\u001b[0m\u001b[0mread\u001b[0m\u001b[1;33m(\u001b[0m\u001b[1;33m)\u001b[0m\u001b[1;33m\u001b[0m\u001b[1;33m\u001b[0m\u001b[0m\n\u001b[0;32m     18\u001b[0m            \u001b[0msoup\u001b[0m \u001b[1;33m=\u001b[0m \u001b[0mBeautifulSoup\u001b[0m\u001b[1;33m(\u001b[0m\u001b[0mcontenu\u001b[0m\u001b[1;33m,\u001b[0m \u001b[1;34m\"html.parser\"\u001b[0m\u001b[1;33m)\u001b[0m\u001b[1;33m\u001b[0m\u001b[1;33m\u001b[0m\u001b[0m\n",
      "\u001b[1;31mPermissionError\u001b[0m: [Errno 13] Permission denied: 'U:\\\\stage\\\\BAL_Lyon\\\\2021 Avr'"
     ]
    }
   ],
   "source": [
    " #extraction de nouveau fichier\n",
    "import os\n",
    "import pandas as pd\n",
    "import numpy as np\n",
    "from bs4 import BeautifulSoup\n",
    "import os.path, time\n",
    "from filecmp import dircmp\n",
    "a=\"U:\\\\stage\\\\BAL_Lyon\"\n",
    "b=\"U:\\\\stage1\"\n",
    "diff = dircmp(a, b)\n",
    "ta=[]\n",
    "\n",
    "for ldif_file in diff.left_only:\n",
    "    for root, dirs, files in os.walk(os.path.join(a, ldif_file), topdown = False):\n",
    "        print(os.path.join(root))\n",
    "        with open(os.path.join(root),'r',encoding='utf8') as fhand:\n",
    "            contenu = fhand.read()\n",
    "            soup = BeautifulSoup(contenu, \"html.parser\")\n",
    "            message = soup.get_text(separator=' ')\n",
    "            date_crea = time.ctime(os.path.getctime(os.path.join(a, ldif_file)))\n",
    "            date_modif = time.ctime(os.path.getmtime(os.path.join(a, ldif_file)))\n",
    "            d = {'Messages': message,'Nom du fichier':ldif_file, 'Date de création':date_crea, 'Date de modification':date_modif,\n",
    "                        'catégorie':''}\n",
    "            ta.append(d)        \n"
   ]
  },
  {
   "cell_type": "code",
   "execution_count": 20,
   "metadata": {},
   "outputs": [
    {
     "data": {
      "text/html": [
       "<div>\n",
       "<style scoped>\n",
       "    .dataframe tbody tr th:only-of-type {\n",
       "        vertical-align: middle;\n",
       "    }\n",
       "\n",
       "    .dataframe tbody tr th {\n",
       "        vertical-align: top;\n",
       "    }\n",
       "\n",
       "    .dataframe thead th {\n",
       "        text-align: right;\n",
       "    }\n",
       "</style>\n",
       "<table border=\"1\" class=\"dataframe\">\n",
       "  <thead>\n",
       "    <tr style=\"text-align: right;\">\n",
       "      <th></th>\n",
       "      <th>Messages</th>\n",
       "      <th>Nom du fichier</th>\n",
       "      <th>Date de création</th>\n",
       "      <th>Date de modification</th>\n",
       "      <th>catégorie</th>\n",
       "    </tr>\n",
       "  </thead>\n",
       "  <tbody>\n",
       "    <tr>\n",
       "      <th>0</th>\n",
       "      <td></td>\n",
       "      <td>Nouveau document texte (5).txt</td>\n",
       "      <td>Fri Jun  4 16:32:08 2021</td>\n",
       "      <td>Fri Jun  4 16:32:08 2021</td>\n",
       "      <td></td>\n",
       "    </tr>\n",
       "  </tbody>\n",
       "</table>\n",
       "</div>"
      ],
      "text/plain": [
       "  Messages                  Nom du fichier          Date de création  \\\n",
       "0           Nouveau document texte (5).txt  Fri Jun  4 16:32:08 2021   \n",
       "\n",
       "       Date de modification catégorie  \n",
       "0  Fri Jun  4 16:32:08 2021            "
      ]
     },
     "execution_count": 20,
     "metadata": {},
     "output_type": "execute_result"
    }
   ],
   "source": [
    "t= pd.DataFrame(ta)\n",
    "t\n"
   ]
  },
  {
   "cell_type": "code",
   "execution_count": 18,
   "metadata": {},
   "outputs": [],
   "source": [
    "import os\n",
    "import pandas as pd\n",
    "import numpy as np\n",
    "from bs4 import BeautifulSoup\n",
    "import os.path, time\n",
    "\n",
    "def total():\n",
    "    tab1 = []\n",
    "    for root, dirs, files in os.walk(\"U:\\\\stage\\\\BAL_Lyon\", topdown = False):\n",
    "        for name in files:\n",
    "            #print(os.path.join(name))\n",
    "            print(name)\n",
    "            with open(os.path.join(root,name), 'r', encoding=\"utf8\") as f:\n",
    "                soup = BeautifulSoup(f.read(),'html.parser')\n",
    "                var = soup.find('body')\n",
    "                message = var.getText() if var else \"No Message\"\n",
    "                date_crea = time.ctime(os.path.getctime(os.path.join(root,name)))\n",
    "                date_modif = time.ctime(os.path.getmtime(os.path.join(root,name)))\n",
    "                d = {'Messages': message,'Nom du fichier':name, 'Date de création':date_crea, 'Date de modification':date_modif}\n",
    "                tab1.append(d)\n",
    "               \n",
    "    df = pd.DataFrame(tab1)\n",
    "    df.to_csv(\"fina.csv\", index = False)\n",
    "    return tab1"
   ]
  },
  {
   "cell_type": "code",
   "execution_count": 19,
   "metadata": {},
   "outputs": [
    {
     "data": {
      "text/plain": [
       "[]"
      ]
     },
     "execution_count": 19,
     "metadata": {},
     "output_type": "execute_result"
    }
   ],
   "source": [
    "total()"
   ]
  },
  {
   "cell_type": "code",
   "execution_count": null,
   "metadata": {},
   "outputs": [],
   "source": []
  }
 ],
 "metadata": {
  "kernelspec": {
   "display_name": "Python 3",
   "language": "python",
   "name": "python3"
  },
  "language_info": {
   "codemirror_mode": {
    "name": "ipython",
    "version": 3
   },
   "file_extension": ".py",
   "mimetype": "text/x-python",
   "name": "python",
   "nbconvert_exporter": "python",
   "pygments_lexer": "ipython3",
   "version": "3.8.8"
  }
 },
 "nbformat": 4,
 "nbformat_minor": 4
}
