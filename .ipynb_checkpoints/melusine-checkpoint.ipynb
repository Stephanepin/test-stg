{
 "cells": [
  {
   "cell_type": "code",
   "execution_count": 4,
   "metadata": {},
   "outputs": [
    {
     "name": "stdout",
     "output_type": "stream",
     "text": [
      "Collecting melusine"
     ]
    },
    {
     "name": "stderr",
     "output_type": "stream",
     "text": [
      "ERROR: pip's dependency resolver does not currently take into account all the packages that are installed. This behaviour is the source of the following dependency conflicts.\n",
      "tensorflow-gpu 2.4.1 requires numpy~=1.19.2, but you have numpy 1.18.5 which is incompatible.\n",
      "tensorflow-gpu 2.4.1 requires tensorflow-estimator<2.5.0,>=2.4.0, but you have tensorflow-estimator 2.3.0 which is incompatible.\n"
     ]
    },
    {
     "name": "stdout",
     "output_type": "stream",
     "text": [
      "\n",
      "  Using cached melusine-2.2.6-py2.py3-none-any.whl (119 kB)\n",
      "Requirement already satisfied: joblib in c:\\users\\lekeu\\anaconda4\\lib\\site-packages (from melusine) (0.17.0)\n",
      "Requirement already satisfied: scikit-learn>=0.19.0 in c:\\users\\lekeu\\anaconda4\\lib\\site-packages (from melusine) (0.23.2)\n",
      "Collecting unidecode\n",
      "  Using cached Unidecode-1.2.0-py2.py3-none-any.whl (241 kB)\n",
      "Requirement already satisfied: pandas>=0.25.0 in c:\\users\\lekeu\\anaconda4\\lib\\site-packages (from melusine) (1.1.3)\n",
      "Requirement already satisfied: h5py==2.10.0 in c:\\users\\lekeu\\anaconda4\\lib\\site-packages (from melusine) (2.10.0)\n",
      "Collecting streamlit>=0.57.3\n",
      "  Using cached streamlit-0.80.0-py2.py3-none-any.whl (8.2 MB)\n",
      "Collecting numpy<1.19.0,>=1.16.4\n",
      "  Using cached numpy-1.18.5-cp38-cp38-win_amd64.whl (12.8 MB)\n",
      "Collecting plotly\n",
      "  Using cached plotly-4.14.3-py2.py3-none-any.whl (13.2 MB)\n",
      "Collecting transformers==3.4.0\n",
      "  Using cached transformers-3.4.0-py3-none-any.whl (1.3 MB)\n",
      "Collecting gensim>=3.3.0\n",
      "  Using cached gensim-4.0.1-cp38-cp38-win_amd64.whl (23.9 MB)\n",
      "Collecting flashtext>=2.7\n",
      "  Using cached flashtext-2.7-py2.py3-none-any.whl\n",
      "Requirement already satisfied: tensorflow>=2.0.0 in c:\\users\\lekeu\\anaconda4\\lib\\site-packages (from melusine) (2.4.1)\n",
      "Requirement already satisfied: tqdm>=4.34 in c:\\users\\lekeu\\anaconda4\\lib\\site-packages (from melusine) (4.50.2)\n",
      "Requirement already satisfied: six in c:\\users\\lekeu\\anaconda4\\lib\\site-packages (from h5py==2.10.0->melusine) (1.15.0)\n",
      "Requirement already satisfied: filelock in c:\\users\\lekeu\\anaconda4\\lib\\site-packages (from transformers==3.4.0->melusine) (3.0.12)\n",
      "Collecting sacremoses\n",
      "  Using cached sacremoses-0.0.45-py3-none-any.whl (895 kB)\n",
      "Requirement already satisfied: protobuf in c:\\users\\lekeu\\anaconda4\\lib\\site-packages (from transformers==3.4.0->melusine) (3.15.3)\n",
      "Collecting sentencepiece!=0.1.92\n",
      "  Using cached sentencepiece-0.1.95-cp38-cp38-win_amd64.whl (1.2 MB)\n",
      "Requirement already satisfied: regex!=2019.12.17 in c:\\users\\lekeu\\anaconda4\\lib\\site-packages (from transformers==3.4.0->melusine) (2020.10.15)\n",
      "Requirement already satisfied: packaging in c:\\users\\lekeu\\anaconda4\\lib\\site-packages (from transformers==3.4.0->melusine) (20.4)\n",
      "Collecting tokenizers==0.9.2\n",
      "  Using cached tokenizers-0.9.2-cp38-cp38-win_amd64.whl (1.9 MB)\n",
      "Requirement already satisfied: requests in c:\\users\\lekeu\\anaconda4\\lib\\site-packages (from transformers==3.4.0->melusine) (2.24.0)\n",
      "Requirement already satisfied: Cython==0.29.21 in c:\\users\\lekeu\\anaconda4\\lib\\site-packages (from gensim>=3.3.0->melusine) (0.29.21)\n",
      "Requirement already satisfied: scipy>=0.18.1 in c:\\users\\lekeu\\appdata\\roaming\\python\\python38\\site-packages (from gensim>=3.3.0->melusine) (1.4.1)\n",
      "Requirement already satisfied: smart-open>=1.8.1 in c:\\users\\lekeu\\anaconda4\\lib\\site-packages (from gensim>=3.3.0->melusine) (3.0.0)\n",
      "Requirement already satisfied: python-dateutil>=2.7.3 in c:\\users\\lekeu\\anaconda4\\lib\\site-packages (from pandas>=0.25.0->melusine) (2.8.1)\n",
      "Requirement already satisfied: pytz>=2017.2 in c:\\users\\lekeu\\anaconda4\\lib\\site-packages (from pandas>=0.25.0->melusine) (2020.1)\n",
      "Requirement already satisfied: threadpoolctl>=2.0.0 in c:\\users\\lekeu\\anaconda4\\lib\\site-packages (from scikit-learn>=0.19.0->melusine) (2.1.0)\n",
      "Collecting gitpython\n",
      "  Using cached GitPython-3.1.14-py3-none-any.whl (159 kB)\n",
      "Collecting validators\n",
      "  Using cached validators-0.18.2-py3-none-any.whl (19 kB)\n",
      "Collecting astor\n",
      "  Using cached astor-0.8.1-py2.py3-none-any.whl (27 kB)\n",
      "Collecting pydeck>=0.1.dev5\n",
      "  Using cached pydeck-0.6.2-py2.py3-none-any.whl (4.2 MB)\n",
      "Collecting blinker\n",
      "  Using cached blinker-1.4-py3-none-any.whl\n",
      "Requirement already satisfied: pillow>=6.2.0 in c:\\users\\lekeu\\anaconda4\\lib\\site-packages (from streamlit>=0.57.3->melusine) (8.0.1)\n",
      "Requirement already satisfied: tornado>=5.0 in c:\\users\\lekeu\\anaconda4\\lib\\site-packages (from streamlit>=0.57.3->melusine) (6.0.4)\n",
      "Requirement already satisfied: click>=7.0 in c:\\users\\lekeu\\anaconda4\\lib\\site-packages (from streamlit>=0.57.3->melusine) (7.1.2)\n",
      "Requirement already satisfied: toml in c:\\users\\lekeu\\anaconda4\\lib\\site-packages (from streamlit>=0.57.3->melusine) (0.10.1)\n",
      "Collecting base58\n",
      "  Using cached base58-2.1.0-py3-none-any.whl (5.6 kB)\n",
      "Requirement already satisfied: cachetools>=4.0 in c:\\users\\lekeu\\anaconda4\\lib\\site-packages (from streamlit>=0.57.3->melusine) (4.2.1)\n",
      "Collecting altair>=3.2.0\n",
      "  Using cached altair-4.1.0-py3-none-any.whl (727 kB)\n",
      "Requirement already satisfied: watchdog in c:\\users\\lekeu\\anaconda4\\lib\\site-packages (from streamlit>=0.57.3->melusine) (0.10.3)\n",
      "Collecting tzlocal\n",
      "  Using cached tzlocal-2.1-py2.py3-none-any.whl (16 kB)\n",
      "Collecting pyarrow\n",
      "  Using cached pyarrow-3.0.0-cp38-cp38-win_amd64.whl (12.7 MB)\n",
      "Requirement already satisfied: jinja2 in c:\\users\\lekeu\\anaconda4\\lib\\site-packages (from altair>=3.2.0->streamlit>=0.57.3->melusine) (2.11.2)\n",
      "Requirement already satisfied: jsonschema in c:\\users\\lekeu\\anaconda4\\lib\\site-packages (from altair>=3.2.0->streamlit>=0.57.3->melusine) (3.2.0)\n",
      "Requirement already satisfied: toolz in c:\\users\\lekeu\\anaconda4\\lib\\site-packages (from altair>=3.2.0->streamlit>=0.57.3->melusine) (0.11.1)\n",
      "Requirement already satisfied: entrypoints in c:\\users\\lekeu\\anaconda4\\lib\\site-packages (from altair>=3.2.0->streamlit>=0.57.3->melusine) (0.3)\n",
      "Requirement already satisfied: traitlets>=4.3.2 in c:\\users\\lekeu\\anaconda4\\lib\\site-packages (from pydeck>=0.1.dev5->streamlit>=0.57.3->melusine) (5.0.5)\n",
      "Requirement already satisfied: ipywidgets>=7.0.0 in c:\\users\\lekeu\\anaconda4\\lib\\site-packages (from pydeck>=0.1.dev5->streamlit>=0.57.3->melusine) (7.5.1)\n",
      "Requirement already satisfied: ipykernel>=5.1.2 in c:\\users\\lekeu\\anaconda4\\lib\\site-packages (from pydeck>=0.1.dev5->streamlit>=0.57.3->melusine) (5.3.4)\n",
      "Requirement already satisfied: ipython>=5.0.0 in c:\\users\\lekeu\\anaconda4\\lib\\site-packages (from ipykernel>=5.1.2->pydeck>=0.1.dev5->streamlit>=0.57.3->melusine) (7.19.0)\n",
      "Requirement already satisfied: jupyter-client in c:\\users\\lekeu\\anaconda4\\lib\\site-packages (from ipykernel>=5.1.2->pydeck>=0.1.dev5->streamlit>=0.57.3->melusine) (6.1.7)\n",
      "Requirement already satisfied: decorator in c:\\users\\lekeu\\anaconda4\\lib\\site-packages (from ipython>=5.0.0->ipykernel>=5.1.2->pydeck>=0.1.dev5->streamlit>=0.57.3->melusine) (4.4.2)\n",
      "Requirement already satisfied: pygments in c:\\users\\lekeu\\anaconda4\\lib\\site-packages (from ipython>=5.0.0->ipykernel>=5.1.2->pydeck>=0.1.dev5->streamlit>=0.57.3->melusine) (2.7.2)\n",
      "Requirement already satisfied: colorama in c:\\users\\lekeu\\anaconda4\\lib\\site-packages (from ipython>=5.0.0->ipykernel>=5.1.2->pydeck>=0.1.dev5->streamlit>=0.57.3->melusine) (0.4.4)\n",
      "Requirement already satisfied: pickleshare in c:\\users\\lekeu\\anaconda4\\lib\\site-packages (from ipython>=5.0.0->ipykernel>=5.1.2->pydeck>=0.1.dev5->streamlit>=0.57.3->melusine) (0.7.5)\n",
      "Requirement already satisfied: prompt-toolkit!=3.0.0,!=3.0.1,<3.1.0,>=2.0.0 in c:\\users\\lekeu\\anaconda4\\lib\\site-packages (from ipython>=5.0.0->ipykernel>=5.1.2->pydeck>=0.1.dev5->streamlit>=0.57.3->melusine) (3.0.8)\n",
      "Requirement already satisfied: setuptools>=18.5 in c:\\users\\lekeu\\appdata\\roaming\\python\\python38\\site-packages (from ipython>=5.0.0->ipykernel>=5.1.2->pydeck>=0.1.dev5->streamlit>=0.57.3->melusine) (54.0.0)\n",
      "Requirement already satisfied: backcall in c:\\users\\lekeu\\anaconda4\\lib\\site-packages (from ipython>=5.0.0->ipykernel>=5.1.2->pydeck>=0.1.dev5->streamlit>=0.57.3->melusine) (0.2.0)\n",
      "Requirement already satisfied: jedi>=0.10 in c:\\users\\lekeu\\anaconda4\\lib\\site-packages (from ipython>=5.0.0->ipykernel>=5.1.2->pydeck>=0.1.dev5->streamlit>=0.57.3->melusine) (0.17.1)\n",
      "Requirement already satisfied: nbformat>=4.2.0 in c:\\users\\lekeu\\anaconda4\\lib\\site-packages (from ipywidgets>=7.0.0->pydeck>=0.1.dev5->streamlit>=0.57.3->melusine) (5.0.8)\n",
      "Requirement already satisfied: widgetsnbextension~=3.5.0 in c:\\users\\lekeu\\anaconda4\\lib\\site-packages (from ipywidgets>=7.0.0->pydeck>=0.1.dev5->streamlit>=0.57.3->melusine) (3.5.1)\n",
      "Requirement already satisfied: parso<0.8.0,>=0.7.0 in c:\\users\\lekeu\\anaconda4\\lib\\site-packages (from jedi>=0.10->ipython>=5.0.0->ipykernel>=5.1.2->pydeck>=0.1.dev5->streamlit>=0.57.3->melusine) (0.7.0)\n",
      "Requirement already satisfied: MarkupSafe>=0.23 in c:\\users\\lekeu\\anaconda4\\lib\\site-packages (from jinja2->altair>=3.2.0->streamlit>=0.57.3->melusine) (1.1.1)\n",
      "Requirement already satisfied: ipython-genutils in c:\\users\\lekeu\\anaconda4\\lib\\site-packages (from nbformat>=4.2.0->ipywidgets>=7.0.0->pydeck>=0.1.dev5->streamlit>=0.57.3->melusine) (0.2.0)\n",
      "Requirement already satisfied: jupyter-core in c:\\users\\lekeu\\anaconda4\\lib\\site-packages (from nbformat>=4.2.0->ipywidgets>=7.0.0->pydeck>=0.1.dev5->streamlit>=0.57.3->melusine) (4.6.3)\n",
      "Requirement already satisfied: pyrsistent>=0.14.0 in c:\\users\\lekeu\\anaconda4\\lib\\site-packages (from jsonschema->altair>=3.2.0->streamlit>=0.57.3->melusine) (0.17.3)\n",
      "Requirement already satisfied: attrs>=17.4.0 in c:\\users\\lekeu\\anaconda4\\lib\\site-packages (from jsonschema->altair>=3.2.0->streamlit>=0.57.3->melusine) (20.3.0)\n",
      "Requirement already satisfied: wcwidth in c:\\users\\lekeu\\anaconda4\\lib\\site-packages (from prompt-toolkit!=3.0.0,!=3.0.1,<3.1.0,>=2.0.0->ipython>=5.0.0->ipykernel>=5.1.2->pydeck>=0.1.dev5->streamlit>=0.57.3->melusine) (0.2.5)\n",
      "Requirement already satisfied: google-pasta~=0.2 in c:\\users\\lekeu\\anaconda4\\lib\\site-packages (from tensorflow>=2.0.0->melusine) (0.2.0)\n",
      "Requirement already satisfied: tensorboard~=2.4 in c:\\users\\lekeu\\anaconda4\\lib\\site-packages (from tensorflow>=2.0.0->melusine) (2.4.1)\n",
      "Requirement already satisfied: wrapt~=1.12.1 in c:\\users\\lekeu\\anaconda4\\lib\\site-packages (from tensorflow>=2.0.0->melusine) (1.12.1)\n",
      "Requirement already satisfied: opt-einsum~=3.3.0 in c:\\users\\lekeu\\appdata\\roaming\\python\\python38\\site-packages (from tensorflow>=2.0.0->melusine) (3.3.0)\n",
      "Collecting tensorflow>=2.0.0\n",
      "  Using cached tensorflow-2.4.0-cp38-cp38-win_amd64.whl (370.7 MB)\n",
      "  Using cached tensorflow-2.3.2-cp38-cp38-win_amd64.whl (342.5 MB)\n",
      "Requirement already satisfied: grpcio>=1.8.6 in c:\\users\\lekeu\\appdata\\roaming\\python\\python38\\site-packages (from tensorflow>=2.0.0->melusine) (1.32.0)\n",
      "Requirement already satisfied: keras-preprocessing<1.2,>=1.1.1 in c:\\users\\lekeu\\anaconda4\\lib\\site-packages (from tensorflow>=2.0.0->melusine) (1.1.2)\n",
      "Requirement already satisfied: absl-py>=0.7.0 in c:\\users\\lekeu\\anaconda4\\lib\\site-packages (from tensorflow>=2.0.0->melusine) (0.12.0)\n",
      "Requirement already satisfied: termcolor>=1.1.0 in c:\\users\\lekeu\\anaconda4\\lib\\site-packages (from tensorflow>=2.0.0->melusine) (1.1.0)\n",
      "Requirement already satisfied: astunparse==1.6.3 in c:\\users\\lekeu\\anaconda4\\lib\\site-packages (from tensorflow>=2.0.0->melusine) (1.6.3)\n",
      "Requirement already satisfied: wheel>=0.26 in c:\\users\\lekeu\\appdata\\roaming\\python\\python38\\site-packages (from tensorflow>=2.0.0->melusine) (0.36.2)\n",
      "Requirement already satisfied: gast==0.3.3 in c:\\users\\lekeu\\appdata\\roaming\\python\\python38\\site-packages (from tensorflow>=2.0.0->melusine) (0.3.3)\n",
      "Collecting tensorflow-estimator<2.4.0,>=2.3.0\n",
      "  Using cached tensorflow_estimator-2.3.0-py2.py3-none-any.whl (459 kB)\n",
      "Requirement already satisfied: tensorboard-plugin-wit>=1.6.0 in c:\\users\\lekeu\\anaconda4\\lib\\site-packages (from tensorboard~=2.4->tensorflow>=2.0.0->melusine) (1.8.0)\n",
      "Requirement already satisfied: google-auth-oauthlib<0.5,>=0.4.1 in c:\\users\\lekeu\\anaconda4\\lib\\site-packages (from tensorboard~=2.4->tensorflow>=2.0.0->melusine) (0.4.3)\n",
      "Requirement already satisfied: werkzeug>=0.11.15 in c:\\users\\lekeu\\anaconda4\\lib\\site-packages (from tensorboard~=2.4->tensorflow>=2.0.0->melusine) (1.0.1)\n",
      "Requirement already satisfied: markdown>=2.6.8 in c:\\users\\lekeu\\anaconda4\\lib\\site-packages (from tensorboard~=2.4->tensorflow>=2.0.0->melusine) (3.3.4)\n",
      "Requirement already satisfied: google-auth<2,>=1.6.3 in c:\\users\\lekeu\\anaconda4\\lib\\site-packages (from tensorboard~=2.4->tensorflow>=2.0.0->melusine) (1.24.0)\n",
      "Requirement already satisfied: pyasn1-modules>=0.2.1 in c:\\users\\lekeu\\anaconda4\\lib\\site-packages (from google-auth<2,>=1.6.3->tensorboard~=2.4->tensorflow>=2.0.0->melusine) (0.2.7)\n",
      "Requirement already satisfied: rsa<5,>=3.1.4 in c:\\users\\lekeu\\anaconda4\\lib\\site-packages (from google-auth<2,>=1.6.3->tensorboard~=2.4->tensorflow>=2.0.0->melusine) (4.7.2)\n",
      "Requirement already satisfied: requests-oauthlib>=0.7.0 in c:\\users\\lekeu\\anaconda4\\lib\\site-packages (from google-auth-oauthlib<0.5,>=0.4.1->tensorboard~=2.4->tensorflow>=2.0.0->melusine) (1.3.0)\n",
      "Requirement already satisfied: pyasn1<0.5.0,>=0.4.6 in c:\\users\\lekeu\\anaconda4\\lib\\site-packages (from pyasn1-modules>=0.2.1->google-auth<2,>=1.6.3->tensorboard~=2.4->tensorflow>=2.0.0->melusine) (0.4.8)\n",
      "Requirement already satisfied: idna<3,>=2.5 in c:\\users\\lekeu\\anaconda4\\lib\\site-packages (from requests->transformers==3.4.0->melusine) (2.10)\n",
      "Requirement already satisfied: urllib3!=1.25.0,!=1.25.1,<1.26,>=1.21.1 in c:\\users\\lekeu\\anaconda4\\lib\\site-packages (from requests->transformers==3.4.0->melusine) (1.25.11)\n",
      "Requirement already satisfied: chardet<4,>=3.0.2 in c:\\users\\lekeu\\anaconda4\\lib\\site-packages (from requests->transformers==3.4.0->melusine) (3.0.4)\n",
      "Requirement already satisfied: certifi>=2017.4.17 in c:\\users\\lekeu\\anaconda4\\lib\\site-packages (from requests->transformers==3.4.0->melusine) (2020.6.20)\n",
      "Requirement already satisfied: oauthlib>=3.0.0 in c:\\users\\lekeu\\anaconda4\\lib\\site-packages (from requests-oauthlib>=0.7.0->google-auth-oauthlib<0.5,>=0.4.1->tensorboard~=2.4->tensorflow>=2.0.0->melusine) (3.1.0)\n",
      "Requirement already satisfied: notebook>=4.4.1 in c:\\users\\lekeu\\anaconda4\\lib\\site-packages (from widgetsnbextension~=3.5.0->ipywidgets>=7.0.0->pydeck>=0.1.dev5->streamlit>=0.57.3->melusine) (6.1.4)\n",
      "Requirement already satisfied: nbconvert in c:\\users\\lekeu\\anaconda4\\lib\\site-packages (from notebook>=4.4.1->widgetsnbextension~=3.5.0->ipywidgets>=7.0.0->pydeck>=0.1.dev5->streamlit>=0.57.3->melusine) (6.0.7)\n",
      "Requirement already satisfied: pyzmq>=17 in c:\\users\\lekeu\\anaconda4\\lib\\site-packages (from notebook>=4.4.1->widgetsnbextension~=3.5.0->ipywidgets>=7.0.0->pydeck>=0.1.dev5->streamlit>=0.57.3->melusine) (19.0.2)\n",
      "Requirement already satisfied: prometheus-client in c:\\users\\lekeu\\anaconda4\\lib\\site-packages (from notebook>=4.4.1->widgetsnbextension~=3.5.0->ipywidgets>=7.0.0->pydeck>=0.1.dev5->streamlit>=0.57.3->melusine) (0.8.0)\n",
      "Requirement already satisfied: argon2-cffi in c:\\users\\lekeu\\anaconda4\\lib\\site-packages (from notebook>=4.4.1->widgetsnbextension~=3.5.0->ipywidgets>=7.0.0->pydeck>=0.1.dev5->streamlit>=0.57.3->melusine) (20.1.0)\n",
      "Requirement already satisfied: terminado>=0.8.3 in c:\\users\\lekeu\\anaconda4\\lib\\site-packages (from notebook>=4.4.1->widgetsnbextension~=3.5.0->ipywidgets>=7.0.0->pydeck>=0.1.dev5->streamlit>=0.57.3->melusine) (0.9.1)\n",
      "Requirement already satisfied: Send2Trash in c:\\users\\lekeu\\anaconda4\\lib\\site-packages (from notebook>=4.4.1->widgetsnbextension~=3.5.0->ipywidgets>=7.0.0->pydeck>=0.1.dev5->streamlit>=0.57.3->melusine) (1.5.0)\n",
      "Requirement already satisfied: pywin32>=1.0 in c:\\users\\lekeu\\anaconda4\\lib\\site-packages (from jupyter-core->nbformat>=4.2.0->ipywidgets>=7.0.0->pydeck>=0.1.dev5->streamlit>=0.57.3->melusine) (227)\n",
      "Requirement already satisfied: pywinpty>=0.5 in c:\\users\\lekeu\\anaconda4\\lib\\site-packages (from terminado>=0.8.3->notebook>=4.4.1->widgetsnbextension~=3.5.0->ipywidgets>=7.0.0->pydeck>=0.1.dev5->streamlit>=0.57.3->melusine) (0.5.7)\n",
      "Requirement already satisfied: cffi>=1.0.0 in c:\\users\\lekeu\\anaconda4\\lib\\site-packages (from argon2-cffi->notebook>=4.4.1->widgetsnbextension~=3.5.0->ipywidgets>=7.0.0->pydeck>=0.1.dev5->streamlit>=0.57.3->melusine) (1.14.3)\n",
      "Requirement already satisfied: pycparser in c:\\users\\lekeu\\anaconda4\\lib\\site-packages (from cffi>=1.0.0->argon2-cffi->notebook>=4.4.1->widgetsnbextension~=3.5.0->ipywidgets>=7.0.0->pydeck>=0.1.dev5->streamlit>=0.57.3->melusine) (2.20)\n",
      "Collecting gitdb<5,>=4.0.1\n",
      "  Using cached gitdb-4.0.7-py3-none-any.whl (63 kB)\n",
      "Requirement already satisfied: smmap<5,>=3.0.1 in c:\\users\\lekeu\\anaconda4\\lib\\site-packages (from gitdb<5,>=4.0.1->gitpython->streamlit>=0.57.3->melusine) (4.0.0)\n",
      "Requirement already satisfied: defusedxml in c:\\users\\lekeu\\anaconda4\\lib\\site-packages (from nbconvert->notebook>=4.4.1->widgetsnbextension~=3.5.0->ipywidgets>=7.0.0->pydeck>=0.1.dev5->streamlit>=0.57.3->melusine) (0.6.0)\n",
      "Requirement already satisfied: nbclient<0.6.0,>=0.5.0 in c:\\users\\lekeu\\anaconda4\\lib\\site-packages (from nbconvert->notebook>=4.4.1->widgetsnbextension~=3.5.0->ipywidgets>=7.0.0->pydeck>=0.1.dev5->streamlit>=0.57.3->melusine) (0.5.1)\n",
      "Requirement already satisfied: pandocfilters>=1.4.1 in c:\\users\\lekeu\\anaconda4\\lib\\site-packages (from nbconvert->notebook>=4.4.1->widgetsnbextension~=3.5.0->ipywidgets>=7.0.0->pydeck>=0.1.dev5->streamlit>=0.57.3->melusine) (1.4.3)\n",
      "Requirement already satisfied: mistune<2,>=0.8.1 in c:\\users\\lekeu\\anaconda4\\lib\\site-packages (from nbconvert->notebook>=4.4.1->widgetsnbextension~=3.5.0->ipywidgets>=7.0.0->pydeck>=0.1.dev5->streamlit>=0.57.3->melusine) (0.8.4)\n",
      "Requirement already satisfied: testpath in c:\\users\\lekeu\\anaconda4\\lib\\site-packages (from nbconvert->notebook>=4.4.1->widgetsnbextension~=3.5.0->ipywidgets>=7.0.0->pydeck>=0.1.dev5->streamlit>=0.57.3->melusine) (0.4.4)\n",
      "Requirement already satisfied: bleach in c:\\users\\lekeu\\anaconda4\\lib\\site-packages (from nbconvert->notebook>=4.4.1->widgetsnbextension~=3.5.0->ipywidgets>=7.0.0->pydeck>=0.1.dev5->streamlit>=0.57.3->melusine) (3.2.1)\n",
      "Requirement already satisfied: jupyterlab-pygments in c:\\users\\lekeu\\anaconda4\\lib\\site-packages (from nbconvert->notebook>=4.4.1->widgetsnbextension~=3.5.0->ipywidgets>=7.0.0->pydeck>=0.1.dev5->streamlit>=0.57.3->melusine) (0.1.2)\n",
      "Requirement already satisfied: nest-asyncio in c:\\users\\lekeu\\anaconda4\\lib\\site-packages (from nbclient<0.6.0,>=0.5.0->nbconvert->notebook>=4.4.1->widgetsnbextension~=3.5.0->ipywidgets>=7.0.0->pydeck>=0.1.dev5->streamlit>=0.57.3->melusine) (1.4.2)\n",
      "Requirement already satisfied: async-generator in c:\\users\\lekeu\\anaconda4\\lib\\site-packages (from nbclient<0.6.0,>=0.5.0->nbconvert->notebook>=4.4.1->widgetsnbextension~=3.5.0->ipywidgets>=7.0.0->pydeck>=0.1.dev5->streamlit>=0.57.3->melusine) (1.10)\n",
      "Requirement already satisfied: webencodings in c:\\users\\lekeu\\anaconda4\\lib\\site-packages (from bleach->nbconvert->notebook>=4.4.1->widgetsnbextension~=3.5.0->ipywidgets>=7.0.0->pydeck>=0.1.dev5->streamlit>=0.57.3->melusine) (0.5.1)\n",
      "Requirement already satisfied: pyparsing>=2.0.2 in c:\\users\\lekeu\\anaconda4\\lib\\site-packages (from packaging->transformers==3.4.0->melusine) (2.4.7)\n",
      "Collecting retrying>=1.3.3\n",
      "  Using cached retrying-1.3.3-py3-none-any.whl\n",
      "Requirement already satisfied: pathtools>=0.1.1 in c:\\users\\lekeu\\anaconda4\\lib\\site-packages (from watchdog->streamlit>=0.57.3->melusine) (0.1.2)\n",
      "Installing collected packages: numpy, gitdb, validators, tzlocal, tokenizers, tensorflow-estimator, sentencepiece, sacremoses, retrying, pydeck, pyarrow, gitpython, blinker, base58, astor, altair, unidecode, transformers, tensorflow, streamlit, plotly, gensim, flashtext, melusine\n",
      "  Attempting uninstall: numpy\n",
      "    Found existing installation: numpy 1.19.2\n",
      "    Uninstalling numpy-1.19.2:\n",
      "      Successfully uninstalled numpy-1.19.2\n",
      "  Attempting uninstall: tensorflow-estimator\n",
      "    Found existing installation: tensorflow-estimator 2.4.0\n",
      "    Uninstalling tensorflow-estimator-2.4.0:\n",
      "      Successfully uninstalled tensorflow-estimator-2.4.0\n",
      "  Attempting uninstall: tensorflow\n",
      "    Found existing installation: tensorflow 2.4.1\n",
      "    Uninstalling tensorflow-2.4.1:\n",
      "      Successfully uninstalled tensorflow-2.4.1\n",
      "Successfully installed altair-4.1.0 astor-0.8.1 base58-2.1.0 blinker-1.4 flashtext-2.7 gensim-4.0.1 gitdb-4.0.7 gitpython-3.1.14 melusine-2.2.6 numpy-1.18.5 plotly-4.14.3 pyarrow-3.0.0 pydeck-0.6.2 retrying-1.3.3 sacremoses-0.0.45 sentencepiece-0.1.95 streamlit-0.80.0 tensorflow-2.3.2 tensorflow-estimator-2.4.0 tokenizers-0.9.2 transformers-3.4.0 tzlocal-2.1 unidecode-1.2.0 validators-0.18.2\n"
     ]
    }
   ],
   "source": [
    "!pip install melusine"
   ]
  },
  {
   "cell_type": "code",
   "execution_count": 5,
   "metadata": {},
   "outputs": [
    {
     "name": "stdout",
     "output_type": "stream",
     "text": [
      "Collecting xlrd\n",
      "  Downloading xlrd-2.0.1-py2.py3-none-any.whl (96 kB)\n",
      "Installing collected packages: xlrd\n",
      "Successfully installed xlrd-2.0.1\n"
     ]
    }
   ],
   "source": [
    "!pip install xlrd"
   ]
  },
  {
   "cell_type": "code",
   "execution_count": 6,
   "metadata": {},
   "outputs": [],
   "source": [
    "import melusine\n",
    "import pandas as pd"
   ]
  },
  {
   "cell_type": "code",
   "execution_count": 7,
   "metadata": {},
   "outputs": [
    {
     "ename": "ValueError",
     "evalue": "Your version of xlrd is 2.0.1. In xlrd >= 2.0, only the xls format is supported. Install openpyxl instead.",
     "output_type": "error",
     "traceback": [
      "\u001b[1;31m---------------------------------------------------------------------------\u001b[0m",
      "\u001b[1;31mValueError\u001b[0m                                Traceback (most recent call last)",
      "\u001b[1;32m<ipython-input-7-17414be79db7>\u001b[0m in \u001b[0;36m<module>\u001b[1;34m\u001b[0m\n\u001b[1;32m----> 1\u001b[1;33m \u001b[0mdf1\u001b[0m \u001b[1;33m=\u001b[0m \u001b[0mpd\u001b[0m\u001b[1;33m.\u001b[0m\u001b[0mread_excel\u001b[0m\u001b[1;33m(\u001b[0m\u001b[1;34m\"final_210416.xlsx\"\u001b[0m\u001b[1;33m)\u001b[0m\u001b[1;33m\u001b[0m\u001b[1;33m\u001b[0m\u001b[0m\n\u001b[0m",
      "\u001b[1;32m~\\AppData\\Roaming\\Python\\Python38\\site-packages\\pandas\\util\\_decorators.py\u001b[0m in \u001b[0;36mwrapper\u001b[1;34m(*args, **kwargs)\u001b[0m\n\u001b[0;32m    297\u001b[0m                 )\n\u001b[0;32m    298\u001b[0m                 \u001b[0mwarnings\u001b[0m\u001b[1;33m.\u001b[0m\u001b[0mwarn\u001b[0m\u001b[1;33m(\u001b[0m\u001b[0mmsg\u001b[0m\u001b[1;33m,\u001b[0m \u001b[0mFutureWarning\u001b[0m\u001b[1;33m,\u001b[0m \u001b[0mstacklevel\u001b[0m\u001b[1;33m=\u001b[0m\u001b[0mstacklevel\u001b[0m\u001b[1;33m)\u001b[0m\u001b[1;33m\u001b[0m\u001b[1;33m\u001b[0m\u001b[0m\n\u001b[1;32m--> 299\u001b[1;33m             \u001b[1;32mreturn\u001b[0m \u001b[0mfunc\u001b[0m\u001b[1;33m(\u001b[0m\u001b[1;33m*\u001b[0m\u001b[0margs\u001b[0m\u001b[1;33m,\u001b[0m \u001b[1;33m**\u001b[0m\u001b[0mkwargs\u001b[0m\u001b[1;33m)\u001b[0m\u001b[1;33m\u001b[0m\u001b[1;33m\u001b[0m\u001b[0m\n\u001b[0m\u001b[0;32m    300\u001b[0m \u001b[1;33m\u001b[0m\u001b[0m\n\u001b[0;32m    301\u001b[0m         \u001b[1;32mreturn\u001b[0m \u001b[0mwrapper\u001b[0m\u001b[1;33m\u001b[0m\u001b[1;33m\u001b[0m\u001b[0m\n",
      "\u001b[1;32m~\\AppData\\Roaming\\Python\\Python38\\site-packages\\pandas\\io\\excel\\_base.py\u001b[0m in \u001b[0;36mread_excel\u001b[1;34m(io, sheet_name, header, names, index_col, usecols, squeeze, dtype, engine, converters, true_values, false_values, skiprows, nrows, na_values, keep_default_na, na_filter, verbose, parse_dates, date_parser, thousands, comment, skipfooter, convert_float, mangle_dupe_cols, storage_options)\u001b[0m\n\u001b[0;32m    334\u001b[0m     \u001b[1;32mif\u001b[0m \u001b[1;32mnot\u001b[0m \u001b[0misinstance\u001b[0m\u001b[1;33m(\u001b[0m\u001b[0mio\u001b[0m\u001b[1;33m,\u001b[0m \u001b[0mExcelFile\u001b[0m\u001b[1;33m)\u001b[0m\u001b[1;33m:\u001b[0m\u001b[1;33m\u001b[0m\u001b[1;33m\u001b[0m\u001b[0m\n\u001b[0;32m    335\u001b[0m         \u001b[0mshould_close\u001b[0m \u001b[1;33m=\u001b[0m \u001b[1;32mTrue\u001b[0m\u001b[1;33m\u001b[0m\u001b[1;33m\u001b[0m\u001b[0m\n\u001b[1;32m--> 336\u001b[1;33m         \u001b[0mio\u001b[0m \u001b[1;33m=\u001b[0m \u001b[0mExcelFile\u001b[0m\u001b[1;33m(\u001b[0m\u001b[0mio\u001b[0m\u001b[1;33m,\u001b[0m \u001b[0mstorage_options\u001b[0m\u001b[1;33m=\u001b[0m\u001b[0mstorage_options\u001b[0m\u001b[1;33m,\u001b[0m \u001b[0mengine\u001b[0m\u001b[1;33m=\u001b[0m\u001b[0mengine\u001b[0m\u001b[1;33m)\u001b[0m\u001b[1;33m\u001b[0m\u001b[1;33m\u001b[0m\u001b[0m\n\u001b[0m\u001b[0;32m    337\u001b[0m     \u001b[1;32melif\u001b[0m \u001b[0mengine\u001b[0m \u001b[1;32mand\u001b[0m \u001b[0mengine\u001b[0m \u001b[1;33m!=\u001b[0m \u001b[0mio\u001b[0m\u001b[1;33m.\u001b[0m\u001b[0mengine\u001b[0m\u001b[1;33m:\u001b[0m\u001b[1;33m\u001b[0m\u001b[1;33m\u001b[0m\u001b[0m\n\u001b[0;32m    338\u001b[0m         raise ValueError(\n",
      "\u001b[1;32m~\\AppData\\Roaming\\Python\\Python38\\site-packages\\pandas\\io\\excel\\_base.py\u001b[0m in \u001b[0;36m__init__\u001b[1;34m(self, path_or_buffer, engine, storage_options)\u001b[0m\n\u001b[0;32m   1100\u001b[0m \u001b[1;33m\u001b[0m\u001b[0m\n\u001b[0;32m   1101\u001b[0m             \u001b[1;32mif\u001b[0m \u001b[0mext\u001b[0m \u001b[1;33m!=\u001b[0m \u001b[1;34m\"xls\"\u001b[0m \u001b[1;32mand\u001b[0m \u001b[0mxlrd_version\u001b[0m \u001b[1;33m>=\u001b[0m \u001b[1;34m\"2\"\u001b[0m\u001b[1;33m:\u001b[0m\u001b[1;33m\u001b[0m\u001b[1;33m\u001b[0m\u001b[0m\n\u001b[1;32m-> 1102\u001b[1;33m                 raise ValueError(\n\u001b[0m\u001b[0;32m   1103\u001b[0m                     \u001b[1;34mf\"Your version of xlrd is {xlrd_version}. In xlrd >= 2.0, \"\u001b[0m\u001b[1;33m\u001b[0m\u001b[1;33m\u001b[0m\u001b[0m\n\u001b[0;32m   1104\u001b[0m                     \u001b[1;34mf\"only the xls format is supported. Install openpyxl instead.\"\u001b[0m\u001b[1;33m\u001b[0m\u001b[1;33m\u001b[0m\u001b[0m\n",
      "\u001b[1;31mValueError\u001b[0m: Your version of xlrd is 2.0.1. In xlrd >= 2.0, only the xls format is supported. Install openpyxl instead."
     ]
    }
   ],
   "source": [
    "df1 = pd.read_excel(\"final_210416.xlsx\")"
   ]
  },
  {
   "cell_type": "code",
   "execution_count": null,
   "metadata": {},
   "outputs": [],
   "source": [
    "df_email = df1.head(1900)"
   ]
  },
  {
   "cell_type": "code",
   "execution_count": null,
   "metadata": {},
   "outputs": [],
   "source": [
    "from sklearn.pipeline import Pipeline\n",
    "from melusine.utils.transformer_scheduler import TransformerScheduler\n",
    "from melusine.prepare_email.manage_transfer_reply import check_mail_begin_by_transfer, update_info_for_transfer_mail, add_boolean_transfer, add_boolean_answer\n",
    "from melusine.prepare_email.build_historic import build_historic\n",
    "from melusine.prepare_email.mail_segmenting import structure_email\n",
    "from melusine.prepare_email.body_header_extraction import extract_last_body\n",
    "from melusine.prepare_email.cleaning import clean_body"
   ]
  },
  {
   "cell_type": "code",
   "execution_count": null,
   "metadata": {},
   "outputs": [],
   "source": [
    "ManageTransferReply = TransformerScheduler(\n",
    "functions_scheduler=[\n",
    "    (check_mail_begin_by_transfer, None, ['is_begin_by_transfer']),\n",
    "    (update_info_for_transfer_mail, None, None),\n",
    "    (add_boolean_answer, None, ['is_answer']),\n",
    "    (add_boolean_transfer, None, ['is_transfer'])\n",
    "])\n",
    "\n",
    "EmailSegmenting = TransformerScheduler(\n",
    "functions_scheduler=[\n",
    "    (build_historic, None, ['structured_historic']),\n",
    "    (structure_email, None, ['structured_body'])\n",
    "])\n",
    "\n",
    "Cleaning = TransformerScheduler(\n",
    "functions_scheduler=[\n",
    "    (extract_last_body, None, ['last_body']),\n",
    "    (clean_body, None, ['clean_body'])\n",
    "])\n",
    "\n",
    "prepare_data_pipeline = Pipeline([\n",
    "  ('ManageTransferReply', ManageTransferReply),\n",
    "  ('EmailSegmenting', EmailSegmenting),\n",
    "  ('Cleaning', Cleaning),\n",
    "])\n",
    "\n",
    "df_email = prepare_data_pipeline.fit_transform(df_email)"
   ]
  },
  {
   "cell_type": "code",
   "execution_count": null,
   "metadata": {},
   "outputs": [],
   "source": [
    "from melusine.nlp_tools.phraser import Phraser, phraser_on_body\n",
    "from melusine.nlp_tools.tokenizer import Tokenizer\n",
    "\n",
    "phraser = Phraser(input_column='clean_body')\n",
    "phraser.train(df_email)\n",
    "\n",
    "PhraserTransformer = TransformerScheduler(\n",
    "functions_scheduler=[\n",
    "    (phraser_on_body, (phraser,), ['clean_body'])\n",
    "])\n",
    "\n",
    "phraser_tokenizer_pipeline = Pipeline([\n",
    "  ('PhraserTransformer', PhraserTransformer),\n",
    "  ('Tokenizer', Tokenizer(input_column='clean_body'))\n",
    "])\n",
    "\n",
    "df_email = phraser_tokenizer_pipeline.fit_transform(df_email)"
   ]
  },
  {
   "cell_type": "code",
   "execution_count": null,
   "metadata": {},
   "outputs": [],
   "source": [
    "from melusine.nlp_tools.embedding import Embedding\n",
    "\n",
    "embedding = Embedding(input_column='clean_body', min_count=10)\n",
    "embedding.train(df_email)"
   ]
  },
  {
   "cell_type": "code",
   "execution_count": null,
   "metadata": {},
   "outputs": [],
   "source": [
    "from melusine.prepare_email.metadata_engineering import MetaExtension, MetaDate, Dummifier\n",
    "\n",
    "metadata_pipeline = Pipeline([\n",
    "  ('MetaExtension', MetaExtension()),\n",
    "  ('MetaDate', MetaDate()),\n",
    "  ('Dummifier', Dummifier())\n",
    "])\n",
    "\n",
    "df_meta = metadata_pipeline.fit_transform(df_email)"
   ]
  },
  {
   "cell_type": "code",
   "execution_count": null,
   "metadata": {},
   "outputs": [],
   "source": [
    "from melusine.summarizer.keywords_generator import KeywordsGenerator\n",
    "\n",
    "keywords_generator = KeywordsGenerator()\n",
    "df_email = keywords_generator.fit_transform(df_email)"
   ]
  },
  {
   "cell_type": "code",
   "execution_count": null,
   "metadata": {},
   "outputs": [],
   "source": [
    "from sklearn.preprocessing import LabelEncoder\n",
    "from melusine.nlp_tools.embedding import Embedding\n",
    "from melusine.models.neural_architectures import cnn_model\n",
    "from melusine.models.train import NeuralModel\n",
    "\n",
    "X = df_email.drop(['label'], axis=1)\n",
    "y = df_email.label\n",
    "\n",
    "le = LabelEncoder()\n",
    "y = le.fit_transform(y)\n",
    "\n",
    "pretrained_embedding = embedding\n",
    "\n",
    "nn_model = NeuralModel(architecture_function=cnn_model,\n",
    "                       pretrained_embedding=pretrained_embedding,\n",
    "                       text_input_column='clean_body')\n",
    "nn_model.fit(X, y, tensorboard_log_dir=\"./data\")\n",
    "y_res = nn_model.predict(X)"
   ]
  }
 ],
 "metadata": {
  "kernelspec": {
   "display_name": "Python 3",
   "language": "python",
   "name": "python3"
  },
  "language_info": {
   "codemirror_mode": {
    "name": "ipython",
    "version": 3
   },
   "file_extension": ".py",
   "mimetype": "text/x-python",
   "name": "python",
   "nbconvert_exporter": "python",
   "pygments_lexer": "ipython3",
   "version": "3.8.8"
  }
 },
 "nbformat": 4,
 "nbformat_minor": 4
}
